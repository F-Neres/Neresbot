{
 "cells": [
  {
   "attachments": {},
   "cell_type": "markdown",
   "metadata": {},
   "source": [
    "# Neresbot 0.1"
   ]
  },
  {
   "attachments": {},
   "cell_type": "markdown",
   "metadata": {},
   "source": [
    "Modelos:\n",
    "* Convolução\n",
    "* Long Short-Term Memory\n",
    "* SARIMA"
   ]
  },
  {
   "attachments": {},
   "cell_type": "markdown",
   "metadata": {},
   "source": [
    "# Download dos Dados"
   ]
  },
  {
   "attachments": {},
   "cell_type": "markdown",
   "metadata": {},
   "source": [
    "A partir da API brapi: https://brapi.dev/docs"
   ]
  },
  {
   "attachments": {},
   "cell_type": "markdown",
   "metadata": {},
   "source": [
    "Os símbolos dos tickets são obtidos manualmente do site: https://www.dadosdemercado.com.br/bolsa/acoes"
   ]
  },
  {
   "attachments": {},
   "cell_type": "markdown",
   "metadata": {},
   "source": [
    "É criado um dicionário que conterá, como chave, o símbolo do ticket e, como valor, o dataframe relacionando medidas e períodos (dias)."
   ]
  },
  {
   "attachments": {},
   "cell_type": "markdown",
   "metadata": {},
   "source": [
    "Em cada dataframe é adicionado o devido dia da semana, numericamente."
   ]
  },
  {
   "attachments": {},
   "cell_type": "markdown",
   "metadata": {},
   "source": [
    "# Convolução"
   ]
  },
  {
   "attachments": {},
   "cell_type": "markdown",
   "metadata": {},
   "source": [
    "## Colunas para os rótulos"
   ]
  },
  {
   "attachments": {},
   "cell_type": "markdown",
   "metadata": {},
   "source": [
    "Cada linha analisa se há aumento expressivo nos próximos 5 períodos."
   ]
  },
  {
   "attachments": {},
   "cell_type": "markdown",
   "metadata": {},
   "source": [
    "Se não houver, o rótulo será 0; Caso contrário, será o número de dias em que o aumento ocorre.  \n",
    "Há uma variável ajustável para determinar o nível do aumento."
   ]
  },
  {
   "attachments": {},
   "cell_type": "markdown",
   "metadata": {},
   "source": [
    "## Transformação das matrizes: Separando os dias como objetos numpy."
   ]
  },
  {
   "attachments": {},
   "cell_type": "markdown",
   "metadata": {},
   "source": [
    "tentar criar objetos que contenham as matrizes, os rótulos e a identificação do dia."
   ]
  },
  {
   "attachments": {},
   "cell_type": "markdown",
   "metadata": {},
   "source": [
    "O último dia não está incluso no treinamento por não possuir rótulo."
   ]
  },
  {
   "attachments": {},
   "cell_type": "markdown",
   "metadata": {},
   "source": [
    "Dimensões:\n",
    "* Medidas:\n",
    "  * Dia da semana\n",
    "  * Dia do ano\n",
    "  * Abertura\n",
    "  * Mínimo\n",
    "  * Máximo\n",
    "  * Fechamento\n",
    "  * Fechamento Ajustado\n",
    "  * Volume\n",
    "* Tickets\n",
    "* Dias (atual e anteriores)"
   ]
  },
  {
   "attachments": {},
   "cell_type": "markdown",
   "metadata": {},
   "source": [
    "Há uma variável ajustável para determinar quantos dias serão olhados para trás."
   ]
  },
  {
   "attachments": {},
   "cell_type": "markdown",
   "metadata": {},
   "source": [
    "Um dicionário de rótulos, um rótulo para cada ticket, é atrelado a cada matriz."
   ]
  },
  {
   "attachments": {},
   "cell_type": "markdown",
   "metadata": {},
   "source": [
    "## Separação entre Treino, Teste e Validação."
   ]
  },
  {
   "attachments": {},
   "cell_type": "markdown",
   "metadata": {},
   "source": [
    "É preciso garantir que as matrizes sejam embaralhadas, mas que os rótulos permaneçam atrelados adequadamente."
   ]
  },
  {
   "attachments": {},
   "cell_type": "markdown",
   "metadata": {},
   "source": [
    "## Modelo"
   ]
  },
  {
   "attachments": {},
   "cell_type": "markdown",
   "metadata": {},
   "source": [
    "* Para cada ticket (a partir do dicionário de rótulos):  \n",
    "    * O modelo é treinado seguindo aquele ticket como rótulo (com uma função)  \n",
    "    * O modelo é validado  \n",
    "    * Se o modelo é válido:  \n",
    "        * A previsão é tentada:  \n",
    "        * Se o resultado é diferente de zero E a probabilidade é alta:  \n",
    "                * O deploy é salvo"
   ]
  }
 ],
 "metadata": {
  "language_info": {
   "name": "python"
  },
  "orig_nbformat": 4
 },
 "nbformat": 4,
 "nbformat_minor": 2
}
