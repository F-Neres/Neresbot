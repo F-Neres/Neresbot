{
 "cells": [
  {
   "attachments": {},
   "cell_type": "markdown",
   "metadata": {},
   "source": [
    "# Neresbot 0.1"
   ]
  },
  {
   "attachments": {},
   "cell_type": "markdown",
   "metadata": {},
   "source": [
    "Modelos:\n",
    "* Convolução\n",
    "* Long Short-Term Memory\n",
    "* SARIMA"
   ]
  },
  {
   "cell_type": "code",
   "execution_count": 7,
   "metadata": {},
   "outputs": [],
   "source": [
    "import pandas as pd\n",
    "import requests\n",
    "import json\n",
    "from pprint import pprint\n",
    "import yahooquery as yq\n",
    "import os"
   ]
  },
  {
   "attachments": {},
   "cell_type": "markdown",
   "metadata": {},
   "source": [
    "# Download dos Dados"
   ]
  },
  {
   "attachments": {},
   "cell_type": "markdown",
   "metadata": {},
   "source": [
    "Os símbolos dos tickers são obtidos manualmente do site: https://www.dadosdemercado.com.br/bolsa/acoes"
   ]
  },
  {
   "cell_type": "code",
   "execution_count": 8,
   "metadata": {},
   "outputs": [],
   "source": [
    "tickers = pd.read_csv(\"acoes-listadas.csv\")"
   ]
  },
  {
   "cell_type": "code",
   "execution_count": 9,
   "metadata": {},
   "outputs": [
    {
     "data": {
      "text/html": [
       "<div>\n",
       "<style scoped>\n",
       "    .dataframe tbody tr th:only-of-type {\n",
       "        vertical-align: middle;\n",
       "    }\n",
       "\n",
       "    .dataframe tbody tr th {\n",
       "        vertical-align: top;\n",
       "    }\n",
       "\n",
       "    .dataframe thead th {\n",
       "        text-align: right;\n",
       "    }\n",
       "</style>\n",
       "<table border=\"1\" class=\"dataframe\">\n",
       "  <thead>\n",
       "    <tr style=\"text-align: right;\">\n",
       "      <th></th>\n",
       "      <th>Código</th>\n",
       "      <th>Nome</th>\n",
       "    </tr>\n",
       "  </thead>\n",
       "  <tbody>\n",
       "    <tr>\n",
       "      <th>0</th>\n",
       "      <td>PETR4</td>\n",
       "      <td>Petrobras</td>\n",
       "    </tr>\n",
       "    <tr>\n",
       "      <th>1</th>\n",
       "      <td>MGLU3</td>\n",
       "      <td>Magazine Luiza</td>\n",
       "    </tr>\n",
       "    <tr>\n",
       "      <th>2</th>\n",
       "      <td>HAPV3</td>\n",
       "      <td>Hapvida</td>\n",
       "    </tr>\n",
       "    <tr>\n",
       "      <th>3</th>\n",
       "      <td>CIEL3</td>\n",
       "      <td>Cielo</td>\n",
       "    </tr>\n",
       "    <tr>\n",
       "      <th>4</th>\n",
       "      <td>B3SA3</td>\n",
       "      <td>B3</td>\n",
       "    </tr>\n",
       "    <tr>\n",
       "      <th>...</th>\n",
       "      <td>...</td>\n",
       "      <td>...</td>\n",
       "    </tr>\n",
       "    <tr>\n",
       "      <th>522</th>\n",
       "      <td>TKNO3</td>\n",
       "      <td>Tekno</td>\n",
       "    </tr>\n",
       "    <tr>\n",
       "      <th>523</th>\n",
       "      <td>COCE6</td>\n",
       "      <td>Coelce</td>\n",
       "    </tr>\n",
       "    <tr>\n",
       "      <th>524</th>\n",
       "      <td>MGEL3</td>\n",
       "      <td>Mangels</td>\n",
       "    </tr>\n",
       "    <tr>\n",
       "      <th>525</th>\n",
       "      <td>CTSA8</td>\n",
       "      <td>Santanense</td>\n",
       "    </tr>\n",
       "    <tr>\n",
       "      <th>526</th>\n",
       "      <td>MMAQ4</td>\n",
       "      <td>Minasmáquinas</td>\n",
       "    </tr>\n",
       "  </tbody>\n",
       "</table>\n",
       "<p>527 rows × 2 columns</p>\n",
       "</div>"
      ],
      "text/plain": [
       "    Código            Nome\n",
       "0    PETR4       Petrobras\n",
       "1    MGLU3  Magazine Luiza\n",
       "2    HAPV3         Hapvida\n",
       "3    CIEL3           Cielo\n",
       "4    B3SA3              B3\n",
       "..     ...             ...\n",
       "522  TKNO3           Tekno\n",
       "523  COCE6          Coelce\n",
       "524  MGEL3         Mangels\n",
       "525  CTSA8      Santanense\n",
       "526  MMAQ4   Minasmáquinas\n",
       "\n",
       "[527 rows x 2 columns]"
      ]
     },
     "execution_count": 9,
     "metadata": {},
     "output_type": "execute_result"
    }
   ],
   "source": [
    "tickers"
   ]
  },
  {
   "attachments": {},
   "cell_type": "markdown",
   "metadata": {},
   "source": [
    "https://yahooquery.dpguthrie.com/"
   ]
  },
  {
   "attachments": {},
   "cell_type": "markdown",
   "metadata": {},
   "source": [
    "É criado um dicionário que conterá, como chave, o símbolo do ticker e, como valor, o dataframe relacionando medidas e períodos (dias)."
   ]
  },
  {
   "attachments": {},
   "cell_type": "markdown",
   "metadata": {},
   "source": [
    "Em cada dataframe é adicionado o devido dia da semana, numericamente."
   ]
  },
  {
   "cell_type": "code",
   "execution_count": 10,
   "metadata": {},
   "outputs": [],
   "source": [
    "# Os símbolos das empresas brasileiras recebem o sufixo \".SA\".\n",
    "\n",
    "símbolos = tickers['Código'] + '.SA'"
   ]
  },
  {
   "cell_type": "code",
   "execution_count": 13,
   "metadata": {},
   "outputs": [
    {
     "name": "stdout",
     "output_type": "stream",
     "text": [
      "None\n"
     ]
    }
   ],
   "source": [
    "# Verificando símbolos inválidos.\n",
    "\n",
    "print(yq.Ticker(símbolos, backoff_factor=1, progress=True, status_forcelist=[404, 429, 500, 502, 503, 504], asynchronous=True).invalid_symbols)"
   ]
  },
  {
   "cell_type": "code",
   "execution_count": 22,
   "metadata": {},
   "outputs": [
    {
     "name": "stdout",
     "output_type": "stream",
     "text": [
      "WIZS3.SA falhou.\n",
      "LLIS3.SA falhou.\n",
      "BRML3.SA falhou.\n",
      "DMMO3.SA falhou.\n",
      "GETT3.SA falhou.\n",
      "GETT4.SA falhou.\n",
      "SULA4.SA falhou.\n",
      "SULA3.SA falhou.\n",
      "CEPE5.SA falhou.\n",
      "CEPE6.SA falhou.\n",
      "BKBR3.SA falhou.\n",
      "MTIG4.SA falhou.\n",
      "BLUT4.SA falhou.\n",
      "BLUT3.SA falhou.\n",
      "MODL4.SA falhou.\n",
      "CARD3.SA falhou.\n",
      "FNCN3.SA falhou.\n",
      "LCAM3.SA falhou.\n",
      "BIDI4.SA falhou.\n",
      "BIDI3.SA falhou.\n",
      "EEEL4.SA falhou.\n",
      "EEEL3.SA falhou.\n",
      "BBRK3.SA falhou.\n",
      "CESP6.SA falhou.\n",
      "CESP3.SA falhou.\n",
      "CESP5.SA falhou.\n",
      "MOSI3.SA falhou.\n",
      "POWE3.SA falhou.\n",
      "GNDI3.SA falhou.\n",
      "LAME4.SA falhou.\n",
      "LAME3.SA falhou.\n",
      "OMGE3.SA falhou.\n",
      "IGTA3.SA falhou.\n",
      "JPSA3.SA falhou.\n",
      "BRDT3.SA falhou.\n",
      "JBDU4.SA falhou.\n",
      "JBDU3.SA falhou.\n",
      "HGTX3.SA falhou.\n",
      "CCPR3.SA falhou.\n",
      "DTEX3.SA falhou.\n",
      "VVAR3.SA falhou.\n",
      "PNVL4.SA falhou.\n",
      "TESA3.SA falhou.\n",
      "BTOW3.SA falhou.\n",
      "LINX3.SA falhou.\n",
      "BTTL3.SA falhou.\n",
      "GPCP3.SA falhou.\n",
      "GPCP4.SA falhou.\n",
      "SMLS3.SA falhou.\n",
      "MMXM3.SA falhou.\n",
      "BSEV3.SA falhou.\n",
      "CNTO3.SA falhou.\n",
      "TIET4.SA falhou.\n",
      "TIET3.SA falhou.\n",
      "CEPE3.SA falhou.\n",
      "CALI4.SA falhou.\n",
      "BPAR3.SA falhou.\n",
      "APTI4.SA falhou.\n",
      "467 tickers salvos com sucesso.\n",
      "58 tickers apresentaram falha\n"
     ]
    }
   ],
   "source": [
    "dados = {}\n",
    "falhas = []\n",
    "\n",
    "for ticker in símbolos:\n",
    "    query = yq.Ticker(ticker, backoff_factor=0.1, retry=3, status_forcelist=[404, 429, 500, 502, 503, 504], asynchronous=True)\n",
    "    try:\n",
    "        histórico = query.history(period='1y', interval='1d',adj_timezone=True)\n",
    "    except:\n",
    "        falhas.append(ticker)\n",
    "        print(ticker,\"falhou.\")\n",
    "    else:\n",
    "        dados[ticker] = histórico.reset_index()\n",
    "\n",
    "print(len(dados),\"tickers salvos com sucesso.\")\n",
    "print(len(falhas),\"tickers apresentaram falha\")"
   ]
  },
  {
   "cell_type": "code",
   "execution_count": 31,
   "metadata": {},
   "outputs": [],
   "source": [
    "errados = []\n",
    "\n",
    "for i,j in dados.items():\n",
    "    if 'date' not in j.columns:\n",
    "        print(i,j.columns)\n",
    "        errados.append(i)\n",
    "\n",
    "for i in errados:\n",
    "    del dados[i]\n",
    "        "
   ]
  },
  {
   "cell_type": "code",
   "execution_count": 35,
   "metadata": {},
   "outputs": [],
   "source": [
    "dados2 = {k: v.set_index('date') for k, v in dados.items()}\n"
   ]
  },
  {
   "cell_type": "code",
   "execution_count": null,
   "metadata": {},
   "outputs": [
    {
     "name": "stdout",
     "output_type": "stream",
     "text": [
      "WIZS3.SA\n"
     ]
    },
    {
     "name": "stderr",
     "output_type": "stream",
     "text": [
      "  0%|          | 0/1 [00:03<?, ?it/s]\n"
     ]
    },
    {
     "name": "stdout",
     "output_type": "stream",
     "text": [
      "LLIS3.SA\n"
     ]
    },
    {
     "name": "stderr",
     "output_type": "stream",
     "text": [
      "  0%|          | 0/1 [00:03<?, ?it/s]\n"
     ]
    },
    {
     "name": "stdout",
     "output_type": "stream",
     "text": [
      "BRML3.SA\n"
     ]
    },
    {
     "name": "stderr",
     "output_type": "stream",
     "text": [
      "  0%|          | 0/1 [00:03<?, ?it/s]\n"
     ]
    },
    {
     "name": "stdout",
     "output_type": "stream",
     "text": [
      "DMMO3.SA\n"
     ]
    },
    {
     "name": "stderr",
     "output_type": "stream",
     "text": [
      "  0%|          | 0/1 [00:03<?, ?it/s]\n"
     ]
    },
    {
     "name": "stdout",
     "output_type": "stream",
     "text": [
      "GETT3.SA\n"
     ]
    },
    {
     "name": "stderr",
     "output_type": "stream",
     "text": [
      "  0%|          | 0/1 [00:03<?, ?it/s]\n"
     ]
    },
    {
     "name": "stdout",
     "output_type": "stream",
     "text": [
      "GETT4.SA\n"
     ]
    },
    {
     "name": "stderr",
     "output_type": "stream",
     "text": [
      "  0%|          | 0/1 [00:03<?, ?it/s]\n"
     ]
    },
    {
     "name": "stdout",
     "output_type": "stream",
     "text": [
      "SULA4.SA\n"
     ]
    },
    {
     "name": "stderr",
     "output_type": "stream",
     "text": [
      "  0%|          | 0/1 [00:03<?, ?it/s]\n"
     ]
    },
    {
     "name": "stdout",
     "output_type": "stream",
     "text": [
      "SULA3.SA\n"
     ]
    },
    {
     "name": "stderr",
     "output_type": "stream",
     "text": [
      "  0%|          | 0/1 [00:04<?, ?it/s]\n"
     ]
    },
    {
     "name": "stdout",
     "output_type": "stream",
     "text": [
      "CEPE5.SA\n"
     ]
    },
    {
     "name": "stderr",
     "output_type": "stream",
     "text": [
      "  0%|          | 0/1 [00:04<?, ?it/s]\n"
     ]
    },
    {
     "name": "stdout",
     "output_type": "stream",
     "text": [
      "CEPE6.SA\n"
     ]
    },
    {
     "name": "stderr",
     "output_type": "stream",
     "text": [
      "  0%|          | 0/1 [00:03<?, ?it/s]\n"
     ]
    },
    {
     "name": "stdout",
     "output_type": "stream",
     "text": [
      "BKBR3.SA\n"
     ]
    },
    {
     "name": "stderr",
     "output_type": "stream",
     "text": [
      "  0%|          | 0/1 [00:04<?, ?it/s]\n"
     ]
    },
    {
     "name": "stdout",
     "output_type": "stream",
     "text": [
      "MTIG4.SA\n"
     ]
    },
    {
     "name": "stderr",
     "output_type": "stream",
     "text": [
      "  0%|          | 0/1 [00:04<?, ?it/s]\n"
     ]
    },
    {
     "name": "stdout",
     "output_type": "stream",
     "text": [
      "BLUT4.SA\n"
     ]
    },
    {
     "name": "stderr",
     "output_type": "stream",
     "text": [
      "  0%|          | 0/1 [00:03<?, ?it/s]\n"
     ]
    },
    {
     "name": "stdout",
     "output_type": "stream",
     "text": [
      "BLUT3.SA\n"
     ]
    },
    {
     "name": "stderr",
     "output_type": "stream",
     "text": [
      "  0%|          | 0/1 [00:03<?, ?it/s]\n"
     ]
    },
    {
     "name": "stdout",
     "output_type": "stream",
     "text": [
      "MODL4.SA\n"
     ]
    },
    {
     "name": "stderr",
     "output_type": "stream",
     "text": [
      "  0%|          | 0/1 [00:03<?, ?it/s]\n"
     ]
    },
    {
     "name": "stdout",
     "output_type": "stream",
     "text": [
      "CARD3.SA\n"
     ]
    },
    {
     "name": "stderr",
     "output_type": "stream",
     "text": [
      "  0%|          | 0/1 [00:03<?, ?it/s]\n"
     ]
    },
    {
     "name": "stdout",
     "output_type": "stream",
     "text": [
      "FNCN3.SA\n"
     ]
    },
    {
     "name": "stderr",
     "output_type": "stream",
     "text": [
      "  0%|          | 0/1 [00:03<?, ?it/s]\n"
     ]
    },
    {
     "name": "stdout",
     "output_type": "stream",
     "text": [
      "LCAM3.SA\n"
     ]
    },
    {
     "name": "stderr",
     "output_type": "stream",
     "text": [
      "  0%|          | 0/1 [00:03<?, ?it/s]\n"
     ]
    },
    {
     "name": "stdout",
     "output_type": "stream",
     "text": [
      "BIDI4.SA\n"
     ]
    },
    {
     "name": "stderr",
     "output_type": "stream",
     "text": [
      "  0%|          | 0/1 [00:03<?, ?it/s]\n"
     ]
    },
    {
     "name": "stdout",
     "output_type": "stream",
     "text": [
      "BIDI3.SA\n"
     ]
    },
    {
     "name": "stderr",
     "output_type": "stream",
     "text": [
      "  0%|          | 0/1 [00:03<?, ?it/s]\n"
     ]
    },
    {
     "name": "stdout",
     "output_type": "stream",
     "text": [
      "EEEL4.SA\n"
     ]
    },
    {
     "name": "stderr",
     "output_type": "stream",
     "text": [
      "  0%|          | 0/1 [00:03<?, ?it/s]\n"
     ]
    },
    {
     "name": "stdout",
     "output_type": "stream",
     "text": [
      "EEEL3.SA\n"
     ]
    },
    {
     "name": "stderr",
     "output_type": "stream",
     "text": [
      "  0%|          | 0/1 [00:03<?, ?it/s]\n"
     ]
    },
    {
     "name": "stdout",
     "output_type": "stream",
     "text": [
      "BBRK3.SA\n"
     ]
    },
    {
     "name": "stderr",
     "output_type": "stream",
     "text": [
      "  0%|          | 0/1 [00:04<?, ?it/s]\n"
     ]
    },
    {
     "name": "stdout",
     "output_type": "stream",
     "text": [
      "CESP6.SA\n"
     ]
    },
    {
     "name": "stderr",
     "output_type": "stream",
     "text": [
      "  0%|          | 0/1 [00:03<?, ?it/s]\n"
     ]
    },
    {
     "name": "stdout",
     "output_type": "stream",
     "text": [
      "CESP3.SA\n"
     ]
    },
    {
     "name": "stderr",
     "output_type": "stream",
     "text": [
      "  0%|          | 0/1 [00:04<?, ?it/s]\n"
     ]
    },
    {
     "name": "stdout",
     "output_type": "stream",
     "text": [
      "CESP5.SA\n"
     ]
    },
    {
     "name": "stderr",
     "output_type": "stream",
     "text": [
      "  0%|          | 0/1 [00:03<?, ?it/s]\n"
     ]
    },
    {
     "name": "stdout",
     "output_type": "stream",
     "text": [
      "MOSI3.SA\n"
     ]
    },
    {
     "name": "stderr",
     "output_type": "stream",
     "text": [
      "  0%|          | 0/1 [00:04<?, ?it/s]\n"
     ]
    },
    {
     "name": "stdout",
     "output_type": "stream",
     "text": [
      "POWE3.SA\n"
     ]
    },
    {
     "name": "stderr",
     "output_type": "stream",
     "text": [
      "  0%|          | 0/1 [00:03<?, ?it/s]\n"
     ]
    },
    {
     "name": "stdout",
     "output_type": "stream",
     "text": [
      "GNDI3.SA\n"
     ]
    },
    {
     "name": "stderr",
     "output_type": "stream",
     "text": [
      "  0%|          | 0/1 [00:03<?, ?it/s]\n"
     ]
    },
    {
     "name": "stdout",
     "output_type": "stream",
     "text": [
      "LAME4.SA\n"
     ]
    },
    {
     "name": "stderr",
     "output_type": "stream",
     "text": [
      "  0%|          | 0/1 [00:03<?, ?it/s]\n"
     ]
    },
    {
     "name": "stdout",
     "output_type": "stream",
     "text": [
      "LAME3.SA\n"
     ]
    },
    {
     "name": "stderr",
     "output_type": "stream",
     "text": [
      "  0%|          | 0/1 [00:04<?, ?it/s]\n"
     ]
    },
    {
     "name": "stdout",
     "output_type": "stream",
     "text": [
      "OMGE3.SA\n"
     ]
    },
    {
     "name": "stderr",
     "output_type": "stream",
     "text": [
      "  0%|          | 0/1 [00:04<?, ?it/s]\n"
     ]
    },
    {
     "name": "stdout",
     "output_type": "stream",
     "text": [
      "IGTA3.SA\n"
     ]
    },
    {
     "name": "stderr",
     "output_type": "stream",
     "text": [
      "  0%|          | 0/1 [00:03<?, ?it/s]\n"
     ]
    },
    {
     "name": "stdout",
     "output_type": "stream",
     "text": [
      "JPSA3.SA\n"
     ]
    },
    {
     "name": "stderr",
     "output_type": "stream",
     "text": [
      "  0%|          | 0/1 [00:03<?, ?it/s]\n"
     ]
    },
    {
     "name": "stdout",
     "output_type": "stream",
     "text": [
      "BRDT3.SA\n"
     ]
    },
    {
     "name": "stderr",
     "output_type": "stream",
     "text": [
      "  0%|          | 0/1 [00:03<?, ?it/s]\n"
     ]
    },
    {
     "name": "stdout",
     "output_type": "stream",
     "text": [
      "JBDU4.SA\n"
     ]
    },
    {
     "name": "stderr",
     "output_type": "stream",
     "text": [
      "  0%|          | 0/1 [00:03<?, ?it/s]\n"
     ]
    },
    {
     "name": "stdout",
     "output_type": "stream",
     "text": [
      "JBDU3.SA\n"
     ]
    },
    {
     "name": "stderr",
     "output_type": "stream",
     "text": [
      "  0%|          | 0/1 [00:03<?, ?it/s]\n"
     ]
    },
    {
     "name": "stdout",
     "output_type": "stream",
     "text": [
      "HGTX3.SA\n"
     ]
    },
    {
     "name": "stderr",
     "output_type": "stream",
     "text": [
      "  0%|          | 0/1 [00:03<?, ?it/s]\n"
     ]
    },
    {
     "name": "stdout",
     "output_type": "stream",
     "text": [
      "CCPR3.SA\n"
     ]
    },
    {
     "name": "stderr",
     "output_type": "stream",
     "text": [
      "  0%|          | 0/1 [00:03<?, ?it/s]\n"
     ]
    },
    {
     "name": "stdout",
     "output_type": "stream",
     "text": [
      "DTEX3.SA\n"
     ]
    },
    {
     "name": "stderr",
     "output_type": "stream",
     "text": [
      "  0%|          | 0/1 [00:03<?, ?it/s]\n"
     ]
    },
    {
     "name": "stdout",
     "output_type": "stream",
     "text": [
      "VVAR3.SA\n"
     ]
    },
    {
     "name": "stderr",
     "output_type": "stream",
     "text": [
      "  0%|          | 0/1 [00:03<?, ?it/s]\n"
     ]
    },
    {
     "name": "stdout",
     "output_type": "stream",
     "text": [
      "PNVL4.SA\n"
     ]
    },
    {
     "name": "stderr",
     "output_type": "stream",
     "text": [
      "  0%|          | 0/1 [00:03<?, ?it/s]\n"
     ]
    },
    {
     "name": "stdout",
     "output_type": "stream",
     "text": [
      "TESA3.SA\n"
     ]
    },
    {
     "name": "stderr",
     "output_type": "stream",
     "text": [
      "  0%|          | 0/1 [00:03<?, ?it/s]\n"
     ]
    },
    {
     "name": "stdout",
     "output_type": "stream",
     "text": [
      "BTOW3.SA\n"
     ]
    },
    {
     "name": "stderr",
     "output_type": "stream",
     "text": [
      "  0%|          | 0/1 [00:03<?, ?it/s]\n"
     ]
    },
    {
     "name": "stdout",
     "output_type": "stream",
     "text": [
      "LINX3.SA\n"
     ]
    },
    {
     "name": "stderr",
     "output_type": "stream",
     "text": [
      "  0%|          | 0/1 [00:03<?, ?it/s]\n"
     ]
    },
    {
     "name": "stdout",
     "output_type": "stream",
     "text": [
      "BTTL3.SA\n"
     ]
    },
    {
     "name": "stderr",
     "output_type": "stream",
     "text": [
      "  0%|          | 0/1 [00:03<?, ?it/s]\n"
     ]
    },
    {
     "name": "stdout",
     "output_type": "stream",
     "text": [
      "GPCP3.SA\n"
     ]
    },
    {
     "name": "stderr",
     "output_type": "stream",
     "text": [
      "  0%|          | 0/1 [00:03<?, ?it/s]\n"
     ]
    },
    {
     "name": "stdout",
     "output_type": "stream",
     "text": [
      "GPCP4.SA\n"
     ]
    },
    {
     "name": "stderr",
     "output_type": "stream",
     "text": [
      "  0%|          | 0/1 [00:03<?, ?it/s]\n"
     ]
    },
    {
     "name": "stdout",
     "output_type": "stream",
     "text": [
      "SMLS3.SA\n"
     ]
    },
    {
     "name": "stderr",
     "output_type": "stream",
     "text": [
      "  0%|          | 0/1 [00:03<?, ?it/s]\n"
     ]
    },
    {
     "name": "stdout",
     "output_type": "stream",
     "text": [
      "MMXM3.SA\n"
     ]
    },
    {
     "name": "stderr",
     "output_type": "stream",
     "text": [
      "  0%|          | 0/1 [00:04<?, ?it/s]\n"
     ]
    },
    {
     "name": "stdout",
     "output_type": "stream",
     "text": [
      "BSEV3.SA\n"
     ]
    },
    {
     "name": "stderr",
     "output_type": "stream",
     "text": [
      "  0%|          | 0/1 [00:03<?, ?it/s]\n"
     ]
    },
    {
     "name": "stdout",
     "output_type": "stream",
     "text": [
      "CNTO3.SA\n"
     ]
    },
    {
     "name": "stderr",
     "output_type": "stream",
     "text": [
      "  0%|          | 0/1 [00:03<?, ?it/s]\n"
     ]
    },
    {
     "name": "stdout",
     "output_type": "stream",
     "text": [
      "TIET4.SA\n"
     ]
    },
    {
     "name": "stderr",
     "output_type": "stream",
     "text": [
      "  0%|          | 0/1 [00:03<?, ?it/s]\n"
     ]
    },
    {
     "name": "stdout",
     "output_type": "stream",
     "text": [
      "TIET3.SA\n"
     ]
    },
    {
     "name": "stderr",
     "output_type": "stream",
     "text": [
      "  0%|          | 0/1 [00:03<?, ?it/s]\n"
     ]
    },
    {
     "name": "stdout",
     "output_type": "stream",
     "text": [
      "CEPE3.SA\n"
     ]
    },
    {
     "name": "stderr",
     "output_type": "stream",
     "text": [
      "  0%|          | 0/1 [00:03<?, ?it/s]\n"
     ]
    },
    {
     "name": "stdout",
     "output_type": "stream",
     "text": [
      "CALI4.SA\n"
     ]
    },
    {
     "name": "stderr",
     "output_type": "stream",
     "text": [
      "  0%|          | 0/1 [00:03<?, ?it/s]\n"
     ]
    },
    {
     "name": "stdout",
     "output_type": "stream",
     "text": [
      "BPAR3.SA\n"
     ]
    },
    {
     "name": "stderr",
     "output_type": "stream",
     "text": [
      "  0%|          | 0/1 [00:04<?, ?it/s]\n"
     ]
    },
    {
     "name": "stdout",
     "output_type": "stream",
     "text": [
      "APTI4.SA\n"
     ]
    },
    {
     "name": "stderr",
     "output_type": "stream",
     "text": [
      "  0%|          | 0/1 [00:04<?, ?it/s]\n"
     ]
    },
    {
     "name": "stdout",
     "output_type": "stream",
     "text": [
      "WIZS3.SA\n"
     ]
    },
    {
     "name": "stderr",
     "output_type": "stream",
     "text": [
      "  0%|          | 0/1 [00:03<?, ?it/s]\n"
     ]
    },
    {
     "name": "stdout",
     "output_type": "stream",
     "text": [
      "LLIS3.SA\n"
     ]
    },
    {
     "name": "stderr",
     "output_type": "stream",
     "text": [
      "  0%|          | 0/1 [00:03<?, ?it/s]\n"
     ]
    },
    {
     "name": "stdout",
     "output_type": "stream",
     "text": [
      "BRML3.SA\n"
     ]
    },
    {
     "name": "stderr",
     "output_type": "stream",
     "text": [
      "  0%|          | 0/1 [00:03<?, ?it/s]\n"
     ]
    },
    {
     "name": "stdout",
     "output_type": "stream",
     "text": [
      "DMMO3.SA\n"
     ]
    },
    {
     "name": "stderr",
     "output_type": "stream",
     "text": [
      "  0%|          | 0/1 [00:03<?, ?it/s]\n"
     ]
    },
    {
     "name": "stdout",
     "output_type": "stream",
     "text": [
      "GETT3.SA\n"
     ]
    },
    {
     "name": "stderr",
     "output_type": "stream",
     "text": [
      "  0%|          | 0/1 [00:03<?, ?it/s]\n"
     ]
    },
    {
     "name": "stdout",
     "output_type": "stream",
     "text": [
      "GETT4.SA\n"
     ]
    },
    {
     "name": "stderr",
     "output_type": "stream",
     "text": [
      "  0%|          | 0/1 [00:03<?, ?it/s]\n"
     ]
    },
    {
     "name": "stdout",
     "output_type": "stream",
     "text": [
      "SULA4.SA\n"
     ]
    },
    {
     "name": "stderr",
     "output_type": "stream",
     "text": [
      "  0%|          | 0/1 [00:03<?, ?it/s]\n"
     ]
    },
    {
     "name": "stdout",
     "output_type": "stream",
     "text": [
      "SULA3.SA\n"
     ]
    },
    {
     "name": "stderr",
     "output_type": "stream",
     "text": [
      "  0%|          | 0/1 [00:03<?, ?it/s]\n"
     ]
    },
    {
     "name": "stdout",
     "output_type": "stream",
     "text": [
      "CEPE5.SA\n"
     ]
    },
    {
     "name": "stderr",
     "output_type": "stream",
     "text": [
      "  0%|          | 0/1 [00:04<?, ?it/s]\n"
     ]
    },
    {
     "name": "stdout",
     "output_type": "stream",
     "text": [
      "CEPE6.SA\n"
     ]
    },
    {
     "name": "stderr",
     "output_type": "stream",
     "text": [
      "  0%|          | 0/1 [00:03<?, ?it/s]\n"
     ]
    },
    {
     "name": "stdout",
     "output_type": "stream",
     "text": [
      "BKBR3.SA\n"
     ]
    },
    {
     "name": "stderr",
     "output_type": "stream",
     "text": [
      "  0%|          | 0/1 [00:03<?, ?it/s]\n"
     ]
    },
    {
     "name": "stdout",
     "output_type": "stream",
     "text": [
      "MTIG4.SA\n"
     ]
    },
    {
     "name": "stderr",
     "output_type": "stream",
     "text": [
      "  0%|          | 0/1 [00:04<?, ?it/s]\n"
     ]
    },
    {
     "name": "stdout",
     "output_type": "stream",
     "text": [
      "BLUT4.SA\n"
     ]
    },
    {
     "name": "stderr",
     "output_type": "stream",
     "text": [
      "  0%|          | 0/1 [00:03<?, ?it/s]\n"
     ]
    },
    {
     "name": "stdout",
     "output_type": "stream",
     "text": [
      "BLUT3.SA\n"
     ]
    },
    {
     "name": "stderr",
     "output_type": "stream",
     "text": [
      "  0%|          | 0/1 [00:03<?, ?it/s]\n"
     ]
    },
    {
     "name": "stdout",
     "output_type": "stream",
     "text": [
      "MODL4.SA\n"
     ]
    },
    {
     "name": "stderr",
     "output_type": "stream",
     "text": [
      "  0%|          | 0/1 [00:03<?, ?it/s]\n"
     ]
    },
    {
     "name": "stdout",
     "output_type": "stream",
     "text": [
      "CARD3.SA\n"
     ]
    },
    {
     "name": "stderr",
     "output_type": "stream",
     "text": [
      "  0%|          | 0/1 [00:04<?, ?it/s]\n"
     ]
    },
    {
     "name": "stdout",
     "output_type": "stream",
     "text": [
      "FNCN3.SA\n"
     ]
    },
    {
     "name": "stderr",
     "output_type": "stream",
     "text": [
      "  0%|          | 0/1 [00:03<?, ?it/s]\n"
     ]
    },
    {
     "name": "stdout",
     "output_type": "stream",
     "text": [
      "LCAM3.SA\n"
     ]
    },
    {
     "name": "stderr",
     "output_type": "stream",
     "text": [
      "  0%|          | 0/1 [00:03<?, ?it/s]\n"
     ]
    },
    {
     "name": "stdout",
     "output_type": "stream",
     "text": [
      "BIDI4.SA\n"
     ]
    },
    {
     "name": "stderr",
     "output_type": "stream",
     "text": [
      "  0%|          | 0/1 [00:03<?, ?it/s]\n"
     ]
    },
    {
     "name": "stdout",
     "output_type": "stream",
     "text": [
      "BIDI3.SA\n"
     ]
    },
    {
     "name": "stderr",
     "output_type": "stream",
     "text": [
      "  0%|          | 0/1 [00:04<?, ?it/s]\n"
     ]
    },
    {
     "name": "stdout",
     "output_type": "stream",
     "text": [
      "EEEL4.SA\n"
     ]
    },
    {
     "name": "stderr",
     "output_type": "stream",
     "text": [
      "  0%|          | 0/1 [00:03<?, ?it/s]\n"
     ]
    },
    {
     "name": "stdout",
     "output_type": "stream",
     "text": [
      "EEEL3.SA\n"
     ]
    },
    {
     "name": "stderr",
     "output_type": "stream",
     "text": [
      "  0%|          | 0/1 [00:03<?, ?it/s]\n"
     ]
    },
    {
     "name": "stdout",
     "output_type": "stream",
     "text": [
      "BBRK3.SA\n"
     ]
    },
    {
     "name": "stderr",
     "output_type": "stream",
     "text": [
      "  0%|          | 0/1 [00:04<?, ?it/s]\n"
     ]
    },
    {
     "name": "stdout",
     "output_type": "stream",
     "text": [
      "CESP6.SA\n"
     ]
    },
    {
     "name": "stderr",
     "output_type": "stream",
     "text": [
      "  0%|          | 0/1 [00:03<?, ?it/s]\n"
     ]
    },
    {
     "name": "stdout",
     "output_type": "stream",
     "text": [
      "CESP3.SA\n"
     ]
    },
    {
     "name": "stderr",
     "output_type": "stream",
     "text": [
      "  0%|          | 0/1 [00:03<?, ?it/s]\n"
     ]
    },
    {
     "name": "stdout",
     "output_type": "stream",
     "text": [
      "CESP5.SA\n"
     ]
    },
    {
     "name": "stderr",
     "output_type": "stream",
     "text": [
      "  0%|          | 0/1 [00:03<?, ?it/s]\n"
     ]
    },
    {
     "name": "stdout",
     "output_type": "stream",
     "text": [
      "MOSI3.SA\n"
     ]
    },
    {
     "name": "stderr",
     "output_type": "stream",
     "text": [
      "  0%|          | 0/1 [00:03<?, ?it/s]\n"
     ]
    },
    {
     "name": "stdout",
     "output_type": "stream",
     "text": [
      "POWE3.SA\n"
     ]
    },
    {
     "name": "stderr",
     "output_type": "stream",
     "text": [
      "  0%|          | 0/1 [00:03<?, ?it/s]\n"
     ]
    },
    {
     "name": "stdout",
     "output_type": "stream",
     "text": [
      "GNDI3.SA\n"
     ]
    },
    {
     "name": "stderr",
     "output_type": "stream",
     "text": [
      "  0%|          | 0/1 [00:03<?, ?it/s]\n"
     ]
    },
    {
     "name": "stdout",
     "output_type": "stream",
     "text": [
      "LAME4.SA\n"
     ]
    },
    {
     "name": "stderr",
     "output_type": "stream",
     "text": [
      "  0%|          | 0/1 [00:04<?, ?it/s]\n"
     ]
    },
    {
     "name": "stdout",
     "output_type": "stream",
     "text": [
      "LAME3.SA\n"
     ]
    },
    {
     "name": "stderr",
     "output_type": "stream",
     "text": [
      "  0%|          | 0/1 [00:03<?, ?it/s]\n"
     ]
    },
    {
     "name": "stdout",
     "output_type": "stream",
     "text": [
      "OMGE3.SA\n"
     ]
    },
    {
     "name": "stderr",
     "output_type": "stream",
     "text": [
      "  0%|          | 0/1 [00:03<?, ?it/s]\n"
     ]
    },
    {
     "name": "stdout",
     "output_type": "stream",
     "text": [
      "IGTA3.SA\n"
     ]
    },
    {
     "name": "stderr",
     "output_type": "stream",
     "text": [
      "  0%|          | 0/1 [00:03<?, ?it/s]\n"
     ]
    },
    {
     "name": "stdout",
     "output_type": "stream",
     "text": [
      "JPSA3.SA\n"
     ]
    },
    {
     "name": "stderr",
     "output_type": "stream",
     "text": [
      "  0%|          | 0/1 [00:03<?, ?it/s]\n"
     ]
    },
    {
     "name": "stdout",
     "output_type": "stream",
     "text": [
      "BRDT3.SA\n"
     ]
    },
    {
     "name": "stderr",
     "output_type": "stream",
     "text": [
      "  0%|          | 0/1 [00:03<?, ?it/s]\n"
     ]
    },
    {
     "name": "stdout",
     "output_type": "stream",
     "text": [
      "JBDU4.SA\n"
     ]
    },
    {
     "name": "stderr",
     "output_type": "stream",
     "text": [
      "  0%|          | 0/1 [00:03<?, ?it/s]\n"
     ]
    },
    {
     "name": "stdout",
     "output_type": "stream",
     "text": [
      "JBDU3.SA\n"
     ]
    },
    {
     "name": "stderr",
     "output_type": "stream",
     "text": [
      "  0%|          | 0/1 [00:03<?, ?it/s]\n"
     ]
    },
    {
     "name": "stdout",
     "output_type": "stream",
     "text": [
      "HGTX3.SA\n"
     ]
    },
    {
     "name": "stderr",
     "output_type": "stream",
     "text": [
      "  0%|          | 0/1 [00:03<?, ?it/s]\n"
     ]
    },
    {
     "name": "stdout",
     "output_type": "stream",
     "text": [
      "CCPR3.SA\n"
     ]
    },
    {
     "name": "stderr",
     "output_type": "stream",
     "text": [
      "  0%|          | 0/1 [00:04<?, ?it/s]\n"
     ]
    },
    {
     "name": "stdout",
     "output_type": "stream",
     "text": [
      "DTEX3.SA\n"
     ]
    },
    {
     "name": "stderr",
     "output_type": "stream",
     "text": [
      "  0%|          | 0/1 [00:03<?, ?it/s]\n"
     ]
    },
    {
     "name": "stdout",
     "output_type": "stream",
     "text": [
      "VVAR3.SA\n"
     ]
    },
    {
     "name": "stderr",
     "output_type": "stream",
     "text": [
      "  0%|          | 0/1 [00:03<?, ?it/s]\n"
     ]
    },
    {
     "name": "stdout",
     "output_type": "stream",
     "text": [
      "PNVL4.SA\n"
     ]
    },
    {
     "name": "stderr",
     "output_type": "stream",
     "text": [
      "  0%|          | 0/1 [00:03<?, ?it/s]\n"
     ]
    },
    {
     "name": "stdout",
     "output_type": "stream",
     "text": [
      "TESA3.SA\n"
     ]
    },
    {
     "name": "stderr",
     "output_type": "stream",
     "text": [
      "  0%|          | 0/1 [00:03<?, ?it/s]\n"
     ]
    },
    {
     "name": "stdout",
     "output_type": "stream",
     "text": [
      "BTOW3.SA\n"
     ]
    },
    {
     "name": "stderr",
     "output_type": "stream",
     "text": [
      "  0%|          | 0/1 [00:03<?, ?it/s]\n"
     ]
    },
    {
     "name": "stdout",
     "output_type": "stream",
     "text": [
      "LINX3.SA\n"
     ]
    },
    {
     "name": "stderr",
     "output_type": "stream",
     "text": [
      "  0%|          | 0/1 [00:03<?, ?it/s]\n"
     ]
    },
    {
     "name": "stdout",
     "output_type": "stream",
     "text": [
      "BTTL3.SA\n"
     ]
    },
    {
     "name": "stderr",
     "output_type": "stream",
     "text": [
      "  0%|          | 0/1 [00:03<?, ?it/s]\n"
     ]
    },
    {
     "name": "stdout",
     "output_type": "stream",
     "text": [
      "GPCP3.SA\n"
     ]
    },
    {
     "name": "stderr",
     "output_type": "stream",
     "text": [
      "  0%|          | 0/1 [00:03<?, ?it/s]\n"
     ]
    },
    {
     "name": "stdout",
     "output_type": "stream",
     "text": [
      "GPCP4.SA\n"
     ]
    },
    {
     "name": "stderr",
     "output_type": "stream",
     "text": [
      "  0%|          | 0/1 [00:04<?, ?it/s]\n"
     ]
    },
    {
     "name": "stdout",
     "output_type": "stream",
     "text": [
      "SMLS3.SA\n"
     ]
    },
    {
     "name": "stderr",
     "output_type": "stream",
     "text": [
      "  0%|          | 0/1 [00:03<?, ?it/s]\n"
     ]
    },
    {
     "name": "stdout",
     "output_type": "stream",
     "text": [
      "MMXM3.SA\n"
     ]
    },
    {
     "name": "stderr",
     "output_type": "stream",
     "text": [
      "  0%|          | 0/1 [00:03<?, ?it/s]\n"
     ]
    },
    {
     "name": "stdout",
     "output_type": "stream",
     "text": [
      "BSEV3.SA\n"
     ]
    },
    {
     "name": "stderr",
     "output_type": "stream",
     "text": [
      "  0%|          | 0/1 [00:03<?, ?it/s]\n"
     ]
    },
    {
     "name": "stdout",
     "output_type": "stream",
     "text": [
      "CNTO3.SA\n"
     ]
    },
    {
     "name": "stderr",
     "output_type": "stream",
     "text": [
      "  0%|          | 0/1 [00:03<?, ?it/s]\n"
     ]
    },
    {
     "name": "stdout",
     "output_type": "stream",
     "text": [
      "TIET4.SA\n"
     ]
    },
    {
     "name": "stderr",
     "output_type": "stream",
     "text": [
      "  0%|          | 0/1 [00:03<?, ?it/s]\n"
     ]
    },
    {
     "name": "stdout",
     "output_type": "stream",
     "text": [
      "TIET3.SA\n"
     ]
    },
    {
     "name": "stderr",
     "output_type": "stream",
     "text": [
      "  0%|          | 0/1 [00:03<?, ?it/s]\n"
     ]
    },
    {
     "name": "stdout",
     "output_type": "stream",
     "text": [
      "CEPE3.SA\n"
     ]
    },
    {
     "name": "stderr",
     "output_type": "stream",
     "text": [
      "  0%|          | 0/1 [00:04<?, ?it/s]\n"
     ]
    },
    {
     "name": "stdout",
     "output_type": "stream",
     "text": [
      "CALI4.SA\n"
     ]
    },
    {
     "name": "stderr",
     "output_type": "stream",
     "text": [
      "  0%|          | 0/1 [00:03<?, ?it/s]\n"
     ]
    },
    {
     "name": "stdout",
     "output_type": "stream",
     "text": [
      "BPAR3.SA\n"
     ]
    },
    {
     "name": "stderr",
     "output_type": "stream",
     "text": [
      "  0%|          | 0/1 [00:03<?, ?it/s]\n"
     ]
    },
    {
     "name": "stdout",
     "output_type": "stream",
     "text": [
      "APTI4.SA\n"
     ]
    },
    {
     "name": "stderr",
     "output_type": "stream",
     "text": [
      "  0%|          | 0/1 [00:03<?, ?it/s]\n"
     ]
    },
    {
     "name": "stdout",
     "output_type": "stream",
     "text": [
      "WIZS3.SA\n"
     ]
    },
    {
     "name": "stderr",
     "output_type": "stream",
     "text": [
      "  0%|          | 0/1 [00:03<?, ?it/s]\n"
     ]
    },
    {
     "name": "stdout",
     "output_type": "stream",
     "text": [
      "LLIS3.SA\n"
     ]
    },
    {
     "name": "stderr",
     "output_type": "stream",
     "text": [
      "  0%|          | 0/1 [00:03<?, ?it/s]\n"
     ]
    },
    {
     "name": "stdout",
     "output_type": "stream",
     "text": [
      "BRML3.SA\n"
     ]
    },
    {
     "name": "stderr",
     "output_type": "stream",
     "text": [
      "  0%|          | 0/1 [00:03<?, ?it/s]\n"
     ]
    },
    {
     "name": "stdout",
     "output_type": "stream",
     "text": [
      "DMMO3.SA\n"
     ]
    },
    {
     "name": "stderr",
     "output_type": "stream",
     "text": [
      "  0%|          | 0/1 [00:03<?, ?it/s]\n"
     ]
    },
    {
     "name": "stdout",
     "output_type": "stream",
     "text": [
      "GETT3.SA\n"
     ]
    },
    {
     "name": "stderr",
     "output_type": "stream",
     "text": [
      "  0%|          | 0/1 [00:03<?, ?it/s]\n"
     ]
    },
    {
     "name": "stdout",
     "output_type": "stream",
     "text": [
      "GETT4.SA\n"
     ]
    },
    {
     "name": "stderr",
     "output_type": "stream",
     "text": [
      "  0%|          | 0/1 [00:03<?, ?it/s]\n"
     ]
    },
    {
     "name": "stdout",
     "output_type": "stream",
     "text": [
      "SULA4.SA\n"
     ]
    },
    {
     "name": "stderr",
     "output_type": "stream",
     "text": [
      "  0%|          | 0/1 [00:03<?, ?it/s]\n"
     ]
    },
    {
     "name": "stdout",
     "output_type": "stream",
     "text": [
      "SULA3.SA\n"
     ]
    },
    {
     "name": "stderr",
     "output_type": "stream",
     "text": [
      "  0%|          | 0/1 [00:03<?, ?it/s]\n"
     ]
    },
    {
     "name": "stdout",
     "output_type": "stream",
     "text": [
      "CEPE5.SA\n"
     ]
    },
    {
     "name": "stderr",
     "output_type": "stream",
     "text": [
      "  0%|          | 0/1 [00:03<?, ?it/s]\n"
     ]
    },
    {
     "name": "stdout",
     "output_type": "stream",
     "text": [
      "CEPE6.SA\n"
     ]
    },
    {
     "name": "stderr",
     "output_type": "stream",
     "text": [
      "  0%|          | 0/1 [00:03<?, ?it/s]\n"
     ]
    },
    {
     "name": "stdout",
     "output_type": "stream",
     "text": [
      "BKBR3.SA\n"
     ]
    },
    {
     "name": "stderr",
     "output_type": "stream",
     "text": [
      "  0%|          | 0/1 [00:03<?, ?it/s]\n"
     ]
    },
    {
     "name": "stdout",
     "output_type": "stream",
     "text": [
      "MTIG4.SA\n"
     ]
    },
    {
     "name": "stderr",
     "output_type": "stream",
     "text": [
      "  0%|          | 0/1 [00:03<?, ?it/s]\n"
     ]
    },
    {
     "name": "stdout",
     "output_type": "stream",
     "text": [
      "BLUT4.SA\n"
     ]
    },
    {
     "name": "stderr",
     "output_type": "stream",
     "text": [
      "  0%|          | 0/1 [00:03<?, ?it/s]\n"
     ]
    },
    {
     "name": "stdout",
     "output_type": "stream",
     "text": [
      "BLUT3.SA\n"
     ]
    },
    {
     "name": "stderr",
     "output_type": "stream",
     "text": [
      "  0%|          | 0/1 [00:03<?, ?it/s]\n"
     ]
    },
    {
     "name": "stdout",
     "output_type": "stream",
     "text": [
      "MODL4.SA\n"
     ]
    },
    {
     "name": "stderr",
     "output_type": "stream",
     "text": [
      "  0%|          | 0/1 [00:03<?, ?it/s]\n"
     ]
    },
    {
     "name": "stdout",
     "output_type": "stream",
     "text": [
      "CARD3.SA\n"
     ]
    },
    {
     "name": "stderr",
     "output_type": "stream",
     "text": [
      "  0%|          | 0/1 [00:03<?, ?it/s]\n"
     ]
    },
    {
     "name": "stdout",
     "output_type": "stream",
     "text": [
      "FNCN3.SA\n"
     ]
    },
    {
     "name": "stderr",
     "output_type": "stream",
     "text": [
      "  0%|          | 0/1 [00:03<?, ?it/s]\n"
     ]
    },
    {
     "name": "stdout",
     "output_type": "stream",
     "text": [
      "LCAM3.SA\n"
     ]
    },
    {
     "name": "stderr",
     "output_type": "stream",
     "text": [
      "  0%|          | 0/1 [00:03<?, ?it/s]\n"
     ]
    },
    {
     "name": "stdout",
     "output_type": "stream",
     "text": [
      "BIDI4.SA\n"
     ]
    },
    {
     "name": "stderr",
     "output_type": "stream",
     "text": [
      "  0%|          | 0/1 [00:03<?, ?it/s]\n"
     ]
    },
    {
     "name": "stdout",
     "output_type": "stream",
     "text": [
      "BIDI3.SA\n"
     ]
    },
    {
     "name": "stderr",
     "output_type": "stream",
     "text": [
      "  0%|          | 0/1 [00:03<?, ?it/s]\n"
     ]
    },
    {
     "name": "stdout",
     "output_type": "stream",
     "text": [
      "EEEL4.SA\n"
     ]
    },
    {
     "name": "stderr",
     "output_type": "stream",
     "text": [
      "  0%|          | 0/1 [00:03<?, ?it/s]\n"
     ]
    },
    {
     "name": "stdout",
     "output_type": "stream",
     "text": [
      "EEEL3.SA\n"
     ]
    },
    {
     "name": "stderr",
     "output_type": "stream",
     "text": [
      "  0%|          | 0/1 [00:03<?, ?it/s]\n"
     ]
    },
    {
     "name": "stdout",
     "output_type": "stream",
     "text": [
      "BBRK3.SA\n"
     ]
    },
    {
     "name": "stderr",
     "output_type": "stream",
     "text": [
      "  0%|          | 0/1 [00:03<?, ?it/s]\n"
     ]
    },
    {
     "name": "stdout",
     "output_type": "stream",
     "text": [
      "CESP6.SA\n"
     ]
    },
    {
     "name": "stderr",
     "output_type": "stream",
     "text": [
      "  0%|          | 0/1 [00:03<?, ?it/s]\n"
     ]
    },
    {
     "name": "stdout",
     "output_type": "stream",
     "text": [
      "CESP3.SA\n"
     ]
    },
    {
     "name": "stderr",
     "output_type": "stream",
     "text": [
      "  0%|          | 0/1 [00:04<?, ?it/s]\n"
     ]
    },
    {
     "name": "stdout",
     "output_type": "stream",
     "text": [
      "CESP5.SA\n"
     ]
    },
    {
     "name": "stderr",
     "output_type": "stream",
     "text": [
      "  0%|          | 0/1 [00:03<?, ?it/s]\n"
     ]
    },
    {
     "name": "stdout",
     "output_type": "stream",
     "text": [
      "MOSI3.SA\n"
     ]
    },
    {
     "name": "stderr",
     "output_type": "stream",
     "text": [
      "  0%|          | 0/1 [00:03<?, ?it/s]\n"
     ]
    },
    {
     "name": "stdout",
     "output_type": "stream",
     "text": [
      "POWE3.SA\n"
     ]
    },
    {
     "name": "stderr",
     "output_type": "stream",
     "text": [
      "  0%|          | 0/1 [00:04<?, ?it/s]\n"
     ]
    },
    {
     "name": "stdout",
     "output_type": "stream",
     "text": [
      "GNDI3.SA\n"
     ]
    },
    {
     "name": "stderr",
     "output_type": "stream",
     "text": [
      "  0%|          | 0/1 [00:03<?, ?it/s]\n"
     ]
    },
    {
     "name": "stdout",
     "output_type": "stream",
     "text": [
      "LAME4.SA\n"
     ]
    },
    {
     "name": "stderr",
     "output_type": "stream",
     "text": [
      "  0%|          | 0/1 [00:04<?, ?it/s]\n"
     ]
    },
    {
     "name": "stdout",
     "output_type": "stream",
     "text": [
      "LAME3.SA\n"
     ]
    },
    {
     "name": "stderr",
     "output_type": "stream",
     "text": [
      "  0%|          | 0/1 [00:03<?, ?it/s]\n"
     ]
    },
    {
     "name": "stdout",
     "output_type": "stream",
     "text": [
      "OMGE3.SA\n"
     ]
    },
    {
     "name": "stderr",
     "output_type": "stream",
     "text": [
      "  0%|          | 0/1 [00:03<?, ?it/s]\n"
     ]
    },
    {
     "name": "stdout",
     "output_type": "stream",
     "text": [
      "IGTA3.SA\n"
     ]
    },
    {
     "name": "stderr",
     "output_type": "stream",
     "text": [
      "  0%|          | 0/1 [00:03<?, ?it/s]\n"
     ]
    },
    {
     "name": "stdout",
     "output_type": "stream",
     "text": [
      "JPSA3.SA\n"
     ]
    },
    {
     "name": "stderr",
     "output_type": "stream",
     "text": [
      "  0%|          | 0/1 [00:03<?, ?it/s]\n"
     ]
    },
    {
     "name": "stdout",
     "output_type": "stream",
     "text": [
      "BRDT3.SA\n"
     ]
    },
    {
     "name": "stderr",
     "output_type": "stream",
     "text": [
      "  0%|          | 0/1 [00:03<?, ?it/s]\n"
     ]
    },
    {
     "name": "stdout",
     "output_type": "stream",
     "text": [
      "JBDU4.SA\n"
     ]
    },
    {
     "name": "stderr",
     "output_type": "stream",
     "text": [
      "  0%|          | 0/1 [00:03<?, ?it/s]\n"
     ]
    },
    {
     "name": "stdout",
     "output_type": "stream",
     "text": [
      "JBDU3.SA\n"
     ]
    },
    {
     "name": "stderr",
     "output_type": "stream",
     "text": [
      "  0%|          | 0/1 [00:03<?, ?it/s]\n"
     ]
    },
    {
     "name": "stdout",
     "output_type": "stream",
     "text": [
      "HGTX3.SA\n"
     ]
    },
    {
     "name": "stderr",
     "output_type": "stream",
     "text": [
      "  0%|          | 0/1 [00:04<?, ?it/s]\n"
     ]
    },
    {
     "name": "stdout",
     "output_type": "stream",
     "text": [
      "CCPR3.SA\n"
     ]
    },
    {
     "name": "stderr",
     "output_type": "stream",
     "text": [
      "  0%|          | 0/1 [00:03<?, ?it/s]\n"
     ]
    },
    {
     "name": "stdout",
     "output_type": "stream",
     "text": [
      "DTEX3.SA\n"
     ]
    },
    {
     "name": "stderr",
     "output_type": "stream",
     "text": [
      "  0%|          | 0/1 [00:04<?, ?it/s]\n"
     ]
    },
    {
     "name": "stdout",
     "output_type": "stream",
     "text": [
      "VVAR3.SA\n"
     ]
    },
    {
     "name": "stderr",
     "output_type": "stream",
     "text": [
      "  0%|          | 0/1 [00:03<?, ?it/s]\n"
     ]
    },
    {
     "name": "stdout",
     "output_type": "stream",
     "text": [
      "PNVL4.SA\n"
     ]
    },
    {
     "name": "stderr",
     "output_type": "stream",
     "text": [
      "  0%|          | 0/1 [00:03<?, ?it/s]\n"
     ]
    },
    {
     "name": "stdout",
     "output_type": "stream",
     "text": [
      "TESA3.SA\n"
     ]
    },
    {
     "name": "stderr",
     "output_type": "stream",
     "text": [
      "  0%|          | 0/1 [00:03<?, ?it/s]\n"
     ]
    },
    {
     "name": "stdout",
     "output_type": "stream",
     "text": [
      "BTOW3.SA\n"
     ]
    },
    {
     "name": "stderr",
     "output_type": "stream",
     "text": [
      "  0%|          | 0/1 [00:04<?, ?it/s]\n"
     ]
    },
    {
     "name": "stdout",
     "output_type": "stream",
     "text": [
      "LINX3.SA\n"
     ]
    },
    {
     "name": "stderr",
     "output_type": "stream",
     "text": [
      "  0%|          | 0/1 [00:03<?, ?it/s]\n"
     ]
    },
    {
     "name": "stdout",
     "output_type": "stream",
     "text": [
      "BTTL3.SA\n"
     ]
    },
    {
     "name": "stderr",
     "output_type": "stream",
     "text": [
      "  0%|          | 0/1 [00:03<?, ?it/s]\n"
     ]
    },
    {
     "name": "stdout",
     "output_type": "stream",
     "text": [
      "GPCP3.SA\n"
     ]
    },
    {
     "name": "stderr",
     "output_type": "stream",
     "text": [
      "  0%|          | 0/1 [00:03<?, ?it/s]\n"
     ]
    },
    {
     "name": "stdout",
     "output_type": "stream",
     "text": [
      "GPCP4.SA\n"
     ]
    },
    {
     "name": "stderr",
     "output_type": "stream",
     "text": [
      "  0%|          | 0/1 [00:03<?, ?it/s]\n"
     ]
    },
    {
     "name": "stdout",
     "output_type": "stream",
     "text": [
      "SMLS3.SA\n"
     ]
    },
    {
     "name": "stderr",
     "output_type": "stream",
     "text": [
      "  0%|          | 0/1 [00:03<?, ?it/s]\n"
     ]
    },
    {
     "name": "stdout",
     "output_type": "stream",
     "text": [
      "MMXM3.SA\n"
     ]
    },
    {
     "name": "stderr",
     "output_type": "stream",
     "text": [
      "  0%|          | 0/1 [00:03<?, ?it/s]\n"
     ]
    },
    {
     "name": "stdout",
     "output_type": "stream",
     "text": [
      "BSEV3.SA\n"
     ]
    },
    {
     "name": "stderr",
     "output_type": "stream",
     "text": [
      "  0%|          | 0/1 [00:03<?, ?it/s]\n"
     ]
    },
    {
     "name": "stdout",
     "output_type": "stream",
     "text": [
      "CNTO3.SA\n"
     ]
    },
    {
     "name": "stderr",
     "output_type": "stream",
     "text": [
      "  0%|          | 0/1 [00:04<?, ?it/s]\n"
     ]
    },
    {
     "name": "stdout",
     "output_type": "stream",
     "text": [
      "TIET4.SA\n"
     ]
    },
    {
     "name": "stderr",
     "output_type": "stream",
     "text": [
      "  0%|          | 0/1 [00:03<?, ?it/s]\n"
     ]
    },
    {
     "name": "stdout",
     "output_type": "stream",
     "text": [
      "TIET3.SA\n"
     ]
    },
    {
     "name": "stderr",
     "output_type": "stream",
     "text": [
      "  0%|          | 0/1 [00:04<?, ?it/s]\n"
     ]
    },
    {
     "name": "stdout",
     "output_type": "stream",
     "text": [
      "CEPE3.SA\n"
     ]
    },
    {
     "name": "stderr",
     "output_type": "stream",
     "text": [
      "  0%|          | 0/1 [00:03<?, ?it/s]\n"
     ]
    },
    {
     "name": "stdout",
     "output_type": "stream",
     "text": [
      "CALI4.SA\n"
     ]
    },
    {
     "name": "stderr",
     "output_type": "stream",
     "text": [
      "  0%|          | 0/1 [00:03<?, ?it/s]\n"
     ]
    },
    {
     "name": "stdout",
     "output_type": "stream",
     "text": [
      "BPAR3.SA\n"
     ]
    },
    {
     "name": "stderr",
     "output_type": "stream",
     "text": [
      "  0%|          | 0/1 [00:04<?, ?it/s]\n"
     ]
    },
    {
     "name": "stdout",
     "output_type": "stream",
     "text": [
      "APTI4.SA\n"
     ]
    },
    {
     "name": "stderr",
     "output_type": "stream",
     "text": [
      "  0%|          | 0/1 [00:04<?, ?it/s]\n"
     ]
    },
    {
     "name": "stdout",
     "output_type": "stream",
     "text": [
      "WIZS3.SA\n"
     ]
    },
    {
     "name": "stderr",
     "output_type": "stream",
     "text": [
      "  0%|          | 0/1 [00:04<?, ?it/s]\n"
     ]
    },
    {
     "name": "stdout",
     "output_type": "stream",
     "text": [
      "LLIS3.SA\n"
     ]
    },
    {
     "name": "stderr",
     "output_type": "stream",
     "text": [
      "  0%|          | 0/1 [00:03<?, ?it/s]\n"
     ]
    },
    {
     "name": "stdout",
     "output_type": "stream",
     "text": [
      "BRML3.SA\n"
     ]
    },
    {
     "name": "stderr",
     "output_type": "stream",
     "text": [
      "  0%|          | 0/1 [00:03<?, ?it/s]\n"
     ]
    },
    {
     "name": "stdout",
     "output_type": "stream",
     "text": [
      "DMMO3.SA\n"
     ]
    },
    {
     "name": "stderr",
     "output_type": "stream",
     "text": [
      "  0%|          | 0/1 [00:03<?, ?it/s]\n"
     ]
    },
    {
     "name": "stdout",
     "output_type": "stream",
     "text": [
      "GETT3.SA\n"
     ]
    },
    {
     "name": "stderr",
     "output_type": "stream",
     "text": [
      "  0%|          | 0/1 [00:04<?, ?it/s]\n"
     ]
    },
    {
     "name": "stdout",
     "output_type": "stream",
     "text": [
      "GETT4.SA\n"
     ]
    },
    {
     "name": "stderr",
     "output_type": "stream",
     "text": [
      "  0%|          | 0/1 [00:03<?, ?it/s]\n"
     ]
    },
    {
     "name": "stdout",
     "output_type": "stream",
     "text": [
      "SULA4.SA\n"
     ]
    },
    {
     "name": "stderr",
     "output_type": "stream",
     "text": [
      "  0%|          | 0/1 [00:03<?, ?it/s]\n"
     ]
    },
    {
     "name": "stdout",
     "output_type": "stream",
     "text": [
      "SULA3.SA\n"
     ]
    },
    {
     "name": "stderr",
     "output_type": "stream",
     "text": [
      "  0%|          | 0/1 [00:03<?, ?it/s]\n"
     ]
    },
    {
     "name": "stdout",
     "output_type": "stream",
     "text": [
      "CEPE5.SA\n"
     ]
    },
    {
     "name": "stderr",
     "output_type": "stream",
     "text": [
      "  0%|          | 0/1 [00:03<?, ?it/s]\n"
     ]
    },
    {
     "name": "stdout",
     "output_type": "stream",
     "text": [
      "CEPE6.SA\n"
     ]
    },
    {
     "name": "stderr",
     "output_type": "stream",
     "text": [
      "  0%|          | 0/1 [00:03<?, ?it/s]\n"
     ]
    },
    {
     "name": "stdout",
     "output_type": "stream",
     "text": [
      "BKBR3.SA\n"
     ]
    },
    {
     "name": "stderr",
     "output_type": "stream",
     "text": [
      "  0%|          | 0/1 [00:04<?, ?it/s]\n"
     ]
    },
    {
     "name": "stdout",
     "output_type": "stream",
     "text": [
      "MTIG4.SA\n"
     ]
    },
    {
     "name": "stderr",
     "output_type": "stream",
     "text": [
      "  0%|          | 0/1 [00:03<?, ?it/s]\n"
     ]
    },
    {
     "name": "stdout",
     "output_type": "stream",
     "text": [
      "BLUT4.SA\n"
     ]
    },
    {
     "name": "stderr",
     "output_type": "stream",
     "text": [
      "  0%|          | 0/1 [00:03<?, ?it/s]\n"
     ]
    },
    {
     "name": "stdout",
     "output_type": "stream",
     "text": [
      "BLUT3.SA\n"
     ]
    },
    {
     "name": "stderr",
     "output_type": "stream",
     "text": [
      "  0%|          | 0/1 [00:03<?, ?it/s]\n"
     ]
    },
    {
     "name": "stdout",
     "output_type": "stream",
     "text": [
      "MODL4.SA\n"
     ]
    },
    {
     "name": "stderr",
     "output_type": "stream",
     "text": [
      "  0%|          | 0/1 [00:03<?, ?it/s]\n"
     ]
    },
    {
     "name": "stdout",
     "output_type": "stream",
     "text": [
      "CARD3.SA\n"
     ]
    },
    {
     "name": "stderr",
     "output_type": "stream",
     "text": [
      "  0%|          | 0/1 [00:03<?, ?it/s]\n"
     ]
    },
    {
     "name": "stdout",
     "output_type": "stream",
     "text": [
      "FNCN3.SA\n"
     ]
    },
    {
     "name": "stderr",
     "output_type": "stream",
     "text": [
      "  0%|          | 0/1 [00:03<?, ?it/s]\n"
     ]
    },
    {
     "name": "stdout",
     "output_type": "stream",
     "text": [
      "LCAM3.SA\n"
     ]
    },
    {
     "name": "stderr",
     "output_type": "stream",
     "text": [
      "  0%|          | 0/1 [00:03<?, ?it/s]\n"
     ]
    },
    {
     "name": "stdout",
     "output_type": "stream",
     "text": [
      "BIDI4.SA\n"
     ]
    },
    {
     "name": "stderr",
     "output_type": "stream",
     "text": [
      "  0%|          | 0/1 [00:03<?, ?it/s]\n"
     ]
    },
    {
     "name": "stdout",
     "output_type": "stream",
     "text": [
      "BIDI3.SA\n"
     ]
    },
    {
     "name": "stderr",
     "output_type": "stream",
     "text": [
      "  0%|          | 0/1 [00:03<?, ?it/s]\n"
     ]
    },
    {
     "name": "stdout",
     "output_type": "stream",
     "text": [
      "EEEL4.SA\n"
     ]
    },
    {
     "name": "stderr",
     "output_type": "stream",
     "text": [
      "  0%|          | 0/1 [00:03<?, ?it/s]\n"
     ]
    },
    {
     "name": "stdout",
     "output_type": "stream",
     "text": [
      "EEEL3.SA\n"
     ]
    },
    {
     "name": "stderr",
     "output_type": "stream",
     "text": [
      "  0%|          | 0/1 [00:03<?, ?it/s]\n"
     ]
    },
    {
     "name": "stdout",
     "output_type": "stream",
     "text": [
      "BBRK3.SA\n"
     ]
    },
    {
     "name": "stderr",
     "output_type": "stream",
     "text": [
      "  0%|          | 0/1 [00:03<?, ?it/s]\n"
     ]
    },
    {
     "name": "stdout",
     "output_type": "stream",
     "text": [
      "CESP6.SA\n"
     ]
    },
    {
     "name": "stderr",
     "output_type": "stream",
     "text": [
      "  0%|          | 0/1 [00:03<?, ?it/s]\n"
     ]
    },
    {
     "name": "stdout",
     "output_type": "stream",
     "text": [
      "CESP3.SA\n"
     ]
    },
    {
     "name": "stderr",
     "output_type": "stream",
     "text": [
      "  0%|          | 0/1 [00:03<?, ?it/s]\n"
     ]
    },
    {
     "name": "stdout",
     "output_type": "stream",
     "text": [
      "CESP5.SA\n"
     ]
    },
    {
     "name": "stderr",
     "output_type": "stream",
     "text": [
      "  0%|          | 0/1 [00:03<?, ?it/s]\n"
     ]
    },
    {
     "name": "stdout",
     "output_type": "stream",
     "text": [
      "MOSI3.SA\n"
     ]
    },
    {
     "name": "stderr",
     "output_type": "stream",
     "text": [
      "  0%|          | 0/1 [00:03<?, ?it/s]\n"
     ]
    },
    {
     "name": "stdout",
     "output_type": "stream",
     "text": [
      "POWE3.SA\n"
     ]
    },
    {
     "name": "stderr",
     "output_type": "stream",
     "text": [
      "  0%|          | 0/1 [00:03<?, ?it/s]\n"
     ]
    },
    {
     "name": "stdout",
     "output_type": "stream",
     "text": [
      "GNDI3.SA\n"
     ]
    },
    {
     "name": "stderr",
     "output_type": "stream",
     "text": [
      "  0%|          | 0/1 [00:03<?, ?it/s]\n"
     ]
    },
    {
     "name": "stdout",
     "output_type": "stream",
     "text": [
      "LAME4.SA\n"
     ]
    },
    {
     "name": "stderr",
     "output_type": "stream",
     "text": [
      "  0%|          | 0/1 [00:04<?, ?it/s]\n"
     ]
    },
    {
     "name": "stdout",
     "output_type": "stream",
     "text": [
      "LAME3.SA\n"
     ]
    },
    {
     "name": "stderr",
     "output_type": "stream",
     "text": [
      "  0%|          | 0/1 [00:03<?, ?it/s]\n"
     ]
    },
    {
     "name": "stdout",
     "output_type": "stream",
     "text": [
      "OMGE3.SA\n"
     ]
    },
    {
     "name": "stderr",
     "output_type": "stream",
     "text": [
      "  0%|          | 0/1 [00:03<?, ?it/s]\n"
     ]
    },
    {
     "name": "stdout",
     "output_type": "stream",
     "text": [
      "IGTA3.SA\n"
     ]
    },
    {
     "name": "stderr",
     "output_type": "stream",
     "text": [
      "  0%|          | 0/1 [00:03<?, ?it/s]\n"
     ]
    },
    {
     "name": "stdout",
     "output_type": "stream",
     "text": [
      "JPSA3.SA\n"
     ]
    },
    {
     "name": "stderr",
     "output_type": "stream",
     "text": [
      "  0%|          | 0/1 [00:03<?, ?it/s]\n"
     ]
    },
    {
     "name": "stdout",
     "output_type": "stream",
     "text": [
      "BRDT3.SA\n"
     ]
    },
    {
     "name": "stderr",
     "output_type": "stream",
     "text": [
      "  0%|          | 0/1 [00:04<?, ?it/s]\n"
     ]
    },
    {
     "name": "stdout",
     "output_type": "stream",
     "text": [
      "JBDU4.SA\n"
     ]
    },
    {
     "name": "stderr",
     "output_type": "stream",
     "text": [
      "  0%|          | 0/1 [00:03<?, ?it/s]\n"
     ]
    },
    {
     "name": "stdout",
     "output_type": "stream",
     "text": [
      "JBDU3.SA\n"
     ]
    },
    {
     "name": "stderr",
     "output_type": "stream",
     "text": [
      "  0%|          | 0/1 [00:03<?, ?it/s]\n"
     ]
    },
    {
     "name": "stdout",
     "output_type": "stream",
     "text": [
      "HGTX3.SA\n"
     ]
    },
    {
     "name": "stderr",
     "output_type": "stream",
     "text": [
      "  0%|          | 0/1 [00:03<?, ?it/s]\n"
     ]
    },
    {
     "name": "stdout",
     "output_type": "stream",
     "text": [
      "CCPR3.SA\n"
     ]
    },
    {
     "name": "stderr",
     "output_type": "stream",
     "text": [
      "  0%|          | 0/1 [00:03<?, ?it/s]\n"
     ]
    },
    {
     "name": "stdout",
     "output_type": "stream",
     "text": [
      "DTEX3.SA\n"
     ]
    },
    {
     "name": "stderr",
     "output_type": "stream",
     "text": [
      "  0%|          | 0/1 [00:03<?, ?it/s]\n"
     ]
    },
    {
     "name": "stdout",
     "output_type": "stream",
     "text": [
      "VVAR3.SA\n"
     ]
    },
    {
     "name": "stderr",
     "output_type": "stream",
     "text": [
      "  0%|          | 0/1 [00:03<?, ?it/s]\n"
     ]
    },
    {
     "name": "stdout",
     "output_type": "stream",
     "text": [
      "PNVL4.SA\n"
     ]
    },
    {
     "name": "stderr",
     "output_type": "stream",
     "text": [
      "  0%|          | 0/1 [00:03<?, ?it/s]\n"
     ]
    },
    {
     "name": "stdout",
     "output_type": "stream",
     "text": [
      "TESA3.SA\n"
     ]
    },
    {
     "name": "stderr",
     "output_type": "stream",
     "text": [
      "  0%|          | 0/1 [00:03<?, ?it/s]\n"
     ]
    },
    {
     "name": "stdout",
     "output_type": "stream",
     "text": [
      "BTOW3.SA\n"
     ]
    },
    {
     "name": "stderr",
     "output_type": "stream",
     "text": [
      "  0%|          | 0/1 [00:03<?, ?it/s]\n"
     ]
    },
    {
     "name": "stdout",
     "output_type": "stream",
     "text": [
      "LINX3.SA\n"
     ]
    },
    {
     "name": "stderr",
     "output_type": "stream",
     "text": [
      "  0%|          | 0/1 [00:04<?, ?it/s]\n"
     ]
    },
    {
     "name": "stdout",
     "output_type": "stream",
     "text": [
      "BTTL3.SA\n"
     ]
    },
    {
     "name": "stderr",
     "output_type": "stream",
     "text": [
      "  0%|          | 0/1 [00:03<?, ?it/s]\n"
     ]
    },
    {
     "name": "stdout",
     "output_type": "stream",
     "text": [
      "GPCP3.SA\n"
     ]
    },
    {
     "name": "stderr",
     "output_type": "stream",
     "text": [
      "  0%|          | 0/1 [00:03<?, ?it/s]\n"
     ]
    },
    {
     "name": "stdout",
     "output_type": "stream",
     "text": [
      "GPCP4.SA\n"
     ]
    },
    {
     "name": "stderr",
     "output_type": "stream",
     "text": [
      "  0%|          | 0/1 [00:03<?, ?it/s]\n"
     ]
    },
    {
     "name": "stdout",
     "output_type": "stream",
     "text": [
      "SMLS3.SA\n"
     ]
    },
    {
     "name": "stderr",
     "output_type": "stream",
     "text": [
      "  0%|          | 0/1 [00:04<?, ?it/s]\n"
     ]
    },
    {
     "name": "stdout",
     "output_type": "stream",
     "text": [
      "MMXM3.SA\n"
     ]
    },
    {
     "name": "stderr",
     "output_type": "stream",
     "text": [
      "  0%|          | 0/1 [00:03<?, ?it/s]\n"
     ]
    },
    {
     "name": "stdout",
     "output_type": "stream",
     "text": [
      "BSEV3.SA\n"
     ]
    },
    {
     "name": "stderr",
     "output_type": "stream",
     "text": [
      "  0%|          | 0/1 [00:03<?, ?it/s]\n"
     ]
    },
    {
     "name": "stdout",
     "output_type": "stream",
     "text": [
      "CNTO3.SA\n"
     ]
    },
    {
     "name": "stderr",
     "output_type": "stream",
     "text": [
      "  0%|          | 0/1 [00:03<?, ?it/s]\n"
     ]
    },
    {
     "name": "stdout",
     "output_type": "stream",
     "text": [
      "TIET4.SA\n"
     ]
    },
    {
     "name": "stderr",
     "output_type": "stream",
     "text": [
      "  0%|          | 0/1 [00:03<?, ?it/s]\n"
     ]
    },
    {
     "name": "stdout",
     "output_type": "stream",
     "text": [
      "TIET3.SA\n"
     ]
    },
    {
     "name": "stderr",
     "output_type": "stream",
     "text": [
      "  0%|          | 0/1 [00:03<?, ?it/s]\n"
     ]
    },
    {
     "name": "stdout",
     "output_type": "stream",
     "text": [
      "CEPE3.SA\n"
     ]
    },
    {
     "name": "stderr",
     "output_type": "stream",
     "text": [
      "  0%|          | 0/1 [00:03<?, ?it/s]\n"
     ]
    },
    {
     "name": "stdout",
     "output_type": "stream",
     "text": [
      "CALI4.SA\n"
     ]
    },
    {
     "name": "stderr",
     "output_type": "stream",
     "text": [
      "  0%|          | 0/1 [00:03<?, ?it/s]\n"
     ]
    },
    {
     "name": "stdout",
     "output_type": "stream",
     "text": [
      "BPAR3.SA\n"
     ]
    },
    {
     "name": "stderr",
     "output_type": "stream",
     "text": [
      "  0%|          | 0/1 [00:03<?, ?it/s]\n"
     ]
    },
    {
     "name": "stdout",
     "output_type": "stream",
     "text": [
      "APTI4.SA\n"
     ]
    },
    {
     "name": "stderr",
     "output_type": "stream",
     "text": [
      "  0%|          | 0/1 [00:04<?, ?it/s]\n"
     ]
    },
    {
     "name": "stdout",
     "output_type": "stream",
     "text": [
      "WIZS3.SA\n"
     ]
    },
    {
     "name": "stderr",
     "output_type": "stream",
     "text": [
      "  0%|          | 0/1 [00:04<?, ?it/s]\n"
     ]
    },
    {
     "name": "stdout",
     "output_type": "stream",
     "text": [
      "LLIS3.SA\n"
     ]
    },
    {
     "name": "stderr",
     "output_type": "stream",
     "text": [
      "  0%|          | 0/1 [00:04<?, ?it/s]\n"
     ]
    },
    {
     "name": "stdout",
     "output_type": "stream",
     "text": [
      "BRML3.SA\n"
     ]
    },
    {
     "name": "stderr",
     "output_type": "stream",
     "text": [
      "  0%|          | 0/1 [00:03<?, ?it/s]\n"
     ]
    },
    {
     "name": "stdout",
     "output_type": "stream",
     "text": [
      "DMMO3.SA\n"
     ]
    },
    {
     "name": "stderr",
     "output_type": "stream",
     "text": [
      "  0%|          | 0/1 [00:03<?, ?it/s]\n"
     ]
    },
    {
     "name": "stdout",
     "output_type": "stream",
     "text": [
      "GETT3.SA\n"
     ]
    },
    {
     "name": "stderr",
     "output_type": "stream",
     "text": [
      "  0%|          | 0/1 [00:03<?, ?it/s]\n"
     ]
    },
    {
     "name": "stdout",
     "output_type": "stream",
     "text": [
      "GETT4.SA\n"
     ]
    },
    {
     "name": "stderr",
     "output_type": "stream",
     "text": [
      "  0%|          | 0/1 [00:03<?, ?it/s]\n"
     ]
    },
    {
     "name": "stdout",
     "output_type": "stream",
     "text": [
      "SULA4.SA\n"
     ]
    },
    {
     "name": "stderr",
     "output_type": "stream",
     "text": [
      "  0%|          | 0/1 [00:03<?, ?it/s]\n"
     ]
    },
    {
     "name": "stdout",
     "output_type": "stream",
     "text": [
      "SULA3.SA\n"
     ]
    },
    {
     "name": "stderr",
     "output_type": "stream",
     "text": [
      "  0%|          | 0/1 [00:03<?, ?it/s]\n"
     ]
    },
    {
     "name": "stdout",
     "output_type": "stream",
     "text": [
      "CEPE5.SA\n"
     ]
    },
    {
     "name": "stderr",
     "output_type": "stream",
     "text": [
      "  0%|          | 0/1 [00:03<?, ?it/s]\n"
     ]
    },
    {
     "name": "stdout",
     "output_type": "stream",
     "text": [
      "CEPE6.SA\n"
     ]
    },
    {
     "name": "stderr",
     "output_type": "stream",
     "text": [
      "  0%|          | 0/1 [00:03<?, ?it/s]\n"
     ]
    },
    {
     "name": "stdout",
     "output_type": "stream",
     "text": [
      "BKBR3.SA\n"
     ]
    },
    {
     "name": "stderr",
     "output_type": "stream",
     "text": [
      "  0%|          | 0/1 [00:04<?, ?it/s]\n"
     ]
    },
    {
     "name": "stdout",
     "output_type": "stream",
     "text": [
      "MTIG4.SA\n"
     ]
    },
    {
     "name": "stderr",
     "output_type": "stream",
     "text": [
      "  0%|          | 0/1 [00:03<?, ?it/s]\n"
     ]
    },
    {
     "name": "stdout",
     "output_type": "stream",
     "text": [
      "BLUT4.SA\n"
     ]
    },
    {
     "name": "stderr",
     "output_type": "stream",
     "text": [
      "  0%|          | 0/1 [00:03<?, ?it/s]\n"
     ]
    },
    {
     "name": "stdout",
     "output_type": "stream",
     "text": [
      "BLUT3.SA\n"
     ]
    },
    {
     "name": "stderr",
     "output_type": "stream",
     "text": [
      "  0%|          | 0/1 [00:03<?, ?it/s]\n"
     ]
    },
    {
     "name": "stdout",
     "output_type": "stream",
     "text": [
      "MODL4.SA\n"
     ]
    },
    {
     "name": "stderr",
     "output_type": "stream",
     "text": [
      "  0%|          | 0/1 [00:03<?, ?it/s]\n"
     ]
    },
    {
     "name": "stdout",
     "output_type": "stream",
     "text": [
      "CARD3.SA\n"
     ]
    },
    {
     "name": "stderr",
     "output_type": "stream",
     "text": [
      "  0%|          | 0/1 [00:04<?, ?it/s]\n"
     ]
    },
    {
     "name": "stdout",
     "output_type": "stream",
     "text": [
      "FNCN3.SA\n"
     ]
    },
    {
     "name": "stderr",
     "output_type": "stream",
     "text": [
      "  0%|          | 0/1 [00:04<?, ?it/s]\n"
     ]
    },
    {
     "name": "stdout",
     "output_type": "stream",
     "text": [
      "LCAM3.SA\n"
     ]
    },
    {
     "name": "stderr",
     "output_type": "stream",
     "text": [
      "  0%|          | 0/1 [00:03<?, ?it/s]\n"
     ]
    },
    {
     "name": "stdout",
     "output_type": "stream",
     "text": [
      "BIDI4.SA\n"
     ]
    },
    {
     "name": "stderr",
     "output_type": "stream",
     "text": [
      "  0%|          | 0/1 [00:03<?, ?it/s]\n"
     ]
    },
    {
     "name": "stdout",
     "output_type": "stream",
     "text": [
      "BIDI3.SA\n"
     ]
    },
    {
     "name": "stderr",
     "output_type": "stream",
     "text": [
      "  0%|          | 0/1 [00:03<?, ?it/s]\n"
     ]
    },
    {
     "name": "stdout",
     "output_type": "stream",
     "text": [
      "EEEL4.SA\n"
     ]
    },
    {
     "name": "stderr",
     "output_type": "stream",
     "text": [
      "  0%|          | 0/1 [00:03<?, ?it/s]\n"
     ]
    },
    {
     "name": "stdout",
     "output_type": "stream",
     "text": [
      "EEEL3.SA\n"
     ]
    },
    {
     "name": "stderr",
     "output_type": "stream",
     "text": [
      "  0%|          | 0/1 [00:04<?, ?it/s]\n"
     ]
    },
    {
     "name": "stdout",
     "output_type": "stream",
     "text": [
      "BBRK3.SA\n"
     ]
    },
    {
     "name": "stderr",
     "output_type": "stream",
     "text": [
      "  0%|          | 0/1 [00:03<?, ?it/s]\n"
     ]
    },
    {
     "name": "stdout",
     "output_type": "stream",
     "text": [
      "CESP6.SA\n"
     ]
    },
    {
     "name": "stderr",
     "output_type": "stream",
     "text": [
      "  0%|          | 0/1 [00:04<?, ?it/s]\n"
     ]
    },
    {
     "name": "stdout",
     "output_type": "stream",
     "text": [
      "CESP3.SA\n"
     ]
    },
    {
     "name": "stderr",
     "output_type": "stream",
     "text": [
      "  0%|          | 0/1 [00:03<?, ?it/s]\n"
     ]
    },
    {
     "name": "stdout",
     "output_type": "stream",
     "text": [
      "CESP5.SA\n"
     ]
    },
    {
     "name": "stderr",
     "output_type": "stream",
     "text": [
      "  0%|          | 0/1 [00:03<?, ?it/s]\n"
     ]
    },
    {
     "name": "stdout",
     "output_type": "stream",
     "text": [
      "MOSI3.SA\n"
     ]
    },
    {
     "name": "stderr",
     "output_type": "stream",
     "text": [
      "  0%|          | 0/1 [00:03<?, ?it/s]\n"
     ]
    },
    {
     "name": "stdout",
     "output_type": "stream",
     "text": [
      "POWE3.SA\n"
     ]
    },
    {
     "name": "stderr",
     "output_type": "stream",
     "text": [
      "  0%|          | 0/1 [00:03<?, ?it/s]\n"
     ]
    },
    {
     "name": "stdout",
     "output_type": "stream",
     "text": [
      "GNDI3.SA\n"
     ]
    },
    {
     "name": "stderr",
     "output_type": "stream",
     "text": [
      "  0%|          | 0/1 [00:03<?, ?it/s]\n"
     ]
    },
    {
     "name": "stdout",
     "output_type": "stream",
     "text": [
      "LAME4.SA\n"
     ]
    },
    {
     "name": "stderr",
     "output_type": "stream",
     "text": [
      "  0%|          | 0/1 [00:04<?, ?it/s]\n"
     ]
    },
    {
     "name": "stdout",
     "output_type": "stream",
     "text": [
      "LAME3.SA\n"
     ]
    },
    {
     "name": "stderr",
     "output_type": "stream",
     "text": [
      "  0%|          | 0/1 [00:03<?, ?it/s]\n"
     ]
    },
    {
     "name": "stdout",
     "output_type": "stream",
     "text": [
      "OMGE3.SA\n"
     ]
    },
    {
     "name": "stderr",
     "output_type": "stream",
     "text": [
      "  0%|          | 0/1 [00:03<?, ?it/s]\n"
     ]
    },
    {
     "name": "stdout",
     "output_type": "stream",
     "text": [
      "IGTA3.SA\n"
     ]
    },
    {
     "name": "stderr",
     "output_type": "stream",
     "text": [
      "  0%|          | 0/1 [00:03<?, ?it/s]\n"
     ]
    },
    {
     "name": "stdout",
     "output_type": "stream",
     "text": [
      "JPSA3.SA\n"
     ]
    },
    {
     "name": "stderr",
     "output_type": "stream",
     "text": [
      "  0%|          | 0/1 [00:03<?, ?it/s]\n"
     ]
    },
    {
     "name": "stdout",
     "output_type": "stream",
     "text": [
      "BRDT3.SA\n"
     ]
    },
    {
     "name": "stderr",
     "output_type": "stream",
     "text": [
      "  0%|          | 0/1 [00:03<?, ?it/s]\n"
     ]
    },
    {
     "name": "stdout",
     "output_type": "stream",
     "text": [
      "JBDU4.SA\n"
     ]
    },
    {
     "name": "stderr",
     "output_type": "stream",
     "text": [
      "  0%|          | 0/1 [00:03<?, ?it/s]\n"
     ]
    },
    {
     "name": "stdout",
     "output_type": "stream",
     "text": [
      "JBDU3.SA\n"
     ]
    },
    {
     "name": "stderr",
     "output_type": "stream",
     "text": [
      "  0%|          | 0/1 [00:03<?, ?it/s]\n"
     ]
    },
    {
     "name": "stdout",
     "output_type": "stream",
     "text": [
      "HGTX3.SA\n"
     ]
    },
    {
     "name": "stderr",
     "output_type": "stream",
     "text": [
      "  0%|          | 0/1 [00:03<?, ?it/s]\n"
     ]
    },
    {
     "name": "stdout",
     "output_type": "stream",
     "text": [
      "CCPR3.SA\n"
     ]
    },
    {
     "name": "stderr",
     "output_type": "stream",
     "text": [
      "  0%|          | 0/1 [00:03<?, ?it/s]\n"
     ]
    },
    {
     "name": "stdout",
     "output_type": "stream",
     "text": [
      "DTEX3.SA\n"
     ]
    },
    {
     "name": "stderr",
     "output_type": "stream",
     "text": [
      "  0%|          | 0/1 [00:03<?, ?it/s]\n"
     ]
    },
    {
     "name": "stdout",
     "output_type": "stream",
     "text": [
      "VVAR3.SA\n"
     ]
    },
    {
     "name": "stderr",
     "output_type": "stream",
     "text": [
      "  0%|          | 0/1 [00:03<?, ?it/s]\n"
     ]
    },
    {
     "name": "stdout",
     "output_type": "stream",
     "text": [
      "PNVL4.SA\n"
     ]
    },
    {
     "name": "stderr",
     "output_type": "stream",
     "text": [
      "  0%|          | 0/1 [00:03<?, ?it/s]\n"
     ]
    },
    {
     "name": "stdout",
     "output_type": "stream",
     "text": [
      "TESA3.SA\n"
     ]
    },
    {
     "name": "stderr",
     "output_type": "stream",
     "text": [
      "  0%|          | 0/1 [00:03<?, ?it/s]\n"
     ]
    },
    {
     "name": "stdout",
     "output_type": "stream",
     "text": [
      "BTOW3.SA\n"
     ]
    },
    {
     "name": "stderr",
     "output_type": "stream",
     "text": [
      "  0%|          | 0/1 [00:03<?, ?it/s]\n"
     ]
    },
    {
     "name": "stdout",
     "output_type": "stream",
     "text": [
      "LINX3.SA\n"
     ]
    },
    {
     "name": "stderr",
     "output_type": "stream",
     "text": [
      "  0%|          | 0/1 [00:03<?, ?it/s]\n"
     ]
    },
    {
     "name": "stdout",
     "output_type": "stream",
     "text": [
      "BTTL3.SA\n"
     ]
    },
    {
     "name": "stderr",
     "output_type": "stream",
     "text": [
      "  0%|          | 0/1 [00:04<?, ?it/s]\n"
     ]
    },
    {
     "name": "stdout",
     "output_type": "stream",
     "text": [
      "GPCP3.SA\n"
     ]
    },
    {
     "name": "stderr",
     "output_type": "stream",
     "text": [
      "  0%|          | 0/1 [00:03<?, ?it/s]\n"
     ]
    },
    {
     "name": "stdout",
     "output_type": "stream",
     "text": [
      "GPCP4.SA\n"
     ]
    },
    {
     "name": "stderr",
     "output_type": "stream",
     "text": [
      "  0%|          | 0/1 [00:03<?, ?it/s]\n"
     ]
    },
    {
     "name": "stdout",
     "output_type": "stream",
     "text": [
      "SMLS3.SA\n"
     ]
    },
    {
     "name": "stderr",
     "output_type": "stream",
     "text": [
      "  0%|          | 0/1 [00:03<?, ?it/s]\n"
     ]
    },
    {
     "name": "stdout",
     "output_type": "stream",
     "text": [
      "MMXM3.SA\n"
     ]
    },
    {
     "name": "stderr",
     "output_type": "stream",
     "text": [
      "  0%|          | 0/1 [00:03<?, ?it/s]\n"
     ]
    },
    {
     "name": "stdout",
     "output_type": "stream",
     "text": [
      "BSEV3.SA\n"
     ]
    },
    {
     "name": "stderr",
     "output_type": "stream",
     "text": [
      "  0%|          | 0/1 [00:04<?, ?it/s]\n"
     ]
    },
    {
     "name": "stdout",
     "output_type": "stream",
     "text": [
      "CNTO3.SA\n"
     ]
    },
    {
     "name": "stderr",
     "output_type": "stream",
     "text": [
      "  0%|          | 0/1 [00:03<?, ?it/s]\n"
     ]
    },
    {
     "name": "stdout",
     "output_type": "stream",
     "text": [
      "TIET4.SA\n"
     ]
    },
    {
     "name": "stderr",
     "output_type": "stream",
     "text": [
      "  0%|          | 0/1 [00:03<?, ?it/s]\n"
     ]
    },
    {
     "name": "stdout",
     "output_type": "stream",
     "text": [
      "TIET3.SA\n"
     ]
    },
    {
     "name": "stderr",
     "output_type": "stream",
     "text": [
      "  0%|          | 0/1 [00:03<?, ?it/s]\n"
     ]
    },
    {
     "name": "stdout",
     "output_type": "stream",
     "text": [
      "CEPE3.SA\n"
     ]
    },
    {
     "name": "stderr",
     "output_type": "stream",
     "text": [
      "  0%|          | 0/1 [00:03<?, ?it/s]\n"
     ]
    },
    {
     "name": "stdout",
     "output_type": "stream",
     "text": [
      "CALI4.SA\n"
     ]
    },
    {
     "name": "stderr",
     "output_type": "stream",
     "text": [
      "  0%|          | 0/1 [00:03<?, ?it/s]\n"
     ]
    },
    {
     "name": "stdout",
     "output_type": "stream",
     "text": [
      "BPAR3.SA\n"
     ]
    },
    {
     "name": "stderr",
     "output_type": "stream",
     "text": [
      "  0%|          | 0/1 [00:03<?, ?it/s]\n"
     ]
    },
    {
     "name": "stdout",
     "output_type": "stream",
     "text": [
      "APTI4.SA\n"
     ]
    },
    {
     "name": "stderr",
     "output_type": "stream",
     "text": [
      "  0%|          | 0/1 [00:03<?, ?it/s]\n"
     ]
    },
    {
     "name": "stdout",
     "output_type": "stream",
     "text": [
      "WIZS3.SA\n"
     ]
    },
    {
     "name": "stderr",
     "output_type": "stream",
     "text": [
      "  0%|          | 0/1 [00:04<?, ?it/s]\n"
     ]
    },
    {
     "name": "stdout",
     "output_type": "stream",
     "text": [
      "LLIS3.SA\n"
     ]
    },
    {
     "name": "stderr",
     "output_type": "stream",
     "text": [
      "  0%|          | 0/1 [00:03<?, ?it/s]\n"
     ]
    },
    {
     "name": "stdout",
     "output_type": "stream",
     "text": [
      "BRML3.SA\n"
     ]
    },
    {
     "name": "stderr",
     "output_type": "stream",
     "text": [
      "  0%|          | 0/1 [00:03<?, ?it/s]\n"
     ]
    },
    {
     "name": "stdout",
     "output_type": "stream",
     "text": [
      "DMMO3.SA\n"
     ]
    },
    {
     "name": "stderr",
     "output_type": "stream",
     "text": [
      "  0%|          | 0/1 [00:03<?, ?it/s]\n"
     ]
    },
    {
     "name": "stdout",
     "output_type": "stream",
     "text": [
      "GETT3.SA\n"
     ]
    },
    {
     "name": "stderr",
     "output_type": "stream",
     "text": [
      "  0%|          | 0/1 [00:03<?, ?it/s]\n"
     ]
    },
    {
     "name": "stdout",
     "output_type": "stream",
     "text": [
      "GETT4.SA\n"
     ]
    },
    {
     "name": "stderr",
     "output_type": "stream",
     "text": [
      "  0%|          | 0/1 [00:03<?, ?it/s]\n"
     ]
    },
    {
     "name": "stdout",
     "output_type": "stream",
     "text": [
      "SULA4.SA\n"
     ]
    },
    {
     "name": "stderr",
     "output_type": "stream",
     "text": [
      "  0%|          | 0/1 [00:03<?, ?it/s]\n"
     ]
    },
    {
     "name": "stdout",
     "output_type": "stream",
     "text": [
      "SULA3.SA\n"
     ]
    },
    {
     "name": "stderr",
     "output_type": "stream",
     "text": [
      "  0%|          | 0/1 [00:03<?, ?it/s]\n"
     ]
    },
    {
     "name": "stdout",
     "output_type": "stream",
     "text": [
      "CEPE5.SA\n"
     ]
    },
    {
     "name": "stderr",
     "output_type": "stream",
     "text": [
      "  0%|          | 0/1 [00:03<?, ?it/s]\n"
     ]
    },
    {
     "name": "stdout",
     "output_type": "stream",
     "text": [
      "CEPE6.SA\n"
     ]
    },
    {
     "name": "stderr",
     "output_type": "stream",
     "text": [
      "  0%|          | 0/1 [00:04<?, ?it/s]\n"
     ]
    },
    {
     "name": "stdout",
     "output_type": "stream",
     "text": [
      "BKBR3.SA\n"
     ]
    },
    {
     "name": "stderr",
     "output_type": "stream",
     "text": [
      "  0%|          | 0/1 [00:04<?, ?it/s]\n"
     ]
    },
    {
     "name": "stdout",
     "output_type": "stream",
     "text": [
      "MTIG4.SA\n"
     ]
    },
    {
     "name": "stderr",
     "output_type": "stream",
     "text": [
      "  0%|          | 0/1 [00:03<?, ?it/s]\n"
     ]
    },
    {
     "name": "stdout",
     "output_type": "stream",
     "text": [
      "BLUT4.SA\n"
     ]
    },
    {
     "name": "stderr",
     "output_type": "stream",
     "text": [
      "  0%|          | 0/1 [00:04<?, ?it/s]\n"
     ]
    },
    {
     "name": "stdout",
     "output_type": "stream",
     "text": [
      "BLUT3.SA\n"
     ]
    },
    {
     "name": "stderr",
     "output_type": "stream",
     "text": [
      "  0%|          | 0/1 [00:03<?, ?it/s]\n"
     ]
    },
    {
     "name": "stdout",
     "output_type": "stream",
     "text": [
      "MODL4.SA\n"
     ]
    },
    {
     "name": "stderr",
     "output_type": "stream",
     "text": [
      "  0%|          | 0/1 [00:03<?, ?it/s]\n"
     ]
    },
    {
     "name": "stdout",
     "output_type": "stream",
     "text": [
      "CARD3.SA\n"
     ]
    },
    {
     "name": "stderr",
     "output_type": "stream",
     "text": [
      "  0%|          | 0/1 [00:03<?, ?it/s]\n"
     ]
    },
    {
     "name": "stdout",
     "output_type": "stream",
     "text": [
      "FNCN3.SA\n"
     ]
    },
    {
     "name": "stderr",
     "output_type": "stream",
     "text": [
      "  0%|          | 0/1 [00:04<?, ?it/s]\n"
     ]
    },
    {
     "name": "stdout",
     "output_type": "stream",
     "text": [
      "LCAM3.SA\n"
     ]
    },
    {
     "name": "stderr",
     "output_type": "stream",
     "text": [
      "  0%|          | 0/1 [00:03<?, ?it/s]\n"
     ]
    },
    {
     "name": "stdout",
     "output_type": "stream",
     "text": [
      "BIDI4.SA\n"
     ]
    },
    {
     "name": "stderr",
     "output_type": "stream",
     "text": [
      "  0%|          | 0/1 [00:03<?, ?it/s]\n"
     ]
    },
    {
     "name": "stdout",
     "output_type": "stream",
     "text": [
      "BIDI3.SA\n"
     ]
    },
    {
     "name": "stderr",
     "output_type": "stream",
     "text": [
      "  0%|          | 0/1 [00:03<?, ?it/s]\n"
     ]
    },
    {
     "name": "stdout",
     "output_type": "stream",
     "text": [
      "EEEL4.SA\n"
     ]
    },
    {
     "name": "stderr",
     "output_type": "stream",
     "text": [
      "  0%|          | 0/1 [00:03<?, ?it/s]\n"
     ]
    },
    {
     "name": "stdout",
     "output_type": "stream",
     "text": [
      "EEEL3.SA\n"
     ]
    },
    {
     "name": "stderr",
     "output_type": "stream",
     "text": [
      "  0%|          | 0/1 [00:03<?, ?it/s]\n"
     ]
    },
    {
     "name": "stdout",
     "output_type": "stream",
     "text": [
      "BBRK3.SA\n"
     ]
    },
    {
     "name": "stderr",
     "output_type": "stream",
     "text": [
      "  0%|          | 0/1 [00:03<?, ?it/s]\n"
     ]
    },
    {
     "name": "stdout",
     "output_type": "stream",
     "text": [
      "CESP6.SA\n"
     ]
    },
    {
     "name": "stderr",
     "output_type": "stream",
     "text": [
      "  0%|          | 0/1 [00:03<?, ?it/s]\n"
     ]
    },
    {
     "name": "stdout",
     "output_type": "stream",
     "text": [
      "CESP3.SA\n"
     ]
    },
    {
     "name": "stderr",
     "output_type": "stream",
     "text": [
      "  0%|          | 0/1 [00:03<?, ?it/s]\n"
     ]
    },
    {
     "name": "stdout",
     "output_type": "stream",
     "text": [
      "CESP5.SA\n"
     ]
    },
    {
     "name": "stderr",
     "output_type": "stream",
     "text": [
      "  0%|          | 0/1 [00:03<?, ?it/s]\n"
     ]
    },
    {
     "name": "stdout",
     "output_type": "stream",
     "text": [
      "MOSI3.SA\n"
     ]
    },
    {
     "name": "stderr",
     "output_type": "stream",
     "text": [
      "  0%|          | 0/1 [00:03<?, ?it/s]\n"
     ]
    },
    {
     "name": "stdout",
     "output_type": "stream",
     "text": [
      "POWE3.SA\n"
     ]
    },
    {
     "name": "stderr",
     "output_type": "stream",
     "text": [
      "  0%|          | 0/1 [00:03<?, ?it/s]\n"
     ]
    },
    {
     "name": "stdout",
     "output_type": "stream",
     "text": [
      "GNDI3.SA\n"
     ]
    },
    {
     "name": "stderr",
     "output_type": "stream",
     "text": [
      "  0%|          | 0/1 [00:03<?, ?it/s]\n"
     ]
    },
    {
     "name": "stdout",
     "output_type": "stream",
     "text": [
      "LAME4.SA\n"
     ]
    },
    {
     "name": "stderr",
     "output_type": "stream",
     "text": [
      "  0%|          | 0/1 [00:03<?, ?it/s]\n"
     ]
    },
    {
     "name": "stdout",
     "output_type": "stream",
     "text": [
      "LAME3.SA\n"
     ]
    },
    {
     "name": "stderr",
     "output_type": "stream",
     "text": [
      "  0%|          | 0/1 [00:03<?, ?it/s]\n"
     ]
    },
    {
     "name": "stdout",
     "output_type": "stream",
     "text": [
      "OMGE3.SA\n"
     ]
    },
    {
     "name": "stderr",
     "output_type": "stream",
     "text": [
      "  0%|          | 0/1 [00:04<?, ?it/s]\n"
     ]
    },
    {
     "name": "stdout",
     "output_type": "stream",
     "text": [
      "IGTA3.SA\n"
     ]
    },
    {
     "name": "stderr",
     "output_type": "stream",
     "text": [
      "  0%|          | 0/1 [00:03<?, ?it/s]\n"
     ]
    },
    {
     "name": "stdout",
     "output_type": "stream",
     "text": [
      "JPSA3.SA\n"
     ]
    },
    {
     "name": "stderr",
     "output_type": "stream",
     "text": [
      "  0%|          | 0/1 [00:03<?, ?it/s]\n"
     ]
    },
    {
     "name": "stdout",
     "output_type": "stream",
     "text": [
      "BRDT3.SA\n"
     ]
    },
    {
     "name": "stderr",
     "output_type": "stream",
     "text": [
      "  0%|          | 0/1 [00:04<?, ?it/s]\n"
     ]
    },
    {
     "name": "stdout",
     "output_type": "stream",
     "text": [
      "JBDU4.SA\n"
     ]
    },
    {
     "name": "stderr",
     "output_type": "stream",
     "text": [
      "  0%|          | 0/1 [00:04<?, ?it/s]\n"
     ]
    },
    {
     "name": "stdout",
     "output_type": "stream",
     "text": [
      "JBDU3.SA\n"
     ]
    },
    {
     "name": "stderr",
     "output_type": "stream",
     "text": [
      "  0%|          | 0/1 [00:04<?, ?it/s]\n"
     ]
    },
    {
     "name": "stdout",
     "output_type": "stream",
     "text": [
      "HGTX3.SA\n"
     ]
    },
    {
     "name": "stderr",
     "output_type": "stream",
     "text": [
      "  0%|          | 0/1 [00:04<?, ?it/s]\n"
     ]
    },
    {
     "name": "stdout",
     "output_type": "stream",
     "text": [
      "CCPR3.SA\n"
     ]
    },
    {
     "name": "stderr",
     "output_type": "stream",
     "text": [
      "  0%|          | 0/1 [00:04<?, ?it/s]\n"
     ]
    },
    {
     "name": "stdout",
     "output_type": "stream",
     "text": [
      "DTEX3.SA\n"
     ]
    },
    {
     "name": "stderr",
     "output_type": "stream",
     "text": [
      "  0%|          | 0/1 [00:04<?, ?it/s]\n"
     ]
    },
    {
     "name": "stdout",
     "output_type": "stream",
     "text": [
      "VVAR3.SA\n"
     ]
    },
    {
     "name": "stderr",
     "output_type": "stream",
     "text": [
      "  0%|          | 0/1 [00:03<?, ?it/s]\n"
     ]
    },
    {
     "name": "stdout",
     "output_type": "stream",
     "text": [
      "PNVL4.SA\n"
     ]
    },
    {
     "name": "stderr",
     "output_type": "stream",
     "text": [
      "  0%|          | 0/1 [00:04<?, ?it/s]\n"
     ]
    },
    {
     "name": "stdout",
     "output_type": "stream",
     "text": [
      "TESA3.SA\n"
     ]
    },
    {
     "name": "stderr",
     "output_type": "stream",
     "text": [
      "  0%|          | 0/1 [00:04<?, ?it/s]\n"
     ]
    },
    {
     "name": "stdout",
     "output_type": "stream",
     "text": [
      "BTOW3.SA\n"
     ]
    },
    {
     "name": "stderr",
     "output_type": "stream",
     "text": [
      "  0%|          | 0/1 [00:03<?, ?it/s]\n"
     ]
    },
    {
     "name": "stdout",
     "output_type": "stream",
     "text": [
      "LINX3.SA\n"
     ]
    },
    {
     "name": "stderr",
     "output_type": "stream",
     "text": [
      "  0%|          | 0/1 [00:04<?, ?it/s]\n"
     ]
    },
    {
     "name": "stdout",
     "output_type": "stream",
     "text": [
      "BTTL3.SA\n"
     ]
    },
    {
     "name": "stderr",
     "output_type": "stream",
     "text": [
      "  0%|          | 0/1 [00:04<?, ?it/s]\n"
     ]
    },
    {
     "name": "stdout",
     "output_type": "stream",
     "text": [
      "GPCP3.SA\n"
     ]
    },
    {
     "name": "stderr",
     "output_type": "stream",
     "text": [
      "  0%|          | 0/1 [00:04<?, ?it/s]\n"
     ]
    },
    {
     "name": "stdout",
     "output_type": "stream",
     "text": [
      "GPCP4.SA\n"
     ]
    },
    {
     "name": "stderr",
     "output_type": "stream",
     "text": [
      "  0%|          | 0/1 [00:03<?, ?it/s]\n"
     ]
    },
    {
     "name": "stdout",
     "output_type": "stream",
     "text": [
      "SMLS3.SA\n"
     ]
    },
    {
     "name": "stderr",
     "output_type": "stream",
     "text": [
      "  0%|          | 0/1 [00:04<?, ?it/s]\n"
     ]
    },
    {
     "name": "stdout",
     "output_type": "stream",
     "text": [
      "MMXM3.SA\n"
     ]
    },
    {
     "name": "stderr",
     "output_type": "stream",
     "text": [
      "  0%|          | 0/1 [00:04<?, ?it/s]\n"
     ]
    },
    {
     "name": "stdout",
     "output_type": "stream",
     "text": [
      "BSEV3.SA\n"
     ]
    },
    {
     "name": "stderr",
     "output_type": "stream",
     "text": [
      "  0%|          | 0/1 [00:04<?, ?it/s]\n"
     ]
    },
    {
     "name": "stdout",
     "output_type": "stream",
     "text": [
      "CNTO3.SA\n"
     ]
    },
    {
     "name": "stderr",
     "output_type": "stream",
     "text": [
      "  0%|          | 0/1 [00:04<?, ?it/s]\n"
     ]
    },
    {
     "name": "stdout",
     "output_type": "stream",
     "text": [
      "TIET4.SA\n"
     ]
    },
    {
     "name": "stderr",
     "output_type": "stream",
     "text": [
      "  0%|          | 0/1 [00:04<?, ?it/s]\n"
     ]
    },
    {
     "name": "stdout",
     "output_type": "stream",
     "text": [
      "TIET3.SA\n"
     ]
    },
    {
     "name": "stderr",
     "output_type": "stream",
     "text": [
      "  0%|          | 0/1 [00:03<?, ?it/s]\n"
     ]
    },
    {
     "name": "stdout",
     "output_type": "stream",
     "text": [
      "CEPE3.SA\n"
     ]
    },
    {
     "name": "stderr",
     "output_type": "stream",
     "text": [
      "  0%|          | 0/1 [00:04<?, ?it/s]\n"
     ]
    },
    {
     "name": "stdout",
     "output_type": "stream",
     "text": [
      "CALI4.SA\n"
     ]
    },
    {
     "name": "stderr",
     "output_type": "stream",
     "text": [
      "  0%|          | 0/1 [00:04<?, ?it/s]\n"
     ]
    },
    {
     "name": "stdout",
     "output_type": "stream",
     "text": [
      "BPAR3.SA\n"
     ]
    },
    {
     "name": "stderr",
     "output_type": "stream",
     "text": [
      "  0%|          | 0/1 [00:04<?, ?it/s]\n"
     ]
    },
    {
     "name": "stdout",
     "output_type": "stream",
     "text": [
      "APTI4.SA\n"
     ]
    },
    {
     "name": "stderr",
     "output_type": "stream",
     "text": [
      "  0%|          | 0/1 [00:04<?, ?it/s]\n"
     ]
    },
    {
     "name": "stdout",
     "output_type": "stream",
     "text": [
      "WIZS3.SA\n"
     ]
    },
    {
     "name": "stderr",
     "output_type": "stream",
     "text": [
      "  0%|          | 0/1 [00:04<?, ?it/s]\n"
     ]
    },
    {
     "name": "stdout",
     "output_type": "stream",
     "text": [
      "LLIS3.SA\n"
     ]
    },
    {
     "name": "stderr",
     "output_type": "stream",
     "text": [
      "  0%|          | 0/1 [00:04<?, ?it/s]\n"
     ]
    },
    {
     "name": "stdout",
     "output_type": "stream",
     "text": [
      "BRML3.SA\n"
     ]
    },
    {
     "name": "stderr",
     "output_type": "stream",
     "text": [
      "  0%|          | 0/1 [00:04<?, ?it/s]\n"
     ]
    },
    {
     "name": "stdout",
     "output_type": "stream",
     "text": [
      "DMMO3.SA\n"
     ]
    },
    {
     "name": "stderr",
     "output_type": "stream",
     "text": [
      "  0%|          | 0/1 [00:05<?, ?it/s]\n"
     ]
    },
    {
     "name": "stdout",
     "output_type": "stream",
     "text": [
      "GETT3.SA\n"
     ]
    },
    {
     "name": "stderr",
     "output_type": "stream",
     "text": [
      "  0%|          | 0/1 [00:04<?, ?it/s]\n"
     ]
    },
    {
     "name": "stdout",
     "output_type": "stream",
     "text": [
      "GETT4.SA\n"
     ]
    },
    {
     "name": "stderr",
     "output_type": "stream",
     "text": [
      "  0%|          | 0/1 [00:04<?, ?it/s]\n"
     ]
    },
    {
     "name": "stdout",
     "output_type": "stream",
     "text": [
      "SULA4.SA\n"
     ]
    },
    {
     "name": "stderr",
     "output_type": "stream",
     "text": [
      "  0%|          | 0/1 [00:04<?, ?it/s]\n"
     ]
    },
    {
     "name": "stdout",
     "output_type": "stream",
     "text": [
      "SULA3.SA\n"
     ]
    },
    {
     "name": "stderr",
     "output_type": "stream",
     "text": [
      "  0%|          | 0/1 [00:03<?, ?it/s]\n"
     ]
    },
    {
     "name": "stdout",
     "output_type": "stream",
     "text": [
      "CEPE5.SA\n"
     ]
    },
    {
     "name": "stderr",
     "output_type": "stream",
     "text": [
      "  0%|          | 0/1 [00:03<?, ?it/s]\n"
     ]
    },
    {
     "name": "stdout",
     "output_type": "stream",
     "text": [
      "CEPE6.SA\n"
     ]
    },
    {
     "name": "stderr",
     "output_type": "stream",
     "text": [
      "  0%|          | 0/1 [00:03<?, ?it/s]\n"
     ]
    },
    {
     "name": "stdout",
     "output_type": "stream",
     "text": [
      "BKBR3.SA\n"
     ]
    },
    {
     "name": "stderr",
     "output_type": "stream",
     "text": [
      "  0%|          | 0/1 [00:03<?, ?it/s]\n"
     ]
    },
    {
     "name": "stdout",
     "output_type": "stream",
     "text": [
      "MTIG4.SA\n"
     ]
    },
    {
     "name": "stderr",
     "output_type": "stream",
     "text": [
      "  0%|          | 0/1 [00:04<?, ?it/s]\n"
     ]
    },
    {
     "name": "stdout",
     "output_type": "stream",
     "text": [
      "BLUT4.SA\n"
     ]
    },
    {
     "name": "stderr",
     "output_type": "stream",
     "text": [
      "  0%|          | 0/1 [00:03<?, ?it/s]\n"
     ]
    },
    {
     "name": "stdout",
     "output_type": "stream",
     "text": [
      "BLUT3.SA\n"
     ]
    },
    {
     "name": "stderr",
     "output_type": "stream",
     "text": [
      "  0%|          | 0/1 [00:03<?, ?it/s]\n"
     ]
    },
    {
     "name": "stdout",
     "output_type": "stream",
     "text": [
      "MODL4.SA\n"
     ]
    },
    {
     "name": "stderr",
     "output_type": "stream",
     "text": [
      "  0%|          | 0/1 [00:03<?, ?it/s]\n"
     ]
    },
    {
     "name": "stdout",
     "output_type": "stream",
     "text": [
      "CARD3.SA\n"
     ]
    },
    {
     "name": "stderr",
     "output_type": "stream",
     "text": [
      "  0%|          | 0/1 [00:04<?, ?it/s]\n"
     ]
    },
    {
     "name": "stdout",
     "output_type": "stream",
     "text": [
      "FNCN3.SA\n"
     ]
    },
    {
     "name": "stderr",
     "output_type": "stream",
     "text": [
      "  0%|          | 0/1 [00:03<?, ?it/s]\n"
     ]
    },
    {
     "name": "stdout",
     "output_type": "stream",
     "text": [
      "LCAM3.SA\n"
     ]
    },
    {
     "name": "stderr",
     "output_type": "stream",
     "text": [
      "  0%|          | 0/1 [00:04<?, ?it/s]\n"
     ]
    },
    {
     "name": "stdout",
     "output_type": "stream",
     "text": [
      "BIDI4.SA\n"
     ]
    },
    {
     "name": "stderr",
     "output_type": "stream",
     "text": [
      "  0%|          | 0/1 [00:03<?, ?it/s]\n"
     ]
    },
    {
     "name": "stdout",
     "output_type": "stream",
     "text": [
      "BIDI3.SA\n"
     ]
    },
    {
     "name": "stderr",
     "output_type": "stream",
     "text": [
      "  0%|          | 0/1 [00:04<?, ?it/s]\n"
     ]
    },
    {
     "name": "stdout",
     "output_type": "stream",
     "text": [
      "EEEL4.SA\n"
     ]
    },
    {
     "name": "stderr",
     "output_type": "stream",
     "text": [
      "  0%|          | 0/1 [00:03<?, ?it/s]\n"
     ]
    },
    {
     "name": "stdout",
     "output_type": "stream",
     "text": [
      "EEEL3.SA\n"
     ]
    },
    {
     "name": "stderr",
     "output_type": "stream",
     "text": [
      "  0%|          | 0/1 [00:04<?, ?it/s]\n"
     ]
    },
    {
     "name": "stdout",
     "output_type": "stream",
     "text": [
      "BBRK3.SA\n"
     ]
    },
    {
     "name": "stderr",
     "output_type": "stream",
     "text": [
      "  0%|          | 0/1 [00:04<?, ?it/s]\n"
     ]
    },
    {
     "name": "stdout",
     "output_type": "stream",
     "text": [
      "CESP6.SA\n"
     ]
    },
    {
     "name": "stderr",
     "output_type": "stream",
     "text": [
      "  0%|          | 0/1 [00:04<?, ?it/s]\n"
     ]
    },
    {
     "name": "stdout",
     "output_type": "stream",
     "text": [
      "CESP3.SA\n"
     ]
    },
    {
     "name": "stderr",
     "output_type": "stream",
     "text": [
      "  0%|          | 0/1 [00:04<?, ?it/s]\n"
     ]
    },
    {
     "name": "stdout",
     "output_type": "stream",
     "text": [
      "CESP5.SA\n"
     ]
    },
    {
     "name": "stderr",
     "output_type": "stream",
     "text": [
      "  0%|          | 0/1 [00:04<?, ?it/s]\n"
     ]
    },
    {
     "name": "stdout",
     "output_type": "stream",
     "text": [
      "MOSI3.SA\n"
     ]
    },
    {
     "name": "stderr",
     "output_type": "stream",
     "text": [
      "  0%|          | 0/1 [00:04<?, ?it/s]\n"
     ]
    },
    {
     "name": "stdout",
     "output_type": "stream",
     "text": [
      "POWE3.SA\n"
     ]
    },
    {
     "name": "stderr",
     "output_type": "stream",
     "text": [
      "  0%|          | 0/1 [00:04<?, ?it/s]\n"
     ]
    },
    {
     "name": "stdout",
     "output_type": "stream",
     "text": [
      "GNDI3.SA\n"
     ]
    },
    {
     "name": "stderr",
     "output_type": "stream",
     "text": [
      "  0%|          | 0/1 [00:04<?, ?it/s]\n"
     ]
    },
    {
     "name": "stdout",
     "output_type": "stream",
     "text": [
      "LAME4.SA\n"
     ]
    },
    {
     "name": "stderr",
     "output_type": "stream",
     "text": [
      "  0%|          | 0/1 [00:04<?, ?it/s]\n"
     ]
    },
    {
     "name": "stdout",
     "output_type": "stream",
     "text": [
      "LAME3.SA\n"
     ]
    },
    {
     "name": "stderr",
     "output_type": "stream",
     "text": [
      "  0%|          | 0/1 [00:04<?, ?it/s]\n"
     ]
    },
    {
     "name": "stdout",
     "output_type": "stream",
     "text": [
      "OMGE3.SA\n"
     ]
    },
    {
     "name": "stderr",
     "output_type": "stream",
     "text": [
      "  0%|          | 0/1 [00:05<?, ?it/s]\n"
     ]
    },
    {
     "name": "stdout",
     "output_type": "stream",
     "text": [
      "IGTA3.SA\n"
     ]
    },
    {
     "name": "stderr",
     "output_type": "stream",
     "text": [
      "  0%|          | 0/1 [00:04<?, ?it/s]\n"
     ]
    },
    {
     "name": "stdout",
     "output_type": "stream",
     "text": [
      "JPSA3.SA\n"
     ]
    },
    {
     "name": "stderr",
     "output_type": "stream",
     "text": [
      "  0%|          | 0/1 [00:04<?, ?it/s]\n"
     ]
    },
    {
     "name": "stdout",
     "output_type": "stream",
     "text": [
      "BRDT3.SA\n"
     ]
    },
    {
     "name": "stderr",
     "output_type": "stream",
     "text": [
      "  0%|          | 0/1 [00:04<?, ?it/s]\n"
     ]
    },
    {
     "name": "stdout",
     "output_type": "stream",
     "text": [
      "JBDU4.SA\n"
     ]
    },
    {
     "name": "stderr",
     "output_type": "stream",
     "text": [
      "  0%|          | 0/1 [00:03<?, ?it/s]\n"
     ]
    },
    {
     "name": "stdout",
     "output_type": "stream",
     "text": [
      "JBDU3.SA\n"
     ]
    },
    {
     "name": "stderr",
     "output_type": "stream",
     "text": [
      "  0%|          | 0/1 [00:03<?, ?it/s]\n"
     ]
    },
    {
     "name": "stdout",
     "output_type": "stream",
     "text": [
      "HGTX3.SA\n"
     ]
    },
    {
     "name": "stderr",
     "output_type": "stream",
     "text": [
      "  0%|          | 0/1 [00:04<?, ?it/s]\n"
     ]
    },
    {
     "name": "stdout",
     "output_type": "stream",
     "text": [
      "CCPR3.SA\n"
     ]
    },
    {
     "name": "stderr",
     "output_type": "stream",
     "text": [
      "  0%|          | 0/1 [00:04<?, ?it/s]\n"
     ]
    },
    {
     "name": "stdout",
     "output_type": "stream",
     "text": [
      "DTEX3.SA\n"
     ]
    },
    {
     "name": "stderr",
     "output_type": "stream",
     "text": [
      "  0%|          | 0/1 [00:04<?, ?it/s]\n"
     ]
    },
    {
     "name": "stdout",
     "output_type": "stream",
     "text": [
      "VVAR3.SA\n"
     ]
    },
    {
     "name": "stderr",
     "output_type": "stream",
     "text": [
      "  0%|          | 0/1 [00:03<?, ?it/s]\n"
     ]
    },
    {
     "name": "stdout",
     "output_type": "stream",
     "text": [
      "PNVL4.SA\n"
     ]
    },
    {
     "name": "stderr",
     "output_type": "stream",
     "text": [
      "  0%|          | 0/1 [00:04<?, ?it/s]\n"
     ]
    },
    {
     "name": "stdout",
     "output_type": "stream",
     "text": [
      "TESA3.SA\n"
     ]
    },
    {
     "name": "stderr",
     "output_type": "stream",
     "text": [
      "  0%|          | 0/1 [00:04<?, ?it/s]\n"
     ]
    },
    {
     "name": "stdout",
     "output_type": "stream",
     "text": [
      "BTOW3.SA\n"
     ]
    },
    {
     "name": "stderr",
     "output_type": "stream",
     "text": [
      "  0%|          | 0/1 [00:04<?, ?it/s]\n"
     ]
    },
    {
     "name": "stdout",
     "output_type": "stream",
     "text": [
      "LINX3.SA\n"
     ]
    },
    {
     "name": "stderr",
     "output_type": "stream",
     "text": [
      "  0%|          | 0/1 [00:04<?, ?it/s]\n"
     ]
    },
    {
     "name": "stdout",
     "output_type": "stream",
     "text": [
      "BTTL3.SA\n"
     ]
    },
    {
     "name": "stderr",
     "output_type": "stream",
     "text": [
      "  0%|          | 0/1 [00:03<?, ?it/s]\n"
     ]
    },
    {
     "name": "stdout",
     "output_type": "stream",
     "text": [
      "GPCP3.SA\n"
     ]
    },
    {
     "name": "stderr",
     "output_type": "stream",
     "text": [
      "  0%|          | 0/1 [00:04<?, ?it/s]\n"
     ]
    },
    {
     "name": "stdout",
     "output_type": "stream",
     "text": [
      "GPCP4.SA\n"
     ]
    },
    {
     "name": "stderr",
     "output_type": "stream",
     "text": [
      "  0%|          | 0/1 [00:04<?, ?it/s]\n"
     ]
    },
    {
     "name": "stdout",
     "output_type": "stream",
     "text": [
      "SMLS3.SA\n"
     ]
    },
    {
     "name": "stderr",
     "output_type": "stream",
     "text": [
      "  0%|          | 0/1 [00:04<?, ?it/s]\n"
     ]
    },
    {
     "name": "stdout",
     "output_type": "stream",
     "text": [
      "MMXM3.SA\n"
     ]
    },
    {
     "name": "stderr",
     "output_type": "stream",
     "text": [
      "  0%|          | 0/1 [00:04<?, ?it/s]\n"
     ]
    },
    {
     "name": "stdout",
     "output_type": "stream",
     "text": [
      "BSEV3.SA\n"
     ]
    },
    {
     "name": "stderr",
     "output_type": "stream",
     "text": [
      "  0%|          | 0/1 [00:04<?, ?it/s]\n"
     ]
    },
    {
     "name": "stdout",
     "output_type": "stream",
     "text": [
      "CNTO3.SA\n"
     ]
    },
    {
     "name": "stderr",
     "output_type": "stream",
     "text": [
      "  0%|          | 0/1 [00:04<?, ?it/s]\n"
     ]
    },
    {
     "name": "stdout",
     "output_type": "stream",
     "text": [
      "TIET4.SA\n"
     ]
    },
    {
     "name": "stderr",
     "output_type": "stream",
     "text": [
      "  0%|          | 0/1 [00:03<?, ?it/s]\n"
     ]
    },
    {
     "name": "stdout",
     "output_type": "stream",
     "text": [
      "TIET3.SA\n"
     ]
    },
    {
     "name": "stderr",
     "output_type": "stream",
     "text": [
      "  0%|          | 0/1 [00:04<?, ?it/s]\n"
     ]
    },
    {
     "name": "stdout",
     "output_type": "stream",
     "text": [
      "CEPE3.SA\n"
     ]
    },
    {
     "name": "stderr",
     "output_type": "stream",
     "text": [
      "  0%|          | 0/1 [00:04<?, ?it/s]\n"
     ]
    },
    {
     "name": "stdout",
     "output_type": "stream",
     "text": [
      "CALI4.SA\n"
     ]
    },
    {
     "name": "stderr",
     "output_type": "stream",
     "text": [
      "  0%|          | 0/1 [00:04<?, ?it/s]\n"
     ]
    },
    {
     "name": "stdout",
     "output_type": "stream",
     "text": [
      "BPAR3.SA\n"
     ]
    },
    {
     "name": "stderr",
     "output_type": "stream",
     "text": [
      "  0%|          | 0/1 [00:04<?, ?it/s]\n"
     ]
    },
    {
     "name": "stdout",
     "output_type": "stream",
     "text": [
      "APTI4.SA\n"
     ]
    },
    {
     "name": "stderr",
     "output_type": "stream",
     "text": [
      "  0%|          | 0/1 [00:04<?, ?it/s]\n"
     ]
    },
    {
     "name": "stdout",
     "output_type": "stream",
     "text": [
      "WIZS3.SA\n"
     ]
    },
    {
     "name": "stderr",
     "output_type": "stream",
     "text": [
      "  0%|          | 0/1 [00:04<?, ?it/s]\n"
     ]
    },
    {
     "name": "stdout",
     "output_type": "stream",
     "text": [
      "LLIS3.SA\n"
     ]
    },
    {
     "name": "stderr",
     "output_type": "stream",
     "text": [
      "  0%|          | 0/1 [00:05<?, ?it/s]\n"
     ]
    },
    {
     "name": "stdout",
     "output_type": "stream",
     "text": [
      "BRML3.SA\n"
     ]
    },
    {
     "name": "stderr",
     "output_type": "stream",
     "text": [
      "  0%|          | 0/1 [00:04<?, ?it/s]\n"
     ]
    },
    {
     "name": "stdout",
     "output_type": "stream",
     "text": [
      "DMMO3.SA\n"
     ]
    },
    {
     "name": "stderr",
     "output_type": "stream",
     "text": [
      "  0%|          | 0/1 [00:04<?, ?it/s]\n"
     ]
    },
    {
     "name": "stdout",
     "output_type": "stream",
     "text": [
      "GETT3.SA\n"
     ]
    },
    {
     "name": "stderr",
     "output_type": "stream",
     "text": [
      "  0%|          | 0/1 [00:03<?, ?it/s]\n"
     ]
    },
    {
     "name": "stdout",
     "output_type": "stream",
     "text": [
      "GETT4.SA\n"
     ]
    },
    {
     "name": "stderr",
     "output_type": "stream",
     "text": [
      "  0%|          | 0/1 [00:04<?, ?it/s]\n"
     ]
    },
    {
     "name": "stdout",
     "output_type": "stream",
     "text": [
      "SULA4.SA\n"
     ]
    },
    {
     "name": "stderr",
     "output_type": "stream",
     "text": [
      "  0%|          | 0/1 [00:04<?, ?it/s]\n"
     ]
    },
    {
     "name": "stdout",
     "output_type": "stream",
     "text": [
      "SULA3.SA\n"
     ]
    },
    {
     "name": "stderr",
     "output_type": "stream",
     "text": [
      "  0%|          | 0/1 [00:04<?, ?it/s]\n"
     ]
    },
    {
     "name": "stdout",
     "output_type": "stream",
     "text": [
      "CEPE5.SA\n"
     ]
    },
    {
     "name": "stderr",
     "output_type": "stream",
     "text": [
      "  0%|          | 0/1 [00:03<?, ?it/s]\n"
     ]
    },
    {
     "name": "stdout",
     "output_type": "stream",
     "text": [
      "CEPE6.SA\n"
     ]
    },
    {
     "name": "stderr",
     "output_type": "stream",
     "text": [
      "  0%|          | 0/1 [00:04<?, ?it/s]\n"
     ]
    },
    {
     "name": "stdout",
     "output_type": "stream",
     "text": [
      "BKBR3.SA\n"
     ]
    },
    {
     "name": "stderr",
     "output_type": "stream",
     "text": [
      "  0%|          | 0/1 [00:04<?, ?it/s]\n"
     ]
    },
    {
     "name": "stdout",
     "output_type": "stream",
     "text": [
      "MTIG4.SA\n"
     ]
    },
    {
     "name": "stderr",
     "output_type": "stream",
     "text": [
      "  0%|          | 0/1 [00:03<?, ?it/s]\n"
     ]
    },
    {
     "name": "stdout",
     "output_type": "stream",
     "text": [
      "BLUT4.SA\n"
     ]
    },
    {
     "name": "stderr",
     "output_type": "stream",
     "text": [
      "  0%|          | 0/1 [00:03<?, ?it/s]\n"
     ]
    },
    {
     "name": "stdout",
     "output_type": "stream",
     "text": [
      "BLUT3.SA\n"
     ]
    },
    {
     "name": "stderr",
     "output_type": "stream",
     "text": [
      "  0%|          | 0/1 [00:03<?, ?it/s]\n"
     ]
    },
    {
     "name": "stdout",
     "output_type": "stream",
     "text": [
      "MODL4.SA\n"
     ]
    },
    {
     "name": "stderr",
     "output_type": "stream",
     "text": [
      "  0%|          | 0/1 [00:04<?, ?it/s]\n"
     ]
    },
    {
     "name": "stdout",
     "output_type": "stream",
     "text": [
      "CARD3.SA\n"
     ]
    },
    {
     "name": "stderr",
     "output_type": "stream",
     "text": [
      "  0%|          | 0/1 [00:03<?, ?it/s]\n"
     ]
    },
    {
     "name": "stdout",
     "output_type": "stream",
     "text": [
      "FNCN3.SA\n"
     ]
    },
    {
     "name": "stderr",
     "output_type": "stream",
     "text": [
      "  0%|          | 0/1 [00:03<?, ?it/s]\n"
     ]
    },
    {
     "name": "stdout",
     "output_type": "stream",
     "text": [
      "LCAM3.SA\n"
     ]
    },
    {
     "name": "stderr",
     "output_type": "stream",
     "text": [
      "  0%|          | 0/1 [00:03<?, ?it/s]\n"
     ]
    },
    {
     "name": "stdout",
     "output_type": "stream",
     "text": [
      "BIDI4.SA\n"
     ]
    },
    {
     "name": "stderr",
     "output_type": "stream",
     "text": [
      "  0%|          | 0/1 [00:03<?, ?it/s]\n"
     ]
    },
    {
     "name": "stdout",
     "output_type": "stream",
     "text": [
      "BIDI3.SA\n"
     ]
    },
    {
     "name": "stderr",
     "output_type": "stream",
     "text": [
      "  0%|          | 0/1 [00:04<?, ?it/s]\n"
     ]
    },
    {
     "name": "stdout",
     "output_type": "stream",
     "text": [
      "EEEL4.SA\n"
     ]
    },
    {
     "name": "stderr",
     "output_type": "stream",
     "text": [
      "  0%|          | 0/1 [00:03<?, ?it/s]\n"
     ]
    },
    {
     "name": "stdout",
     "output_type": "stream",
     "text": [
      "EEEL3.SA\n"
     ]
    },
    {
     "name": "stderr",
     "output_type": "stream",
     "text": [
      "  0%|          | 0/1 [00:03<?, ?it/s]\n"
     ]
    },
    {
     "name": "stdout",
     "output_type": "stream",
     "text": [
      "BBRK3.SA\n"
     ]
    },
    {
     "name": "stderr",
     "output_type": "stream",
     "text": [
      "  0%|          | 0/1 [00:03<?, ?it/s]\n"
     ]
    },
    {
     "name": "stdout",
     "output_type": "stream",
     "text": [
      "CESP6.SA\n"
     ]
    },
    {
     "name": "stderr",
     "output_type": "stream",
     "text": [
      "  0%|          | 0/1 [00:03<?, ?it/s]\n"
     ]
    },
    {
     "name": "stdout",
     "output_type": "stream",
     "text": [
      "CESP3.SA\n"
     ]
    },
    {
     "name": "stderr",
     "output_type": "stream",
     "text": [
      "  0%|          | 0/1 [00:04<?, ?it/s]\n"
     ]
    },
    {
     "name": "stdout",
     "output_type": "stream",
     "text": [
      "CESP5.SA\n"
     ]
    },
    {
     "name": "stderr",
     "output_type": "stream",
     "text": [
      "  0%|          | 0/1 [00:04<?, ?it/s]\n"
     ]
    },
    {
     "name": "stdout",
     "output_type": "stream",
     "text": [
      "MOSI3.SA\n"
     ]
    },
    {
     "name": "stderr",
     "output_type": "stream",
     "text": [
      "  0%|          | 0/1 [00:03<?, ?it/s]\n"
     ]
    },
    {
     "name": "stdout",
     "output_type": "stream",
     "text": [
      "POWE3.SA\n"
     ]
    },
    {
     "name": "stderr",
     "output_type": "stream",
     "text": [
      "  0%|          | 0/1 [00:04<?, ?it/s]\n"
     ]
    },
    {
     "name": "stdout",
     "output_type": "stream",
     "text": [
      "GNDI3.SA\n"
     ]
    },
    {
     "name": "stderr",
     "output_type": "stream",
     "text": [
      "  0%|          | 0/1 [00:03<?, ?it/s]\n"
     ]
    },
    {
     "name": "stdout",
     "output_type": "stream",
     "text": [
      "LAME4.SA\n"
     ]
    },
    {
     "name": "stderr",
     "output_type": "stream",
     "text": [
      "  0%|          | 0/1 [00:04<?, ?it/s]\n"
     ]
    },
    {
     "name": "stdout",
     "output_type": "stream",
     "text": [
      "LAME3.SA\n"
     ]
    },
    {
     "name": "stderr",
     "output_type": "stream",
     "text": [
      "  0%|          | 0/1 [00:04<?, ?it/s]\n"
     ]
    },
    {
     "name": "stdout",
     "output_type": "stream",
     "text": [
      "OMGE3.SA\n"
     ]
    },
    {
     "name": "stderr",
     "output_type": "stream",
     "text": [
      "  0%|          | 0/1 [00:03<?, ?it/s]\n"
     ]
    },
    {
     "name": "stdout",
     "output_type": "stream",
     "text": [
      "IGTA3.SA\n"
     ]
    },
    {
     "name": "stderr",
     "output_type": "stream",
     "text": [
      "  0%|          | 0/1 [00:04<?, ?it/s]\n"
     ]
    },
    {
     "name": "stdout",
     "output_type": "stream",
     "text": [
      "JPSA3.SA\n"
     ]
    },
    {
     "name": "stderr",
     "output_type": "stream",
     "text": [
      "  0%|          | 0/1 [00:03<?, ?it/s]\n"
     ]
    },
    {
     "name": "stdout",
     "output_type": "stream",
     "text": [
      "BRDT3.SA\n"
     ]
    },
    {
     "name": "stderr",
     "output_type": "stream",
     "text": [
      "  0%|          | 0/1 [00:03<?, ?it/s]\n"
     ]
    },
    {
     "name": "stdout",
     "output_type": "stream",
     "text": [
      "JBDU4.SA\n"
     ]
    },
    {
     "name": "stderr",
     "output_type": "stream",
     "text": [
      "  0%|          | 0/1 [00:03<?, ?it/s]\n"
     ]
    },
    {
     "name": "stdout",
     "output_type": "stream",
     "text": [
      "JBDU3.SA\n"
     ]
    },
    {
     "name": "stderr",
     "output_type": "stream",
     "text": [
      "  0%|          | 0/1 [00:03<?, ?it/s]\n"
     ]
    },
    {
     "name": "stdout",
     "output_type": "stream",
     "text": [
      "HGTX3.SA\n"
     ]
    },
    {
     "name": "stderr",
     "output_type": "stream",
     "text": [
      "  0%|          | 0/1 [00:03<?, ?it/s]\n"
     ]
    },
    {
     "name": "stdout",
     "output_type": "stream",
     "text": [
      "CCPR3.SA\n"
     ]
    },
    {
     "name": "stderr",
     "output_type": "stream",
     "text": [
      "  0%|          | 0/1 [00:03<?, ?it/s]\n"
     ]
    },
    {
     "name": "stdout",
     "output_type": "stream",
     "text": [
      "DTEX3.SA\n"
     ]
    },
    {
     "name": "stderr",
     "output_type": "stream",
     "text": [
      "  0%|          | 0/1 [00:03<?, ?it/s]\n"
     ]
    },
    {
     "name": "stdout",
     "output_type": "stream",
     "text": [
      "VVAR3.SA\n"
     ]
    },
    {
     "name": "stderr",
     "output_type": "stream",
     "text": [
      "  0%|          | 0/1 [00:03<?, ?it/s]\n"
     ]
    },
    {
     "name": "stdout",
     "output_type": "stream",
     "text": [
      "PNVL4.SA\n"
     ]
    },
    {
     "name": "stderr",
     "output_type": "stream",
     "text": [
      "  0%|          | 0/1 [00:03<?, ?it/s]\n"
     ]
    },
    {
     "name": "stdout",
     "output_type": "stream",
     "text": [
      "TESA3.SA\n"
     ]
    },
    {
     "name": "stderr",
     "output_type": "stream",
     "text": [
      "  0%|          | 0/1 [00:03<?, ?it/s]\n"
     ]
    },
    {
     "name": "stdout",
     "output_type": "stream",
     "text": [
      "BTOW3.SA\n"
     ]
    },
    {
     "name": "stderr",
     "output_type": "stream",
     "text": [
      "  0%|          | 0/1 [00:03<?, ?it/s]\n"
     ]
    },
    {
     "name": "stdout",
     "output_type": "stream",
     "text": [
      "LINX3.SA\n"
     ]
    },
    {
     "name": "stderr",
     "output_type": "stream",
     "text": [
      "  0%|          | 0/1 [00:03<?, ?it/s]\n"
     ]
    },
    {
     "name": "stdout",
     "output_type": "stream",
     "text": [
      "BTTL3.SA\n"
     ]
    },
    {
     "name": "stderr",
     "output_type": "stream",
     "text": [
      "  0%|          | 0/1 [00:03<?, ?it/s]\n"
     ]
    },
    {
     "name": "stdout",
     "output_type": "stream",
     "text": [
      "GPCP3.SA\n"
     ]
    },
    {
     "name": "stderr",
     "output_type": "stream",
     "text": [
      "  0%|          | 0/1 [00:03<?, ?it/s]\n"
     ]
    },
    {
     "name": "stdout",
     "output_type": "stream",
     "text": [
      "GPCP4.SA\n"
     ]
    },
    {
     "name": "stderr",
     "output_type": "stream",
     "text": [
      "  0%|          | 0/1 [00:03<?, ?it/s]\n"
     ]
    },
    {
     "name": "stdout",
     "output_type": "stream",
     "text": [
      "SMLS3.SA\n"
     ]
    },
    {
     "name": "stderr",
     "output_type": "stream",
     "text": [
      "  0%|          | 0/1 [00:03<?, ?it/s]\n"
     ]
    },
    {
     "name": "stdout",
     "output_type": "stream",
     "text": [
      "MMXM3.SA\n"
     ]
    },
    {
     "name": "stderr",
     "output_type": "stream",
     "text": [
      "  0%|          | 0/1 [00:03<?, ?it/s]\n"
     ]
    },
    {
     "name": "stdout",
     "output_type": "stream",
     "text": [
      "BSEV3.SA\n"
     ]
    },
    {
     "name": "stderr",
     "output_type": "stream",
     "text": [
      "  0%|          | 0/1 [00:03<?, ?it/s]\n"
     ]
    },
    {
     "name": "stdout",
     "output_type": "stream",
     "text": [
      "CNTO3.SA\n"
     ]
    },
    {
     "name": "stderr",
     "output_type": "stream",
     "text": [
      "  0%|          | 0/1 [00:03<?, ?it/s]\n"
     ]
    },
    {
     "name": "stdout",
     "output_type": "stream",
     "text": [
      "TIET4.SA\n"
     ]
    },
    {
     "name": "stderr",
     "output_type": "stream",
     "text": [
      "  0%|          | 0/1 [00:03<?, ?it/s]\n"
     ]
    },
    {
     "name": "stdout",
     "output_type": "stream",
     "text": [
      "TIET3.SA\n"
     ]
    },
    {
     "name": "stderr",
     "output_type": "stream",
     "text": [
      "  0%|          | 0/1 [00:03<?, ?it/s]\n"
     ]
    },
    {
     "name": "stdout",
     "output_type": "stream",
     "text": [
      "CEPE3.SA\n"
     ]
    },
    {
     "name": "stderr",
     "output_type": "stream",
     "text": [
      "  0%|          | 0/1 [00:03<?, ?it/s]\n"
     ]
    },
    {
     "name": "stdout",
     "output_type": "stream",
     "text": [
      "CALI4.SA\n"
     ]
    },
    {
     "name": "stderr",
     "output_type": "stream",
     "text": [
      "  0%|          | 0/1 [00:03<?, ?it/s]\n"
     ]
    },
    {
     "name": "stdout",
     "output_type": "stream",
     "text": [
      "BPAR3.SA\n"
     ]
    },
    {
     "name": "stderr",
     "output_type": "stream",
     "text": [
      "  0%|          | 0/1 [00:03<?, ?it/s]\n"
     ]
    },
    {
     "name": "stdout",
     "output_type": "stream",
     "text": [
      "APTI4.SA\n"
     ]
    },
    {
     "name": "stderr",
     "output_type": "stream",
     "text": [
      "  0%|          | 0/1 [00:03<?, ?it/s]\n"
     ]
    },
    {
     "name": "stdout",
     "output_type": "stream",
     "text": [
      "WIZS3.SA\n"
     ]
    },
    {
     "name": "stderr",
     "output_type": "stream",
     "text": [
      "  0%|          | 0/1 [00:03<?, ?it/s]\n"
     ]
    },
    {
     "name": "stdout",
     "output_type": "stream",
     "text": [
      "LLIS3.SA\n"
     ]
    },
    {
     "name": "stderr",
     "output_type": "stream",
     "text": [
      "  0%|          | 0/1 [00:03<?, ?it/s]\n"
     ]
    },
    {
     "name": "stdout",
     "output_type": "stream",
     "text": [
      "BRML3.SA\n"
     ]
    },
    {
     "name": "stderr",
     "output_type": "stream",
     "text": [
      "  0%|          | 0/1 [00:03<?, ?it/s]\n"
     ]
    },
    {
     "name": "stdout",
     "output_type": "stream",
     "text": [
      "DMMO3.SA\n"
     ]
    },
    {
     "name": "stderr",
     "output_type": "stream",
     "text": [
      "  0%|          | 0/1 [00:03<?, ?it/s]\n"
     ]
    },
    {
     "name": "stdout",
     "output_type": "stream",
     "text": [
      "GETT3.SA\n"
     ]
    },
    {
     "name": "stderr",
     "output_type": "stream",
     "text": [
      "  0%|          | 0/1 [00:03<?, ?it/s]\n"
     ]
    },
    {
     "name": "stdout",
     "output_type": "stream",
     "text": [
      "GETT4.SA\n"
     ]
    },
    {
     "name": "stderr",
     "output_type": "stream",
     "text": [
      "  0%|          | 0/1 [00:03<?, ?it/s]\n"
     ]
    },
    {
     "name": "stdout",
     "output_type": "stream",
     "text": [
      "SULA4.SA\n"
     ]
    },
    {
     "name": "stderr",
     "output_type": "stream",
     "text": [
      "  0%|          | 0/1 [00:03<?, ?it/s]\n"
     ]
    },
    {
     "name": "stdout",
     "output_type": "stream",
     "text": [
      "SULA3.SA\n"
     ]
    },
    {
     "name": "stderr",
     "output_type": "stream",
     "text": [
      "  0%|          | 0/1 [00:03<?, ?it/s]\n"
     ]
    },
    {
     "name": "stdout",
     "output_type": "stream",
     "text": [
      "CEPE5.SA\n"
     ]
    },
    {
     "name": "stderr",
     "output_type": "stream",
     "text": [
      "  0%|          | 0/1 [00:03<?, ?it/s]\n"
     ]
    },
    {
     "name": "stdout",
     "output_type": "stream",
     "text": [
      "CEPE6.SA\n"
     ]
    },
    {
     "name": "stderr",
     "output_type": "stream",
     "text": [
      "  0%|          | 0/1 [00:03<?, ?it/s]\n"
     ]
    },
    {
     "name": "stdout",
     "output_type": "stream",
     "text": [
      "BKBR3.SA\n"
     ]
    },
    {
     "name": "stderr",
     "output_type": "stream",
     "text": [
      "  0%|          | 0/1 [00:03<?, ?it/s]\n"
     ]
    },
    {
     "name": "stdout",
     "output_type": "stream",
     "text": [
      "MTIG4.SA\n"
     ]
    },
    {
     "name": "stderr",
     "output_type": "stream",
     "text": [
      "  0%|          | 0/1 [00:03<?, ?it/s]\n"
     ]
    },
    {
     "name": "stdout",
     "output_type": "stream",
     "text": [
      "BLUT4.SA\n"
     ]
    },
    {
     "name": "stderr",
     "output_type": "stream",
     "text": [
      "  0%|          | 0/1 [00:00<?, ?it/s]"
     ]
    },
    {
     "name": "stderr",
     "output_type": "stream",
     "text": [
      "  0%|          | 0/1 [00:03<?, ?it/s]\n"
     ]
    },
    {
     "name": "stdout",
     "output_type": "stream",
     "text": [
      "BLUT3.SA\n"
     ]
    },
    {
     "name": "stderr",
     "output_type": "stream",
     "text": [
      "  0%|          | 0/1 [00:03<?, ?it/s]\n"
     ]
    },
    {
     "name": "stdout",
     "output_type": "stream",
     "text": [
      "MODL4.SA\n"
     ]
    },
    {
     "name": "stderr",
     "output_type": "stream",
     "text": [
      "  0%|          | 0/1 [00:00<?, ?it/s]"
     ]
    }
   ],
   "source": [
    "# Retentar\n",
    "\n",
    "Retentar = False\n",
    "\n",
    "\n",
    "if Retentar:\n",
    "    for ticker in falhas:\n",
    "        print(ticker)\n",
    "        query = yq.Ticker(ticker, backoff_factor=0.2, progress=True, retry=3, status_forcelist=[404, 429, 500, 502, 503, 504], asynchronous=True)\n",
    "        try:\n",
    "            histórico = query.history(period='1y', interval='1d',adj_timezone=True)\n",
    "        except:\n",
    "            falhas.append(ticker)\n",
    "        else:\n",
    "            dados[ticker] = histórico.reset_index().set_index('date')\n",
    "\n",
    "print(len(dados),\"tickers salvos com sucesso.\")\n",
    "print(len(falhas),\"tickers apresentaram falha\")"
   ]
  },
  {
   "cell_type": "code",
   "execution_count": 36,
   "metadata": {},
   "outputs": [
    {
     "name": "stdout",
     "output_type": "stream",
     "text": [
      "Arquivo PETR4.SA.csv salvo com sucesso.\n",
      "Arquivo MGLU3.SA.csv salvo com sucesso.\n",
      "Arquivo HAPV3.SA.csv salvo com sucesso.\n",
      "Arquivo CIEL3.SA.csv salvo com sucesso.\n",
      "Arquivo B3SA3.SA.csv salvo com sucesso.\n",
      "Arquivo VIIA3.SA.csv salvo com sucesso.\n",
      "Arquivo ITSA4.SA.csv salvo com sucesso.\n",
      "Arquivo CVCB3.SA.csv salvo com sucesso.\n",
      "Arquivo VALE3.SA.csv salvo com sucesso.\n",
      "Arquivo BBDC4.SA.csv salvo com sucesso.\n",
      "Arquivo ITUB4.SA.csv salvo com sucesso.\n",
      "Arquivo AMER3.SA.csv salvo com sucesso.\n",
      "Arquivo ASAI3.SA.csv salvo com sucesso.\n",
      "Arquivo TRAD3.SA.csv salvo com sucesso.\n",
      "Arquivo BBAS3.SA.csv salvo com sucesso.\n",
      "Arquivo OIBR3.SA.csv salvo com sucesso.\n",
      "Arquivo PETR3.SA.csv salvo com sucesso.\n",
      "Arquivo ABEV3.SA.csv salvo com sucesso.\n",
      "Arquivo LREN3.SA.csv salvo com sucesso.\n",
      "Arquivo CPLE6.SA.csv salvo com sucesso.\n",
      "Arquivo COGN3.SA.csv salvo com sucesso.\n",
      "Arquivo GOLL4.SA.csv salvo com sucesso.\n",
      "Arquivo RAIZ4.SA.csv salvo com sucesso.\n",
      "Arquivo RAIL3.SA.csv salvo com sucesso.\n",
      "Arquivo SUZB3.SA.csv salvo com sucesso.\n",
      "Arquivo INTB3.SA.csv salvo com sucesso.\n",
      "Arquivo CSAN3.SA.csv salvo com sucesso.\n",
      "Arquivo MRVE3.SA.csv salvo com sucesso.\n",
      "Arquivo BRFS3.SA.csv salvo com sucesso.\n",
      "Arquivo BRKM5.SA.csv salvo com sucesso.\n",
      "Arquivo AZUL4.SA.csv salvo com sucesso.\n",
      "Arquivo AMAR3.SA.csv salvo com sucesso.\n",
      "Arquivo VBBR3.SA.csv salvo com sucesso.\n",
      "Arquivo CMIN3.SA.csv salvo com sucesso.\n",
      "Arquivo CEAB3.SA.csv salvo com sucesso.\n",
      "Arquivo EQTL3.SA.csv salvo com sucesso.\n",
      "Arquivo JBSS3.SA.csv salvo com sucesso.\n",
      "Arquivo ELET3.SA.csv salvo com sucesso.\n",
      "Arquivo SEQL3.SA.csv salvo com sucesso.\n",
      "Arquivo POMO4.SA.csv salvo com sucesso.\n",
      "Arquivo USIM5.SA.csv salvo com sucesso.\n",
      "Arquivo YDUQ3.SA.csv salvo com sucesso.\n",
      "Arquivo LIGT3.SA.csv salvo com sucesso.\n",
      "Arquivo GGBR4.SA.csv salvo com sucesso.\n",
      "Arquivo CCRO3.SA.csv salvo com sucesso.\n",
      "Arquivo EMBR3.SA.csv salvo com sucesso.\n",
      "Arquivo NTCO3.SA.csv salvo com sucesso.\n",
      "Arquivo PETZ3.SA.csv salvo com sucesso.\n",
      "Arquivo IFCM3.SA.csv salvo com sucesso.\n",
      "Arquivo CMIG4.SA.csv salvo com sucesso.\n",
      "Arquivo RENT3.SA.csv salvo com sucesso.\n",
      "Arquivo MRFG3.SA.csv salvo com sucesso.\n",
      "Arquivo ANIM3.SA.csv salvo com sucesso.\n",
      "Arquivo CBAV3.SA.csv salvo com sucesso.\n",
      "Arquivo GFSA3.SA.csv salvo com sucesso.\n",
      "Arquivo CYRE3.SA.csv salvo com sucesso.\n",
      "Arquivo SOMA3.SA.csv salvo com sucesso.\n",
      "Arquivo CRFB3.SA.csv salvo com sucesso.\n",
      "Arquivo BBSE3.SA.csv salvo com sucesso.\n",
      "Arquivo RRRP3.SA.csv salvo com sucesso.\n",
      "Arquivo CSNA3.SA.csv salvo com sucesso.\n",
      "Arquivo PRIO3.SA.csv salvo com sucesso.\n",
      "Arquivo LWSA3.SA.csv salvo com sucesso.\n",
      "Arquivo BBDC3.SA.csv salvo com sucesso.\n",
      "Arquivo WEGE3.SA.csv salvo com sucesso.\n",
      "Arquivo NEOE3.SA.csv salvo com sucesso.\n",
      "Arquivo ALPA4.SA.csv salvo com sucesso.\n",
      "Arquivo TIMS3.SA.csv salvo com sucesso.\n",
      "Arquivo TOTS3.SA.csv salvo com sucesso.\n",
      "Arquivo GMAT3.SA.csv salvo com sucesso.\n",
      "Arquivo ENEV3.SA.csv salvo com sucesso.\n",
      "Arquivo GOAU4.SA.csv salvo com sucesso.\n",
      "Arquivo ECOR3.SA.csv salvo com sucesso.\n",
      "Arquivo UGPA3.SA.csv salvo com sucesso.\n",
      "Arquivo FLRY3.SA.csv salvo com sucesso.\n",
      "Arquivo VAMO3.SA.csv salvo com sucesso.\n",
      "Arquivo QUAL3.SA.csv salvo com sucesso.\n",
      "Arquivo RADL3.SA.csv salvo com sucesso.\n",
      "Arquivo MULT3.SA.csv salvo com sucesso.\n",
      "Arquivo RDOR3.SA.csv salvo com sucesso.\n",
      "Arquivo BEEF3.SA.csv salvo com sucesso.\n",
      "Arquivo POSI3.SA.csv salvo com sucesso.\n",
      "Arquivo ODPV3.SA.csv salvo com sucesso.\n",
      "Arquivo TEND3.SA.csv salvo com sucesso.\n",
      "Arquivo JHSF3.SA.csv salvo com sucesso.\n",
      "Arquivo MODL3.SA.csv salvo com sucesso.\n",
      "Arquivo AERI3.SA.csv salvo com sucesso.\n",
      "Arquivo LJQQ3.SA.csv salvo com sucesso.\n",
      "Arquivo HBSA3.SA.csv salvo com sucesso.\n",
      "Arquivo STBP3.SA.csv salvo com sucesso.\n",
      "Arquivo MLAS3.SA.csv salvo com sucesso.\n",
      "Arquivo ALSO3.SA.csv salvo com sucesso.\n",
      "Arquivo SBSP3.SA.csv salvo com sucesso.\n",
      "Arquivo BRSR6.SA.csv salvo com sucesso.\n",
      "Arquivo ABCB4.SA.csv salvo com sucesso.\n",
      "Arquivo BPAN4.SA.csv salvo com sucesso.\n",
      "Arquivo CPFE3.SA.csv salvo com sucesso.\n",
      "Arquivo SLCE3.SA.csv salvo com sucesso.\n",
      "Arquivo DXCO3.SA.csv salvo com sucesso.\n",
      "Arquivo GUAR3.SA.csv salvo com sucesso.\n",
      "Arquivo ENBR3.SA.csv salvo com sucesso.\n",
      "Arquivo BRAP4.SA.csv salvo com sucesso.\n",
      "Arquivo KLBN4.SA.csv salvo com sucesso.\n",
      "Arquivo HYPE3.SA.csv salvo com sucesso.\n",
      "Arquivo CASH3.SA.csv salvo com sucesso.\n",
      "Arquivo MOVI3.SA.csv salvo com sucesso.\n",
      "Arquivo RAPT4.SA.csv salvo com sucesso.\n",
      "Arquivo DIRR3.SA.csv salvo com sucesso.\n",
      "Arquivo PLPL3.SA.csv salvo com sucesso.\n",
      "Arquivo CXSE3.SA.csv salvo com sucesso.\n",
      "Arquivo SAPR4.SA.csv salvo com sucesso.\n",
      "Arquivo RECV3.SA.csv salvo com sucesso.\n",
      "Arquivo TRPL4.SA.csv salvo com sucesso.\n",
      "Arquivo SIMH3.SA.csv salvo com sucesso.\n",
      "Arquivo VIVT3.SA.csv salvo com sucesso.\n",
      "Arquivo GGPS3.SA.csv salvo com sucesso.\n",
      "Arquivo IRBR3.SA.csv salvo com sucesso.\n",
      "Arquivo RANI3.SA.csv salvo com sucesso.\n",
      "Arquivo EZTC3.SA.csv salvo com sucesso.\n",
      "Arquivo SBFG3.SA.csv salvo com sucesso.\n",
      "Arquivo PCAR3.SA.csv salvo com sucesso.\n",
      "Arquivo PSSA3.SA.csv salvo com sucesso.\n",
      "Arquivo KEPL3.SA.csv salvo com sucesso.\n",
      "Arquivo SGPS3.SA.csv salvo com sucesso.\n",
      "Arquivo RCSL3.SA.csv salvo com sucesso.\n",
      "Arquivo DASA3.SA.csv salvo com sucesso.\n",
      "Arquivo ELET6.SA.csv salvo com sucesso.\n",
      "Arquivo EVEN3.SA.csv salvo com sucesso.\n",
      "Arquivo ONCO3.SA.csv salvo com sucesso.\n",
      "Arquivo MBLY3.SA.csv salvo com sucesso.\n",
      "Arquivo GRND3.SA.csv salvo com sucesso.\n",
      "Arquivo SMTO3.SA.csv salvo com sucesso.\n",
      "Arquivo SMFT3.SA.csv salvo com sucesso.\n",
      "Arquivo CURY3.SA.csv salvo com sucesso.\n",
      "Arquivo ENAT3.SA.csv salvo com sucesso.\n",
      "Arquivo BRIT3.SA.csv salvo com sucesso.\n",
      "Arquivo CPLE3.SA.csv salvo com sucesso.\n",
      "Arquivo PTBL3.SA.csv salvo com sucesso.\n",
      "Arquivo PGMN3.SA.csv salvo com sucesso.\n",
      "Arquivo LUPA3.SA.csv salvo com sucesso.\n",
      "Arquivo KRSA3.SA.csv salvo com sucesso.\n",
      "Arquivo HBOR3.SA.csv salvo com sucesso.\n",
      "Arquivo ARZZ3.SA.csv salvo com sucesso.\n",
      "Arquivo VIVA3.SA.csv salvo com sucesso.\n",
      "Arquivo NGRD3.SA.csv salvo com sucesso.\n",
      "Arquivo ESPA3.SA.csv salvo com sucesso.\n",
      "Arquivo CSMG3.SA.csv salvo com sucesso.\n",
      "Arquivo AESB3.SA.csv salvo com sucesso.\n",
      "Arquivo EGIE3.SA.csv salvo com sucesso.\n",
      "Arquivo BOAS3.SA.csv salvo com sucesso.\n",
      "Arquivo CAML3.SA.csv salvo com sucesso.\n",
      "Arquivo MYPK3.SA.csv salvo com sucesso.\n",
      "Arquivo AMBP3.SA.csv salvo com sucesso.\n",
      "Arquivo ALPK3.SA.csv salvo com sucesso.\n",
      "Arquivo ITUB3.SA.csv salvo com sucesso.\n",
      "Arquivo ZAMP3.SA.csv salvo com sucesso.\n",
      "Arquivo LAVV3.SA.csv salvo com sucesso.\n",
      "Arquivo LOGG3.SA.csv salvo com sucesso.\n",
      "Arquivo MEAL3.SA.csv salvo com sucesso.\n",
      "Arquivo VIVR3.SA.csv salvo com sucesso.\n",
      "Arquivo CMIG3.SA.csv salvo com sucesso.\n",
      "Arquivo LEVE3.SA.csv salvo com sucesso.\n",
      "Arquivo SEER3.SA.csv salvo com sucesso.\n",
      "Arquivo HBRE3.SA.csv salvo com sucesso.\n",
      "Arquivo AGRO3.SA.csv salvo com sucesso.\n",
      "Arquivo JALL3.SA.csv salvo com sucesso.\n",
      "Arquivo TRIS3.SA.csv salvo com sucesso.\n",
      "Arquivo SQIA3.SA.csv salvo com sucesso.\n",
      "Arquivo VVEO3.SA.csv salvo com sucesso.\n",
      "Arquivo MATD3.SA.csv salvo com sucesso.\n",
      "Arquivo TTEN3.SA.csv salvo com sucesso.\n",
      "Arquivo BMGB4.SA.csv salvo com sucesso.\n",
      "Arquivo ENJU3.SA.csv salvo com sucesso.\n",
      "Arquivo MDIA3.SA.csv salvo com sucesso.\n",
      "Arquivo UNIP6.SA.csv salvo com sucesso.\n",
      "Arquivo WIZC3.SA.csv salvo com sucesso.\n",
      "Arquivo TUPY3.SA.csv salvo com sucesso.\n",
      "Arquivo TASA4.SA.csv salvo com sucesso.\n",
      "Arquivo TECN3.SA.csv salvo com sucesso.\n",
      "Arquivo ITSA3.SA.csv salvo com sucesso.\n",
      "Arquivo SOJA3.SA.csv salvo com sucesso.\n",
      "Arquivo MILS3.SA.csv salvo com sucesso.\n",
      "Arquivo AZEV4.SA.csv salvo com sucesso.\n",
      "Arquivo BMOB3.SA.csv salvo com sucesso.\n",
      "Arquivo VULC3.SA.csv salvo com sucesso.\n",
      "Arquivo KLBN3.SA.csv salvo com sucesso.\n",
      "Arquivo INEP3.SA.csv salvo com sucesso.\n",
      "Arquivo VLID3.SA.csv salvo com sucesso.\n",
      "Arquivo ARML3.SA.csv salvo com sucesso.\n",
      "Arquivo SANB3.SA.csv salvo com sucesso.\n",
      "Arquivo PDTC3.SA.csv salvo com sucesso.\n",
      "Arquivo PNVL3.SA.csv salvo com sucesso.\n",
      "Arquivo SAPR3.SA.csv salvo com sucesso.\n",
      "Arquivo SANB4.SA.csv salvo com sucesso.\n",
      "Arquivo SHUL4.SA.csv salvo com sucesso.\n",
      "Arquivo TPIS3.SA.csv salvo com sucesso.\n",
      "Arquivo MDNE3.SA.csv salvo com sucesso.\n",
      "Arquivo WEST3.SA.csv salvo com sucesso.\n",
      "Arquivo OPCT3.SA.csv salvo com sucesso.\n",
      "Arquivo ETER3.SA.csv salvo com sucesso.\n",
      "Arquivo PINE4.SA.csv salvo com sucesso.\n",
      "Arquivo MELK3.SA.csv salvo com sucesso.\n",
      "Arquivo PORT3.SA.csv salvo com sucesso.\n",
      "Arquivo SHOW3.SA.csv salvo com sucesso.\n",
      "Arquivo MTRE3.SA.csv salvo com sucesso.\n",
      "Arquivo ROMI3.SA.csv salvo com sucesso.\n",
      "Arquivo PRNR3.SA.csv salvo com sucesso.\n",
      "Arquivo ORVR3.SA.csv salvo com sucesso.\n",
      "Arquivo JSLG3.SA.csv salvo com sucesso.\n",
      "Arquivo INEP4.SA.csv salvo com sucesso.\n",
      "Arquivo CSED3.SA.csv salvo com sucesso.\n",
      "Arquivo AALR3.SA.csv salvo com sucesso.\n",
      "Arquivo VITT3.SA.csv salvo com sucesso.\n",
      "Arquivo BLAU3.SA.csv salvo com sucesso.\n",
      "Arquivo FIQE3.SA.csv salvo com sucesso.\n",
      "Arquivo CTSA4.SA.csv salvo com sucesso.\n",
      "Arquivo NINJ3.SA.csv salvo com sucesso.\n",
      "Arquivo CLSA3.SA.csv salvo com sucesso.\n",
      "Arquivo FESA4.SA.csv salvo com sucesso.\n",
      "Arquivo TAEE4.SA.csv salvo com sucesso.\n",
      "Arquivo TCSA3.SA.csv salvo com sucesso.\n",
      "Arquivo LVTC3.SA.csv salvo com sucesso.\n",
      "Arquivo FRAS3.SA.csv salvo com sucesso.\n",
      "Arquivo DOTZ3.SA.csv salvo com sucesso.\n",
      "Arquivo USIM3.SA.csv salvo com sucesso.\n",
      "Arquivo RPMG3.SA.csv salvo com sucesso.\n",
      "Arquivo LPSB3.SA.csv salvo com sucesso.\n",
      "Arquivo ELMD3.SA.csv salvo com sucesso.\n",
      "Arquivo CTNM4.SA.csv salvo com sucesso.\n",
      "Arquivo PFRM3.SA.csv salvo com sucesso.\n",
      "Arquivo ALLD3.SA.csv salvo com sucesso.\n",
      "Arquivo IGTI3.SA.csv salvo com sucesso.\n",
      "Arquivo CAMB3.SA.csv salvo com sucesso.\n",
      "Arquivo RNEW3.SA.csv salvo com sucesso.\n",
      "Arquivo BOBR4.SA.csv salvo com sucesso.\n",
      "Arquivo PDGR3.SA.csv salvo com sucesso.\n",
      "Arquivo HAGA4.SA.csv salvo com sucesso.\n",
      "Arquivo LOGN3.SA.csv salvo com sucesso.\n",
      "Arquivo RCSL4.SA.csv salvo com sucesso.\n",
      "Arquivo HAGA3.SA.csv salvo com sucesso.\n",
      "Arquivo BRAP3.SA.csv salvo com sucesso.\n",
      "Arquivo BRKM3.SA.csv salvo com sucesso.\n",
      "Arquivo OIBR4.SA.csv salvo com sucesso.\n",
      "Arquivo RNEW4.SA.csv salvo com sucesso.\n",
      "Arquivo AGXY3.SA.csv salvo com sucesso.\n",
      "Arquivo TFCO4.SA.csv salvo com sucesso.\n",
      "Arquivo RSID3.SA.csv salvo com sucesso.\n",
      "Arquivo SYNE3.SA.csv salvo com sucesso.\n",
      "Arquivo TAEE3.SA.csv salvo com sucesso.\n",
      "Arquivo CTSA3.SA.csv salvo com sucesso.\n",
      "Arquivo HOOT4.SA.csv salvo com sucesso.\n",
      "Arquivo DESK3.SA.csv salvo com sucesso.\n",
      "Arquivo PMAM3.SA.csv salvo com sucesso.\n",
      "Arquivo EUCA4.SA.csv salvo com sucesso.\n",
      "Arquivo BAHI3.SA.csv salvo com sucesso.\n",
      "Arquivo BRPR3.SA.csv salvo com sucesso.\n",
      "Arquivo BMEB4.SA.csv salvo com sucesso.\n",
      "Arquivo DEXP3.SA.csv salvo com sucesso.\n",
      "Arquivo TGMA3.SA.csv salvo com sucesso.\n",
      "Arquivo VSTE3.SA.csv salvo com sucesso.\n",
      "Arquivo AZEV3.SA.csv salvo com sucesso.\n",
      "Arquivo CSUD3.SA.csv salvo com sucesso.\n",
      "Arquivo ATMP3.SA.csv salvo com sucesso.\n",
      "Arquivo POMO3.SA.csv salvo com sucesso.\n",
      "Arquivo GOAU3.SA.csv salvo com sucesso.\n",
      "Arquivo IGTI4.SA.csv salvo com sucesso.\n",
      "Arquivo GGBR3.SA.csv salvo com sucesso.\n",
      "Arquivo NEXP3.SA.csv salvo com sucesso.\n",
      "Arquivo FHER3.SA.csv salvo com sucesso.\n",
      "Arquivo RAPT3.SA.csv salvo com sucesso.\n",
      "Arquivo BIOM3.SA.csv salvo com sucesso.\n",
      "Arquivo UCAS3.SA.csv salvo com sucesso.\n",
      "Arquivo BEES3.SA.csv salvo com sucesso.\n",
      "Arquivo LAND3.SA.csv salvo com sucesso.\n",
      "Arquivo ALUP4.SA.csv salvo com sucesso.\n",
      "Arquivo AVLL3.SA.csv salvo com sucesso.\n",
      "Arquivo BEES4.SA.csv salvo com sucesso.\n",
      "Arquivo ENGI4.SA.csv salvo com sucesso.\n",
      "Arquivo CLSC4.SA.csv salvo com sucesso.\n",
      "Arquivo SLED4.SA.csv salvo com sucesso.\n",
      "Arquivo REDE3.SA.csv salvo com sucesso.\n",
      "Arquivo CEDO4.SA.csv salvo com sucesso.\n",
      "Arquivo DMVF3.SA.csv salvo com sucesso.\n",
      "Arquivo OSXB3.SA.csv salvo com sucesso.\n",
      "Arquivo COCE5.SA.csv salvo com sucesso.\n",
      "Arquivo APER3.SA.csv salvo com sucesso.\n",
      "Arquivo BRSR3.SA.csv salvo com sucesso.\n",
      "Arquivo TASA3.SA.csv salvo com sucesso.\n",
      "Arquivo SNSY5.SA.csv salvo com sucesso.\n",
      "Arquivo UNIP3.SA.csv salvo com sucesso.\n",
      "Arquivo WHRL4.SA.csv salvo com sucesso.\n",
      "Arquivo JFEN3.SA.csv salvo com sucesso.\n",
      "Arquivo ALUP3.SA.csv salvo com sucesso.\n",
      "Arquivo ATOM3.SA.csv salvo com sucesso.\n",
      "Arquivo RSUL4.SA.csv salvo com sucesso.\n",
      "Arquivo ENGI3.SA.csv salvo com sucesso.\n",
      "Arquivo EALT4.SA.csv salvo com sucesso.\n",
      "Arquivo CEBR6.SA.csv salvo com sucesso.\n",
      "Arquivo CGRA3.SA.csv salvo com sucesso.\n",
      "Arquivo ALPA3.SA.csv salvo com sucesso.\n",
      "Arquivo OFSA3.SA.csv salvo com sucesso.\n",
      "Arquivo BPAC3.SA.csv salvo com sucesso.\n",
      "Arquivo BPAC5.SA.csv salvo com sucesso.\n",
      "Arquivo RDNI3.SA.csv salvo com sucesso.\n",
      "Arquivo PTNT4.SA.csv salvo com sucesso.\n",
      "Arquivo MWET4.SA.csv salvo com sucesso.\n",
      "Arquivo EUCA3.SA.csv salvo com sucesso.\n",
      "Arquivo CGRA4.SA.csv salvo com sucesso.\n",
      "Arquivo CTNM3.SA.csv salvo com sucesso.\n",
      "Arquivo LUXM4.SA.csv salvo com sucesso.\n",
      "Arquivo CEBR5.SA.csv salvo com sucesso.\n",
      "Arquivo DEXP4.SA.csv salvo com sucesso.\n",
      "Arquivo SNSY3.SA.csv salvo com sucesso.\n",
      "Arquivo EQPA3.SA.csv salvo com sucesso.\n",
      "Arquivo TELB4.SA.csv salvo com sucesso.\n",
      "Arquivo CEDO3.SA.csv salvo com sucesso.\n",
      "Arquivo MTSA4.SA.csv salvo com sucesso.\n",
      "Arquivo BMEB3.SA.csv salvo com sucesso.\n",
      "Arquivo EMAE4.SA.csv salvo com sucesso.\n",
      "Arquivo CRPG5.SA.csv salvo com sucesso.\n",
      "Arquivo WLMM4.SA.csv salvo com sucesso.\n",
      "Arquivo SCAR3.SA.csv salvo com sucesso.\n",
      "Arquivo GSHP3.SA.csv salvo com sucesso.\n",
      "Arquivo WHRL3.SA.csv salvo com sucesso.\n",
      "Arquivo BAZA3.SA.csv salvo com sucesso.\n",
      "Arquivo HETA4.SA.csv salvo com sucesso.\n",
      "Arquivo PTNT3.SA.csv salvo com sucesso.\n",
      "Arquivo ENMT4.SA.csv salvo com sucesso.\n",
      "Arquivo TEKA4.SA.csv salvo com sucesso.\n",
      "Arquivo JOPA3.SA.csv salvo com sucesso.\n",
      "Arquivo ENMT3.SA.csv salvo com sucesso.\n",
      "Arquivo MNPR3.SA.csv salvo com sucesso.\n",
      "Arquivo DOHL4.SA.csv salvo com sucesso.\n",
      "Arquivo MNDL3.SA.csv salvo com sucesso.\n",
      "Arquivo CEBR3.SA.csv salvo com sucesso.\n",
      "Arquivo AFLT3.SA.csv salvo com sucesso.\n",
      "Arquivo CGAS5.SA.csv salvo com sucesso.\n",
      "Arquivo CRPG6.SA.csv salvo com sucesso.\n",
      "Arquivo BMIN4.SA.csv salvo com sucesso.\n",
      "Arquivo EALT3.SA.csv salvo com sucesso.\n",
      "Arquivo GEPA4.SA.csv salvo com sucesso.\n",
      "Arquivo MGEL4.SA.csv salvo com sucesso.\n",
      "Arquivo BSLI3.SA.csv salvo com sucesso.\n",
      "Arquivo BSLI4.SA.csv salvo com sucesso.\n",
      "Arquivo CTKA4.SA.csv salvo com sucesso.\n",
      "Arquivo SLED3.SA.csv salvo com sucesso.\n",
      "Arquivo CRIV4.SA.csv salvo com sucesso.\n",
      "Arquivo PEAB3.SA.csv salvo com sucesso.\n",
      "Arquivo TRPL3.SA.csv salvo com sucesso.\n",
      "Arquivo EPAR3.SA.csv salvo com sucesso.\n",
      "Arquivo CPLE5.SA.csv salvo com sucesso.\n",
      "Arquivo TELB3.SA.csv salvo com sucesso.\n",
      "Arquivo BGIP4.SA.csv salvo com sucesso.\n",
      "Arquivo BDLL4.SA.csv salvo com sucesso.\n",
      "Arquivo ESTR4.SA.csv salvo com sucesso.\n",
      "Arquivo FRTA3.SA.csv salvo com sucesso.\n",
      "Arquivo CGAS3.SA.csv salvo com sucesso.\n",
      "Arquivo HBTS5.SA.csv salvo com sucesso.\n",
      "Arquivo EKTR4.SA.csv salvo com sucesso.\n",
      "Arquivo EQMA3B.SA.csv salvo com sucesso.\n",
      "Arquivo BRSR5.SA.csv salvo com sucesso.\n",
      "Arquivo CBEE3.SA.csv salvo com sucesso.\n",
      "Arquivo PLAS3.SA.csv salvo com sucesso.\n",
      "Arquivo CRIV3.SA.csv salvo com sucesso.\n",
      "Arquivo MOAR3.SA.csv salvo com sucesso.\n",
      "Arquivo CEEB3.SA.csv salvo com sucesso.\n",
      "Arquivo PATI3.SA.csv salvo com sucesso.\n",
      "Arquivo CEED3.SA.csv salvo com sucesso.\n",
      "Arquivo BGIP3.SA.csv salvo com sucesso.\n",
      "Arquivo AHEB3.SA.csv salvo com sucesso.\n",
      "Arquivo AHEB6.SA.csv salvo com sucesso.\n",
      "Arquivo BALM3.SA.csv salvo com sucesso.\n",
      "Arquivo RPAD5.SA.csv salvo com sucesso.\n",
      "Arquivo BMKS3.SA.csv salvo com sucesso.\n",
      "Arquivo LIPR3.SA.csv salvo com sucesso.\n",
      "Arquivo PEAB4.SA.csv salvo com sucesso.\n",
      "Arquivo CRDE3.SA.csv salvo com sucesso.\n",
      "Arquivo UNIP5.SA.csv salvo com sucesso.\n",
      "Arquivo CSRN3.SA.csv salvo com sucesso.\n",
      "Arquivo NORD3.SA.csv salvo com sucesso.\n",
      "Arquivo BDLL3.SA.csv salvo com sucesso.\n",
      "Arquivo RPAD6.SA.csv salvo com sucesso.\n",
      "Arquivo ESTR3.SA.csv salvo com sucesso.\n",
      "Arquivo BRIV4.SA.csv salvo com sucesso.\n",
      "Arquivo BRIV3.SA.csv salvo com sucesso.\n",
      "Arquivo GEPA3.SA.csv salvo com sucesso.\n",
      "Arquivo CLSC3.SA.csv salvo com sucesso.\n",
      "Arquivo BALM4.SA.csv salvo com sucesso.\n",
      "Arquivo BRKM6.SA.csv salvo com sucesso.\n",
      "Arquivo BNBR3.SA.csv salvo com sucesso.\n",
      "Arquivo BAUH4.SA.csv salvo com sucesso.\n",
      "Arquivo CSRN6.SA.csv salvo com sucesso.\n",
      "Arquivo FESA3.SA.csv salvo com sucesso.\n",
      "Arquivo CRPG3.SA.csv salvo com sucesso.\n",
      "Arquivo CSRN5.SA.csv salvo com sucesso.\n",
      "Arquivo BRGE3.SA.csv salvo com sucesso.\n",
      "Arquivo USIM6.SA.csv salvo com sucesso.\n",
      "Arquivo RPAD3.SA.csv salvo com sucesso.\n",
      "Arquivo BMIN3.SA.csv salvo com sucesso.\n",
      "Arquivo TKNO4.SA.csv salvo com sucesso.\n",
      "Arquivo MERC4.SA.csv salvo com sucesso.\n",
      "Arquivo IGBR3.SA.csv salvo com sucesso.\n",
      "Arquivo PATI4.SA.csv salvo com sucesso.\n",
      "Arquivo ELET5.SA.csv salvo com sucesso.\n",
      "Arquivo COCE3.SA.csv salvo com sucesso.\n",
      "Arquivo BRGE11.SA.csv salvo com sucesso.\n",
      "Arquivo BRGE8.SA.csv salvo com sucesso.\n",
      "Arquivo BRGE6.SA.csv salvo com sucesso.\n",
      "Arquivo FRIO3.SA.csv salvo com sucesso.\n",
      "Arquivo CALI3.SA.csv salvo com sucesso.\n",
      "Arquivo DTCY3.SA.csv salvo com sucesso.\n",
      "Arquivo MSPA4.SA.csv salvo com sucesso.\n",
      "Arquivo SOND5.SA.csv salvo com sucesso.\n",
      "Arquivo CSAB4.SA.csv salvo com sucesso.\n",
      "Arquivo MRSA6B.SA.csv salvo com sucesso.\n",
      "Arquivo CSAB3.SA.csv salvo com sucesso.\n",
      "Arquivo BRGE7.SA.csv salvo com sucesso.\n",
      "Arquivo AHEB5.SA.csv salvo com sucesso.\n",
      "Arquivo DOHL3.SA.csv salvo com sucesso.\n",
      "Arquivo JOPA4.SA.csv salvo com sucesso.\n",
      "Arquivo MWET3.SA.csv salvo com sucesso.\n",
      "Arquivo EKTR3.SA.csv salvo com sucesso.\n",
      "Arquivo BRGE12.SA.csv salvo com sucesso.\n",
      "Arquivo ODER4.SA.csv salvo com sucesso.\n",
      "Arquivo CEEB5.SA.csv salvo com sucesso.\n",
      "Arquivo EQPA7.SA.csv salvo com sucesso.\n",
      "Arquivo PARD3.SA.csv salvo com sucesso.\n",
      "Arquivo CASN3.SA.csv salvo com sucesso.\n",
      "Arquivo WLMM3.SA.csv salvo com sucesso.\n",
      "Arquivo MAPT4.SA.csv salvo com sucesso.\n",
      "Arquivo CEED4.SA.csv salvo com sucesso.\n",
      "Arquivo GPAR3.SA.csv salvo com sucesso.\n",
      "Arquivo MTSA3.SA.csv salvo com sucesso.\n",
      "Arquivo MAPT3.SA.csv salvo com sucesso.\n",
      "Arquivo DMFN3.SA.csv salvo com sucesso.\n",
      "Arquivo SOND6.SA.csv salvo com sucesso.\n",
      "Arquivo MRSA5B.SA.csv salvo com sucesso.\n",
      "Arquivo MSPA3.SA.csv salvo com sucesso.\n",
      "Arquivo EQPA5.SA.csv salvo com sucesso.\n",
      "Arquivo CTKA3.SA.csv salvo com sucesso.\n",
      "Arquivo BRGE5.SA.csv salvo com sucesso.\n",
      "Arquivo MRSA3B.SA.csv salvo com sucesso.\n",
      "Arquivo MERC3.SA.csv salvo com sucesso.\n",
      "Arquivo TCNO4.SA.csv salvo com sucesso.\n",
      "Arquivo TCNO3.SA.csv salvo com sucesso.\n",
      "Arquivo SHUL3.SA.csv salvo com sucesso.\n",
      "Arquivo FIGE3.SA.csv salvo com sucesso.\n",
      "Arquivo TEKA3.SA.csv salvo com sucesso.\n",
      "Arquivo HETA3.SA.csv salvo com sucesso.\n",
      "Arquivo SOND3.SA.csv salvo com sucesso.\n",
      "Arquivo CEGR3.SA.csv salvo com sucesso.\n",
      "Arquivo ECPR4.SA.csv salvo com sucesso.\n",
      "Arquivo EQPA6.SA.csv salvo com sucesso.\n",
      "Arquivo ECPR3.SA.csv salvo com sucesso.\n",
      "Arquivo CORR4.SA.csv salvo com sucesso.\n",
      "Arquivo SNSY6.SA.csv salvo com sucesso.\n",
      "Arquivo CASN4.SA.csv salvo com sucesso.\n",
      "Arquivo EMAE3.SA.csv salvo com sucesso.\n",
      "Arquivo VSPT3.SA.csv salvo com sucesso.\n",
      "Arquivo MTIG3.SA.csv salvo com sucesso.\n",
      "Arquivo FIGE4.SA.csv salvo com sucesso.\n",
      "Arquivo LUXM3.SA.csv salvo com sucesso.\n",
      "Arquivo TKNO3.SA.csv salvo com sucesso.\n",
      "Arquivo COCE6.SA.csv salvo com sucesso.\n",
      "Arquivo MGEL3.SA.csv salvo com sucesso.\n",
      "Arquivo MMAQ4.SA.csv salvo com sucesso.\n"
     ]
    }
   ],
   "source": [
    "dicionario_dataframes = {...}  # Seu dicionário de dataframes\n",
    "pasta_destino = 'dados'  # Caminho para a pasta de destino\n",
    "\n",
    "# Verifica se a pasta de destino existe, se não, cria-a\n",
    "if not os.path.exists(pasta_destino):\n",
    "    os.makedirs(pasta_destino)\n",
    "\n",
    "# Itera pelo dicionário e salva cada dataframe como um arquivo CSV\n",
    "for ticker, df in dados2.items():\n",
    "    nome_arquivo = f'{ticker}.csv'  # Nome do arquivo CSV\n",
    "    caminho_arquivo = os.path.join(pasta_destino, nome_arquivo)  # Caminho completo para o arquivo CSV\n",
    "    \n",
    "    df.to_csv(caminho_arquivo, index=False)  # Salva o dataframe como arquivo CSV\n",
    "    \n",
    "    print(f'Arquivo {nome_arquivo} salvo com sucesso.')\n",
    "\n"
   ]
  },
  {
   "cell_type": "code",
   "execution_count": 42,
   "metadata": {},
   "outputs": [
    {
     "name": "stdout",
     "output_type": "stream",
     "text": [
      "466\n",
      "       symbol        date       open       high        low      close  \\\n",
      "0    PETR4.SA  2022-06-17  28.170000  28.450001  26.129999  27.309999   \n",
      "1    PETR4.SA  2022-06-20  26.020000  28.250000  25.910000  27.620001   \n",
      "2    PETR4.SA  2022-06-21  27.799999  28.160000  26.690001  27.070000   \n",
      "3    PETR4.SA  2022-06-22  26.580000  27.549999  26.389999  26.990000   \n",
      "4    PETR4.SA  2022-06-23  26.980000  27.379999  26.120001  26.490000   \n",
      "..        ...         ...        ...        ...        ...        ...   \n",
      "245  PETR4.SA  2023-06-12  30.219999  30.990000  30.040001  30.809999   \n",
      "246  PETR4.SA  2023-06-13  29.240000  29.240000  28.590000  28.860001   \n",
      "247  PETR4.SA  2023-06-14  28.940001  30.100000  28.879999  30.100000   \n",
      "248  PETR4.SA  2023-06-15  30.200001  30.850000  29.280001  29.389999   \n",
      "249  PETR4.SA  2023-06-16  29.230000  29.920000  29.040001  29.639999   \n",
      "\n",
      "        volume   adjclose  dividends  \n",
      "0    184606500  16.253057   0.000000  \n",
      "1     92581800  16.437550   0.000000  \n",
      "2     85179500  16.110224   0.000000  \n",
      "3     57874700  16.062614   0.000000  \n",
      "4     69262300  15.765049   0.000000  \n",
      "..         ...        ...        ...  \n",
      "245  119350400  28.916424   0.000000  \n",
      "246   79174900  28.860001   1.893576  \n",
      "247   98326000  30.100000   0.000000  \n",
      "248  120579500  29.389999   0.000000  \n",
      "249   94572000  29.639999   0.000000  \n",
      "\n",
      "[250 rows x 9 columns]\n",
      "AALR3.SA\n",
      "ABCB4.SA\n",
      "ABEV3.SA\n",
      "AERI3.SA\n",
      "AESB3.SA\n",
      "AFLT3.SA\n",
      "AGRO3.SA\n",
      "AGXY3.SA\n",
      "AHEB3.SA\n",
      "AHEB5.SA\n",
      "AHEB6.SA\n",
      "ALLD3.SA\n",
      "ALPA3.SA\n",
      "ALPA4.SA\n",
      "ALPK3.SA\n",
      "ALSO3.SA\n",
      "ALUP3.SA\n",
      "ALUP4.SA\n",
      "AMAR3.SA\n",
      "AMBP3.SA\n",
      "AMER3.SA\n",
      "ANIM3.SA\n",
      "APER3.SA\n",
      "ARML3.SA\n",
      "ARZZ3.SA\n",
      "ASAI3.SA\n",
      "ATMP3.SA\n",
      "ATOM3.SA\n",
      "AVLL3.SA\n",
      "AZEV3.SA\n",
      "AZEV4.SA\n",
      "AZUL4.SA\n",
      "B3SA3.SA\n",
      "BAHI3.SA\n",
      "BALM3.SA\n",
      "BALM4.SA\n",
      "BAUH4.SA\n",
      "BAZA3.SA\n",
      "BBAS3.SA\n",
      "BBDC3.SA\n",
      "BBDC4.SA\n",
      "BBSE3.SA\n",
      "BDLL3.SA\n",
      "BDLL4.SA\n",
      "BEEF3.SA\n",
      "BEES3.SA\n",
      "BEES4.SA\n",
      "BGIP3.SA\n",
      "BGIP4.SA\n",
      "BIOM3.SA\n",
      "BLAU3.SA\n",
      "BMEB3.SA\n",
      "BMEB4.SA\n",
      "BMGB4.SA\n",
      "BMIN3.SA\n",
      "BMIN4.SA\n",
      "BMKS3.SA\n",
      "BMOB3.SA\n",
      "BNBR3.SA\n",
      "BOAS3.SA\n",
      "BOBR4.SA\n",
      "BPAC3.SA\n",
      "BPAC5.SA\n",
      "BPAN4.SA\n",
      "BRAP3.SA\n",
      "BRAP4.SA\n",
      "BRFS3.SA\n",
      "BRGE11.SA\n",
      "BRGE12.SA\n",
      "BRGE3.SA\n",
      "BRGE5.SA\n",
      "BRGE6.SA\n",
      "BRGE7.SA\n",
      "BRGE8.SA\n",
      "BRIT3.SA\n",
      "BRIV3.SA\n",
      "BRIV4.SA\n",
      "BRKM3.SA\n",
      "BRKM5.SA\n",
      "BRKM6.SA\n",
      "BRPR3.SA\n",
      "BRSR3.SA\n",
      "BRSR5.SA\n",
      "BRSR6.SA\n",
      "BSLI3.SA\n",
      "BSLI4.SA\n",
      "CALI3.SA\n",
      "CAMB3.SA\n",
      "CAML3.SA\n",
      "CASH3.SA\n",
      "CASN3.SA\n",
      "CASN4.SA\n",
      "CBAV3.SA\n",
      "CBEE3.SA\n",
      "CCRO3.SA\n",
      "CEAB3.SA\n",
      "CEBR3.SA\n",
      "CEBR5.SA\n",
      "CEBR6.SA\n",
      "CEDO3.SA\n",
      "CEDO4.SA\n",
      "CEEB3.SA\n",
      "CEEB5.SA\n",
      "CEED3.SA\n",
      "CEED4.SA\n",
      "CEGR3.SA\n",
      "CGAS3.SA\n",
      "CGAS5.SA\n",
      "CGRA3.SA\n",
      "CGRA4.SA\n",
      "CIEL3.SA\n",
      "CLSA3.SA\n",
      "CLSC3.SA\n",
      "CLSC4.SA\n",
      "CMIG3.SA\n",
      "CMIG4.SA\n",
      "CMIN3.SA\n",
      "COCE3.SA\n",
      "COCE5.SA\n",
      "COCE6.SA\n",
      "COGN3.SA\n",
      "CORR4.SA\n",
      "CPFE3.SA\n",
      "CPLE3.SA\n",
      "CPLE5.SA\n",
      "CPLE6.SA\n",
      "CRDE3.SA\n",
      "CRFB3.SA\n",
      "CRIV3.SA\n",
      "CRIV4.SA\n",
      "CRPG3.SA\n",
      "CRPG5.SA\n",
      "CRPG6.SA\n",
      "CSAB3.SA\n",
      "CSAB4.SA\n",
      "CSAN3.SA\n",
      "CSED3.SA\n",
      "CSMG3.SA\n",
      "CSNA3.SA\n",
      "CSRN3.SA\n",
      "CSRN5.SA\n",
      "CSRN6.SA\n",
      "CSUD3.SA\n",
      "CTKA3.SA\n",
      "CTKA4.SA\n",
      "CTNM3.SA\n",
      "CTNM4.SA\n",
      "CTSA3.SA\n",
      "CTSA4.SA\n",
      "CURY3.SA\n",
      "CVCB3.SA\n",
      "CXSE3.SA\n",
      "CYRE3.SA\n",
      "DASA3.SA\n",
      "DESK3.SA\n",
      "DEXP3.SA\n",
      "DEXP4.SA\n",
      "DIRR3.SA\n",
      "DMFN3.SA\n",
      "DMVF3.SA\n",
      "DOHL3.SA\n",
      "DOHL4.SA\n",
      "DOTZ3.SA\n",
      "DTCY3.SA\n",
      "DXCO3.SA\n",
      "EALT3.SA\n",
      "EALT4.SA\n",
      "ECOR3.SA\n",
      "ECPR3.SA\n",
      "ECPR4.SA\n",
      "EGIE3.SA\n",
      "EKTR3.SA\n",
      "EKTR4.SA\n",
      "ELET3.SA\n",
      "ELET5.SA\n",
      "ELET6.SA\n",
      "ELMD3.SA\n",
      "EMAE3.SA\n",
      "EMAE4.SA\n",
      "EMBR3.SA\n",
      "ENAT3.SA\n",
      "ENBR3.SA\n",
      "ENEV3.SA\n",
      "ENGI3.SA\n",
      "ENGI4.SA\n",
      "ENJU3.SA\n",
      "ENMT3.SA\n",
      "ENMT4.SA\n",
      "EPAR3.SA\n",
      "EQMA3B.SA\n",
      "EQPA3.SA\n",
      "EQPA5.SA\n",
      "EQPA6.SA\n",
      "EQPA7.SA\n",
      "EQTL3.SA\n",
      "ESPA3.SA\n",
      "ESTR3.SA\n",
      "ESTR4.SA\n",
      "ETER3.SA\n",
      "EUCA3.SA\n",
      "EUCA4.SA\n",
      "EVEN3.SA\n",
      "EZTC3.SA\n",
      "FESA3.SA\n",
      "FESA4.SA\n",
      "FHER3.SA\n",
      "FIGE3.SA\n",
      "FIGE4.SA\n",
      "FIQE3.SA\n",
      "FLRY3.SA\n",
      "FRAS3.SA\n",
      "FRIO3.SA\n",
      "FRTA3.SA\n",
      "GEPA3.SA\n",
      "GEPA4.SA\n",
      "GFSA3.SA\n",
      "GGBR3.SA\n",
      "GGBR4.SA\n",
      "GGPS3.SA\n",
      "GMAT3.SA\n",
      "GOAU3.SA\n",
      "GOAU4.SA\n",
      "GOLL4.SA\n",
      "GPAR3.SA\n",
      "GRND3.SA\n",
      "GSHP3.SA\n",
      "GUAR3.SA\n",
      "HAGA3.SA\n",
      "HAGA4.SA\n",
      "HAPV3.SA\n",
      "HBOR3.SA\n",
      "HBRE3.SA\n",
      "HBSA3.SA\n",
      "HBTS5.SA\n",
      "HETA3.SA\n",
      "HETA4.SA\n",
      "HOOT4.SA\n",
      "HYPE3.SA\n",
      "IFCM3.SA\n",
      "IGBR3.SA\n",
      "IGTI3.SA\n",
      "IGTI4.SA\n",
      "INEP3.SA\n",
      "INEP4.SA\n",
      "INTB3.SA\n",
      "IRBR3.SA\n",
      "ITSA3.SA\n",
      "ITSA4.SA\n",
      "ITUB3.SA\n",
      "ITUB4.SA\n",
      "JALL3.SA\n",
      "JBSS3.SA\n",
      "JFEN3.SA\n",
      "JHSF3.SA\n",
      "JOPA3.SA\n",
      "JOPA4.SA\n",
      "JSLG3.SA\n",
      "KEPL3.SA\n",
      "KLBN3.SA\n",
      "KLBN4.SA\n",
      "KRSA3.SA\n",
      "LAND3.SA\n",
      "LAVV3.SA\n",
      "LEVE3.SA\n",
      "LIGT3.SA\n",
      "LIPR3.SA\n",
      "LJQQ3.SA\n",
      "LOGG3.SA\n",
      "LOGN3.SA\n",
      "LPSB3.SA\n",
      "LREN3.SA\n",
      "LUPA3.SA\n",
      "LUXM3.SA\n",
      "LUXM4.SA\n",
      "LVTC3.SA\n",
      "LWSA3.SA\n",
      "MAPT3.SA\n",
      "MAPT4.SA\n",
      "MATD3.SA\n",
      "MBLY3.SA\n",
      "MDIA3.SA\n",
      "MDNE3.SA\n",
      "MEAL3.SA\n",
      "MELK3.SA\n",
      "MERC3.SA\n",
      "MERC4.SA\n",
      "MGEL3.SA\n",
      "MGEL4.SA\n",
      "MGLU3.SA\n",
      "MILS3.SA\n",
      "MLAS3.SA\n",
      "MMAQ4.SA\n",
      "MNDL3.SA\n",
      "MNPR3.SA\n",
      "MOAR3.SA\n",
      "MODL3.SA\n",
      "MOVI3.SA\n",
      "MRFG3.SA\n",
      "MRSA3B.SA\n",
      "MRSA5B.SA\n",
      "MRSA6B.SA\n",
      "MRVE3.SA\n",
      "MSPA3.SA\n",
      "MSPA4.SA\n",
      "MTIG3.SA\n",
      "MTRE3.SA\n",
      "MTSA3.SA\n",
      "MTSA4.SA\n",
      "MULT3.SA\n",
      "MWET3.SA\n",
      "MWET4.SA\n",
      "MYPK3.SA\n",
      "NEOE3.SA\n",
      "NEXP3.SA\n",
      "NGRD3.SA\n",
      "NINJ3.SA\n",
      "NORD3.SA\n",
      "NTCO3.SA\n",
      "ODER4.SA\n",
      "ODPV3.SA\n",
      "OFSA3.SA\n",
      "OIBR3.SA\n",
      "OIBR4.SA\n",
      "ONCO3.SA\n",
      "OPCT3.SA\n",
      "ORVR3.SA\n",
      "OSXB3.SA\n",
      "PARD3.SA\n",
      "PATI3.SA\n",
      "PATI4.SA\n",
      "PCAR3.SA\n",
      "PDGR3.SA\n",
      "PDTC3.SA\n",
      "PEAB3.SA\n",
      "PEAB4.SA\n",
      "PETR3.SA\n",
      "PETR4.SA\n",
      "PETZ3.SA\n",
      "PFRM3.SA\n",
      "PGMN3.SA\n",
      "PINE4.SA\n",
      "PLAS3.SA\n",
      "PLPL3.SA\n",
      "PMAM3.SA\n",
      "PNVL3.SA\n",
      "POMO3.SA\n",
      "POMO4.SA\n",
      "PORT3.SA\n",
      "POSI3.SA\n",
      "PRIO3.SA\n",
      "PRNR3.SA\n",
      "PSSA3.SA\n",
      "PTBL3.SA\n",
      "PTNT3.SA\n",
      "PTNT4.SA\n",
      "QUAL3.SA\n",
      "RADL3.SA\n",
      "RAIL3.SA\n",
      "RAIZ4.SA\n",
      "RANI3.SA\n",
      "RAPT3.SA\n",
      "RAPT4.SA\n",
      "RCSL3.SA\n",
      "RCSL4.SA\n",
      "RDNI3.SA\n",
      "RDOR3.SA\n",
      "RECV3.SA\n",
      "REDE3.SA\n",
      "RENT3.SA\n",
      "RNEW3.SA\n",
      "RNEW4.SA\n",
      "ROMI3.SA\n",
      "RPAD3.SA\n",
      "RPAD5.SA\n",
      "RPAD6.SA\n",
      "RPMG3.SA\n",
      "RRRP3.SA\n",
      "RSID3.SA\n",
      "RSUL4.SA\n",
      "SANB3.SA\n",
      "SANB4.SA\n",
      "SAPR3.SA\n",
      "SAPR4.SA\n",
      "SBFG3.SA\n",
      "SBSP3.SA\n",
      "SCAR3.SA\n",
      "SEER3.SA\n",
      "SEQL3.SA\n",
      "SGPS3.SA\n",
      "SHOW3.SA\n",
      "SHUL3.SA\n",
      "SHUL4.SA\n",
      "SIMH3.SA\n",
      "SLCE3.SA\n",
      "SLED3.SA\n",
      "SLED4.SA\n",
      "SMFT3.SA\n",
      "SMTO3.SA\n",
      "SNSY3.SA\n",
      "SNSY5.SA\n",
      "SNSY6.SA\n",
      "SOJA3.SA\n",
      "SOMA3.SA\n",
      "SOND3.SA\n",
      "SOND5.SA\n",
      "SOND6.SA\n",
      "SQIA3.SA\n",
      "STBP3.SA\n",
      "SUZB3.SA\n",
      "SYNE3.SA\n",
      "TAEE3.SA\n",
      "TAEE4.SA\n",
      "TASA3.SA\n",
      "TASA4.SA\n",
      "TCNO3.SA\n",
      "TCNO4.SA\n",
      "TCSA3.SA\n",
      "TECN3.SA\n",
      "TEKA3.SA\n",
      "TEKA4.SA\n",
      "TELB3.SA\n",
      "TELB4.SA\n",
      "TEND3.SA\n",
      "TFCO4.SA\n",
      "TGMA3.SA\n",
      "TIMS3.SA\n",
      "TKNO3.SA\n",
      "TKNO4.SA\n",
      "TOTS3.SA\n",
      "TPIS3.SA\n",
      "TRAD3.SA\n",
      "TRIS3.SA\n",
      "TRPL3.SA\n",
      "TRPL4.SA\n",
      "TTEN3.SA\n",
      "TUPY3.SA\n",
      "UCAS3.SA\n",
      "UGPA3.SA\n",
      "UNIP3.SA\n",
      "UNIP5.SA\n",
      "UNIP6.SA\n",
      "USIM3.SA\n",
      "USIM5.SA\n",
      "USIM6.SA\n",
      "VALE3.SA\n",
      "VAMO3.SA\n",
      "VBBR3.SA\n",
      "VIIA3.SA\n",
      "VITT3.SA\n",
      "VIVA3.SA\n",
      "VIVR3.SA\n",
      "VIVT3.SA\n",
      "VLID3.SA\n",
      "VSPT3.SA\n",
      "VSTE3.SA\n",
      "VULC3.SA\n",
      "VVEO3.SA\n",
      "WEGE3.SA\n",
      "WEST3.SA\n",
      "WHRL3.SA\n",
      "WHRL4.SA\n",
      "WIZC3.SA\n",
      "WLMM3.SA\n",
      "WLMM4.SA\n",
      "YDUQ3.SA\n",
      "ZAMP3.SA\n"
     ]
    }
   ],
   "source": [
    "dados3 = {}  # Dicionário vazio para armazenar as tabelas\n",
    "\n",
    "# Percorre todos os arquivos na pasta\n",
    "for nome_arquivo in os.listdir('dados'):\n",
    "    if nome_arquivo.endswith('.csv'):  # Verifica se o arquivo é um arquivo CSV\n",
    "        caminho_arquivo = os.path.join('dados', nome_arquivo)  # Caminho completo para o arquivo\n",
    "        \n",
    "        dados3[os.path.splitext(nome_arquivo)[0]] = pd.read_csv(caminho_arquivo)\n",
    "\n",
    "# Imprime o dicionário com as tabelas\n",
    "print(len(dados3))\n",
    "\n",
    "print(dados['PETR4.SA'])\n",
    "\n",
    "for i in dados3:\n",
    "    print(i)"
   ]
  },
  {
   "attachments": {},
   "cell_type": "markdown",
   "metadata": {},
   "source": [
    "# Convolução"
   ]
  },
  {
   "attachments": {},
   "cell_type": "markdown",
   "metadata": {},
   "source": [
    "## Colunas para os rótulos"
   ]
  },
  {
   "attachments": {},
   "cell_type": "markdown",
   "metadata": {},
   "source": [
    "Cada linha analisa se há aumento expressivo nos próximos 5 períodos."
   ]
  },
  {
   "attachments": {},
   "cell_type": "markdown",
   "metadata": {},
   "source": [
    "Se não houver, o rótulo será 0; Caso contrário, será o número de dias em que o aumento ocorre.  \n",
    "Há uma variável ajustável para determinar o nível do aumento."
   ]
  },
  {
   "cell_type": "code",
   "execution_count": 43,
   "metadata": {},
   "outputs": [],
   "source": [
    "# Coluna para os rótulos\n",
    "\n",
    "for i,j in dados3.items():\n",
    "    j['Rótulos'] = 0"
   ]
  },
  {
   "cell_type": "code",
   "execution_count": null,
   "metadata": {},
   "outputs": [],
   "source": [
    "# Metaparâmetros\n",
    "\n",
    "Aumento = 0.1\n",
    "\n",
    "Prospecção = 5"
   ]
  },
  {
   "cell_type": "code",
   "execution_count": null,
   "metadata": {},
   "outputs": [],
   "source": [
    "for key, value in dados3.items():\n",
    "    for "
   ]
  },
  {
   "cell_type": "code",
   "execution_count": 49,
   "metadata": {},
   "outputs": [
    {
     "name": "stdout",
     "output_type": "stream",
     "text": [
      "symbol        PETR4.SA\n",
      "open             28.17\n",
      "high         28.450001\n",
      "low          26.129999\n",
      "close        27.309999\n",
      "volume       184606500\n",
      "adjclose     16.253057\n",
      "dividends          0.0\n",
      "Rótulos              0\n",
      "Name: 0, dtype: object\n",
      "_\n",
      "symbol        PETR4.SA\n",
      "open             26.02\n",
      "high             28.25\n",
      "low              25.91\n",
      "close        27.620001\n",
      "volume        92581800\n",
      "adjclose      16.43755\n",
      "dividends          0.0\n",
      "Rótulos              0\n",
      "Name: 1, dtype: object\n",
      "_\n",
      "symbol        PETR4.SA\n",
      "open         27.799999\n",
      "high             28.16\n",
      "low          26.690001\n",
      "close            27.07\n",
      "volume        85179500\n",
      "adjclose     16.110224\n",
      "dividends          0.0\n",
      "Rótulos              0\n",
      "Name: 2, dtype: object\n",
      "_\n",
      "symbol        PETR4.SA\n",
      "open             26.58\n",
      "high         27.549999\n",
      "low          26.389999\n",
      "close            26.99\n",
      "volume        57874700\n",
      "adjclose     16.062614\n",
      "dividends          0.0\n",
      "Rótulos              0\n",
      "Name: 3, dtype: object\n",
      "_\n",
      "symbol        PETR4.SA\n",
      "open             26.98\n",
      "high         27.379999\n",
      "low          26.120001\n",
      "close            26.49\n",
      "volume        69262300\n",
      "adjclose     15.765049\n",
      "dividends          0.0\n",
      "Rótulos              0\n",
      "Name: 4, dtype: object\n",
      "_\n",
      "symbol        PETR4.SA\n",
      "open             26.76\n",
      "high             27.09\n",
      "low              26.18\n",
      "close        26.290001\n",
      "volume        53413400\n",
      "adjclose     15.646022\n",
      "dividends          0.0\n",
      "Rótulos              0\n",
      "Name: 5, dtype: object\n",
      "_\n",
      "symbol        PETR4.SA\n",
      "open             26.82\n",
      "high             28.07\n",
      "low              26.66\n",
      "close            27.98\n",
      "volume        90417700\n",
      "adjclose     16.651794\n",
      "dividends          0.0\n",
      "Rótulos              0\n",
      "Name: 6, dtype: object\n",
      "_\n",
      "symbol        PETR4.SA\n",
      "open             28.58\n",
      "high             28.83\n",
      "low              28.02\n",
      "close            28.33\n",
      "volume        51388000\n",
      "adjclose     16.860092\n",
      "dividends          0.0\n",
      "Rótulos              0\n",
      "Name: 7, dtype: object\n",
      "_\n",
      "symbol        PETR4.SA\n",
      "open             28.48\n",
      "high             28.82\n",
      "low              27.84\n",
      "close            28.08\n",
      "volume        52048800\n",
      "adjclose     16.711308\n",
      "dividends          0.0\n",
      "Rótulos              0\n",
      "Name: 8, dtype: object\n",
      "_\n",
      "symbol        PETR4.SA\n",
      "open             27.65\n",
      "high         28.059999\n",
      "low               27.4\n",
      "close            27.93\n",
      "volume        49910100\n",
      "adjclose     16.622038\n",
      "dividends          0.0\n",
      "Rótulos              0\n",
      "Name: 9, dtype: object\n",
      "_\n",
      "symbol        PETR4.SA\n",
      "open             28.08\n",
      "high             28.85\n",
      "low              27.52\n",
      "close        28.530001\n",
      "volume        64948200\n",
      "adjclose     16.979118\n",
      "dividends          0.0\n",
      "Rótulos              0\n",
      "Name: 10, dtype: object\n",
      "_\n",
      "symbol        PETR4.SA\n",
      "open         28.540001\n",
      "high         29.280001\n",
      "low          28.540001\n",
      "close        29.139999\n",
      "volume        37324200\n",
      "adjclose     17.342148\n",
      "dividends          0.0\n",
      "Rótulos              0\n",
      "Name: 11, dtype: object\n",
      "_\n",
      "symbol        PETR4.SA\n",
      "open              28.9\n",
      "high         28.950001\n",
      "low          27.549999\n",
      "close        28.030001\n",
      "volume        78428500\n",
      "adjclose     16.681553\n",
      "dividends          0.0\n",
      "Rótulos              0\n",
      "Name: 12, dtype: object\n",
      "_\n",
      "symbol        PETR4.SA\n",
      "open             28.16\n",
      "high             28.48\n",
      "low              26.91\n",
      "close            27.67\n",
      "volume        57617200\n",
      "adjclose     16.467304\n",
      "dividends          0.0\n",
      "Rótulos              0\n",
      "Name: 13, dtype: object\n",
      "_\n",
      "symbol       PETR4.SA\n",
      "open             28.0\n",
      "high            28.92\n",
      "low              28.0\n",
      "close           28.48\n",
      "volume       52147300\n",
      "adjclose     16.94936\n",
      "dividends         0.0\n",
      "Rótulos             0\n",
      "Name: 14, dtype: object\n",
      "_\n",
      "symbol        PETR4.SA\n",
      "open         28.530001\n",
      "high         28.969999\n",
      "low          28.370001\n",
      "close        28.799999\n",
      "volume        43097800\n",
      "adjclose     17.139803\n",
      "dividends          0.0\n",
      "Rótulos              0\n",
      "Name: 15, dtype: object\n",
      "_\n",
      "symbol        PETR4.SA\n",
      "open             28.32\n",
      "high         28.790001\n",
      "low              28.25\n",
      "close            28.66\n",
      "volume        39577600\n",
      "adjclose     17.056484\n",
      "dividends          0.0\n",
      "Rótulos              0\n",
      "Name: 16, dtype: object\n",
      "_\n",
      "symbol        PETR4.SA\n",
      "open         28.299999\n",
      "high             28.43\n",
      "low          27.969999\n",
      "close            28.23\n",
      "volume        46462000\n",
      "adjclose     16.800577\n",
      "dividends          0.0\n",
      "Rótulos              0\n",
      "Name: 17, dtype: object\n",
      "_\n",
      "symbol        PETR4.SA\n",
      "open         28.129999\n",
      "high             28.48\n",
      "low              27.98\n",
      "close            28.25\n",
      "volume        35497200\n",
      "adjclose     16.812481\n",
      "dividends          0.0\n",
      "Rótulos              0\n",
      "Name: 18, dtype: object\n",
      "_\n",
      "symbol       PETR4.SA\n",
      "open             28.0\n",
      "high             28.0\n",
      "low             27.24\n",
      "close           27.49\n",
      "volume       47151000\n",
      "adjclose     16.36018\n",
      "dividends         0.0\n",
      "Rótulos             0\n",
      "Name: 19, dtype: object\n",
      "_\n",
      "symbol        PETR4.SA\n",
      "open         27.700001\n",
      "high         28.049999\n",
      "low              27.49\n",
      "close        27.959999\n",
      "volume        38610800\n",
      "adjclose     16.639891\n",
      "dividends          0.0\n",
      "Rótulos              0\n",
      "Name: 20, dtype: object\n",
      "_\n",
      "symbol        PETR4.SA\n",
      "open         28.389999\n",
      "high         28.690001\n",
      "low          28.299999\n",
      "close             28.6\n",
      "volume        46782300\n",
      "adjclose     17.020779\n",
      "dividends          0.0\n",
      "Rótulos              0\n",
      "Name: 21, dtype: object\n",
      "_\n",
      "symbol        PETR4.SA\n",
      "open         28.549999\n",
      "high             29.24\n",
      "low               28.4\n",
      "close            29.18\n",
      "volume        48562300\n",
      "adjclose     17.365953\n",
      "dividends          0.0\n",
      "Rótulos              0\n",
      "Name: 22, dtype: object\n",
      "_\n",
      "symbol        PETR4.SA\n",
      "open             29.07\n",
      "high         29.219999\n",
      "low              28.83\n",
      "close            29.17\n",
      "volume        43520800\n",
      "adjclose     17.360001\n",
      "dividends          0.0\n",
      "Rótulos              0\n",
      "Name: 23, dtype: object\n",
      "_\n",
      "symbol        PETR4.SA\n",
      "open             28.98\n",
      "high         29.129999\n",
      "low          28.200001\n",
      "close            29.02\n",
      "volume        58843200\n",
      "adjclose     17.270733\n",
      "dividends          0.0\n",
      "Rótulos              0\n",
      "Name: 24, dtype: object\n",
      "_\n",
      "symbol        PETR4.SA\n",
      "open         29.040001\n",
      "high         29.469999\n",
      "low              28.85\n",
      "close            29.33\n",
      "volume        55676200\n",
      "adjclose     17.455223\n",
      "dividends          0.0\n",
      "Rótulos              0\n",
      "Name: 25, dtype: object\n",
      "_\n",
      "symbol        PETR4.SA\n",
      "open         29.610001\n",
      "high             30.75\n",
      "low          29.610001\n",
      "close        30.700001\n",
      "volume        79106600\n",
      "adjclose     18.270554\n",
      "dividends          0.0\n",
      "Rótulos              0\n",
      "Name: 26, dtype: object\n",
      "_\n",
      "symbol        PETR4.SA\n",
      "open         31.200001\n",
      "high         31.620001\n",
      "low              30.59\n",
      "close            31.01\n",
      "volume        78360100\n",
      "adjclose     18.455046\n",
      "dividends          0.0\n",
      "Rótulos              0\n",
      "Name: 27, dtype: object\n",
      "_\n",
      "symbol        PETR4.SA\n",
      "open         31.299999\n",
      "high         31.469999\n",
      "low          30.620001\n",
      "close            31.35\n",
      "volume        56097200\n",
      "adjclose     18.657391\n",
      "dividends          0.0\n",
      "Rótulos              0\n",
      "Name: 28, dtype: object\n",
      "_\n",
      "symbol        PETR4.SA\n",
      "open             31.59\n",
      "high         32.630001\n",
      "low              31.43\n",
      "close        32.290001\n",
      "volume       114996500\n",
      "adjclose     19.216816\n",
      "dividends          0.0\n",
      "Rótulos              0\n",
      "Name: 29, dtype: object\n",
      "_\n",
      "symbol        PETR4.SA\n",
      "open         33.599998\n",
      "high             34.66\n",
      "low          32.830002\n",
      "close        34.150002\n",
      "volume       181480600\n",
      "adjclose     20.323761\n",
      "dividends          0.0\n",
      "Rótulos              0\n",
      "Name: 30, dtype: object\n",
      "_\n",
      "symbol        PETR4.SA\n",
      "open              34.0\n",
      "high         34.150002\n",
      "low          33.220001\n",
      "close            33.68\n",
      "volume        81365100\n",
      "adjclose     20.044048\n",
      "dividends          0.0\n",
      "Rótulos              0\n",
      "Name: 31, dtype: object\n",
      "_\n",
      "symbol        PETR4.SA\n",
      "open             33.77\n",
      "high              34.5\n",
      "low              33.48\n",
      "close        33.830002\n",
      "volume        69147100\n",
      "adjclose      20.13332\n",
      "dividends          0.0\n",
      "Rótulos              0\n",
      "Name: 32, dtype: object\n",
      "_\n",
      "symbol        PETR4.SA\n",
      "open         34.009998\n",
      "high             34.16\n",
      "low          33.560001\n",
      "close        33.849998\n",
      "volume        65544500\n",
      "adjclose      20.14522\n",
      "dividends          0.0\n",
      "Rótulos              0\n",
      "Name: 33, dtype: object\n",
      "_\n",
      "symbol        PETR4.SA\n",
      "open         34.080002\n",
      "high         34.400002\n",
      "low          33.580002\n",
      "close        34.209999\n",
      "volume        54387500\n",
      "adjclose     20.359467\n",
      "dividends          0.0\n",
      "Rótulos              0\n",
      "Name: 34, dtype: object\n",
      "_\n",
      "symbol        PETR4.SA\n",
      "open         34.150002\n",
      "high         35.060001\n",
      "low          34.119999\n",
      "close        34.869999\n",
      "volume        77882600\n",
      "adjclose     20.752254\n",
      "dividends          0.0\n",
      "Rótulos              0\n",
      "Name: 35, dtype: object\n",
      "_\n",
      "symbol        PETR4.SA\n",
      "open         35.139999\n",
      "high             36.77\n",
      "low          35.130001\n",
      "close        36.630001\n",
      "volume       109484600\n",
      "adjclose     21.799686\n",
      "dividends          0.0\n",
      "Rótulos              0\n",
      "Name: 36, dtype: object\n",
      "_\n",
      "symbol        PETR4.SA\n",
      "open         37.009998\n",
      "high         37.459999\n",
      "low          36.849998\n",
      "close            37.23\n",
      "volume        79051200\n",
      "adjclose     22.156767\n",
      "dividends          0.0\n",
      "Rótulos              0\n",
      "Name: 37, dtype: object\n",
      "_\n",
      "symbol        PETR4.SA\n",
      "open         37.650002\n",
      "high         37.650002\n",
      "low          36.610001\n",
      "close        37.110001\n",
      "volume        78369600\n",
      "adjclose      22.08535\n",
      "dividends          0.0\n",
      "Rótulos              0\n",
      "Name: 38, dtype: object\n",
      "_\n",
      "symbol        PETR4.SA\n",
      "open         37.450001\n",
      "high         37.860001\n",
      "low              36.25\n",
      "close            36.25\n",
      "volume       128896500\n",
      "adjclose      21.57354\n",
      "dividends          0.0\n",
      "Rótulos              0\n",
      "Name: 39, dtype: object\n",
      "_\n",
      "symbol        PETR4.SA\n",
      "open              29.1\n",
      "high             31.83\n",
      "low              29.08\n",
      "close        31.709999\n",
      "volume       171288300\n",
      "adjclose     23.175583\n",
      "dividends     6.732003\n",
      "Rótulos              0\n",
      "Name: 40, dtype: object\n",
      "_\n",
      "symbol        PETR4.SA\n",
      "open         30.879999\n",
      "high             32.23\n",
      "low          30.549999\n",
      "close        31.719999\n",
      "volume        96759000\n",
      "adjclose     23.182894\n",
      "dividends          0.0\n",
      "Rótulos              0\n",
      "Name: 41, dtype: object\n",
      "_\n",
      "symbol        PETR4.SA\n",
      "open         31.719999\n",
      "high             32.07\n",
      "low               31.5\n",
      "close        32.009998\n",
      "volume        64218800\n",
      "adjclose     23.394842\n",
      "dividends          0.0\n",
      "Rótulos              0\n",
      "Name: 42, dtype: object\n",
      "_\n",
      "symbol        PETR4.SA\n",
      "open             31.65\n",
      "high             32.82\n",
      "low               31.6\n",
      "close        32.759998\n",
      "volume        72924700\n",
      "adjclose     23.942989\n",
      "dividends          0.0\n",
      "Rótulos              0\n",
      "Name: 43, dtype: object\n",
      "_\n",
      "symbol        PETR4.SA\n",
      "open         33.099998\n",
      "high             33.66\n",
      "low          32.869999\n",
      "close        33.419998\n",
      "volume        84552500\n",
      "adjclose     24.425356\n",
      "dividends          0.0\n",
      "Rótulos              0\n",
      "Name: 44, dtype: object\n",
      "_\n",
      "symbol        PETR4.SA\n",
      "open         32.919998\n",
      "high         33.150002\n",
      "low              31.33\n",
      "close            31.73\n",
      "volume       125178200\n",
      "adjclose     23.190203\n",
      "dividends          0.0\n",
      "Rótulos              0\n",
      "Name: 45, dtype: object\n",
      "_\n",
      "symbol        PETR4.SA\n",
      "open             31.74\n",
      "high         32.580002\n",
      "low              30.48\n",
      "close            32.41\n",
      "volume        92400300\n",
      "adjclose     23.687187\n",
      "dividends          0.0\n",
      "Rótulos              0\n",
      "Name: 46, dtype: object\n",
      "_\n",
      "symbol        PETR4.SA\n",
      "open         32.630001\n",
      "high              33.5\n",
      "low          32.619999\n",
      "close        33.439999\n",
      "volume        73215800\n",
      "adjclose     24.439974\n",
      "dividends          0.0\n",
      "Rótulos              0\n",
      "Name: 47, dtype: object\n",
      "_\n",
      "symbol        PETR4.SA\n",
      "open         33.540001\n",
      "high         34.119999\n",
      "low              33.25\n",
      "close        33.639999\n",
      "volume        61067900\n",
      "adjclose     24.586147\n",
      "dividends          0.0\n",
      "Rótulos              0\n",
      "Name: 48, dtype: object\n",
      "_\n",
      "symbol        PETR4.SA\n",
      "open         34.099998\n",
      "high         34.360001\n",
      "low          32.669998\n",
      "close        33.279999\n",
      "volume        99511600\n",
      "adjclose     24.323036\n",
      "dividends          0.0\n",
      "Rótulos              0\n",
      "Name: 49, dtype: object\n",
      "_\n",
      "symbol        PETR4.SA\n",
      "open         33.279999\n",
      "high         33.669998\n",
      "low              32.57\n",
      "close        33.639999\n",
      "volume        63545400\n",
      "adjclose     24.586147\n",
      "dividends          0.0\n",
      "Rótulos              0\n",
      "Name: 50, dtype: object\n",
      "_\n",
      "symbol        PETR4.SA\n",
      "open         33.549999\n",
      "high         35.080002\n",
      "low          33.450001\n",
      "close            34.48\n",
      "volume        73339500\n",
      "adjclose     25.200068\n",
      "dividends          0.0\n",
      "Rótulos              0\n",
      "Name: 51, dtype: object\n",
      "_\n",
      "symbol        PETR4.SA\n",
      "open              34.0\n",
      "high         34.220001\n",
      "low              32.27\n",
      "close            32.43\n",
      "volume        99361100\n",
      "adjclose     23.701805\n",
      "dividends          0.0\n",
      "Rótulos              0\n",
      "Name: 52, dtype: object\n",
      "_\n",
      "symbol        PETR4.SA\n",
      "open             32.07\n",
      "high         33.439999\n",
      "low              31.82\n",
      "close            33.23\n",
      "volume       114235400\n",
      "adjclose     24.286493\n",
      "dividends          0.0\n",
      "Rótulos              0\n",
      "Name: 53, dtype: object\n",
      "_\n",
      "symbol        PETR4.SA\n",
      "open         33.360001\n",
      "high         33.950001\n",
      "low          32.759998\n",
      "close        33.849998\n",
      "volume        69184700\n",
      "adjclose     24.739626\n",
      "dividends          0.0\n",
      "Rótulos              0\n",
      "Name: 54, dtype: object\n",
      "_\n",
      "symbol        PETR4.SA\n",
      "open         34.439999\n",
      "high             34.57\n",
      "low          33.259998\n",
      "close        33.419998\n",
      "volume        81792300\n",
      "adjclose     24.425356\n",
      "dividends          0.0\n",
      "Rótulos              0\n",
      "Name: 55, dtype: object\n",
      "_\n",
      "symbol        PETR4.SA\n",
      "open         33.849998\n",
      "high         34.110001\n",
      "low          33.150002\n",
      "close            33.34\n",
      "volume        76337600\n",
      "adjclose      24.36689\n",
      "dividends          0.0\n",
      "Rótulos              0\n",
      "Name: 56, dtype: object\n",
      "_\n",
      "symbol        PETR4.SA\n",
      "open             32.27\n",
      "high             32.59\n",
      "low              31.51\n",
      "close        32.099998\n",
      "volume       111813500\n",
      "adjclose     23.460621\n",
      "dividends          0.0\n",
      "Rótulos              0\n",
      "Name: 57, dtype: object\n",
      "_\n",
      "symbol        PETR4.SA\n",
      "open         32.310001\n",
      "high         32.779999\n",
      "low               31.4\n",
      "close        31.799999\n",
      "volume        63159800\n",
      "adjclose     23.241364\n",
      "dividends          0.0\n",
      "Rótulos              0\n",
      "Name: 58, dtype: object\n",
      "_\n",
      "symbol        PETR4.SA\n",
      "open         32.490002\n",
      "high         32.669998\n",
      "low          31.700001\n",
      "close        31.790001\n",
      "volume        49871900\n",
      "adjclose     23.234055\n",
      "dividends          0.0\n",
      "Rótulos              0\n",
      "Name: 59, dtype: object\n",
      "_\n",
      "symbol        PETR4.SA\n",
      "open         32.150002\n",
      "high             32.73\n",
      "low          31.459999\n",
      "close            31.48\n",
      "volume        71374500\n",
      "adjclose     23.007488\n",
      "dividends          0.0\n",
      "Rótulos              0\n",
      "Name: 60, dtype: object\n",
      "_\n",
      "symbol        PETR4.SA\n",
      "open         30.940001\n",
      "high         31.440001\n",
      "low              30.52\n",
      "close            30.65\n",
      "volume        88327800\n",
      "adjclose     22.400873\n",
      "dividends          0.0\n",
      "Rótulos              0\n",
      "Name: 61, dtype: object\n",
      "_\n",
      "symbol        PETR4.SA\n",
      "open             30.75\n",
      "high             31.43\n",
      "low          30.629999\n",
      "close        31.120001\n",
      "volume        49039700\n",
      "adjclose     22.744379\n",
      "dividends          0.0\n",
      "Rótulos              0\n",
      "Name: 62, dtype: object\n",
      "_\n",
      "symbol        PETR4.SA\n",
      "open             30.92\n",
      "high             31.23\n",
      "low          30.799999\n",
      "close        31.059999\n",
      "volume        45553200\n",
      "adjclose     22.700527\n",
      "dividends          0.0\n",
      "Rótulos              0\n",
      "Name: 63, dtype: object\n",
      "_\n",
      "symbol        PETR4.SA\n",
      "open         30.860001\n",
      "high         30.950001\n",
      "low              30.34\n",
      "close        30.780001\n",
      "volume       107303600\n",
      "adjclose     22.495886\n",
      "dividends          0.0\n",
      "Rótulos              0\n",
      "Name: 64, dtype: object\n",
      "_\n",
      "symbol        PETR4.SA\n",
      "open              30.5\n",
      "high         31.379999\n",
      "low          29.879999\n",
      "close            31.27\n",
      "volume        65559900\n",
      "adjclose     22.854006\n",
      "dividends          0.0\n",
      "Rótulos              0\n",
      "Name: 65, dtype: object\n",
      "_\n",
      "symbol        PETR4.SA\n",
      "open             31.42\n",
      "high              31.6\n",
      "low              30.84\n",
      "close            31.09\n",
      "volume        67798200\n",
      "adjclose     22.722452\n",
      "dividends          0.0\n",
      "Rótulos              0\n",
      "Name: 66, dtype: object\n",
      "_\n",
      "symbol        PETR4.SA\n",
      "open             31.35\n",
      "high         31.469999\n",
      "low          30.889999\n",
      "close            31.17\n",
      "volume        58812200\n",
      "adjclose     22.780922\n",
      "dividends          0.0\n",
      "Rótulos              0\n",
      "Name: 67, dtype: object\n",
      "_\n",
      "symbol        PETR4.SA\n",
      "open             31.48\n",
      "high         32.080002\n",
      "low          31.030001\n",
      "close        31.940001\n",
      "volume        69764300\n",
      "adjclose     23.343685\n",
      "dividends          0.0\n",
      "Rótulos              0\n",
      "Name: 68, dtype: object\n",
      "_\n",
      "symbol        PETR4.SA\n",
      "open             31.32\n",
      "high         31.389999\n",
      "low              29.77\n",
      "close        29.940001\n",
      "volume       138630800\n",
      "adjclose     21.881964\n",
      "dividends          0.0\n",
      "Rótulos              0\n",
      "Name: 69, dtype: object\n",
      "_\n",
      "symbol        PETR4.SA\n",
      "open         29.719999\n",
      "high             30.08\n",
      "low              29.27\n",
      "close        29.290001\n",
      "volume        42934600\n",
      "adjclose     21.406904\n",
      "dividends          0.0\n",
      "Rótulos              0\n",
      "Name: 70, dtype: object\n",
      "_\n",
      "symbol        PETR4.SA\n",
      "open             29.66\n",
      "high         29.879999\n",
      "low              29.58\n",
      "close            29.67\n",
      "volume        71087600\n",
      "adjclose     21.684629\n",
      "dividends          0.0\n",
      "Rótulos              0\n",
      "Name: 71, dtype: object\n",
      "_\n",
      "symbol        PETR4.SA\n",
      "open             29.67\n",
      "high             29.82\n",
      "low              28.58\n",
      "close            29.27\n",
      "volume       104670700\n",
      "adjclose     21.392286\n",
      "dividends          0.0\n",
      "Rótulos              0\n",
      "Name: 72, dtype: object\n",
      "_\n",
      "symbol        PETR4.SA\n",
      "open             28.99\n",
      "high              29.4\n",
      "low               28.6\n",
      "close        29.309999\n",
      "volume        87536500\n",
      "adjclose      21.42152\n",
      "dividends          0.0\n",
      "Rótulos              0\n",
      "Name: 73, dtype: object\n",
      "_\n",
      "symbol        PETR4.SA\n",
      "open         29.219999\n",
      "high             30.49\n",
      "low               29.0\n",
      "close        29.799999\n",
      "volume       121637100\n",
      "adjclose     21.779642\n",
      "dividends          0.0\n",
      "Rótulos              0\n",
      "Name: 74, dtype: object\n",
      "_\n",
      "symbol        PETR4.SA\n",
      "open             31.91\n",
      "high         32.639999\n",
      "low              31.66\n",
      "close            32.18\n",
      "volume       179694100\n",
      "adjclose     23.519093\n",
      "dividends          0.0\n",
      "Rótulos              0\n",
      "Name: 75, dtype: object\n",
      "_\n",
      "symbol        PETR4.SA\n",
      "open         32.900002\n",
      "high             32.98\n",
      "low              31.07\n",
      "close        31.370001\n",
      "volume       115917200\n",
      "adjclose     22.927094\n",
      "dividends          0.0\n",
      "Rótulos              0\n",
      "Name: 76, dtype: object\n",
      "_\n",
      "symbol        PETR4.SA\n",
      "open             31.41\n",
      "high             32.82\n",
      "low          31.200001\n",
      "close        32.549999\n",
      "volume        92893700\n",
      "adjclose     23.789507\n",
      "dividends          0.0\n",
      "Rótulos              0\n",
      "Name: 77, dtype: object\n",
      "_\n",
      "symbol        PETR4.SA\n",
      "open              33.0\n",
      "high         33.790001\n",
      "low          32.439999\n",
      "close            33.66\n",
      "volume        82671900\n",
      "adjclose     24.600763\n",
      "dividends          0.0\n",
      "Rótulos              0\n",
      "Name: 78, dtype: object\n",
      "_\n",
      "symbol        PETR4.SA\n",
      "open         33.580002\n",
      "high             34.32\n",
      "low          33.220001\n",
      "close        33.630001\n",
      "volume        73500100\n",
      "adjclose      24.57884\n",
      "dividends          0.0\n",
      "Rótulos              0\n",
      "Name: 79, dtype: object\n",
      "_\n",
      "symbol        PETR4.SA\n",
      "open         33.650002\n",
      "high         33.889999\n",
      "low               33.0\n",
      "close            33.25\n",
      "volume        52222600\n",
      "adjclose     24.301111\n",
      "dividends          0.0\n",
      "Rótulos              0\n",
      "Name: 80, dtype: object\n",
      "_\n",
      "symbol        PETR4.SA\n",
      "open         32.889999\n",
      "high         33.330002\n",
      "low          32.610001\n",
      "close             33.0\n",
      "volume        58332400\n",
      "adjclose     24.118397\n",
      "dividends          0.0\n",
      "Rótulos              0\n",
      "Name: 81, dtype: object\n",
      "_\n",
      "symbol        PETR4.SA\n",
      "open              32.5\n",
      "high         34.490002\n",
      "low              32.41\n",
      "close        33.939999\n",
      "volume        91143900\n",
      "adjclose     24.805405\n",
      "dividends          0.0\n",
      "Rótulos              0\n",
      "Name: 82, dtype: object\n",
      "_\n",
      "symbol        PETR4.SA\n",
      "open         33.970001\n",
      "high         34.139999\n",
      "low          33.299999\n",
      "close        33.419998\n",
      "volume        62246100\n",
      "adjclose     24.425356\n",
      "dividends          0.0\n",
      "Rótulos              0\n",
      "Name: 83, dtype: object\n",
      "_\n",
      "symbol        PETR4.SA\n",
      "open         33.240002\n",
      "high         34.150002\n",
      "low              32.84\n",
      "close        33.389999\n",
      "volume       100936400\n",
      "adjclose     24.403431\n",
      "dividends          0.0\n",
      "Rótulos              0\n",
      "Name: 84, dtype: object\n",
      "_\n",
      "symbol        PETR4.SA\n",
      "open         33.900002\n",
      "high             34.23\n",
      "low              33.16\n",
      "close        34.209999\n",
      "volume        82313200\n",
      "adjclose     25.002737\n",
      "dividends          0.0\n",
      "Rótulos              0\n",
      "Name: 85, dtype: object\n",
      "_\n",
      "symbol        PETR4.SA\n",
      "open         34.130001\n",
      "high         35.560001\n",
      "low              34.02\n",
      "close        35.419998\n",
      "volume       113700900\n",
      "adjclose     25.887075\n",
      "dividends          0.0\n",
      "Rótulos              0\n",
      "Name: 86, dtype: object\n",
      "_\n",
      "symbol        PETR4.SA\n",
      "open         36.099998\n",
      "high         36.549999\n",
      "low              35.77\n",
      "close        36.470001\n",
      "volume       114347400\n",
      "adjclose     26.654482\n",
      "dividends          0.0\n",
      "Rótulos              0\n",
      "Name: 87, dtype: object\n",
      "_\n",
      "symbol        PETR4.SA\n",
      "open         36.450001\n",
      "high         38.389999\n",
      "low          36.389999\n",
      "close        37.720001\n",
      "volume       139601400\n",
      "adjclose     27.568058\n",
      "dividends          0.0\n",
      "Rótulos              0\n",
      "Name: 88, dtype: object\n",
      "_\n",
      "symbol        PETR4.SA\n",
      "open              36.5\n",
      "high             36.82\n",
      "low              34.23\n",
      "close            34.25\n",
      "volume       142110900\n",
      "adjclose     25.031971\n",
      "dividends          0.0\n",
      "Rótulos              0\n",
      "Name: 89, dtype: object\n",
      "_\n",
      "symbol        PETR4.SA\n",
      "open         34.040001\n",
      "high              34.5\n",
      "low          33.209999\n",
      "close        33.529999\n",
      "volume       113161200\n",
      "adjclose     24.505751\n",
      "dividends          0.0\n",
      "Rótulos              0\n",
      "Name: 90, dtype: object\n",
      "_\n",
      "symbol        PETR4.SA\n",
      "open         32.599998\n",
      "high         33.529999\n",
      "low               31.9\n",
      "close        32.709999\n",
      "volume       121334800\n",
      "adjclose     23.906445\n",
      "dividends          0.0\n",
      "Rótulos              0\n",
      "Name: 91, dtype: object\n",
      "_\n",
      "symbol        PETR4.SA\n",
      "open         32.810001\n",
      "high         33.540001\n",
      "low          32.669998\n",
      "close        32.959999\n",
      "volume       111008800\n",
      "adjclose     24.089161\n",
      "dividends          0.0\n",
      "Rótulos              0\n",
      "Name: 92, dtype: object\n",
      "_\n",
      "symbol        PETR4.SA\n",
      "open         32.700001\n",
      "high         33.119999\n",
      "low          31.860001\n",
      "close            32.57\n",
      "volume       129745400\n",
      "adjclose     23.804125\n",
      "dividends          0.0\n",
      "Rótulos              0\n",
      "Name: 93, dtype: object\n",
      "_\n",
      "symbol        PETR4.SA\n",
      "open         30.610001\n",
      "high              31.6\n",
      "low              29.16\n",
      "close        29.809999\n",
      "volume       262409400\n",
      "adjclose     21.786949\n",
      "dividends          0.0\n",
      "Rótulos              0\n",
      "Name: 94, dtype: object\n",
      "_\n",
      "symbol        PETR4.SA\n",
      "open             30.57\n",
      "high             30.67\n",
      "low          29.559999\n",
      "close        29.860001\n",
      "volume       115944200\n",
      "adjclose     21.823496\n",
      "dividends          0.0\n",
      "Rótulos              0\n",
      "Name: 95, dtype: object\n",
      "_\n",
      "symbol        PETR4.SA\n",
      "open         29.799999\n",
      "high         30.389999\n",
      "low          29.440001\n",
      "close        29.950001\n",
      "volume       139062100\n",
      "adjclose     21.889271\n",
      "dividends          0.0\n",
      "Rótulos              0\n",
      "Name: 96, dtype: object\n",
      "_\n",
      "symbol        PETR4.SA\n",
      "open         30.799999\n",
      "high              30.9\n",
      "low              28.18\n",
      "close        28.299999\n",
      "volume       195361000\n",
      "adjclose     20.683352\n",
      "dividends          0.0\n",
      "Rótulos              0\n",
      "Name: 97, dtype: object\n",
      "_\n",
      "symbol        PETR4.SA\n",
      "open         27.959999\n",
      "high         28.299999\n",
      "low              27.07\n",
      "close            27.15\n",
      "volume       117206600\n",
      "adjclose     19.842863\n",
      "dividends          0.0\n",
      "Rótulos              0\n",
      "Name: 98, dtype: object\n",
      "_\n",
      "symbol        PETR4.SA\n",
      "open         27.059999\n",
      "high         27.530001\n",
      "low              26.75\n",
      "close            27.35\n",
      "volume        94745400\n",
      "adjclose     19.989035\n",
      "dividends          0.0\n",
      "Rótulos              0\n",
      "Name: 99, dtype: object\n",
      "_\n",
      "symbol        PETR4.SA\n",
      "open             27.15\n",
      "high         27.950001\n",
      "low          26.639999\n",
      "close             26.9\n",
      "volume       103303500\n",
      "adjclose     19.660145\n",
      "dividends          0.0\n",
      "Rótulos              0\n",
      "Name: 100, dtype: object\n",
      "_\n",
      "symbol        PETR4.SA\n",
      "open             26.08\n",
      "high         26.889999\n",
      "low          25.610001\n",
      "close        26.120001\n",
      "volume       145470100\n",
      "adjclose     19.090076\n",
      "dividends          0.0\n",
      "Rótulos              0\n",
      "Name: 101, dtype: object\n",
      "_\n",
      "symbol        PETR4.SA\n",
      "open         25.799999\n",
      "high         27.360001\n",
      "low          25.700001\n",
      "close            26.99\n",
      "volume       146365800\n",
      "adjclose     19.725925\n",
      "dividends          0.0\n",
      "Rótulos              0\n",
      "Name: 102, dtype: object\n",
      "_\n",
      "symbol        PETR4.SA\n",
      "open             27.26\n",
      "high             28.18\n",
      "low              27.09\n",
      "close        27.700001\n",
      "volume        66639500\n",
      "adjclose     20.244837\n",
      "dividends          0.0\n",
      "Rótulos              0\n",
      "Name: 103, dtype: object\n",
      "_\n",
      "symbol        PETR4.SA\n",
      "open         27.809999\n",
      "high         28.110001\n",
      "low              26.93\n",
      "close            27.15\n",
      "volume        85549900\n",
      "adjclose     19.842863\n",
      "dividends          0.0\n",
      "Rótulos              0\n",
      "Name: 104, dtype: object\n",
      "_\n",
      "symbol        PETR4.SA\n",
      "open              27.0\n",
      "high         27.299999\n",
      "low          26.549999\n",
      "close            27.16\n",
      "volume       101525800\n",
      "adjclose      19.85017\n",
      "dividends          0.0\n",
      "Rótulos              0\n",
      "Name: 105, dtype: object\n",
      "_\n",
      "symbol        PETR4.SA\n",
      "open              27.4\n",
      "high              27.6\n",
      "low          26.219999\n",
      "close        26.700001\n",
      "volume       127683500\n",
      "adjclose     19.513975\n",
      "dividends          0.0\n",
      "Rótulos              0\n",
      "Name: 106, dtype: object\n",
      "_\n",
      "symbol        PETR4.SA\n",
      "open         27.120001\n",
      "high             27.57\n",
      "low          26.049999\n",
      "close        26.780001\n",
      "volume       164898100\n",
      "adjclose     19.572443\n",
      "dividends          0.0\n",
      "Rótulos              0\n",
      "Name: 107, dtype: object\n",
      "_\n",
      "symbol        PETR4.SA\n",
      "open              23.0\n",
      "high             23.43\n",
      "low          22.299999\n",
      "close            23.33\n",
      "volume       164261300\n",
      "adjclose     19.487993\n",
      "dividends       3.3489\n",
      "Rótulos              0\n",
      "Name: 108, dtype: object\n",
      "_\n",
      "symbol        PETR4.SA\n",
      "open              23.0\n",
      "high             23.65\n",
      "low          22.799999\n",
      "close        23.440001\n",
      "volume        77317300\n",
      "adjclose      19.57988\n",
      "dividends          0.0\n",
      "Rótulos              0\n",
      "Name: 109, dtype: object\n",
      "_\n",
      "symbol        PETR4.SA\n",
      "open             23.52\n",
      "high         24.629999\n",
      "low              23.25\n",
      "close            24.25\n",
      "volume        94233800\n",
      "adjclose     20.256485\n",
      "dividends          0.0\n",
      "Rótulos              0\n",
      "Name: 110, dtype: object\n",
      "_\n",
      "symbol        PETR4.SA\n",
      "open             24.26\n",
      "high             24.33\n",
      "low               23.6\n",
      "close        23.860001\n",
      "volume        58635900\n",
      "adjclose     19.930712\n",
      "dividends          0.0\n",
      "Rótulos              0\n",
      "Name: 111, dtype: object\n",
      "_\n",
      "symbol        PETR4.SA\n",
      "open             23.65\n",
      "high         24.549999\n",
      "low          23.540001\n",
      "close        24.360001\n",
      "volume        56067400\n",
      "adjclose     20.348372\n",
      "dividends          0.0\n",
      "Rótulos              0\n",
      "Name: 112, dtype: object\n",
      "_\n",
      "symbol        PETR4.SA\n",
      "open              24.6\n",
      "high         25.879999\n",
      "low              24.48\n",
      "close        25.379999\n",
      "volume        96151500\n",
      "adjclose     21.200396\n",
      "dividends          0.0\n",
      "Rótulos              0\n",
      "Name: 113, dtype: object\n",
      "_\n",
      "symbol        PETR4.SA\n",
      "open              25.6\n",
      "high             26.66\n",
      "low               25.5\n",
      "close            26.66\n",
      "volume       120774700\n",
      "adjclose     22.269606\n",
      "dividends          0.0\n",
      "Rótulos              0\n",
      "Name: 114, dtype: object\n",
      "_\n",
      "symbol        PETR4.SA\n",
      "open             26.58\n",
      "high         26.790001\n",
      "low          25.559999\n",
      "close            25.59\n",
      "volume        71259400\n",
      "adjclose     21.375814\n",
      "dividends          0.0\n",
      "Rótulos              0\n",
      "Name: 115, dtype: object\n",
      "_\n",
      "symbol        PETR4.SA\n",
      "open         25.690001\n",
      "high         26.450001\n",
      "low          25.309999\n",
      "close            25.91\n",
      "volume        66301000\n",
      "adjclose     21.643116\n",
      "dividends          0.0\n",
      "Rótulos              0\n",
      "Name: 116, dtype: object\n",
      "_\n",
      "symbol        PETR4.SA\n",
      "open              26.0\n",
      "high             26.58\n",
      "low          25.549999\n",
      "close        25.620001\n",
      "volume        56065400\n",
      "adjclose     21.400873\n",
      "dividends          0.0\n",
      "Rótulos              0\n",
      "Name: 117, dtype: object\n",
      "_\n",
      "symbol        PETR4.SA\n",
      "open             25.82\n",
      "high         26.389999\n",
      "low              25.42\n",
      "close        25.639999\n",
      "volume        74991200\n",
      "adjclose      21.41758\n",
      "dividends          0.0\n",
      "Rótulos              0\n",
      "Name: 118, dtype: object\n",
      "_\n",
      "symbol        PETR4.SA\n",
      "open             25.34\n",
      "high             26.07\n",
      "low              25.27\n",
      "close            25.35\n",
      "volume        57008400\n",
      "adjclose     21.175337\n",
      "dividends          0.0\n",
      "Rótulos              0\n",
      "Name: 119, dtype: object\n",
      "_\n",
      "symbol        PETR4.SA\n",
      "open         25.549999\n",
      "high         25.790001\n",
      "low          24.639999\n",
      "close        24.780001\n",
      "volume        55567700\n",
      "adjclose     20.699205\n",
      "dividends          0.0\n",
      "Rótulos              0\n",
      "Name: 120, dtype: object\n",
      "_\n",
      "symbol        PETR4.SA\n",
      "open             24.99\n",
      "high         25.049999\n",
      "low              24.49\n",
      "close        24.709999\n",
      "volume        61586200\n",
      "adjclose     20.640732\n",
      "dividends          0.0\n",
      "Rótulos              0\n",
      "Name: 121, dtype: object\n",
      "_\n",
      "symbol        PETR4.SA\n",
      "open             24.58\n",
      "high             24.66\n",
      "low          23.129999\n",
      "close            23.91\n",
      "volume       111293100\n",
      "adjclose     19.972477\n",
      "dividends          0.0\n",
      "Rótulos              0\n",
      "Name: 122, dtype: object\n",
      "_\n",
      "symbol        PETR4.SA\n",
      "open              24.1\n",
      "high         24.200001\n",
      "low          23.309999\n",
      "close            23.32\n",
      "volume       102533100\n",
      "adjclose     19.479639\n",
      "dividends          0.0\n",
      "Rótulos              0\n",
      "Name: 123, dtype: object\n",
      "_\n",
      "symbol        PETR4.SA\n",
      "open              22.5\n",
      "high              22.6\n",
      "low              20.77\n",
      "close        21.469999\n",
      "volume       319501600\n",
      "adjclose     17.934298\n",
      "dividends          0.0\n",
      "Rótulos              0\n",
      "Name: 124, dtype: object\n",
      "_\n",
      "symbol        PETR4.SA\n",
      "open              21.0\n",
      "high         22.370001\n",
      "low              20.83\n",
      "close        22.040001\n",
      "volume       132385600\n",
      "adjclose     18.410431\n",
      "dividends          0.0\n",
      "Rótulos              0\n",
      "Name: 125, dtype: object\n",
      "_\n",
      "symbol        PETR4.SA\n",
      "open         21.959999\n",
      "high         22.110001\n",
      "low              21.51\n",
      "close        22.049999\n",
      "volume        90767300\n",
      "adjclose     18.418783\n",
      "dividends          0.0\n",
      "Rótulos              0\n",
      "Name: 126, dtype: object\n",
      "_\n",
      "symbol        PETR4.SA\n",
      "open              22.1\n",
      "high             22.51\n",
      "low          21.639999\n",
      "close        22.379999\n",
      "volume        63074100\n",
      "adjclose     18.694439\n",
      "dividends          0.0\n",
      "Rótulos              0\n",
      "Name: 127, dtype: object\n",
      "_\n",
      "symbol        PETR4.SA\n",
      "open         22.389999\n",
      "high             23.24\n",
      "low          22.209999\n",
      "close            23.07\n",
      "volume        71875500\n",
      "adjclose     19.270809\n",
      "dividends          0.0\n",
      "Rótulos              0\n",
      "Name: 128, dtype: object\n",
      "_\n",
      "symbol        PETR4.SA\n",
      "open              23.5\n",
      "high         23.719999\n",
      "low              22.85\n",
      "close            23.57\n",
      "volume        74252800\n",
      "adjclose     19.688469\n",
      "dividends          0.0\n",
      "Rótulos              0\n",
      "Name: 129, dtype: object\n",
      "_\n",
      "symbol        PETR4.SA\n",
      "open              23.9\n",
      "high         24.559999\n",
      "low          23.700001\n",
      "close            23.99\n",
      "volume        81894800\n",
      "adjclose     20.039303\n",
      "dividends          0.0\n",
      "Rótulos              0\n",
      "Name: 130, dtype: object\n",
      "_\n",
      "symbol        PETR4.SA\n",
      "open         24.129999\n",
      "high         25.219999\n",
      "low          24.129999\n",
      "close        25.120001\n",
      "volume        68387900\n",
      "adjclose     20.983215\n",
      "dividends          0.0\n",
      "Rótulos              0\n",
      "Name: 131, dtype: object\n",
      "_\n",
      "symbol        PETR4.SA\n",
      "open         25.120001\n",
      "high         25.299999\n",
      "low              24.82\n",
      "close        24.940001\n",
      "volume        28765200\n",
      "adjclose     20.832857\n",
      "dividends          0.0\n",
      "Rótulos              0\n",
      "Name: 132, dtype: object\n",
      "_\n",
      "symbol        PETR4.SA\n",
      "open             25.25\n",
      "high         25.309999\n",
      "low          24.549999\n",
      "close        25.110001\n",
      "volume        50803200\n",
      "adjclose     20.974861\n",
      "dividends          0.0\n",
      "Rótulos              0\n",
      "Name: 133, dtype: object\n",
      "_\n",
      "symbol        PETR4.SA\n",
      "open              25.1\n",
      "high             25.32\n",
      "low              24.75\n",
      "close        24.799999\n",
      "volume        57293500\n",
      "adjclose     20.715912\n",
      "dividends          0.0\n",
      "Rótulos              0\n",
      "Name: 134, dtype: object\n",
      "_\n",
      "symbol        PETR4.SA\n",
      "open             24.99\n",
      "high         25.049999\n",
      "low              24.43\n",
      "close             24.5\n",
      "volume        57901800\n",
      "adjclose     20.465317\n",
      "dividends          0.0\n",
      "Rótulos              0\n",
      "Name: 135, dtype: object\n",
      "_\n",
      "symbol        PETR4.SA\n",
      "open         23.540001\n",
      "high         23.809999\n",
      "low          22.799999\n",
      "close            22.92\n",
      "volume        78424700\n",
      "adjclose     19.145512\n",
      "dividends          0.0\n",
      "Rótulos              0\n",
      "Name: 136, dtype: object\n",
      "_\n",
      "symbol        PETR4.SA\n",
      "open         22.940001\n",
      "high              23.1\n",
      "low          22.129999\n",
      "close            22.34\n",
      "volume        96750300\n",
      "adjclose     18.661028\n",
      "dividends          0.0\n",
      "Rótulos              0\n",
      "Name: 137, dtype: object\n",
      "_\n",
      "symbol        PETR4.SA\n",
      "open         21.959999\n",
      "high             23.59\n",
      "low              21.83\n",
      "close        23.049999\n",
      "volume       129504000\n",
      "adjclose     19.254103\n",
      "dividends          0.0\n",
      "Rótulos              0\n",
      "Name: 138, dtype: object\n",
      "_\n",
      "symbol        PETR4.SA\n",
      "open             23.34\n",
      "high         24.040001\n",
      "low              23.15\n",
      "close        23.879999\n",
      "volume        73886000\n",
      "adjclose     19.947418\n",
      "dividends          0.0\n",
      "Rótulos              0\n",
      "Name: 139, dtype: object\n",
      "_\n",
      "symbol        PETR4.SA\n",
      "open         23.940001\n",
      "high             24.32\n",
      "low          23.549999\n",
      "close            23.74\n",
      "volume        51851500\n",
      "adjclose     19.830473\n",
      "dividends          0.0\n",
      "Rótulos              0\n",
      "Name: 140, dtype: object\n",
      "_\n",
      "symbol        PETR4.SA\n",
      "open              23.5\n",
      "high              24.0\n",
      "low              23.25\n",
      "close        23.870001\n",
      "volume        46385200\n",
      "adjclose     19.939066\n",
      "dividends          0.0\n",
      "Rótulos              0\n",
      "Name: 141, dtype: object\n",
      "_\n",
      "symbol        PETR4.SA\n",
      "open         23.950001\n",
      "high         24.110001\n",
      "low          23.370001\n",
      "close            24.09\n",
      "volume        52741100\n",
      "adjclose     20.122835\n",
      "dividends          0.0\n",
      "Rótulos              0\n",
      "Name: 142, dtype: object\n",
      "_\n",
      "symbol        PETR4.SA\n",
      "open             24.15\n",
      "high         24.620001\n",
      "low          24.049999\n",
      "close        24.280001\n",
      "volume        53536500\n",
      "adjclose     20.281548\n",
      "dividends          0.0\n",
      "Rótulos              0\n",
      "Name: 143, dtype: object\n",
      "_\n",
      "symbol        PETR4.SA\n",
      "open         24.290001\n",
      "high             24.65\n",
      "low          24.110001\n",
      "close        24.629999\n",
      "volume        58130000\n",
      "adjclose     20.573908\n",
      "dividends          0.0\n",
      "Rótulos              0\n",
      "Name: 144, dtype: object\n",
      "_\n",
      "symbol        PETR4.SA\n",
      "open         24.440001\n",
      "high             24.66\n",
      "low              24.25\n",
      "close            24.57\n",
      "volume        40002700\n",
      "adjclose     20.523788\n",
      "dividends          0.0\n",
      "Rótulos              0\n",
      "Name: 145, dtype: object\n",
      "_\n",
      "symbol        PETR4.SA\n",
      "open             24.41\n",
      "high              24.5\n",
      "low              23.83\n",
      "close        24.040001\n",
      "volume        31973700\n",
      "adjclose      20.08107\n",
      "dividends          0.0\n",
      "Rótulos              0\n",
      "Name: 146, dtype: object\n",
      "_\n",
      "symbol        PETR4.SA\n",
      "open         24.110001\n",
      "high         25.620001\n",
      "low          24.110001\n",
      "close            25.52\n",
      "volume        91797500\n",
      "adjclose     21.317343\n",
      "dividends          0.0\n",
      "Rótulos              0\n",
      "Name: 147, dtype: object\n",
      "_\n",
      "symbol        PETR4.SA\n",
      "open             25.84\n",
      "high         26.030001\n",
      "low               25.0\n",
      "close            25.07\n",
      "volume        69692900\n",
      "adjclose     20.941448\n",
      "dividends          0.0\n",
      "Rótulos              0\n",
      "Name: 148, dtype: object\n",
      "_\n",
      "symbol        PETR4.SA\n",
      "open              25.0\n",
      "high         25.950001\n",
      "low          24.790001\n",
      "close        25.889999\n",
      "volume        75553300\n",
      "adjclose     21.626408\n",
      "dividends          0.0\n",
      "Rótulos              0\n",
      "Name: 149, dtype: object\n",
      "_\n",
      "symbol        PETR4.SA\n",
      "open         25.889999\n",
      "high              26.6\n",
      "low              25.42\n",
      "close        26.370001\n",
      "volume       114219500\n",
      "adjclose     22.027363\n",
      "dividends          0.0\n",
      "Rótulos              0\n",
      "Name: 150, dtype: object\n",
      "_\n",
      "symbol        PETR4.SA\n",
      "open             26.27\n",
      "high              27.6\n",
      "low          26.129999\n",
      "close        26.790001\n",
      "volume        87678100\n",
      "adjclose     22.378197\n",
      "dividends          0.0\n",
      "Rótulos              0\n",
      "Name: 151, dtype: object\n",
      "_\n",
      "symbol        PETR4.SA\n",
      "open         27.469999\n",
      "high         27.530001\n",
      "low          26.370001\n",
      "close             26.6\n",
      "volume        65794000\n",
      "adjclose     22.219486\n",
      "dividends          0.0\n",
      "Rótulos              0\n",
      "Name: 152, dtype: object\n",
      "_\n",
      "symbol        PETR4.SA\n",
      "open         26.549999\n",
      "high             27.08\n",
      "low              26.01\n",
      "close        26.940001\n",
      "volume        51832900\n",
      "adjclose     22.503494\n",
      "dividends          0.0\n",
      "Rótulos              0\n",
      "Name: 153, dtype: object\n",
      "_\n",
      "symbol        PETR4.SA\n",
      "open             27.09\n",
      "high         27.200001\n",
      "low          25.799999\n",
      "close            26.25\n",
      "volume        73344800\n",
      "adjclose     21.927124\n",
      "dividends          0.0\n",
      "Rótulos              0\n",
      "Name: 154, dtype: object\n",
      "_\n",
      "symbol        PETR4.SA\n",
      "open             26.18\n",
      "high             26.23\n",
      "low          25.440001\n",
      "close        25.620001\n",
      "volume        47681900\n",
      "adjclose     21.400873\n",
      "dividends          0.0\n",
      "Rótulos              0\n",
      "Name: 155, dtype: object\n",
      "_\n",
      "symbol        PETR4.SA\n",
      "open             25.85\n",
      "high             26.07\n",
      "low              25.51\n",
      "close            25.75\n",
      "volume        40683200\n",
      "adjclose     21.509464\n",
      "dividends          0.0\n",
      "Rótulos              0\n",
      "Name: 156, dtype: object\n",
      "_\n",
      "symbol        PETR4.SA\n",
      "open         25.629999\n",
      "high         26.209999\n",
      "low              25.52\n",
      "close            26.07\n",
      "volume        54048900\n",
      "adjclose     21.776766\n",
      "dividends          0.0\n",
      "Rótulos              0\n",
      "Name: 157, dtype: object\n",
      "_\n",
      "symbol        PETR4.SA\n",
      "open             26.07\n",
      "high             26.48\n",
      "low          25.450001\n",
      "close        25.709999\n",
      "volume        56349200\n",
      "adjclose     21.476051\n",
      "dividends          0.0\n",
      "Rótulos              0\n",
      "Name: 158, dtype: object\n",
      "_\n",
      "symbol        PETR4.SA\n",
      "open             25.51\n",
      "high         25.809999\n",
      "low              24.42\n",
      "close            24.52\n",
      "volume        83823000\n",
      "adjclose     20.482023\n",
      "dividends          0.0\n",
      "Rótulos              0\n",
      "Name: 159, dtype: object\n",
      "_\n",
      "symbol        PETR4.SA\n",
      "open         24.540001\n",
      "high         25.379999\n",
      "low              24.42\n",
      "close        24.790001\n",
      "volume        71170700\n",
      "adjclose      20.70756\n",
      "dividends          0.0\n",
      "Rótulos              0\n",
      "Name: 160, dtype: object\n",
      "_\n",
      "symbol        PETR4.SA\n",
      "open         24.870001\n",
      "high         25.870001\n",
      "low              24.75\n",
      "close        25.780001\n",
      "volume        82794500\n",
      "adjclose     21.534525\n",
      "dividends          0.0\n",
      "Rótulos              0\n",
      "Name: 161, dtype: object\n",
      "_\n",
      "symbol        PETR4.SA\n",
      "open             25.91\n",
      "high         26.139999\n",
      "low          25.459999\n",
      "close        25.620001\n",
      "volume        55311800\n",
      "adjclose     21.400873\n",
      "dividends          0.0\n",
      "Rótulos              0\n",
      "Name: 162, dtype: object\n",
      "_\n",
      "symbol        PETR4.SA\n",
      "open         25.799999\n",
      "high             26.15\n",
      "low          25.559999\n",
      "close        26.049999\n",
      "volume        48713100\n",
      "adjclose     21.760061\n",
      "dividends          0.0\n",
      "Rótulos              0\n",
      "Name: 163, dtype: object\n",
      "_\n",
      "symbol        PETR4.SA\n",
      "open         26.049999\n",
      "high             26.32\n",
      "low          25.790001\n",
      "close            25.93\n",
      "volume        38198300\n",
      "adjclose     21.659822\n",
      "dividends          0.0\n",
      "Rótulos              0\n",
      "Name: 164, dtype: object\n",
      "_\n",
      "symbol        PETR4.SA\n",
      "open             25.98\n",
      "high         26.790001\n",
      "low              25.93\n",
      "close        26.719999\n",
      "volume        54683100\n",
      "adjclose     22.319723\n",
      "dividends          0.0\n",
      "Rótulos              0\n",
      "Name: 165, dtype: object\n",
      "_\n",
      "symbol        PETR4.SA\n",
      "open         26.690001\n",
      "high         26.889999\n",
      "low          26.370001\n",
      "close        26.799999\n",
      "volume        36726900\n",
      "adjclose     22.386549\n",
      "dividends          0.0\n",
      "Rótulos              0\n",
      "Name: 166, dtype: object\n",
      "_\n",
      "symbol        PETR4.SA\n",
      "open             26.85\n",
      "high         27.059999\n",
      "low               26.6\n",
      "close        26.700001\n",
      "volume        35839000\n",
      "adjclose     22.303019\n",
      "dividends          0.0\n",
      "Rótulos              0\n",
      "Name: 167, dtype: object\n",
      "_\n",
      "symbol        PETR4.SA\n",
      "open             26.58\n",
      "high         26.799999\n",
      "low          26.299999\n",
      "close            26.74\n",
      "volume        72554100\n",
      "adjclose      22.33643\n",
      "dividends          0.0\n",
      "Rótulos              0\n",
      "Name: 168, dtype: object\n",
      "_\n",
      "symbol        PETR4.SA\n",
      "open              26.6\n",
      "high         26.950001\n",
      "low              26.49\n",
      "close            26.85\n",
      "volume        44115700\n",
      "adjclose     22.428316\n",
      "dividends          0.0\n",
      "Rótulos              0\n",
      "Name: 169, dtype: object\n",
      "_\n",
      "symbol        PETR4.SA\n",
      "open             26.67\n",
      "high             26.67\n",
      "low          26.370001\n",
      "close        26.440001\n",
      "volume        61085700\n",
      "adjclose     22.085836\n",
      "dividends          0.0\n",
      "Rótulos              0\n",
      "Name: 170, dtype: object\n",
      "_\n",
      "symbol        PETR4.SA\n",
      "open              26.0\n",
      "high         26.110001\n",
      "low          25.690001\n",
      "close            25.76\n",
      "volume        38608500\n",
      "adjclose     21.517818\n",
      "dividends          0.0\n",
      "Rótulos              0\n",
      "Name: 171, dtype: object\n",
      "_\n",
      "symbol        PETR4.SA\n",
      "open             25.77\n",
      "high         26.790001\n",
      "low              25.77\n",
      "close        26.549999\n",
      "volume        73913400\n",
      "adjclose     22.177719\n",
      "dividends          0.0\n",
      "Rótulos              0\n",
      "Name: 172, dtype: object\n",
      "_\n",
      "symbol        PETR4.SA\n",
      "open             26.67\n",
      "high         26.700001\n",
      "low          25.870001\n",
      "close             25.9\n",
      "volume        64409100\n",
      "adjclose     21.634762\n",
      "dividends          0.0\n",
      "Rótulos              0\n",
      "Name: 173, dtype: object\n",
      "_\n",
      "symbol        PETR4.SA\n",
      "open             25.84\n",
      "high             26.74\n",
      "low          25.809999\n",
      "close            26.15\n",
      "volume        76250600\n",
      "adjclose     21.843592\n",
      "dividends          0.0\n",
      "Rótulos              0\n",
      "Name: 174, dtype: object\n",
      "_\n",
      "symbol        PETR4.SA\n",
      "open         26.209999\n",
      "high             26.92\n",
      "low              25.24\n",
      "close            25.24\n",
      "volume       130248100\n",
      "adjclose     21.083452\n",
      "dividends          0.0\n",
      "Rótulos              0\n",
      "Name: 175, dtype: object\n",
      "_\n",
      "symbol        PETR4.SA\n",
      "open         25.309999\n",
      "high             25.43\n",
      "low          24.190001\n",
      "close        25.299999\n",
      "volume       109257700\n",
      "adjclose     21.133572\n",
      "dividends          0.0\n",
      "Rótulos              0\n",
      "Name: 176, dtype: object\n",
      "_\n",
      "symbol        PETR4.SA\n",
      "open             25.42\n",
      "high             25.67\n",
      "low          24.370001\n",
      "close        24.639999\n",
      "volume       124516200\n",
      "adjclose      20.58226\n",
      "dividends          0.0\n",
      "Rótulos              0\n",
      "Name: 177, dtype: object\n",
      "_\n",
      "symbol        PETR4.SA\n",
      "open             24.83\n",
      "high             25.74\n",
      "low          24.450001\n",
      "close        25.700001\n",
      "volume        87591800\n",
      "adjclose     21.467701\n",
      "dividends          0.0\n",
      "Rótulos              0\n",
      "Name: 178, dtype: object\n",
      "_\n",
      "symbol        PETR4.SA\n",
      "open         25.700001\n",
      "high         26.120001\n",
      "low          25.370001\n",
      "close        25.959999\n",
      "volume        50227400\n",
      "adjclose     21.684881\n",
      "dividends          0.0\n",
      "Rótulos              0\n",
      "Name: 179, dtype: object\n",
      "_\n",
      "symbol        PETR4.SA\n",
      "open         25.719999\n",
      "high         25.780001\n",
      "low              24.93\n",
      "close             25.1\n",
      "volume        59052500\n",
      "adjclose     20.966507\n",
      "dividends          0.0\n",
      "Rótulos              0\n",
      "Name: 180, dtype: object\n",
      "_\n",
      "symbol        PETR4.SA\n",
      "open             25.15\n",
      "high             25.92\n",
      "low          25.129999\n",
      "close            25.42\n",
      "volume        66220400\n",
      "adjclose      21.23381\n",
      "dividends          0.0\n",
      "Rótulos              0\n",
      "Name: 181, dtype: object\n",
      "_\n",
      "symbol        PETR4.SA\n",
      "open             25.35\n",
      "high             26.23\n",
      "low          25.280001\n",
      "close        25.309999\n",
      "volume        68042300\n",
      "adjclose     21.141924\n",
      "dividends          0.0\n",
      "Rótulos              0\n",
      "Name: 182, dtype: object\n",
      "_\n",
      "symbol        PETR4.SA\n",
      "open             25.16\n",
      "high             25.58\n",
      "low          24.940001\n",
      "close            24.98\n",
      "volume        48118600\n",
      "adjclose     20.866268\n",
      "dividends          0.0\n",
      "Rótulos              0\n",
      "Name: 183, dtype: object\n",
      "_\n",
      "symbol        PETR4.SA\n",
      "open         24.549999\n",
      "high         24.860001\n",
      "low               24.1\n",
      "close        24.190001\n",
      "volume        58605500\n",
      "adjclose     20.206367\n",
      "dividends          0.0\n",
      "Rótulos              0\n",
      "Name: 184, dtype: object\n",
      "_\n",
      "symbol        PETR4.SA\n",
      "open         24.280001\n",
      "high             24.73\n",
      "low               23.6\n",
      "close            23.76\n",
      "volume        58916700\n",
      "adjclose     19.847179\n",
      "dividends          0.0\n",
      "Rótulos              0\n",
      "Name: 185, dtype: object\n",
      "_\n",
      "symbol        PETR4.SA\n",
      "open             23.33\n",
      "high             23.48\n",
      "low          22.799999\n",
      "close            23.34\n",
      "volume        93708800\n",
      "adjclose     19.496346\n",
      "dividends          0.0\n",
      "Rótulos              0\n",
      "Name: 186, dtype: object\n",
      "_\n",
      "symbol        PETR4.SA\n",
      "open              23.4\n",
      "high             23.52\n",
      "low          22.969999\n",
      "close            23.26\n",
      "volume        66821000\n",
      "adjclose     19.429522\n",
      "dividends          0.0\n",
      "Rótulos              0\n",
      "Name: 187, dtype: object\n",
      "_\n",
      "symbol        PETR4.SA\n",
      "open              23.1\n",
      "high             23.51\n",
      "low          22.860001\n",
      "close            23.51\n",
      "volume        93502700\n",
      "adjclose      19.63835\n",
      "dividends          0.0\n",
      "Rótulos              0\n",
      "Name: 188, dtype: object\n",
      "_\n",
      "symbol        PETR4.SA\n",
      "open             23.51\n",
      "high             23.65\n",
      "low          22.889999\n",
      "close            22.93\n",
      "volume        57575200\n",
      "adjclose     19.153866\n",
      "dividends          0.0\n",
      "Rótulos              0\n",
      "Name: 189, dtype: object\n",
      "_\n",
      "symbol        PETR4.SA\n",
      "open         23.200001\n",
      "high              23.6\n",
      "low              23.08\n",
      "close             23.4\n",
      "volume        43391200\n",
      "adjclose     19.546465\n",
      "dividends          0.0\n",
      "Rótulos              0\n",
      "Name: 190, dtype: object\n",
      "_\n",
      "symbol        PETR4.SA\n",
      "open         23.389999\n",
      "high         23.620001\n",
      "low          23.040001\n",
      "close            23.33\n",
      "volume        46435600\n",
      "adjclose     19.487993\n",
      "dividends          0.0\n",
      "Rótulos              0\n",
      "Name: 191, dtype: object\n",
      "_\n",
      "symbol        PETR4.SA\n",
      "open         23.370001\n",
      "high             23.67\n",
      "low              22.59\n",
      "close        22.799999\n",
      "volume        74711200\n",
      "adjclose     19.045273\n",
      "dividends          0.0\n",
      "Rótulos              0\n",
      "Name: 192, dtype: object\n",
      "_\n",
      "symbol        PETR4.SA\n",
      "open         22.709999\n",
      "high         23.129999\n",
      "low              22.48\n",
      "close        22.790001\n",
      "volume        52556800\n",
      "adjclose     19.036921\n",
      "dividends          0.0\n",
      "Rótulos              0\n",
      "Name: 193, dtype: object\n",
      "_\n",
      "symbol        PETR4.SA\n",
      "open         23.110001\n",
      "high         23.360001\n",
      "low              22.83\n",
      "close            23.18\n",
      "volume        39148700\n",
      "adjclose     19.362696\n",
      "dividends          0.0\n",
      "Rótulos              0\n",
      "Name: 194, dtype: object\n",
      "_\n",
      "symbol        PETR4.SA\n",
      "open         23.219999\n",
      "high         23.639999\n",
      "low              23.15\n",
      "close            23.59\n",
      "volume        29091100\n",
      "adjclose     19.705175\n",
      "dividends          0.0\n",
      "Rótulos              0\n",
      "Name: 195, dtype: object\n",
      "_\n",
      "symbol        PETR4.SA\n",
      "open         23.709999\n",
      "high         24.040001\n",
      "low          23.469999\n",
      "close             23.9\n",
      "volume        49148600\n",
      "adjclose     19.964125\n",
      "dividends          0.0\n",
      "Rótulos              0\n",
      "Name: 196, dtype: object\n",
      "_\n",
      "symbol        PETR4.SA\n",
      "open             24.25\n",
      "high         24.280001\n",
      "low              23.68\n",
      "close        23.969999\n",
      "volume        56116900\n",
      "adjclose     20.022596\n",
      "dividends          0.0\n",
      "Rótulos              0\n",
      "Name: 197, dtype: object\n",
      "_\n",
      "symbol        PETR4.SA\n",
      "open              24.0\n",
      "high         24.219999\n",
      "low          23.209999\n",
      "close        23.450001\n",
      "volume        59547800\n",
      "adjclose      19.58823\n",
      "dividends          0.0\n",
      "Rótulos              0\n",
      "Name: 198, dtype: object\n",
      "_\n",
      "symbol        PETR4.SA\n",
      "open             24.09\n",
      "high              24.5\n",
      "low          23.799999\n",
      "close            24.49\n",
      "volume        73931200\n",
      "adjclose     20.456963\n",
      "dividends          0.0\n",
      "Rótulos              0\n",
      "Name: 199, dtype: object\n",
      "_\n",
      "symbol        PETR4.SA\n",
      "open         24.629999\n",
      "high             24.76\n",
      "low               24.1\n",
      "close            24.27\n",
      "volume        57505700\n",
      "adjclose     20.273193\n",
      "dividends          0.0\n",
      "Rótulos              0\n",
      "Name: 200, dtype: object\n",
      "_\n",
      "symbol        PETR4.SA\n",
      "open         24.190001\n",
      "high         24.530001\n",
      "low              23.27\n",
      "close            24.35\n",
      "volume        93626400\n",
      "adjclose     20.340019\n",
      "dividends          0.0\n",
      "Rótulos              0\n",
      "Name: 201, dtype: object\n",
      "_\n",
      "symbol        PETR4.SA\n",
      "open             24.34\n",
      "high             24.42\n",
      "low          23.950001\n",
      "close             24.0\n",
      "volume        29565400\n",
      "adjclose     20.047657\n",
      "dividends          0.0\n",
      "Rótulos              0\n",
      "Name: 202, dtype: object\n",
      "_\n",
      "symbol        PETR4.SA\n",
      "open         24.030001\n",
      "high             24.66\n",
      "low          24.030001\n",
      "close            24.51\n",
      "volume        41455900\n",
      "adjclose     20.473669\n",
      "dividends          0.0\n",
      "Rótulos              0\n",
      "Name: 203, dtype: object\n",
      "_\n",
      "symbol        PETR4.SA\n",
      "open         24.700001\n",
      "high         25.700001\n",
      "low          24.629999\n",
      "close            25.66\n",
      "volume        80565000\n",
      "adjclose     21.434284\n",
      "dividends          0.0\n",
      "Rótulos              0\n",
      "Name: 204, dtype: object\n",
      "_\n",
      "symbol        PETR4.SA\n",
      "open             25.98\n",
      "high             26.15\n",
      "low              25.18\n",
      "close            25.85\n",
      "volume        71563400\n",
      "adjclose     21.592997\n",
      "dividends          0.0\n",
      "Rótulos              0\n",
      "Name: 205, dtype: object\n",
      "_\n",
      "symbol        PETR4.SA\n",
      "open             25.85\n",
      "high             26.09\n",
      "low          25.799999\n",
      "close        26.030001\n",
      "volume        38852800\n",
      "adjclose     21.743355\n",
      "dividends          0.0\n",
      "Rótulos              0\n",
      "Name: 206, dtype: object\n",
      "_\n",
      "symbol        PETR4.SA\n",
      "open         25.799999\n",
      "high              26.4\n",
      "low          25.719999\n",
      "close        26.299999\n",
      "volume        38421100\n",
      "adjclose     21.968889\n",
      "dividends          0.0\n",
      "Rótulos              0\n",
      "Name: 207, dtype: object\n",
      "_\n",
      "symbol        PETR4.SA\n",
      "open             26.24\n",
      "high         26.799999\n",
      "low          26.209999\n",
      "close        26.709999\n",
      "volume        49427100\n",
      "adjclose     22.311371\n",
      "dividends          0.0\n",
      "Rótulos              0\n",
      "Name: 208, dtype: object\n",
      "_\n",
      "symbol        PETR4.SA\n",
      "open         26.709999\n",
      "high         27.620001\n",
      "low              26.52\n",
      "close        27.389999\n",
      "volume        99478800\n",
      "adjclose     22.879387\n",
      "dividends          0.0\n",
      "Rótulos              0\n",
      "Name: 209, dtype: object\n",
      "_\n",
      "symbol        PETR4.SA\n",
      "open             27.16\n",
      "high         27.309999\n",
      "low          26.450001\n",
      "close            26.51\n",
      "volume        73217800\n",
      "adjclose     22.144306\n",
      "dividends          0.0\n",
      "Rótulos              0\n",
      "Name: 210, dtype: object\n",
      "_\n",
      "symbol        PETR4.SA\n",
      "open             26.52\n",
      "high             26.98\n",
      "low          26.290001\n",
      "close        26.690001\n",
      "volume        54738400\n",
      "adjclose     22.294664\n",
      "dividends          0.0\n",
      "Rótulos              0\n",
      "Name: 211, dtype: object\n",
      "_\n",
      "symbol        PETR4.SA\n",
      "open              26.6\n",
      "high             27.26\n",
      "low               26.5\n",
      "close        27.200001\n",
      "volume        43820900\n",
      "adjclose     22.720678\n",
      "dividends          0.0\n",
      "Rótulos              0\n",
      "Name: 212, dtype: object\n",
      "_\n",
      "symbol        PETR4.SA\n",
      "open             27.16\n",
      "high              27.5\n",
      "low          26.719999\n",
      "close            27.09\n",
      "volume        53854100\n",
      "adjclose     22.628792\n",
      "dividends          0.0\n",
      "Rótulos              0\n",
      "Name: 213, dtype: object\n",
      "_\n",
      "symbol        PETR4.SA\n",
      "open         27.120001\n",
      "high         27.219999\n",
      "low              26.75\n",
      "close            26.75\n",
      "volume        40249400\n",
      "adjclose     22.344784\n",
      "dividends          0.0\n",
      "Rótulos              0\n",
      "Name: 214, dtype: object\n",
      "_\n",
      "symbol        PETR4.SA\n",
      "open             26.85\n",
      "high             27.18\n",
      "low              25.91\n",
      "close             26.1\n",
      "volume       115632700\n",
      "adjclose     21.801826\n",
      "dividends          0.0\n",
      "Rótulos              0\n",
      "Name: 215, dtype: object\n",
      "_\n",
      "symbol        PETR4.SA\n",
      "open              23.6\n",
      "high         24.049999\n",
      "low              23.15\n",
      "close        23.700001\n",
      "volume        81138500\n",
      "adjclose     22.243404\n",
      "dividends     2.870493\n",
      "Rótulos              0\n",
      "Name: 216, dtype: object\n",
      "_\n",
      "symbol        PETR4.SA\n",
      "open         23.700001\n",
      "high             23.74\n",
      "low          22.639999\n",
      "close            22.74\n",
      "volume        67911100\n",
      "adjclose     21.342405\n",
      "dividends          0.0\n",
      "Rótulos              0\n",
      "Name: 217, dtype: object\n",
      "_\n",
      "symbol        PETR4.SA\n",
      "open              22.6\n",
      "high             22.99\n",
      "low              22.42\n",
      "close            22.66\n",
      "volume        51133700\n",
      "adjclose     21.267321\n",
      "dividends          0.0\n",
      "Rótulos              0\n",
      "Name: 218, dtype: object\n",
      "_\n",
      "symbol        PETR4.SA\n",
      "open         22.889999\n",
      "high         23.379999\n",
      "low          22.610001\n",
      "close            23.02\n",
      "volume        57854400\n",
      "adjclose     21.605196\n",
      "dividends          0.0\n",
      "Rótulos              0\n",
      "Name: 219, dtype: object\n",
      "_\n",
      "symbol        PETR4.SA\n",
      "open         23.299999\n",
      "high             24.17\n",
      "low              23.18\n",
      "close             24.0\n",
      "volume        83365200\n",
      "adjclose     22.524965\n",
      "dividends          0.0\n",
      "Rótulos              0\n",
      "Name: 220, dtype: object\n",
      "_\n",
      "symbol        PETR4.SA\n",
      "open         24.450001\n",
      "high         24.629999\n",
      "low          24.209999\n",
      "close            24.51\n",
      "volume        59352300\n",
      "adjclose      23.00362\n",
      "dividends          0.0\n",
      "Rótulos              0\n",
      "Name: 221, dtype: object\n",
      "_\n",
      "symbol        PETR4.SA\n",
      "open             24.41\n",
      "high         24.799999\n",
      "low              24.24\n",
      "close            24.59\n",
      "volume        33978200\n",
      "adjclose     23.078705\n",
      "dividends          0.0\n",
      "Rótulos              0\n",
      "Name: 222, dtype: object\n",
      "_\n",
      "symbol        PETR4.SA\n",
      "open             24.59\n",
      "high             24.82\n",
      "low              24.33\n",
      "close        24.530001\n",
      "volume        41500700\n",
      "adjclose     23.022392\n",
      "dividends          0.0\n",
      "Rótulos              0\n",
      "Name: 223, dtype: object\n",
      "_\n",
      "symbol        PETR4.SA\n",
      "open         24.129999\n",
      "high             25.48\n",
      "low              23.93\n",
      "close            25.43\n",
      "volume       136878100\n",
      "adjclose     23.867079\n",
      "dividends          0.0\n",
      "Rótulos              0\n",
      "Name: 224, dtype: object\n",
      "_\n",
      "symbol        PETR4.SA\n",
      "open             25.58\n",
      "high             26.74\n",
      "low              25.48\n",
      "close            26.25\n",
      "volume       117237500\n",
      "adjclose     24.636681\n",
      "dividends          0.0\n",
      "Rótulos              0\n",
      "Name: 225, dtype: object\n",
      "_\n",
      "symbol        PETR4.SA\n",
      "open         26.059999\n",
      "high             26.15\n",
      "low               25.4\n",
      "close            25.66\n",
      "volume        81996700\n",
      "adjclose     24.082941\n",
      "dividends          0.0\n",
      "Rótulos              0\n",
      "Name: 226, dtype: object\n",
      "_\n",
      "symbol        PETR4.SA\n",
      "open         26.110001\n",
      "high         27.030001\n",
      "low              26.08\n",
      "close        26.299999\n",
      "volume       117782700\n",
      "adjclose     24.683607\n",
      "dividends          0.0\n",
      "Rótulos              0\n",
      "Name: 227, dtype: object\n",
      "_\n",
      "symbol        PETR4.SA\n",
      "open              26.6\n",
      "high             26.76\n",
      "low              25.51\n",
      "close            25.66\n",
      "volume       107129200\n",
      "adjclose     24.082941\n",
      "dividends          0.0\n",
      "Rótulos              0\n",
      "Name: 228, dtype: object\n",
      "_\n",
      "symbol        PETR4.SA\n",
      "open             25.59\n",
      "high             25.85\n",
      "low              25.35\n",
      "close        25.809999\n",
      "volume        63010500\n",
      "adjclose     24.223722\n",
      "dividends          0.0\n",
      "Rótulos              0\n",
      "Name: 229, dtype: object\n",
      "_\n",
      "symbol        PETR4.SA\n",
      "open             26.08\n",
      "high             26.18\n",
      "low          25.639999\n",
      "close            25.77\n",
      "volume        69245500\n",
      "adjclose     24.186182\n",
      "dividends          0.0\n",
      "Rótulos              0\n",
      "Name: 230, dtype: object\n",
      "_\n",
      "symbol        PETR4.SA\n",
      "open         25.879999\n",
      "high             26.01\n",
      "low               25.5\n",
      "close        25.620001\n",
      "volume        38010200\n",
      "adjclose     24.045401\n",
      "dividends          0.0\n",
      "Rótulos              0\n",
      "Name: 231, dtype: object\n",
      "_\n",
      "symbol        PETR4.SA\n",
      "open             25.65\n",
      "high             26.43\n",
      "low              25.52\n",
      "close            26.25\n",
      "volume        58285300\n",
      "adjclose     24.636681\n",
      "dividends          0.0\n",
      "Rótulos              0\n",
      "Name: 232, dtype: object\n",
      "_\n",
      "symbol        PETR4.SA\n",
      "open             26.25\n",
      "high              26.9\n",
      "low          26.049999\n",
      "close            26.65\n",
      "volume        54796400\n",
      "adjclose     25.012096\n",
      "dividends          0.0\n",
      "Rótulos              0\n",
      "Name: 233, dtype: object\n",
      "_\n",
      "symbol        PETR4.SA\n",
      "open         26.799999\n",
      "high             26.84\n",
      "low          26.190001\n",
      "close        26.450001\n",
      "volume        49182700\n",
      "adjclose      24.82439\n",
      "dividends          0.0\n",
      "Rótulos              0\n",
      "Name: 234, dtype: object\n",
      "_\n",
      "symbol        PETR4.SA\n",
      "open         26.809999\n",
      "high             26.91\n",
      "low          26.530001\n",
      "close        26.799999\n",
      "volume        39866600\n",
      "adjclose     25.152878\n",
      "dividends          0.0\n",
      "Rótulos              0\n",
      "Name: 235, dtype: object\n",
      "_\n",
      "symbol        PETR4.SA\n",
      "open             26.75\n",
      "high             26.82\n",
      "low          26.559999\n",
      "close        26.690001\n",
      "volume        17977100\n",
      "adjclose     25.049639\n",
      "dividends          0.0\n",
      "Rótulos              0\n",
      "Name: 236, dtype: object\n",
      "_\n",
      "symbol        PETR4.SA\n",
      "open         26.719999\n",
      "high         26.799999\n",
      "low              26.26\n",
      "close        26.389999\n",
      "volume        45736700\n",
      "adjclose     24.768076\n",
      "dividends          0.0\n",
      "Rótulos              0\n",
      "Name: 237, dtype: object\n",
      "_\n",
      "symbol        PETR4.SA\n",
      "open             26.27\n",
      "high         26.360001\n",
      "low          25.870001\n",
      "close        26.120001\n",
      "volume        49207600\n",
      "adjclose     24.514671\n",
      "dividends          0.0\n",
      "Rótulos              0\n",
      "Name: 238, dtype: object\n",
      "_\n",
      "symbol        PETR4.SA\n",
      "open         26.299999\n",
      "high              27.0\n",
      "low              26.16\n",
      "close        26.959999\n",
      "volume        63148200\n",
      "adjclose     25.303043\n",
      "dividends          0.0\n",
      "Rótulos              0\n",
      "Name: 239, dtype: object\n",
      "_\n",
      "symbol        PETR4.SA\n",
      "open             27.43\n",
      "high              27.6\n",
      "low          27.110001\n",
      "close            27.18\n",
      "volume        39919300\n",
      "adjclose     25.509523\n",
      "dividends          0.0\n",
      "Rótulos              0\n",
      "Name: 240, dtype: object\n",
      "_\n",
      "symbol        PETR4.SA\n",
      "open         27.540001\n",
      "high         27.559999\n",
      "low              27.23\n",
      "close        27.469999\n",
      "volume        39321700\n",
      "adjclose       25.7817\n",
      "dividends          0.0\n",
      "Rótulos              0\n",
      "Name: 241, dtype: object\n",
      "_\n",
      "symbol        PETR4.SA\n",
      "open         27.450001\n",
      "high             28.25\n",
      "low          27.209999\n",
      "close        28.049999\n",
      "volume        75426600\n",
      "adjclose     26.326052\n",
      "dividends          0.0\n",
      "Rótulos              0\n",
      "Name: 242, dtype: object\n",
      "_\n",
      "symbol        PETR4.SA\n",
      "open             28.65\n",
      "high         29.059999\n",
      "low              28.43\n",
      "close        28.870001\n",
      "volume        82330400\n",
      "adjclose     27.095657\n",
      "dividends          0.0\n",
      "Rótulos              0\n",
      "Name: 243, dtype: object\n",
      "_\n",
      "symbol        PETR4.SA\n",
      "open              29.1\n",
      "high         30.389999\n",
      "low              29.02\n",
      "close        30.280001\n",
      "volume        80442400\n",
      "adjclose     28.418999\n",
      "dividends          0.0\n",
      "Rótulos              0\n",
      "Name: 244, dtype: object\n",
      "_\n",
      "symbol        PETR4.SA\n",
      "open         30.219999\n",
      "high             30.99\n",
      "low          30.040001\n",
      "close        30.809999\n",
      "volume       119350400\n",
      "adjclose     28.916424\n",
      "dividends          0.0\n",
      "Rótulos              0\n",
      "Name: 245, dtype: object\n",
      "_\n",
      "symbol        PETR4.SA\n",
      "open             29.24\n",
      "high             29.24\n",
      "low              28.59\n",
      "close        28.860001\n",
      "volume        79174900\n",
      "adjclose     28.860001\n",
      "dividends     1.893576\n",
      "Rótulos              0\n",
      "Name: 246, dtype: object\n",
      "_\n",
      "symbol        PETR4.SA\n",
      "open         28.940001\n",
      "high              30.1\n",
      "low          28.879999\n",
      "close             30.1\n",
      "volume        98326000\n",
      "adjclose          30.1\n",
      "dividends          0.0\n",
      "Rótulos              0\n",
      "Name: 247, dtype: object\n",
      "_\n",
      "symbol        PETR4.SA\n",
      "open         30.200001\n",
      "high             30.85\n",
      "low          29.280001\n",
      "close        29.389999\n",
      "volume       120579500\n",
      "adjclose     29.389999\n",
      "dividends          0.0\n",
      "Rótulos              0\n",
      "Name: 248, dtype: object\n",
      "_\n",
      "symbol        PETR4.SA\n",
      "open             29.23\n",
      "high             29.92\n",
      "low          29.040001\n",
      "close        29.639999\n",
      "volume        94572000\n",
      "adjclose     29.639999\n",
      "dividends          0.0\n",
      "Rótulos              0\n",
      "Name: 249, dtype: object\n",
      "_\n"
     ]
    }
   ],
   "source": [
    "for i,row in dados3['PETR4.SA'].iterrows():\n",
    "    print(row)\n",
    "    print('_')"
   ]
  },
  {
   "cell_type": "code",
   "execution_count": 44,
   "metadata": {},
   "outputs": [
    {
     "data": {
      "text/html": [
       "<div>\n",
       "<style scoped>\n",
       "    .dataframe tbody tr th:only-of-type {\n",
       "        vertical-align: middle;\n",
       "    }\n",
       "\n",
       "    .dataframe tbody tr th {\n",
       "        vertical-align: top;\n",
       "    }\n",
       "\n",
       "    .dataframe thead th {\n",
       "        text-align: right;\n",
       "    }\n",
       "</style>\n",
       "<table border=\"1\" class=\"dataframe\">\n",
       "  <thead>\n",
       "    <tr style=\"text-align: right;\">\n",
       "      <th></th>\n",
       "      <th>symbol</th>\n",
       "      <th>open</th>\n",
       "      <th>high</th>\n",
       "      <th>low</th>\n",
       "      <th>close</th>\n",
       "      <th>volume</th>\n",
       "      <th>adjclose</th>\n",
       "      <th>dividends</th>\n",
       "      <th>Rótulos</th>\n",
       "    </tr>\n",
       "  </thead>\n",
       "  <tbody>\n",
       "    <tr>\n",
       "      <th>0</th>\n",
       "      <td>PETR4.SA</td>\n",
       "      <td>28.170000</td>\n",
       "      <td>28.450001</td>\n",
       "      <td>26.129999</td>\n",
       "      <td>27.309999</td>\n",
       "      <td>184606500</td>\n",
       "      <td>16.253057</td>\n",
       "      <td>0.0</td>\n",
       "      <td>0</td>\n",
       "    </tr>\n",
       "    <tr>\n",
       "      <th>1</th>\n",
       "      <td>PETR4.SA</td>\n",
       "      <td>26.020000</td>\n",
       "      <td>28.250000</td>\n",
       "      <td>25.910000</td>\n",
       "      <td>27.620001</td>\n",
       "      <td>92581800</td>\n",
       "      <td>16.437550</td>\n",
       "      <td>0.0</td>\n",
       "      <td>0</td>\n",
       "    </tr>\n",
       "    <tr>\n",
       "      <th>2</th>\n",
       "      <td>PETR4.SA</td>\n",
       "      <td>27.799999</td>\n",
       "      <td>28.160000</td>\n",
       "      <td>26.690001</td>\n",
       "      <td>27.070000</td>\n",
       "      <td>85179500</td>\n",
       "      <td>16.110224</td>\n",
       "      <td>0.0</td>\n",
       "      <td>0</td>\n",
       "    </tr>\n",
       "    <tr>\n",
       "      <th>3</th>\n",
       "      <td>PETR4.SA</td>\n",
       "      <td>26.580000</td>\n",
       "      <td>27.549999</td>\n",
       "      <td>26.389999</td>\n",
       "      <td>26.990000</td>\n",
       "      <td>57874700</td>\n",
       "      <td>16.062614</td>\n",
       "      <td>0.0</td>\n",
       "      <td>0</td>\n",
       "    </tr>\n",
       "    <tr>\n",
       "      <th>4</th>\n",
       "      <td>PETR4.SA</td>\n",
       "      <td>26.980000</td>\n",
       "      <td>27.379999</td>\n",
       "      <td>26.120001</td>\n",
       "      <td>26.490000</td>\n",
       "      <td>69262300</td>\n",
       "      <td>15.765049</td>\n",
       "      <td>0.0</td>\n",
       "      <td>0</td>\n",
       "    </tr>\n",
       "  </tbody>\n",
       "</table>\n",
       "</div>"
      ],
      "text/plain": [
       "     symbol       open       high        low      close     volume   adjclose  \\\n",
       "0  PETR4.SA  28.170000  28.450001  26.129999  27.309999  184606500  16.253057   \n",
       "1  PETR4.SA  26.020000  28.250000  25.910000  27.620001   92581800  16.437550   \n",
       "2  PETR4.SA  27.799999  28.160000  26.690001  27.070000   85179500  16.110224   \n",
       "3  PETR4.SA  26.580000  27.549999  26.389999  26.990000   57874700  16.062614   \n",
       "4  PETR4.SA  26.980000  27.379999  26.120001  26.490000   69262300  15.765049   \n",
       "\n",
       "   dividends  Rótulos  \n",
       "0        0.0        0  \n",
       "1        0.0        0  \n",
       "2        0.0        0  \n",
       "3        0.0        0  \n",
       "4        0.0        0  "
      ]
     },
     "execution_count": 44,
     "metadata": {},
     "output_type": "execute_result"
    }
   ],
   "source": [
    "dados3['PETR4.SA'].head()"
   ]
  },
  {
   "attachments": {},
   "cell_type": "markdown",
   "metadata": {},
   "source": [
    "## Transformação das matrizes: Separando os dias como objetos numpy."
   ]
  },
  {
   "attachments": {},
   "cell_type": "markdown",
   "metadata": {},
   "source": [
    "tentar criar objetos que contenham as matrizes, os rótulos e a identificação do dia."
   ]
  },
  {
   "attachments": {},
   "cell_type": "markdown",
   "metadata": {},
   "source": [
    "O último dia não está incluso no treinamento por não possuir rótulo."
   ]
  },
  {
   "attachments": {},
   "cell_type": "markdown",
   "metadata": {},
   "source": [
    "Dimensões:\n",
    "* Medidas:\n",
    "  * Dia da semana\n",
    "  * Dia do ano\n",
    "  * Abertura\n",
    "  * Mínimo\n",
    "  * Máximo\n",
    "  * Fechamento\n",
    "  * Fechamento Ajustado\n",
    "  * Volume\n",
    "* tickers\n",
    "* Dias (atual e anteriores)"
   ]
  },
  {
   "attachments": {},
   "cell_type": "markdown",
   "metadata": {},
   "source": [
    "Há uma variável ajustável para determinar quantos dias serão olhados para trás."
   ]
  },
  {
   "attachments": {},
   "cell_type": "markdown",
   "metadata": {},
   "source": [
    "Um dicionário de rótulos, um rótulo para cada ticker, é atrelado a cada matriz."
   ]
  },
  {
   "attachments": {},
   "cell_type": "markdown",
   "metadata": {},
   "source": [
    "## Separação entre Treino, Teste e Validação."
   ]
  },
  {
   "attachments": {},
   "cell_type": "markdown",
   "metadata": {},
   "source": [
    "É preciso garantir que as matrizes sejam embaralhadas, mas que os rótulos permaneçam atrelados adequadamente."
   ]
  },
  {
   "attachments": {},
   "cell_type": "markdown",
   "metadata": {},
   "source": [
    "## Modelo"
   ]
  },
  {
   "attachments": {},
   "cell_type": "markdown",
   "metadata": {},
   "source": [
    "* Para cada ticker (a partir do dicionário de rótulos):  \n",
    "    * O modelo é treinado seguindo aquele ticker como rótulo (com uma função)  \n",
    "    * O modelo é validado  \n",
    "    * Se o modelo é válido:  \n",
    "        * A previsão é tentada:  \n",
    "        * Se o resultado é diferente de zero E a probabilidade é alta:  \n",
    "                * O deploy é salvo"
   ]
  }
 ],
 "metadata": {
  "kernelspec": {
   "display_name": "base",
   "language": "python",
   "name": "python3"
  },
  "language_info": {
   "codemirror_mode": {
    "name": "ipython",
    "version": 3
   },
   "file_extension": ".py",
   "mimetype": "text/x-python",
   "name": "python",
   "nbconvert_exporter": "python",
   "pygments_lexer": "ipython3",
   "version": "3.10.9"
  },
  "orig_nbformat": 4
 },
 "nbformat": 4,
 "nbformat_minor": 2
}
