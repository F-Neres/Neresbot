{
 "cells": [
  {
   "attachments": {},
   "cell_type": "markdown",
   "metadata": {},
   "source": [
    "# Neresbot 0.1"
   ]
  },
  {
   "attachments": {},
   "cell_type": "markdown",
   "metadata": {},
   "source": [
    "Modelos:\n",
    "* Convolução\n",
    "* Long Short-Term Memory\n",
    "* SARIMA"
   ]
  },
  {
   "cell_type": "code",
   "execution_count": 7,
   "metadata": {},
   "outputs": [],
   "source": [
    "import pandas as pd\n",
    "import requests\n",
    "import json\n",
    "from pprint import pprint\n",
    "import yahooquery as yq\n",
    "import os"
   ]
  },
  {
   "attachments": {},
   "cell_type": "markdown",
   "metadata": {},
   "source": [
    "# Download dos Dados"
   ]
  },
  {
   "attachments": {},
   "cell_type": "markdown",
   "metadata": {},
   "source": [
    "Os símbolos dos tickers são obtidos manualmente do site: https://www.dadosdemercado.com.br/bolsa/acoes"
   ]
  },
  {
   "cell_type": "code",
   "execution_count": 8,
   "metadata": {},
   "outputs": [],
   "source": [
    "tickers = pd.read_csv(\"acoes-listadas.csv\")"
   ]
  },
  {
   "cell_type": "code",
   "execution_count": 9,
   "metadata": {},
   "outputs": [
    {
     "data": {
      "text/html": [
       "<div>\n",
       "<style scoped>\n",
       "    .dataframe tbody tr th:only-of-type {\n",
       "        vertical-align: middle;\n",
       "    }\n",
       "\n",
       "    .dataframe tbody tr th {\n",
       "        vertical-align: top;\n",
       "    }\n",
       "\n",
       "    .dataframe thead th {\n",
       "        text-align: right;\n",
       "    }\n",
       "</style>\n",
       "<table border=\"1\" class=\"dataframe\">\n",
       "  <thead>\n",
       "    <tr style=\"text-align: right;\">\n",
       "      <th></th>\n",
       "      <th>Código</th>\n",
       "      <th>Nome</th>\n",
       "    </tr>\n",
       "  </thead>\n",
       "  <tbody>\n",
       "    <tr>\n",
       "      <th>0</th>\n",
       "      <td>PETR4</td>\n",
       "      <td>Petrobras</td>\n",
       "    </tr>\n",
       "    <tr>\n",
       "      <th>1</th>\n",
       "      <td>MGLU3</td>\n",
       "      <td>Magazine Luiza</td>\n",
       "    </tr>\n",
       "    <tr>\n",
       "      <th>2</th>\n",
       "      <td>HAPV3</td>\n",
       "      <td>Hapvida</td>\n",
       "    </tr>\n",
       "    <tr>\n",
       "      <th>3</th>\n",
       "      <td>CIEL3</td>\n",
       "      <td>Cielo</td>\n",
       "    </tr>\n",
       "    <tr>\n",
       "      <th>4</th>\n",
       "      <td>B3SA3</td>\n",
       "      <td>B3</td>\n",
       "    </tr>\n",
       "    <tr>\n",
       "      <th>...</th>\n",
       "      <td>...</td>\n",
       "      <td>...</td>\n",
       "    </tr>\n",
       "    <tr>\n",
       "      <th>522</th>\n",
       "      <td>TKNO3</td>\n",
       "      <td>Tekno</td>\n",
       "    </tr>\n",
       "    <tr>\n",
       "      <th>523</th>\n",
       "      <td>COCE6</td>\n",
       "      <td>Coelce</td>\n",
       "    </tr>\n",
       "    <tr>\n",
       "      <th>524</th>\n",
       "      <td>MGEL3</td>\n",
       "      <td>Mangels</td>\n",
       "    </tr>\n",
       "    <tr>\n",
       "      <th>525</th>\n",
       "      <td>CTSA8</td>\n",
       "      <td>Santanense</td>\n",
       "    </tr>\n",
       "    <tr>\n",
       "      <th>526</th>\n",
       "      <td>MMAQ4</td>\n",
       "      <td>Minasmáquinas</td>\n",
       "    </tr>\n",
       "  </tbody>\n",
       "</table>\n",
       "<p>527 rows × 2 columns</p>\n",
       "</div>"
      ],
      "text/plain": [
       "    Código            Nome\n",
       "0    PETR4       Petrobras\n",
       "1    MGLU3  Magazine Luiza\n",
       "2    HAPV3         Hapvida\n",
       "3    CIEL3           Cielo\n",
       "4    B3SA3              B3\n",
       "..     ...             ...\n",
       "522  TKNO3           Tekno\n",
       "523  COCE6          Coelce\n",
       "524  MGEL3         Mangels\n",
       "525  CTSA8      Santanense\n",
       "526  MMAQ4   Minasmáquinas\n",
       "\n",
       "[527 rows x 2 columns]"
      ]
     },
     "execution_count": 9,
     "metadata": {},
     "output_type": "execute_result"
    }
   ],
   "source": [
    "tickers"
   ]
  },
  {
   "attachments": {},
   "cell_type": "markdown",
   "metadata": {},
   "source": [
    "https://yahooquery.dpguthrie.com/"
   ]
  },
  {
   "attachments": {},
   "cell_type": "markdown",
   "metadata": {},
   "source": [
    "É criado um dicionário que conterá, como chave, o símbolo do ticker e, como valor, o dataframe relacionando medidas e períodos (dias)."
   ]
  },
  {
   "attachments": {},
   "cell_type": "markdown",
   "metadata": {},
   "source": [
    "Em cada dataframe é adicionado o devido dia da semana, numericamente."
   ]
  },
  {
   "cell_type": "code",
   "execution_count": 10,
   "metadata": {},
   "outputs": [],
   "source": [
    "# Os símbolos das empresas brasileiras recebem o sufixo \".SA\".\n",
    "\n",
    "símbolos = tickers['Código'] + '.SA'"
   ]
  },
  {
   "cell_type": "code",
   "execution_count": 13,
   "metadata": {},
   "outputs": [
    {
     "name": "stdout",
     "output_type": "stream",
     "text": [
      "None\n"
     ]
    }
   ],
   "source": [
    "# Verificando símbolos inválidos.\n",
    "\n",
    "print(yq.Ticker(símbolos, backoff_factor=1, progress=True, status_forcelist=[404, 429, 500, 502, 503, 504], asynchronous=True).invalid_symbols)"
   ]
  },
  {
   "cell_type": "code",
   "execution_count": 22,
   "metadata": {},
   "outputs": [
    {
     "name": "stdout",
     "output_type": "stream",
     "text": [
      "WIZS3.SA falhou.\n",
      "LLIS3.SA falhou.\n",
      "BRML3.SA falhou.\n",
      "DMMO3.SA falhou.\n",
      "GETT3.SA falhou.\n",
      "GETT4.SA falhou.\n",
      "SULA4.SA falhou.\n",
      "SULA3.SA falhou.\n",
      "CEPE5.SA falhou.\n",
      "CEPE6.SA falhou.\n",
      "BKBR3.SA falhou.\n",
      "MTIG4.SA falhou.\n",
      "BLUT4.SA falhou.\n",
      "BLUT3.SA falhou.\n",
      "MODL4.SA falhou.\n",
      "CARD3.SA falhou.\n",
      "FNCN3.SA falhou.\n",
      "LCAM3.SA falhou.\n",
      "BIDI4.SA falhou.\n",
      "BIDI3.SA falhou.\n",
      "EEEL4.SA falhou.\n",
      "EEEL3.SA falhou.\n",
      "BBRK3.SA falhou.\n",
      "CESP6.SA falhou.\n",
      "CESP3.SA falhou.\n",
      "CESP5.SA falhou.\n",
      "MOSI3.SA falhou.\n",
      "POWE3.SA falhou.\n",
      "GNDI3.SA falhou.\n",
      "LAME4.SA falhou.\n",
      "LAME3.SA falhou.\n",
      "OMGE3.SA falhou.\n",
      "IGTA3.SA falhou.\n",
      "JPSA3.SA falhou.\n",
      "BRDT3.SA falhou.\n",
      "JBDU4.SA falhou.\n",
      "JBDU3.SA falhou.\n",
      "HGTX3.SA falhou.\n",
      "CCPR3.SA falhou.\n",
      "DTEX3.SA falhou.\n",
      "VVAR3.SA falhou.\n",
      "PNVL4.SA falhou.\n",
      "TESA3.SA falhou.\n",
      "BTOW3.SA falhou.\n",
      "LINX3.SA falhou.\n",
      "BTTL3.SA falhou.\n",
      "GPCP3.SA falhou.\n",
      "GPCP4.SA falhou.\n",
      "SMLS3.SA falhou.\n",
      "MMXM3.SA falhou.\n",
      "BSEV3.SA falhou.\n",
      "CNTO3.SA falhou.\n",
      "TIET4.SA falhou.\n",
      "TIET3.SA falhou.\n",
      "CEPE3.SA falhou.\n",
      "CALI4.SA falhou.\n",
      "BPAR3.SA falhou.\n",
      "APTI4.SA falhou.\n",
      "467 tickers salvos com sucesso.\n",
      "58 tickers apresentaram falha\n"
     ]
    }
   ],
   "source": [
    "dados = {}\n",
    "falhas = []\n",
    "\n",
    "for ticker in símbolos:\n",
    "    query = yq.Ticker(ticker, backoff_factor=0.1, retry=3, status_forcelist=[404, 429, 500, 502, 503, 504], asynchronous=True)\n",
    "    try:\n",
    "        histórico = query.history(period='1y', interval='1d',adj_timezone=True)\n",
    "    except:\n",
    "        falhas.append(ticker)\n",
    "        print(ticker,\"falhou.\")\n",
    "    else:\n",
    "        dados[ticker] = histórico.reset_index()\n",
    "\n",
    "print(len(dados),\"tickers salvos com sucesso.\")\n",
    "print(len(falhas),\"tickers apresentaram falha\")"
   ]
  },
  {
   "cell_type": "code",
   "execution_count": 31,
   "metadata": {},
   "outputs": [],
   "source": [
    "errados = []\n",
    "\n",
    "for i,j in dados.items():\n",
    "    if 'date' not in j.columns:\n",
    "        print(i,j.columns)\n",
    "        errados.append(i)\n",
    "\n",
    "for i in errados:\n",
    "    del dados[i]\n",
    "        "
   ]
  },
  {
   "cell_type": "code",
   "execution_count": 35,
   "metadata": {},
   "outputs": [],
   "source": [
    "dados2 = {k: v.set_index('date') for k, v in dados.items()}\n"
   ]
  },
  {
   "cell_type": "code",
   "execution_count": null,
   "metadata": {},
   "outputs": [
    {
     "name": "stdout",
     "output_type": "stream",
     "text": [
      "WIZS3.SA\n"
     ]
    },
    {
     "name": "stderr",
     "output_type": "stream",
     "text": [
      "  0%|          | 0/1 [00:03<?, ?it/s]\n"
     ]
    },
    {
     "name": "stdout",
     "output_type": "stream",
     "text": [
      "LLIS3.SA\n"
     ]
    },
    {
     "name": "stderr",
     "output_type": "stream",
     "text": [
      "  0%|          | 0/1 [00:03<?, ?it/s]\n"
     ]
    },
    {
     "name": "stdout",
     "output_type": "stream",
     "text": [
      "BRML3.SA\n"
     ]
    },
    {
     "name": "stderr",
     "output_type": "stream",
     "text": [
      "  0%|          | 0/1 [00:03<?, ?it/s]\n"
     ]
    },
    {
     "name": "stdout",
     "output_type": "stream",
     "text": [
      "DMMO3.SA\n"
     ]
    },
    {
     "name": "stderr",
     "output_type": "stream",
     "text": [
      "  0%|          | 0/1 [00:03<?, ?it/s]\n"
     ]
    },
    {
     "name": "stdout",
     "output_type": "stream",
     "text": [
      "GETT3.SA\n"
     ]
    },
    {
     "name": "stderr",
     "output_type": "stream",
     "text": [
      "  0%|          | 0/1 [00:03<?, ?it/s]\n"
     ]
    },
    {
     "name": "stdout",
     "output_type": "stream",
     "text": [
      "GETT4.SA\n"
     ]
    },
    {
     "name": "stderr",
     "output_type": "stream",
     "text": [
      "  0%|          | 0/1 [00:03<?, ?it/s]\n"
     ]
    },
    {
     "name": "stdout",
     "output_type": "stream",
     "text": [
      "SULA4.SA\n"
     ]
    },
    {
     "name": "stderr",
     "output_type": "stream",
     "text": [
      "  0%|          | 0/1 [00:03<?, ?it/s]\n"
     ]
    },
    {
     "name": "stdout",
     "output_type": "stream",
     "text": [
      "SULA3.SA\n"
     ]
    },
    {
     "name": "stderr",
     "output_type": "stream",
     "text": [
      "  0%|          | 0/1 [00:04<?, ?it/s]\n"
     ]
    },
    {
     "name": "stdout",
     "output_type": "stream",
     "text": [
      "CEPE5.SA\n"
     ]
    },
    {
     "name": "stderr",
     "output_type": "stream",
     "text": [
      "  0%|          | 0/1 [00:04<?, ?it/s]\n"
     ]
    },
    {
     "name": "stdout",
     "output_type": "stream",
     "text": [
      "CEPE6.SA\n"
     ]
    },
    {
     "name": "stderr",
     "output_type": "stream",
     "text": [
      "  0%|          | 0/1 [00:03<?, ?it/s]\n"
     ]
    },
    {
     "name": "stdout",
     "output_type": "stream",
     "text": [
      "BKBR3.SA\n"
     ]
    },
    {
     "name": "stderr",
     "output_type": "stream",
     "text": [
      "  0%|          | 0/1 [00:04<?, ?it/s]\n"
     ]
    },
    {
     "name": "stdout",
     "output_type": "stream",
     "text": [
      "MTIG4.SA\n"
     ]
    },
    {
     "name": "stderr",
     "output_type": "stream",
     "text": [
      "  0%|          | 0/1 [00:04<?, ?it/s]\n"
     ]
    },
    {
     "name": "stdout",
     "output_type": "stream",
     "text": [
      "BLUT4.SA\n"
     ]
    },
    {
     "name": "stderr",
     "output_type": "stream",
     "text": [
      "  0%|          | 0/1 [00:03<?, ?it/s]\n"
     ]
    },
    {
     "name": "stdout",
     "output_type": "stream",
     "text": [
      "BLUT3.SA\n"
     ]
    },
    {
     "name": "stderr",
     "output_type": "stream",
     "text": [
      "  0%|          | 0/1 [00:03<?, ?it/s]\n"
     ]
    },
    {
     "name": "stdout",
     "output_type": "stream",
     "text": [
      "MODL4.SA\n"
     ]
    },
    {
     "name": "stderr",
     "output_type": "stream",
     "text": [
      "  0%|          | 0/1 [00:03<?, ?it/s]\n"
     ]
    },
    {
     "name": "stdout",
     "output_type": "stream",
     "text": [
      "CARD3.SA\n"
     ]
    },
    {
     "name": "stderr",
     "output_type": "stream",
     "text": [
      "  0%|          | 0/1 [00:03<?, ?it/s]\n"
     ]
    },
    {
     "name": "stdout",
     "output_type": "stream",
     "text": [
      "FNCN3.SA\n"
     ]
    },
    {
     "name": "stderr",
     "output_type": "stream",
     "text": [
      "  0%|          | 0/1 [00:03<?, ?it/s]\n"
     ]
    },
    {
     "name": "stdout",
     "output_type": "stream",
     "text": [
      "LCAM3.SA\n"
     ]
    },
    {
     "name": "stderr",
     "output_type": "stream",
     "text": [
      "  0%|          | 0/1 [00:03<?, ?it/s]\n"
     ]
    },
    {
     "name": "stdout",
     "output_type": "stream",
     "text": [
      "BIDI4.SA\n"
     ]
    },
    {
     "name": "stderr",
     "output_type": "stream",
     "text": [
      "  0%|          | 0/1 [00:03<?, ?it/s]\n"
     ]
    },
    {
     "name": "stdout",
     "output_type": "stream",
     "text": [
      "BIDI3.SA\n"
     ]
    },
    {
     "name": "stderr",
     "output_type": "stream",
     "text": [
      "  0%|          | 0/1 [00:03<?, ?it/s]\n"
     ]
    },
    {
     "name": "stdout",
     "output_type": "stream",
     "text": [
      "EEEL4.SA\n"
     ]
    },
    {
     "name": "stderr",
     "output_type": "stream",
     "text": [
      "  0%|          | 0/1 [00:03<?, ?it/s]\n"
     ]
    },
    {
     "name": "stdout",
     "output_type": "stream",
     "text": [
      "EEEL3.SA\n"
     ]
    },
    {
     "name": "stderr",
     "output_type": "stream",
     "text": [
      "  0%|          | 0/1 [00:03<?, ?it/s]\n"
     ]
    },
    {
     "name": "stdout",
     "output_type": "stream",
     "text": [
      "BBRK3.SA\n"
     ]
    },
    {
     "name": "stderr",
     "output_type": "stream",
     "text": [
      "  0%|          | 0/1 [00:04<?, ?it/s]\n"
     ]
    },
    {
     "name": "stdout",
     "output_type": "stream",
     "text": [
      "CESP6.SA\n"
     ]
    },
    {
     "name": "stderr",
     "output_type": "stream",
     "text": [
      "  0%|          | 0/1 [00:03<?, ?it/s]\n"
     ]
    },
    {
     "name": "stdout",
     "output_type": "stream",
     "text": [
      "CESP3.SA\n"
     ]
    },
    {
     "name": "stderr",
     "output_type": "stream",
     "text": [
      "  0%|          | 0/1 [00:04<?, ?it/s]\n"
     ]
    },
    {
     "name": "stdout",
     "output_type": "stream",
     "text": [
      "CESP5.SA\n"
     ]
    },
    {
     "name": "stderr",
     "output_type": "stream",
     "text": [
      "  0%|          | 0/1 [00:03<?, ?it/s]\n"
     ]
    },
    {
     "name": "stdout",
     "output_type": "stream",
     "text": [
      "MOSI3.SA\n"
     ]
    },
    {
     "name": "stderr",
     "output_type": "stream",
     "text": [
      "  0%|          | 0/1 [00:04<?, ?it/s]\n"
     ]
    },
    {
     "name": "stdout",
     "output_type": "stream",
     "text": [
      "POWE3.SA\n"
     ]
    },
    {
     "name": "stderr",
     "output_type": "stream",
     "text": [
      "  0%|          | 0/1 [00:03<?, ?it/s]\n"
     ]
    },
    {
     "name": "stdout",
     "output_type": "stream",
     "text": [
      "GNDI3.SA\n"
     ]
    },
    {
     "name": "stderr",
     "output_type": "stream",
     "text": [
      "  0%|          | 0/1 [00:03<?, ?it/s]\n"
     ]
    },
    {
     "name": "stdout",
     "output_type": "stream",
     "text": [
      "LAME4.SA\n"
     ]
    },
    {
     "name": "stderr",
     "output_type": "stream",
     "text": [
      "  0%|          | 0/1 [00:03<?, ?it/s]\n"
     ]
    },
    {
     "name": "stdout",
     "output_type": "stream",
     "text": [
      "LAME3.SA\n"
     ]
    },
    {
     "name": "stderr",
     "output_type": "stream",
     "text": [
      "  0%|          | 0/1 [00:04<?, ?it/s]\n"
     ]
    },
    {
     "name": "stdout",
     "output_type": "stream",
     "text": [
      "OMGE3.SA\n"
     ]
    },
    {
     "name": "stderr",
     "output_type": "stream",
     "text": [
      "  0%|          | 0/1 [00:04<?, ?it/s]\n"
     ]
    },
    {
     "name": "stdout",
     "output_type": "stream",
     "text": [
      "IGTA3.SA\n"
     ]
    },
    {
     "name": "stderr",
     "output_type": "stream",
     "text": [
      "  0%|          | 0/1 [00:03<?, ?it/s]\n"
     ]
    },
    {
     "name": "stdout",
     "output_type": "stream",
     "text": [
      "JPSA3.SA\n"
     ]
    },
    {
     "name": "stderr",
     "output_type": "stream",
     "text": [
      "  0%|          | 0/1 [00:03<?, ?it/s]\n"
     ]
    },
    {
     "name": "stdout",
     "output_type": "stream",
     "text": [
      "BRDT3.SA\n"
     ]
    },
    {
     "name": "stderr",
     "output_type": "stream",
     "text": [
      "  0%|          | 0/1 [00:03<?, ?it/s]\n"
     ]
    },
    {
     "name": "stdout",
     "output_type": "stream",
     "text": [
      "JBDU4.SA\n"
     ]
    },
    {
     "name": "stderr",
     "output_type": "stream",
     "text": [
      "  0%|          | 0/1 [00:03<?, ?it/s]\n"
     ]
    },
    {
     "name": "stdout",
     "output_type": "stream",
     "text": [
      "JBDU3.SA\n"
     ]
    },
    {
     "name": "stderr",
     "output_type": "stream",
     "text": [
      "  0%|          | 0/1 [00:03<?, ?it/s]\n"
     ]
    },
    {
     "name": "stdout",
     "output_type": "stream",
     "text": [
      "HGTX3.SA\n"
     ]
    },
    {
     "name": "stderr",
     "output_type": "stream",
     "text": [
      "  0%|          | 0/1 [00:03<?, ?it/s]\n"
     ]
    },
    {
     "name": "stdout",
     "output_type": "stream",
     "text": [
      "CCPR3.SA\n"
     ]
    },
    {
     "name": "stderr",
     "output_type": "stream",
     "text": [
      "  0%|          | 0/1 [00:03<?, ?it/s]\n"
     ]
    },
    {
     "name": "stdout",
     "output_type": "stream",
     "text": [
      "DTEX3.SA\n"
     ]
    },
    {
     "name": "stderr",
     "output_type": "stream",
     "text": [
      "  0%|          | 0/1 [00:03<?, ?it/s]\n"
     ]
    },
    {
     "name": "stdout",
     "output_type": "stream",
     "text": [
      "VVAR3.SA\n"
     ]
    },
    {
     "name": "stderr",
     "output_type": "stream",
     "text": [
      "  0%|          | 0/1 [00:03<?, ?it/s]\n"
     ]
    },
    {
     "name": "stdout",
     "output_type": "stream",
     "text": [
      "PNVL4.SA\n"
     ]
    },
    {
     "name": "stderr",
     "output_type": "stream",
     "text": [
      "  0%|          | 0/1 [00:03<?, ?it/s]\n"
     ]
    },
    {
     "name": "stdout",
     "output_type": "stream",
     "text": [
      "TESA3.SA\n"
     ]
    },
    {
     "name": "stderr",
     "output_type": "stream",
     "text": [
      "  0%|          | 0/1 [00:03<?, ?it/s]\n"
     ]
    },
    {
     "name": "stdout",
     "output_type": "stream",
     "text": [
      "BTOW3.SA\n"
     ]
    },
    {
     "name": "stderr",
     "output_type": "stream",
     "text": [
      "  0%|          | 0/1 [00:03<?, ?it/s]\n"
     ]
    },
    {
     "name": "stdout",
     "output_type": "stream",
     "text": [
      "LINX3.SA\n"
     ]
    },
    {
     "name": "stderr",
     "output_type": "stream",
     "text": [
      "  0%|          | 0/1 [00:03<?, ?it/s]\n"
     ]
    },
    {
     "name": "stdout",
     "output_type": "stream",
     "text": [
      "BTTL3.SA\n"
     ]
    },
    {
     "name": "stderr",
     "output_type": "stream",
     "text": [
      "  0%|          | 0/1 [00:03<?, ?it/s]\n"
     ]
    },
    {
     "name": "stdout",
     "output_type": "stream",
     "text": [
      "GPCP3.SA\n"
     ]
    },
    {
     "name": "stderr",
     "output_type": "stream",
     "text": [
      "  0%|          | 0/1 [00:03<?, ?it/s]\n"
     ]
    },
    {
     "name": "stdout",
     "output_type": "stream",
     "text": [
      "GPCP4.SA\n"
     ]
    },
    {
     "name": "stderr",
     "output_type": "stream",
     "text": [
      "  0%|          | 0/1 [00:03<?, ?it/s]\n"
     ]
    },
    {
     "name": "stdout",
     "output_type": "stream",
     "text": [
      "SMLS3.SA\n"
     ]
    },
    {
     "name": "stderr",
     "output_type": "stream",
     "text": [
      "  0%|          | 0/1 [00:03<?, ?it/s]\n"
     ]
    },
    {
     "name": "stdout",
     "output_type": "stream",
     "text": [
      "MMXM3.SA\n"
     ]
    },
    {
     "name": "stderr",
     "output_type": "stream",
     "text": [
      "  0%|          | 0/1 [00:04<?, ?it/s]\n"
     ]
    },
    {
     "name": "stdout",
     "output_type": "stream",
     "text": [
      "BSEV3.SA\n"
     ]
    },
    {
     "name": "stderr",
     "output_type": "stream",
     "text": [
      "  0%|          | 0/1 [00:03<?, ?it/s]\n"
     ]
    },
    {
     "name": "stdout",
     "output_type": "stream",
     "text": [
      "CNTO3.SA\n"
     ]
    },
    {
     "name": "stderr",
     "output_type": "stream",
     "text": [
      "  0%|          | 0/1 [00:03<?, ?it/s]\n"
     ]
    },
    {
     "name": "stdout",
     "output_type": "stream",
     "text": [
      "TIET4.SA\n"
     ]
    },
    {
     "name": "stderr",
     "output_type": "stream",
     "text": [
      "  0%|          | 0/1 [00:03<?, ?it/s]\n"
     ]
    },
    {
     "name": "stdout",
     "output_type": "stream",
     "text": [
      "TIET3.SA\n"
     ]
    },
    {
     "name": "stderr",
     "output_type": "stream",
     "text": [
      "  0%|          | 0/1 [00:03<?, ?it/s]\n"
     ]
    },
    {
     "name": "stdout",
     "output_type": "stream",
     "text": [
      "CEPE3.SA\n"
     ]
    },
    {
     "name": "stderr",
     "output_type": "stream",
     "text": [
      "  0%|          | 0/1 [00:03<?, ?it/s]\n"
     ]
    },
    {
     "name": "stdout",
     "output_type": "stream",
     "text": [
      "CALI4.SA\n"
     ]
    },
    {
     "name": "stderr",
     "output_type": "stream",
     "text": [
      "  0%|          | 0/1 [00:03<?, ?it/s]\n"
     ]
    },
    {
     "name": "stdout",
     "output_type": "stream",
     "text": [
      "BPAR3.SA\n"
     ]
    },
    {
     "name": "stderr",
     "output_type": "stream",
     "text": [
      "  0%|          | 0/1 [00:04<?, ?it/s]\n"
     ]
    },
    {
     "name": "stdout",
     "output_type": "stream",
     "text": [
      "APTI4.SA\n"
     ]
    },
    {
     "name": "stderr",
     "output_type": "stream",
     "text": [
      "  0%|          | 0/1 [00:04<?, ?it/s]\n"
     ]
    },
    {
     "name": "stdout",
     "output_type": "stream",
     "text": [
      "WIZS3.SA\n"
     ]
    },
    {
     "name": "stderr",
     "output_type": "stream",
     "text": [
      "  0%|          | 0/1 [00:03<?, ?it/s]\n"
     ]
    },
    {
     "name": "stdout",
     "output_type": "stream",
     "text": [
      "LLIS3.SA\n"
     ]
    },
    {
     "name": "stderr",
     "output_type": "stream",
     "text": [
      "  0%|          | 0/1 [00:03<?, ?it/s]\n"
     ]
    },
    {
     "name": "stdout",
     "output_type": "stream",
     "text": [
      "BRML3.SA\n"
     ]
    },
    {
     "name": "stderr",
     "output_type": "stream",
     "text": [
      "  0%|          | 0/1 [00:03<?, ?it/s]\n"
     ]
    },
    {
     "name": "stdout",
     "output_type": "stream",
     "text": [
      "DMMO3.SA\n"
     ]
    },
    {
     "name": "stderr",
     "output_type": "stream",
     "text": [
      "  0%|          | 0/1 [00:03<?, ?it/s]\n"
     ]
    },
    {
     "name": "stdout",
     "output_type": "stream",
     "text": [
      "GETT3.SA\n"
     ]
    },
    {
     "name": "stderr",
     "output_type": "stream",
     "text": [
      "  0%|          | 0/1 [00:03<?, ?it/s]\n"
     ]
    },
    {
     "name": "stdout",
     "output_type": "stream",
     "text": [
      "GETT4.SA\n"
     ]
    },
    {
     "name": "stderr",
     "output_type": "stream",
     "text": [
      "  0%|          | 0/1 [00:03<?, ?it/s]\n"
     ]
    },
    {
     "name": "stdout",
     "output_type": "stream",
     "text": [
      "SULA4.SA\n"
     ]
    },
    {
     "name": "stderr",
     "output_type": "stream",
     "text": [
      "  0%|          | 0/1 [00:03<?, ?it/s]\n"
     ]
    },
    {
     "name": "stdout",
     "output_type": "stream",
     "text": [
      "SULA3.SA\n"
     ]
    },
    {
     "name": "stderr",
     "output_type": "stream",
     "text": [
      "  0%|          | 0/1 [00:03<?, ?it/s]\n"
     ]
    },
    {
     "name": "stdout",
     "output_type": "stream",
     "text": [
      "CEPE5.SA\n"
     ]
    },
    {
     "name": "stderr",
     "output_type": "stream",
     "text": [
      "  0%|          | 0/1 [00:04<?, ?it/s]\n"
     ]
    },
    {
     "name": "stdout",
     "output_type": "stream",
     "text": [
      "CEPE6.SA\n"
     ]
    },
    {
     "name": "stderr",
     "output_type": "stream",
     "text": [
      "  0%|          | 0/1 [00:03<?, ?it/s]\n"
     ]
    },
    {
     "name": "stdout",
     "output_type": "stream",
     "text": [
      "BKBR3.SA\n"
     ]
    },
    {
     "name": "stderr",
     "output_type": "stream",
     "text": [
      "  0%|          | 0/1 [00:03<?, ?it/s]\n"
     ]
    },
    {
     "name": "stdout",
     "output_type": "stream",
     "text": [
      "MTIG4.SA\n"
     ]
    },
    {
     "name": "stderr",
     "output_type": "stream",
     "text": [
      "  0%|          | 0/1 [00:04<?, ?it/s]\n"
     ]
    },
    {
     "name": "stdout",
     "output_type": "stream",
     "text": [
      "BLUT4.SA\n"
     ]
    },
    {
     "name": "stderr",
     "output_type": "stream",
     "text": [
      "  0%|          | 0/1 [00:03<?, ?it/s]\n"
     ]
    },
    {
     "name": "stdout",
     "output_type": "stream",
     "text": [
      "BLUT3.SA\n"
     ]
    },
    {
     "name": "stderr",
     "output_type": "stream",
     "text": [
      "  0%|          | 0/1 [00:03<?, ?it/s]\n"
     ]
    },
    {
     "name": "stdout",
     "output_type": "stream",
     "text": [
      "MODL4.SA\n"
     ]
    },
    {
     "name": "stderr",
     "output_type": "stream",
     "text": [
      "  0%|          | 0/1 [00:03<?, ?it/s]\n"
     ]
    },
    {
     "name": "stdout",
     "output_type": "stream",
     "text": [
      "CARD3.SA\n"
     ]
    },
    {
     "name": "stderr",
     "output_type": "stream",
     "text": [
      "  0%|          | 0/1 [00:04<?, ?it/s]\n"
     ]
    },
    {
     "name": "stdout",
     "output_type": "stream",
     "text": [
      "FNCN3.SA\n"
     ]
    },
    {
     "name": "stderr",
     "output_type": "stream",
     "text": [
      "  0%|          | 0/1 [00:03<?, ?it/s]\n"
     ]
    },
    {
     "name": "stdout",
     "output_type": "stream",
     "text": [
      "LCAM3.SA\n"
     ]
    },
    {
     "name": "stderr",
     "output_type": "stream",
     "text": [
      "  0%|          | 0/1 [00:03<?, ?it/s]\n"
     ]
    },
    {
     "name": "stdout",
     "output_type": "stream",
     "text": [
      "BIDI4.SA\n"
     ]
    },
    {
     "name": "stderr",
     "output_type": "stream",
     "text": [
      "  0%|          | 0/1 [00:03<?, ?it/s]\n"
     ]
    },
    {
     "name": "stdout",
     "output_type": "stream",
     "text": [
      "BIDI3.SA\n"
     ]
    },
    {
     "name": "stderr",
     "output_type": "stream",
     "text": [
      "  0%|          | 0/1 [00:04<?, ?it/s]\n"
     ]
    },
    {
     "name": "stdout",
     "output_type": "stream",
     "text": [
      "EEEL4.SA\n"
     ]
    },
    {
     "name": "stderr",
     "output_type": "stream",
     "text": [
      "  0%|          | 0/1 [00:03<?, ?it/s]\n"
     ]
    },
    {
     "name": "stdout",
     "output_type": "stream",
     "text": [
      "EEEL3.SA\n"
     ]
    },
    {
     "name": "stderr",
     "output_type": "stream",
     "text": [
      "  0%|          | 0/1 [00:03<?, ?it/s]\n"
     ]
    },
    {
     "name": "stdout",
     "output_type": "stream",
     "text": [
      "BBRK3.SA\n"
     ]
    },
    {
     "name": "stderr",
     "output_type": "stream",
     "text": [
      "  0%|          | 0/1 [00:04<?, ?it/s]\n"
     ]
    },
    {
     "name": "stdout",
     "output_type": "stream",
     "text": [
      "CESP6.SA\n"
     ]
    },
    {
     "name": "stderr",
     "output_type": "stream",
     "text": [
      "  0%|          | 0/1 [00:03<?, ?it/s]\n"
     ]
    },
    {
     "name": "stdout",
     "output_type": "stream",
     "text": [
      "CESP3.SA\n"
     ]
    },
    {
     "name": "stderr",
     "output_type": "stream",
     "text": [
      "  0%|          | 0/1 [00:03<?, ?it/s]\n"
     ]
    },
    {
     "name": "stdout",
     "output_type": "stream",
     "text": [
      "CESP5.SA\n"
     ]
    },
    {
     "name": "stderr",
     "output_type": "stream",
     "text": [
      "  0%|          | 0/1 [00:03<?, ?it/s]\n"
     ]
    },
    {
     "name": "stdout",
     "output_type": "stream",
     "text": [
      "MOSI3.SA\n"
     ]
    },
    {
     "name": "stderr",
     "output_type": "stream",
     "text": [
      "  0%|          | 0/1 [00:03<?, ?it/s]\n"
     ]
    },
    {
     "name": "stdout",
     "output_type": "stream",
     "text": [
      "POWE3.SA\n"
     ]
    },
    {
     "name": "stderr",
     "output_type": "stream",
     "text": [
      "  0%|          | 0/1 [00:03<?, ?it/s]\n"
     ]
    },
    {
     "name": "stdout",
     "output_type": "stream",
     "text": [
      "GNDI3.SA\n"
     ]
    },
    {
     "name": "stderr",
     "output_type": "stream",
     "text": [
      "  0%|          | 0/1 [00:03<?, ?it/s]\n"
     ]
    },
    {
     "name": "stdout",
     "output_type": "stream",
     "text": [
      "LAME4.SA\n"
     ]
    },
    {
     "name": "stderr",
     "output_type": "stream",
     "text": [
      "  0%|          | 0/1 [00:04<?, ?it/s]\n"
     ]
    },
    {
     "name": "stdout",
     "output_type": "stream",
     "text": [
      "LAME3.SA\n"
     ]
    },
    {
     "name": "stderr",
     "output_type": "stream",
     "text": [
      "  0%|          | 0/1 [00:03<?, ?it/s]\n"
     ]
    },
    {
     "name": "stdout",
     "output_type": "stream",
     "text": [
      "OMGE3.SA\n"
     ]
    },
    {
     "name": "stderr",
     "output_type": "stream",
     "text": [
      "  0%|          | 0/1 [00:03<?, ?it/s]\n"
     ]
    },
    {
     "name": "stdout",
     "output_type": "stream",
     "text": [
      "IGTA3.SA\n"
     ]
    },
    {
     "name": "stderr",
     "output_type": "stream",
     "text": [
      "  0%|          | 0/1 [00:03<?, ?it/s]\n"
     ]
    },
    {
     "name": "stdout",
     "output_type": "stream",
     "text": [
      "JPSA3.SA\n"
     ]
    },
    {
     "name": "stderr",
     "output_type": "stream",
     "text": [
      "  0%|          | 0/1 [00:03<?, ?it/s]\n"
     ]
    },
    {
     "name": "stdout",
     "output_type": "stream",
     "text": [
      "BRDT3.SA\n"
     ]
    },
    {
     "name": "stderr",
     "output_type": "stream",
     "text": [
      "  0%|          | 0/1 [00:03<?, ?it/s]\n"
     ]
    },
    {
     "name": "stdout",
     "output_type": "stream",
     "text": [
      "JBDU4.SA\n"
     ]
    },
    {
     "name": "stderr",
     "output_type": "stream",
     "text": [
      "  0%|          | 0/1 [00:03<?, ?it/s]\n"
     ]
    },
    {
     "name": "stdout",
     "output_type": "stream",
     "text": [
      "JBDU3.SA\n"
     ]
    },
    {
     "name": "stderr",
     "output_type": "stream",
     "text": [
      "  0%|          | 0/1 [00:03<?, ?it/s]\n"
     ]
    },
    {
     "name": "stdout",
     "output_type": "stream",
     "text": [
      "HGTX3.SA\n"
     ]
    },
    {
     "name": "stderr",
     "output_type": "stream",
     "text": [
      "  0%|          | 0/1 [00:03<?, ?it/s]\n"
     ]
    },
    {
     "name": "stdout",
     "output_type": "stream",
     "text": [
      "CCPR3.SA\n"
     ]
    },
    {
     "name": "stderr",
     "output_type": "stream",
     "text": [
      "  0%|          | 0/1 [00:04<?, ?it/s]\n"
     ]
    },
    {
     "name": "stdout",
     "output_type": "stream",
     "text": [
      "DTEX3.SA\n"
     ]
    },
    {
     "name": "stderr",
     "output_type": "stream",
     "text": [
      "  0%|          | 0/1 [00:03<?, ?it/s]\n"
     ]
    },
    {
     "name": "stdout",
     "output_type": "stream",
     "text": [
      "VVAR3.SA\n"
     ]
    },
    {
     "name": "stderr",
     "output_type": "stream",
     "text": [
      "  0%|          | 0/1 [00:03<?, ?it/s]\n"
     ]
    },
    {
     "name": "stdout",
     "output_type": "stream",
     "text": [
      "PNVL4.SA\n"
     ]
    },
    {
     "name": "stderr",
     "output_type": "stream",
     "text": [
      "  0%|          | 0/1 [00:03<?, ?it/s]\n"
     ]
    },
    {
     "name": "stdout",
     "output_type": "stream",
     "text": [
      "TESA3.SA\n"
     ]
    },
    {
     "name": "stderr",
     "output_type": "stream",
     "text": [
      "  0%|          | 0/1 [00:03<?, ?it/s]\n"
     ]
    },
    {
     "name": "stdout",
     "output_type": "stream",
     "text": [
      "BTOW3.SA\n"
     ]
    },
    {
     "name": "stderr",
     "output_type": "stream",
     "text": [
      "  0%|          | 0/1 [00:03<?, ?it/s]\n"
     ]
    },
    {
     "name": "stdout",
     "output_type": "stream",
     "text": [
      "LINX3.SA\n"
     ]
    },
    {
     "name": "stderr",
     "output_type": "stream",
     "text": [
      "  0%|          | 0/1 [00:03<?, ?it/s]\n"
     ]
    },
    {
     "name": "stdout",
     "output_type": "stream",
     "text": [
      "BTTL3.SA\n"
     ]
    },
    {
     "name": "stderr",
     "output_type": "stream",
     "text": [
      "  0%|          | 0/1 [00:03<?, ?it/s]\n"
     ]
    },
    {
     "name": "stdout",
     "output_type": "stream",
     "text": [
      "GPCP3.SA\n"
     ]
    },
    {
     "name": "stderr",
     "output_type": "stream",
     "text": [
      "  0%|          | 0/1 [00:03<?, ?it/s]\n"
     ]
    },
    {
     "name": "stdout",
     "output_type": "stream",
     "text": [
      "GPCP4.SA\n"
     ]
    },
    {
     "name": "stderr",
     "output_type": "stream",
     "text": [
      "  0%|          | 0/1 [00:04<?, ?it/s]\n"
     ]
    },
    {
     "name": "stdout",
     "output_type": "stream",
     "text": [
      "SMLS3.SA\n"
     ]
    },
    {
     "name": "stderr",
     "output_type": "stream",
     "text": [
      "  0%|          | 0/1 [00:03<?, ?it/s]\n"
     ]
    },
    {
     "name": "stdout",
     "output_type": "stream",
     "text": [
      "MMXM3.SA\n"
     ]
    },
    {
     "name": "stderr",
     "output_type": "stream",
     "text": [
      "  0%|          | 0/1 [00:03<?, ?it/s]\n"
     ]
    },
    {
     "name": "stdout",
     "output_type": "stream",
     "text": [
      "BSEV3.SA\n"
     ]
    },
    {
     "name": "stderr",
     "output_type": "stream",
     "text": [
      "  0%|          | 0/1 [00:03<?, ?it/s]\n"
     ]
    },
    {
     "name": "stdout",
     "output_type": "stream",
     "text": [
      "CNTO3.SA\n"
     ]
    },
    {
     "name": "stderr",
     "output_type": "stream",
     "text": [
      "  0%|          | 0/1 [00:03<?, ?it/s]\n"
     ]
    },
    {
     "name": "stdout",
     "output_type": "stream",
     "text": [
      "TIET4.SA\n"
     ]
    },
    {
     "name": "stderr",
     "output_type": "stream",
     "text": [
      "  0%|          | 0/1 [00:03<?, ?it/s]\n"
     ]
    },
    {
     "name": "stdout",
     "output_type": "stream",
     "text": [
      "TIET3.SA\n"
     ]
    },
    {
     "name": "stderr",
     "output_type": "stream",
     "text": [
      "  0%|          | 0/1 [00:03<?, ?it/s]\n"
     ]
    },
    {
     "name": "stdout",
     "output_type": "stream",
     "text": [
      "CEPE3.SA\n"
     ]
    },
    {
     "name": "stderr",
     "output_type": "stream",
     "text": [
      "  0%|          | 0/1 [00:04<?, ?it/s]\n"
     ]
    },
    {
     "name": "stdout",
     "output_type": "stream",
     "text": [
      "CALI4.SA\n"
     ]
    },
    {
     "name": "stderr",
     "output_type": "stream",
     "text": [
      "  0%|          | 0/1 [00:03<?, ?it/s]\n"
     ]
    },
    {
     "name": "stdout",
     "output_type": "stream",
     "text": [
      "BPAR3.SA\n"
     ]
    },
    {
     "name": "stderr",
     "output_type": "stream",
     "text": [
      "  0%|          | 0/1 [00:03<?, ?it/s]\n"
     ]
    },
    {
     "name": "stdout",
     "output_type": "stream",
     "text": [
      "APTI4.SA\n"
     ]
    },
    {
     "name": "stderr",
     "output_type": "stream",
     "text": [
      "  0%|          | 0/1 [00:03<?, ?it/s]\n"
     ]
    },
    {
     "name": "stdout",
     "output_type": "stream",
     "text": [
      "WIZS3.SA\n"
     ]
    },
    {
     "name": "stderr",
     "output_type": "stream",
     "text": [
      "  0%|          | 0/1 [00:03<?, ?it/s]\n"
     ]
    },
    {
     "name": "stdout",
     "output_type": "stream",
     "text": [
      "LLIS3.SA\n"
     ]
    },
    {
     "name": "stderr",
     "output_type": "stream",
     "text": [
      "  0%|          | 0/1 [00:03<?, ?it/s]\n"
     ]
    },
    {
     "name": "stdout",
     "output_type": "stream",
     "text": [
      "BRML3.SA\n"
     ]
    },
    {
     "name": "stderr",
     "output_type": "stream",
     "text": [
      "  0%|          | 0/1 [00:03<?, ?it/s]\n"
     ]
    },
    {
     "name": "stdout",
     "output_type": "stream",
     "text": [
      "DMMO3.SA\n"
     ]
    },
    {
     "name": "stderr",
     "output_type": "stream",
     "text": [
      "  0%|          | 0/1 [00:03<?, ?it/s]\n"
     ]
    },
    {
     "name": "stdout",
     "output_type": "stream",
     "text": [
      "GETT3.SA\n"
     ]
    },
    {
     "name": "stderr",
     "output_type": "stream",
     "text": [
      "  0%|          | 0/1 [00:03<?, ?it/s]\n"
     ]
    },
    {
     "name": "stdout",
     "output_type": "stream",
     "text": [
      "GETT4.SA\n"
     ]
    },
    {
     "name": "stderr",
     "output_type": "stream",
     "text": [
      "  0%|          | 0/1 [00:03<?, ?it/s]\n"
     ]
    },
    {
     "name": "stdout",
     "output_type": "stream",
     "text": [
      "SULA4.SA\n"
     ]
    },
    {
     "name": "stderr",
     "output_type": "stream",
     "text": [
      "  0%|          | 0/1 [00:03<?, ?it/s]\n"
     ]
    },
    {
     "name": "stdout",
     "output_type": "stream",
     "text": [
      "SULA3.SA\n"
     ]
    },
    {
     "name": "stderr",
     "output_type": "stream",
     "text": [
      "  0%|          | 0/1 [00:03<?, ?it/s]\n"
     ]
    },
    {
     "name": "stdout",
     "output_type": "stream",
     "text": [
      "CEPE5.SA\n"
     ]
    },
    {
     "name": "stderr",
     "output_type": "stream",
     "text": [
      "  0%|          | 0/1 [00:03<?, ?it/s]\n"
     ]
    },
    {
     "name": "stdout",
     "output_type": "stream",
     "text": [
      "CEPE6.SA\n"
     ]
    },
    {
     "name": "stderr",
     "output_type": "stream",
     "text": [
      "  0%|          | 0/1 [00:03<?, ?it/s]\n"
     ]
    },
    {
     "name": "stdout",
     "output_type": "stream",
     "text": [
      "BKBR3.SA\n"
     ]
    },
    {
     "name": "stderr",
     "output_type": "stream",
     "text": [
      "  0%|          | 0/1 [00:03<?, ?it/s]\n"
     ]
    },
    {
     "name": "stdout",
     "output_type": "stream",
     "text": [
      "MTIG4.SA\n"
     ]
    },
    {
     "name": "stderr",
     "output_type": "stream",
     "text": [
      "  0%|          | 0/1 [00:03<?, ?it/s]\n"
     ]
    },
    {
     "name": "stdout",
     "output_type": "stream",
     "text": [
      "BLUT4.SA\n"
     ]
    },
    {
     "name": "stderr",
     "output_type": "stream",
     "text": [
      "  0%|          | 0/1 [00:03<?, ?it/s]\n"
     ]
    },
    {
     "name": "stdout",
     "output_type": "stream",
     "text": [
      "BLUT3.SA\n"
     ]
    },
    {
     "name": "stderr",
     "output_type": "stream",
     "text": [
      "  0%|          | 0/1 [00:03<?, ?it/s]\n"
     ]
    },
    {
     "name": "stdout",
     "output_type": "stream",
     "text": [
      "MODL4.SA\n"
     ]
    },
    {
     "name": "stderr",
     "output_type": "stream",
     "text": [
      "  0%|          | 0/1 [00:03<?, ?it/s]\n"
     ]
    },
    {
     "name": "stdout",
     "output_type": "stream",
     "text": [
      "CARD3.SA\n"
     ]
    },
    {
     "name": "stderr",
     "output_type": "stream",
     "text": [
      "  0%|          | 0/1 [00:03<?, ?it/s]\n"
     ]
    },
    {
     "name": "stdout",
     "output_type": "stream",
     "text": [
      "FNCN3.SA\n"
     ]
    },
    {
     "name": "stderr",
     "output_type": "stream",
     "text": [
      "  0%|          | 0/1 [00:03<?, ?it/s]\n"
     ]
    },
    {
     "name": "stdout",
     "output_type": "stream",
     "text": [
      "LCAM3.SA\n"
     ]
    },
    {
     "name": "stderr",
     "output_type": "stream",
     "text": [
      "  0%|          | 0/1 [00:03<?, ?it/s]\n"
     ]
    },
    {
     "name": "stdout",
     "output_type": "stream",
     "text": [
      "BIDI4.SA\n"
     ]
    },
    {
     "name": "stderr",
     "output_type": "stream",
     "text": [
      "  0%|          | 0/1 [00:03<?, ?it/s]\n"
     ]
    },
    {
     "name": "stdout",
     "output_type": "stream",
     "text": [
      "BIDI3.SA\n"
     ]
    },
    {
     "name": "stderr",
     "output_type": "stream",
     "text": [
      "  0%|          | 0/1 [00:03<?, ?it/s]\n"
     ]
    },
    {
     "name": "stdout",
     "output_type": "stream",
     "text": [
      "EEEL4.SA\n"
     ]
    },
    {
     "name": "stderr",
     "output_type": "stream",
     "text": [
      "  0%|          | 0/1 [00:03<?, ?it/s]\n"
     ]
    },
    {
     "name": "stdout",
     "output_type": "stream",
     "text": [
      "EEEL3.SA\n"
     ]
    },
    {
     "name": "stderr",
     "output_type": "stream",
     "text": [
      "  0%|          | 0/1 [00:03<?, ?it/s]\n"
     ]
    },
    {
     "name": "stdout",
     "output_type": "stream",
     "text": [
      "BBRK3.SA\n"
     ]
    },
    {
     "name": "stderr",
     "output_type": "stream",
     "text": [
      "  0%|          | 0/1 [00:03<?, ?it/s]\n"
     ]
    },
    {
     "name": "stdout",
     "output_type": "stream",
     "text": [
      "CESP6.SA\n"
     ]
    },
    {
     "name": "stderr",
     "output_type": "stream",
     "text": [
      "  0%|          | 0/1 [00:03<?, ?it/s]\n"
     ]
    },
    {
     "name": "stdout",
     "output_type": "stream",
     "text": [
      "CESP3.SA\n"
     ]
    },
    {
     "name": "stderr",
     "output_type": "stream",
     "text": [
      "  0%|          | 0/1 [00:04<?, ?it/s]\n"
     ]
    },
    {
     "name": "stdout",
     "output_type": "stream",
     "text": [
      "CESP5.SA\n"
     ]
    },
    {
     "name": "stderr",
     "output_type": "stream",
     "text": [
      "  0%|          | 0/1 [00:03<?, ?it/s]\n"
     ]
    },
    {
     "name": "stdout",
     "output_type": "stream",
     "text": [
      "MOSI3.SA\n"
     ]
    },
    {
     "name": "stderr",
     "output_type": "stream",
     "text": [
      "  0%|          | 0/1 [00:03<?, ?it/s]\n"
     ]
    },
    {
     "name": "stdout",
     "output_type": "stream",
     "text": [
      "POWE3.SA\n"
     ]
    },
    {
     "name": "stderr",
     "output_type": "stream",
     "text": [
      "  0%|          | 0/1 [00:04<?, ?it/s]\n"
     ]
    },
    {
     "name": "stdout",
     "output_type": "stream",
     "text": [
      "GNDI3.SA\n"
     ]
    },
    {
     "name": "stderr",
     "output_type": "stream",
     "text": [
      "  0%|          | 0/1 [00:03<?, ?it/s]\n"
     ]
    },
    {
     "name": "stdout",
     "output_type": "stream",
     "text": [
      "LAME4.SA\n"
     ]
    },
    {
     "name": "stderr",
     "output_type": "stream",
     "text": [
      "  0%|          | 0/1 [00:04<?, ?it/s]\n"
     ]
    },
    {
     "name": "stdout",
     "output_type": "stream",
     "text": [
      "LAME3.SA\n"
     ]
    },
    {
     "name": "stderr",
     "output_type": "stream",
     "text": [
      "  0%|          | 0/1 [00:03<?, ?it/s]\n"
     ]
    },
    {
     "name": "stdout",
     "output_type": "stream",
     "text": [
      "OMGE3.SA\n"
     ]
    },
    {
     "name": "stderr",
     "output_type": "stream",
     "text": [
      "  0%|          | 0/1 [00:03<?, ?it/s]\n"
     ]
    },
    {
     "name": "stdout",
     "output_type": "stream",
     "text": [
      "IGTA3.SA\n"
     ]
    },
    {
     "name": "stderr",
     "output_type": "stream",
     "text": [
      "  0%|          | 0/1 [00:03<?, ?it/s]\n"
     ]
    },
    {
     "name": "stdout",
     "output_type": "stream",
     "text": [
      "JPSA3.SA\n"
     ]
    },
    {
     "name": "stderr",
     "output_type": "stream",
     "text": [
      "  0%|          | 0/1 [00:03<?, ?it/s]\n"
     ]
    },
    {
     "name": "stdout",
     "output_type": "stream",
     "text": [
      "BRDT3.SA\n"
     ]
    },
    {
     "name": "stderr",
     "output_type": "stream",
     "text": [
      "  0%|          | 0/1 [00:03<?, ?it/s]\n"
     ]
    },
    {
     "name": "stdout",
     "output_type": "stream",
     "text": [
      "JBDU4.SA\n"
     ]
    },
    {
     "name": "stderr",
     "output_type": "stream",
     "text": [
      "  0%|          | 0/1 [00:03<?, ?it/s]\n"
     ]
    },
    {
     "name": "stdout",
     "output_type": "stream",
     "text": [
      "JBDU3.SA\n"
     ]
    },
    {
     "name": "stderr",
     "output_type": "stream",
     "text": [
      "  0%|          | 0/1 [00:03<?, ?it/s]\n"
     ]
    },
    {
     "name": "stdout",
     "output_type": "stream",
     "text": [
      "HGTX3.SA\n"
     ]
    },
    {
     "name": "stderr",
     "output_type": "stream",
     "text": [
      "  0%|          | 0/1 [00:04<?, ?it/s]\n"
     ]
    },
    {
     "name": "stdout",
     "output_type": "stream",
     "text": [
      "CCPR3.SA\n"
     ]
    },
    {
     "name": "stderr",
     "output_type": "stream",
     "text": [
      "  0%|          | 0/1 [00:03<?, ?it/s]\n"
     ]
    },
    {
     "name": "stdout",
     "output_type": "stream",
     "text": [
      "DTEX3.SA\n"
     ]
    },
    {
     "name": "stderr",
     "output_type": "stream",
     "text": [
      "  0%|          | 0/1 [00:04<?, ?it/s]\n"
     ]
    },
    {
     "name": "stdout",
     "output_type": "stream",
     "text": [
      "VVAR3.SA\n"
     ]
    },
    {
     "name": "stderr",
     "output_type": "stream",
     "text": [
      "  0%|          | 0/1 [00:03<?, ?it/s]\n"
     ]
    },
    {
     "name": "stdout",
     "output_type": "stream",
     "text": [
      "PNVL4.SA\n"
     ]
    },
    {
     "name": "stderr",
     "output_type": "stream",
     "text": [
      "  0%|          | 0/1 [00:03<?, ?it/s]\n"
     ]
    },
    {
     "name": "stdout",
     "output_type": "stream",
     "text": [
      "TESA3.SA\n"
     ]
    },
    {
     "name": "stderr",
     "output_type": "stream",
     "text": [
      "  0%|          | 0/1 [00:03<?, ?it/s]\n"
     ]
    },
    {
     "name": "stdout",
     "output_type": "stream",
     "text": [
      "BTOW3.SA\n"
     ]
    },
    {
     "name": "stderr",
     "output_type": "stream",
     "text": [
      "  0%|          | 0/1 [00:04<?, ?it/s]\n"
     ]
    },
    {
     "name": "stdout",
     "output_type": "stream",
     "text": [
      "LINX3.SA\n"
     ]
    },
    {
     "name": "stderr",
     "output_type": "stream",
     "text": [
      "  0%|          | 0/1 [00:03<?, ?it/s]\n"
     ]
    },
    {
     "name": "stdout",
     "output_type": "stream",
     "text": [
      "BTTL3.SA\n"
     ]
    },
    {
     "name": "stderr",
     "output_type": "stream",
     "text": [
      "  0%|          | 0/1 [00:03<?, ?it/s]\n"
     ]
    },
    {
     "name": "stdout",
     "output_type": "stream",
     "text": [
      "GPCP3.SA\n"
     ]
    },
    {
     "name": "stderr",
     "output_type": "stream",
     "text": [
      "  0%|          | 0/1 [00:03<?, ?it/s]\n"
     ]
    },
    {
     "name": "stdout",
     "output_type": "stream",
     "text": [
      "GPCP4.SA\n"
     ]
    },
    {
     "name": "stderr",
     "output_type": "stream",
     "text": [
      "  0%|          | 0/1 [00:03<?, ?it/s]\n"
     ]
    },
    {
     "name": "stdout",
     "output_type": "stream",
     "text": [
      "SMLS3.SA\n"
     ]
    },
    {
     "name": "stderr",
     "output_type": "stream",
     "text": [
      "  0%|          | 0/1 [00:03<?, ?it/s]\n"
     ]
    },
    {
     "name": "stdout",
     "output_type": "stream",
     "text": [
      "MMXM3.SA\n"
     ]
    },
    {
     "name": "stderr",
     "output_type": "stream",
     "text": [
      "  0%|          | 0/1 [00:03<?, ?it/s]\n"
     ]
    },
    {
     "name": "stdout",
     "output_type": "stream",
     "text": [
      "BSEV3.SA\n"
     ]
    },
    {
     "name": "stderr",
     "output_type": "stream",
     "text": [
      "  0%|          | 0/1 [00:03<?, ?it/s]\n"
     ]
    },
    {
     "name": "stdout",
     "output_type": "stream",
     "text": [
      "CNTO3.SA\n"
     ]
    },
    {
     "name": "stderr",
     "output_type": "stream",
     "text": [
      "  0%|          | 0/1 [00:04<?, ?it/s]\n"
     ]
    },
    {
     "name": "stdout",
     "output_type": "stream",
     "text": [
      "TIET4.SA\n"
     ]
    },
    {
     "name": "stderr",
     "output_type": "stream",
     "text": [
      "  0%|          | 0/1 [00:03<?, ?it/s]\n"
     ]
    },
    {
     "name": "stdout",
     "output_type": "stream",
     "text": [
      "TIET3.SA\n"
     ]
    },
    {
     "name": "stderr",
     "output_type": "stream",
     "text": [
      "  0%|          | 0/1 [00:04<?, ?it/s]\n"
     ]
    },
    {
     "name": "stdout",
     "output_type": "stream",
     "text": [
      "CEPE3.SA\n"
     ]
    },
    {
     "name": "stderr",
     "output_type": "stream",
     "text": [
      "  0%|          | 0/1 [00:03<?, ?it/s]\n"
     ]
    },
    {
     "name": "stdout",
     "output_type": "stream",
     "text": [
      "CALI4.SA\n"
     ]
    },
    {
     "name": "stderr",
     "output_type": "stream",
     "text": [
      "  0%|          | 0/1 [00:03<?, ?it/s]\n"
     ]
    },
    {
     "name": "stdout",
     "output_type": "stream",
     "text": [
      "BPAR3.SA\n"
     ]
    },
    {
     "name": "stderr",
     "output_type": "stream",
     "text": [
      "  0%|          | 0/1 [00:04<?, ?it/s]\n"
     ]
    },
    {
     "name": "stdout",
     "output_type": "stream",
     "text": [
      "APTI4.SA\n"
     ]
    },
    {
     "name": "stderr",
     "output_type": "stream",
     "text": [
      "  0%|          | 0/1 [00:04<?, ?it/s]\n"
     ]
    },
    {
     "name": "stdout",
     "output_type": "stream",
     "text": [
      "WIZS3.SA\n"
     ]
    },
    {
     "name": "stderr",
     "output_type": "stream",
     "text": [
      "  0%|          | 0/1 [00:04<?, ?it/s]\n"
     ]
    },
    {
     "name": "stdout",
     "output_type": "stream",
     "text": [
      "LLIS3.SA\n"
     ]
    },
    {
     "name": "stderr",
     "output_type": "stream",
     "text": [
      "  0%|          | 0/1 [00:03<?, ?it/s]\n"
     ]
    },
    {
     "name": "stdout",
     "output_type": "stream",
     "text": [
      "BRML3.SA\n"
     ]
    },
    {
     "name": "stderr",
     "output_type": "stream",
     "text": [
      "  0%|          | 0/1 [00:03<?, ?it/s]\n"
     ]
    },
    {
     "name": "stdout",
     "output_type": "stream",
     "text": [
      "DMMO3.SA\n"
     ]
    },
    {
     "name": "stderr",
     "output_type": "stream",
     "text": [
      "  0%|          | 0/1 [00:03<?, ?it/s]\n"
     ]
    },
    {
     "name": "stdout",
     "output_type": "stream",
     "text": [
      "GETT3.SA\n"
     ]
    },
    {
     "name": "stderr",
     "output_type": "stream",
     "text": [
      "  0%|          | 0/1 [00:04<?, ?it/s]\n"
     ]
    },
    {
     "name": "stdout",
     "output_type": "stream",
     "text": [
      "GETT4.SA\n"
     ]
    },
    {
     "name": "stderr",
     "output_type": "stream",
     "text": [
      "  0%|          | 0/1 [00:03<?, ?it/s]\n"
     ]
    },
    {
     "name": "stdout",
     "output_type": "stream",
     "text": [
      "SULA4.SA\n"
     ]
    },
    {
     "name": "stderr",
     "output_type": "stream",
     "text": [
      "  0%|          | 0/1 [00:03<?, ?it/s]\n"
     ]
    },
    {
     "name": "stdout",
     "output_type": "stream",
     "text": [
      "SULA3.SA\n"
     ]
    },
    {
     "name": "stderr",
     "output_type": "stream",
     "text": [
      "  0%|          | 0/1 [00:03<?, ?it/s]\n"
     ]
    },
    {
     "name": "stdout",
     "output_type": "stream",
     "text": [
      "CEPE5.SA\n"
     ]
    },
    {
     "name": "stderr",
     "output_type": "stream",
     "text": [
      "  0%|          | 0/1 [00:03<?, ?it/s]\n"
     ]
    },
    {
     "name": "stdout",
     "output_type": "stream",
     "text": [
      "CEPE6.SA\n"
     ]
    },
    {
     "name": "stderr",
     "output_type": "stream",
     "text": [
      "  0%|          | 0/1 [00:03<?, ?it/s]\n"
     ]
    },
    {
     "name": "stdout",
     "output_type": "stream",
     "text": [
      "BKBR3.SA\n"
     ]
    },
    {
     "name": "stderr",
     "output_type": "stream",
     "text": [
      "  0%|          | 0/1 [00:04<?, ?it/s]\n"
     ]
    },
    {
     "name": "stdout",
     "output_type": "stream",
     "text": [
      "MTIG4.SA\n"
     ]
    },
    {
     "name": "stderr",
     "output_type": "stream",
     "text": [
      "  0%|          | 0/1 [00:03<?, ?it/s]\n"
     ]
    },
    {
     "name": "stdout",
     "output_type": "stream",
     "text": [
      "BLUT4.SA\n"
     ]
    },
    {
     "name": "stderr",
     "output_type": "stream",
     "text": [
      "  0%|          | 0/1 [00:03<?, ?it/s]\n"
     ]
    },
    {
     "name": "stdout",
     "output_type": "stream",
     "text": [
      "BLUT3.SA\n"
     ]
    },
    {
     "name": "stderr",
     "output_type": "stream",
     "text": [
      "  0%|          | 0/1 [00:03<?, ?it/s]\n"
     ]
    },
    {
     "name": "stdout",
     "output_type": "stream",
     "text": [
      "MODL4.SA\n"
     ]
    },
    {
     "name": "stderr",
     "output_type": "stream",
     "text": [
      "  0%|          | 0/1 [00:03<?, ?it/s]\n"
     ]
    },
    {
     "name": "stdout",
     "output_type": "stream",
     "text": [
      "CARD3.SA\n"
     ]
    },
    {
     "name": "stderr",
     "output_type": "stream",
     "text": [
      "  0%|          | 0/1 [00:03<?, ?it/s]\n"
     ]
    },
    {
     "name": "stdout",
     "output_type": "stream",
     "text": [
      "FNCN3.SA\n"
     ]
    },
    {
     "name": "stderr",
     "output_type": "stream",
     "text": [
      "  0%|          | 0/1 [00:03<?, ?it/s]\n"
     ]
    },
    {
     "name": "stdout",
     "output_type": "stream",
     "text": [
      "LCAM3.SA\n"
     ]
    },
    {
     "name": "stderr",
     "output_type": "stream",
     "text": [
      "  0%|          | 0/1 [00:03<?, ?it/s]\n"
     ]
    },
    {
     "name": "stdout",
     "output_type": "stream",
     "text": [
      "BIDI4.SA\n"
     ]
    },
    {
     "name": "stderr",
     "output_type": "stream",
     "text": [
      "  0%|          | 0/1 [00:03<?, ?it/s]\n"
     ]
    },
    {
     "name": "stdout",
     "output_type": "stream",
     "text": [
      "BIDI3.SA\n"
     ]
    },
    {
     "name": "stderr",
     "output_type": "stream",
     "text": [
      "  0%|          | 0/1 [00:03<?, ?it/s]\n"
     ]
    },
    {
     "name": "stdout",
     "output_type": "stream",
     "text": [
      "EEEL4.SA\n"
     ]
    },
    {
     "name": "stderr",
     "output_type": "stream",
     "text": [
      "  0%|          | 0/1 [00:03<?, ?it/s]\n"
     ]
    },
    {
     "name": "stdout",
     "output_type": "stream",
     "text": [
      "EEEL3.SA\n"
     ]
    },
    {
     "name": "stderr",
     "output_type": "stream",
     "text": [
      "  0%|          | 0/1 [00:03<?, ?it/s]\n"
     ]
    },
    {
     "name": "stdout",
     "output_type": "stream",
     "text": [
      "BBRK3.SA\n"
     ]
    },
    {
     "name": "stderr",
     "output_type": "stream",
     "text": [
      "  0%|          | 0/1 [00:03<?, ?it/s]\n"
     ]
    },
    {
     "name": "stdout",
     "output_type": "stream",
     "text": [
      "CESP6.SA\n"
     ]
    },
    {
     "name": "stderr",
     "output_type": "stream",
     "text": [
      "  0%|          | 0/1 [00:03<?, ?it/s]\n"
     ]
    },
    {
     "name": "stdout",
     "output_type": "stream",
     "text": [
      "CESP3.SA\n"
     ]
    },
    {
     "name": "stderr",
     "output_type": "stream",
     "text": [
      "  0%|          | 0/1 [00:03<?, ?it/s]\n"
     ]
    },
    {
     "name": "stdout",
     "output_type": "stream",
     "text": [
      "CESP5.SA\n"
     ]
    },
    {
     "name": "stderr",
     "output_type": "stream",
     "text": [
      "  0%|          | 0/1 [00:03<?, ?it/s]\n"
     ]
    },
    {
     "name": "stdout",
     "output_type": "stream",
     "text": [
      "MOSI3.SA\n"
     ]
    },
    {
     "name": "stderr",
     "output_type": "stream",
     "text": [
      "  0%|          | 0/1 [00:03<?, ?it/s]\n"
     ]
    },
    {
     "name": "stdout",
     "output_type": "stream",
     "text": [
      "POWE3.SA\n"
     ]
    },
    {
     "name": "stderr",
     "output_type": "stream",
     "text": [
      "  0%|          | 0/1 [00:03<?, ?it/s]\n"
     ]
    },
    {
     "name": "stdout",
     "output_type": "stream",
     "text": [
      "GNDI3.SA\n"
     ]
    },
    {
     "name": "stderr",
     "output_type": "stream",
     "text": [
      "  0%|          | 0/1 [00:03<?, ?it/s]\n"
     ]
    },
    {
     "name": "stdout",
     "output_type": "stream",
     "text": [
      "LAME4.SA\n"
     ]
    },
    {
     "name": "stderr",
     "output_type": "stream",
     "text": [
      "  0%|          | 0/1 [00:04<?, ?it/s]\n"
     ]
    },
    {
     "name": "stdout",
     "output_type": "stream",
     "text": [
      "LAME3.SA\n"
     ]
    },
    {
     "name": "stderr",
     "output_type": "stream",
     "text": [
      "  0%|          | 0/1 [00:03<?, ?it/s]\n"
     ]
    },
    {
     "name": "stdout",
     "output_type": "stream",
     "text": [
      "OMGE3.SA\n"
     ]
    },
    {
     "name": "stderr",
     "output_type": "stream",
     "text": [
      "  0%|          | 0/1 [00:03<?, ?it/s]\n"
     ]
    },
    {
     "name": "stdout",
     "output_type": "stream",
     "text": [
      "IGTA3.SA\n"
     ]
    },
    {
     "name": "stderr",
     "output_type": "stream",
     "text": [
      "  0%|          | 0/1 [00:03<?, ?it/s]\n"
     ]
    },
    {
     "name": "stdout",
     "output_type": "stream",
     "text": [
      "JPSA3.SA\n"
     ]
    },
    {
     "name": "stderr",
     "output_type": "stream",
     "text": [
      "  0%|          | 0/1 [00:03<?, ?it/s]\n"
     ]
    },
    {
     "name": "stdout",
     "output_type": "stream",
     "text": [
      "BRDT3.SA\n"
     ]
    },
    {
     "name": "stderr",
     "output_type": "stream",
     "text": [
      "  0%|          | 0/1 [00:04<?, ?it/s]\n"
     ]
    },
    {
     "name": "stdout",
     "output_type": "stream",
     "text": [
      "JBDU4.SA\n"
     ]
    },
    {
     "name": "stderr",
     "output_type": "stream",
     "text": [
      "  0%|          | 0/1 [00:03<?, ?it/s]\n"
     ]
    },
    {
     "name": "stdout",
     "output_type": "stream",
     "text": [
      "JBDU3.SA\n"
     ]
    },
    {
     "name": "stderr",
     "output_type": "stream",
     "text": [
      "  0%|          | 0/1 [00:03<?, ?it/s]\n"
     ]
    },
    {
     "name": "stdout",
     "output_type": "stream",
     "text": [
      "HGTX3.SA\n"
     ]
    },
    {
     "name": "stderr",
     "output_type": "stream",
     "text": [
      "  0%|          | 0/1 [00:03<?, ?it/s]\n"
     ]
    },
    {
     "name": "stdout",
     "output_type": "stream",
     "text": [
      "CCPR3.SA\n"
     ]
    },
    {
     "name": "stderr",
     "output_type": "stream",
     "text": [
      "  0%|          | 0/1 [00:03<?, ?it/s]\n"
     ]
    },
    {
     "name": "stdout",
     "output_type": "stream",
     "text": [
      "DTEX3.SA\n"
     ]
    },
    {
     "name": "stderr",
     "output_type": "stream",
     "text": [
      "  0%|          | 0/1 [00:03<?, ?it/s]\n"
     ]
    },
    {
     "name": "stdout",
     "output_type": "stream",
     "text": [
      "VVAR3.SA\n"
     ]
    },
    {
     "name": "stderr",
     "output_type": "stream",
     "text": [
      "  0%|          | 0/1 [00:03<?, ?it/s]\n"
     ]
    },
    {
     "name": "stdout",
     "output_type": "stream",
     "text": [
      "PNVL4.SA\n"
     ]
    },
    {
     "name": "stderr",
     "output_type": "stream",
     "text": [
      "  0%|          | 0/1 [00:03<?, ?it/s]\n"
     ]
    },
    {
     "name": "stdout",
     "output_type": "stream",
     "text": [
      "TESA3.SA\n"
     ]
    },
    {
     "name": "stderr",
     "output_type": "stream",
     "text": [
      "  0%|          | 0/1 [00:03<?, ?it/s]\n"
     ]
    },
    {
     "name": "stdout",
     "output_type": "stream",
     "text": [
      "BTOW3.SA\n"
     ]
    },
    {
     "name": "stderr",
     "output_type": "stream",
     "text": [
      "  0%|          | 0/1 [00:03<?, ?it/s]\n"
     ]
    },
    {
     "name": "stdout",
     "output_type": "stream",
     "text": [
      "LINX3.SA\n"
     ]
    },
    {
     "name": "stderr",
     "output_type": "stream",
     "text": [
      "  0%|          | 0/1 [00:04<?, ?it/s]\n"
     ]
    },
    {
     "name": "stdout",
     "output_type": "stream",
     "text": [
      "BTTL3.SA\n"
     ]
    },
    {
     "name": "stderr",
     "output_type": "stream",
     "text": [
      "  0%|          | 0/1 [00:03<?, ?it/s]\n"
     ]
    },
    {
     "name": "stdout",
     "output_type": "stream",
     "text": [
      "GPCP3.SA\n"
     ]
    },
    {
     "name": "stderr",
     "output_type": "stream",
     "text": [
      "  0%|          | 0/1 [00:03<?, ?it/s]\n"
     ]
    },
    {
     "name": "stdout",
     "output_type": "stream",
     "text": [
      "GPCP4.SA\n"
     ]
    },
    {
     "name": "stderr",
     "output_type": "stream",
     "text": [
      "  0%|          | 0/1 [00:03<?, ?it/s]\n"
     ]
    },
    {
     "name": "stdout",
     "output_type": "stream",
     "text": [
      "SMLS3.SA\n"
     ]
    },
    {
     "name": "stderr",
     "output_type": "stream",
     "text": [
      "  0%|          | 0/1 [00:04<?, ?it/s]\n"
     ]
    },
    {
     "name": "stdout",
     "output_type": "stream",
     "text": [
      "MMXM3.SA\n"
     ]
    },
    {
     "name": "stderr",
     "output_type": "stream",
     "text": [
      "  0%|          | 0/1 [00:03<?, ?it/s]\n"
     ]
    },
    {
     "name": "stdout",
     "output_type": "stream",
     "text": [
      "BSEV3.SA\n"
     ]
    },
    {
     "name": "stderr",
     "output_type": "stream",
     "text": [
      "  0%|          | 0/1 [00:03<?, ?it/s]\n"
     ]
    },
    {
     "name": "stdout",
     "output_type": "stream",
     "text": [
      "CNTO3.SA\n"
     ]
    },
    {
     "name": "stderr",
     "output_type": "stream",
     "text": [
      "  0%|          | 0/1 [00:03<?, ?it/s]\n"
     ]
    },
    {
     "name": "stdout",
     "output_type": "stream",
     "text": [
      "TIET4.SA\n"
     ]
    },
    {
     "name": "stderr",
     "output_type": "stream",
     "text": [
      "  0%|          | 0/1 [00:03<?, ?it/s]\n"
     ]
    },
    {
     "name": "stdout",
     "output_type": "stream",
     "text": [
      "TIET3.SA\n"
     ]
    },
    {
     "name": "stderr",
     "output_type": "stream",
     "text": [
      "  0%|          | 0/1 [00:03<?, ?it/s]\n"
     ]
    },
    {
     "name": "stdout",
     "output_type": "stream",
     "text": [
      "CEPE3.SA\n"
     ]
    },
    {
     "name": "stderr",
     "output_type": "stream",
     "text": [
      "  0%|          | 0/1 [00:03<?, ?it/s]\n"
     ]
    },
    {
     "name": "stdout",
     "output_type": "stream",
     "text": [
      "CALI4.SA\n"
     ]
    },
    {
     "name": "stderr",
     "output_type": "stream",
     "text": [
      "  0%|          | 0/1 [00:03<?, ?it/s]\n"
     ]
    },
    {
     "name": "stdout",
     "output_type": "stream",
     "text": [
      "BPAR3.SA\n"
     ]
    },
    {
     "name": "stderr",
     "output_type": "stream",
     "text": [
      "  0%|          | 0/1 [00:03<?, ?it/s]\n"
     ]
    },
    {
     "name": "stdout",
     "output_type": "stream",
     "text": [
      "APTI4.SA\n"
     ]
    },
    {
     "name": "stderr",
     "output_type": "stream",
     "text": [
      "  0%|          | 0/1 [00:04<?, ?it/s]\n"
     ]
    },
    {
     "name": "stdout",
     "output_type": "stream",
     "text": [
      "WIZS3.SA\n"
     ]
    },
    {
     "name": "stderr",
     "output_type": "stream",
     "text": [
      "  0%|          | 0/1 [00:04<?, ?it/s]\n"
     ]
    },
    {
     "name": "stdout",
     "output_type": "stream",
     "text": [
      "LLIS3.SA\n"
     ]
    },
    {
     "name": "stderr",
     "output_type": "stream",
     "text": [
      "  0%|          | 0/1 [00:04<?, ?it/s]\n"
     ]
    },
    {
     "name": "stdout",
     "output_type": "stream",
     "text": [
      "BRML3.SA\n"
     ]
    },
    {
     "name": "stderr",
     "output_type": "stream",
     "text": [
      "  0%|          | 0/1 [00:03<?, ?it/s]\n"
     ]
    },
    {
     "name": "stdout",
     "output_type": "stream",
     "text": [
      "DMMO3.SA\n"
     ]
    },
    {
     "name": "stderr",
     "output_type": "stream",
     "text": [
      "  0%|          | 0/1 [00:03<?, ?it/s]\n"
     ]
    },
    {
     "name": "stdout",
     "output_type": "stream",
     "text": [
      "GETT3.SA\n"
     ]
    },
    {
     "name": "stderr",
     "output_type": "stream",
     "text": [
      "  0%|          | 0/1 [00:03<?, ?it/s]\n"
     ]
    },
    {
     "name": "stdout",
     "output_type": "stream",
     "text": [
      "GETT4.SA\n"
     ]
    },
    {
     "name": "stderr",
     "output_type": "stream",
     "text": [
      "  0%|          | 0/1 [00:03<?, ?it/s]\n"
     ]
    },
    {
     "name": "stdout",
     "output_type": "stream",
     "text": [
      "SULA4.SA\n"
     ]
    },
    {
     "name": "stderr",
     "output_type": "stream",
     "text": [
      "  0%|          | 0/1 [00:03<?, ?it/s]\n"
     ]
    },
    {
     "name": "stdout",
     "output_type": "stream",
     "text": [
      "SULA3.SA\n"
     ]
    },
    {
     "name": "stderr",
     "output_type": "stream",
     "text": [
      "  0%|          | 0/1 [00:03<?, ?it/s]\n"
     ]
    },
    {
     "name": "stdout",
     "output_type": "stream",
     "text": [
      "CEPE5.SA\n"
     ]
    },
    {
     "name": "stderr",
     "output_type": "stream",
     "text": [
      "  0%|          | 0/1 [00:03<?, ?it/s]\n"
     ]
    },
    {
     "name": "stdout",
     "output_type": "stream",
     "text": [
      "CEPE6.SA\n"
     ]
    },
    {
     "name": "stderr",
     "output_type": "stream",
     "text": [
      "  0%|          | 0/1 [00:03<?, ?it/s]\n"
     ]
    },
    {
     "name": "stdout",
     "output_type": "stream",
     "text": [
      "BKBR3.SA\n"
     ]
    },
    {
     "name": "stderr",
     "output_type": "stream",
     "text": [
      "  0%|          | 0/1 [00:04<?, ?it/s]\n"
     ]
    },
    {
     "name": "stdout",
     "output_type": "stream",
     "text": [
      "MTIG4.SA\n"
     ]
    },
    {
     "name": "stderr",
     "output_type": "stream",
     "text": [
      "  0%|          | 0/1 [00:03<?, ?it/s]\n"
     ]
    },
    {
     "name": "stdout",
     "output_type": "stream",
     "text": [
      "BLUT4.SA\n"
     ]
    },
    {
     "name": "stderr",
     "output_type": "stream",
     "text": [
      "  0%|          | 0/1 [00:03<?, ?it/s]\n"
     ]
    },
    {
     "name": "stdout",
     "output_type": "stream",
     "text": [
      "BLUT3.SA\n"
     ]
    },
    {
     "name": "stderr",
     "output_type": "stream",
     "text": [
      "  0%|          | 0/1 [00:03<?, ?it/s]\n"
     ]
    },
    {
     "name": "stdout",
     "output_type": "stream",
     "text": [
      "MODL4.SA\n"
     ]
    },
    {
     "name": "stderr",
     "output_type": "stream",
     "text": [
      "  0%|          | 0/1 [00:03<?, ?it/s]\n"
     ]
    },
    {
     "name": "stdout",
     "output_type": "stream",
     "text": [
      "CARD3.SA\n"
     ]
    },
    {
     "name": "stderr",
     "output_type": "stream",
     "text": [
      "  0%|          | 0/1 [00:04<?, ?it/s]\n"
     ]
    },
    {
     "name": "stdout",
     "output_type": "stream",
     "text": [
      "FNCN3.SA\n"
     ]
    },
    {
     "name": "stderr",
     "output_type": "stream",
     "text": [
      "  0%|          | 0/1 [00:04<?, ?it/s]\n"
     ]
    },
    {
     "name": "stdout",
     "output_type": "stream",
     "text": [
      "LCAM3.SA\n"
     ]
    },
    {
     "name": "stderr",
     "output_type": "stream",
     "text": [
      "  0%|          | 0/1 [00:03<?, ?it/s]\n"
     ]
    },
    {
     "name": "stdout",
     "output_type": "stream",
     "text": [
      "BIDI4.SA\n"
     ]
    },
    {
     "name": "stderr",
     "output_type": "stream",
     "text": [
      "  0%|          | 0/1 [00:03<?, ?it/s]\n"
     ]
    },
    {
     "name": "stdout",
     "output_type": "stream",
     "text": [
      "BIDI3.SA\n"
     ]
    },
    {
     "name": "stderr",
     "output_type": "stream",
     "text": [
      "  0%|          | 0/1 [00:03<?, ?it/s]\n"
     ]
    },
    {
     "name": "stdout",
     "output_type": "stream",
     "text": [
      "EEEL4.SA\n"
     ]
    },
    {
     "name": "stderr",
     "output_type": "stream",
     "text": [
      "  0%|          | 0/1 [00:03<?, ?it/s]\n"
     ]
    },
    {
     "name": "stdout",
     "output_type": "stream",
     "text": [
      "EEEL3.SA\n"
     ]
    },
    {
     "name": "stderr",
     "output_type": "stream",
     "text": [
      "  0%|          | 0/1 [00:04<?, ?it/s]\n"
     ]
    },
    {
     "name": "stdout",
     "output_type": "stream",
     "text": [
      "BBRK3.SA\n"
     ]
    },
    {
     "name": "stderr",
     "output_type": "stream",
     "text": [
      "  0%|          | 0/1 [00:03<?, ?it/s]\n"
     ]
    },
    {
     "name": "stdout",
     "output_type": "stream",
     "text": [
      "CESP6.SA\n"
     ]
    },
    {
     "name": "stderr",
     "output_type": "stream",
     "text": [
      "  0%|          | 0/1 [00:04<?, ?it/s]\n"
     ]
    },
    {
     "name": "stdout",
     "output_type": "stream",
     "text": [
      "CESP3.SA\n"
     ]
    },
    {
     "name": "stderr",
     "output_type": "stream",
     "text": [
      "  0%|          | 0/1 [00:03<?, ?it/s]\n"
     ]
    },
    {
     "name": "stdout",
     "output_type": "stream",
     "text": [
      "CESP5.SA\n"
     ]
    },
    {
     "name": "stderr",
     "output_type": "stream",
     "text": [
      "  0%|          | 0/1 [00:03<?, ?it/s]\n"
     ]
    },
    {
     "name": "stdout",
     "output_type": "stream",
     "text": [
      "MOSI3.SA\n"
     ]
    },
    {
     "name": "stderr",
     "output_type": "stream",
     "text": [
      "  0%|          | 0/1 [00:03<?, ?it/s]\n"
     ]
    },
    {
     "name": "stdout",
     "output_type": "stream",
     "text": [
      "POWE3.SA\n"
     ]
    },
    {
     "name": "stderr",
     "output_type": "stream",
     "text": [
      "  0%|          | 0/1 [00:03<?, ?it/s]\n"
     ]
    },
    {
     "name": "stdout",
     "output_type": "stream",
     "text": [
      "GNDI3.SA\n"
     ]
    },
    {
     "name": "stderr",
     "output_type": "stream",
     "text": [
      "  0%|          | 0/1 [00:03<?, ?it/s]\n"
     ]
    },
    {
     "name": "stdout",
     "output_type": "stream",
     "text": [
      "LAME4.SA\n"
     ]
    },
    {
     "name": "stderr",
     "output_type": "stream",
     "text": [
      "  0%|          | 0/1 [00:04<?, ?it/s]\n"
     ]
    },
    {
     "name": "stdout",
     "output_type": "stream",
     "text": [
      "LAME3.SA\n"
     ]
    },
    {
     "name": "stderr",
     "output_type": "stream",
     "text": [
      "  0%|          | 0/1 [00:03<?, ?it/s]\n"
     ]
    },
    {
     "name": "stdout",
     "output_type": "stream",
     "text": [
      "OMGE3.SA\n"
     ]
    },
    {
     "name": "stderr",
     "output_type": "stream",
     "text": [
      "  0%|          | 0/1 [00:03<?, ?it/s]\n"
     ]
    },
    {
     "name": "stdout",
     "output_type": "stream",
     "text": [
      "IGTA3.SA\n"
     ]
    },
    {
     "name": "stderr",
     "output_type": "stream",
     "text": [
      "  0%|          | 0/1 [00:03<?, ?it/s]\n"
     ]
    },
    {
     "name": "stdout",
     "output_type": "stream",
     "text": [
      "JPSA3.SA\n"
     ]
    },
    {
     "name": "stderr",
     "output_type": "stream",
     "text": [
      "  0%|          | 0/1 [00:03<?, ?it/s]\n"
     ]
    },
    {
     "name": "stdout",
     "output_type": "stream",
     "text": [
      "BRDT3.SA\n"
     ]
    },
    {
     "name": "stderr",
     "output_type": "stream",
     "text": [
      "  0%|          | 0/1 [00:03<?, ?it/s]\n"
     ]
    },
    {
     "name": "stdout",
     "output_type": "stream",
     "text": [
      "JBDU4.SA\n"
     ]
    },
    {
     "name": "stderr",
     "output_type": "stream",
     "text": [
      "  0%|          | 0/1 [00:03<?, ?it/s]\n"
     ]
    },
    {
     "name": "stdout",
     "output_type": "stream",
     "text": [
      "JBDU3.SA\n"
     ]
    },
    {
     "name": "stderr",
     "output_type": "stream",
     "text": [
      "  0%|          | 0/1 [00:03<?, ?it/s]\n"
     ]
    },
    {
     "name": "stdout",
     "output_type": "stream",
     "text": [
      "HGTX3.SA\n"
     ]
    },
    {
     "name": "stderr",
     "output_type": "stream",
     "text": [
      "  0%|          | 0/1 [00:03<?, ?it/s]\n"
     ]
    },
    {
     "name": "stdout",
     "output_type": "stream",
     "text": [
      "CCPR3.SA\n"
     ]
    },
    {
     "name": "stderr",
     "output_type": "stream",
     "text": [
      "  0%|          | 0/1 [00:03<?, ?it/s]\n"
     ]
    },
    {
     "name": "stdout",
     "output_type": "stream",
     "text": [
      "DTEX3.SA\n"
     ]
    },
    {
     "name": "stderr",
     "output_type": "stream",
     "text": [
      "  0%|          | 0/1 [00:03<?, ?it/s]\n"
     ]
    },
    {
     "name": "stdout",
     "output_type": "stream",
     "text": [
      "VVAR3.SA\n"
     ]
    },
    {
     "name": "stderr",
     "output_type": "stream",
     "text": [
      "  0%|          | 0/1 [00:03<?, ?it/s]\n"
     ]
    },
    {
     "name": "stdout",
     "output_type": "stream",
     "text": [
      "PNVL4.SA\n"
     ]
    },
    {
     "name": "stderr",
     "output_type": "stream",
     "text": [
      "  0%|          | 0/1 [00:03<?, ?it/s]\n"
     ]
    },
    {
     "name": "stdout",
     "output_type": "stream",
     "text": [
      "TESA3.SA\n"
     ]
    },
    {
     "name": "stderr",
     "output_type": "stream",
     "text": [
      "  0%|          | 0/1 [00:03<?, ?it/s]\n"
     ]
    },
    {
     "name": "stdout",
     "output_type": "stream",
     "text": [
      "BTOW3.SA\n"
     ]
    },
    {
     "name": "stderr",
     "output_type": "stream",
     "text": [
      "  0%|          | 0/1 [00:03<?, ?it/s]\n"
     ]
    },
    {
     "name": "stdout",
     "output_type": "stream",
     "text": [
      "LINX3.SA\n"
     ]
    },
    {
     "name": "stderr",
     "output_type": "stream",
     "text": [
      "  0%|          | 0/1 [00:03<?, ?it/s]\n"
     ]
    },
    {
     "name": "stdout",
     "output_type": "stream",
     "text": [
      "BTTL3.SA\n"
     ]
    },
    {
     "name": "stderr",
     "output_type": "stream",
     "text": [
      "  0%|          | 0/1 [00:04<?, ?it/s]\n"
     ]
    },
    {
     "name": "stdout",
     "output_type": "stream",
     "text": [
      "GPCP3.SA\n"
     ]
    },
    {
     "name": "stderr",
     "output_type": "stream",
     "text": [
      "  0%|          | 0/1 [00:03<?, ?it/s]\n"
     ]
    },
    {
     "name": "stdout",
     "output_type": "stream",
     "text": [
      "GPCP4.SA\n"
     ]
    },
    {
     "name": "stderr",
     "output_type": "stream",
     "text": [
      "  0%|          | 0/1 [00:03<?, ?it/s]\n"
     ]
    },
    {
     "name": "stdout",
     "output_type": "stream",
     "text": [
      "SMLS3.SA\n"
     ]
    },
    {
     "name": "stderr",
     "output_type": "stream",
     "text": [
      "  0%|          | 0/1 [00:03<?, ?it/s]\n"
     ]
    },
    {
     "name": "stdout",
     "output_type": "stream",
     "text": [
      "MMXM3.SA\n"
     ]
    },
    {
     "name": "stderr",
     "output_type": "stream",
     "text": [
      "  0%|          | 0/1 [00:03<?, ?it/s]\n"
     ]
    },
    {
     "name": "stdout",
     "output_type": "stream",
     "text": [
      "BSEV3.SA\n"
     ]
    },
    {
     "name": "stderr",
     "output_type": "stream",
     "text": [
      "  0%|          | 0/1 [00:04<?, ?it/s]\n"
     ]
    },
    {
     "name": "stdout",
     "output_type": "stream",
     "text": [
      "CNTO3.SA\n"
     ]
    },
    {
     "name": "stderr",
     "output_type": "stream",
     "text": [
      "  0%|          | 0/1 [00:03<?, ?it/s]\n"
     ]
    },
    {
     "name": "stdout",
     "output_type": "stream",
     "text": [
      "TIET4.SA\n"
     ]
    },
    {
     "name": "stderr",
     "output_type": "stream",
     "text": [
      "  0%|          | 0/1 [00:03<?, ?it/s]\n"
     ]
    },
    {
     "name": "stdout",
     "output_type": "stream",
     "text": [
      "TIET3.SA\n"
     ]
    },
    {
     "name": "stderr",
     "output_type": "stream",
     "text": [
      "  0%|          | 0/1 [00:03<?, ?it/s]\n"
     ]
    },
    {
     "name": "stdout",
     "output_type": "stream",
     "text": [
      "CEPE3.SA\n"
     ]
    },
    {
     "name": "stderr",
     "output_type": "stream",
     "text": [
      "  0%|          | 0/1 [00:03<?, ?it/s]\n"
     ]
    },
    {
     "name": "stdout",
     "output_type": "stream",
     "text": [
      "CALI4.SA\n"
     ]
    },
    {
     "name": "stderr",
     "output_type": "stream",
     "text": [
      "  0%|          | 0/1 [00:03<?, ?it/s]\n"
     ]
    },
    {
     "name": "stdout",
     "output_type": "stream",
     "text": [
      "BPAR3.SA\n"
     ]
    },
    {
     "name": "stderr",
     "output_type": "stream",
     "text": [
      "  0%|          | 0/1 [00:03<?, ?it/s]\n"
     ]
    },
    {
     "name": "stdout",
     "output_type": "stream",
     "text": [
      "APTI4.SA\n"
     ]
    },
    {
     "name": "stderr",
     "output_type": "stream",
     "text": [
      "  0%|          | 0/1 [00:03<?, ?it/s]\n"
     ]
    },
    {
     "name": "stdout",
     "output_type": "stream",
     "text": [
      "WIZS3.SA\n"
     ]
    },
    {
     "name": "stderr",
     "output_type": "stream",
     "text": [
      "  0%|          | 0/1 [00:04<?, ?it/s]\n"
     ]
    },
    {
     "name": "stdout",
     "output_type": "stream",
     "text": [
      "LLIS3.SA\n"
     ]
    },
    {
     "name": "stderr",
     "output_type": "stream",
     "text": [
      "  0%|          | 0/1 [00:03<?, ?it/s]\n"
     ]
    },
    {
     "name": "stdout",
     "output_type": "stream",
     "text": [
      "BRML3.SA\n"
     ]
    },
    {
     "name": "stderr",
     "output_type": "stream",
     "text": [
      "  0%|          | 0/1 [00:03<?, ?it/s]\n"
     ]
    },
    {
     "name": "stdout",
     "output_type": "stream",
     "text": [
      "DMMO3.SA\n"
     ]
    },
    {
     "name": "stderr",
     "output_type": "stream",
     "text": [
      "  0%|          | 0/1 [00:03<?, ?it/s]\n"
     ]
    },
    {
     "name": "stdout",
     "output_type": "stream",
     "text": [
      "GETT3.SA\n"
     ]
    },
    {
     "name": "stderr",
     "output_type": "stream",
     "text": [
      "  0%|          | 0/1 [00:03<?, ?it/s]\n"
     ]
    },
    {
     "name": "stdout",
     "output_type": "stream",
     "text": [
      "GETT4.SA\n"
     ]
    },
    {
     "name": "stderr",
     "output_type": "stream",
     "text": [
      "  0%|          | 0/1 [00:03<?, ?it/s]\n"
     ]
    },
    {
     "name": "stdout",
     "output_type": "stream",
     "text": [
      "SULA4.SA\n"
     ]
    },
    {
     "name": "stderr",
     "output_type": "stream",
     "text": [
      "  0%|          | 0/1 [00:03<?, ?it/s]\n"
     ]
    },
    {
     "name": "stdout",
     "output_type": "stream",
     "text": [
      "SULA3.SA\n"
     ]
    },
    {
     "name": "stderr",
     "output_type": "stream",
     "text": [
      "  0%|          | 0/1 [00:03<?, ?it/s]\n"
     ]
    },
    {
     "name": "stdout",
     "output_type": "stream",
     "text": [
      "CEPE5.SA\n"
     ]
    },
    {
     "name": "stderr",
     "output_type": "stream",
     "text": [
      "  0%|          | 0/1 [00:03<?, ?it/s]\n"
     ]
    },
    {
     "name": "stdout",
     "output_type": "stream",
     "text": [
      "CEPE6.SA\n"
     ]
    },
    {
     "name": "stderr",
     "output_type": "stream",
     "text": [
      "  0%|          | 0/1 [00:04<?, ?it/s]\n"
     ]
    },
    {
     "name": "stdout",
     "output_type": "stream",
     "text": [
      "BKBR3.SA\n"
     ]
    },
    {
     "name": "stderr",
     "output_type": "stream",
     "text": [
      "  0%|          | 0/1 [00:04<?, ?it/s]\n"
     ]
    },
    {
     "name": "stdout",
     "output_type": "stream",
     "text": [
      "MTIG4.SA\n"
     ]
    },
    {
     "name": "stderr",
     "output_type": "stream",
     "text": [
      "  0%|          | 0/1 [00:03<?, ?it/s]\n"
     ]
    },
    {
     "name": "stdout",
     "output_type": "stream",
     "text": [
      "BLUT4.SA\n"
     ]
    },
    {
     "name": "stderr",
     "output_type": "stream",
     "text": [
      "  0%|          | 0/1 [00:04<?, ?it/s]\n"
     ]
    },
    {
     "name": "stdout",
     "output_type": "stream",
     "text": [
      "BLUT3.SA\n"
     ]
    },
    {
     "name": "stderr",
     "output_type": "stream",
     "text": [
      "  0%|          | 0/1 [00:03<?, ?it/s]\n"
     ]
    },
    {
     "name": "stdout",
     "output_type": "stream",
     "text": [
      "MODL4.SA\n"
     ]
    },
    {
     "name": "stderr",
     "output_type": "stream",
     "text": [
      "  0%|          | 0/1 [00:03<?, ?it/s]\n"
     ]
    },
    {
     "name": "stdout",
     "output_type": "stream",
     "text": [
      "CARD3.SA\n"
     ]
    },
    {
     "name": "stderr",
     "output_type": "stream",
     "text": [
      "  0%|          | 0/1 [00:03<?, ?it/s]\n"
     ]
    },
    {
     "name": "stdout",
     "output_type": "stream",
     "text": [
      "FNCN3.SA\n"
     ]
    },
    {
     "name": "stderr",
     "output_type": "stream",
     "text": [
      "  0%|          | 0/1 [00:04<?, ?it/s]\n"
     ]
    },
    {
     "name": "stdout",
     "output_type": "stream",
     "text": [
      "LCAM3.SA\n"
     ]
    },
    {
     "name": "stderr",
     "output_type": "stream",
     "text": [
      "  0%|          | 0/1 [00:03<?, ?it/s]\n"
     ]
    },
    {
     "name": "stdout",
     "output_type": "stream",
     "text": [
      "BIDI4.SA\n"
     ]
    },
    {
     "name": "stderr",
     "output_type": "stream",
     "text": [
      "  0%|          | 0/1 [00:03<?, ?it/s]\n"
     ]
    },
    {
     "name": "stdout",
     "output_type": "stream",
     "text": [
      "BIDI3.SA\n"
     ]
    },
    {
     "name": "stderr",
     "output_type": "stream",
     "text": [
      "  0%|          | 0/1 [00:03<?, ?it/s]\n"
     ]
    },
    {
     "name": "stdout",
     "output_type": "stream",
     "text": [
      "EEEL4.SA\n"
     ]
    },
    {
     "name": "stderr",
     "output_type": "stream",
     "text": [
      "  0%|          | 0/1 [00:03<?, ?it/s]\n"
     ]
    },
    {
     "name": "stdout",
     "output_type": "stream",
     "text": [
      "EEEL3.SA\n"
     ]
    },
    {
     "name": "stderr",
     "output_type": "stream",
     "text": [
      "  0%|          | 0/1 [00:03<?, ?it/s]\n"
     ]
    },
    {
     "name": "stdout",
     "output_type": "stream",
     "text": [
      "BBRK3.SA\n"
     ]
    },
    {
     "name": "stderr",
     "output_type": "stream",
     "text": [
      "  0%|          | 0/1 [00:03<?, ?it/s]\n"
     ]
    },
    {
     "name": "stdout",
     "output_type": "stream",
     "text": [
      "CESP6.SA\n"
     ]
    },
    {
     "name": "stderr",
     "output_type": "stream",
     "text": [
      "  0%|          | 0/1 [00:03<?, ?it/s]\n"
     ]
    },
    {
     "name": "stdout",
     "output_type": "stream",
     "text": [
      "CESP3.SA\n"
     ]
    },
    {
     "name": "stderr",
     "output_type": "stream",
     "text": [
      "  0%|          | 0/1 [00:03<?, ?it/s]\n"
     ]
    },
    {
     "name": "stdout",
     "output_type": "stream",
     "text": [
      "CESP5.SA\n"
     ]
    },
    {
     "name": "stderr",
     "output_type": "stream",
     "text": [
      "  0%|          | 0/1 [00:03<?, ?it/s]\n"
     ]
    },
    {
     "name": "stdout",
     "output_type": "stream",
     "text": [
      "MOSI3.SA\n"
     ]
    },
    {
     "name": "stderr",
     "output_type": "stream",
     "text": [
      "  0%|          | 0/1 [00:03<?, ?it/s]\n"
     ]
    },
    {
     "name": "stdout",
     "output_type": "stream",
     "text": [
      "POWE3.SA\n"
     ]
    },
    {
     "name": "stderr",
     "output_type": "stream",
     "text": [
      "  0%|          | 0/1 [00:03<?, ?it/s]\n"
     ]
    },
    {
     "name": "stdout",
     "output_type": "stream",
     "text": [
      "GNDI3.SA\n"
     ]
    },
    {
     "name": "stderr",
     "output_type": "stream",
     "text": [
      "  0%|          | 0/1 [00:03<?, ?it/s]\n"
     ]
    },
    {
     "name": "stdout",
     "output_type": "stream",
     "text": [
      "LAME4.SA\n"
     ]
    },
    {
     "name": "stderr",
     "output_type": "stream",
     "text": [
      "  0%|          | 0/1 [00:03<?, ?it/s]\n"
     ]
    },
    {
     "name": "stdout",
     "output_type": "stream",
     "text": [
      "LAME3.SA\n"
     ]
    },
    {
     "name": "stderr",
     "output_type": "stream",
     "text": [
      "  0%|          | 0/1 [00:03<?, ?it/s]\n"
     ]
    },
    {
     "name": "stdout",
     "output_type": "stream",
     "text": [
      "OMGE3.SA\n"
     ]
    },
    {
     "name": "stderr",
     "output_type": "stream",
     "text": [
      "  0%|          | 0/1 [00:04<?, ?it/s]\n"
     ]
    },
    {
     "name": "stdout",
     "output_type": "stream",
     "text": [
      "IGTA3.SA\n"
     ]
    },
    {
     "name": "stderr",
     "output_type": "stream",
     "text": [
      "  0%|          | 0/1 [00:03<?, ?it/s]\n"
     ]
    },
    {
     "name": "stdout",
     "output_type": "stream",
     "text": [
      "JPSA3.SA\n"
     ]
    },
    {
     "name": "stderr",
     "output_type": "stream",
     "text": [
      "  0%|          | 0/1 [00:03<?, ?it/s]\n"
     ]
    },
    {
     "name": "stdout",
     "output_type": "stream",
     "text": [
      "BRDT3.SA\n"
     ]
    },
    {
     "name": "stderr",
     "output_type": "stream",
     "text": [
      "  0%|          | 0/1 [00:04<?, ?it/s]\n"
     ]
    },
    {
     "name": "stdout",
     "output_type": "stream",
     "text": [
      "JBDU4.SA\n"
     ]
    },
    {
     "name": "stderr",
     "output_type": "stream",
     "text": [
      "  0%|          | 0/1 [00:04<?, ?it/s]\n"
     ]
    },
    {
     "name": "stdout",
     "output_type": "stream",
     "text": [
      "JBDU3.SA\n"
     ]
    },
    {
     "name": "stderr",
     "output_type": "stream",
     "text": [
      "  0%|          | 0/1 [00:04<?, ?it/s]\n"
     ]
    },
    {
     "name": "stdout",
     "output_type": "stream",
     "text": [
      "HGTX3.SA\n"
     ]
    },
    {
     "name": "stderr",
     "output_type": "stream",
     "text": [
      "  0%|          | 0/1 [00:04<?, ?it/s]\n"
     ]
    },
    {
     "name": "stdout",
     "output_type": "stream",
     "text": [
      "CCPR3.SA\n"
     ]
    },
    {
     "name": "stderr",
     "output_type": "stream",
     "text": [
      "  0%|          | 0/1 [00:04<?, ?it/s]\n"
     ]
    },
    {
     "name": "stdout",
     "output_type": "stream",
     "text": [
      "DTEX3.SA\n"
     ]
    },
    {
     "name": "stderr",
     "output_type": "stream",
     "text": [
      "  0%|          | 0/1 [00:04<?, ?it/s]\n"
     ]
    },
    {
     "name": "stdout",
     "output_type": "stream",
     "text": [
      "VVAR3.SA\n"
     ]
    },
    {
     "name": "stderr",
     "output_type": "stream",
     "text": [
      "  0%|          | 0/1 [00:03<?, ?it/s]\n"
     ]
    },
    {
     "name": "stdout",
     "output_type": "stream",
     "text": [
      "PNVL4.SA\n"
     ]
    },
    {
     "name": "stderr",
     "output_type": "stream",
     "text": [
      "  0%|          | 0/1 [00:04<?, ?it/s]\n"
     ]
    },
    {
     "name": "stdout",
     "output_type": "stream",
     "text": [
      "TESA3.SA\n"
     ]
    },
    {
     "name": "stderr",
     "output_type": "stream",
     "text": [
      "  0%|          | 0/1 [00:04<?, ?it/s]\n"
     ]
    },
    {
     "name": "stdout",
     "output_type": "stream",
     "text": [
      "BTOW3.SA\n"
     ]
    },
    {
     "name": "stderr",
     "output_type": "stream",
     "text": [
      "  0%|          | 0/1 [00:03<?, ?it/s]\n"
     ]
    },
    {
     "name": "stdout",
     "output_type": "stream",
     "text": [
      "LINX3.SA\n"
     ]
    },
    {
     "name": "stderr",
     "output_type": "stream",
     "text": [
      "  0%|          | 0/1 [00:04<?, ?it/s]\n"
     ]
    },
    {
     "name": "stdout",
     "output_type": "stream",
     "text": [
      "BTTL3.SA\n"
     ]
    },
    {
     "name": "stderr",
     "output_type": "stream",
     "text": [
      "  0%|          | 0/1 [00:04<?, ?it/s]\n"
     ]
    },
    {
     "name": "stdout",
     "output_type": "stream",
     "text": [
      "GPCP3.SA\n"
     ]
    },
    {
     "name": "stderr",
     "output_type": "stream",
     "text": [
      "  0%|          | 0/1 [00:04<?, ?it/s]\n"
     ]
    },
    {
     "name": "stdout",
     "output_type": "stream",
     "text": [
      "GPCP4.SA\n"
     ]
    },
    {
     "name": "stderr",
     "output_type": "stream",
     "text": [
      "  0%|          | 0/1 [00:03<?, ?it/s]\n"
     ]
    },
    {
     "name": "stdout",
     "output_type": "stream",
     "text": [
      "SMLS3.SA\n"
     ]
    },
    {
     "name": "stderr",
     "output_type": "stream",
     "text": [
      "  0%|          | 0/1 [00:04<?, ?it/s]\n"
     ]
    },
    {
     "name": "stdout",
     "output_type": "stream",
     "text": [
      "MMXM3.SA\n"
     ]
    },
    {
     "name": "stderr",
     "output_type": "stream",
     "text": [
      "  0%|          | 0/1 [00:04<?, ?it/s]\n"
     ]
    },
    {
     "name": "stdout",
     "output_type": "stream",
     "text": [
      "BSEV3.SA\n"
     ]
    },
    {
     "name": "stderr",
     "output_type": "stream",
     "text": [
      "  0%|          | 0/1 [00:04<?, ?it/s]\n"
     ]
    },
    {
     "name": "stdout",
     "output_type": "stream",
     "text": [
      "CNTO3.SA\n"
     ]
    },
    {
     "name": "stderr",
     "output_type": "stream",
     "text": [
      "  0%|          | 0/1 [00:04<?, ?it/s]\n"
     ]
    },
    {
     "name": "stdout",
     "output_type": "stream",
     "text": [
      "TIET4.SA\n"
     ]
    },
    {
     "name": "stderr",
     "output_type": "stream",
     "text": [
      "  0%|          | 0/1 [00:04<?, ?it/s]\n"
     ]
    },
    {
     "name": "stdout",
     "output_type": "stream",
     "text": [
      "TIET3.SA\n"
     ]
    },
    {
     "name": "stderr",
     "output_type": "stream",
     "text": [
      "  0%|          | 0/1 [00:03<?, ?it/s]\n"
     ]
    },
    {
     "name": "stdout",
     "output_type": "stream",
     "text": [
      "CEPE3.SA\n"
     ]
    },
    {
     "name": "stderr",
     "output_type": "stream",
     "text": [
      "  0%|          | 0/1 [00:04<?, ?it/s]\n"
     ]
    },
    {
     "name": "stdout",
     "output_type": "stream",
     "text": [
      "CALI4.SA\n"
     ]
    },
    {
     "name": "stderr",
     "output_type": "stream",
     "text": [
      "  0%|          | 0/1 [00:04<?, ?it/s]\n"
     ]
    },
    {
     "name": "stdout",
     "output_type": "stream",
     "text": [
      "BPAR3.SA\n"
     ]
    },
    {
     "name": "stderr",
     "output_type": "stream",
     "text": [
      "  0%|          | 0/1 [00:04<?, ?it/s]\n"
     ]
    },
    {
     "name": "stdout",
     "output_type": "stream",
     "text": [
      "APTI4.SA\n"
     ]
    },
    {
     "name": "stderr",
     "output_type": "stream",
     "text": [
      "  0%|          | 0/1 [00:04<?, ?it/s]\n"
     ]
    },
    {
     "name": "stdout",
     "output_type": "stream",
     "text": [
      "WIZS3.SA\n"
     ]
    },
    {
     "name": "stderr",
     "output_type": "stream",
     "text": [
      "  0%|          | 0/1 [00:04<?, ?it/s]\n"
     ]
    },
    {
     "name": "stdout",
     "output_type": "stream",
     "text": [
      "LLIS3.SA\n"
     ]
    },
    {
     "name": "stderr",
     "output_type": "stream",
     "text": [
      "  0%|          | 0/1 [00:04<?, ?it/s]\n"
     ]
    },
    {
     "name": "stdout",
     "output_type": "stream",
     "text": [
      "BRML3.SA\n"
     ]
    },
    {
     "name": "stderr",
     "output_type": "stream",
     "text": [
      "  0%|          | 0/1 [00:04<?, ?it/s]\n"
     ]
    },
    {
     "name": "stdout",
     "output_type": "stream",
     "text": [
      "DMMO3.SA\n"
     ]
    },
    {
     "name": "stderr",
     "output_type": "stream",
     "text": [
      "  0%|          | 0/1 [00:05<?, ?it/s]\n"
     ]
    },
    {
     "name": "stdout",
     "output_type": "stream",
     "text": [
      "GETT3.SA\n"
     ]
    },
    {
     "name": "stderr",
     "output_type": "stream",
     "text": [
      "  0%|          | 0/1 [00:04<?, ?it/s]\n"
     ]
    },
    {
     "name": "stdout",
     "output_type": "stream",
     "text": [
      "GETT4.SA\n"
     ]
    },
    {
     "name": "stderr",
     "output_type": "stream",
     "text": [
      "  0%|          | 0/1 [00:04<?, ?it/s]\n"
     ]
    },
    {
     "name": "stdout",
     "output_type": "stream",
     "text": [
      "SULA4.SA\n"
     ]
    },
    {
     "name": "stderr",
     "output_type": "stream",
     "text": [
      "  0%|          | 0/1 [00:04<?, ?it/s]\n"
     ]
    },
    {
     "name": "stdout",
     "output_type": "stream",
     "text": [
      "SULA3.SA\n"
     ]
    },
    {
     "name": "stderr",
     "output_type": "stream",
     "text": [
      "  0%|          | 0/1 [00:03<?, ?it/s]\n"
     ]
    },
    {
     "name": "stdout",
     "output_type": "stream",
     "text": [
      "CEPE5.SA\n"
     ]
    },
    {
     "name": "stderr",
     "output_type": "stream",
     "text": [
      "  0%|          | 0/1 [00:03<?, ?it/s]\n"
     ]
    },
    {
     "name": "stdout",
     "output_type": "stream",
     "text": [
      "CEPE6.SA\n"
     ]
    },
    {
     "name": "stderr",
     "output_type": "stream",
     "text": [
      "  0%|          | 0/1 [00:03<?, ?it/s]\n"
     ]
    },
    {
     "name": "stdout",
     "output_type": "stream",
     "text": [
      "BKBR3.SA\n"
     ]
    },
    {
     "name": "stderr",
     "output_type": "stream",
     "text": [
      "  0%|          | 0/1 [00:03<?, ?it/s]\n"
     ]
    },
    {
     "name": "stdout",
     "output_type": "stream",
     "text": [
      "MTIG4.SA\n"
     ]
    },
    {
     "name": "stderr",
     "output_type": "stream",
     "text": [
      "  0%|          | 0/1 [00:04<?, ?it/s]\n"
     ]
    },
    {
     "name": "stdout",
     "output_type": "stream",
     "text": [
      "BLUT4.SA\n"
     ]
    },
    {
     "name": "stderr",
     "output_type": "stream",
     "text": [
      "  0%|          | 0/1 [00:03<?, ?it/s]\n"
     ]
    },
    {
     "name": "stdout",
     "output_type": "stream",
     "text": [
      "BLUT3.SA\n"
     ]
    },
    {
     "name": "stderr",
     "output_type": "stream",
     "text": [
      "  0%|          | 0/1 [00:03<?, ?it/s]\n"
     ]
    },
    {
     "name": "stdout",
     "output_type": "stream",
     "text": [
      "MODL4.SA\n"
     ]
    },
    {
     "name": "stderr",
     "output_type": "stream",
     "text": [
      "  0%|          | 0/1 [00:03<?, ?it/s]\n"
     ]
    },
    {
     "name": "stdout",
     "output_type": "stream",
     "text": [
      "CARD3.SA\n"
     ]
    },
    {
     "name": "stderr",
     "output_type": "stream",
     "text": [
      "  0%|          | 0/1 [00:04<?, ?it/s]\n"
     ]
    },
    {
     "name": "stdout",
     "output_type": "stream",
     "text": [
      "FNCN3.SA\n"
     ]
    },
    {
     "name": "stderr",
     "output_type": "stream",
     "text": [
      "  0%|          | 0/1 [00:03<?, ?it/s]\n"
     ]
    },
    {
     "name": "stdout",
     "output_type": "stream",
     "text": [
      "LCAM3.SA\n"
     ]
    },
    {
     "name": "stderr",
     "output_type": "stream",
     "text": [
      "  0%|          | 0/1 [00:04<?, ?it/s]\n"
     ]
    },
    {
     "name": "stdout",
     "output_type": "stream",
     "text": [
      "BIDI4.SA\n"
     ]
    },
    {
     "name": "stderr",
     "output_type": "stream",
     "text": [
      "  0%|          | 0/1 [00:03<?, ?it/s]\n"
     ]
    },
    {
     "name": "stdout",
     "output_type": "stream",
     "text": [
      "BIDI3.SA\n"
     ]
    },
    {
     "name": "stderr",
     "output_type": "stream",
     "text": [
      "  0%|          | 0/1 [00:04<?, ?it/s]\n"
     ]
    },
    {
     "name": "stdout",
     "output_type": "stream",
     "text": [
      "EEEL4.SA\n"
     ]
    },
    {
     "name": "stderr",
     "output_type": "stream",
     "text": [
      "  0%|          | 0/1 [00:03<?, ?it/s]\n"
     ]
    },
    {
     "name": "stdout",
     "output_type": "stream",
     "text": [
      "EEEL3.SA\n"
     ]
    },
    {
     "name": "stderr",
     "output_type": "stream",
     "text": [
      "  0%|          | 0/1 [00:04<?, ?it/s]\n"
     ]
    },
    {
     "name": "stdout",
     "output_type": "stream",
     "text": [
      "BBRK3.SA\n"
     ]
    },
    {
     "name": "stderr",
     "output_type": "stream",
     "text": [
      "  0%|          | 0/1 [00:04<?, ?it/s]\n"
     ]
    },
    {
     "name": "stdout",
     "output_type": "stream",
     "text": [
      "CESP6.SA\n"
     ]
    },
    {
     "name": "stderr",
     "output_type": "stream",
     "text": [
      "  0%|          | 0/1 [00:04<?, ?it/s]\n"
     ]
    },
    {
     "name": "stdout",
     "output_type": "stream",
     "text": [
      "CESP3.SA\n"
     ]
    },
    {
     "name": "stderr",
     "output_type": "stream",
     "text": [
      "  0%|          | 0/1 [00:04<?, ?it/s]\n"
     ]
    },
    {
     "name": "stdout",
     "output_type": "stream",
     "text": [
      "CESP5.SA\n"
     ]
    },
    {
     "name": "stderr",
     "output_type": "stream",
     "text": [
      "  0%|          | 0/1 [00:04<?, ?it/s]\n"
     ]
    },
    {
     "name": "stdout",
     "output_type": "stream",
     "text": [
      "MOSI3.SA\n"
     ]
    },
    {
     "name": "stderr",
     "output_type": "stream",
     "text": [
      "  0%|          | 0/1 [00:04<?, ?it/s]\n"
     ]
    },
    {
     "name": "stdout",
     "output_type": "stream",
     "text": [
      "POWE3.SA\n"
     ]
    },
    {
     "name": "stderr",
     "output_type": "stream",
     "text": [
      "  0%|          | 0/1 [00:04<?, ?it/s]\n"
     ]
    },
    {
     "name": "stdout",
     "output_type": "stream",
     "text": [
      "GNDI3.SA\n"
     ]
    },
    {
     "name": "stderr",
     "output_type": "stream",
     "text": [
      "  0%|          | 0/1 [00:04<?, ?it/s]\n"
     ]
    },
    {
     "name": "stdout",
     "output_type": "stream",
     "text": [
      "LAME4.SA\n"
     ]
    },
    {
     "name": "stderr",
     "output_type": "stream",
     "text": [
      "  0%|          | 0/1 [00:04<?, ?it/s]\n"
     ]
    },
    {
     "name": "stdout",
     "output_type": "stream",
     "text": [
      "LAME3.SA\n"
     ]
    },
    {
     "name": "stderr",
     "output_type": "stream",
     "text": [
      "  0%|          | 0/1 [00:04<?, ?it/s]\n"
     ]
    },
    {
     "name": "stdout",
     "output_type": "stream",
     "text": [
      "OMGE3.SA\n"
     ]
    },
    {
     "name": "stderr",
     "output_type": "stream",
     "text": [
      "  0%|          | 0/1 [00:05<?, ?it/s]\n"
     ]
    },
    {
     "name": "stdout",
     "output_type": "stream",
     "text": [
      "IGTA3.SA\n"
     ]
    },
    {
     "name": "stderr",
     "output_type": "stream",
     "text": [
      "  0%|          | 0/1 [00:04<?, ?it/s]\n"
     ]
    },
    {
     "name": "stdout",
     "output_type": "stream",
     "text": [
      "JPSA3.SA\n"
     ]
    },
    {
     "name": "stderr",
     "output_type": "stream",
     "text": [
      "  0%|          | 0/1 [00:04<?, ?it/s]\n"
     ]
    },
    {
     "name": "stdout",
     "output_type": "stream",
     "text": [
      "BRDT3.SA\n"
     ]
    },
    {
     "name": "stderr",
     "output_type": "stream",
     "text": [
      "  0%|          | 0/1 [00:04<?, ?it/s]\n"
     ]
    },
    {
     "name": "stdout",
     "output_type": "stream",
     "text": [
      "JBDU4.SA\n"
     ]
    },
    {
     "name": "stderr",
     "output_type": "stream",
     "text": [
      "  0%|          | 0/1 [00:03<?, ?it/s]\n"
     ]
    },
    {
     "name": "stdout",
     "output_type": "stream",
     "text": [
      "JBDU3.SA\n"
     ]
    },
    {
     "name": "stderr",
     "output_type": "stream",
     "text": [
      "  0%|          | 0/1 [00:03<?, ?it/s]\n"
     ]
    },
    {
     "name": "stdout",
     "output_type": "stream",
     "text": [
      "HGTX3.SA\n"
     ]
    },
    {
     "name": "stderr",
     "output_type": "stream",
     "text": [
      "  0%|          | 0/1 [00:04<?, ?it/s]\n"
     ]
    },
    {
     "name": "stdout",
     "output_type": "stream",
     "text": [
      "CCPR3.SA\n"
     ]
    },
    {
     "name": "stderr",
     "output_type": "stream",
     "text": [
      "  0%|          | 0/1 [00:04<?, ?it/s]\n"
     ]
    },
    {
     "name": "stdout",
     "output_type": "stream",
     "text": [
      "DTEX3.SA\n"
     ]
    },
    {
     "name": "stderr",
     "output_type": "stream",
     "text": [
      "  0%|          | 0/1 [00:04<?, ?it/s]\n"
     ]
    },
    {
     "name": "stdout",
     "output_type": "stream",
     "text": [
      "VVAR3.SA\n"
     ]
    },
    {
     "name": "stderr",
     "output_type": "stream",
     "text": [
      "  0%|          | 0/1 [00:03<?, ?it/s]\n"
     ]
    },
    {
     "name": "stdout",
     "output_type": "stream",
     "text": [
      "PNVL4.SA\n"
     ]
    },
    {
     "name": "stderr",
     "output_type": "stream",
     "text": [
      "  0%|          | 0/1 [00:04<?, ?it/s]\n"
     ]
    },
    {
     "name": "stdout",
     "output_type": "stream",
     "text": [
      "TESA3.SA\n"
     ]
    },
    {
     "name": "stderr",
     "output_type": "stream",
     "text": [
      "  0%|          | 0/1 [00:04<?, ?it/s]\n"
     ]
    },
    {
     "name": "stdout",
     "output_type": "stream",
     "text": [
      "BTOW3.SA\n"
     ]
    },
    {
     "name": "stderr",
     "output_type": "stream",
     "text": [
      "  0%|          | 0/1 [00:04<?, ?it/s]\n"
     ]
    },
    {
     "name": "stdout",
     "output_type": "stream",
     "text": [
      "LINX3.SA\n"
     ]
    },
    {
     "name": "stderr",
     "output_type": "stream",
     "text": [
      "  0%|          | 0/1 [00:04<?, ?it/s]\n"
     ]
    },
    {
     "name": "stdout",
     "output_type": "stream",
     "text": [
      "BTTL3.SA\n"
     ]
    },
    {
     "name": "stderr",
     "output_type": "stream",
     "text": [
      "  0%|          | 0/1 [00:03<?, ?it/s]\n"
     ]
    },
    {
     "name": "stdout",
     "output_type": "stream",
     "text": [
      "GPCP3.SA\n"
     ]
    },
    {
     "name": "stderr",
     "output_type": "stream",
     "text": [
      "  0%|          | 0/1 [00:04<?, ?it/s]\n"
     ]
    },
    {
     "name": "stdout",
     "output_type": "stream",
     "text": [
      "GPCP4.SA\n"
     ]
    },
    {
     "name": "stderr",
     "output_type": "stream",
     "text": [
      "  0%|          | 0/1 [00:04<?, ?it/s]\n"
     ]
    },
    {
     "name": "stdout",
     "output_type": "stream",
     "text": [
      "SMLS3.SA\n"
     ]
    },
    {
     "name": "stderr",
     "output_type": "stream",
     "text": [
      "  0%|          | 0/1 [00:04<?, ?it/s]\n"
     ]
    },
    {
     "name": "stdout",
     "output_type": "stream",
     "text": [
      "MMXM3.SA\n"
     ]
    },
    {
     "name": "stderr",
     "output_type": "stream",
     "text": [
      "  0%|          | 0/1 [00:04<?, ?it/s]\n"
     ]
    },
    {
     "name": "stdout",
     "output_type": "stream",
     "text": [
      "BSEV3.SA\n"
     ]
    },
    {
     "name": "stderr",
     "output_type": "stream",
     "text": [
      "  0%|          | 0/1 [00:04<?, ?it/s]\n"
     ]
    },
    {
     "name": "stdout",
     "output_type": "stream",
     "text": [
      "CNTO3.SA\n"
     ]
    },
    {
     "name": "stderr",
     "output_type": "stream",
     "text": [
      "  0%|          | 0/1 [00:04<?, ?it/s]\n"
     ]
    },
    {
     "name": "stdout",
     "output_type": "stream",
     "text": [
      "TIET4.SA\n"
     ]
    },
    {
     "name": "stderr",
     "output_type": "stream",
     "text": [
      "  0%|          | 0/1 [00:03<?, ?it/s]\n"
     ]
    },
    {
     "name": "stdout",
     "output_type": "stream",
     "text": [
      "TIET3.SA\n"
     ]
    },
    {
     "name": "stderr",
     "output_type": "stream",
     "text": [
      "  0%|          | 0/1 [00:04<?, ?it/s]\n"
     ]
    },
    {
     "name": "stdout",
     "output_type": "stream",
     "text": [
      "CEPE3.SA\n"
     ]
    },
    {
     "name": "stderr",
     "output_type": "stream",
     "text": [
      "  0%|          | 0/1 [00:04<?, ?it/s]\n"
     ]
    },
    {
     "name": "stdout",
     "output_type": "stream",
     "text": [
      "CALI4.SA\n"
     ]
    },
    {
     "name": "stderr",
     "output_type": "stream",
     "text": [
      "  0%|          | 0/1 [00:04<?, ?it/s]\n"
     ]
    },
    {
     "name": "stdout",
     "output_type": "stream",
     "text": [
      "BPAR3.SA\n"
     ]
    },
    {
     "name": "stderr",
     "output_type": "stream",
     "text": [
      "  0%|          | 0/1 [00:04<?, ?it/s]\n"
     ]
    },
    {
     "name": "stdout",
     "output_type": "stream",
     "text": [
      "APTI4.SA\n"
     ]
    },
    {
     "name": "stderr",
     "output_type": "stream",
     "text": [
      "  0%|          | 0/1 [00:04<?, ?it/s]\n"
     ]
    },
    {
     "name": "stdout",
     "output_type": "stream",
     "text": [
      "WIZS3.SA\n"
     ]
    },
    {
     "name": "stderr",
     "output_type": "stream",
     "text": [
      "  0%|          | 0/1 [00:04<?, ?it/s]\n"
     ]
    },
    {
     "name": "stdout",
     "output_type": "stream",
     "text": [
      "LLIS3.SA\n"
     ]
    },
    {
     "name": "stderr",
     "output_type": "stream",
     "text": [
      "  0%|          | 0/1 [00:05<?, ?it/s]\n"
     ]
    },
    {
     "name": "stdout",
     "output_type": "stream",
     "text": [
      "BRML3.SA\n"
     ]
    },
    {
     "name": "stderr",
     "output_type": "stream",
     "text": [
      "  0%|          | 0/1 [00:04<?, ?it/s]\n"
     ]
    },
    {
     "name": "stdout",
     "output_type": "stream",
     "text": [
      "DMMO3.SA\n"
     ]
    },
    {
     "name": "stderr",
     "output_type": "stream",
     "text": [
      "  0%|          | 0/1 [00:04<?, ?it/s]\n"
     ]
    },
    {
     "name": "stdout",
     "output_type": "stream",
     "text": [
      "GETT3.SA\n"
     ]
    },
    {
     "name": "stderr",
     "output_type": "stream",
     "text": [
      "  0%|          | 0/1 [00:03<?, ?it/s]\n"
     ]
    },
    {
     "name": "stdout",
     "output_type": "stream",
     "text": [
      "GETT4.SA\n"
     ]
    },
    {
     "name": "stderr",
     "output_type": "stream",
     "text": [
      "  0%|          | 0/1 [00:04<?, ?it/s]\n"
     ]
    },
    {
     "name": "stdout",
     "output_type": "stream",
     "text": [
      "SULA4.SA\n"
     ]
    },
    {
     "name": "stderr",
     "output_type": "stream",
     "text": [
      "  0%|          | 0/1 [00:04<?, ?it/s]\n"
     ]
    },
    {
     "name": "stdout",
     "output_type": "stream",
     "text": [
      "SULA3.SA\n"
     ]
    },
    {
     "name": "stderr",
     "output_type": "stream",
     "text": [
      "  0%|          | 0/1 [00:04<?, ?it/s]\n"
     ]
    },
    {
     "name": "stdout",
     "output_type": "stream",
     "text": [
      "CEPE5.SA\n"
     ]
    },
    {
     "name": "stderr",
     "output_type": "stream",
     "text": [
      "  0%|          | 0/1 [00:03<?, ?it/s]\n"
     ]
    },
    {
     "name": "stdout",
     "output_type": "stream",
     "text": [
      "CEPE6.SA\n"
     ]
    },
    {
     "name": "stderr",
     "output_type": "stream",
     "text": [
      "  0%|          | 0/1 [00:04<?, ?it/s]\n"
     ]
    },
    {
     "name": "stdout",
     "output_type": "stream",
     "text": [
      "BKBR3.SA\n"
     ]
    },
    {
     "name": "stderr",
     "output_type": "stream",
     "text": [
      "  0%|          | 0/1 [00:04<?, ?it/s]\n"
     ]
    },
    {
     "name": "stdout",
     "output_type": "stream",
     "text": [
      "MTIG4.SA\n"
     ]
    },
    {
     "name": "stderr",
     "output_type": "stream",
     "text": [
      "  0%|          | 0/1 [00:03<?, ?it/s]\n"
     ]
    },
    {
     "name": "stdout",
     "output_type": "stream",
     "text": [
      "BLUT4.SA\n"
     ]
    },
    {
     "name": "stderr",
     "output_type": "stream",
     "text": [
      "  0%|          | 0/1 [00:03<?, ?it/s]\n"
     ]
    },
    {
     "name": "stdout",
     "output_type": "stream",
     "text": [
      "BLUT3.SA\n"
     ]
    },
    {
     "name": "stderr",
     "output_type": "stream",
     "text": [
      "  0%|          | 0/1 [00:03<?, ?it/s]\n"
     ]
    },
    {
     "name": "stdout",
     "output_type": "stream",
     "text": [
      "MODL4.SA\n"
     ]
    },
    {
     "name": "stderr",
     "output_type": "stream",
     "text": [
      "  0%|          | 0/1 [00:04<?, ?it/s]\n"
     ]
    },
    {
     "name": "stdout",
     "output_type": "stream",
     "text": [
      "CARD3.SA\n"
     ]
    },
    {
     "name": "stderr",
     "output_type": "stream",
     "text": [
      "  0%|          | 0/1 [00:03<?, ?it/s]\n"
     ]
    },
    {
     "name": "stdout",
     "output_type": "stream",
     "text": [
      "FNCN3.SA\n"
     ]
    },
    {
     "name": "stderr",
     "output_type": "stream",
     "text": [
      "  0%|          | 0/1 [00:03<?, ?it/s]\n"
     ]
    },
    {
     "name": "stdout",
     "output_type": "stream",
     "text": [
      "LCAM3.SA\n"
     ]
    },
    {
     "name": "stderr",
     "output_type": "stream",
     "text": [
      "  0%|          | 0/1 [00:03<?, ?it/s]\n"
     ]
    },
    {
     "name": "stdout",
     "output_type": "stream",
     "text": [
      "BIDI4.SA\n"
     ]
    },
    {
     "name": "stderr",
     "output_type": "stream",
     "text": [
      "  0%|          | 0/1 [00:03<?, ?it/s]\n"
     ]
    },
    {
     "name": "stdout",
     "output_type": "stream",
     "text": [
      "BIDI3.SA\n"
     ]
    },
    {
     "name": "stderr",
     "output_type": "stream",
     "text": [
      "  0%|          | 0/1 [00:04<?, ?it/s]\n"
     ]
    },
    {
     "name": "stdout",
     "output_type": "stream",
     "text": [
      "EEEL4.SA\n"
     ]
    },
    {
     "name": "stderr",
     "output_type": "stream",
     "text": [
      "  0%|          | 0/1 [00:03<?, ?it/s]\n"
     ]
    },
    {
     "name": "stdout",
     "output_type": "stream",
     "text": [
      "EEEL3.SA\n"
     ]
    },
    {
     "name": "stderr",
     "output_type": "stream",
     "text": [
      "  0%|          | 0/1 [00:03<?, ?it/s]\n"
     ]
    },
    {
     "name": "stdout",
     "output_type": "stream",
     "text": [
      "BBRK3.SA\n"
     ]
    },
    {
     "name": "stderr",
     "output_type": "stream",
     "text": [
      "  0%|          | 0/1 [00:03<?, ?it/s]\n"
     ]
    },
    {
     "name": "stdout",
     "output_type": "stream",
     "text": [
      "CESP6.SA\n"
     ]
    },
    {
     "name": "stderr",
     "output_type": "stream",
     "text": [
      "  0%|          | 0/1 [00:03<?, ?it/s]\n"
     ]
    },
    {
     "name": "stdout",
     "output_type": "stream",
     "text": [
      "CESP3.SA\n"
     ]
    },
    {
     "name": "stderr",
     "output_type": "stream",
     "text": [
      "  0%|          | 0/1 [00:04<?, ?it/s]\n"
     ]
    },
    {
     "name": "stdout",
     "output_type": "stream",
     "text": [
      "CESP5.SA\n"
     ]
    },
    {
     "name": "stderr",
     "output_type": "stream",
     "text": [
      "  0%|          | 0/1 [00:04<?, ?it/s]\n"
     ]
    },
    {
     "name": "stdout",
     "output_type": "stream",
     "text": [
      "MOSI3.SA\n"
     ]
    },
    {
     "name": "stderr",
     "output_type": "stream",
     "text": [
      "  0%|          | 0/1 [00:03<?, ?it/s]\n"
     ]
    },
    {
     "name": "stdout",
     "output_type": "stream",
     "text": [
      "POWE3.SA\n"
     ]
    },
    {
     "name": "stderr",
     "output_type": "stream",
     "text": [
      "  0%|          | 0/1 [00:04<?, ?it/s]\n"
     ]
    },
    {
     "name": "stdout",
     "output_type": "stream",
     "text": [
      "GNDI3.SA\n"
     ]
    },
    {
     "name": "stderr",
     "output_type": "stream",
     "text": [
      "  0%|          | 0/1 [00:03<?, ?it/s]\n"
     ]
    },
    {
     "name": "stdout",
     "output_type": "stream",
     "text": [
      "LAME4.SA\n"
     ]
    },
    {
     "name": "stderr",
     "output_type": "stream",
     "text": [
      "  0%|          | 0/1 [00:04<?, ?it/s]\n"
     ]
    },
    {
     "name": "stdout",
     "output_type": "stream",
     "text": [
      "LAME3.SA\n"
     ]
    },
    {
     "name": "stderr",
     "output_type": "stream",
     "text": [
      "  0%|          | 0/1 [00:04<?, ?it/s]\n"
     ]
    },
    {
     "name": "stdout",
     "output_type": "stream",
     "text": [
      "OMGE3.SA\n"
     ]
    },
    {
     "name": "stderr",
     "output_type": "stream",
     "text": [
      "  0%|          | 0/1 [00:03<?, ?it/s]\n"
     ]
    },
    {
     "name": "stdout",
     "output_type": "stream",
     "text": [
      "IGTA3.SA\n"
     ]
    },
    {
     "name": "stderr",
     "output_type": "stream",
     "text": [
      "  0%|          | 0/1 [00:04<?, ?it/s]\n"
     ]
    },
    {
     "name": "stdout",
     "output_type": "stream",
     "text": [
      "JPSA3.SA\n"
     ]
    },
    {
     "name": "stderr",
     "output_type": "stream",
     "text": [
      "  0%|          | 0/1 [00:03<?, ?it/s]\n"
     ]
    },
    {
     "name": "stdout",
     "output_type": "stream",
     "text": [
      "BRDT3.SA\n"
     ]
    },
    {
     "name": "stderr",
     "output_type": "stream",
     "text": [
      "  0%|          | 0/1 [00:03<?, ?it/s]\n"
     ]
    },
    {
     "name": "stdout",
     "output_type": "stream",
     "text": [
      "JBDU4.SA\n"
     ]
    },
    {
     "name": "stderr",
     "output_type": "stream",
     "text": [
      "  0%|          | 0/1 [00:03<?, ?it/s]\n"
     ]
    },
    {
     "name": "stdout",
     "output_type": "stream",
     "text": [
      "JBDU3.SA\n"
     ]
    },
    {
     "name": "stderr",
     "output_type": "stream",
     "text": [
      "  0%|          | 0/1 [00:03<?, ?it/s]\n"
     ]
    },
    {
     "name": "stdout",
     "output_type": "stream",
     "text": [
      "HGTX3.SA\n"
     ]
    },
    {
     "name": "stderr",
     "output_type": "stream",
     "text": [
      "  0%|          | 0/1 [00:03<?, ?it/s]\n"
     ]
    },
    {
     "name": "stdout",
     "output_type": "stream",
     "text": [
      "CCPR3.SA\n"
     ]
    },
    {
     "name": "stderr",
     "output_type": "stream",
     "text": [
      "  0%|          | 0/1 [00:03<?, ?it/s]\n"
     ]
    },
    {
     "name": "stdout",
     "output_type": "stream",
     "text": [
      "DTEX3.SA\n"
     ]
    },
    {
     "name": "stderr",
     "output_type": "stream",
     "text": [
      "  0%|          | 0/1 [00:03<?, ?it/s]\n"
     ]
    },
    {
     "name": "stdout",
     "output_type": "stream",
     "text": [
      "VVAR3.SA\n"
     ]
    },
    {
     "name": "stderr",
     "output_type": "stream",
     "text": [
      "  0%|          | 0/1 [00:03<?, ?it/s]\n"
     ]
    },
    {
     "name": "stdout",
     "output_type": "stream",
     "text": [
      "PNVL4.SA\n"
     ]
    },
    {
     "name": "stderr",
     "output_type": "stream",
     "text": [
      "  0%|          | 0/1 [00:03<?, ?it/s]\n"
     ]
    },
    {
     "name": "stdout",
     "output_type": "stream",
     "text": [
      "TESA3.SA\n"
     ]
    },
    {
     "name": "stderr",
     "output_type": "stream",
     "text": [
      "  0%|          | 0/1 [00:03<?, ?it/s]\n"
     ]
    },
    {
     "name": "stdout",
     "output_type": "stream",
     "text": [
      "BTOW3.SA\n"
     ]
    },
    {
     "name": "stderr",
     "output_type": "stream",
     "text": [
      "  0%|          | 0/1 [00:03<?, ?it/s]\n"
     ]
    },
    {
     "name": "stdout",
     "output_type": "stream",
     "text": [
      "LINX3.SA\n"
     ]
    },
    {
     "name": "stderr",
     "output_type": "stream",
     "text": [
      "  0%|          | 0/1 [00:03<?, ?it/s]\n"
     ]
    },
    {
     "name": "stdout",
     "output_type": "stream",
     "text": [
      "BTTL3.SA\n"
     ]
    },
    {
     "name": "stderr",
     "output_type": "stream",
     "text": [
      "  0%|          | 0/1 [00:03<?, ?it/s]\n"
     ]
    },
    {
     "name": "stdout",
     "output_type": "stream",
     "text": [
      "GPCP3.SA\n"
     ]
    },
    {
     "name": "stderr",
     "output_type": "stream",
     "text": [
      "  0%|          | 0/1 [00:03<?, ?it/s]\n"
     ]
    },
    {
     "name": "stdout",
     "output_type": "stream",
     "text": [
      "GPCP4.SA\n"
     ]
    },
    {
     "name": "stderr",
     "output_type": "stream",
     "text": [
      "  0%|          | 0/1 [00:03<?, ?it/s]\n"
     ]
    },
    {
     "name": "stdout",
     "output_type": "stream",
     "text": [
      "SMLS3.SA\n"
     ]
    },
    {
     "name": "stderr",
     "output_type": "stream",
     "text": [
      "  0%|          | 0/1 [00:03<?, ?it/s]\n"
     ]
    },
    {
     "name": "stdout",
     "output_type": "stream",
     "text": [
      "MMXM3.SA\n"
     ]
    },
    {
     "name": "stderr",
     "output_type": "stream",
     "text": [
      "  0%|          | 0/1 [00:03<?, ?it/s]\n"
     ]
    },
    {
     "name": "stdout",
     "output_type": "stream",
     "text": [
      "BSEV3.SA\n"
     ]
    },
    {
     "name": "stderr",
     "output_type": "stream",
     "text": [
      "  0%|          | 0/1 [00:03<?, ?it/s]\n"
     ]
    },
    {
     "name": "stdout",
     "output_type": "stream",
     "text": [
      "CNTO3.SA\n"
     ]
    },
    {
     "name": "stderr",
     "output_type": "stream",
     "text": [
      "  0%|          | 0/1 [00:03<?, ?it/s]\n"
     ]
    },
    {
     "name": "stdout",
     "output_type": "stream",
     "text": [
      "TIET4.SA\n"
     ]
    },
    {
     "name": "stderr",
     "output_type": "stream",
     "text": [
      "  0%|          | 0/1 [00:03<?, ?it/s]\n"
     ]
    },
    {
     "name": "stdout",
     "output_type": "stream",
     "text": [
      "TIET3.SA\n"
     ]
    },
    {
     "name": "stderr",
     "output_type": "stream",
     "text": [
      "  0%|          | 0/1 [00:03<?, ?it/s]\n"
     ]
    },
    {
     "name": "stdout",
     "output_type": "stream",
     "text": [
      "CEPE3.SA\n"
     ]
    },
    {
     "name": "stderr",
     "output_type": "stream",
     "text": [
      "  0%|          | 0/1 [00:03<?, ?it/s]\n"
     ]
    },
    {
     "name": "stdout",
     "output_type": "stream",
     "text": [
      "CALI4.SA\n"
     ]
    },
    {
     "name": "stderr",
     "output_type": "stream",
     "text": [
      "  0%|          | 0/1 [00:03<?, ?it/s]\n"
     ]
    },
    {
     "name": "stdout",
     "output_type": "stream",
     "text": [
      "BPAR3.SA\n"
     ]
    },
    {
     "name": "stderr",
     "output_type": "stream",
     "text": [
      "  0%|          | 0/1 [00:03<?, ?it/s]\n"
     ]
    },
    {
     "name": "stdout",
     "output_type": "stream",
     "text": [
      "APTI4.SA\n"
     ]
    },
    {
     "name": "stderr",
     "output_type": "stream",
     "text": [
      "  0%|          | 0/1 [00:03<?, ?it/s]\n"
     ]
    },
    {
     "name": "stdout",
     "output_type": "stream",
     "text": [
      "WIZS3.SA\n"
     ]
    },
    {
     "name": "stderr",
     "output_type": "stream",
     "text": [
      "  0%|          | 0/1 [00:03<?, ?it/s]\n"
     ]
    },
    {
     "name": "stdout",
     "output_type": "stream",
     "text": [
      "LLIS3.SA\n"
     ]
    },
    {
     "name": "stderr",
     "output_type": "stream",
     "text": [
      "  0%|          | 0/1 [00:03<?, ?it/s]\n"
     ]
    },
    {
     "name": "stdout",
     "output_type": "stream",
     "text": [
      "BRML3.SA\n"
     ]
    },
    {
     "name": "stderr",
     "output_type": "stream",
     "text": [
      "  0%|          | 0/1 [00:03<?, ?it/s]\n"
     ]
    },
    {
     "name": "stdout",
     "output_type": "stream",
     "text": [
      "DMMO3.SA\n"
     ]
    },
    {
     "name": "stderr",
     "output_type": "stream",
     "text": [
      "  0%|          | 0/1 [00:03<?, ?it/s]\n"
     ]
    },
    {
     "name": "stdout",
     "output_type": "stream",
     "text": [
      "GETT3.SA\n"
     ]
    },
    {
     "name": "stderr",
     "output_type": "stream",
     "text": [
      "  0%|          | 0/1 [00:03<?, ?it/s]\n"
     ]
    },
    {
     "name": "stdout",
     "output_type": "stream",
     "text": [
      "GETT4.SA\n"
     ]
    },
    {
     "name": "stderr",
     "output_type": "stream",
     "text": [
      "  0%|          | 0/1 [00:03<?, ?it/s]\n"
     ]
    },
    {
     "name": "stdout",
     "output_type": "stream",
     "text": [
      "SULA4.SA\n"
     ]
    },
    {
     "name": "stderr",
     "output_type": "stream",
     "text": [
      "  0%|          | 0/1 [00:03<?, ?it/s]\n"
     ]
    },
    {
     "name": "stdout",
     "output_type": "stream",
     "text": [
      "SULA3.SA\n"
     ]
    },
    {
     "name": "stderr",
     "output_type": "stream",
     "text": [
      "  0%|          | 0/1 [00:03<?, ?it/s]\n"
     ]
    },
    {
     "name": "stdout",
     "output_type": "stream",
     "text": [
      "CEPE5.SA\n"
     ]
    },
    {
     "name": "stderr",
     "output_type": "stream",
     "text": [
      "  0%|          | 0/1 [00:03<?, ?it/s]\n"
     ]
    },
    {
     "name": "stdout",
     "output_type": "stream",
     "text": [
      "CEPE6.SA\n"
     ]
    },
    {
     "name": "stderr",
     "output_type": "stream",
     "text": [
      "  0%|          | 0/1 [00:03<?, ?it/s]\n"
     ]
    },
    {
     "name": "stdout",
     "output_type": "stream",
     "text": [
      "BKBR3.SA\n"
     ]
    },
    {
     "name": "stderr",
     "output_type": "stream",
     "text": [
      "  0%|          | 0/1 [00:03<?, ?it/s]\n"
     ]
    },
    {
     "name": "stdout",
     "output_type": "stream",
     "text": [
      "MTIG4.SA\n"
     ]
    },
    {
     "name": "stderr",
     "output_type": "stream",
     "text": [
      "  0%|          | 0/1 [00:03<?, ?it/s]\n"
     ]
    },
    {
     "name": "stdout",
     "output_type": "stream",
     "text": [
      "BLUT4.SA\n"
     ]
    },
    {
     "name": "stderr",
     "output_type": "stream",
     "text": [
      "  0%|          | 0/1 [00:00<?, ?it/s]"
     ]
    },
    {
     "name": "stderr",
     "output_type": "stream",
     "text": [
      "  0%|          | 0/1 [00:03<?, ?it/s]\n"
     ]
    },
    {
     "name": "stdout",
     "output_type": "stream",
     "text": [
      "BLUT3.SA\n"
     ]
    },
    {
     "name": "stderr",
     "output_type": "stream",
     "text": [
      "  0%|          | 0/1 [00:03<?, ?it/s]\n"
     ]
    },
    {
     "name": "stdout",
     "output_type": "stream",
     "text": [
      "MODL4.SA\n"
     ]
    },
    {
     "name": "stderr",
     "output_type": "stream",
     "text": [
      "  0%|          | 0/1 [00:00<?, ?it/s]"
     ]
    }
   ],
   "source": [
    "# Retentar\n",
    "\n",
    "Retentar = False\n",
    "\n",
    "\n",
    "if Retentar:\n",
    "    for ticker in falhas:\n",
    "        print(ticker)\n",
    "        query = yq.Ticker(ticker, backoff_factor=0.2, progress=True, retry=3, status_forcelist=[404, 429, 500, 502, 503, 504], asynchronous=True)\n",
    "        try:\n",
    "            histórico = query.history(period='1y', interval='1d',adj_timezone=True)\n",
    "        except:\n",
    "            falhas.append(ticker)\n",
    "        else:\n",
    "            dados[ticker] = histórico.reset_index().set_index('date')\n",
    "\n",
    "print(len(dados),\"tickers salvos com sucesso.\")\n",
    "print(len(falhas),\"tickers apresentaram falha\")"
   ]
  },
  {
   "cell_type": "code",
   "execution_count": 36,
   "metadata": {},
   "outputs": [
    {
     "name": "stdout",
     "output_type": "stream",
     "text": [
      "Arquivo PETR4.SA.csv salvo com sucesso.\n",
      "Arquivo MGLU3.SA.csv salvo com sucesso.\n",
      "Arquivo HAPV3.SA.csv salvo com sucesso.\n",
      "Arquivo CIEL3.SA.csv salvo com sucesso.\n",
      "Arquivo B3SA3.SA.csv salvo com sucesso.\n",
      "Arquivo VIIA3.SA.csv salvo com sucesso.\n",
      "Arquivo ITSA4.SA.csv salvo com sucesso.\n",
      "Arquivo CVCB3.SA.csv salvo com sucesso.\n",
      "Arquivo VALE3.SA.csv salvo com sucesso.\n",
      "Arquivo BBDC4.SA.csv salvo com sucesso.\n",
      "Arquivo ITUB4.SA.csv salvo com sucesso.\n",
      "Arquivo AMER3.SA.csv salvo com sucesso.\n",
      "Arquivo ASAI3.SA.csv salvo com sucesso.\n",
      "Arquivo TRAD3.SA.csv salvo com sucesso.\n",
      "Arquivo BBAS3.SA.csv salvo com sucesso.\n",
      "Arquivo OIBR3.SA.csv salvo com sucesso.\n",
      "Arquivo PETR3.SA.csv salvo com sucesso.\n",
      "Arquivo ABEV3.SA.csv salvo com sucesso.\n",
      "Arquivo LREN3.SA.csv salvo com sucesso.\n",
      "Arquivo CPLE6.SA.csv salvo com sucesso.\n",
      "Arquivo COGN3.SA.csv salvo com sucesso.\n",
      "Arquivo GOLL4.SA.csv salvo com sucesso.\n",
      "Arquivo RAIZ4.SA.csv salvo com sucesso.\n",
      "Arquivo RAIL3.SA.csv salvo com sucesso.\n",
      "Arquivo SUZB3.SA.csv salvo com sucesso.\n",
      "Arquivo INTB3.SA.csv salvo com sucesso.\n",
      "Arquivo CSAN3.SA.csv salvo com sucesso.\n",
      "Arquivo MRVE3.SA.csv salvo com sucesso.\n",
      "Arquivo BRFS3.SA.csv salvo com sucesso.\n",
      "Arquivo BRKM5.SA.csv salvo com sucesso.\n",
      "Arquivo AZUL4.SA.csv salvo com sucesso.\n",
      "Arquivo AMAR3.SA.csv salvo com sucesso.\n",
      "Arquivo VBBR3.SA.csv salvo com sucesso.\n",
      "Arquivo CMIN3.SA.csv salvo com sucesso.\n",
      "Arquivo CEAB3.SA.csv salvo com sucesso.\n",
      "Arquivo EQTL3.SA.csv salvo com sucesso.\n",
      "Arquivo JBSS3.SA.csv salvo com sucesso.\n",
      "Arquivo ELET3.SA.csv salvo com sucesso.\n",
      "Arquivo SEQL3.SA.csv salvo com sucesso.\n",
      "Arquivo POMO4.SA.csv salvo com sucesso.\n",
      "Arquivo USIM5.SA.csv salvo com sucesso.\n",
      "Arquivo YDUQ3.SA.csv salvo com sucesso.\n",
      "Arquivo LIGT3.SA.csv salvo com sucesso.\n",
      "Arquivo GGBR4.SA.csv salvo com sucesso.\n",
      "Arquivo CCRO3.SA.csv salvo com sucesso.\n",
      "Arquivo EMBR3.SA.csv salvo com sucesso.\n",
      "Arquivo NTCO3.SA.csv salvo com sucesso.\n",
      "Arquivo PETZ3.SA.csv salvo com sucesso.\n",
      "Arquivo IFCM3.SA.csv salvo com sucesso.\n",
      "Arquivo CMIG4.SA.csv salvo com sucesso.\n",
      "Arquivo RENT3.SA.csv salvo com sucesso.\n",
      "Arquivo MRFG3.SA.csv salvo com sucesso.\n",
      "Arquivo ANIM3.SA.csv salvo com sucesso.\n",
      "Arquivo CBAV3.SA.csv salvo com sucesso.\n",
      "Arquivo GFSA3.SA.csv salvo com sucesso.\n",
      "Arquivo CYRE3.SA.csv salvo com sucesso.\n",
      "Arquivo SOMA3.SA.csv salvo com sucesso.\n",
      "Arquivo CRFB3.SA.csv salvo com sucesso.\n",
      "Arquivo BBSE3.SA.csv salvo com sucesso.\n",
      "Arquivo RRRP3.SA.csv salvo com sucesso.\n",
      "Arquivo CSNA3.SA.csv salvo com sucesso.\n",
      "Arquivo PRIO3.SA.csv salvo com sucesso.\n",
      "Arquivo LWSA3.SA.csv salvo com sucesso.\n",
      "Arquivo BBDC3.SA.csv salvo com sucesso.\n",
      "Arquivo WEGE3.SA.csv salvo com sucesso.\n",
      "Arquivo NEOE3.SA.csv salvo com sucesso.\n",
      "Arquivo ALPA4.SA.csv salvo com sucesso.\n",
      "Arquivo TIMS3.SA.csv salvo com sucesso.\n",
      "Arquivo TOTS3.SA.csv salvo com sucesso.\n",
      "Arquivo GMAT3.SA.csv salvo com sucesso.\n",
      "Arquivo ENEV3.SA.csv salvo com sucesso.\n",
      "Arquivo GOAU4.SA.csv salvo com sucesso.\n",
      "Arquivo ECOR3.SA.csv salvo com sucesso.\n",
      "Arquivo UGPA3.SA.csv salvo com sucesso.\n",
      "Arquivo FLRY3.SA.csv salvo com sucesso.\n",
      "Arquivo VAMO3.SA.csv salvo com sucesso.\n",
      "Arquivo QUAL3.SA.csv salvo com sucesso.\n",
      "Arquivo RADL3.SA.csv salvo com sucesso.\n",
      "Arquivo MULT3.SA.csv salvo com sucesso.\n",
      "Arquivo RDOR3.SA.csv salvo com sucesso.\n",
      "Arquivo BEEF3.SA.csv salvo com sucesso.\n",
      "Arquivo POSI3.SA.csv salvo com sucesso.\n",
      "Arquivo ODPV3.SA.csv salvo com sucesso.\n",
      "Arquivo TEND3.SA.csv salvo com sucesso.\n",
      "Arquivo JHSF3.SA.csv salvo com sucesso.\n",
      "Arquivo MODL3.SA.csv salvo com sucesso.\n",
      "Arquivo AERI3.SA.csv salvo com sucesso.\n",
      "Arquivo LJQQ3.SA.csv salvo com sucesso.\n",
      "Arquivo HBSA3.SA.csv salvo com sucesso.\n",
      "Arquivo STBP3.SA.csv salvo com sucesso.\n",
      "Arquivo MLAS3.SA.csv salvo com sucesso.\n",
      "Arquivo ALSO3.SA.csv salvo com sucesso.\n",
      "Arquivo SBSP3.SA.csv salvo com sucesso.\n",
      "Arquivo BRSR6.SA.csv salvo com sucesso.\n",
      "Arquivo ABCB4.SA.csv salvo com sucesso.\n",
      "Arquivo BPAN4.SA.csv salvo com sucesso.\n",
      "Arquivo CPFE3.SA.csv salvo com sucesso.\n",
      "Arquivo SLCE3.SA.csv salvo com sucesso.\n",
      "Arquivo DXCO3.SA.csv salvo com sucesso.\n",
      "Arquivo GUAR3.SA.csv salvo com sucesso.\n",
      "Arquivo ENBR3.SA.csv salvo com sucesso.\n",
      "Arquivo BRAP4.SA.csv salvo com sucesso.\n",
      "Arquivo KLBN4.SA.csv salvo com sucesso.\n",
      "Arquivo HYPE3.SA.csv salvo com sucesso.\n",
      "Arquivo CASH3.SA.csv salvo com sucesso.\n",
      "Arquivo MOVI3.SA.csv salvo com sucesso.\n",
      "Arquivo RAPT4.SA.csv salvo com sucesso.\n",
      "Arquivo DIRR3.SA.csv salvo com sucesso.\n",
      "Arquivo PLPL3.SA.csv salvo com sucesso.\n",
      "Arquivo CXSE3.SA.csv salvo com sucesso.\n",
      "Arquivo SAPR4.SA.csv salvo com sucesso.\n",
      "Arquivo RECV3.SA.csv salvo com sucesso.\n",
      "Arquivo TRPL4.SA.csv salvo com sucesso.\n",
      "Arquivo SIMH3.SA.csv salvo com sucesso.\n",
      "Arquivo VIVT3.SA.csv salvo com sucesso.\n",
      "Arquivo GGPS3.SA.csv salvo com sucesso.\n",
      "Arquivo IRBR3.SA.csv salvo com sucesso.\n",
      "Arquivo RANI3.SA.csv salvo com sucesso.\n",
      "Arquivo EZTC3.SA.csv salvo com sucesso.\n",
      "Arquivo SBFG3.SA.csv salvo com sucesso.\n",
      "Arquivo PCAR3.SA.csv salvo com sucesso.\n",
      "Arquivo PSSA3.SA.csv salvo com sucesso.\n",
      "Arquivo KEPL3.SA.csv salvo com sucesso.\n",
      "Arquivo SGPS3.SA.csv salvo com sucesso.\n",
      "Arquivo RCSL3.SA.csv salvo com sucesso.\n",
      "Arquivo DASA3.SA.csv salvo com sucesso.\n",
      "Arquivo ELET6.SA.csv salvo com sucesso.\n",
      "Arquivo EVEN3.SA.csv salvo com sucesso.\n",
      "Arquivo ONCO3.SA.csv salvo com sucesso.\n",
      "Arquivo MBLY3.SA.csv salvo com sucesso.\n",
      "Arquivo GRND3.SA.csv salvo com sucesso.\n",
      "Arquivo SMTO3.SA.csv salvo com sucesso.\n",
      "Arquivo SMFT3.SA.csv salvo com sucesso.\n",
      "Arquivo CURY3.SA.csv salvo com sucesso.\n",
      "Arquivo ENAT3.SA.csv salvo com sucesso.\n",
      "Arquivo BRIT3.SA.csv salvo com sucesso.\n",
      "Arquivo CPLE3.SA.csv salvo com sucesso.\n",
      "Arquivo PTBL3.SA.csv salvo com sucesso.\n",
      "Arquivo PGMN3.SA.csv salvo com sucesso.\n",
      "Arquivo LUPA3.SA.csv salvo com sucesso.\n",
      "Arquivo KRSA3.SA.csv salvo com sucesso.\n",
      "Arquivo HBOR3.SA.csv salvo com sucesso.\n",
      "Arquivo ARZZ3.SA.csv salvo com sucesso.\n",
      "Arquivo VIVA3.SA.csv salvo com sucesso.\n",
      "Arquivo NGRD3.SA.csv salvo com sucesso.\n",
      "Arquivo ESPA3.SA.csv salvo com sucesso.\n",
      "Arquivo CSMG3.SA.csv salvo com sucesso.\n",
      "Arquivo AESB3.SA.csv salvo com sucesso.\n",
      "Arquivo EGIE3.SA.csv salvo com sucesso.\n",
      "Arquivo BOAS3.SA.csv salvo com sucesso.\n",
      "Arquivo CAML3.SA.csv salvo com sucesso.\n",
      "Arquivo MYPK3.SA.csv salvo com sucesso.\n",
      "Arquivo AMBP3.SA.csv salvo com sucesso.\n",
      "Arquivo ALPK3.SA.csv salvo com sucesso.\n",
      "Arquivo ITUB3.SA.csv salvo com sucesso.\n",
      "Arquivo ZAMP3.SA.csv salvo com sucesso.\n",
      "Arquivo LAVV3.SA.csv salvo com sucesso.\n",
      "Arquivo LOGG3.SA.csv salvo com sucesso.\n",
      "Arquivo MEAL3.SA.csv salvo com sucesso.\n",
      "Arquivo VIVR3.SA.csv salvo com sucesso.\n",
      "Arquivo CMIG3.SA.csv salvo com sucesso.\n",
      "Arquivo LEVE3.SA.csv salvo com sucesso.\n",
      "Arquivo SEER3.SA.csv salvo com sucesso.\n",
      "Arquivo HBRE3.SA.csv salvo com sucesso.\n",
      "Arquivo AGRO3.SA.csv salvo com sucesso.\n",
      "Arquivo JALL3.SA.csv salvo com sucesso.\n",
      "Arquivo TRIS3.SA.csv salvo com sucesso.\n",
      "Arquivo SQIA3.SA.csv salvo com sucesso.\n",
      "Arquivo VVEO3.SA.csv salvo com sucesso.\n",
      "Arquivo MATD3.SA.csv salvo com sucesso.\n",
      "Arquivo TTEN3.SA.csv salvo com sucesso.\n",
      "Arquivo BMGB4.SA.csv salvo com sucesso.\n",
      "Arquivo ENJU3.SA.csv salvo com sucesso.\n",
      "Arquivo MDIA3.SA.csv salvo com sucesso.\n",
      "Arquivo UNIP6.SA.csv salvo com sucesso.\n",
      "Arquivo WIZC3.SA.csv salvo com sucesso.\n",
      "Arquivo TUPY3.SA.csv salvo com sucesso.\n",
      "Arquivo TASA4.SA.csv salvo com sucesso.\n",
      "Arquivo TECN3.SA.csv salvo com sucesso.\n",
      "Arquivo ITSA3.SA.csv salvo com sucesso.\n",
      "Arquivo SOJA3.SA.csv salvo com sucesso.\n",
      "Arquivo MILS3.SA.csv salvo com sucesso.\n",
      "Arquivo AZEV4.SA.csv salvo com sucesso.\n",
      "Arquivo BMOB3.SA.csv salvo com sucesso.\n",
      "Arquivo VULC3.SA.csv salvo com sucesso.\n",
      "Arquivo KLBN3.SA.csv salvo com sucesso.\n",
      "Arquivo INEP3.SA.csv salvo com sucesso.\n",
      "Arquivo VLID3.SA.csv salvo com sucesso.\n",
      "Arquivo ARML3.SA.csv salvo com sucesso.\n",
      "Arquivo SANB3.SA.csv salvo com sucesso.\n",
      "Arquivo PDTC3.SA.csv salvo com sucesso.\n",
      "Arquivo PNVL3.SA.csv salvo com sucesso.\n",
      "Arquivo SAPR3.SA.csv salvo com sucesso.\n",
      "Arquivo SANB4.SA.csv salvo com sucesso.\n",
      "Arquivo SHUL4.SA.csv salvo com sucesso.\n",
      "Arquivo TPIS3.SA.csv salvo com sucesso.\n",
      "Arquivo MDNE3.SA.csv salvo com sucesso.\n",
      "Arquivo WEST3.SA.csv salvo com sucesso.\n",
      "Arquivo OPCT3.SA.csv salvo com sucesso.\n",
      "Arquivo ETER3.SA.csv salvo com sucesso.\n",
      "Arquivo PINE4.SA.csv salvo com sucesso.\n",
      "Arquivo MELK3.SA.csv salvo com sucesso.\n",
      "Arquivo PORT3.SA.csv salvo com sucesso.\n",
      "Arquivo SHOW3.SA.csv salvo com sucesso.\n",
      "Arquivo MTRE3.SA.csv salvo com sucesso.\n",
      "Arquivo ROMI3.SA.csv salvo com sucesso.\n",
      "Arquivo PRNR3.SA.csv salvo com sucesso.\n",
      "Arquivo ORVR3.SA.csv salvo com sucesso.\n",
      "Arquivo JSLG3.SA.csv salvo com sucesso.\n",
      "Arquivo INEP4.SA.csv salvo com sucesso.\n",
      "Arquivo CSED3.SA.csv salvo com sucesso.\n",
      "Arquivo AALR3.SA.csv salvo com sucesso.\n",
      "Arquivo VITT3.SA.csv salvo com sucesso.\n",
      "Arquivo BLAU3.SA.csv salvo com sucesso.\n",
      "Arquivo FIQE3.SA.csv salvo com sucesso.\n",
      "Arquivo CTSA4.SA.csv salvo com sucesso.\n",
      "Arquivo NINJ3.SA.csv salvo com sucesso.\n",
      "Arquivo CLSA3.SA.csv salvo com sucesso.\n",
      "Arquivo FESA4.SA.csv salvo com sucesso.\n",
      "Arquivo TAEE4.SA.csv salvo com sucesso.\n",
      "Arquivo TCSA3.SA.csv salvo com sucesso.\n",
      "Arquivo LVTC3.SA.csv salvo com sucesso.\n",
      "Arquivo FRAS3.SA.csv salvo com sucesso.\n",
      "Arquivo DOTZ3.SA.csv salvo com sucesso.\n",
      "Arquivo USIM3.SA.csv salvo com sucesso.\n",
      "Arquivo RPMG3.SA.csv salvo com sucesso.\n",
      "Arquivo LPSB3.SA.csv salvo com sucesso.\n",
      "Arquivo ELMD3.SA.csv salvo com sucesso.\n",
      "Arquivo CTNM4.SA.csv salvo com sucesso.\n",
      "Arquivo PFRM3.SA.csv salvo com sucesso.\n",
      "Arquivo ALLD3.SA.csv salvo com sucesso.\n",
      "Arquivo IGTI3.SA.csv salvo com sucesso.\n",
      "Arquivo CAMB3.SA.csv salvo com sucesso.\n",
      "Arquivo RNEW3.SA.csv salvo com sucesso.\n",
      "Arquivo BOBR4.SA.csv salvo com sucesso.\n",
      "Arquivo PDGR3.SA.csv salvo com sucesso.\n",
      "Arquivo HAGA4.SA.csv salvo com sucesso.\n",
      "Arquivo LOGN3.SA.csv salvo com sucesso.\n",
      "Arquivo RCSL4.SA.csv salvo com sucesso.\n",
      "Arquivo HAGA3.SA.csv salvo com sucesso.\n",
      "Arquivo BRAP3.SA.csv salvo com sucesso.\n",
      "Arquivo BRKM3.SA.csv salvo com sucesso.\n",
      "Arquivo OIBR4.SA.csv salvo com sucesso.\n",
      "Arquivo RNEW4.SA.csv salvo com sucesso.\n",
      "Arquivo AGXY3.SA.csv salvo com sucesso.\n",
      "Arquivo TFCO4.SA.csv salvo com sucesso.\n",
      "Arquivo RSID3.SA.csv salvo com sucesso.\n",
      "Arquivo SYNE3.SA.csv salvo com sucesso.\n",
      "Arquivo TAEE3.SA.csv salvo com sucesso.\n",
      "Arquivo CTSA3.SA.csv salvo com sucesso.\n",
      "Arquivo HOOT4.SA.csv salvo com sucesso.\n",
      "Arquivo DESK3.SA.csv salvo com sucesso.\n",
      "Arquivo PMAM3.SA.csv salvo com sucesso.\n",
      "Arquivo EUCA4.SA.csv salvo com sucesso.\n",
      "Arquivo BAHI3.SA.csv salvo com sucesso.\n",
      "Arquivo BRPR3.SA.csv salvo com sucesso.\n",
      "Arquivo BMEB4.SA.csv salvo com sucesso.\n",
      "Arquivo DEXP3.SA.csv salvo com sucesso.\n",
      "Arquivo TGMA3.SA.csv salvo com sucesso.\n",
      "Arquivo VSTE3.SA.csv salvo com sucesso.\n",
      "Arquivo AZEV3.SA.csv salvo com sucesso.\n",
      "Arquivo CSUD3.SA.csv salvo com sucesso.\n",
      "Arquivo ATMP3.SA.csv salvo com sucesso.\n",
      "Arquivo POMO3.SA.csv salvo com sucesso.\n",
      "Arquivo GOAU3.SA.csv salvo com sucesso.\n",
      "Arquivo IGTI4.SA.csv salvo com sucesso.\n",
      "Arquivo GGBR3.SA.csv salvo com sucesso.\n",
      "Arquivo NEXP3.SA.csv salvo com sucesso.\n",
      "Arquivo FHER3.SA.csv salvo com sucesso.\n",
      "Arquivo RAPT3.SA.csv salvo com sucesso.\n",
      "Arquivo BIOM3.SA.csv salvo com sucesso.\n",
      "Arquivo UCAS3.SA.csv salvo com sucesso.\n",
      "Arquivo BEES3.SA.csv salvo com sucesso.\n",
      "Arquivo LAND3.SA.csv salvo com sucesso.\n",
      "Arquivo ALUP4.SA.csv salvo com sucesso.\n",
      "Arquivo AVLL3.SA.csv salvo com sucesso.\n",
      "Arquivo BEES4.SA.csv salvo com sucesso.\n",
      "Arquivo ENGI4.SA.csv salvo com sucesso.\n",
      "Arquivo CLSC4.SA.csv salvo com sucesso.\n",
      "Arquivo SLED4.SA.csv salvo com sucesso.\n",
      "Arquivo REDE3.SA.csv salvo com sucesso.\n",
      "Arquivo CEDO4.SA.csv salvo com sucesso.\n",
      "Arquivo DMVF3.SA.csv salvo com sucesso.\n",
      "Arquivo OSXB3.SA.csv salvo com sucesso.\n",
      "Arquivo COCE5.SA.csv salvo com sucesso.\n",
      "Arquivo APER3.SA.csv salvo com sucesso.\n",
      "Arquivo BRSR3.SA.csv salvo com sucesso.\n",
      "Arquivo TASA3.SA.csv salvo com sucesso.\n",
      "Arquivo SNSY5.SA.csv salvo com sucesso.\n",
      "Arquivo UNIP3.SA.csv salvo com sucesso.\n",
      "Arquivo WHRL4.SA.csv salvo com sucesso.\n",
      "Arquivo JFEN3.SA.csv salvo com sucesso.\n",
      "Arquivo ALUP3.SA.csv salvo com sucesso.\n",
      "Arquivo ATOM3.SA.csv salvo com sucesso.\n",
      "Arquivo RSUL4.SA.csv salvo com sucesso.\n",
      "Arquivo ENGI3.SA.csv salvo com sucesso.\n",
      "Arquivo EALT4.SA.csv salvo com sucesso.\n",
      "Arquivo CEBR6.SA.csv salvo com sucesso.\n",
      "Arquivo CGRA3.SA.csv salvo com sucesso.\n",
      "Arquivo ALPA3.SA.csv salvo com sucesso.\n",
      "Arquivo OFSA3.SA.csv salvo com sucesso.\n",
      "Arquivo BPAC3.SA.csv salvo com sucesso.\n",
      "Arquivo BPAC5.SA.csv salvo com sucesso.\n",
      "Arquivo RDNI3.SA.csv salvo com sucesso.\n",
      "Arquivo PTNT4.SA.csv salvo com sucesso.\n",
      "Arquivo MWET4.SA.csv salvo com sucesso.\n",
      "Arquivo EUCA3.SA.csv salvo com sucesso.\n",
      "Arquivo CGRA4.SA.csv salvo com sucesso.\n",
      "Arquivo CTNM3.SA.csv salvo com sucesso.\n",
      "Arquivo LUXM4.SA.csv salvo com sucesso.\n",
      "Arquivo CEBR5.SA.csv salvo com sucesso.\n",
      "Arquivo DEXP4.SA.csv salvo com sucesso.\n",
      "Arquivo SNSY3.SA.csv salvo com sucesso.\n",
      "Arquivo EQPA3.SA.csv salvo com sucesso.\n",
      "Arquivo TELB4.SA.csv salvo com sucesso.\n",
      "Arquivo CEDO3.SA.csv salvo com sucesso.\n",
      "Arquivo MTSA4.SA.csv salvo com sucesso.\n",
      "Arquivo BMEB3.SA.csv salvo com sucesso.\n",
      "Arquivo EMAE4.SA.csv salvo com sucesso.\n",
      "Arquivo CRPG5.SA.csv salvo com sucesso.\n",
      "Arquivo WLMM4.SA.csv salvo com sucesso.\n",
      "Arquivo SCAR3.SA.csv salvo com sucesso.\n",
      "Arquivo GSHP3.SA.csv salvo com sucesso.\n",
      "Arquivo WHRL3.SA.csv salvo com sucesso.\n",
      "Arquivo BAZA3.SA.csv salvo com sucesso.\n",
      "Arquivo HETA4.SA.csv salvo com sucesso.\n",
      "Arquivo PTNT3.SA.csv salvo com sucesso.\n",
      "Arquivo ENMT4.SA.csv salvo com sucesso.\n",
      "Arquivo TEKA4.SA.csv salvo com sucesso.\n",
      "Arquivo JOPA3.SA.csv salvo com sucesso.\n",
      "Arquivo ENMT3.SA.csv salvo com sucesso.\n",
      "Arquivo MNPR3.SA.csv salvo com sucesso.\n",
      "Arquivo DOHL4.SA.csv salvo com sucesso.\n",
      "Arquivo MNDL3.SA.csv salvo com sucesso.\n",
      "Arquivo CEBR3.SA.csv salvo com sucesso.\n",
      "Arquivo AFLT3.SA.csv salvo com sucesso.\n",
      "Arquivo CGAS5.SA.csv salvo com sucesso.\n",
      "Arquivo CRPG6.SA.csv salvo com sucesso.\n",
      "Arquivo BMIN4.SA.csv salvo com sucesso.\n",
      "Arquivo EALT3.SA.csv salvo com sucesso.\n",
      "Arquivo GEPA4.SA.csv salvo com sucesso.\n",
      "Arquivo MGEL4.SA.csv salvo com sucesso.\n",
      "Arquivo BSLI3.SA.csv salvo com sucesso.\n",
      "Arquivo BSLI4.SA.csv salvo com sucesso.\n",
      "Arquivo CTKA4.SA.csv salvo com sucesso.\n",
      "Arquivo SLED3.SA.csv salvo com sucesso.\n",
      "Arquivo CRIV4.SA.csv salvo com sucesso.\n",
      "Arquivo PEAB3.SA.csv salvo com sucesso.\n",
      "Arquivo TRPL3.SA.csv salvo com sucesso.\n",
      "Arquivo EPAR3.SA.csv salvo com sucesso.\n",
      "Arquivo CPLE5.SA.csv salvo com sucesso.\n",
      "Arquivo TELB3.SA.csv salvo com sucesso.\n",
      "Arquivo BGIP4.SA.csv salvo com sucesso.\n",
      "Arquivo BDLL4.SA.csv salvo com sucesso.\n",
      "Arquivo ESTR4.SA.csv salvo com sucesso.\n",
      "Arquivo FRTA3.SA.csv salvo com sucesso.\n",
      "Arquivo CGAS3.SA.csv salvo com sucesso.\n",
      "Arquivo HBTS5.SA.csv salvo com sucesso.\n",
      "Arquivo EKTR4.SA.csv salvo com sucesso.\n",
      "Arquivo EQMA3B.SA.csv salvo com sucesso.\n",
      "Arquivo BRSR5.SA.csv salvo com sucesso.\n",
      "Arquivo CBEE3.SA.csv salvo com sucesso.\n",
      "Arquivo PLAS3.SA.csv salvo com sucesso.\n",
      "Arquivo CRIV3.SA.csv salvo com sucesso.\n",
      "Arquivo MOAR3.SA.csv salvo com sucesso.\n",
      "Arquivo CEEB3.SA.csv salvo com sucesso.\n",
      "Arquivo PATI3.SA.csv salvo com sucesso.\n",
      "Arquivo CEED3.SA.csv salvo com sucesso.\n",
      "Arquivo BGIP3.SA.csv salvo com sucesso.\n",
      "Arquivo AHEB3.SA.csv salvo com sucesso.\n",
      "Arquivo AHEB6.SA.csv salvo com sucesso.\n",
      "Arquivo BALM3.SA.csv salvo com sucesso.\n",
      "Arquivo RPAD5.SA.csv salvo com sucesso.\n",
      "Arquivo BMKS3.SA.csv salvo com sucesso.\n",
      "Arquivo LIPR3.SA.csv salvo com sucesso.\n",
      "Arquivo PEAB4.SA.csv salvo com sucesso.\n",
      "Arquivo CRDE3.SA.csv salvo com sucesso.\n",
      "Arquivo UNIP5.SA.csv salvo com sucesso.\n",
      "Arquivo CSRN3.SA.csv salvo com sucesso.\n",
      "Arquivo NORD3.SA.csv salvo com sucesso.\n",
      "Arquivo BDLL3.SA.csv salvo com sucesso.\n",
      "Arquivo RPAD6.SA.csv salvo com sucesso.\n",
      "Arquivo ESTR3.SA.csv salvo com sucesso.\n",
      "Arquivo BRIV4.SA.csv salvo com sucesso.\n",
      "Arquivo BRIV3.SA.csv salvo com sucesso.\n",
      "Arquivo GEPA3.SA.csv salvo com sucesso.\n",
      "Arquivo CLSC3.SA.csv salvo com sucesso.\n",
      "Arquivo BALM4.SA.csv salvo com sucesso.\n",
      "Arquivo BRKM6.SA.csv salvo com sucesso.\n",
      "Arquivo BNBR3.SA.csv salvo com sucesso.\n",
      "Arquivo BAUH4.SA.csv salvo com sucesso.\n",
      "Arquivo CSRN6.SA.csv salvo com sucesso.\n",
      "Arquivo FESA3.SA.csv salvo com sucesso.\n",
      "Arquivo CRPG3.SA.csv salvo com sucesso.\n",
      "Arquivo CSRN5.SA.csv salvo com sucesso.\n",
      "Arquivo BRGE3.SA.csv salvo com sucesso.\n",
      "Arquivo USIM6.SA.csv salvo com sucesso.\n",
      "Arquivo RPAD3.SA.csv salvo com sucesso.\n",
      "Arquivo BMIN3.SA.csv salvo com sucesso.\n",
      "Arquivo TKNO4.SA.csv salvo com sucesso.\n",
      "Arquivo MERC4.SA.csv salvo com sucesso.\n",
      "Arquivo IGBR3.SA.csv salvo com sucesso.\n",
      "Arquivo PATI4.SA.csv salvo com sucesso.\n",
      "Arquivo ELET5.SA.csv salvo com sucesso.\n",
      "Arquivo COCE3.SA.csv salvo com sucesso.\n",
      "Arquivo BRGE11.SA.csv salvo com sucesso.\n",
      "Arquivo BRGE8.SA.csv salvo com sucesso.\n",
      "Arquivo BRGE6.SA.csv salvo com sucesso.\n",
      "Arquivo FRIO3.SA.csv salvo com sucesso.\n",
      "Arquivo CALI3.SA.csv salvo com sucesso.\n",
      "Arquivo DTCY3.SA.csv salvo com sucesso.\n",
      "Arquivo MSPA4.SA.csv salvo com sucesso.\n",
      "Arquivo SOND5.SA.csv salvo com sucesso.\n",
      "Arquivo CSAB4.SA.csv salvo com sucesso.\n",
      "Arquivo MRSA6B.SA.csv salvo com sucesso.\n",
      "Arquivo CSAB3.SA.csv salvo com sucesso.\n",
      "Arquivo BRGE7.SA.csv salvo com sucesso.\n",
      "Arquivo AHEB5.SA.csv salvo com sucesso.\n",
      "Arquivo DOHL3.SA.csv salvo com sucesso.\n",
      "Arquivo JOPA4.SA.csv salvo com sucesso.\n",
      "Arquivo MWET3.SA.csv salvo com sucesso.\n",
      "Arquivo EKTR3.SA.csv salvo com sucesso.\n",
      "Arquivo BRGE12.SA.csv salvo com sucesso.\n",
      "Arquivo ODER4.SA.csv salvo com sucesso.\n",
      "Arquivo CEEB5.SA.csv salvo com sucesso.\n",
      "Arquivo EQPA7.SA.csv salvo com sucesso.\n",
      "Arquivo PARD3.SA.csv salvo com sucesso.\n",
      "Arquivo CASN3.SA.csv salvo com sucesso.\n",
      "Arquivo WLMM3.SA.csv salvo com sucesso.\n",
      "Arquivo MAPT4.SA.csv salvo com sucesso.\n",
      "Arquivo CEED4.SA.csv salvo com sucesso.\n",
      "Arquivo GPAR3.SA.csv salvo com sucesso.\n",
      "Arquivo MTSA3.SA.csv salvo com sucesso.\n",
      "Arquivo MAPT3.SA.csv salvo com sucesso.\n",
      "Arquivo DMFN3.SA.csv salvo com sucesso.\n",
      "Arquivo SOND6.SA.csv salvo com sucesso.\n",
      "Arquivo MRSA5B.SA.csv salvo com sucesso.\n",
      "Arquivo MSPA3.SA.csv salvo com sucesso.\n",
      "Arquivo EQPA5.SA.csv salvo com sucesso.\n",
      "Arquivo CTKA3.SA.csv salvo com sucesso.\n",
      "Arquivo BRGE5.SA.csv salvo com sucesso.\n",
      "Arquivo MRSA3B.SA.csv salvo com sucesso.\n",
      "Arquivo MERC3.SA.csv salvo com sucesso.\n",
      "Arquivo TCNO4.SA.csv salvo com sucesso.\n",
      "Arquivo TCNO3.SA.csv salvo com sucesso.\n",
      "Arquivo SHUL3.SA.csv salvo com sucesso.\n",
      "Arquivo FIGE3.SA.csv salvo com sucesso.\n",
      "Arquivo TEKA3.SA.csv salvo com sucesso.\n",
      "Arquivo HETA3.SA.csv salvo com sucesso.\n",
      "Arquivo SOND3.SA.csv salvo com sucesso.\n",
      "Arquivo CEGR3.SA.csv salvo com sucesso.\n",
      "Arquivo ECPR4.SA.csv salvo com sucesso.\n",
      "Arquivo EQPA6.SA.csv salvo com sucesso.\n",
      "Arquivo ECPR3.SA.csv salvo com sucesso.\n",
      "Arquivo CORR4.SA.csv salvo com sucesso.\n",
      "Arquivo SNSY6.SA.csv salvo com sucesso.\n",
      "Arquivo CASN4.SA.csv salvo com sucesso.\n",
      "Arquivo EMAE3.SA.csv salvo com sucesso.\n",
      "Arquivo VSPT3.SA.csv salvo com sucesso.\n",
      "Arquivo MTIG3.SA.csv salvo com sucesso.\n",
      "Arquivo FIGE4.SA.csv salvo com sucesso.\n",
      "Arquivo LUXM3.SA.csv salvo com sucesso.\n",
      "Arquivo TKNO3.SA.csv salvo com sucesso.\n",
      "Arquivo COCE6.SA.csv salvo com sucesso.\n",
      "Arquivo MGEL3.SA.csv salvo com sucesso.\n",
      "Arquivo MMAQ4.SA.csv salvo com sucesso.\n"
     ]
    }
   ],
   "source": [
    "dicionario_dataframes = {...}  # Seu dicionário de dataframes\n",
    "pasta_destino = 'dados'  # Caminho para a pasta de destino\n",
    "\n",
    "# Verifica se a pasta de destino existe, se não, cria-a\n",
    "if not os.path.exists(pasta_destino):\n",
    "    os.makedirs(pasta_destino)\n",
    "\n",
    "# Itera pelo dicionário e salva cada dataframe como um arquivo CSV\n",
    "for ticker, df in dados2.items():\n",
    "    nome_arquivo = f'{ticker}.csv'  # Nome do arquivo CSV\n",
    "    caminho_arquivo = os.path.join(pasta_destino, nome_arquivo)  # Caminho completo para o arquivo CSV\n",
    "    \n",
    "    df.to_csv(caminho_arquivo, index=False)  # Salva o dataframe como arquivo CSV\n",
    "    \n",
    "    print(f'Arquivo {nome_arquivo} salvo com sucesso.')\n",
    "\n"
   ]
  },
  {
   "cell_type": "code",
   "execution_count": 42,
   "metadata": {},
   "outputs": [
    {
     "name": "stdout",
     "output_type": "stream",
     "text": [
      "466\n",
      "       symbol        date       open       high        low      close  \\\n",
      "0    PETR4.SA  2022-06-17  28.170000  28.450001  26.129999  27.309999   \n",
      "1    PETR4.SA  2022-06-20  26.020000  28.250000  25.910000  27.620001   \n",
      "2    PETR4.SA  2022-06-21  27.799999  28.160000  26.690001  27.070000   \n",
      "3    PETR4.SA  2022-06-22  26.580000  27.549999  26.389999  26.990000   \n",
      "4    PETR4.SA  2022-06-23  26.980000  27.379999  26.120001  26.490000   \n",
      "..        ...         ...        ...        ...        ...        ...   \n",
      "245  PETR4.SA  2023-06-12  30.219999  30.990000  30.040001  30.809999   \n",
      "246  PETR4.SA  2023-06-13  29.240000  29.240000  28.590000  28.860001   \n",
      "247  PETR4.SA  2023-06-14  28.940001  30.100000  28.879999  30.100000   \n",
      "248  PETR4.SA  2023-06-15  30.200001  30.850000  29.280001  29.389999   \n",
      "249  PETR4.SA  2023-06-16  29.230000  29.920000  29.040001  29.639999   \n",
      "\n",
      "        volume   adjclose  dividends  \n",
      "0    184606500  16.253057   0.000000  \n",
      "1     92581800  16.437550   0.000000  \n",
      "2     85179500  16.110224   0.000000  \n",
      "3     57874700  16.062614   0.000000  \n",
      "4     69262300  15.765049   0.000000  \n",
      "..         ...        ...        ...  \n",
      "245  119350400  28.916424   0.000000  \n",
      "246   79174900  28.860001   1.893576  \n",
      "247   98326000  30.100000   0.000000  \n",
      "248  120579500  29.389999   0.000000  \n",
      "249   94572000  29.639999   0.000000  \n",
      "\n",
      "[250 rows x 9 columns]\n",
      "AALR3.SA\n",
      "ABCB4.SA\n",
      "ABEV3.SA\n",
      "AERI3.SA\n",
      "AESB3.SA\n",
      "AFLT3.SA\n",
      "AGRO3.SA\n",
      "AGXY3.SA\n",
      "AHEB3.SA\n",
      "AHEB5.SA\n",
      "AHEB6.SA\n",
      "ALLD3.SA\n",
      "ALPA3.SA\n",
      "ALPA4.SA\n",
      "ALPK3.SA\n",
      "ALSO3.SA\n",
      "ALUP3.SA\n",
      "ALUP4.SA\n",
      "AMAR3.SA\n",
      "AMBP3.SA\n",
      "AMER3.SA\n",
      "ANIM3.SA\n",
      "APER3.SA\n",
      "ARML3.SA\n",
      "ARZZ3.SA\n",
      "ASAI3.SA\n",
      "ATMP3.SA\n",
      "ATOM3.SA\n",
      "AVLL3.SA\n",
      "AZEV3.SA\n",
      "AZEV4.SA\n",
      "AZUL4.SA\n",
      "B3SA3.SA\n",
      "BAHI3.SA\n",
      "BALM3.SA\n",
      "BALM4.SA\n",
      "BAUH4.SA\n",
      "BAZA3.SA\n",
      "BBAS3.SA\n",
      "BBDC3.SA\n",
      "BBDC4.SA\n",
      "BBSE3.SA\n",
      "BDLL3.SA\n",
      "BDLL4.SA\n",
      "BEEF3.SA\n",
      "BEES3.SA\n",
      "BEES4.SA\n",
      "BGIP3.SA\n",
      "BGIP4.SA\n",
      "BIOM3.SA\n",
      "BLAU3.SA\n",
      "BMEB3.SA\n",
      "BMEB4.SA\n",
      "BMGB4.SA\n",
      "BMIN3.SA\n",
      "BMIN4.SA\n",
      "BMKS3.SA\n",
      "BMOB3.SA\n",
      "BNBR3.SA\n",
      "BOAS3.SA\n",
      "BOBR4.SA\n",
      "BPAC3.SA\n",
      "BPAC5.SA\n",
      "BPAN4.SA\n",
      "BRAP3.SA\n",
      "BRAP4.SA\n",
      "BRFS3.SA\n",
      "BRGE11.SA\n",
      "BRGE12.SA\n",
      "BRGE3.SA\n",
      "BRGE5.SA\n",
      "BRGE6.SA\n",
      "BRGE7.SA\n",
      "BRGE8.SA\n",
      "BRIT3.SA\n",
      "BRIV3.SA\n",
      "BRIV4.SA\n",
      "BRKM3.SA\n",
      "BRKM5.SA\n",
      "BRKM6.SA\n",
      "BRPR3.SA\n",
      "BRSR3.SA\n",
      "BRSR5.SA\n",
      "BRSR6.SA\n",
      "BSLI3.SA\n",
      "BSLI4.SA\n",
      "CALI3.SA\n",
      "CAMB3.SA\n",
      "CAML3.SA\n",
      "CASH3.SA\n",
      "CASN3.SA\n",
      "CASN4.SA\n",
      "CBAV3.SA\n",
      "CBEE3.SA\n",
      "CCRO3.SA\n",
      "CEAB3.SA\n",
      "CEBR3.SA\n",
      "CEBR5.SA\n",
      "CEBR6.SA\n",
      "CEDO3.SA\n",
      "CEDO4.SA\n",
      "CEEB3.SA\n",
      "CEEB5.SA\n",
      "CEED3.SA\n",
      "CEED4.SA\n",
      "CEGR3.SA\n",
      "CGAS3.SA\n",
      "CGAS5.SA\n",
      "CGRA3.SA\n",
      "CGRA4.SA\n",
      "CIEL3.SA\n",
      "CLSA3.SA\n",
      "CLSC3.SA\n",
      "CLSC4.SA\n",
      "CMIG3.SA\n",
      "CMIG4.SA\n",
      "CMIN3.SA\n",
      "COCE3.SA\n",
      "COCE5.SA\n",
      "COCE6.SA\n",
      "COGN3.SA\n",
      "CORR4.SA\n",
      "CPFE3.SA\n",
      "CPLE3.SA\n",
      "CPLE5.SA\n",
      "CPLE6.SA\n",
      "CRDE3.SA\n",
      "CRFB3.SA\n",
      "CRIV3.SA\n",
      "CRIV4.SA\n",
      "CRPG3.SA\n",
      "CRPG5.SA\n",
      "CRPG6.SA\n",
      "CSAB3.SA\n",
      "CSAB4.SA\n",
      "CSAN3.SA\n",
      "CSED3.SA\n",
      "CSMG3.SA\n",
      "CSNA3.SA\n",
      "CSRN3.SA\n",
      "CSRN5.SA\n",
      "CSRN6.SA\n",
      "CSUD3.SA\n",
      "CTKA3.SA\n",
      "CTKA4.SA\n",
      "CTNM3.SA\n",
      "CTNM4.SA\n",
      "CTSA3.SA\n",
      "CTSA4.SA\n",
      "CURY3.SA\n",
      "CVCB3.SA\n",
      "CXSE3.SA\n",
      "CYRE3.SA\n",
      "DASA3.SA\n",
      "DESK3.SA\n",
      "DEXP3.SA\n",
      "DEXP4.SA\n",
      "DIRR3.SA\n",
      "DMFN3.SA\n",
      "DMVF3.SA\n",
      "DOHL3.SA\n",
      "DOHL4.SA\n",
      "DOTZ3.SA\n",
      "DTCY3.SA\n",
      "DXCO3.SA\n",
      "EALT3.SA\n",
      "EALT4.SA\n",
      "ECOR3.SA\n",
      "ECPR3.SA\n",
      "ECPR4.SA\n",
      "EGIE3.SA\n",
      "EKTR3.SA\n",
      "EKTR4.SA\n",
      "ELET3.SA\n",
      "ELET5.SA\n",
      "ELET6.SA\n",
      "ELMD3.SA\n",
      "EMAE3.SA\n",
      "EMAE4.SA\n",
      "EMBR3.SA\n",
      "ENAT3.SA\n",
      "ENBR3.SA\n",
      "ENEV3.SA\n",
      "ENGI3.SA\n",
      "ENGI4.SA\n",
      "ENJU3.SA\n",
      "ENMT3.SA\n",
      "ENMT4.SA\n",
      "EPAR3.SA\n",
      "EQMA3B.SA\n",
      "EQPA3.SA\n",
      "EQPA5.SA\n",
      "EQPA6.SA\n",
      "EQPA7.SA\n",
      "EQTL3.SA\n",
      "ESPA3.SA\n",
      "ESTR3.SA\n",
      "ESTR4.SA\n",
      "ETER3.SA\n",
      "EUCA3.SA\n",
      "EUCA4.SA\n",
      "EVEN3.SA\n",
      "EZTC3.SA\n",
      "FESA3.SA\n",
      "FESA4.SA\n",
      "FHER3.SA\n",
      "FIGE3.SA\n",
      "FIGE4.SA\n",
      "FIQE3.SA\n",
      "FLRY3.SA\n",
      "FRAS3.SA\n",
      "FRIO3.SA\n",
      "FRTA3.SA\n",
      "GEPA3.SA\n",
      "GEPA4.SA\n",
      "GFSA3.SA\n",
      "GGBR3.SA\n",
      "GGBR4.SA\n",
      "GGPS3.SA\n",
      "GMAT3.SA\n",
      "GOAU3.SA\n",
      "GOAU4.SA\n",
      "GOLL4.SA\n",
      "GPAR3.SA\n",
      "GRND3.SA\n",
      "GSHP3.SA\n",
      "GUAR3.SA\n",
      "HAGA3.SA\n",
      "HAGA4.SA\n",
      "HAPV3.SA\n",
      "HBOR3.SA\n",
      "HBRE3.SA\n",
      "HBSA3.SA\n",
      "HBTS5.SA\n",
      "HETA3.SA\n",
      "HETA4.SA\n",
      "HOOT4.SA\n",
      "HYPE3.SA\n",
      "IFCM3.SA\n",
      "IGBR3.SA\n",
      "IGTI3.SA\n",
      "IGTI4.SA\n",
      "INEP3.SA\n",
      "INEP4.SA\n",
      "INTB3.SA\n",
      "IRBR3.SA\n",
      "ITSA3.SA\n",
      "ITSA4.SA\n",
      "ITUB3.SA\n",
      "ITUB4.SA\n",
      "JALL3.SA\n",
      "JBSS3.SA\n",
      "JFEN3.SA\n",
      "JHSF3.SA\n",
      "JOPA3.SA\n",
      "JOPA4.SA\n",
      "JSLG3.SA\n",
      "KEPL3.SA\n",
      "KLBN3.SA\n",
      "KLBN4.SA\n",
      "KRSA3.SA\n",
      "LAND3.SA\n",
      "LAVV3.SA\n",
      "LEVE3.SA\n",
      "LIGT3.SA\n",
      "LIPR3.SA\n",
      "LJQQ3.SA\n",
      "LOGG3.SA\n",
      "LOGN3.SA\n",
      "LPSB3.SA\n",
      "LREN3.SA\n",
      "LUPA3.SA\n",
      "LUXM3.SA\n",
      "LUXM4.SA\n",
      "LVTC3.SA\n",
      "LWSA3.SA\n",
      "MAPT3.SA\n",
      "MAPT4.SA\n",
      "MATD3.SA\n",
      "MBLY3.SA\n",
      "MDIA3.SA\n",
      "MDNE3.SA\n",
      "MEAL3.SA\n",
      "MELK3.SA\n",
      "MERC3.SA\n",
      "MERC4.SA\n",
      "MGEL3.SA\n",
      "MGEL4.SA\n",
      "MGLU3.SA\n",
      "MILS3.SA\n",
      "MLAS3.SA\n",
      "MMAQ4.SA\n",
      "MNDL3.SA\n",
      "MNPR3.SA\n",
      "MOAR3.SA\n",
      "MODL3.SA\n",
      "MOVI3.SA\n",
      "MRFG3.SA\n",
      "MRSA3B.SA\n",
      "MRSA5B.SA\n",
      "MRSA6B.SA\n",
      "MRVE3.SA\n",
      "MSPA3.SA\n",
      "MSPA4.SA\n",
      "MTIG3.SA\n",
      "MTRE3.SA\n",
      "MTSA3.SA\n",
      "MTSA4.SA\n",
      "MULT3.SA\n",
      "MWET3.SA\n",
      "MWET4.SA\n",
      "MYPK3.SA\n",
      "NEOE3.SA\n",
      "NEXP3.SA\n",
      "NGRD3.SA\n",
      "NINJ3.SA\n",
      "NORD3.SA\n",
      "NTCO3.SA\n",
      "ODER4.SA\n",
      "ODPV3.SA\n",
      "OFSA3.SA\n",
      "OIBR3.SA\n",
      "OIBR4.SA\n",
      "ONCO3.SA\n",
      "OPCT3.SA\n",
      "ORVR3.SA\n",
      "OSXB3.SA\n",
      "PARD3.SA\n",
      "PATI3.SA\n",
      "PATI4.SA\n",
      "PCAR3.SA\n",
      "PDGR3.SA\n",
      "PDTC3.SA\n",
      "PEAB3.SA\n",
      "PEAB4.SA\n",
      "PETR3.SA\n",
      "PETR4.SA\n",
      "PETZ3.SA\n",
      "PFRM3.SA\n",
      "PGMN3.SA\n",
      "PINE4.SA\n",
      "PLAS3.SA\n",
      "PLPL3.SA\n",
      "PMAM3.SA\n",
      "PNVL3.SA\n",
      "POMO3.SA\n",
      "POMO4.SA\n",
      "PORT3.SA\n",
      "POSI3.SA\n",
      "PRIO3.SA\n",
      "PRNR3.SA\n",
      "PSSA3.SA\n",
      "PTBL3.SA\n",
      "PTNT3.SA\n",
      "PTNT4.SA\n",
      "QUAL3.SA\n",
      "RADL3.SA\n",
      "RAIL3.SA\n",
      "RAIZ4.SA\n",
      "RANI3.SA\n",
      "RAPT3.SA\n",
      "RAPT4.SA\n",
      "RCSL3.SA\n",
      "RCSL4.SA\n",
      "RDNI3.SA\n",
      "RDOR3.SA\n",
      "RECV3.SA\n",
      "REDE3.SA\n",
      "RENT3.SA\n",
      "RNEW3.SA\n",
      "RNEW4.SA\n",
      "ROMI3.SA\n",
      "RPAD3.SA\n",
      "RPAD5.SA\n",
      "RPAD6.SA\n",
      "RPMG3.SA\n",
      "RRRP3.SA\n",
      "RSID3.SA\n",
      "RSUL4.SA\n",
      "SANB3.SA\n",
      "SANB4.SA\n",
      "SAPR3.SA\n",
      "SAPR4.SA\n",
      "SBFG3.SA\n",
      "SBSP3.SA\n",
      "SCAR3.SA\n",
      "SEER3.SA\n",
      "SEQL3.SA\n",
      "SGPS3.SA\n",
      "SHOW3.SA\n",
      "SHUL3.SA\n",
      "SHUL4.SA\n",
      "SIMH3.SA\n",
      "SLCE3.SA\n",
      "SLED3.SA\n",
      "SLED4.SA\n",
      "SMFT3.SA\n",
      "SMTO3.SA\n",
      "SNSY3.SA\n",
      "SNSY5.SA\n",
      "SNSY6.SA\n",
      "SOJA3.SA\n",
      "SOMA3.SA\n",
      "SOND3.SA\n",
      "SOND5.SA\n",
      "SOND6.SA\n",
      "SQIA3.SA\n",
      "STBP3.SA\n",
      "SUZB3.SA\n",
      "SYNE3.SA\n",
      "TAEE3.SA\n",
      "TAEE4.SA\n",
      "TASA3.SA\n",
      "TASA4.SA\n",
      "TCNO3.SA\n",
      "TCNO4.SA\n",
      "TCSA3.SA\n",
      "TECN3.SA\n",
      "TEKA3.SA\n",
      "TEKA4.SA\n",
      "TELB3.SA\n",
      "TELB4.SA\n",
      "TEND3.SA\n",
      "TFCO4.SA\n",
      "TGMA3.SA\n",
      "TIMS3.SA\n",
      "TKNO3.SA\n",
      "TKNO4.SA\n",
      "TOTS3.SA\n",
      "TPIS3.SA\n",
      "TRAD3.SA\n",
      "TRIS3.SA\n",
      "TRPL3.SA\n",
      "TRPL4.SA\n",
      "TTEN3.SA\n",
      "TUPY3.SA\n",
      "UCAS3.SA\n",
      "UGPA3.SA\n",
      "UNIP3.SA\n",
      "UNIP5.SA\n",
      "UNIP6.SA\n",
      "USIM3.SA\n",
      "USIM5.SA\n",
      "USIM6.SA\n",
      "VALE3.SA\n",
      "VAMO3.SA\n",
      "VBBR3.SA\n",
      "VIIA3.SA\n",
      "VITT3.SA\n",
      "VIVA3.SA\n",
      "VIVR3.SA\n",
      "VIVT3.SA\n",
      "VLID3.SA\n",
      "VSPT3.SA\n",
      "VSTE3.SA\n",
      "VULC3.SA\n",
      "VVEO3.SA\n",
      "WEGE3.SA\n",
      "WEST3.SA\n",
      "WHRL3.SA\n",
      "WHRL4.SA\n",
      "WIZC3.SA\n",
      "WLMM3.SA\n",
      "WLMM4.SA\n",
      "YDUQ3.SA\n",
      "ZAMP3.SA\n"
     ]
    }
   ],
   "source": [
    "dados3 = {}  # Dicionário vazio para armazenar as tabelas\n",
    "\n",
    "# Percorre todos os arquivos na pasta\n",
    "for nome_arquivo in os.listdir('dados'):\n",
    "    if nome_arquivo.endswith('.csv'):  # Verifica se o arquivo é um arquivo CSV\n",
    "        caminho_arquivo = os.path.join('dados', nome_arquivo)  # Caminho completo para o arquivo\n",
    "        \n",
    "        dados3[os.path.splitext(nome_arquivo)[0]] = pd.read_csv(caminho_arquivo)\n",
    "\n",
    "# Imprime o dicionário com as tabelas\n",
    "print(len(dados3))\n",
    "\n",
    "print(dados['PETR4.SA'])\n",
    "\n",
    "for i in dados3:\n",
    "    print(i)"
   ]
  },
  {
   "attachments": {},
   "cell_type": "markdown",
   "metadata": {},
   "source": [
    "# Convolução"
   ]
  },
  {
   "attachments": {},
   "cell_type": "markdown",
   "metadata": {},
   "source": [
    "## Colunas para os rótulos"
   ]
  },
  {
   "attachments": {},
   "cell_type": "markdown",
   "metadata": {},
   "source": [
    "Cada linha analisa se há aumento expressivo nos próximos 5 períodos."
   ]
  },
  {
   "attachments": {},
   "cell_type": "markdown",
   "metadata": {},
   "source": [
    "Se não houver, o rótulo será 0; Caso contrário, será o número de dias em que o aumento ocorre.  \n",
    "Há uma variável ajustável para determinar o nível do aumento."
   ]
  },
  {
   "cell_type": "code",
   "execution_count": 53,
   "metadata": {},
   "outputs": [],
   "source": [
    "# Coluna para os rótulos\n",
    "\n",
    "for i,j in dados3.items():\n",
    "    j['Rótulos'] = 0"
   ]
  },
  {
   "cell_type": "code",
   "execution_count": 51,
   "metadata": {},
   "outputs": [],
   "source": [
    "# Metaparâmetros\n",
    "\n",
    "Aumento = 0.1\n",
    "\n",
    "Prospecção = 5"
   ]
  },
  {
   "cell_type": "code",
   "execution_count": 56,
   "metadata": {},
   "outputs": [
    {
     "name": "stdout",
     "output_type": "stream",
     "text": [
      "     symbol       open       high        low      close  volume   adjclose  \\\n",
      "0  AALR3.SA  19.639999  19.900000  19.520000  19.760000  227700  19.760000   \n",
      "1  AALR3.SA  19.760000  19.790001  19.580000  19.709999  283500  19.709999   \n",
      "2  AALR3.SA  19.830000  19.830000  19.410000  19.629999  432800  19.629999   \n",
      "3  AALR3.SA  19.480000  19.799999  19.480000  19.660000  299700  19.660000   \n",
      "4  AALR3.SA  19.690001  19.719999  19.540001  19.670000  531900  19.670000   \n",
      "\n",
      "   Rótulos  \n",
      "0        0  \n",
      "1        0  \n",
      "2        0  \n",
      "3        0  \n",
      "4        0  \n",
      "     symbol   open   high    low  close  volume   adjclose  dividends  \\\n",
      "0  ABCB4.SA  15.01  15.56  14.88  15.56  804200  14.662171        0.0   \n",
      "1  ABCB4.SA  15.76  16.00  15.50  15.79  720400  14.878900        0.0   \n",
      "2  ABCB4.SA  15.92  15.92  15.24  15.33  584300  14.445442        0.0   \n",
      "3  ABCB4.SA  15.25  15.73  15.12  15.66  639700  14.756401        0.0   \n",
      "4  ABCB4.SA  15.68  15.81  15.26  15.71  783400  14.803516        0.0   \n",
      "\n",
      "   Rótulos  rótulos  \n",
      "0        0      NaN  \n",
      "1        0      NaN  \n",
      "2        0      NaN  \n",
      "3        0      NaN  \n",
      "4        0      NaN  \n",
      "     symbol   open   high    low  close    volume   adjclose  dividends  \\\n",
      "0  ABEV3.SA  12.88  13.13  12.81  13.03  38950600  12.377815        0.0   \n",
      "1  ABEV3.SA  12.99  13.25  12.88  13.05  13366700  12.396814        0.0   \n",
      "2  ABEV3.SA  13.08  13.31  12.94  13.17  19966600  12.510808        0.0   \n",
      "3  ABEV3.SA  13.18  13.39  13.06  13.30  16963200  12.634301        0.0   \n",
      "4  ABEV3.SA  13.35  13.38  13.25  13.33  17466700  12.662800        0.0   \n",
      "\n",
      "   Rótulos  rótulos  \n",
      "0        0      5.0  \n",
      "1        0      5.0  \n",
      "2        0      5.0  \n",
      "3        0      NaN  \n",
      "4        0      NaN  \n",
      "     symbol  open  high   low  close   volume  adjclose  Rótulos  rótulos\n",
      "0  AERI3.SA  2.88  2.91  2.78   2.80  3242500      2.80        0      NaN\n",
      "1  AERI3.SA  2.83  2.83  2.78   2.80  1837700      2.80        0      5.0\n",
      "2  AERI3.SA  2.80  2.94  2.79   2.93  2090400      2.93        0      NaN\n",
      "3  AERI3.SA  2.85  2.94  2.83   2.85  1067500      2.85        0      4.0\n",
      "4  AERI3.SA  2.85  2.90  2.83   2.85  1016000      2.85        0      3.0\n",
      "     symbol   open   high    low  close   volume   adjclose  dividends  \\\n",
      "0  AESB3.SA  10.80  11.00  10.70  10.74  7100700  10.627631        0.0   \n",
      "1  AESB3.SA  10.73  10.86  10.60  10.69  1030300  10.578155        0.0   \n",
      "2  AESB3.SA  10.73  10.76  10.54  10.61  1236100  10.498992        0.0   \n",
      "3  AESB3.SA  10.53  10.70  10.51  10.63   667500  10.518783        0.0   \n",
      "4  AESB3.SA  10.65  10.80  10.60  10.60  1314200  10.489097        0.0   \n",
      "\n",
      "   Rótulos  rótulos  \n",
      "0        0      NaN  \n",
      "1        0      NaN  \n",
      "2        0      NaN  \n",
      "3        0      NaN  \n",
      "4        0      NaN  \n",
      "     symbol  open  high   low  close  volume  adjclose  dividends  Rótulos  \\\n",
      "0  AFLT3.SA  8.76  9.00  8.45   9.00   500.0  8.885935        0.0        0   \n",
      "1  AFLT3.SA  9.00  9.00  9.00   9.00   200.0  8.885935        0.0        0   \n",
      "2  AFLT3.SA  9.00  9.00  9.00   9.00     0.0  8.885935        0.0        0   \n",
      "3  AFLT3.SA  8.89  8.89  8.89   8.89   300.0  8.777329        0.0        0   \n",
      "4  AFLT3.SA  8.89  8.89  8.89   8.89     0.0  8.777329        0.0        0   \n",
      "\n",
      "   rótulos  \n",
      "0      NaN  \n",
      "1      NaN  \n",
      "2      NaN  \n",
      "3      NaN  \n",
      "4      NaN  \n",
      "     symbol       open       high        low      close   volume   adjclose  \\\n",
      "0  AGRO3.SA  28.110001  28.639999  27.120001  27.120001  1162500  24.408276   \n",
      "1  AGRO3.SA  27.040001  27.299999  26.830000  26.830000   348400  24.147270   \n",
      "2  AGRO3.SA  27.010000  27.500000  26.650000  27.420000   634200  24.678278   \n",
      "3  AGRO3.SA  27.250000  27.600000  26.180000  26.340000   811300  23.706266   \n",
      "4  AGRO3.SA  26.389999  26.450001  25.570000  26.160000  1108400  23.544264   \n",
      "\n",
      "   dividends  Rótulos  rótulos  \n",
      "0        0.0        0      3.0  \n",
      "1        0.0        0      2.0  \n",
      "2        0.0        0      1.0  \n",
      "3        0.0        0      4.0  \n",
      "4        0.0        0      4.0  \n",
      "     symbol  open  high   low  close  volume  adjclose  dividends  Rótulos  \\\n",
      "0  AGXY3.SA  8.57  8.62  8.25   8.40   49100  8.352069        0.0        0   \n",
      "1  AGXY3.SA  8.55  8.75  8.15   8.15   48000  8.103496        0.0        0   \n",
      "2  AGXY3.SA  8.13  8.33  8.10   8.18   84400  8.133325        0.0        0   \n",
      "3  AGXY3.SA  8.24  8.51  8.05   8.05   89200  8.004066        0.0        0   \n",
      "4  AGXY3.SA  8.22  8.28  7.73   7.73   53300  7.685892        0.0        0   \n",
      "\n",
      "   rótulos  \n",
      "0      NaN  \n",
      "1      NaN  \n",
      "2      NaN  \n",
      "3      NaN  \n",
      "4      NaN  \n",
      "     symbol  open  high   low  close  volume  adjclose  Rótulos  rótulos\n",
      "0  AHEB3.SA  27.5  27.5  27.5   27.5     0.0      27.5        0      NaN\n",
      "1  AHEB3.SA  27.5  27.5  27.5   27.5     0.0      27.5        0      NaN\n",
      "2  AHEB3.SA  27.5  27.5  27.5   27.5     0.0      27.5        0      NaN\n",
      "3  AHEB3.SA  27.5  27.5  27.5   27.5     0.0      27.5        0      NaN\n",
      "4  AHEB3.SA  27.5  27.5  27.5   27.5     0.0      27.5        0      NaN\n",
      "     symbol  open  high   low  close  volume  adjclose  Rótulos\n",
      "0  AHEB5.SA  22.0  22.0  22.0   22.0     0.0      22.0        0\n",
      "1  AHEB5.SA  22.0  22.0  22.0   22.0     0.0      22.0        0\n",
      "2  AHEB5.SA  22.0  22.0  22.0   22.0     0.0      22.0        0\n",
      "3  AHEB5.SA  22.0  22.0  22.0   22.0     0.0      22.0        0\n",
      "4  AHEB5.SA  22.0  22.0  22.0   22.0     0.0      22.0        0\n",
      "     symbol       open       high        low      close  volume   adjclose  \\\n",
      "0  AHEB6.SA  41.200001  41.200001  41.200001  41.200001     0.0  41.200001   \n",
      "1  AHEB6.SA  41.200001  41.200001  41.200001  41.200001     0.0  41.200001   \n",
      "2  AHEB6.SA  41.200001  41.200001  41.200001  41.200001     0.0  41.200001   \n",
      "3  AHEB6.SA  41.200001  41.200001  41.200001  41.200001     0.0  41.200001   \n",
      "4  AHEB6.SA  41.200001  41.200001  41.200001  41.200001     0.0  41.200001   \n",
      "\n",
      "   Rótulos  \n",
      "0        0  \n",
      "1        0  \n",
      "2        0  \n",
      "3        0  \n",
      "4        0  \n",
      "     symbol   open   high    low  close  volume   adjclose  dividends  \\\n",
      "0  ALLD3.SA  11.54  11.54  10.98  11.45   84700  10.805597        0.0   \n",
      "1  ALLD3.SA  11.46  11.56  11.10  11.21   31200  10.579105        0.0   \n",
      "2  ALLD3.SA  11.24  11.29  10.84  10.92   40500  10.305427        0.0   \n",
      "3  ALLD3.SA  10.88  11.45  10.81  10.90   47800  10.286551        0.0   \n",
      "4  ALLD3.SA  11.16  11.16  10.73  10.80   33900  10.192180        0.0   \n",
      "\n",
      "   Rótulos  rótulos  \n",
      "0        0      NaN  \n",
      "1        0      NaN  \n",
      "2        0      1.0  \n",
      "3        0      NaN  \n",
      "4        0      NaN  \n",
      "     symbol       open       high        low      close  volume   adjclose  \\\n",
      "0  ALPA3.SA  15.710000  17.129999  15.700000  17.129999    5400  17.129999   \n",
      "1  ALPA3.SA  17.000000  17.000000  17.000000  17.000000     300  17.000000   \n",
      "2  ALPA3.SA  16.379999  16.959999  16.230000  16.959999    1100  16.959999   \n",
      "3  ALPA3.SA  17.379999  17.379999  16.950001  16.950001    6400  16.950001   \n",
      "4  ALPA3.SA  17.799999  18.049999  17.799999  17.809999    1900  17.809999   \n",
      "\n",
      "   Rótulos  rótulos  \n",
      "0        0      NaN  \n",
      "1        0      NaN  \n",
      "2        0      NaN  \n",
      "3        0      NaN  \n",
      "4        0      NaN  \n",
      "     symbol       open       high        low  close   volume  adjclose  \\\n",
      "0  ALPA4.SA  18.719999  20.379999  18.030001  20.07  8060700     20.07   \n",
      "1  ALPA4.SA  20.000000  20.110001  19.219999  19.57  2784400     19.57   \n",
      "2  ALPA4.SA  19.610001  19.830000  19.100000  19.83  2620600     19.83   \n",
      "3  ALPA4.SA  19.559999  20.129999  19.340000  19.73  2660500     19.73   \n",
      "4  ALPA4.SA  19.809999  20.459999  19.690001  20.23  2671400     20.23   \n",
      "\n",
      "   Rótulos  rótulos  \n",
      "0        0      NaN  \n",
      "1        0      NaN  \n",
      "2        0      NaN  \n",
      "3        0      NaN  \n",
      "4        0      NaN  \n",
      "     symbol  open  high   low  close  volume  adjclose  Rótulos  rótulos\n",
      "0  ALPK3.SA  2.24  2.24  2.07   2.10  112700      2.10        0      NaN\n",
      "1  ALPK3.SA  2.15  2.15  2.02   2.08   54900      2.08        0      NaN\n",
      "2  ALPK3.SA  2.10  2.10  1.93   1.98   91900      1.98        0      NaN\n",
      "3  ALPK3.SA  1.99  1.99  1.91   1.93   33500      1.93        0      NaN\n",
      "4  ALPK3.SA  1.93  1.99  1.90   1.91   93500      1.91        0      NaN\n",
      "     symbol       open       high        low      close   volume   adjclose  \\\n",
      "0  ALSO3.SA  17.160000  17.370001  17.030001  17.160000  3667800  16.682196   \n",
      "1  ALSO3.SA  17.070000  17.379999  16.770000  16.940001  1339300  16.468323   \n",
      "2  ALSO3.SA  16.940001  17.190001  16.709999  16.780001  1311500  16.312777   \n",
      "3  ALSO3.SA  16.590000  17.129999  16.459999  16.910000   749400  16.439157   \n",
      "4  ALSO3.SA  17.030001  17.129999  16.799999  16.799999  1166700  16.332218   \n",
      "\n",
      "   dividends  Rótulos  rótulos  \n",
      "0        0.0        0      NaN  \n",
      "1        0.0        0      NaN  \n",
      "2        0.0        0      NaN  \n",
      "3        0.0        0      NaN  \n",
      "4        0.0        0      NaN  \n",
      "     symbol      open      high       low     close  volume  adjclose  \\\n",
      "0  ALUP3.SA  8.605769  8.605769  8.346153  8.586538    8216  8.117229   \n",
      "1  ALUP3.SA  8.557692  8.557692  8.403846  8.403846    8632  7.944522   \n",
      "2  ALUP3.SA  8.528846  8.528846  8.125000  8.125000   22464  7.680916   \n",
      "3  ALUP3.SA  8.163461  8.451923  8.163461  8.451923    5824  7.989971   \n",
      "4  ALUP3.SA  8.461538  8.471153  8.288461  8.355769    4784  7.899073   \n",
      "\n",
      "   dividends  splits  Rótulos  rótulos  \n",
      "0        0.0     0.0        0      NaN  \n",
      "1        0.0     0.0        0      NaN  \n",
      "2        0.0     0.0        0      2.0  \n",
      "3        0.0     0.0        0      NaN  \n",
      "4        0.0     0.0        0      NaN  \n",
      "     symbol      open      high       low     close  volume  adjclose  \\\n",
      "0  ALUP4.SA  8.423076  8.432692  8.326923  8.346153   21424  7.886041   \n",
      "1  ALUP4.SA  8.403846  8.413461  8.221153  8.403846   12896  7.940552   \n",
      "2  ALUP4.SA  8.403846  8.403846  7.980769  8.096153   46592  7.649822   \n",
      "3  ALUP4.SA  8.086538  8.307692  8.038461  8.163461   13416  7.713419   \n",
      "4  ALUP4.SA  8.173076  8.211538  8.105769  8.134615   12896  7.686164   \n",
      "\n",
      "   dividends  splits  Rótulos  rótulos  \n",
      "0        0.0     0.0        0      NaN  \n",
      "1        0.0     0.0        0      NaN  \n",
      "2        0.0     0.0        0      NaN  \n",
      "3        0.0     0.0        0      NaN  \n",
      "4        0.0     0.0        0      NaN  \n",
      "     symbol  open  high   low  close   volume  adjclose  Rótulos  rótulos\n",
      "0  AMAR3.SA  1.95  2.02  1.93   1.99  2699000      1.99        0      NaN\n",
      "1  AMAR3.SA  2.04  2.07  1.95   2.02  2617100      2.02        0      NaN\n",
      "2  AMAR3.SA  2.04  2.05  1.95   1.95  3893900      1.95        0      2.0\n",
      "3  AMAR3.SA  1.91  2.04  1.90   2.03  3972200      2.03        0      NaN\n",
      "4  AMAR3.SA  2.03  2.17  2.03   2.09  5875500      2.09        0      NaN\n",
      "     symbol       open       high        low      close   volume   adjclose  \\\n",
      "0  AMBP3.SA  23.600000  23.709999  22.240000  23.379999  1742500  23.079922   \n",
      "1  AMBP3.SA  23.389999  23.799999  22.320000  22.370001  1382500  22.082886   \n",
      "2  AMBP3.SA  22.740000  23.030001  21.799999  22.090000  1551800  21.806479   \n",
      "3  AMBP3.SA  22.240000  24.059999  22.150000  22.660000  1841000  22.369164   \n",
      "4  AMBP3.SA  22.809999  23.170000  22.490000  22.889999  1140300  22.596210   \n",
      "\n",
      "   dividends  Rótulos  rótulos  \n",
      "0        0.0        0      NaN  \n",
      "1        0.0        0      NaN  \n",
      "2        0.0        0      1.0  \n",
      "3        0.0        0      NaN  \n",
      "4        0.0        0      NaN  \n",
      "     symbol   open   high    low  close    volume  adjclose  Rótulos  rótulos\n",
      "0  AMER3.SA  13.36  13.85  13.12  13.53  10573500     13.53        0      NaN\n",
      "1  AMER3.SA  13.56  14.00  13.05  13.32   8045600     13.32        0      NaN\n",
      "2  AMER3.SA  13.50  14.04  13.27  13.37  10722200     13.37        0      NaN\n",
      "3  AMER3.SA  13.11  13.75  12.75  13.34   9675400     13.34        0      NaN\n",
      "4  AMER3.SA  13.47  14.22  13.17  13.93  12780100     13.93        0      NaN\n",
      "     symbol  open  high   low  close   volume  adjclose  Rótulos  rótulos\n",
      "0  ANIM3.SA  4.86  5.17  4.76   5.17  2794500      5.17        0      NaN\n",
      "1  ANIM3.SA  5.14  5.33  5.07   5.21  1941700      5.21        0      NaN\n",
      "2  ANIM3.SA  5.26  5.28  5.02   5.15  1995100      5.15        0      NaN\n",
      "3  ANIM3.SA  5.09  5.22  5.02   5.05  2113100      5.05        0      NaN\n",
      "4  ANIM3.SA  5.05  5.19  4.79   4.79  3478600      4.79        0      NaN\n",
      "     symbol       open       high        low      close  volume   adjclose  \\\n",
      "0  APER3.SA  28.000000  29.240000  27.309999  28.010000   53100  27.679110   \n",
      "1  APER3.SA  28.020000  28.200001  26.450001  26.790001  605000  26.473522   \n",
      "2  APER3.SA  27.629999  27.629999  25.309999  25.309999   28900  25.011005   \n",
      "3  APER3.SA  25.209999  26.170000  24.420000  24.440001   51200  24.151283   \n",
      "4  APER3.SA  24.370001  25.879999  24.370001  24.900000   24100  24.605848   \n",
      "\n",
      "   dividends  Rótulos  rótulos  \n",
      "0        0.0        0      NaN  \n",
      "1        0.0        0      NaN  \n",
      "2        0.0        0      NaN  \n",
      "3        0.0        0      5.0  \n",
      "4        0.0        0      4.0  \n",
      "     symbol   open   high    low  close   volume   adjclose  dividends  \\\n",
      "0  ARML3.SA  11.87  12.24  11.08  12.24  1050800  11.934587        0.0   \n",
      "1  ARML3.SA  12.17  12.37  11.82  12.12   370300  11.817581        0.0   \n",
      "2  ARML3.SA  12.16  12.26  11.56  11.99   296900  11.690825        0.0   \n",
      "3  ARML3.SA  11.84  12.21  11.63  11.89   266600  11.593321        0.0   \n",
      "4  ARML3.SA  12.06  12.80  11.76  12.43   342700  12.119848        0.0   \n",
      "\n",
      "   Rótulos  rótulos  \n",
      "0        0      NaN  \n",
      "1        0      4.0  \n",
      "2        0      4.0  \n",
      "3        0      3.0  \n",
      "4        0      NaN  \n",
      "     symbol       open       high        low      close   volume   adjclose  \\\n",
      "0  ARZZ3.SA  72.019997  72.099998  70.300003  70.769997  1008200  69.420723   \n",
      "1  ARZZ3.SA  70.980003  71.519997  67.720001  69.610001   880500  68.282845   \n",
      "2  ARZZ3.SA  70.489998  70.599998  68.220001  68.610001   848200  67.301910   \n",
      "3  ARZZ3.SA  68.080002  70.300003  67.220001  69.849998  1303100  68.518265   \n",
      "4  ARZZ3.SA  70.330002  71.699997  69.959999  71.459999   999100  70.097572   \n",
      "\n",
      "   dividends  Rótulos  rótulos  \n",
      "0        0.0        0      NaN  \n",
      "1        0.0        0      NaN  \n",
      "2        0.0        0      NaN  \n",
      "3        0.0        0      NaN  \n",
      "4        0.0        0      NaN  \n",
      "     symbol   open   high    low  close    volume   adjclose  dividends  \\\n",
      "0  ASAI3.SA  15.19  15.76  15.12  15.51  14099900  15.417465        0.0   \n",
      "1  ASAI3.SA  15.67  16.09  15.40  15.90   7611300  15.805138        0.0   \n",
      "2  ASAI3.SA  15.96  16.24  15.38  15.41   9398400  15.318061        0.0   \n",
      "3  ASAI3.SA  15.24  15.71  14.87  14.99   8791300  14.900567        0.0   \n",
      "4  ASAI3.SA  14.94  15.47  14.94  15.28   3851900  15.188836        0.0   \n",
      "\n",
      "   Rótulos  rótulos  \n",
      "0        0      NaN  \n",
      "1        0      NaN  \n",
      "2        0      NaN  \n",
      "3        0      NaN  \n",
      "4        0      NaN  \n",
      "     symbol  open  high   low  close  volume  adjclose  Rótulos  rótulos\n",
      "0  ATMP3.SA  1.13  1.24  1.00   1.07  247400      1.07        0      NaN\n",
      "1  ATMP3.SA  1.13  1.17  1.06   1.08   46100      1.08        0      5.0\n",
      "2  ATMP3.SA  1.14  1.14  1.06   1.06   18400      1.06        0      5.0\n",
      "3  ATMP3.SA  1.07  1.10  0.99   1.03   28100      1.03        0      5.0\n",
      "4  ATMP3.SA  1.11  1.11  1.04   1.04   10700      1.04        0      4.0\n",
      "     symbol  open  high   low  close  volume  adjclose  dividends  Rótulos  \\\n",
      "0  ATOM3.SA  2.73  2.78  2.69   2.70    6600  2.422744        0.0        0   \n",
      "1  ATOM3.SA  2.69  2.69  2.60   2.61   20600  2.341986        0.0        0   \n",
      "2  ATOM3.SA  2.67  2.67  2.55   2.61    7500  2.341986        0.0        0   \n",
      "3  ATOM3.SA  2.59  2.66  2.53   2.62    8700  2.350959        0.0        0   \n",
      "4  ATOM3.SA  2.70  2.70  2.57   2.61   15800  2.341986        0.0        0   \n",
      "\n",
      "   rótulos  \n",
      "0      4.0  \n",
      "1      5.0  \n",
      "2      5.0  \n",
      "3      5.0  \n",
      "4      5.0  \n",
      "     symbol   open   high    low  close  volume  adjclose  Rótulos  rótulos\n",
      "0  AVLL3.SA  23.99  24.40  23.99  24.40    2700     24.40        0      NaN\n",
      "1  AVLL3.SA  25.00  25.00  24.60  24.60     400     24.60        0      NaN\n",
      "2  AVLL3.SA  25.00  25.00  25.00  25.00     300     25.00        0      NaN\n",
      "3  AVLL3.SA  25.00  25.00  25.00  25.00    6400     25.00        0      NaN\n",
      "4  AVLL3.SA  23.00  23.99  23.00  23.99    1300     23.99        0      NaN\n",
      "     symbol  open  high   low  close  volume  adjclose  Rótulos  rótulos\n",
      "0  AZEV3.SA  3.29  3.29  2.97   3.01   71800      3.01        0      NaN\n",
      "1  AZEV3.SA  3.03  3.24  2.90   2.90   14400      2.90        0      5.0\n",
      "2  AZEV3.SA  3.00  3.00  2.84   2.97   19000      2.97        0      5.0\n",
      "3  AZEV3.SA  2.95  3.04  2.80   3.03  105400      3.03        0      4.0\n",
      "4  AZEV3.SA  3.04  3.25  2.96   3.08   96700      3.08        0      NaN\n",
      "     symbol  open  high   low  close  volume  adjclose  Rótulos  rótulos\n",
      "0  AZEV4.SA  2.40  2.42  2.17   2.20  371000      2.20        0      5.0\n",
      "1  AZEV4.SA  2.26  2.27  2.04   2.07  199700      2.07        0      5.0\n",
      "2  AZEV4.SA  2.14  2.26  2.10   2.17  185100      2.17        0      5.0\n",
      "3  AZEV4.SA  2.13  2.25  2.07   2.25  168900      2.25        0      4.0\n",
      "4  AZEV4.SA  2.30  2.37  2.20   2.35  202000      2.35        0      NaN\n",
      "     symbol   open   high    low  close    volume  adjclose  Rótulos  rótulos\n",
      "0  AZUL4.SA  13.50  14.41  13.21  14.21  11631900     14.21        0      NaN\n",
      "1  AZUL4.SA  14.40  14.69  13.63  13.77   6855200     13.77        0      NaN\n",
      "2  AZUL4.SA  14.13  14.28  13.41  13.53   7521400     13.53        0      NaN\n",
      "3  AZUL4.SA  13.29  13.88  13.25  13.45   9337700     13.45        0      NaN\n",
      "4  AZUL4.SA  13.52  13.72  13.26  13.43   7424500     13.43        0      NaN\n",
      "     symbol   open   high    low  close    volume   adjclose  dividends  \\\n",
      "0  B3SA3.SA  11.40  11.49  11.17  11.45  49425100  11.070044        0.0   \n",
      "1  B3SA3.SA  11.46  11.62  11.29  11.55  12751100  11.166725        0.0   \n",
      "2  B3SA3.SA  11.60  11.77  11.40  11.49  21414500  11.108717        0.0   \n",
      "3  B3SA3.SA  11.48  11.67  11.35  11.65  27175500  11.263407        0.0   \n",
      "4  B3SA3.SA  11.63  11.90  11.55  11.58  28228200  11.195729        0.0   \n",
      "\n",
      "   Rótulos  rótulos  \n",
      "0        0      NaN  \n",
      "1        0      NaN  \n",
      "2        0      NaN  \n",
      "3        0      NaN  \n",
      "4        0      NaN  \n",
      "     symbol   open   high    low  close  volume  adjclose  Rótulos  rótulos\n",
      "0  BAHI3.SA  11.51  11.51  11.51  11.51     0.0     11.51        0      NaN\n",
      "1  BAHI3.SA  11.51  11.51  11.51  11.51     0.0     11.51        0      NaN\n",
      "2  BAHI3.SA  11.99  12.00  10.90  10.90  7000.0     10.90        0      5.0\n",
      "3  BAHI3.SA  10.90  10.92  10.90  10.91   900.0     10.91        0      NaN\n",
      "4  BAHI3.SA  11.00  11.00  10.90  11.00  4600.0     11.00        0      NaN\n",
      "     symbol   open   high    low  close  volume   adjclose  dividends  \\\n",
      "0  BALM3.SA  14.42  14.42  14.42  14.42     0.0  14.129618        0.0   \n",
      "1  BALM3.SA  14.42  14.42  14.42  14.42     0.0  14.129618        0.0   \n",
      "2  BALM3.SA  14.42  14.42  14.42  14.42     0.0  14.129618        0.0   \n",
      "3  BALM3.SA  14.42  14.42  14.42  14.42     0.0  14.129618        0.0   \n",
      "4  BALM3.SA  14.42  14.42  14.42  14.42     0.0  14.129618        0.0   \n",
      "\n",
      "   Rótulos  rótulos  \n",
      "0        0      NaN  \n",
      "1        0      NaN  \n",
      "2        0      NaN  \n",
      "3        0      NaN  \n",
      "4        0      NaN  \n",
      "     symbol   open   high    low  close  volume   adjclose  dividends  \\\n",
      "0  BALM4.SA  10.70  10.70  10.70  10.70       0  10.474060        0.0   \n",
      "1  BALM4.SA  10.66  10.66  10.66  10.66     200  10.434905        0.0   \n",
      "2  BALM4.SA  10.66  10.66  10.66  10.66       0  10.434905        0.0   \n",
      "3  BALM4.SA  10.66  10.66  10.66  10.66       0  10.434905        0.0   \n",
      "4  BALM4.SA  10.66  10.66  10.66  10.66       0  10.434905        0.0   \n",
      "\n",
      "   Rótulos  rótulos  \n",
      "0        0      NaN  \n",
      "1        0      NaN  \n",
      "2        0      NaN  \n",
      "3        0      NaN  \n",
      "4        0      NaN  \n",
      "     symbol       open       high        low      close  volume   adjclose  \\\n",
      "0  BAUH4.SA  77.809998  77.809998  77.809998  77.809998     0.0  76.555359   \n",
      "1  BAUH4.SA  77.809998  77.809998  77.809998  77.809998     0.0  76.555359   \n",
      "2  BAUH4.SA  77.809998  77.809998  77.809998  77.809998     0.0  76.555359   \n",
      "3  BAUH4.SA  77.809998  77.809998  77.809998  77.809998     0.0  76.555359   \n",
      "4  BAUH4.SA  77.809998  77.809998  77.809998  77.809998     0.0  76.555359   \n",
      "\n",
      "   dividends  Rótulos  \n",
      "0        0.0        0  \n",
      "1        0.0        0  \n",
      "2        0.0        0  \n",
      "3        0.0        0  \n",
      "4        0.0        0  \n",
      "     symbol       open       high        low      close  volume   adjclose  \\\n",
      "0  BAZA3.SA  41.000000  41.000000  39.049999  40.840000  2200.0  37.867493   \n",
      "1  BAZA3.SA  41.770000  41.770000  40.060001  41.470001   700.0  38.451637   \n",
      "2  BAZA3.SA  41.470001  41.470001  41.470001  41.470001     0.0  38.451637   \n",
      "3  BAZA3.SA  40.770000  41.099998  39.200001  39.200001  3200.0  36.346859   \n",
      "4  BAZA3.SA  39.330002  40.500000  38.880001  38.900002  3600.0  36.068695   \n",
      "\n",
      "   dividends  Rótulos  rótulos  \n",
      "0        0.0        0      1.0  \n",
      "1        0.0        0      NaN  \n",
      "2        0.0        0      NaN  \n",
      "3        0.0        0      2.0  \n",
      "4        0.0        0      3.0  \n",
      "     symbol       open       high        low      close    volume   adjclose  \\\n",
      "0  BBAS3.SA  33.750000  34.360001  33.209999  34.130001  29273300  31.586338   \n",
      "1  BBAS3.SA  34.209999  34.930000  33.570000  34.389999  14251800  31.826960   \n",
      "2  BBAS3.SA  34.700001  34.840000  32.799999  32.980000  25763800  30.522043   \n",
      "3  BBAS3.SA  32.799999  33.369999  32.450001  32.860001  24724000  30.410988   \n",
      "4  BBAS3.SA  32.910000  32.950001  32.240002  32.650002  15497000  30.216640   \n",
      "\n",
      "   dividends  Rótulos  rótulos  \n",
      "0        0.0        0      2.0  \n",
      "1        0.0        0      NaN  \n",
      "2        0.0        0      5.0  \n",
      "3        0.0        0      5.0  \n",
      "4        0.0        0      5.0  \n",
      "     symbol   open   high    low  close    volume   adjclose  dividends  \\\n",
      "0  BBDC3.SA  15.44  15.56  15.17  15.40  12416700  14.402788   0.000000   \n",
      "1  BBDC3.SA  15.41  15.89  15.41  15.71   4136500  14.692716   0.000000   \n",
      "2  BBDC3.SA  15.61  15.73  15.35  15.42   4779800  14.587445   0.178723   \n",
      "3  BBDC3.SA  15.42  15.49  15.25  15.34   4723900  14.511767   0.000000   \n",
      "4  BBDC3.SA  15.37  15.42  14.96  14.97   6310200  14.161744   0.000000   \n",
      "\n",
      "   Rótulos  rótulos  \n",
      "0        0      1.0  \n",
      "1        0      NaN  \n",
      "2        0      NaN  \n",
      "3        0      NaN  \n",
      "4        0      NaN  \n",
      "     symbol       open       high        low      close    volume   adjclose  \\\n",
      "0  BBDC4.SA  18.510000  18.750000  18.280001  18.480000  56517300  17.327583   \n",
      "1  BBDC4.SA  18.660000  19.139999  18.629999  18.969999  38181500  17.787025   \n",
      "2  BBDC4.SA  18.879999  19.049999  18.540001  18.639999  30440200  17.660631   \n",
      "3  BBDC4.SA  18.639999  18.680000  18.410000  18.559999  35022300  17.584837   \n",
      "4  BBDC4.SA  18.650000  18.650000  17.990000  18.070000  36957800  17.120581   \n",
      "\n",
      "   dividends  Rótulos  rótulos  \n",
      "0   0.000000        0      1.0  \n",
      "1   0.000000        0      NaN  \n",
      "2   0.196595        0      NaN  \n",
      "3   0.000000        0      NaN  \n",
      "4   0.000000        0      NaN  \n",
      "     symbol       open       high        low      close   volume   adjclose  \\\n",
      "0  BBSE3.SA  24.580000  24.950001  24.430000  24.870001  6341000  22.783615   \n",
      "1  BBSE3.SA  24.879999  25.400000  24.750000  25.219999  2905000  23.104252   \n",
      "2  BBSE3.SA  25.219999  25.459999  24.879999  25.309999  7875700  23.186703   \n",
      "3  BBSE3.SA  25.250000  25.309999  24.520000  25.030001  4482900  22.930191   \n",
      "4  BBSE3.SA  24.969999  25.500000  24.900000  25.120001  4316400  23.012644   \n",
      "\n",
      "   dividends  Rótulos  rótulos  \n",
      "0        0.0        0      5.0  \n",
      "1        0.0        0      4.0  \n",
      "2        0.0        0      5.0  \n",
      "3        0.0        0      5.0  \n",
      "4        0.0        0      5.0  \n",
      "     symbol   open   high    low  close  volume  adjclose  Rótulos  rótulos\n",
      "0  BDLL3.SA  11.00  11.00  11.00  11.00     0.0     11.00        0      NaN\n",
      "1  BDLL3.SA  11.00  11.00  11.00  11.00     0.0     11.00        0      NaN\n",
      "2  BDLL3.SA  11.00  11.00  11.00  11.00     0.0     11.00        0      NaN\n",
      "3  BDLL3.SA  11.00  11.00  11.00  11.00     0.0     11.00        0      NaN\n",
      "4  BDLL3.SA  10.58  10.58  10.58  10.58   100.0     10.58        0      NaN\n",
      "     symbol  open  high  low  close  volume  adjclose  Rótulos  rótulos\n",
      "0  BDLL4.SA  8.02  8.02  8.0    8.0   700.0       8.0        0      NaN\n",
      "1  BDLL4.SA  8.00  8.30  8.0    8.3  1100.0       8.3        0      NaN\n",
      "2  BDLL4.SA  8.60  8.60  8.6    8.6   100.0       8.6        0      NaN\n",
      "3  BDLL4.SA  8.60  8.60  8.6    8.6     0.0       8.6        0      NaN\n",
      "4  BDLL4.SA  8.60  8.60  8.6    8.6     0.0       8.6        0      NaN\n",
      "     symbol   open   high    low  close    volume   adjclose  dividends  \\\n",
      "0  BEEF3.SA  12.83  13.04  12.52  12.74   7161200  12.055942        0.0   \n",
      "1  BEEF3.SA  12.69  12.86  12.46  12.80   5629400  12.112720        0.0   \n",
      "2  BEEF3.SA  12.87  13.02  12.57  12.73   4238000  12.046478        0.0   \n",
      "3  BEEF3.SA  12.61  13.67  12.61  13.21  11387500  12.500705        0.0   \n",
      "4  BEEF3.SA  13.23  13.70  12.97  13.59   6119900  12.860302        0.0   \n",
      "\n",
      "   Rótulos  rótulos  \n",
      "0        0      5.0  \n",
      "1        0      5.0  \n",
      "2        0      5.0  \n",
      "3        0      4.0  \n",
      "4        0      4.0  \n",
      "     symbol  open  high   low  close  volume  adjclose  dividends  Rótulos  \\\n",
      "0  BEES3.SA  5.07  5.10  5.04   5.09   17500  4.618188        0.0        0   \n",
      "1  BEES3.SA  5.14  5.14  4.97   5.01   20200  4.545605        0.0        0   \n",
      "2  BEES3.SA  5.02  5.10  4.98   4.98   16800  4.518385        0.0        0   \n",
      "3  BEES3.SA  5.04  5.16  4.98   5.13   16400  4.654481        0.0        0   \n",
      "4  BEES3.SA  5.09  5.16  4.99   5.00   17200  4.536531        0.0        0   \n",
      "\n",
      "   rótulos  \n",
      "0      4.0  \n",
      "1      5.0  \n",
      "2      5.0  \n",
      "3      5.0  \n",
      "4      5.0  \n",
      "     symbol  open  high   low  close  volume  adjclose  dividends  Rótulos  \\\n",
      "0  BEES4.SA  5.27  5.27  5.13   5.15    2800  4.711655        0.0        0   \n",
      "1  BEES4.SA  5.07  5.16  5.07   5.15     900  4.711655        0.0        0   \n",
      "2  BEES4.SA  5.15  5.26  5.15   5.20    1000  4.757399        0.0        0   \n",
      "3  BEES4.SA  5.37  5.37  5.13   5.20    1700  4.757399        0.0        0   \n",
      "4  BEES4.SA  5.29  5.29  5.14   5.15    1900  4.711655        0.0        0   \n",
      "\n",
      "   rótulos  \n",
      "0      5.0  \n",
      "1      5.0  \n",
      "2      4.0  \n",
      "3      5.0  \n",
      "4      5.0  \n",
      "     symbol       open       high        low      close  volume   adjclose  \\\n",
      "0  BGIP3.SA  29.459999  29.459999  29.459999  29.459999     0.0  26.956924   \n",
      "1  BGIP3.SA  29.459999  29.459999  29.459999  29.459999     0.0  26.956924   \n",
      "2  BGIP3.SA  29.459999  29.459999  29.459999  29.459999     0.0  26.956924   \n",
      "3  BGIP3.SA  29.459999  29.459999  29.459999  29.459999     0.0  26.956924   \n",
      "4  BGIP3.SA  29.459999  29.459999  29.459999  29.459999     0.0  26.956924   \n",
      "\n",
      "   dividends  Rótulos  rótulos  \n",
      "0        0.0        0      NaN  \n",
      "1        0.0        0      NaN  \n",
      "2        0.0        0      NaN  \n",
      "3        0.0        0      NaN  \n",
      "4        0.0        0      NaN  \n",
      "     symbol       open       high        low      close  volume   adjclose  \\\n",
      "0  BGIP4.SA  20.120001  20.150000  20.080000  20.150000     500  18.492737   \n",
      "1  BGIP4.SA  19.860001  19.860001  19.860001  19.860001     200  18.226589   \n",
      "2  BGIP4.SA  19.910000  19.910000  19.910000  19.910000     100  18.272476   \n",
      "3  BGIP4.SA  20.010000  20.010000  19.799999  19.799999     400  18.171522   \n",
      "4  BGIP4.SA  19.799999  19.799999  19.799999  19.799999    1000  18.171522   \n",
      "\n",
      "   dividends  Rótulos  rótulos  \n",
      "0        0.0        0      NaN  \n",
      "1        0.0        0      NaN  \n",
      "2        0.0        0      NaN  \n",
      "3        0.0        0      NaN  \n",
      "4        0.0        0      NaN  \n",
      "     symbol  open  high   low  close  volume  adjclose  Rótulos  rótulos\n",
      "0  BIOM3.SA  9.10  9.10  8.69   8.74    2100      8.74        0      NaN\n",
      "1  BIOM3.SA  8.71  8.87  8.70   8.70    3300      8.70        0      NaN\n",
      "2  BIOM3.SA  8.55  8.65  8.35   8.54    1200      8.54        0      NaN\n",
      "3  BIOM3.SA  8.44  9.20  8.30   8.59    8600      8.59        0      NaN\n",
      "4  BIOM3.SA  8.60  8.64  8.03   8.44    8000      8.44        0      NaN\n",
      "     symbol       open       high        low      close  volume   adjclose  \\\n",
      "0  BLAU3.SA  24.590000  25.639999  24.440001  25.469999  261200  24.585222   \n",
      "1  BLAU3.SA  25.459999  25.700001  24.540001  24.879999  230500  24.015717   \n",
      "2  BLAU3.SA  25.110001  25.110001  24.260000  24.790001  241500  23.928843   \n",
      "3  BLAU3.SA  24.600000  25.209999  24.510000  24.620001  363000  23.764748   \n",
      "4  BLAU3.SA  24.750000  24.920000  24.469999  24.480000  109200  23.629612   \n",
      "\n",
      "   dividends  Rótulos  rótulos  \n",
      "0        0.0        0      NaN  \n",
      "1        0.0        0      NaN  \n",
      "2        0.0        0      NaN  \n",
      "3        0.0        0      NaN  \n",
      "4        0.0        0      NaN  \n",
      "     symbol   open   high    low  close  volume   adjclose  dividends  \\\n",
      "0  BMEB3.SA  11.89  11.89  11.89  11.89   100.0  11.671149        0.0   \n",
      "1  BMEB3.SA  11.89  11.89  11.89  11.89     0.0  11.671149        0.0   \n",
      "2  BMEB3.SA  11.71  11.73  11.51  11.51   400.0  11.298143        0.0   \n",
      "3  BMEB3.SA  11.51  11.51  11.51  11.51     0.0  11.298143        0.0   \n",
      "4  BMEB3.SA  11.46  11.46  11.27  11.28   600.0  11.072376        0.0   \n",
      "\n",
      "   Rótulos  rótulos  \n",
      "0        0      NaN  \n",
      "1        0      NaN  \n",
      "2        0      NaN  \n",
      "3        0      NaN  \n",
      "4        0      NaN  \n",
      "     symbol   open   high    low  close  volume  adjclose  dividends  Rótulos  \\\n",
      "0  BMEB4.SA   9.93  10.02   9.92  10.02    2900  9.482184        0.0        0   \n",
      "1  BMEB4.SA  10.23  10.23  10.00  10.00    2500  9.463258        0.0        0   \n",
      "2  BMEB4.SA  10.00  10.01   9.93   9.94    1500  9.406477        0.0        0   \n",
      "3  BMEB4.SA  10.00  10.00   9.90   9.99    4000  9.453794        0.0        0   \n",
      "4  BMEB4.SA   9.99  10.00   9.95   9.95    3400  9.415940        0.0        0   \n",
      "\n",
      "   rótulos  \n",
      "0      NaN  \n",
      "1      NaN  \n",
      "2      NaN  \n",
      "3      NaN  \n",
      "4      NaN  \n",
      "     symbol  open  high   low  close  volume  adjclose  dividends  Rótulos  \\\n",
      "0  BMGB4.SA  2.38  2.40  2.36   2.40  693700  2.062448        0.0        0   \n",
      "1  BMGB4.SA  2.41  2.51  2.38   2.47  935700  2.122603        0.0        0   \n",
      "2  BMGB4.SA  2.47  2.52  2.41   2.52  709500  2.165570        0.0        0   \n",
      "3  BMGB4.SA  2.50  2.51  2.45   2.45  538400  2.105416        0.0        0   \n",
      "4  BMGB4.SA  2.45  2.50  2.44   2.50  430800  2.148383        0.0        0   \n",
      "\n",
      "   rótulos  \n",
      "0      5.0  \n",
      "1      5.0  \n",
      "2      5.0  \n",
      "3      5.0  \n",
      "4      5.0  \n",
      "     symbol   open   high    low  close  volume  adjclose  dividends  Rótulos  \\\n",
      "0  BMIN3.SA  20.00  20.00  20.00  20.00     0.0     20.00        0.0        0   \n",
      "1  BMIN3.SA  20.00  20.00  19.76  19.76   200.0     19.76        0.0        0   \n",
      "2  BMIN3.SA  19.76  19.76  19.76  19.76     0.0     19.76        0.0        0   \n",
      "3  BMIN3.SA  19.76  19.76  19.76  19.76     0.0     19.76        0.0        0   \n",
      "4  BMIN3.SA  19.76  19.76  19.76  19.76     0.0     19.76        0.0        0   \n",
      "\n",
      "   rótulos  \n",
      "0      NaN  \n",
      "1      NaN  \n",
      "2      NaN  \n",
      "3      NaN  \n",
      "4      NaN  \n",
      "     symbol   open   high    low  close  volume   adjclose  dividends  \\\n",
      "0  BMIN4.SA  13.68  13.68  13.68  13.68     100  12.248396        0.0   \n",
      "1  BMIN4.SA  13.68  13.68  13.68  13.68       0  12.248396        0.0   \n",
      "2  BMIN4.SA  13.68  13.68  13.68  13.68       0  12.248396        0.0   \n",
      "3  BMIN4.SA  13.67  13.68  13.67  13.68     300  12.248396        0.0   \n",
      "4  BMIN4.SA  13.68  13.68  13.68  13.68       0  12.248396        0.0   \n",
      "\n",
      "   Rótulos  rótulos  \n",
      "0        0      5.0  \n",
      "1        0      5.0  \n",
      "2        0      5.0  \n",
      "3        0      5.0  \n",
      "4        0      5.0  \n",
      "     symbol        open        high         low       close  volume  \\\n",
      "0  BMKS3.SA  240.000000  240.000000  240.000000  240.000000   400.0   \n",
      "1  BMKS3.SA  240.000000  240.000000  240.000000  240.000000     0.0   \n",
      "2  BMKS3.SA  255.000000  255.000000  239.990005  240.000000     7.0   \n",
      "3  BMKS3.SA  230.009995  230.009995  230.009995  230.009995     5.0   \n",
      "4  BMKS3.SA  230.100006  230.100006  230.100006  230.100006     4.0   \n",
      "\n",
      "     adjclose  dividends  Rótulos  rótulos  \n",
      "0  204.439194        0.0        0      5.0  \n",
      "1  204.439194        0.0        0      5.0  \n",
      "2  204.439194        0.0        0      5.0  \n",
      "3  195.929398        0.0        0      5.0  \n",
      "4  196.006073        0.0        0      5.0  \n",
      "     symbol   open   high    low  close  volume   adjclose  dividends  \\\n",
      "0  BMOB3.SA  12.50  12.55  12.20  12.38  353800  12.155400        0.0   \n",
      "1  BMOB3.SA  12.38  12.40  12.00  12.22  322300  11.998303        0.0   \n",
      "2  BMOB3.SA  12.33  12.40  11.88  12.08  608700  11.860843        0.0   \n",
      "3  BMOB3.SA  11.99  12.42  11.86  12.05  555500  11.831388        0.0   \n",
      "4  BMOB3.SA  12.07  12.25  11.94  12.09  681400  11.870662        0.0   \n",
      "\n",
      "   Rótulos  rótulos  \n",
      "0        0      NaN  \n",
      "1        0      NaN  \n",
      "2        0      NaN  \n",
      "3        0      NaN  \n",
      "4        0      NaN  \n",
      "     symbol       open       high   low  close  volume   adjclose  dividends  \\\n",
      "0  BNBR3.SA  68.000000  68.000000  68.0   68.0     0.0  63.027996        0.0   \n",
      "1  BNBR3.SA  68.000000  68.000000  68.0   68.0     0.0  63.027996        0.0   \n",
      "2  BNBR3.SA  68.010002  68.010002  68.0   68.0   900.0  63.027996        0.0   \n",
      "3  BNBR3.SA  68.000000  68.000000  68.0   68.0     0.0  63.027996        0.0   \n",
      "4  BNBR3.SA  68.000000  68.000000  68.0   68.0   200.0  63.027996        0.0   \n",
      "\n",
      "   Rótulos  rótulos  \n",
      "0        0      NaN  \n",
      "1        0      NaN  \n",
      "2        0      NaN  \n",
      "3        0      NaN  \n",
      "4        0      NaN  \n",
      "     symbol  open  high   low  close   volume  adjclose  dividends  Rótulos  \\\n",
      "0  BOAS3.SA  5.29  5.39  5.00   5.39  1140400  5.202427        0.0        0   \n",
      "1  BOAS3.SA  5.34  5.36  5.17   5.36   436300  5.173471        0.0        0   \n",
      "2  BOAS3.SA  5.41  5.46  5.11   5.19   663200  5.009387        0.0        0   \n",
      "3  BOAS3.SA  5.12  5.44  5.10   5.30   604600  5.115560        0.0        0   \n",
      "4  BOAS3.SA  5.35  5.50  5.22   5.48   880300  5.289295        0.0        0   \n",
      "\n",
      "   rótulos  \n",
      "0      5.0  \n",
      "1      4.0  \n",
      "2      3.0  \n",
      "3      2.0  \n",
      "4      NaN  \n",
      "     symbol  open  high   low  close  volume  adjclose  Rótulos  rótulos\n",
      "0  BOBR4.SA  1.35  1.40  1.30   1.36   83300      1.36        0      NaN\n",
      "1  BOBR4.SA  1.35  1.36  1.32   1.34   11700      1.34        0      NaN\n",
      "2  BOBR4.SA  1.34  1.36  1.30   1.35    7600      1.35        0      NaN\n",
      "3  BOBR4.SA  1.34  1.37  1.33   1.35   11900      1.35        0      NaN\n",
      "4  BOBR4.SA  1.35  1.35  1.31   1.32   30100      1.32        0      NaN\n",
      "     symbol   open   high    low  close  volume   adjclose  dividends  \\\n",
      "0  BPAC3.SA  12.47  12.64  12.11  12.18    2700  11.965028        0.0   \n",
      "1  BPAC3.SA  12.15  12.16  11.76  11.92    3600  11.709617        0.0   \n",
      "2  BPAC3.SA  11.93  12.37  11.77  12.34    3400  12.122203        0.0   \n",
      "3  BPAC3.SA  12.21  12.87  12.21  12.66    3500  12.436556        0.0   \n",
      "4  BPAC3.SA  13.20  13.22  12.33  12.33   17800  12.112380        0.0   \n",
      "\n",
      "   Rótulos  rótulos  \n",
      "0        0      4.0  \n",
      "1        0      3.0  \n",
      "2        0      NaN  \n",
      "3        0      NaN  \n",
      "4        0      NaN  \n",
      "     symbol  open  high   low  close  volume  adjclose  dividends  Rótulos  \\\n",
      "0  BPAC5.SA  4.77  4.88  4.65   4.75    4900  4.553166        0.0        0   \n",
      "1  BPAC5.SA  4.65  4.88  4.60   4.65    5100  4.457310        0.0        0   \n",
      "2  BPAC5.SA  4.70  4.94  4.67   4.76     800  4.562752        0.0        0   \n",
      "3  BPAC5.SA  4.90  5.00  4.90   4.99    7400  4.783221        0.0        0   \n",
      "4  BPAC5.SA  5.00  5.05  4.84   4.94    6200  4.735293        0.0        0   \n",
      "\n",
      "   rótulos  \n",
      "0      5.0  \n",
      "1      5.0  \n",
      "2      5.0  \n",
      "3      NaN  \n",
      "4      NaN  \n",
      "     symbol  open  high   low  close   volume  adjclose  dividends  Rótulos  \\\n",
      "0  BPAN4.SA  6.42  6.49  6.30   6.34  3224800  5.853001        0.0        0   \n",
      "1  BPAN4.SA  6.36  6.39  6.13   6.24  2852200  5.760682        0.0        0   \n",
      "2  BPAN4.SA  6.33  6.43  6.25   6.38  3158000  5.889928        0.0        0   \n",
      "3  BPAN4.SA  6.30  6.51  6.23   6.29  2963800  5.806841        0.0        0   \n",
      "4  BPAN4.SA  6.30  6.34  6.21   6.30  2223100  5.816073        0.0        0   \n",
      "\n",
      "   rótulos  \n",
      "0      3.0  \n",
      "1      5.0  \n",
      "2      1.0  \n",
      "3      4.0  \n",
      "4      3.0  \n",
      "     symbol       open       high        low      close  volume   adjclose  \\\n",
      "0  BRAP3.SA  23.690001  23.700001  22.959999  23.440001  157500  20.897432   \n",
      "1  BRAP3.SA  23.400000  23.400000  22.480000  23.330000   90900  20.799362   \n",
      "2  BRAP3.SA  23.440001  23.750000  23.200001  23.299999   85500  20.772617   \n",
      "3  BRAP3.SA  23.139999  23.209999  22.559999  22.990000   62300  20.496243   \n",
      "4  BRAP3.SA  23.320000  23.459999  22.059999  22.360001   74500  19.934580   \n",
      "\n",
      "   dividends  Rótulos  rótulos  \n",
      "0        0.0        0      4.0  \n",
      "1        0.0        0      5.0  \n",
      "2        0.0        0      5.0  \n",
      "3        0.0        0      5.0  \n",
      "4        0.0        0      5.0  \n",
      "     symbol       open       high        low      close   volume   adjclose  \\\n",
      "0  BRAP4.SA  26.850000  26.850000  25.900000  26.250000  4619500  23.334709   \n",
      "1  BRAP4.SA  25.690001  25.969999  25.040001  25.620001  2174400  22.774677   \n",
      "2  BRAP4.SA  25.900000  26.240000  25.809999  25.990000  2446300  23.103586   \n",
      "3  BRAP4.SA  25.420000  25.780001  25.040001  25.290001  3774700  22.481327   \n",
      "4  BRAP4.SA  25.540001  25.860001  24.370001  24.570000  4758000  21.841290   \n",
      "\n",
      "   dividends  Rótulos  rótulos  \n",
      "0        0.0        0      4.0  \n",
      "1        0.0        0      5.0  \n",
      "2        0.0        0      5.0  \n",
      "3        0.0        0      5.0  \n",
      "4        0.0        0      5.0  \n",
      "     symbol   open   high    low  close    volume  adjclose  Rótulos  rótulos\n",
      "0  BRFS3.SA  12.74  12.92  12.22  12.83  28055400     12.83        0      5.0\n",
      "1  BRFS3.SA  12.87  12.87  12.36  12.43   6104900     12.43        0      5.0\n",
      "2  BRFS3.SA  12.52  12.72  12.30  12.47   9860600     12.47        0      5.0\n",
      "3  BRFS3.SA  12.27  13.29  12.20  13.07  19387400     13.07        0      5.0\n",
      "4  BRFS3.SA  13.10  14.22  13.03  14.09  16270900     14.09        0      NaN\n",
      "      symbol  open  high   low  close  volume  adjclose  dividends  Rótulos  \\\n",
      "0  BRGE11.SA  7.71  7.71  7.71   7.71     0.0  7.336886        0.0        0   \n",
      "1  BRGE11.SA  7.71  7.71  7.71   7.71     0.0  7.336886        0.0        0   \n",
      "2  BRGE11.SA  7.71  7.71  7.71   7.71     0.0  7.336886        0.0        0   \n",
      "3  BRGE11.SA  7.71  7.71  7.71   7.71     0.0  7.336886        0.0        0   \n",
      "4  BRGE11.SA  7.71  7.71  7.71   7.71     0.0  7.336886        0.0        0   \n",
      "\n",
      "   rótulos  \n",
      "0      NaN  \n",
      "1      NaN  \n",
      "2      NaN  \n",
      "3      NaN  \n",
      "4      NaN  \n",
      "      symbol  open  high   low  close  volume  adjclose  Rótulos  rótulos\n",
      "0  BRGE12.SA  6.95  6.95  6.95   6.95     0.0      6.95        0      NaN\n",
      "1  BRGE12.SA  6.95  6.95  6.95   6.95     0.0      6.95        0      NaN\n",
      "2  BRGE12.SA  6.95  6.95  6.95   6.95     0.0      6.95        0      NaN\n",
      "3  BRGE12.SA  6.95  6.95  6.95   6.95     0.0      6.95        0      NaN\n",
      "4  BRGE12.SA  6.95  6.95  6.95   6.95     0.0      6.95        0      NaN\n",
      "     symbol  open  high   low  close  volume  adjclose  Rótulos  rótulos\n",
      "0  BRGE3.SA  6.60  6.60  6.60   6.60   100.0      6.60        0      NaN\n",
      "1  BRGE3.SA  6.50  6.50  6.49   6.49   300.0      6.49        0      NaN\n",
      "2  BRGE3.SA  6.49  6.49  6.49   6.49     0.0      6.49        0      NaN\n",
      "3  BRGE3.SA  6.49  6.49  6.49   6.49     0.0      6.49        0      NaN\n",
      "4  BRGE3.SA  6.00  6.48  6.00   6.48   300.0      6.48        0      NaN\n",
      "     symbol  open  high   low  close  volume  adjclose  dividends  Rótulos  \\\n",
      "0  BRGE5.SA  9.81  9.81  9.81   9.81     0.0  9.525661        0.0        0   \n",
      "1  BRGE5.SA  9.81  9.81  9.81   9.81     0.0  9.525661        0.0        0   \n",
      "2  BRGE5.SA  9.81  9.81  9.81   9.81     0.0  9.525661        0.0        0   \n",
      "3  BRGE5.SA  9.81  9.81  9.81   9.81     0.0  9.525661        0.0        0   \n",
      "4  BRGE5.SA  9.81  9.81  9.81   9.81     0.0  9.525661        0.0        0   \n",
      "\n",
      "   rótulos  \n",
      "0      NaN  \n",
      "1      NaN  \n",
      "2      NaN  \n",
      "3      NaN  \n",
      "4      NaN  \n",
      "     symbol  open  high  low  close  volume  adjclose  dividends  Rótulos  \\\n",
      "0  BRGE6.SA   8.5   8.5  8.5    8.5     0.0   7.88442        0.0        0   \n",
      "1  BRGE6.SA   8.5   8.5  8.5    8.5     0.0   7.88442        0.0        0   \n",
      "2  BRGE6.SA   8.5   8.5  8.5    8.5     0.0   7.88442        0.0        0   \n",
      "3  BRGE6.SA   8.5   8.5  8.5    8.5     0.0   7.88442        0.0        0   \n",
      "4  BRGE6.SA   8.5   8.5  8.5    8.5     0.0   7.88442        0.0        0   \n",
      "\n",
      "   rótulos  \n",
      "0      NaN  \n",
      "1      NaN  \n",
      "2      NaN  \n",
      "3      NaN  \n",
      "4      NaN  \n",
      "     symbol  open  high  low  close  volume  adjclose  dividends  Rótulos  \\\n",
      "0  BRGE7.SA   5.4   5.4  5.4    5.4     0.0  4.961298        0.0        0   \n",
      "1  BRGE7.SA   5.4   5.4  5.4    5.4     0.0  4.961298        0.0        0   \n",
      "2  BRGE7.SA   5.4   5.4  5.4    5.4     0.0  4.961298        0.0        0   \n",
      "3  BRGE7.SA   5.4   5.4  5.4    5.4     0.0  4.961298        0.0        0   \n",
      "4  BRGE7.SA   5.4   5.4  5.4    5.4     0.0  4.961298        0.0        0   \n",
      "\n",
      "   rótulos  \n",
      "0      NaN  \n",
      "1      NaN  \n",
      "2      NaN  \n",
      "3      NaN  \n",
      "4      NaN  \n",
      "     symbol  open  high  low  close  volume  adjclose  dividends  Rótulos  \\\n",
      "0  BRGE8.SA   8.9   8.9  8.9    8.9     0.0   8.60136        0.0        0   \n",
      "1  BRGE8.SA   8.9   8.9  8.9    8.9     0.0   8.60136        0.0        0   \n",
      "2  BRGE8.SA   8.9   8.9  8.9    8.9     0.0   8.60136        0.0        0   \n",
      "3  BRGE8.SA   8.9   8.9  8.9    8.9     0.0   8.60136        0.0        0   \n",
      "4  BRGE8.SA   8.9   8.9  8.9    8.9     0.0   8.60136        0.0        0   \n",
      "\n",
      "   rótulos  \n",
      "0      NaN  \n",
      "1      NaN  \n",
      "2      NaN  \n",
      "3      NaN  \n",
      "4      NaN  \n",
      "     symbol  open  high   low  close  volume  adjclose  dividends  Rótulos  \\\n",
      "0  BRIT3.SA  1.82  1.88  1.76   1.85  431300  1.822550        0.0        0   \n",
      "1  BRIT3.SA  1.89  1.90  1.80   1.80  323500  1.773292        0.0        0   \n",
      "2  BRIT3.SA  1.84  1.86  1.76   1.76  354400  1.733886        0.0        0   \n",
      "3  BRIT3.SA  1.78  1.86  1.77   1.81  495600  1.783144        0.0        0   \n",
      "4  BRIT3.SA  1.81  1.97  1.81   1.97  561800  1.940770        0.0        0   \n",
      "\n",
      "   rótulos  \n",
      "0      5.0  \n",
      "1      5.0  \n",
      "2      5.0  \n",
      "3      4.0  \n",
      "4      NaN  \n",
      "     symbol  open  high   low  close  volume  adjclose  dividends  Rótulos  \\\n",
      "0  BRIV3.SA  5.99  6.19  5.50   6.19    2700  6.024309        0.0        0   \n",
      "1  BRIV3.SA  6.25  6.25  5.85   6.17     400  6.004844        0.0        0   \n",
      "2  BRIV3.SA  6.17  6.17  6.16   6.16     200  5.995112        0.0        0   \n",
      "3  BRIV3.SA  6.00  6.14  5.60   6.14    1300  5.975647        0.0        0   \n",
      "4  BRIV3.SA  6.14  6.14  6.14   6.14     100  5.975647        0.0        0   \n",
      "\n",
      "   rótulos  \n",
      "0      NaN  \n",
      "1      NaN  \n",
      "2      NaN  \n",
      "3      NaN  \n",
      "4      NaN  \n",
      "     symbol  open  high   low  close  volume  adjclose  dividends  Rótulos  \\\n",
      "0  BRIV4.SA  6.28  6.28  6.24   6.24  2500.0  5.772880        0.0        0   \n",
      "1  BRIV4.SA  6.24  6.24  6.24   6.24     0.0  5.772880        0.0        0   \n",
      "2  BRIV4.SA  6.24  6.24  6.24   6.24     0.0  5.772880        0.0        0   \n",
      "3  BRIV4.SA  6.36  6.36  6.36   6.36   300.0  5.883897        0.0        0   \n",
      "4  BRIV4.SA  6.40  6.40  6.40   6.40   100.0  5.920903        0.0        0   \n",
      "\n",
      "   rótulos  \n",
      "0      5.0  \n",
      "1      4.0  \n",
      "2      3.0  \n",
      "3      2.0  \n",
      "4      5.0  \n",
      "     symbol       open       high        low      close  volume   adjclose  \\\n",
      "0  BRKM3.SA  40.500000  40.500000  37.799999  37.919998   26500  37.919998   \n",
      "1  BRKM3.SA  37.900002  37.900002  36.410000  37.169998   12100  37.169998   \n",
      "2  BRKM3.SA  37.310001  37.799999  37.000000  37.000000   22200  37.000000   \n",
      "3  BRKM3.SA  37.000000  37.689999  36.520000  37.470001    7000  37.470001   \n",
      "4  BRKM3.SA  37.470001  37.689999  37.070000  37.689999    3300  37.689999   \n",
      "\n",
      "   Rótulos  rótulos  \n",
      "0        0      NaN  \n",
      "1        0      NaN  \n",
      "2        0      NaN  \n",
      "3        0      NaN  \n",
      "4        0      NaN  \n",
      "     symbol       open       high        low      close   volume   adjclose  \\\n",
      "0  BRKM5.SA  39.910000  40.080002  37.360001  37.360001  4954800  37.360001   \n",
      "1  BRKM5.SA  37.490002  37.700001  36.029999  36.500000  3152200  36.500000   \n",
      "2  BRKM5.SA  36.810001  37.750000  36.439999  37.189999  2455900  37.189999   \n",
      "3  BRKM5.SA  36.840000  37.209999  36.250000  36.799999  2054000  36.799999   \n",
      "4  BRKM5.SA  37.020000  37.860001  36.610001  37.000000  1790500  37.000000   \n",
      "\n",
      "   Rótulos  rótulos  \n",
      "0        0      NaN  \n",
      "1        0      NaN  \n",
      "2        0      NaN  \n",
      "3        0      NaN  \n",
      "4        0      NaN  \n",
      "     symbol       open       high        low      close  volume   adjclose  \\\n",
      "0  BRKM6.SA  26.040001  26.040001  26.040001  26.040001     0.0  26.040001   \n",
      "1  BRKM6.SA  26.040001  26.040001  25.000000  25.000000   200.0  25.000000   \n",
      "2  BRKM6.SA  25.000000  25.000000  25.000000  25.000000   400.0  25.000000   \n",
      "3  BRKM6.SA  25.000000  25.000000  25.000000  25.000000     0.0  25.000000   \n",
      "4  BRKM6.SA  25.000000  25.000000  25.000000  25.000000     0.0  25.000000   \n",
      "\n",
      "   Rótulos  rótulos  \n",
      "0        0      NaN  \n",
      "1        0      NaN  \n",
      "2        0      NaN  \n",
      "3        0      NaN  \n",
      "4        0      NaN  \n",
      "     symbol        open        high         low       close  volume  \\\n",
      "0  BRPR3.SA  341.200012  347.600006  340.799988  340.799988   56247   \n",
      "1  BRPR3.SA  340.799988  348.000000  335.600006  336.000000   48762   \n",
      "2  BRPR3.SA  337.200012  341.200012  335.600006  337.600006   35975   \n",
      "3  BRPR3.SA  335.200012  347.200012  334.000000  342.000000   92887   \n",
      "4  BRPR3.SA  342.000000  358.000000  342.000000  346.799988  164160   \n",
      "\n",
      "    adjclose  dividends  splits  Rótulos  rótulos  \n",
      "0  18.230614        0.0     0.0        0      5.0  \n",
      "1  17.973848        0.0     0.0        0      5.0  \n",
      "2  18.059437        0.0     0.0        0      5.0  \n",
      "3  18.294809        0.0     0.0        0      5.0  \n",
      "4  18.551577        0.0     0.0        0      5.0  \n",
      "     symbol   open   high    low  close  volume   adjclose  dividends  \\\n",
      "0  BRSR3.SA  11.07  11.19  10.85  11.19    3100  10.422636        0.0   \n",
      "1  BRSR3.SA  11.19  11.30  11.02  11.25    3700  10.478521        0.0   \n",
      "2  BRSR3.SA  11.15  11.41  11.02  11.05    2600  10.292237        0.0   \n",
      "3  BRSR3.SA  11.02  11.27  11.00  11.03    2000  10.273608        0.0   \n",
      "4  BRSR3.SA  11.30  11.35  11.00  11.00    6200  10.245666        0.0   \n",
      "\n",
      "   Rótulos  rótulos  \n",
      "0        0      NaN  \n",
      "1        0      NaN  \n",
      "2        0      2.0  \n",
      "3        0      1.0  \n",
      "4        0      5.0  \n",
      "     symbol       open       high        low      close  volume   adjclose  \\\n",
      "0  BRSR5.SA  17.100000  17.100000  17.100000  17.100000     0.0  16.221737   \n",
      "1  BRSR5.SA  17.100000  17.100000  17.100000  17.100000     0.0  16.221737   \n",
      "2  BRSR5.SA  17.100000  17.100000  17.100000  17.100000     0.0  16.221737   \n",
      "3  BRSR5.SA  17.100000  17.100000  17.100000  17.100000     0.0  16.221737   \n",
      "4  BRSR5.SA  17.389999  17.389999  17.389999  17.389999   100.0  16.496841   \n",
      "\n",
      "   dividends  Rótulos  rótulos  \n",
      "0        0.0        0      NaN  \n",
      "1        0.0        0      NaN  \n",
      "2        0.0        0      NaN  \n",
      "3        0.0        0      NaN  \n",
      "4        0.0        0      NaN  \n",
      "     symbol  open  high   low  close   volume  adjclose  dividends  Rótulos  \\\n",
      "0  BRSR6.SA  9.35  9.41  9.21   9.36  2713800  8.672325        0.0        0   \n",
      "1  BRSR6.SA  9.36  9.51  9.28   9.36  1716400  8.672325        0.0        0   \n",
      "2  BRSR6.SA  9.45  9.45  9.14   9.14  2087600  8.468489        0.0        0   \n",
      "3  BRSR6.SA  9.12  9.33  9.07   9.12  2058300  8.449958        0.0        0   \n",
      "4  BRSR6.SA  9.15  9.20  9.00   9.02  2072400  8.357306        0.0        0   \n",
      "\n",
      "   rótulos  \n",
      "0      NaN  \n",
      "1      NaN  \n",
      "2      5.0  \n",
      "3      4.0  \n",
      "4      4.0  \n",
      "     symbol  open  high   low  close  volume   adjclose  dividends  Rótulos  \\\n",
      "0  BSLI3.SA  22.0  22.0  22.0   22.0       0  21.798325        0.0        0   \n",
      "1  BSLI3.SA  22.0  22.0  22.0   22.0       0  21.798325        0.0        0   \n",
      "2  BSLI3.SA  22.0  22.0  22.0   22.0       0  21.798325        0.0        0   \n",
      "3  BSLI3.SA  22.0  22.0  22.0   22.0       0  21.798325        0.0        0   \n",
      "4  BSLI3.SA  22.0  22.0  22.0   22.0       0  21.798325        0.0        0   \n",
      "\n",
      "   rótulos  \n",
      "0      NaN  \n",
      "1      NaN  \n",
      "2      NaN  \n",
      "3      NaN  \n",
      "4      NaN  \n",
      "     symbol   open   high    low  close  volume   adjclose  dividends  \\\n",
      "0  BSLI4.SA  17.35  17.35  17.35  17.35       0  17.137880        0.0   \n",
      "1  BSLI4.SA  16.00  16.00  15.30  15.30    1100  15.112944        0.0   \n",
      "2  BSLI4.SA  15.30  15.30  15.30  15.30       0  15.112944        0.0   \n",
      "3  BSLI4.SA  15.30  15.30  15.30  15.30       0  15.112944        0.0   \n",
      "4  BSLI4.SA  15.30  15.30  15.30  15.30       0  15.112944        0.0   \n",
      "\n",
      "   Rótulos  rótulos  \n",
      "0        0      NaN  \n",
      "1        0      NaN  \n",
      "2        0      NaN  \n",
      "3        0      NaN  \n",
      "4        0      NaN  \n",
      "     symbol   open   high    low  close   volume  adjclose  dividends  \\\n",
      "0  CALI3.SA  10.00  10.00  10.00  10.00      0.0  9.705866        0.0   \n",
      "1  CALI3.SA  10.00  10.00  10.00  10.00      0.0  9.705866        0.0   \n",
      "2  CALI3.SA  10.00  10.00  10.00  10.00   1000.0  9.705866        0.0   \n",
      "3  CALI3.SA   5.00   6.13   5.00   5.61  19700.0  5.444991        0.0   \n",
      "4  CALI3.SA   5.54   5.55   5.11   5.15   1500.0  4.998521        0.0   \n",
      "\n",
      "   Rótulos  rótulos  \n",
      "0        0      NaN  \n",
      "1        0      NaN  \n",
      "2        0      NaN  \n",
      "3        0      5.0  \n",
      "4        0      5.0  \n",
      "     symbol  open  high   low  close  volume  adjclose  dividends  Rótulos  \\\n",
      "0  CAMB3.SA  4.29  4.38  4.10   4.10   46600  3.863886   0.000000        0   \n",
      "1  CAMB3.SA  4.12  4.33  4.12   4.27   43900  4.024096   0.000000        0   \n",
      "2  CAMB3.SA  4.18  4.25  4.11   4.21   12400  4.008893   0.044034        0   \n",
      "3  CAMB3.SA  4.20  4.26  4.16   4.17   26600  3.970803   0.000000        0   \n",
      "4  CAMB3.SA  4.19  4.40  3.94   4.03   84600  3.837491   0.000000        0   \n",
      "\n",
      "   rótulos  \n",
      "0      4.0  \n",
      "1      5.0  \n",
      "2      4.0  \n",
      "3      4.0  \n",
      "4      2.0  \n",
      "     symbol  open   high   low  close   volume  adjclose  dividends  Rótulos  \\\n",
      "0  CAML3.SA  9.73  10.06  9.66   9.70  1536800  9.375159        0.0        0   \n",
      "1  CAML3.SA  9.57   9.70  9.47   9.63  1000400  9.307504        0.0        0   \n",
      "2  CAML3.SA  9.66   9.76  9.45   9.70  1417500  9.375159        0.0        0   \n",
      "3  CAML3.SA  9.58   9.66  9.35   9.42  2279600  9.104535        0.0        0   \n",
      "4  CAML3.SA  9.43  10.09  9.36  10.04  1994600  9.703773        0.0        0   \n",
      "\n",
      "   rótulos  \n",
      "0      NaN  \n",
      "1      NaN  \n",
      "2      NaN  \n",
      "3      5.0  \n",
      "4      NaN  \n",
      "     symbol  open  high   low  close   volume  adjclose  splits  Rótulos  \\\n",
      "0  CASH3.SA  12.6  12.8  12.4   12.4  2305640      12.4     0.0        0   \n",
      "1  CASH3.SA  12.6  12.6  11.8   11.9  2062230      11.9     0.0        0   \n",
      "2  CASH3.SA  12.2  12.4  11.5   11.7  2295030      11.7     0.0        0   \n",
      "3  CASH3.SA  11.4  13.1  11.3   12.6  4038980      12.6     0.0        0   \n",
      "4  CASH3.SA  12.7  13.7  12.7   12.8  3486450      12.8     0.0        0   \n",
      "\n",
      "   rótulos  \n",
      "0      5.0  \n",
      "1      4.0  \n",
      "2      4.0  \n",
      "3      NaN  \n",
      "4      NaN  \n",
      "     symbol      open      high       low     close  volume   adjclose  \\\n",
      "0  CASN3.SA  13.84211  13.84211  13.84211  13.84211     0.0  13.789328   \n",
      "1  CASN3.SA  13.84211  13.84211  13.84211  13.84211     0.0  13.789328   \n",
      "2  CASN3.SA  13.84211  13.84211  13.84211  13.84211     0.0  13.789328   \n",
      "3  CASN3.SA  13.84211  13.84211  13.84211  13.84211     0.0  13.789328   \n",
      "4  CASN3.SA  13.84211  13.84211  13.84211  13.84211     0.0  13.789328   \n",
      "\n",
      "   dividends  Rótulos  \n",
      "0        0.0        0  \n",
      "1        0.0        0  \n",
      "2        0.0        0  \n",
      "3        0.0        0  \n",
      "4        0.0        0  \n",
      "     symbol     open     high      low    close  volume  adjclose  dividends  \\\n",
      "0  CASN4.SA  8.27455  8.27455  8.27455  8.27455     0.0  8.223077        0.0   \n",
      "1  CASN4.SA  8.27455  8.27455  8.27455  8.27455     0.0  8.223077        0.0   \n",
      "2  CASN4.SA  8.27455  8.27455  8.27455  8.27455     0.0  8.223077        0.0   \n",
      "3  CASN4.SA  8.27455  8.27455  8.27455  8.27455     0.0  8.223077        0.0   \n",
      "4  CASN4.SA  8.27455  8.27455  8.27455  8.27455     0.0  8.223077        0.0   \n",
      "\n",
      "   Rótulos  \n",
      "0        0  \n",
      "1        0  \n",
      "2        0  \n",
      "3        0  \n",
      "4        0  \n",
      "     symbol   open   high    low  close   volume   adjclose  dividends  \\\n",
      "0  CBAV3.SA  11.59  11.59  10.81  11.14  4654600  10.328997        0.0   \n",
      "1  CBAV3.SA  10.80  11.01  10.43  10.81  2979800  10.023022        0.0   \n",
      "2  CBAV3.SA  10.87  11.34  10.56  11.15  4374700  10.338269        0.0   \n",
      "3  CBAV3.SA  10.83  10.92  10.31  10.34  5107200   9.587237        0.0   \n",
      "4  CBAV3.SA  10.44  10.71  10.22  10.70  5361000   9.921029        0.0   \n",
      "\n",
      "   Rótulos  rótulos  \n",
      "0        0      5.0  \n",
      "1        0      5.0  \n",
      "2        0      5.0  \n",
      "3        0      5.0  \n",
      "4        0      4.0  \n",
      "     symbol       open       high        low      close  volume   adjclose  \\\n",
      "0  CBEE3.SA  19.209999  19.209999  19.209999  19.209999     0.0  19.209999   \n",
      "1  CBEE3.SA  19.209999  19.209999  19.209999  19.209999     0.0  19.209999   \n",
      "2  CBEE3.SA  19.209999  19.209999  19.209999  19.209999     0.0  19.209999   \n",
      "3  CBEE3.SA  19.209999  19.209999  19.209999  19.209999     0.0  19.209999   \n",
      "4  CBEE3.SA  19.209999  19.209999  19.209999  19.209999     0.0  19.209999   \n",
      "\n",
      "   Rótulos  rótulos  \n",
      "0        0      NaN  \n",
      "1        0      NaN  \n",
      "2        0      NaN  \n",
      "3        0      NaN  \n",
      "4        0      NaN  \n",
      "     symbol   open   high    low  close    volume   adjclose  dividends  \\\n",
      "0  CCRO3.SA  12.23  12.51  12.23  12.47  11084300  12.155510        0.0   \n",
      "1  CCRO3.SA  12.50  12.60  12.30  12.33   4679900  12.019040        0.0   \n",
      "2  CCRO3.SA  12.32  12.54  12.30  12.53   6022000  12.213996        0.0   \n",
      "3  CCRO3.SA  12.35  12.70  12.28  12.56   8859700  12.243240        0.0   \n",
      "4  CCRO3.SA  12.62  12.78  12.53  12.60   4947900  12.282231        0.0   \n",
      "\n",
      "   Rótulos  rótulos  \n",
      "0        0      NaN  \n",
      "1        0      NaN  \n",
      "2        0      NaN  \n",
      "3        0      NaN  \n",
      "4        0      NaN  \n",
      "     symbol  open  high   low  close   volume  adjclose  Rótulos  rótulos\n",
      "0  CEAB3.SA  2.46  2.60  2.40   2.54  3938800      2.54        0      NaN\n",
      "1  CEAB3.SA  2.55  2.65  2.44   2.44  3518000      2.44        0      NaN\n",
      "2  CEAB3.SA  2.46  2.54  2.44   2.46  3435200      2.46        0      NaN\n",
      "3  CEAB3.SA  2.44  2.51  2.39   2.45  3144500      2.45        0      NaN\n",
      "4  CEAB3.SA  2.44  2.66  2.44   2.51  3255000      2.51        0      NaN\n",
      "     symbol   open   high    low  close  volume   adjclose  dividends  \\\n",
      "0  CEBR3.SA  14.90  14.90  14.90  14.90     100  11.850735        0.0   \n",
      "1  CEBR3.SA  14.90  14.90  14.01  14.86    2200  11.818920        0.0   \n",
      "2  CEBR3.SA  14.84  15.00  14.84  15.00    1100  11.930270        0.0   \n",
      "3  CEBR3.SA  14.98  15.10  14.98  14.98    7500  11.914363        0.0   \n",
      "4  CEBR3.SA  14.98  14.99  14.00  14.00   10100  11.134918        0.0   \n",
      "\n",
      "   Rótulos  rótulos  \n",
      "0        0      5.0  \n",
      "1        0      5.0  \n",
      "2        0      5.0  \n",
      "3        0      5.0  \n",
      "4        0      5.0  \n",
      "     symbol   open   high    low  close   volume   adjclose  dividends  \\\n",
      "0  CEBR5.SA  11.20  11.60  11.00  11.60  10700.0   9.258645        0.0   \n",
      "1  CEBR5.SA  11.80  12.33  11.27  11.57  16000.0   9.234699        0.0   \n",
      "2  CEBR5.SA  11.69  12.00  11.34  12.00   1400.0   9.577909        0.0   \n",
      "3  CEBR5.SA  11.96  12.01  11.96  12.01   1200.0   9.585890        0.0   \n",
      "4  CEBR5.SA  12.00  12.75  12.00  12.75   5000.0  10.176527        0.0   \n",
      "\n",
      "   Rótulos  rótulos  \n",
      "0        0      5.0  \n",
      "1        0      4.0  \n",
      "2        0      5.0  \n",
      "3        0      5.0  \n",
      "4        0      5.0  \n",
      "     symbol   open   high    low  close  volume   adjclose  dividends  \\\n",
      "0  CEBR6.SA  13.00  13.00  12.56  12.62    8400   9.870015        0.0   \n",
      "1  CEBR6.SA  12.85  13.20  12.63  12.88    8300  10.073360        0.0   \n",
      "2  CEBR6.SA  13.19  14.40  12.90  12.90    8900  10.089002        0.0   \n",
      "3  CEBR6.SA  13.86  13.86  12.82  13.49    1700  10.550437        0.0   \n",
      "4  CEBR6.SA  13.49  13.87  13.30  13.78    7700  10.777244        0.0   \n",
      "\n",
      "   Rótulos  rótulos  \n",
      "0        0      2.0  \n",
      "1        0      1.0  \n",
      "2        0      5.0  \n",
      "3        0      5.0  \n",
      "4        0      5.0  \n",
      "     symbol  open  high   low  close   volume  adjclose  Rótulos  rótulos\n",
      "0  CEDO3.SA  6.72  6.99  6.72   6.99   2300.0      6.99        0      NaN\n",
      "1  CEDO3.SA  6.99  6.99  6.99   6.99      0.0      6.99        0      NaN\n",
      "2  CEDO3.SA  6.72  6.72  6.71   6.71  24100.0      6.71        0      NaN\n",
      "3  CEDO3.SA  6.71  6.71  6.71   6.71      0.0      6.71        0      NaN\n",
      "4  CEDO3.SA  6.71  6.71  6.71   6.71   9200.0      6.71        0      NaN\n",
      "     symbol  open  high   low  close  volume  adjclose  Rótulos  rótulos\n",
      "0  CEDO4.SA  4.15  4.37  4.15   4.16    1700      4.16        0      5.0\n",
      "1  CEDO4.SA  4.16  4.30  4.16   4.30     200      4.30        0      4.0\n",
      "2  CEDO4.SA  4.30  4.30  4.30   4.30       0      4.30        0      5.0\n",
      "3  CEDO4.SA  4.30  4.60  4.30   4.38    3400      4.38        0      4.0\n",
      "4  CEDO4.SA  4.42  4.46  4.42   4.46     200      4.46        0      NaN\n",
      "     symbol       open       high    low  close  volume   adjclose  dividends  \\\n",
      "0  CEEB3.SA  37.250000  37.250000  37.25  37.25   100.0  33.089680        0.0   \n",
      "1  CEEB3.SA  37.250000  37.250000  37.25  37.25     0.0  33.089680        0.0   \n",
      "2  CEEB3.SA  37.200001  37.200001  37.00  37.00   300.0  32.867599        0.0   \n",
      "3  CEEB3.SA  37.000000  37.000000  37.00  37.00     0.0  32.867599        0.0   \n",
      "4  CEEB3.SA  37.000000  37.000000  37.00  37.00     0.0  32.867599        0.0   \n",
      "\n",
      "   Rótulos  rótulos  \n",
      "0        0      5.0  \n",
      "1        0      5.0  \n",
      "2        0      5.0  \n",
      "3        0      5.0  \n",
      "4        0      5.0  \n",
      "     symbol       open       high        low      close  volume   adjclose  \\\n",
      "0  CEEB5.SA  34.490002  34.490002  34.490002  34.490002     0.0  30.408539   \n",
      "1  CEEB5.SA  34.490002  34.490002  34.490002  34.490002     0.0  30.408539   \n",
      "2  CEEB5.SA  34.490002  34.490002  34.490002  34.490002     0.0  30.408539   \n",
      "3  CEEB5.SA  34.490002  34.490002  34.490002  34.490002     0.0  30.408539   \n",
      "4  CEEB5.SA  34.490002  34.490002  34.490002  34.490002     0.0  30.408539   \n",
      "\n",
      "   dividends  Rótulos  rótulos  \n",
      "0        0.0        0      5.0  \n",
      "1        0.0        0      5.0  \n",
      "2        0.0        0      5.0  \n",
      "3        0.0        0      5.0  \n",
      "4        0.0        0      5.0  \n",
      "     symbol  open  high   low  close  volume  adjclose  Rótulos  rótulos\n",
      "0  CEED3.SA  42.0  42.0  42.0   42.0     0.0      42.0        0      NaN\n",
      "1  CEED3.SA  42.0  42.0  42.0   42.0     0.0      42.0        0      NaN\n",
      "2  CEED3.SA  42.0  42.0  42.0   42.0     0.0      42.0        0      NaN\n",
      "3  CEED3.SA  42.0  42.0  42.0   42.0     0.0      42.0        0      NaN\n",
      "4  CEED3.SA  42.0  42.0  42.0   42.0     0.0      42.0        0      NaN\n",
      "     symbol  open  high   low  close  volume  adjclose  Rótulos\n",
      "0  CEED4.SA  65.5  65.5  65.5   65.5     0.0      65.5        0\n",
      "1  CEED4.SA  65.5  65.5  65.5   65.5     0.0      65.5        0\n",
      "2  CEED4.SA  65.5  65.5  65.5   65.5     0.0      65.5        0\n",
      "3  CEED4.SA  65.5  65.5  65.5   65.5     0.0      65.5        0\n",
      "4  CEED4.SA  65.5  65.5  65.5   65.5     0.0      65.5        0\n",
      "     symbol  open  high   low  close  volume  adjclose  dividends  Rótulos\n",
      "0  CEGR3.SA  89.0  89.0  89.0   89.0     0.0  87.94722        0.0        0\n",
      "1  CEGR3.SA  89.0  89.0  89.0   89.0     0.0  87.94722        0.0        0\n",
      "2  CEGR3.SA  89.0  89.0  89.0   89.0     0.0  87.94722        0.0        0\n",
      "3  CEGR3.SA  89.0  89.0  89.0   89.0     0.0  87.94722        0.0        0\n",
      "4  CEGR3.SA  89.0  89.0  89.0   89.0     0.0  87.94722        0.0        0\n",
      "     symbol        open        high         low       close  volume  \\\n",
      "0  CGAS3.SA  105.510002  105.510002  105.510002  105.510002   100.0   \n",
      "1  CGAS3.SA  105.510002  105.510002  105.510002  105.510002     0.0   \n",
      "2  CGAS3.SA  105.510002  105.510002  105.510002  105.510002     0.0   \n",
      "3  CGAS3.SA  105.510002  105.510002  105.510002  105.510002     0.0   \n",
      "4  CGAS3.SA  105.510002  105.510002  105.510002  105.510002     0.0   \n",
      "\n",
      "    adjclose  dividends  Rótulos  rótulos  \n",
      "0  96.913269        0.0        0      NaN  \n",
      "1  96.913269        0.0        0      5.0  \n",
      "2  96.913269        0.0        0      5.0  \n",
      "3  96.913269        0.0        0      5.0  \n",
      "4  96.913269        0.0        0      5.0  \n",
      "     symbol        open        high         low       close  volume  \\\n",
      "0  CGAS5.SA  124.599998  125.500000  124.599998  125.500000    1500   \n",
      "1  CGAS5.SA  124.989998  125.959999  124.449997  125.959999    1200   \n",
      "2  CGAS5.SA  124.029999  124.029999  124.029999  124.029999     100   \n",
      "3  CGAS5.SA  124.000000  125.989998  122.830002  124.500000    1200   \n",
      "4  CGAS5.SA  125.000000  125.000000  125.000000  125.000000     100   \n",
      "\n",
      "     adjclose  dividends  Rótulos  rótulos  \n",
      "0  114.424820        0.0        0      3.0  \n",
      "1  114.844223        0.0        0      NaN  \n",
      "2  113.084549        0.0        0      5.0  \n",
      "3  113.513069        0.0        0      5.0  \n",
      "4  113.968933        0.0        0      5.0  \n",
      "     symbol       open       high        low      close  volume   adjclose  \\\n",
      "0  CGRA3.SA  28.010000  28.010000  27.500000  27.500000  2200.0  25.422216   \n",
      "1  CGRA3.SA  27.230000  28.000000  27.230000  27.990000  1100.0  25.875193   \n",
      "2  CGRA3.SA  28.389999  28.400000  28.389999  28.389999   600.0  26.244970   \n",
      "3  CGRA3.SA  28.389999  28.389999  28.389999  28.389999     0.0  26.244970   \n",
      "4  CGRA3.SA  27.990000  28.280001  27.990000  28.250000   400.0  26.115551   \n",
      "\n",
      "   dividends  Rótulos  rótulos  \n",
      "0        0.0        0      5.0  \n",
      "1        0.0        0      5.0  \n",
      "2        0.0        0      5.0  \n",
      "3        0.0        0      5.0  \n",
      "4        0.0        0      5.0  \n",
      "     symbol       open       high        low      close  volume   adjclose  \\\n",
      "0  CGRA4.SA  27.990000  27.990000  26.629999  26.700001   38600  24.623289   \n",
      "1  CGRA4.SA  27.480000  27.650000  27.110001  27.480000    7400  25.342621   \n",
      "2  CGRA4.SA  27.750000  27.920000  27.430000  27.430000    5300  25.296509   \n",
      "3  CGRA4.SA  27.000000  27.900000  27.000000  27.570000    5400  25.425621   \n",
      "4  CGRA4.SA  27.700001  27.780001  27.209999  27.209999    3700  25.093622   \n",
      "\n",
      "   dividends  Rótulos  rótulos  \n",
      "0        0.0        0      5.0  \n",
      "1        0.0        0      5.0  \n",
      "2        0.0        0      5.0  \n",
      "3        0.0        0      5.0  \n",
      "4        0.0        0      3.0  \n",
      "     symbol  open  high   low  close    volume  adjclose  dividends  Rótulos  \\\n",
      "0  CIEL3.SA  3.87  3.90  3.75   3.85  29038000  3.454583        0.0        0   \n",
      "1  CIEL3.SA  3.90  3.96  3.79   3.80  15671900  3.409718        0.0        0   \n",
      "2  CIEL3.SA  3.82  3.92  3.78   3.90  25597900  3.499448        0.0        0   \n",
      "3  CIEL3.SA  3.85  3.96  3.74   3.94  24060100  3.535340        0.0        0   \n",
      "4  CIEL3.SA  3.96  4.02  3.91   3.95  17725000  3.544312        0.0        0   \n",
      "\n",
      "   rótulos  \n",
      "0      5.0  \n",
      "1      5.0  \n",
      "2      5.0  \n",
      "3      4.0  \n",
      "4      3.0  \n",
      "     symbol  open  high   low  close   volume  adjclose  Rótulos  rótulos\n",
      "0  CLSA3.SA  4.00  4.00  3.73   3.75   838800      3.75        0      5.0\n",
      "1  CLSA3.SA  3.75  3.85  3.57   3.65   660100      3.65        0      5.0\n",
      "2  CLSA3.SA  3.68  3.80  3.53   3.55   490000      3.55        0      5.0\n",
      "3  CLSA3.SA  3.54  4.00  3.41   3.94  1232100      3.94        0      3.0\n",
      "4  CLSA3.SA  3.99  4.20  3.93   4.19   777900      4.19        0      NaN\n",
      "     symbol  open  high   low  close  volume  adjclose  dividends  Rótulos  \\\n",
      "0  CLSC3.SA  57.0  57.0  57.0   57.0       0  51.63546        0.0        0   \n",
      "1  CLSC3.SA  57.0  57.0  57.0   57.0       0  51.63546        0.0        0   \n",
      "2  CLSC3.SA  57.0  57.0  57.0   57.0       0  51.63546        0.0        0   \n",
      "3  CLSC3.SA  57.0  57.0  57.0   57.0       0  51.63546        0.0        0   \n",
      "4  CLSC3.SA  57.0  57.0  57.0   57.0       0  51.63546        0.0        0   \n",
      "\n",
      "   rótulos  \n",
      "0      5.0  \n",
      "1      5.0  \n",
      "2      4.0  \n",
      "3      3.0  \n",
      "4      2.0  \n",
      "     symbol       open       high        low      close  volume   adjclose  \\\n",
      "0  CLSC4.SA  57.009998  58.090000  56.770000  57.000000    4200  51.496780   \n",
      "1  CLSC4.SA  57.000000  57.439999  56.799999  57.000000    5200  51.496780   \n",
      "2  CLSC4.SA  57.000000  57.400002  56.840000  57.270000    6800  51.740711   \n",
      "3  CLSC4.SA  57.150002  57.160000  56.980000  57.009998    3200  51.505810   \n",
      "4  CLSC4.SA  57.009998  57.180000  56.799999  56.799999    3400  51.316086   \n",
      "\n",
      "   dividends  Rótulos  rótulos  \n",
      "0        0.0        0      5.0  \n",
      "1        0.0        0      5.0  \n",
      "2        0.0        0      5.0  \n",
      "3        0.0        0      5.0  \n",
      "4        0.0        0      5.0  \n",
      "     symbol   open       high    low  close   volume   adjclose  dividends  \\\n",
      "0  CMIG3.SA  15.90  16.080000  15.60  16.01   573500  14.998924        0.0   \n",
      "1  CMIG3.SA  16.01  16.120001  15.72  15.77   414300  14.774081        0.0   \n",
      "2  CMIG3.SA  16.00  16.000000  15.66  15.71   183200  14.717870        0.0   \n",
      "3  CMIG3.SA  15.69  15.810000  15.46  15.47  3827400  14.493027        0.0   \n",
      "4  CMIG3.SA  15.66  15.660000  15.31  15.40  4758200  14.427446        0.0   \n",
      "\n",
      "   Rótulos  rótulos  \n",
      "0        0      NaN  \n",
      "1        0      NaN  \n",
      "2        0      5.0  \n",
      "3        0      4.0  \n",
      "4        0      3.0  \n",
      "     symbol   open   high    low  close    volume  adjclose  dividends  \\\n",
      "0  CMIG4.SA  10.81  10.96  10.54  10.74  18046500  9.731612        0.0   \n",
      "1  CMIG4.SA  10.84  10.90  10.60  10.76  24881200  9.749736        0.0   \n",
      "2  CMIG4.SA  10.80  10.92  10.64  10.65   8657600  9.650063        0.0   \n",
      "3  CMIG4.SA  10.60  10.77  10.59  10.68  10934400  9.677246        0.0   \n",
      "4  CMIG4.SA  10.68  10.74  10.55  10.63   6822700  9.631940        0.0   \n",
      "\n",
      "   Rótulos  rótulos  \n",
      "0        0      5.0  \n",
      "1        0      4.0  \n",
      "2        0      5.0  \n",
      "3        0      5.0  \n",
      "4        0      4.0  \n",
      "     symbol  open  high   low  close    volume  adjclose  dividends  Rótulos  \\\n",
      "0  CMIN3.SA  4.60  4.64  4.47   4.52  10302300  3.638125        0.0        0   \n",
      "1  CMIN3.SA  4.37  4.44  4.32   4.34   8062800  3.493244        0.0        0   \n",
      "2  CMIN3.SA  4.42  4.46  4.29   4.30   6499600  3.461049        0.0        0   \n",
      "3  CMIN3.SA  4.19  4.28  4.14   4.23   7512900  3.404706        0.0        0   \n",
      "4  CMIN3.SA  4.30  4.35  4.09   4.11  10209200  3.308118        0.0        0   \n",
      "\n",
      "   rótulos  \n",
      "0      5.0  \n",
      "1      5.0  \n",
      "2      5.0  \n",
      "3      5.0  \n",
      "4      5.0  \n",
      "     symbol       open       high        low      close  volume   adjclose  \\\n",
      "0  COCE3.SA  58.919998  58.919998  58.919998  58.919998     0.0  56.851509   \n",
      "1  COCE3.SA  58.919998  58.919998  58.919998  58.919998     0.0  56.851509   \n",
      "2  COCE3.SA  58.919998  58.919998  58.919998  58.919998     0.0  56.851509   \n",
      "3  COCE3.SA  58.919998  58.919998  58.919998  58.919998     0.0  56.851509   \n",
      "4  COCE3.SA  58.919998  58.919998  58.919998  58.919998     0.0  56.851509   \n",
      "\n",
      "   dividends  Rótulos  \n",
      "0        0.0        0  \n",
      "1        0.0        0  \n",
      "2        0.0        0  \n",
      "3        0.0        0  \n",
      "4        0.0        0  \n",
      "     symbol       open       high        low      close  volume   adjclose  \\\n",
      "0  COCE5.SA  48.340000  48.990002  46.720001  48.990002   10100  46.923119   \n",
      "1  COCE5.SA  48.400002  49.750000  47.110001  47.110001   12200  45.122437   \n",
      "2  COCE5.SA  47.750000  49.250000  47.650002  48.400002    3900  46.358009   \n",
      "3  COCE5.SA  48.400002  49.040001  47.880001  48.220001    3000  46.185608   \n",
      "4  COCE5.SA  48.560001  49.950001  48.000000  49.950001    3000  47.842617   \n",
      "\n",
      "   dividends  Rótulos  rótulos  \n",
      "0        0.0        0      5.0  \n",
      "1        0.0        0      4.0  \n",
      "2        0.0        0      5.0  \n",
      "3        0.0        0      5.0  \n",
      "4        0.0        0      NaN  \n",
      "     symbol  open  high   low  close  volume   adjclose  dividends  Rótulos\n",
      "0  COCE6.SA  35.0  35.0  35.0   35.0     0.0  32.966499        0.0        0\n",
      "1  COCE6.SA  35.0  35.0  35.0   35.0     0.0  32.966499        0.0        0\n",
      "2  COCE6.SA  35.0  35.0  35.0   35.0     0.0  32.966499        0.0        0\n",
      "3  COCE6.SA  35.0  35.0  35.0   35.0     0.0  32.966499        0.0        0\n",
      "4  COCE6.SA  35.0  35.0  35.0   35.0     0.0  32.966499        0.0        0\n",
      "     symbol  open  high   low  close    volume  adjclose  Rótulos  rótulos\n",
      "0  COGN3.SA  2.26  2.42  2.25   2.37  32591800      2.37        0      NaN\n",
      "1  COGN3.SA  2.38  2.42  2.29   2.31  23238100      2.31        0      NaN\n",
      "2  COGN3.SA  2.33  2.38  2.18   2.20  40461400      2.20        0      NaN\n",
      "3  COGN3.SA  2.16  2.30  2.14   2.25  33398100      2.25        0      NaN\n",
      "4  COGN3.SA  2.26  2.32  2.22   2.26  27202900      2.26        0      NaN\n",
      "     symbol  open  high   low  close  volume  adjclose  dividends  Rótulos  \\\n",
      "0  CORR4.SA  82.0  82.0  82.0   82.0     0.0  0.620506        0.0        0   \n",
      "1  CORR4.SA  82.0  82.0  82.0   82.0     0.0  0.620506        0.0        0   \n",
      "2  CORR4.SA  82.0  82.0  82.0   82.0     0.0  0.620506        0.0        0   \n",
      "3  CORR4.SA  82.0  82.0  82.0   82.0     0.0  0.620506        0.0        0   \n",
      "4  CORR4.SA  82.0  82.0  82.0   82.0     0.0  0.620506        0.0        0   \n",
      "\n",
      "   rótulos  \n",
      "0      5.0  \n",
      "1      5.0  \n",
      "2      5.0  \n",
      "3      5.0  \n",
      "4      5.0  \n",
      "     symbol       open       high        low      close   volume   adjclose  \\\n",
      "0  CPFE3.SA  32.250000  33.380001  32.230000  33.160000  3713100  31.056503   \n",
      "1  CPFE3.SA  33.459999  34.060001  32.680000  33.590000  1706000  31.459227   \n",
      "2  CPFE3.SA  33.880001  33.959999  32.320000  32.349998  1896700  30.297884   \n",
      "3  CPFE3.SA  32.310001  32.549999  32.040001  32.090000  1679200  30.054379   \n",
      "4  CPFE3.SA  32.080002  32.080002  31.360001  31.360001  1996900  29.370686   \n",
      "\n",
      "   dividends  Rótulos  rótulos  \n",
      "0        0.0        0      NaN  \n",
      "1        0.0        0      NaN  \n",
      "2        0.0        0      NaN  \n",
      "3        0.0        0      NaN  \n",
      "4        0.0        0      3.0  \n",
      "     symbol  open  high   low  close   volume  adjclose  dividends  Rótulos  \\\n",
      "0  CPLE3.SA  6.25  6.37  6.25   6.32  1135900  6.055202        0.0        0   \n",
      "1  CPLE3.SA  6.33  6.41  6.29   6.38   576000  6.112689        0.0        0   \n",
      "2  CPLE3.SA  6.42  6.45  6.29   6.29   531100  6.026459        0.0        0   \n",
      "3  CPLE3.SA  6.25  6.35  6.24   6.32   845600  6.055202        0.0        0   \n",
      "4  CPLE3.SA  6.34  6.37  6.19   6.19   771400  5.930649        0.0        0   \n",
      "\n",
      "   rótulos  \n",
      "0      NaN  \n",
      "1      NaN  \n",
      "2      NaN  \n",
      "3      NaN  \n",
      "4      NaN  \n",
      "     symbol  open  high   low  close  volume   adjclose  dividends  Rótulos  \\\n",
      "0  CPLE5.SA  20.0  20.0  20.0   20.0     0.0  19.677284        0.0        0   \n",
      "1  CPLE5.SA  20.0  20.0  20.0   20.0     0.0  19.677284        0.0        0   \n",
      "2  CPLE5.SA  22.0  22.0  22.0   22.0   300.0  21.645012        0.0        0   \n",
      "3  CPLE5.SA  22.0  22.0  22.0   22.0   100.0  21.645012        0.0        0   \n",
      "4  CPLE5.SA  22.0  22.0  22.0   22.0     0.0  21.645012        0.0        0   \n",
      "\n",
      "   rótulos  \n",
      "0      5.0  \n",
      "1      5.0  \n",
      "2      NaN  \n",
      "3      NaN  \n",
      "4      NaN  \n",
      "     symbol  open  high   low  close    volume  adjclose  dividends  Rótulos  \\\n",
      "0  CPLE6.SA  6.94  7.00  6.87   7.00  11352600  6.705805        0.0        0   \n",
      "1  CPLE6.SA  7.01  7.06  6.92   7.01   4523400  6.715385        0.0        0   \n",
      "2  CPLE6.SA  7.05  7.08  6.88   6.88   7772700  6.590848        0.0        0   \n",
      "3  CPLE6.SA  6.90  7.06  6.87   7.03   8875500  6.734545        0.0        0   \n",
      "4  CPLE6.SA  7.07  7.08  6.87   6.88  14576800  6.590848        0.0        0   \n",
      "\n",
      "   rótulos  \n",
      "0      NaN  \n",
      "1      NaN  \n",
      "2      NaN  \n",
      "3      NaN  \n",
      "4      NaN  \n",
      "     symbol  open  high   low  close  volume  adjclose  Rótulos  rótulos\n",
      "0  CRDE3.SA  21.4  21.4  21.4   21.4     0.0      21.4        0      NaN\n",
      "1  CRDE3.SA  21.4  21.4  21.4   21.4     0.0      21.4        0      NaN\n",
      "2  CRDE3.SA  21.4  21.4  21.4   21.4     0.0      21.4        0      NaN\n",
      "3  CRDE3.SA  21.4  21.4  21.4   21.4     0.0      21.4        0      NaN\n",
      "4  CRDE3.SA  21.4  21.4  21.4   21.4     0.0      21.4        0      NaN\n",
      "     symbol       open       high        low      close   volume   adjclose  \\\n",
      "0  CRFB3.SA  16.469999  16.639999  16.219999  16.540001  6846600  16.025948   \n",
      "1  CRFB3.SA  16.209999  16.379999  15.970000  16.250000  2471800  15.865375   \n",
      "2  CRFB3.SA  16.360001  16.500000  15.970000  16.270000  4414400  15.884899   \n",
      "3  CRFB3.SA  16.150000  16.200001  15.790000  15.830000  4228800  15.455315   \n",
      "4  CRFB3.SA  15.940000  16.280001  15.590000  16.110001  6633300  15.728687   \n",
      "\n",
      "   dividends  Rótulos  rótulos  \n",
      "0   0.000000        0      NaN  \n",
      "1   0.125532        0      NaN  \n",
      "2   0.000000        0      NaN  \n",
      "3   0.000000        0      NaN  \n",
      "4   0.000000        0      NaN  \n",
      "     symbol  open  high   low  close  volume  adjclose  Rótulos  rótulos\n",
      "0  CRIV3.SA  4.00  4.00  3.85   3.85  5200.0      3.85        0      NaN\n",
      "1  CRIV3.SA  3.70  3.70  3.51   3.54  9700.0      3.54        0      NaN\n",
      "2  CRIV3.SA  3.64  3.65  3.64   3.65  1100.0      3.65        0      NaN\n",
      "3  CRIV3.SA  3.41  3.54  3.10   3.48  4000.0      3.48        0      NaN\n",
      "4  CRIV3.SA  3.49  3.51  3.49   3.51   500.0      3.51        0      NaN\n",
      "     symbol  open  high   low  close  volume  adjclose  dividends  Rótulos  \\\n",
      "0  CRIV4.SA  4.73  4.73  4.71   4.71     900  4.299505        0.0        0   \n",
      "1  CRIV4.SA  4.70  4.70  4.70   4.70     200  4.290376        0.0        0   \n",
      "2  CRIV4.SA  4.85  4.85  4.65   4.65    1000  4.244734        0.0        0   \n",
      "3  CRIV4.SA  4.65  4.75  4.50   4.54    1600  4.144321        0.0        0   \n",
      "4  CRIV4.SA  4.75  4.75  4.75   4.75     800  4.336019        0.0        0   \n",
      "\n",
      "   rótulos  \n",
      "0      5.0  \n",
      "1      4.0  \n",
      "2      3.0  \n",
      "3      2.0  \n",
      "4      5.0  \n",
      "     symbol       open       high        low      close  volume   adjclose  \\\n",
      "0  CRPG3.SA  40.799999  40.799999  40.799999  40.799999     0.0  34.083031   \n",
      "1  CRPG3.SA  40.799999  40.799999  40.799999  40.799999     0.0  34.083031   \n",
      "2  CRPG3.SA  40.799999  40.799999  40.799999  40.799999     0.0  34.083031   \n",
      "3  CRPG3.SA  40.799999  40.799999  40.799999  40.799999     0.0  34.083031   \n",
      "4  CRPG3.SA  40.799999  40.799999  40.799999  40.799999     0.0  34.083031   \n",
      "\n",
      "   dividends  Rótulos  rótulos  \n",
      "0        0.0        0      5.0  \n",
      "1        0.0        0      5.0  \n",
      "2        0.0        0      5.0  \n",
      "3        0.0        0      5.0  \n",
      "4        0.0        0      5.0  \n",
      "     symbol       open       high        low      close  volume   adjclose  \\\n",
      "0  CRPG5.SA  35.279999  35.320000  34.290001  34.290001    8300  26.919893   \n",
      "1  CRPG5.SA  34.419998  35.389999  34.000000  34.000000    3600  26.692223   \n",
      "2  CRPG5.SA  33.700001  34.099998  33.000000  33.299999    8000  26.142677   \n",
      "3  CRPG5.SA  33.160000  34.299999  33.160000  34.000000    3700  26.692223   \n",
      "4  CRPG5.SA  33.439999  33.470001  32.509998  32.930000    2800  25.852203   \n",
      "\n",
      "   dividends  Rótulos  rótulos  \n",
      "0        0.0        0      5.0  \n",
      "1        0.0        0      5.0  \n",
      "2        0.0        0      5.0  \n",
      "3        0.0        0      5.0  \n",
      "4        0.0        0      5.0  \n",
      "     symbol       open       high        low      close  volume   adjclose  \\\n",
      "0  CRPG6.SA  34.020000  35.900002  34.009998  35.900002   900.0  28.100204   \n",
      "1  CRPG6.SA  35.900002  35.900002  35.900002  35.900002   100.0  28.100204   \n",
      "2  CRPG6.SA  34.000000  34.990002  33.000000  34.500000   900.0  27.004375   \n",
      "3  CRPG6.SA  34.000000  34.000000  34.000000  34.000000   100.0  26.613005   \n",
      "4  CRPG6.SA  33.990002  33.990002  33.500000  33.500000   200.0  26.221638   \n",
      "\n",
      "   dividends  Rótulos  rótulos  \n",
      "0        0.0        0      5.0  \n",
      "1        0.0        0      5.0  \n",
      "2        0.0        0      5.0  \n",
      "3        0.0        0      5.0  \n",
      "4        0.0        0      5.0  \n",
      "     symbol  open  high   low  close  volume   adjclose  dividends  Rótulos  \\\n",
      "0  CSAB3.SA  50.0  50.0  50.0   50.0     0.0  48.952831        0.0        0   \n",
      "1  CSAB3.SA  50.0  50.0  50.0   50.0     0.0  48.952831        0.0        0   \n",
      "2  CSAB3.SA  50.0  50.0  50.0   50.0     0.0  48.952831        0.0        0   \n",
      "3  CSAB3.SA  50.0  50.0  50.0   50.0     0.0  48.952831        0.0        0   \n",
      "4  CSAB3.SA  50.0  50.0  50.0   50.0     0.0  48.952831        0.0        0   \n",
      "\n",
      "   rótulos  \n",
      "0      NaN  \n",
      "1      NaN  \n",
      "2      NaN  \n",
      "3      NaN  \n",
      "4      NaN  \n",
      "     symbol       open       high        low      close  volume   adjclose  \\\n",
      "0  CSAB4.SA  49.480000  49.480000  49.480000  49.480000     0.0  48.767311   \n",
      "1  CSAB4.SA  49.480000  49.480000  49.480000  49.480000     0.0  48.767311   \n",
      "2  CSAB4.SA  49.040001  49.040001  49.040001  49.040001   200.0  48.333649   \n",
      "3  CSAB4.SA  49.040001  49.040001  49.040001  49.040001     0.0  48.333649   \n",
      "4  CSAB4.SA  49.040001  49.040001  49.040001  49.040001     0.0  48.333649   \n",
      "\n",
      "   dividends  Rótulos  rótulos  \n",
      "0        0.0        0      NaN  \n",
      "1        0.0        0      NaN  \n",
      "2        0.0        0      NaN  \n",
      "3        0.0        0      NaN  \n",
      "4        0.0        0      NaN  \n",
      "     symbol       open       high    low      close    volume   adjclose  \\\n",
      "0  CSAN3.SA  18.490000  18.730000  18.26  18.340000  10995700  17.333540   \n",
      "1  CSAN3.SA  18.440001  18.850000  18.08  18.410000   4660400  17.399696   \n",
      "2  CSAN3.SA  18.469999  18.690001  18.18  18.440001   6393700  17.428051   \n",
      "3  CSAN3.SA  18.330000  18.730000  18.15  18.490000   5493500  17.475307   \n",
      "4  CSAN3.SA  18.570000  18.750000  18.07  18.100000   7955600  17.106709   \n",
      "\n",
      "   dividends  Rótulos  rótulos  \n",
      "0        0.0        0      NaN  \n",
      "1        0.0        0      NaN  \n",
      "2        0.0        0      NaN  \n",
      "3        0.0        0      NaN  \n",
      "4        0.0        0      4.0  \n",
      "     symbol  open  high   low  close  volume  adjclose  dividends  Rótulos  \\\n",
      "0  CSED3.SA  3.26  3.45  3.16   3.45  373800  3.352315        0.0        0   \n",
      "1  CSED3.SA  3.44  3.49  3.33   3.47  151200  3.371749        0.0        0   \n",
      "2  CSED3.SA  3.47  3.47  3.23   3.43  515600  3.332882        0.0        0   \n",
      "3  CSED3.SA  3.39  3.47  3.30   3.30  325000  3.206562        0.0        0   \n",
      "4  CSED3.SA  3.32  3.49  3.27   3.33  407800  3.235713        0.0        0   \n",
      "\n",
      "   rótulos  \n",
      "0      NaN  \n",
      "1      NaN  \n",
      "2      NaN  \n",
      "3      NaN  \n",
      "4      NaN  \n",
      "     symbol   open   high    low  close   volume   adjclose  dividends  \\\n",
      "0  CSMG3.SA  12.13  12.46  11.94  11.94  5678900  10.944010   0.000000   \n",
      "1  CSMG3.SA  11.97  12.09  11.80  11.89   929600  10.898181   0.000000   \n",
      "2  CSMG3.SA  11.99  12.03  11.73  11.79  1191100  10.806522   0.000000   \n",
      "3  CSMG3.SA  11.58  11.96  11.55  11.87   964000  11.010720   0.140134   \n",
      "4  CSMG3.SA  11.89  12.04  11.73  11.75  1109900  10.899407   0.000000   \n",
      "\n",
      "   Rótulos  rótulos  \n",
      "0        0      4.0  \n",
      "1        0      3.0  \n",
      "2        0      5.0  \n",
      "3        0      4.0  \n",
      "4        0      4.0  \n",
      "     symbol       open       high    low  close    volume   adjclose  \\\n",
      "0  CSNA3.SA  17.420000  17.440001  16.34  17.02  23140700  14.449593   \n",
      "1  CSNA3.SA  16.650000  17.090000  16.17  16.85   7049600  14.305265   \n",
      "2  CSNA3.SA  17.080000  17.309999  16.57  16.74   7150100  14.211878   \n",
      "3  CSNA3.SA  16.180000  16.330000  15.49  15.97  17697900  13.558166   \n",
      "4  CSNA3.SA  16.299999  16.510000  15.38  15.65  15707300  13.286493   \n",
      "\n",
      "   dividends  Rótulos  rótulos  \n",
      "0        0.0        0      5.0  \n",
      "1        0.0        0      5.0  \n",
      "2        0.0        0      5.0  \n",
      "3        0.0        0      5.0  \n",
      "4        0.0        0      4.0  \n",
      "     symbol   open   high    low  close  volume   adjclose  dividends  \\\n",
      "0  CSRN3.SA  22.35  22.35  22.35  22.35       0  19.530247        0.0   \n",
      "1  CSRN3.SA  22.35  22.35  22.35  22.35       0  19.530247        0.0   \n",
      "2  CSRN3.SA  22.35  22.35  22.35  22.35       0  19.530247        0.0   \n",
      "3  CSRN3.SA  22.35  22.35  22.35  22.35       0  19.530247        0.0   \n",
      "4  CSRN3.SA  22.35  22.35  22.35  22.35       0  19.530247        0.0   \n",
      "\n",
      "   Rótulos  rótulos  \n",
      "0        0      5.0  \n",
      "1        0      4.0  \n",
      "2        0      3.0  \n",
      "3        0      2.0  \n",
      "4        0      1.0  \n",
      "     symbol  open  high   low  close  volume   adjclose  dividends  Rótulos  \\\n",
      "0  CSRN5.SA  19.1  19.1  19.1   19.1     0.0  16.672012        0.0        0   \n",
      "1  CSRN5.SA  19.1  19.1  19.1   19.1     0.0  16.672012        0.0        0   \n",
      "2  CSRN5.SA  19.1  19.1  19.1   19.1     0.0  16.672012        0.0        0   \n",
      "3  CSRN5.SA  19.1  19.1  19.1   19.1     0.0  16.672012        0.0        0   \n",
      "4  CSRN5.SA  19.1  19.1  19.1   19.1     0.0  16.672012        0.0        0   \n",
      "\n",
      "   rótulos  \n",
      "0      5.0  \n",
      "1      5.0  \n",
      "2      5.0  \n",
      "3      5.0  \n",
      "4      5.0  \n",
      "     symbol  open  high   low  close  volume  adjclose  dividends  Rótulos  \\\n",
      "0  CSRN6.SA  22.0  22.0  22.0   22.0     0.0  19.14551        0.0        0   \n",
      "1  CSRN6.SA  22.0  22.0  22.0   22.0     0.0  19.14551        0.0        0   \n",
      "2  CSRN6.SA  22.0  22.0  22.0   22.0     0.0  19.14551        0.0        0   \n",
      "3  CSRN6.SA  22.0  22.0  22.0   22.0     0.0  19.14551        0.0        0   \n",
      "4  CSRN6.SA  22.0  22.0  22.0   22.0     0.0  19.14551        0.0        0   \n",
      "\n",
      "   rótulos  \n",
      "0      5.0  \n",
      "1      5.0  \n",
      "2      5.0  \n",
      "3      5.0  \n",
      "4      5.0  \n",
      "     symbol   open   high    low  close  volume   adjclose  dividends  \\\n",
      "0  CSUD3.SA  12.60  12.64  12.18  12.64  130300  11.479031   0.000000   \n",
      "1  CSUD3.SA  12.51  12.72  12.14  12.14  142100  11.024956   0.000000   \n",
      "2  CSUD3.SA  12.17  13.01  12.17  12.83  209100  11.651578   0.000000   \n",
      "3  CSUD3.SA  12.65  12.85  12.45  12.71  116500  11.657430   0.126379   \n",
      "4  CSUD3.SA  12.54  12.89  12.42  12.58  133400  11.538195   0.000000   \n",
      "\n",
      "   Rótulos  rótulos  \n",
      "0        0      5.0  \n",
      "1        0      5.0  \n",
      "2        0      5.0  \n",
      "3        0      5.0  \n",
      "4        0      5.0  \n",
      "     symbol  open  high   low  close  volume  adjclose  Rótulos  rótulos\n",
      "0  CTKA3.SA  27.5  27.5  27.5   27.5     0.0      27.5        0      NaN\n",
      "1  CTKA3.SA  27.5  27.5  27.5   27.5     0.0      27.5        0      NaN\n",
      "2  CTKA3.SA  27.5  27.5  27.5   27.5     0.0      27.5        0      NaN\n",
      "3  CTKA3.SA  27.5  27.5  27.5   27.5     0.0      27.5        0      NaN\n",
      "4  CTKA3.SA  27.5  27.5  27.5   27.5     0.0      27.5        0      NaN\n",
      "     symbol   open   high    low  close  volume  adjclose  Rótulos  rótulos\n",
      "0  CTKA4.SA  11.39  11.39  11.39  11.39     0.0     11.39        0      NaN\n",
      "1  CTKA4.SA  11.50  11.50  11.49  11.49   500.0     11.49        0      NaN\n",
      "2  CTKA4.SA  12.00  12.00  12.00  12.00   100.0     12.00        0      NaN\n",
      "3  CTKA4.SA  12.00  12.00  12.00  12.00     0.0     12.00        0      NaN\n",
      "4  CTKA4.SA  11.60  11.60  11.45  11.45  2000.0     11.45        0      NaN\n",
      "     symbol  open  high  low  close  volume  adjclose  Rótulos  rótulos\n",
      "0  CTNM3.SA   8.2   8.2  8.2    8.2     0.0       8.2        0      NaN\n",
      "1  CTNM3.SA   8.2   8.2  8.2    8.2     0.0       8.2        0      NaN\n",
      "2  CTNM3.SA   8.2   8.2  8.2    8.2     0.0       8.2        0      NaN\n",
      "3  CTNM3.SA   8.2   8.2  8.1    8.1   200.0       8.1        0      NaN\n",
      "4  CTNM3.SA   8.1   8.1  8.1    8.1     0.0       8.1        0      NaN\n",
      "     symbol  open  high   low  close  volume  adjclose  Rótulos  rótulos\n",
      "0  CTNM4.SA  2.50  2.63  2.40   2.50   23600      2.50        0      1.0\n",
      "1  CTNM4.SA  2.50  2.81  2.50   2.70   30100      2.70        0      NaN\n",
      "2  CTNM4.SA  2.70  2.70  2.60   2.60    5600      2.60        0      NaN\n",
      "3  CTNM4.SA  2.69  2.74  2.50   2.52   59700      2.52        0      NaN\n",
      "4  CTNM4.SA  2.58  2.65  2.55   2.55    4500      2.55        0      NaN\n",
      "     symbol  open  high   low  close  volume  adjclose  splits  Rótulos  \\\n",
      "0  CTSA3.SA  6.40  6.48  6.28   6.28    2000      6.28     0.0        0   \n",
      "1  CTSA3.SA  6.44  7.00  6.28   6.28   25075      6.28     0.0        0   \n",
      "2  CTSA3.SA  6.36  6.96  6.16   6.16   16800      6.16     0.0        0   \n",
      "3  CTSA3.SA  6.36  6.52  6.24   6.32    8350      6.32     0.0        0   \n",
      "4  CTSA3.SA  6.32  6.36  6.16   6.16    5550      6.16     0.0        0   \n",
      "\n",
      "   rótulos  \n",
      "0      2.0  \n",
      "1      1.0  \n",
      "2      NaN  \n",
      "3      NaN  \n",
      "4      NaN  \n",
      "     symbol  open  high   low  close  volume  adjclose  splits  Rótulos  \\\n",
      "0  CTSA4.SA  3.20  3.24  3.12   3.24    6825      3.24     0.0        0   \n",
      "1  CTSA4.SA  3.20  3.32  3.20   3.20    7475      3.20     0.0        0   \n",
      "2  CTSA4.SA  3.20  3.24  3.00   3.04   24000      3.04     0.0        0   \n",
      "3  CTSA4.SA  3.04  3.16  2.96   3.12   16050      3.12     0.0        0   \n",
      "4  CTSA4.SA  3.12  3.16  3.08   3.12    8175      3.12     0.0        0   \n",
      "\n",
      "   rótulos  \n",
      "0      NaN  \n",
      "1      NaN  \n",
      "2      NaN  \n",
      "3      NaN  \n",
      "4      NaN  \n",
      "     symbol  open  high   low  close   volume  adjclose  dividends  Rótulos  \\\n",
      "0  CURY3.SA  6.01  6.09  5.81   6.09  1005000  5.962842        0.0        0   \n",
      "1  CURY3.SA  6.09  6.09  5.89   5.99   731100  5.864930        0.0        0   \n",
      "2  CURY3.SA  6.03  6.09  5.91   5.94   610000  5.815974        0.0        0   \n",
      "3  CURY3.SA  5.90  5.99  5.81   5.87   758900  5.747435        0.0        0   \n",
      "4  CURY3.SA  5.94  6.08  5.94   6.07   619200  5.943260        0.0        0   \n",
      "\n",
      "   rótulos  \n",
      "0      NaN  \n",
      "1      NaN  \n",
      "2      NaN  \n",
      "3      NaN  \n",
      "4      NaN  \n",
      "     symbol  open  high   low  close    volume  adjclose  Rótulos  rótulos\n",
      "0  CVCB3.SA  8.39  9.64  8.12   9.64  23953300      9.64        0      NaN\n",
      "1  CVCB3.SA  9.66  9.82  8.89   9.46  13876400      9.46        0      NaN\n",
      "2  CVCB3.SA  9.59  9.88  9.09   9.40  11704000      9.40        0      NaN\n",
      "3  CVCB3.SA  9.08  9.68  8.96   9.06  10826900      9.06        0      NaN\n",
      "4  CVCB3.SA  9.10  9.30  8.81   8.88  11178500      8.88        0      NaN\n",
      "     symbol  open  high   low  close   volume  adjclose  dividends  Rótulos  \\\n",
      "0  CXSE3.SA  6.96  7.02  6.75   7.02  4037100  6.398110        0.0        0   \n",
      "1  CXSE3.SA  7.02  7.12  6.90   7.02  2984900  6.398110        0.0        0   \n",
      "2  CXSE3.SA  7.05  7.26  7.04   7.18  2494400  6.543936        0.0        0   \n",
      "3  CXSE3.SA  7.11  7.22  7.11   7.11  1090200  6.480137        0.0        0   \n",
      "4  CXSE3.SA  7.10  7.20  7.05   7.05  1103500  6.425452        0.0        0   \n",
      "\n",
      "   rótulos  \n",
      "0      5.0  \n",
      "1      5.0  \n",
      "2      5.0  \n",
      "3      5.0  \n",
      "4      4.0  \n",
      "     symbol   open   high    low  close   volume   adjclose  dividends  \\\n",
      "0  CYRE3.SA  12.15  12.26  11.89  12.26  9367200  11.847872        0.0   \n",
      "1  CYRE3.SA  12.23  12.29  11.95  12.06  6293300  11.654595        0.0   \n",
      "2  CYRE3.SA  12.11  12.24  11.87  12.03  7078100  11.625603        0.0   \n",
      "3  CYRE3.SA  11.87  12.31  11.87  12.11  6172900  11.702913        0.0   \n",
      "4  CYRE3.SA  12.15  12.35  11.99  12.11  4701500  11.702913        0.0   \n",
      "\n",
      "   Rótulos  rótulos  \n",
      "0        0      NaN  \n",
      "1        0      NaN  \n",
      "2        0      NaN  \n",
      "3        0      NaN  \n",
      "4        0      NaN  \n",
      "     symbol       open       high        low      close  volume   adjclose  \\\n",
      "0  DASA3.SA  16.920000  17.469999  16.400000  17.150000  186500  17.031237   \n",
      "1  DASA3.SA  17.040001  17.410000  16.350000  16.420000  141500  16.306292   \n",
      "2  DASA3.SA  16.700001  16.730000  16.049999  16.350000  207700  16.236776   \n",
      "3  DASA3.SA  16.200001  16.889999  15.780000  16.450001  178500  16.336084   \n",
      "4  DASA3.SA  16.469999  17.389999  16.450001  16.870001  212400  16.753176   \n",
      "\n",
      "   dividends  Rótulos  rótulos  \n",
      "0        0.0        0      NaN  \n",
      "1        0.0        0      NaN  \n",
      "2        0.0        0      NaN  \n",
      "3        0.0        0      NaN  \n",
      "4        0.0        0      NaN  \n",
      "     symbol  open  high   low  close  volume  adjclose  dividends  Rótulos  \\\n",
      "0  DESK3.SA  6.59  6.75  6.23   6.75  380100  6.734861        0.0        0   \n",
      "1  DESK3.SA  6.75  6.99  6.36   6.99  495000  6.974322        0.0        0   \n",
      "2  DESK3.SA  7.01  7.19  6.79   7.19  517200  7.173874        0.0        0   \n",
      "3  DESK3.SA  7.05  7.27  6.97   7.12  411600  7.104031        0.0        0   \n",
      "4  DESK3.SA  7.17  7.28  6.81   6.91  475400  6.894502        0.0        0   \n",
      "\n",
      "   rótulos  \n",
      "0      5.0  \n",
      "1      5.0  \n",
      "2      NaN  \n",
      "3      3.0  \n",
      "4      5.0  \n",
      "     symbol  open  high   low  close  volume  adjclose  dividends  Rótulos  \\\n",
      "0  DEXP3.SA  7.65  7.97  7.56   7.77  198600  7.696042        0.0        0   \n",
      "1  DEXP3.SA  7.76  7.81  7.38   7.51  309400  7.438517        0.0        0   \n",
      "2  DEXP3.SA  7.51  7.75  7.43   7.58  211700  7.507851        0.0        0   \n",
      "3  DEXP3.SA  7.56  7.89  7.26   7.55  306600  7.478137        0.0        0   \n",
      "4  DEXP3.SA  7.63  7.78  7.35   7.57  359100  7.497946        0.0        0   \n",
      "\n",
      "   rótulos  \n",
      "0      NaN  \n",
      "1      NaN  \n",
      "2      NaN  \n",
      "3      NaN  \n",
      "4      NaN  \n",
      "     symbol  open  high   low  close  volume  adjclose  dividends  Rótulos  \\\n",
      "0  DEXP4.SA  7.76  7.76  7.45   7.75    5400  7.663725        0.0        0   \n",
      "1  DEXP4.SA  7.75  7.75  7.10   7.10    3300  7.020961        0.0        0   \n",
      "2  DEXP4.SA  7.00  7.48  7.00   7.41    2700  7.327509        0.0        0   \n",
      "3  DEXP4.SA  7.41  7.41  7.41   7.41       0  7.327509        0.0        0   \n",
      "4  DEXP4.SA  7.20  7.29  7.20   7.29     900  7.208846        0.0        0   \n",
      "\n",
      "   rótulos  \n",
      "0      NaN  \n",
      "1      NaN  \n",
      "2      NaN  \n",
      "3      NaN  \n",
      "4      NaN  \n",
      "     symbol  open   high   low  close   volume  adjclose  dividends  Rótulos  \\\n",
      "0  DIRR3.SA  9.54   9.78  9.13   9.71  2250000  8.863397        0.0        0   \n",
      "1  DIRR3.SA  9.65   9.85  9.50   9.78  1188200  8.927293        0.0        0   \n",
      "2  DIRR3.SA  9.88   9.90  9.34   9.54  1037100  8.708219        0.0        0   \n",
      "3  DIRR3.SA  9.41  10.13  9.32   9.90  2427100  9.036830        0.0        0   \n",
      "4  DIRR3.SA  9.93  10.12  9.87  10.10  1504000  9.219393        0.0        0   \n",
      "\n",
      "   rótulos  \n",
      "0      5.0  \n",
      "1      5.0  \n",
      "2      5.0  \n",
      "3      5.0  \n",
      "4      5.0  \n",
      "     symbol  open  high   low  close  volume   adjclose  dividends  Rótulos  \\\n",
      "0  DMFN3.SA  16.0  16.0  16.0   16.0     0.0  15.415521        0.0        0   \n",
      "1  DMFN3.SA  16.0  16.0  16.0   16.0     0.0  15.415521        0.0        0   \n",
      "2  DMFN3.SA  16.0  16.0  16.0   16.0     0.0  15.415521        0.0        0   \n",
      "3  DMFN3.SA  16.0  16.0  16.0   16.0     0.0  15.415521        0.0        0   \n",
      "4  DMFN3.SA  16.0  16.0  16.0   16.0     0.0  15.415521        0.0        0   \n",
      "\n",
      "   rótulos  \n",
      "0      NaN  \n",
      "1      NaN  \n",
      "2      NaN  \n",
      "3      NaN  \n",
      "4      NaN  \n",
      "     symbol  open  high   low  close  volume  adjclose  Rótulos  rótulos\n",
      "0  DMVF3.SA  3.73  3.75  3.56   3.68   72400      3.68        0      NaN\n",
      "1  DMVF3.SA  3.65  3.71  3.60   3.70   39500      3.70        0      NaN\n",
      "2  DMVF3.SA  3.71  3.88  3.70   3.75  109000      3.75        0      5.0\n",
      "3  DMVF3.SA  3.76  3.80  3.70   3.74   24300      3.74        0      4.0\n",
      "4  DMVF3.SA  3.72  3.94  3.65   3.90   78600      3.90        0      NaN\n",
      "     symbol  open  high   low  close  volume  adjclose  Rótulos\n",
      "0  DOHL3.SA  19.0  19.0  19.0   19.0     0.0      19.0        0\n",
      "1  DOHL3.SA  19.0  19.0  19.0   19.0     0.0      19.0        0\n",
      "2  DOHL3.SA  19.0  19.0  19.0   19.0     0.0      19.0        0\n",
      "3  DOHL3.SA  19.0  19.0  19.0   19.0     0.0      19.0        0\n",
      "4  DOHL3.SA  19.0  19.0  19.0   19.0     0.0      19.0        0\n",
      "     symbol  open  high   low  close  volume  adjclose  Rótulos  rótulos\n",
      "0  DOHL4.SA  5.84  5.84  5.84   5.84       0      5.84        0      NaN\n",
      "1  DOHL4.SA  5.56  5.85  5.56   5.85     300      5.85        0      NaN\n",
      "2  DOHL4.SA  5.57  5.78  5.35   5.50   21200      5.50        0      NaN\n",
      "3  DOHL4.SA  5.66  5.79  5.57   5.76    1300      5.76        0      NaN\n",
      "4  DOHL4.SA  5.51  5.76  5.51   5.59   20400      5.59        0      NaN\n",
      "     symbol  open  high   low  close  volume  adjclose  Rótulos  rótulos\n",
      "0  DOTZ3.SA  3.61  3.89  3.51   3.59   65900      3.59        0      NaN\n",
      "1  DOTZ3.SA  3.69  3.70  3.33   3.35   59500      3.35        0      5.0\n",
      "2  DOTZ3.SA  3.35  3.44  3.23   3.25   43300      3.25        0      5.0\n",
      "3  DOTZ3.SA  3.16  3.41  3.13   3.41   35900      3.41        0      5.0\n",
      "4  DOTZ3.SA  3.31  3.60  3.25   3.60   30700      3.60        0      5.0\n",
      "     symbol  open  high   low  close  volume  adjclose  Rótulos  rótulos\n",
      "0  DTCY3.SA  6.52  6.52  6.52   6.52     0.0      6.52        0      NaN\n",
      "1  DTCY3.SA  6.00  6.00  5.10   5.95  3500.0      5.95        0      NaN\n",
      "2  DTCY3.SA  5.38  5.53  5.01   5.35  1700.0      5.35        0      NaN\n",
      "3  DTCY3.SA  5.35  5.35  5.35   5.35     0.0      5.35        0      NaN\n",
      "4  DTCY3.SA  5.35  5.35  5.35   5.35     0.0      5.35        0      NaN\n",
      "     symbol      open      high       low     close   volume  adjclose  \\\n",
      "0  DXCO3.SA  9.136363  9.236363  8.800000  8.800000  6798550  8.394652   \n",
      "1  DXCO3.SA  8.818181  9.027272  8.754545  8.854545  1884190  8.446685   \n",
      "2  DXCO3.SA  8.881818  9.245454  8.772727  9.027272  4718780  8.611456   \n",
      "3  DXCO3.SA  8.900000  9.400000  8.827272  9.309090  3922380  8.880292   \n",
      "4  DXCO3.SA  9.318181  9.545454  9.227272  9.327272  3256550  8.897637   \n",
      "\n",
      "   dividends  splits  Rótulos  rótulos  \n",
      "0        0.0     0.0        0      5.0  \n",
      "1        0.0     0.0        0      5.0  \n",
      "2        0.0     0.0        0      5.0  \n",
      "3        0.0     0.0        0      3.0  \n",
      "4        0.0     0.0        0      2.0  \n",
      "     symbol  open  high   low  close  volume  adjclose  dividends  Rótulos  \\\n",
      "0  EALT3.SA  9.23  9.23  9.23   9.23     0.0  9.060586        0.0        0   \n",
      "1  EALT3.SA  9.23  9.23  9.23   9.23     0.0  9.060586        0.0        0   \n",
      "2  EALT3.SA  8.90  8.90  8.30   8.60   600.0  8.442150        0.0        0   \n",
      "3  EALT3.SA  8.60  8.60  8.60   8.60     0.0  8.442150        0.0        0   \n",
      "4  EALT3.SA  8.60  8.60  8.60   8.60     0.0  8.442150        0.0        0   \n",
      "\n",
      "   rótulos  \n",
      "0      NaN  \n",
      "1      NaN  \n",
      "2      NaN  \n",
      "3      NaN  \n",
      "4      NaN  \n",
      "     symbol  open  high   low  close  volume  adjclose  dividends  Rótulos  \\\n",
      "0  EALT4.SA  6.90  7.09  6.84   6.99   24800  6.848370        0.0        0   \n",
      "1  EALT4.SA  6.94  7.00  6.72   6.72   25500  6.583841        0.0        0   \n",
      "2  EALT4.SA  6.82  6.84  6.75   6.80    5000  6.662220        0.0        0   \n",
      "3  EALT4.SA  6.75  6.88  6.70   6.88   16600  6.740599        0.0        0   \n",
      "4  EALT4.SA  6.77  6.87  6.74   6.79   23200  6.652422        0.0        0   \n",
      "\n",
      "   rótulos  \n",
      "0      NaN  \n",
      "1      NaN  \n",
      "2      NaN  \n",
      "3      NaN  \n",
      "4      NaN  \n",
      "     symbol  open  high   low  close   volume  adjclose  dividends  Rótulos  \\\n",
      "0  ECOR3.SA  6.17  6.39  5.96   6.38  5762500  6.367899        0.0        0   \n",
      "1  ECOR3.SA  6.40  6.45  6.22   6.25  2955100  6.238145        0.0        0   \n",
      "2  ECOR3.SA  6.30  6.40  6.16   6.28  4614600  6.268089        0.0        0   \n",
      "3  ECOR3.SA  6.20  6.35  6.14   6.24  2583400  6.228164        0.0        0   \n",
      "4  ECOR3.SA  6.25  6.37  6.16   6.16  2477100  6.148316        0.0        0   \n",
      "\n",
      "   rótulos  \n",
      "0      NaN  \n",
      "1      NaN  \n",
      "2      NaN  \n",
      "3      NaN  \n",
      "4      NaN  \n",
      "     symbol   open   high    low  close  volume  adjclose  Rótulos\n",
      "0  ECPR3.SA  90.25  90.25  90.25  90.25     0.0     90.25        0\n",
      "1  ECPR3.SA  90.25  90.25  90.25  90.25     0.0     90.25        0\n",
      "2  ECPR3.SA  90.25  90.25  90.25  90.25     0.0     90.25        0\n",
      "3  ECPR3.SA  90.25  90.25  90.25  90.25     0.0     90.25        0\n",
      "4  ECPR3.SA  90.25  90.25  90.25  90.25     0.0     90.25        0\n",
      "     symbol       open       high        low      close  volume   adjclose  \\\n",
      "0  ECPR4.SA  90.739998  90.739998  90.739998  90.739998     0.0  90.739998   \n",
      "1  ECPR4.SA  90.739998  90.739998  90.739998  90.739998     0.0  90.739998   \n",
      "2  ECPR4.SA  90.739998  90.739998  90.739998  90.739998     0.0  90.739998   \n",
      "3  ECPR4.SA  90.739998  90.739998  90.739998  90.739998     0.0  90.739998   \n",
      "4  ECPR4.SA  90.739998  90.739998  90.739998  90.739998     0.0  90.739998   \n",
      "\n",
      "   Rótulos  \n",
      "0        0  \n",
      "1        0  \n",
      "2        0  \n",
      "3        0  \n",
      "4        0  \n",
      "     symbol       open       high        low      close   volume   adjclose  \\\n",
      "0  EGIE3.SA  41.980000  42.080002  41.490002  42.000000  3098000  38.791233   \n",
      "1  EGIE3.SA  42.000000  42.279999  41.820000  41.950001  1342000  38.745056   \n",
      "2  EGIE3.SA  41.779999  42.240002  41.580002  41.740002  1530000  38.551098   \n",
      "3  EGIE3.SA  41.400002  42.000000  41.270000  41.509998  1234200  38.338669   \n",
      "4  EGIE3.SA  41.540001  41.849998  41.000000  41.119999  1532000  37.978462   \n",
      "\n",
      "   dividends  Rótulos  rótulos  \n",
      "0        0.0        0      NaN  \n",
      "1        0.0        0      NaN  \n",
      "2        0.0        0      NaN  \n",
      "3        0.0        0      NaN  \n",
      "4        0.0        0      4.0  \n",
      "     symbol  open  high   low  close  volume  adjclose  dividends  Rótulos  \\\n",
      "0  EKTR3.SA  30.0  30.0  30.0   30.0     0.0  26.20875        0.0        0   \n",
      "1  EKTR3.SA  30.0  30.0  30.0   30.0     0.0  26.20875        0.0        0   \n",
      "2  EKTR3.SA  30.0  30.0  30.0   30.0     0.0  26.20875        0.0        0   \n",
      "3  EKTR3.SA  30.0  30.0  30.0   30.0     0.0  26.20875        0.0        0   \n",
      "4  EKTR3.SA  30.0  30.0  30.0   30.0     0.0  26.20875        0.0        0   \n",
      "\n",
      "   rótulos  \n",
      "0      5.0  \n",
      "1      5.0  \n",
      "2      5.0  \n",
      "3      5.0  \n",
      "4      5.0  \n",
      "     symbol   open   high    low  close  volume   adjclose  dividends  \\\n",
      "0  EKTR4.SA  27.08  27.08  27.08  27.08     0.0  23.435198        0.0   \n",
      "1  EKTR4.SA  28.09  28.09  28.09  28.09   100.0  24.309258        0.0   \n",
      "2  EKTR4.SA  29.98  29.98  29.00  29.00   200.0  25.096777        0.0   \n",
      "3  EKTR4.SA  27.07  27.07  27.07  27.07   100.0  23.426544        0.0   \n",
      "4  EKTR4.SA  27.07  27.07  27.07  27.07     0.0  23.426544        0.0   \n",
      "\n",
      "   Rótulos  rótulos  \n",
      "0        0      2.0  \n",
      "1        0      5.0  \n",
      "2        0      NaN  \n",
      "3        0      5.0  \n",
      "4        0      5.0  \n",
      "     symbol       open       high        low      close    volume   adjclose  \\\n",
      "0  ELET3.SA  42.070000  43.419998  41.560001  42.889999  53477800  42.612446   \n",
      "1  ELET3.SA  43.230000  45.060001  42.619999  43.650002  26038000  43.367531   \n",
      "2  ELET3.SA  43.820000  44.650002  43.650002  44.000000  25250100  43.715263   \n",
      "3  ELET3.SA  43.389999  44.840000  43.299999  44.480000  18334100  44.192158   \n",
      "4  ELET3.SA  44.560001  44.650002  43.529999  43.830002  30415700  43.546368   \n",
      "\n",
      "   dividends  Rótulos  rótulos  \n",
      "0        0.0        0      NaN  \n",
      "1        0.0        0      NaN  \n",
      "2        0.0        0      NaN  \n",
      "3        0.0        0      NaN  \n",
      "4        0.0        0      NaN  \n",
      "     symbol  open  high   low  close  volume   adjclose  dividends  Rótulos  \\\n",
      "0  ELET5.SA  64.5  64.5  64.5   64.5     0.0  62.632286        0.0        0   \n",
      "1  ELET5.SA  64.5  64.5  64.5   64.5     0.0  62.632286        0.0        0   \n",
      "2  ELET5.SA  64.5  64.5  64.5   64.5     0.0  62.632286        0.0        0   \n",
      "3  ELET5.SA  64.5  64.5  64.5   64.5     0.0  62.632286        0.0        0   \n",
      "4  ELET5.SA  64.5  64.5  64.5   64.5     0.0  62.632286        0.0        0   \n",
      "\n",
      "   rótulos  \n",
      "0      NaN  \n",
      "1      NaN  \n",
      "2      NaN  \n",
      "3      NaN  \n",
      "4      NaN  \n",
      "     symbol       open       high        low      close   volume   adjclose  \\\n",
      "0  ELET6.SA  40.980000  42.570000  40.599998  42.400002  6806400  40.747318   \n",
      "1  ELET6.SA  42.470001  44.560001  42.380001  43.139999  6856700  41.458473   \n",
      "2  ELET6.SA  43.360001  44.240002  43.230000  43.500000  4858800  41.804440   \n",
      "3  ELET6.SA  43.099998  44.779999  42.900002  44.400002  8146800  42.669361   \n",
      "4  ELET6.SA  44.500000  44.610001  43.549999  43.630001  4403700  41.929375   \n",
      "\n",
      "   dividends  Rótulos  rótulos  \n",
      "0        0.0        0      NaN  \n",
      "1        0.0        0      5.0  \n",
      "2        0.0        0      5.0  \n",
      "3        0.0        0      NaN  \n",
      "4        0.0        0      5.0  \n",
      "     symbol   open   high    low  close  volume  adjclose  Rótulos  rótulos\n",
      "0  ELMD3.SA  11.08  11.08  10.50  10.70  162800     10.70        0      NaN\n",
      "1  ELMD3.SA  10.64  10.76  10.37  10.57  172700     10.57        0      NaN\n",
      "2  ELMD3.SA  10.70  10.70   9.96  10.07  272000     10.07        0      NaN\n",
      "3  ELMD3.SA   9.97  10.26   9.80   9.89  138800      9.89        0      NaN\n",
      "4  ELMD3.SA   9.99  10.04   9.47   9.60  201500      9.60        0      5.0\n",
      "     symbol   open   high    low  close  volume   adjclose  dividends  \\\n",
      "0  EMAE3.SA  26.01  26.01  26.01  26.01     0.0  22.981771        0.0   \n",
      "1  EMAE3.SA  26.01  26.01  26.01  26.01     0.0  22.981771        0.0   \n",
      "2  EMAE3.SA  26.01  26.01  26.01  26.01     0.0  22.981771        0.0   \n",
      "3  EMAE3.SA  26.01  26.01  26.01  26.01     0.0  22.981771        0.0   \n",
      "4  EMAE3.SA  26.01  26.01  26.01  26.01     0.0  22.981771        0.0   \n",
      "\n",
      "   Rótulos  rótulos  \n",
      "0        0      5.0  \n",
      "1        0      5.0  \n",
      "2        0      5.0  \n",
      "3        0      5.0  \n",
      "4        0      5.0  \n",
      "     symbol       open   high        low      close  volume   adjclose  \\\n",
      "0  EMAE4.SA  30.540001  31.83  29.799999  30.000000   16000  28.092457   \n",
      "1  EMAE4.SA  30.500000  31.50  29.850000  29.950001    6500  28.045637   \n",
      "2  EMAE4.SA  31.490000  33.50  30.510000  33.490002    4300  31.360550   \n",
      "3  EMAE4.SA  32.580002  35.50  32.570000  35.000000    6700  32.774536   \n",
      "4  EMAE4.SA  34.889999  35.00  34.500000  35.000000    5300  32.774536   \n",
      "\n",
      "   dividends  Rótulos  rótulos  \n",
      "0        0.0        0      5.0  \n",
      "1        0.0        0      5.0  \n",
      "2        0.0        0      5.0  \n",
      "3        0.0        0      NaN  \n",
      "4        0.0        0      NaN  \n",
      "     symbol   open   high    low  close    volume  adjclose  Rótulos  rótulos\n",
      "0  EMBR3.SA  11.34  11.58  11.03  11.58  13772000     11.58        0      NaN\n",
      "1  EMBR3.SA  11.59  11.84  11.32  11.32   3119600     11.32        0      5.0\n",
      "2  EMBR3.SA  11.48  11.90  11.48  11.67   9462700     11.67        0      NaN\n",
      "3  EMBR3.SA  11.38  11.91  11.38  11.85   5455000     11.85        0      NaN\n",
      "4  EMBR3.SA  11.90  12.24  11.75  12.16   9868500     12.16        0      NaN\n",
      "     symbol   open       high        low      close   volume   adjclose  \\\n",
      "0  ENAT3.SA  19.26  19.500000  18.040001  18.260000  2520500  17.796101   \n",
      "1  ENAT3.SA  18.07  18.150000  17.190001  18.120001  1478500  17.659658   \n",
      "2  ENAT3.SA  18.15  18.530001  17.770000  18.010000  1153400  17.552450   \n",
      "3  ENAT3.SA  17.48  17.670000  17.059999  17.290001  1576200  16.850744   \n",
      "4  ENAT3.SA  17.41  18.160000  17.209999  17.410000  2333400  16.967695   \n",
      "\n",
      "   dividends  Rótulos  rótulos  \n",
      "0        0.0        0      NaN  \n",
      "1        0.0        0      NaN  \n",
      "2        0.0        0      NaN  \n",
      "3        0.0        0      NaN  \n",
      "4        0.0        0      NaN  \n",
      "     symbol       open       high        low      close   volume   adjclose  \\\n",
      "0  ENBR3.SA  20.620001  20.790001  20.440001  20.750000  3630600  19.346926   \n",
      "1  ENBR3.SA  20.709999  20.940001  20.660000  20.840000  1578500  19.430840   \n",
      "2  ENBR3.SA  20.870001  20.959999  20.490000  20.809999  2494000  19.402866   \n",
      "3  ENBR3.SA  20.690001  20.900000  20.510000  20.770000  1637500  19.365572   \n",
      "4  ENBR3.SA  20.799999  20.940001  20.709999  20.730000  6187300  19.328276   \n",
      "\n",
      "   dividends  Rótulos  rótulos  \n",
      "0        0.0        0      NaN  \n",
      "1        0.0        0      NaN  \n",
      "2        0.0        0      NaN  \n",
      "3        0.0        0      NaN  \n",
      "4        0.0        0      NaN  \n",
      "     symbol   open   high    low  close    volume  adjclose  Rótulos  rótulos\n",
      "0  ENEV3.SA  13.94  14.79  13.76  14.54  25103700     14.54        0      NaN\n",
      "1  ENEV3.SA  14.54  14.97  14.27  14.68   5812600     14.68        0      NaN\n",
      "2  ENEV3.SA  14.88  14.94  14.55  14.85   4930300     14.85        0      NaN\n",
      "3  ENEV3.SA  14.75  15.19  14.67  14.87   6599900     14.87        0      NaN\n",
      "4  ENEV3.SA  14.84  14.92  14.18  14.37   6499000     14.37        0      NaN\n",
      "     symbol   open   high    low  close  volume   adjclose  dividends  \\\n",
      "0  ENGI3.SA  13.61  14.38  13.33  13.93    6100  13.494504        0.0   \n",
      "1  ENGI3.SA  14.42  14.42  13.82  13.95    2800  13.513878        0.0   \n",
      "2  ENGI3.SA  14.12  14.40  14.12  14.15    1300  13.707625        0.0   \n",
      "3  ENGI3.SA  14.13  14.13  13.84  13.85    3000  13.417006        0.0   \n",
      "4  ENGI3.SA  13.87  13.90  13.61  13.72    2900  13.291069        0.0   \n",
      "\n",
      "   Rótulos  rótulos  \n",
      "0        0      NaN  \n",
      "1        0      NaN  \n",
      "2        0      NaN  \n",
      "3        0      NaN  \n",
      "4        0      NaN  \n",
      "     symbol  open  high   low  close  volume  adjclose  dividends  Rótulos  \\\n",
      "0  ENGI4.SA  7.31  7.61  7.24   7.59   21300  7.190453        0.0        0   \n",
      "1  ENGI4.SA  7.59  7.61  7.42   7.51    6700  7.114664        0.0        0   \n",
      "2  ENGI4.SA  7.50  7.50  7.26   7.40    7500  7.010454        0.0        0   \n",
      "3  ENGI4.SA  7.40  7.40  7.25   7.34    5700  6.953613        0.0        0   \n",
      "4  ENGI4.SA  7.39  7.39  7.00   7.00   10500  6.631511        0.0        0   \n",
      "\n",
      "   rótulos  \n",
      "0      NaN  \n",
      "1      NaN  \n",
      "2      NaN  \n",
      "3      NaN  \n",
      "4      NaN  \n",
      "     symbol  open  high   low  close   volume  adjclose  Rótulos  rótulos\n",
      "0  ENJU3.SA  1.34  1.41  1.30   1.36  2115500      1.36        0      NaN\n",
      "1  ENJU3.SA  1.38  1.41  1.27   1.27  2901300      1.27        0      NaN\n",
      "2  ENJU3.SA  1.29  1.32  1.21   1.23  6080100      1.23        0      NaN\n",
      "3  ENJU3.SA  1.22  1.29  1.19   1.19  3475400      1.19        0      NaN\n",
      "4  ENJU3.SA  1.21  1.25  1.17   1.19  4979500      1.19        0      NaN\n",
      "     symbol       open       high        low      close  volume   adjclose  \\\n",
      "0  ENMT3.SA  82.320000  83.000000  82.000000  82.989998  1300.0  78.643394   \n",
      "1  ENMT3.SA  82.160004  82.989998  82.000000  82.980003  3500.0  78.633926   \n",
      "2  ENMT3.SA  82.199997  83.029999  82.000000  82.989998  5000.0  78.643394   \n",
      "3  ENMT3.SA  83.099998  83.099998  82.000000  82.989998  4700.0  78.643394   \n",
      "4  ENMT3.SA  82.790001  82.989998  81.010002  82.989998  7300.0  78.643394   \n",
      "\n",
      "   dividends  Rótulos  rótulos  \n",
      "0        0.0        0      NaN  \n",
      "1        0.0        0      NaN  \n",
      "2        0.0        0      NaN  \n",
      "3        0.0        0      NaN  \n",
      "4        0.0        0      NaN  \n",
      "     symbol       open       high   low      close  volume   adjclose  \\\n",
      "0  ENMT4.SA  82.970001  82.989998  82.0  82.940002  2100.0  78.720970   \n",
      "1  ENMT4.SA  82.139999  82.989998  82.0  82.989998  3000.0  78.768425   \n",
      "2  ENMT4.SA  82.129997  82.989998  82.0  82.989998  5100.0  78.768425   \n",
      "3  ENMT4.SA  82.099998  82.690002  82.0  82.690002  4000.0  78.483688   \n",
      "4  ENMT4.SA  82.419998  82.730003  82.0  82.639999  4100.0  78.436218   \n",
      "\n",
      "   dividends  Rótulos  rótulos  \n",
      "0        0.0        0      NaN  \n",
      "1        0.0        0      NaN  \n",
      "2        0.0        0      NaN  \n",
      "3        0.0        0      NaN  \n",
      "4        0.0        0      NaN  \n",
      "     symbol   open   high    low  close  volume   adjclose  dividends  \\\n",
      "0  EPAR3.SA  12.56  12.56  12.56  12.56   400.0  11.366146        0.0   \n",
      "1  EPAR3.SA  12.30  12.30  12.30  12.30   100.0  11.130859        0.0   \n",
      "2  EPAR3.SA  12.54  12.54  12.54  12.54   100.0  11.348046        0.0   \n",
      "3  EPAR3.SA  12.11  12.15  12.11  12.15   400.0  10.995116        0.0   \n",
      "4  EPAR3.SA  12.15  12.15  12.15  12.15     0.0  10.995116        0.0   \n",
      "\n",
      "   Rótulos  rótulos  \n",
      "0        0      5.0  \n",
      "1        0      5.0  \n",
      "2        0      4.0  \n",
      "3        0      3.0  \n",
      "4        0      2.0  \n",
      "      symbol       open       high        low      close  volume   adjclose  \\\n",
      "0  EQMA3B.SA  38.099998  38.099998  38.099998  38.099998     0.0  33.478302   \n",
      "1  EQMA3B.SA  38.099998  38.099998  38.099998  38.099998   100.0  33.478302   \n",
      "2  EQMA3B.SA  38.099998  38.099998  38.099998  38.099998   900.0  33.478302   \n",
      "3  EQMA3B.SA  38.099998  38.099998  38.099998  38.099998     0.0  33.478302   \n",
      "4  EQMA3B.SA  38.099998  38.099998  38.099998  38.099998     0.0  33.478302   \n",
      "\n",
      "   dividends  Rótulos  rótulos  \n",
      "0        0.0        0      5.0  \n",
      "1        0.0        0      5.0  \n",
      "2        0.0        0      5.0  \n",
      "3        0.0        0      5.0  \n",
      "4        0.0        0      5.0  \n",
      "     symbol  open  high   low  close  volume  adjclose  dividends  Rótulos  \\\n",
      "0  EQPA3.SA  4.41  5.00  4.41   4.76    2400  4.245488        0.0        0   \n",
      "1  EQPA3.SA  4.80  4.97  4.80   4.96    4800  4.423870        0.0        0   \n",
      "2  EQPA3.SA  4.96  4.96  4.95   4.95     400  4.414950        0.0        0   \n",
      "3  EQPA3.SA  4.95  4.95  4.65   4.80    4500  4.281164        0.0        0   \n",
      "4  EQPA3.SA  4.90  4.90  4.79   4.79    1600  4.272245        0.0        0   \n",
      "\n",
      "   rótulos  \n",
      "0      5.0  \n",
      "1      4.0  \n",
      "2      5.0  \n",
      "3      5.0  \n",
      "4      5.0  \n",
      "     symbol  open  high  low  close  volume  adjclose  dividends  Rótulos  \\\n",
      "0  EQPA5.SA   6.7   6.7  6.7    6.7     0.0  6.107221        0.0        0   \n",
      "1  EQPA5.SA   6.7   6.7  6.7    6.7     0.0  6.107221        0.0        0   \n",
      "2  EQPA5.SA   6.7   6.7  6.7    6.7     0.0  6.107221        0.0        0   \n",
      "3  EQPA5.SA   6.7   6.7  6.7    6.7     0.0  6.107221        0.0        0   \n",
      "4  EQPA5.SA   6.7   6.7  6.7    6.7     0.0  6.107221        0.0        0   \n",
      "\n",
      "   rótulos  \n",
      "0      NaN  \n",
      "1      NaN  \n",
      "2      NaN  \n",
      "3      NaN  \n",
      "4      NaN  \n",
      "     symbol   open   high    low  close  volume  adjclose  dividends  Rótulos\n",
      "0  EQPA6.SA  10.69  10.69  10.69  10.69     0.0   9.92906        0.0        0\n",
      "1  EQPA6.SA  10.69  10.69  10.69  10.69     0.0   9.92906        0.0        0\n",
      "2  EQPA6.SA  10.69  10.69  10.69  10.69     0.0   9.92906        0.0        0\n",
      "3  EQPA6.SA  10.69  10.69  10.69  10.69     0.0   9.92906        0.0        0\n",
      "4  EQPA6.SA  10.69  10.69  10.69  10.69     0.0   9.92906        0.0        0\n",
      "     symbol  open  high   low  close  volume  adjclose  dividends  Rótulos  \\\n",
      "0  EQPA7.SA  6.62  6.62  6.62   6.62     0.0  6.029324        0.0        0   \n",
      "1  EQPA7.SA  6.62  6.62  6.62   6.62     0.0  6.029324        0.0        0   \n",
      "2  EQPA7.SA  6.62  6.62  6.62   6.62     0.0  6.029324        0.0        0   \n",
      "3  EQPA7.SA  6.62  6.62  6.62   6.62     0.0  6.029324        0.0        0   \n",
      "4  EQPA7.SA  6.62  6.62  6.62   6.62     0.0  6.029324        0.0        0   \n",
      "\n",
      "   rótulos  \n",
      "0      NaN  \n",
      "1      NaN  \n",
      "2      NaN  \n",
      "3      NaN  \n",
      "4      NaN  \n",
      "     symbol       open       high        low      close    volume   adjclose  \\\n",
      "0  EQTL3.SA  24.230000  24.629999  24.010000  24.160000  17427900  23.850344   \n",
      "1  EQTL3.SA  24.330000  24.330000  23.570000  24.110001   6444800  23.800985   \n",
      "2  EQTL3.SA  24.160000  24.290001  23.730000  23.790001   7299200  23.485086   \n",
      "3  EQTL3.SA  23.700001  23.920000  23.450001  23.510000   6206700  23.208675   \n",
      "4  EQTL3.SA  23.520000  23.570000  22.980000  23.040001   7904600  22.744699   \n",
      "\n",
      "   dividends  Rótulos  rótulos  \n",
      "0        0.0        0      NaN  \n",
      "1        0.0        0      NaN  \n",
      "2        0.0        0      NaN  \n",
      "3        0.0        0      NaN  \n",
      "4        0.0        0      NaN  \n",
      "     symbol  open  high   low  close    volume  adjclose  Rótulos  rótulos\n",
      "0  ESPA3.SA  2.38  2.53  2.26   2.49   3848900      2.49        0      5.0\n",
      "1  ESPA3.SA  2.52  2.63  2.37   2.54   3061100      2.54        0      5.0\n",
      "2  ESPA3.SA  2.56  2.63  2.42   2.46   3606600      2.46        0      5.0\n",
      "3  ESPA3.SA  2.38  2.53  2.32   2.37   4722100      2.37        0      4.0\n",
      "4  ESPA3.SA  2.43  2.85  2.42   2.60  16298100      2.60        0      1.0\n",
      "     symbol  open  high  low  close  volume  adjclose  splits  Rótulos  \\\n",
      "0  ESTR3.SA   4.0   4.0  4.0    4.0       0       4.0     0.0        0   \n",
      "1  ESTR3.SA   4.0   4.0  4.0    4.0       0       4.0     0.0        0   \n",
      "2  ESTR3.SA   4.0   4.0  4.0    4.0       0       4.0     0.0        0   \n",
      "3  ESTR3.SA   4.0   4.0  4.0    4.0       0       4.0     0.0        0   \n",
      "4  ESTR3.SA   4.0   4.0  4.0    4.0       0       4.0     0.0        0   \n",
      "\n",
      "   rótulos  \n",
      "0      NaN  \n",
      "1      NaN  \n",
      "2      NaN  \n",
      "3      NaN  \n",
      "4      NaN  \n",
      "     symbol  open  high  low  close  volume  adjclose  splits  Rótulos  \\\n",
      "0  ESTR4.SA   5.3   5.3  5.3    5.3       0       5.3     0.0        0   \n",
      "1  ESTR4.SA   5.3   5.3  5.3    5.3       0       5.3     0.0        0   \n",
      "2  ESTR4.SA   5.3   5.3  5.3    5.3       0       5.3     0.0        0   \n",
      "3  ESTR4.SA   5.3   5.3  5.3    5.3       0       5.3     0.0        0   \n",
      "4  ESTR4.SA   5.3   5.3  5.3    5.3       0       5.3     0.0        0   \n",
      "\n",
      "   rótulos  \n",
      "0      NaN  \n",
      "1      NaN  \n",
      "2      NaN  \n",
      "3      NaN  \n",
      "4      NaN  \n",
      "     symbol   open   high    low  close   volume  adjclose  dividends  \\\n",
      "0  ETER3.SA   9.94  10.44   9.94  10.28  1758000  9.543723        0.0   \n",
      "1  ETER3.SA  10.29  10.77  10.04  10.60   769100  9.840804        0.0   \n",
      "2  ETER3.SA  10.90  10.90  10.03  10.16  1327800  9.432318        0.0   \n",
      "3  ETER3.SA  10.01  10.34   9.92  10.00  1827700  9.283777        0.0   \n",
      "4  ETER3.SA  10.08  10.38  10.06  10.12  1417800  9.395182        0.0   \n",
      "\n",
      "   Rótulos  rótulos  \n",
      "0        0      5.0  \n",
      "1        0      1.0  \n",
      "2        0      5.0  \n",
      "3        0      5.0  \n",
      "4        0      3.0  \n",
      "     symbol   open   high    low  close  volume   adjclose  dividends  \\\n",
      "0  EUCA3.SA  14.39  14.39  14.39  14.39       0  13.542785        0.0   \n",
      "1  EUCA3.SA  14.39  14.39  14.39  14.39       0  13.542785        0.0   \n",
      "2  EUCA3.SA  14.39  14.39  13.74  14.22     500  13.382793        0.0   \n",
      "3  EUCA3.SA  14.17  14.39  14.10  14.10     600  13.269858        0.0   \n",
      "4  EUCA3.SA  14.10  14.10  14.10  14.10       0  13.269858        0.0   \n",
      "\n",
      "   Rótulos  rótulos  \n",
      "0        0      NaN  \n",
      "1        0      NaN  \n",
      "2        0      NaN  \n",
      "3        0      NaN  \n",
      "4        0      NaN  \n",
      "     symbol  open  high   low  close  volume  adjclose  dividends  Rótulos  \\\n",
      "0  EUCA4.SA  8.59  8.65  8.25   8.25  101000  7.479457        0.0        0   \n",
      "1  EUCA4.SA  8.40  8.74  8.27   8.36   32700  7.579183        0.0        0   \n",
      "2  EUCA4.SA  8.57  8.57  8.31   8.31   16300  7.533854        0.0        0   \n",
      "3  EUCA4.SA  8.35  8.56  8.20   8.21   50100  7.443193        0.0        0   \n",
      "4  EUCA4.SA  8.37  8.44  7.90   8.06   99200  7.307203        0.0        0   \n",
      "\n",
      "   rótulos  \n",
      "0      5.0  \n",
      "1      4.0  \n",
      "2      5.0  \n",
      "3      5.0  \n",
      "4      5.0  \n",
      "     symbol  open  high   low  close   volume  adjclose  dividends  Rótulos  \\\n",
      "0  EVEN3.SA  4.55  4.67  4.40   4.62  1731800  4.491418        0.0        0   \n",
      "1  EVEN3.SA  4.62  4.72  4.56   4.66   627100  4.530305        0.0        0   \n",
      "2  EVEN3.SA  4.68  4.71  4.52   4.53   682000  4.403923        0.0        0   \n",
      "3  EVEN3.SA  4.50  4.69  4.44   4.54  1004300  4.413645        0.0        0   \n",
      "4  EVEN3.SA  4.56  4.63  4.51   4.55  2229300  4.423367        0.0        0   \n",
      "\n",
      "   rótulos  \n",
      "0      NaN  \n",
      "1      NaN  \n",
      "2      NaN  \n",
      "3      NaN  \n",
      "4      NaN  \n",
      "     symbol   open   high    low  close   volume   adjclose  dividends  \\\n",
      "0  EZTC3.SA  15.16  15.69  14.93  15.53  2126300  15.258210        0.0   \n",
      "1  EZTC3.SA  15.45  15.71  15.12  15.35  1238300  15.081361        0.0   \n",
      "2  EZTC3.SA  15.40  15.58  14.94  15.14  2051400  14.875036        0.0   \n",
      "3  EZTC3.SA  14.95  15.56  14.95  15.31  1253300  15.042062        0.0   \n",
      "4  EZTC3.SA  15.33  15.48  14.79  14.85  2431000  14.590112        0.0   \n",
      "\n",
      "   Rótulos  rótulos  \n",
      "0        0      NaN  \n",
      "1        0      NaN  \n",
      "2        0      NaN  \n",
      "3        0      NaN  \n",
      "4        0      NaN  \n",
      "     symbol       open       high        low      close  volume   adjclose  \\\n",
      "0  FESA3.SA  52.950001  52.950001  51.000000  52.000000   600.0  49.780956   \n",
      "1  FESA3.SA  49.299999  49.299999  47.700001  47.700001   700.0  45.664452   \n",
      "2  FESA3.SA  49.900002  49.900002  49.900002  49.900002   200.0  47.770576   \n",
      "3  FESA3.SA  49.900002  49.900002  49.900002  49.900002     0.0  47.770576   \n",
      "4  FESA3.SA  49.900002  49.900002  49.900002  49.900002     0.0  47.770576   \n",
      "\n",
      "   dividends  Rótulos  rótulos  \n",
      "0        0.0        0      NaN  \n",
      "1        0.0        0      5.0  \n",
      "2        0.0        0      NaN  \n",
      "3        0.0        0      NaN  \n",
      "4        0.0        0      NaN  \n",
      "     symbol       open       high        low      close  volume   adjclose  \\\n",
      "0  FESA4.SA  51.009998  51.880001  49.759998  50.810001  332000  48.041103   \n",
      "1  FESA4.SA  50.520000  50.820000  48.459999  48.849998  373000  46.187916   \n",
      "2  FESA4.SA  49.110001  50.419998  48.689999  50.110001  162400  47.379253   \n",
      "3  FESA4.SA  49.639999  50.709999  48.549999  49.630001  199400  46.925407   \n",
      "4  FESA4.SA  49.860001  50.299999  48.220001  48.669998  319000  46.017719   \n",
      "\n",
      "   dividends  Rótulos  rótulos  \n",
      "0        0.0        0      NaN  \n",
      "1        0.0        0      5.0  \n",
      "2        0.0        0      5.0  \n",
      "3        0.0        0      5.0  \n",
      "4        0.0        0      3.0  \n",
      "     symbol       open       high        low      close  volume   adjclose  \\\n",
      "0  FHER3.SA  15.680000  15.950000  15.320000  15.950000  345000  15.950000   \n",
      "1  FHER3.SA  15.870000  16.980000  15.750000  16.309999  582900  16.309999   \n",
      "2  FHER3.SA  16.459999  16.799999  16.299999  16.450001  283200  16.450001   \n",
      "3  FHER3.SA  16.299999  16.510000  16.040001  16.350000  239500  16.350000   \n",
      "4  FHER3.SA  16.379999  16.980000  16.150000  16.450001  433400  16.450001   \n",
      "\n",
      "   Rótulos  rótulos  \n",
      "0        0      NaN  \n",
      "1        0      5.0  \n",
      "2        0      5.0  \n",
      "3        0      4.0  \n",
      "4        0      3.0  \n",
      "     symbol  open  high   low  close  volume   adjclose  dividends  Rótulos  \\\n",
      "0  FIGE3.SA  43.0  43.0  43.0   43.0     0.0   3.488630        0.0        0   \n",
      "1  FIGE3.SA  43.0  43.0  43.0   43.0     0.0   3.488630        0.0        0   \n",
      "2  FIGE3.SA  43.0  43.0  43.0   43.0     0.0   3.488630        0.0        0   \n",
      "3  FIGE3.SA  43.0  43.0  43.0   43.0     0.0   3.488630        0.0        0   \n",
      "4  FIGE3.SA  43.0  43.0  43.0   43.0     0.0  42.860325       39.5        0   \n",
      "\n",
      "   rótulos  \n",
      "0      5.0  \n",
      "1      5.0  \n",
      "2      5.0  \n",
      "3      5.0  \n",
      "4      NaN  \n",
      "     symbol       open       high        low      close  volume   adjclose  \\\n",
      "0  FIGE4.SA  38.009998  38.009998  38.009998  38.009998     0.0  -5.440002   \n",
      "1  FIGE4.SA  38.009998  38.009998  38.009998  38.009998     0.0  -5.440002   \n",
      "2  FIGE4.SA  38.009998  38.009998  38.009998  38.009998     0.0  -5.440002   \n",
      "3  FIGE4.SA  38.009998  38.009998  38.009998  38.009998     0.0  38.009998   \n",
      "4  FIGE4.SA  38.009998  38.009998  38.009998  38.009998     0.0  38.009998   \n",
      "\n",
      "   dividends  Rótulos  rótulos  \n",
      "0       0.00        0      5.0  \n",
      "1       0.00        0      5.0  \n",
      "2       0.00        0      5.0  \n",
      "3      43.45        0      NaN  \n",
      "4       0.00        0      NaN  \n",
      "     symbol  open  high   low  close  volume  adjclose  dividends  Rótulos  \\\n",
      "0  FIQE3.SA  3.46  3.46  3.22   3.35  823900  3.264722        0.0        0   \n",
      "1  FIQE3.SA  3.39  3.39  3.23   3.24  203600  3.157522        0.0        0   \n",
      "2  FIQE3.SA  3.29  3.33  3.10   3.10  229700  3.021086        0.0        0   \n",
      "3  FIQE3.SA  3.08  3.45  3.01   3.29  873000  3.206249        0.0        0   \n",
      "4  FIQE3.SA  3.32  3.32  3.14   3.14  185300  3.060068        0.0        0   \n",
      "\n",
      "   rótulos  \n",
      "0      NaN  \n",
      "1      NaN  \n",
      "2      1.0  \n",
      "3      NaN  \n",
      "4      5.0  \n",
      "     symbol       open       high        low      close   volume   adjclose  \\\n",
      "0  FLRY3.SA  13.814768  13.890207  13.409284  13.409284  4222748  13.146867   \n",
      "1  FLRY3.SA  13.277266  13.484723  13.145247  13.305555  1526425  13.045168   \n",
      "2  FLRY3.SA  13.305555  13.541302  13.050948  13.541302  2804702  13.276301   \n",
      "3  FLRY3.SA  13.428144  13.569592  13.164107  13.390424  1871816  13.128376   \n",
      "4  FLRY3.SA  13.437573  13.654461  13.258406  13.352705  1552830  13.091395   \n",
      "\n",
      "   dividends  splits  Rótulos  rótulos  \n",
      "0        0.0     0.0        0      NaN  \n",
      "1        0.0     0.0        0      NaN  \n",
      "2        0.0     0.0        0      NaN  \n",
      "3        0.0     0.0        0      NaN  \n",
      "4        0.0     0.0        0      5.0  \n",
      "     symbol   open   high   low  close   volume  adjclose  dividends  Rótulos  \\\n",
      "0  FRAS3.SA  10.20  10.23  9.90   9.90  1352100  9.643929        0.0        0   \n",
      "1  FRAS3.SA  10.03  10.13  9.81  10.00   295200  9.741343        0.0        0   \n",
      "2  FRAS3.SA   9.97  10.08  9.72   9.72   239500  9.468586        0.0        0   \n",
      "3  FRAS3.SA   9.69   9.88  9.62   9.69   191800  9.439362        0.0        0   \n",
      "4  FRAS3.SA   9.77   9.82  9.69   9.69   106600  9.439362        0.0        0   \n",
      "\n",
      "   rótulos  \n",
      "0      NaN  \n",
      "1      NaN  \n",
      "2      NaN  \n",
      "3      NaN  \n",
      "4      NaN  \n",
      "     symbol  open  high   low  close  volume  adjclose  Rótulos  rótulos\n",
      "0  FRIO3.SA  41.5  41.5  41.5   41.5     0.0      41.5        0      NaN\n",
      "1  FRIO3.SA  41.5  41.5  41.5   41.5     0.0      41.5        0      NaN\n",
      "2  FRIO3.SA  41.5  41.5  41.5   41.5     0.0      41.5        0      NaN\n",
      "3  FRIO3.SA  41.5  41.5  41.5   41.5     0.0      41.5        0      NaN\n",
      "4  FRIO3.SA  41.5  41.5  41.5   41.5     0.0      41.5        0      NaN\n",
      "     symbol  open  high   low  close  volume  adjclose  Rótulos  rótulos\n",
      "0  FRTA3.SA  2.70  2.70  2.70   2.70    5300      2.70        0      2.0\n",
      "1  FRTA3.SA  2.81  2.81  2.81   2.81     400      2.81        0      1.0\n",
      "2  FRTA3.SA  2.97  3.20  2.87   2.87    1300      2.87        0      NaN\n",
      "3  FRTA3.SA  2.81  2.81  2.81   2.81     200      2.81        0      NaN\n",
      "4  FRTA3.SA  2.81  2.81  2.70   2.70     200      2.70        0      NaN\n",
      "     symbol       open       high        low      close  volume   adjclose  \\\n",
      "0  GEPA3.SA  26.980000  26.980000  24.600000  24.900000  3200.0  20.975159   \n",
      "1  GEPA3.SA  25.889999  25.889999  25.889999  25.889999   200.0  21.809111   \n",
      "2  GEPA3.SA  25.889999  25.889999  25.889999  25.889999     0.0  21.809111   \n",
      "3  GEPA3.SA  25.889999  25.889999  25.889999  25.889999     0.0  21.809111   \n",
      "4  GEPA3.SA  24.000000  24.379999  22.500000  24.379999  1700.0  20.537125   \n",
      "\n",
      "   dividends  Rótulos  rótulos  \n",
      "0        0.0        0      5.0  \n",
      "1        0.0        0      4.0  \n",
      "2        0.0        0      3.0  \n",
      "3        0.0        0      2.0  \n",
      "4        0.0        0      2.0  \n",
      "     symbol       open       high        low      close  volume   adjclose  \\\n",
      "0  GEPA4.SA  26.000000  26.000000  25.500000  25.990000  2000.0  22.160622   \n",
      "1  GEPA4.SA  25.270000  26.000000  25.270000  26.000000   600.0  22.169149   \n",
      "2  GEPA4.SA  25.990000  25.990000  25.309999  25.990000   500.0  22.160622   \n",
      "3  GEPA4.SA  25.969999  25.969999  25.969999  25.969999   400.0  22.143572   \n",
      "4  GEPA4.SA  25.750000  25.750000  25.250000  25.250000   900.0  21.529655   \n",
      "\n",
      "   dividends  Rótulos  rótulos  \n",
      "0        0.0        0      5.0  \n",
      "1        0.0        0      5.0  \n",
      "2        0.0        0      5.0  \n",
      "3        0.0        0      5.0  \n",
      "4        0.0        0      5.0  \n",
      "     symbol   open   high    low  close  volume  adjclose  splits  Rótulos  \\\n",
      "0  GFSA3.SA  11.25  11.61  10.80  11.43  506344     11.43     0.0        0   \n",
      "1  GFSA3.SA  11.34  11.61  11.07  11.43  289988     11.43     0.0        0   \n",
      "2  GFSA3.SA  11.61  11.70  11.25  11.34  259811     11.34     0.0        0   \n",
      "3  GFSA3.SA  11.07  11.52  10.98  11.25  304211     11.25     0.0        0   \n",
      "4  GFSA3.SA  11.25  11.61  11.16  11.34  390733     11.34     0.0        0   \n",
      "\n",
      "   rótulos  \n",
      "0      NaN  \n",
      "1      NaN  \n",
      "2      NaN  \n",
      "3      NaN  \n",
      "4      NaN  \n",
      "     symbol       open       high        low      close  volume   adjclose  \\\n",
      "0  GGBR3.SA  19.114285  19.114285  17.799999  18.000000  141750  15.499066   \n",
      "1  GGBR3.SA  17.876190  18.095238  17.209522  18.095238   90825  15.581072   \n",
      "2  GGBR3.SA  18.104761  18.285713  17.799999  17.933332  108465  15.441663   \n",
      "3  GGBR3.SA  17.790476  17.790476  17.123810  17.447618   90300  15.023432   \n",
      "4  GGBR3.SA  17.485714  18.009523  16.666666  17.057142  123375  14.687211   \n",
      "\n",
      "   dividends  splits  Rótulos  rótulos  \n",
      "0        0.0     0.0        0      5.0  \n",
      "1        0.0     0.0        0      5.0  \n",
      "2        0.0     0.0        0      5.0  \n",
      "3        0.0     0.0        0      5.0  \n",
      "4        0.0     0.0        0      5.0  \n",
      "     symbol       open       high        low      close    volume   adjclose  \\\n",
      "0  GGBR4.SA  23.438095  23.514284  22.104761  22.247620  40234740  19.523483   \n",
      "1  GGBR4.SA  22.019047  22.409523  21.247620  22.285713  18961635  19.556913   \n",
      "2  GGBR4.SA  22.552380  22.904760  22.371428  22.723808  19714905  19.941368   \n",
      "3  GGBR4.SA  22.180952  22.180952  21.333332  21.828571  22230705  19.155745   \n",
      "4  GGBR4.SA  22.123810  22.561905  20.847618  21.209522  28692090  18.612497   \n",
      "\n",
      "   dividends  splits  Rótulos  rótulos  \n",
      "0        0.0     0.0        0      5.0  \n",
      "1        0.0     0.0        0      5.0  \n",
      "2        0.0     0.0        0      5.0  \n",
      "3        0.0     0.0        0      5.0  \n",
      "4        0.0     0.0        0      5.0  \n",
      "     symbol   open   high    low  close   volume   adjclose  dividends  \\\n",
      "0  GGPS3.SA  11.80  11.81  11.34  11.45  4276600  11.208263        0.0   \n",
      "1  GGPS3.SA  11.45  11.69  11.27  11.28   818000  11.041853        0.0   \n",
      "2  GGPS3.SA  11.38  11.61  11.21  11.46  2258900  11.218053        0.0   \n",
      "3  GGPS3.SA  11.33  11.65  11.19  11.19  2105400  10.953753        0.0   \n",
      "4  GGPS3.SA  11.33  11.60  11.22  11.41  1059400  11.169108        0.0   \n",
      "\n",
      "   Rótulos  rótulos  \n",
      "0        0      NaN  \n",
      "1        0      NaN  \n",
      "2        0      NaN  \n",
      "3        0      NaN  \n",
      "4        0      NaN  \n",
      "     symbol  open  high   low  close    volume  adjclose  Rótulos  rótulos\n",
      "0  GMAT3.SA  3.66  3.69  3.49   3.60  11306100      3.60        0      NaN\n",
      "1  GMAT3.SA  3.60  3.65  3.50   3.50   2392000      3.50        0      NaN\n",
      "2  GMAT3.SA  3.52  3.54  3.40   3.40   4454300      3.40        0      NaN\n",
      "3  GMAT3.SA  3.38  3.43  3.27   3.28   7155600      3.28        0      NaN\n",
      "4  GMAT3.SA  3.31  3.39  3.27   3.31   6160500      3.31        0      NaN\n",
      "     symbol   open   high   low  close  volume  adjclose  dividends  Rótulos  \\\n",
      "0  GOAU3.SA  10.00  10.04  9.12   9.29  501400  8.272532        0.0        0   \n",
      "1  GOAU3.SA   9.28   9.28  8.92   9.25  120000  8.236911        0.0        0   \n",
      "2  GOAU3.SA   9.40   9.49  9.18   9.39  105800  8.361579        0.0        0   \n",
      "3  GOAU3.SA   9.25   9.25  8.91   9.14  242300  8.138960        0.0        0   \n",
      "4  GOAU3.SA   9.19   9.34  8.66   8.74  245700  7.782769        0.0        0   \n",
      "\n",
      "   rótulos  \n",
      "0      5.0  \n",
      "1      5.0  \n",
      "2      5.0  \n",
      "3      5.0  \n",
      "4      5.0  \n",
      "     symbol   open   high   low  close    volume  adjclose  dividends  \\\n",
      "0  GOAU4.SA  10.53  10.55  9.76   9.89  21947500  8.873415        0.0   \n",
      "1  GOAU4.SA   9.82   9.90  9.52   9.85  11876200  8.837526        0.0   \n",
      "2  GOAU4.SA   9.99  10.12  9.84  10.00   9467100  8.972107        0.0   \n",
      "3  GOAU4.SA   9.80   9.80  9.48   9.66  12115200  8.667055        0.0   \n",
      "4  GOAU4.SA   9.79   9.91  9.23   9.40  22456600  8.433781        0.0   \n",
      "\n",
      "   Rótulos  rótulos  \n",
      "0        0      5.0  \n",
      "1        0      5.0  \n",
      "2        0      5.0  \n",
      "3        0      5.0  \n",
      "4        0      5.0  \n",
      "     symbol   open   high   low  close    volume  adjclose  Rótulos  rótulos\n",
      "0  GOLL4.SA   9.80  10.33  9.46  10.22  12874800     10.22        0      NaN\n",
      "1  GOLL4.SA  10.40  10.53  9.78  10.04   7968800     10.04        0      NaN\n",
      "2  GOLL4.SA  10.34  10.37  9.80   9.90   9156200      9.90        0      NaN\n",
      "3  GOLL4.SA   9.64  10.26  9.64   9.81   9439500      9.81        0      NaN\n",
      "4  GOLL4.SA   9.92  10.06  9.74   9.84   7608800      9.84        0      NaN\n",
      "     symbol  open  high   low  close  volume   adjclose  dividends  Rótulos  \\\n",
      "0  GPAR3.SA  29.5  29.5  29.5   29.5     0.0  18.038357        0.0        0   \n",
      "1  GPAR3.SA  29.5  29.5  29.5   29.5     0.0  18.038357        0.0        0   \n",
      "2  GPAR3.SA  29.5  29.5  29.5   29.5     0.0  18.038357        0.0        0   \n",
      "3  GPAR3.SA  29.5  29.5  29.5   29.5     0.0  18.038357        0.0        0   \n",
      "4  GPAR3.SA  29.5  29.5  29.5   29.5     0.0  18.038357        0.0        0   \n",
      "\n",
      "   rótulos  \n",
      "0      5.0  \n",
      "1      5.0  \n",
      "2      5.0  \n",
      "3      5.0  \n",
      "4      5.0  \n",
      "     symbol  open  high   low  close   volume  adjclose  dividends  Rótulos  \\\n",
      "0  GRND3.SA  7.67  7.74  7.41   7.41  4602000  6.229735        0.0        0   \n",
      "1  GRND3.SA  7.42  7.53  7.23   7.42  1864400  6.238142        0.0        0   \n",
      "2  GRND3.SA  7.49  7.54  7.35   7.46  1852200  6.271770        0.0        0   \n",
      "3  GRND3.SA  7.40  7.49  7.23   7.32  1560700  6.154070        0.0        0   \n",
      "4  GRND3.SA  7.35  7.64  7.31   7.58  1076200  6.372657        0.0        0   \n",
      "\n",
      "   rótulos  \n",
      "0      5.0  \n",
      "1      5.0  \n",
      "2      5.0  \n",
      "3      5.0  \n",
      "4      5.0  \n",
      "     symbol   open   high    low  close  volume  adjclose  Rótulos  rótulos\n",
      "0  GSHP3.SA  25.18  25.18  25.18  25.18   100.0     25.18        0      NaN\n",
      "1  GSHP3.SA  25.18  25.18  25.18  25.18     0.0     25.18        0      NaN\n",
      "2  GSHP3.SA  25.18  25.18  25.18  25.18     0.0     25.18        0      NaN\n",
      "3  GSHP3.SA  25.18  25.18  25.18  25.18     0.0     25.18        0      NaN\n",
      "4  GSHP3.SA  25.18  25.18  25.18  25.18     0.0     25.18        0      NaN\n",
      "     symbol  open  high   low  close   volume  adjclose  dividends  Rótulos  \\\n",
      "0  GUAR3.SA  7.09  7.56  6.92   7.56  1777400  7.478831        0.0        0   \n",
      "1  GUAR3.SA  7.55  7.69  7.24   7.44   962300  7.360119        0.0        0   \n",
      "2  GUAR3.SA  7.51  7.56  7.27   7.36   779800  7.280979        0.0        0   \n",
      "3  GUAR3.SA  7.31  7.42  7.09   7.27  1563800  7.191945        0.0        0   \n",
      "4  GUAR3.SA  7.34  7.75  7.34   7.54   981100  7.459045        0.0        0   \n",
      "\n",
      "   rótulos  \n",
      "0      NaN  \n",
      "1      NaN  \n",
      "2      NaN  \n",
      "3      NaN  \n",
      "4      NaN  \n",
      "     symbol  open  high   low  close  volume  adjclose  Rótulos  rótulos\n",
      "0  HAGA3.SA  2.96  3.05  2.80   2.90    4900      2.90        0      NaN\n",
      "1  HAGA3.SA  2.94  2.94  2.90   2.90    2500      2.90        0      NaN\n",
      "2  HAGA3.SA  2.90  2.90  2.89   2.89     800      2.89        0      5.0\n",
      "3  HAGA3.SA  2.89  3.12  2.89   2.96    3700      2.96        0      NaN\n",
      "4  HAGA3.SA  2.88  2.92  2.80   2.89   20900      2.89        0      3.0\n",
      "     symbol  open  high   low  close  volume  adjclose  Rótulos  rótulos\n",
      "0  HAGA4.SA  1.33  1.34  1.24   1.24   15600      1.24        0      5.0\n",
      "1  HAGA4.SA  1.26  1.30  1.23   1.25   12600      1.25        0      5.0\n",
      "2  HAGA4.SA  1.27  1.28  1.27   1.27   10700      1.27        0      5.0\n",
      "3  HAGA4.SA  1.24  1.30  1.24   1.29   20300      1.29        0      5.0\n",
      "4  HAGA4.SA  1.26  1.29  1.26   1.27   10500      1.27        0      5.0\n",
      "     symbol  open  high   low  close    volume  adjclose  Rótulos  rótulos\n",
      "0  HAPV3.SA  5.85  6.18  5.75   6.15  76330900      6.15        0      NaN\n",
      "1  HAPV3.SA  6.12  6.18  5.85   5.85  32097900      5.85        0      NaN\n",
      "2  HAPV3.SA  5.88  5.96  5.65   5.72  39927200      5.72        0      NaN\n",
      "3  HAPV3.SA  5.70  5.72  5.51   5.54  51862600      5.54        0      NaN\n",
      "4  HAPV3.SA  5.54  5.60  5.42   5.49  64980400      5.49        0      NaN\n",
      "     symbol  open  high   low  close  volume  adjclose  dividends  Rótulos  \\\n",
      "0  HBOR3.SA  2.57  2.62  2.52   2.55  621100  2.450420        0.0        0   \n",
      "1  HBOR3.SA  2.52  2.59  2.50   2.53  553100  2.431201        0.0        0   \n",
      "2  HBOR3.SA  2.54  2.58  2.46   2.48  654700  2.383154        0.0        0   \n",
      "3  HBOR3.SA  2.48  2.53  2.46   2.49  977200  2.392763        0.0        0   \n",
      "4  HBOR3.SA  2.48  2.60  2.48   2.60  860400  2.498468        0.0        0   \n",
      "\n",
      "   rótulos  \n",
      "0      NaN  \n",
      "1      NaN  \n",
      "2      4.0  \n",
      "3      3.0  \n",
      "4      NaN  \n",
      "     symbol  open  high   low  close  volume  adjclose  Rótulos  rótulos\n",
      "0  HBRE3.SA  4.64  4.79  4.55   4.55   63000      4.55        0      NaN\n",
      "1  HBRE3.SA  4.80  4.80  4.61   4.61   69200      4.61        0      NaN\n",
      "2  HBRE3.SA  4.62  4.83  4.62   4.70   37000      4.70        0      NaN\n",
      "3  HBRE3.SA  4.90  4.90  4.66   4.86   19000      4.86        0      NaN\n",
      "4  HBRE3.SA  4.86  4.86  4.60   4.60   63200      4.60        0      NaN\n",
      "     symbol  open  high   low  close   volume  adjclose  Rótulos  rótulos\n",
      "0  HBSA3.SA  2.66  2.66  2.56   2.56  8395300      2.56        0      NaN\n",
      "1  HBSA3.SA  2.54  2.65  2.51   2.60  2811900      2.60        0      NaN\n",
      "2  HBSA3.SA  2.61  2.66  2.48   2.51  3604100      2.51        0      NaN\n",
      "3  HBSA3.SA  2.49  2.59  2.47   2.50  2977700      2.50        0      NaN\n",
      "4  HBSA3.SA  2.52  2.56  2.48   2.49  2672500      2.49        0      NaN\n",
      "     symbol       open       high        low      close  volume  adjclose  \\\n",
      "0  HBTS5.SA  44.889999  44.889999  44.889999  44.889999     0.0  41.31345   \n",
      "1  HBTS5.SA  44.889999  44.889999  44.889999  44.889999     0.0  41.31345   \n",
      "2  HBTS5.SA  44.889999  44.889999  44.889999  44.889999     0.0  41.31345   \n",
      "3  HBTS5.SA  44.889999  44.889999  44.889999  44.889999     0.0  41.31345   \n",
      "4  HBTS5.SA  44.889999  44.889999  44.889999  44.889999     0.0  41.31345   \n",
      "\n",
      "   dividends  Rótulos  rótulos  \n",
      "0        0.0        0      NaN  \n",
      "1        0.0        0      NaN  \n",
      "2        0.0        0      NaN  \n",
      "3        0.0        0      NaN  \n",
      "4        0.0        0      NaN  \n",
      "     symbol  open  high   low  close  volume  adjclose  Rótulos\n",
      "0  HETA3.SA  96.0  96.0  96.0   96.0     0.0      96.0        0\n",
      "1  HETA3.SA  96.0  96.0  96.0   96.0     0.0      96.0        0\n",
      "2  HETA3.SA  96.0  96.0  96.0   96.0     0.0      96.0        0\n",
      "3  HETA3.SA  96.0  96.0  96.0   96.0     0.0      96.0        0\n",
      "4  HETA3.SA  96.0  96.0  96.0   96.0     0.0      96.0        0\n",
      "     symbol  open  high   low  close   volume  adjclose  Rótulos  rótulos\n",
      "0  HETA4.SA  5.20  6.89  5.00   6.54  11100.0      6.54        0      2.0\n",
      "1  HETA4.SA  6.40  6.97  6.40   6.95    600.0      6.95        0      1.0\n",
      "2  HETA4.SA  6.94  7.76  5.36   5.74  10500.0      5.74        0      NaN\n",
      "3  HETA4.SA  5.74  5.74  5.74   5.74    900.0      5.74        0      NaN\n",
      "4  HETA4.SA  5.74  5.74  5.46   5.46    800.0      5.46        0      1.0\n",
      "     symbol  open  high   low  close  volume  adjclose  Rótulos  rótulos\n",
      "0  HOOT4.SA  2.05  2.10  2.05   2.10     700      2.10        0      NaN\n",
      "1  HOOT4.SA  2.10  2.10  2.10   2.10     400      2.10        0      NaN\n",
      "2  HOOT4.SA  2.11  2.14  2.11   2.14     500      2.14        0      NaN\n",
      "3  HOOT4.SA  2.14  2.14  2.14   2.14     300      2.14        0      NaN\n",
      "4  HOOT4.SA  2.12  2.13  2.00   2.13    3600      2.13        0      NaN\n",
      "     symbol       open       high        low      close   volume   adjclose  \\\n",
      "0  HYPE3.SA  37.580002  38.310001  37.180000  38.180000  4759200  37.072121   \n",
      "1  HYPE3.SA  37.980000  38.299999  37.529999  37.599998  1374500  36.508942   \n",
      "2  HYPE3.SA  37.660000  37.990002  37.169998  37.500000  2357400  36.411854   \n",
      "3  HYPE3.SA  37.209999  38.669998  37.130001  38.189999  2915800  37.081829   \n",
      "4  HYPE3.SA  38.430000  39.180000  38.259998  38.770000  2857400  37.645000   \n",
      "\n",
      "   dividends  Rótulos  rótulos  \n",
      "0        0.0        0      NaN  \n",
      "1        0.0        0      NaN  \n",
      "2        0.0        0      NaN  \n",
      "3        0.0        0      NaN  \n",
      "4        0.0        0      NaN  \n",
      "     symbol  open  high   low  close   volume  adjclose  Rótulos  rótulos\n",
      "0  IFCM3.SA  3.97  4.34  3.84   4.34  1370300      4.34        0      NaN\n",
      "1  IFCM3.SA  4.29  4.43  4.12   4.40   940700      4.40        0      NaN\n",
      "2  IFCM3.SA  4.38  4.44  4.25   4.31   625900      4.31        0      5.0\n",
      "3  IFCM3.SA  4.22  4.47  4.09   4.28   868900      4.28        0      5.0\n",
      "4  IFCM3.SA  4.33  4.70  4.28   4.56  1424300      4.56        0      NaN\n",
      "     symbol   open       high    low  close  volume  adjclose  Rótulos  \\\n",
      "0  IGBR3.SA  31.99  33.000000  30.10   33.0  1000.0      33.0        0   \n",
      "1  IGBR3.SA  30.50  31.900000  30.50   31.5  1000.0      31.5        0   \n",
      "2  IGBR3.SA  32.00  34.439999  31.50   34.0  4000.0      34.0        0   \n",
      "3  IGBR3.SA  31.50  34.000000  31.41   34.0   400.0      34.0        0   \n",
      "4  IGBR3.SA  34.00  34.000000  34.00   34.0     0.0      34.0        0   \n",
      "\n",
      "   rótulos  \n",
      "0      NaN  \n",
      "1      NaN  \n",
      "2      NaN  \n",
      "3      NaN  \n",
      "4      NaN  \n",
      "     symbol  open  high   low  close  volume  adjclose  dividends  Rótulos  \\\n",
      "0  IGTI3.SA  2.37  2.50  2.37   2.50  173200  2.445897        0.0        0   \n",
      "1  IGTI3.SA  2.42  2.45  2.36   2.37  202900  2.318710        0.0        0   \n",
      "2  IGTI3.SA  2.39  2.43  2.30   2.30  109100  2.250225        0.0        0   \n",
      "3  IGTI3.SA  2.28  2.37  2.25   2.36  154400  2.308927        0.0        0   \n",
      "4  IGTI3.SA  2.36  2.39  2.33   2.38  121600  2.328494        0.0        0   \n",
      "\n",
      "   rótulos  \n",
      "0      NaN  \n",
      "1      NaN  \n",
      "2      NaN  \n",
      "3      NaN  \n",
      "4      NaN  \n",
      "     symbol  open  high   low  close  volume  adjclose  dividends  Rótulos  \\\n",
      "0  IGTI4.SA  8.57  8.61  8.47   8.52  201100  8.401792        0.0        0   \n",
      "1  IGTI4.SA  8.52  8.52  8.52   8.52       0  8.401792        0.0        0   \n",
      "2  IGTI4.SA  8.52  8.52  8.52   8.52       0  8.401792        0.0        0   \n",
      "3  IGTI4.SA  8.33  8.33  8.16   8.16     200  8.046785        0.0        0   \n",
      "4  IGTI4.SA  7.89  7.89  7.77   7.77     200  7.662197        0.0        0   \n",
      "\n",
      "   rótulos  \n",
      "0      NaN  \n",
      "1      NaN  \n",
      "2      NaN  \n",
      "3      NaN  \n",
      "4      5.0  \n",
      "     symbol  open  high   low  close  volume  adjclose  splits  Rótulos  \\\n",
      "0  INEP3.SA  3.00  3.05  2.90    3.0  281840       3.0     0.0        0   \n",
      "1  INEP3.SA  3.05  3.20  2.95    3.0  266360       3.0     0.0        0   \n",
      "2  INEP3.SA  3.00  3.15  3.00    3.0  256280       3.0     0.0        0   \n",
      "3  INEP3.SA  2.95  3.15  2.90    3.1  264380       3.1     0.0        0   \n",
      "4  INEP3.SA  3.15  3.15  3.05    3.1  175540       3.1     0.0        0   \n",
      "\n",
      "   rótulos  \n",
      "0      NaN  \n",
      "1      NaN  \n",
      "2      NaN  \n",
      "3      NaN  \n",
      "4      NaN  \n",
      "     symbol  open  high   low  close  volume  adjclose  splits  Rótulos  \\\n",
      "0  INEP4.SA  3.10  3.15  2.95   3.05   79740      3.05     0.0        0   \n",
      "1  INEP4.SA  3.10  3.25  2.90   3.05   91980      3.05     0.0        0   \n",
      "2  INEP4.SA  3.05  3.15  3.00   3.00   41680      3.00     0.0        0   \n",
      "3  INEP4.SA  2.95  3.10  2.90   3.10   55800      3.10     0.0        0   \n",
      "4  INEP4.SA  3.05  3.10  3.00   3.05   57560      3.05     0.0        0   \n",
      "\n",
      "   rótulos  \n",
      "0      NaN  \n",
      "1      NaN  \n",
      "2      NaN  \n",
      "3      NaN  \n",
      "4      NaN  \n",
      "     symbol       open       high        low      close   volume   adjclose  \\\n",
      "0  INTB3.SA  25.309999  25.330000  24.719999  25.230000  1535300  24.686951   \n",
      "1  INTB3.SA  25.230000  25.500000  24.709999  25.070000   532700  24.530392   \n",
      "2  INTB3.SA  25.080000  25.360001  24.780001  25.110001  1146600  24.569532   \n",
      "3  INTB3.SA  24.719999  25.879999  24.629999  25.580000  1169100  25.029415   \n",
      "4  INTB3.SA  25.620001  26.150000  25.280001  25.950001   685900  25.391453   \n",
      "\n",
      "   dividends  Rótulos  rótulos  \n",
      "0        0.0        0      NaN  \n",
      "1        0.0        0      NaN  \n",
      "2        0.0        0      NaN  \n",
      "3        0.0        0      NaN  \n",
      "4        0.0        0      NaN  \n",
      "     symbol       open       high        low      close   volume   adjclose  \\\n",
      "0  IRBR3.SA  67.456497  68.452164  66.211914  67.954330   509708  67.954330   \n",
      "1  IRBR3.SA  68.452164  69.447838  66.709747  67.705414   295990  67.705414   \n",
      "2  IRBR3.SA  67.954330  70.443504  66.211914  70.443504   632937  70.443504   \n",
      "3  IRBR3.SA  66.958664  67.954330  62.727077  62.975994  1310103  62.975994   \n",
      "4  IRBR3.SA  62.975994  63.722744  60.735741  60.735741   687691  60.735741   \n",
      "\n",
      "   splits  Rótulos  rótulos  \n",
      "0     0.0        0      NaN  \n",
      "1     0.0        0      NaN  \n",
      "2     0.0        0      NaN  \n",
      "3     0.0        0      NaN  \n",
      "4     0.0        0      NaN  \n",
      "     symbol      open      high       low     close  volume  adjclose  \\\n",
      "0  ITSA3.SA  8.354545  8.445454  8.172727  8.445454  129470  8.009384   \n",
      "1  ITSA3.SA  8.436363  8.581818  8.236363  8.381818  151470  7.949035   \n",
      "2  ITSA3.SA  8.390909  8.527272  8.363636  8.372727   57750  7.940414   \n",
      "3  ITSA3.SA  8.363636  8.400000  8.300000  8.363636   87780  7.931793   \n",
      "4  ITSA3.SA  8.409090  8.409090  8.181818  8.327272  109230  7.897305   \n",
      "\n",
      "   dividends  splits  Rótulos  rótulos  \n",
      "0        0.0     0.0        0      NaN  \n",
      "1        0.0     0.0        0      NaN  \n",
      "2        0.0     0.0        0      NaN  \n",
      "3        0.0     0.0        0      NaN  \n",
      "4        0.0     0.0        0      NaN  \n",
      "     symbol      open      high       low     close    volume  adjclose  \\\n",
      "0  ITSA4.SA  7.918181  8.072727  7.790909  7.845454  39054510  7.423546   \n",
      "1  ITSA4.SA  7.872727  8.190909  7.845454  8.090909  22947430  7.655802   \n",
      "2  ITSA4.SA  8.154545  8.181818  7.963636  8.018181  18981050  7.586985   \n",
      "3  ITSA4.SA  7.990909  8.081818  7.945454  8.054545  22146630  7.621394   \n",
      "4  ITSA4.SA  8.054545  8.081818  7.881818  7.881818  19540950  7.457954   \n",
      "\n",
      "   dividends  splits  Rótulos  rótulos  \n",
      "0        0.0     0.0        0      2.0  \n",
      "1        0.0     0.0        0      NaN  \n",
      "2        0.0     0.0        0      NaN  \n",
      "3        0.0     0.0        0      NaN  \n",
      "4        0.0     0.0        0      NaN  \n",
      "     symbol       open       high        low      close  volume   adjclose  \\\n",
      "0  ITUB3.SA  19.969999  20.200001  19.639999  19.990000  933600  18.846027   \n",
      "1  ITUB3.SA  20.010000  20.910000  20.010000  20.840000  600600  19.647387   \n",
      "2  ITUB3.SA  20.920000  21.010000  20.580000  20.750000  313300  19.562536   \n",
      "3  ITUB3.SA  20.590000  20.719999  20.420000  20.520000  417100  19.345699   \n",
      "4  ITUB3.SA  20.549999  20.600000  19.950001  20.049999  541700  18.902601   \n",
      "\n",
      "   dividends  Rótulos  rótulos  \n",
      "0        0.0        0      2.0  \n",
      "1        0.0        0      NaN  \n",
      "2        0.0        0      NaN  \n",
      "3        0.0        0      NaN  \n",
      "4        0.0        0      NaN  \n",
      "     symbol       open       high        low      close    volume   adjclose  \\\n",
      "0  ITUB4.SA  23.340000  23.580000  22.920000  23.450001  45458600  22.294138   \n",
      "1  ITUB4.SA  23.580000  24.510000  23.580000  24.469999  44489700  23.263859   \n",
      "2  ITUB4.SA  24.559999  24.650000  24.090000  24.209999  33166000  23.016672   \n",
      "3  ITUB4.SA  24.270000  24.320000  23.820000  24.030001  36820800  22.845549   \n",
      "4  ITUB4.SA  24.059999  24.129999  23.360001  23.480000  27097300  22.322657   \n",
      "\n",
      "   dividends  Rótulos  rótulos  \n",
      "0        0.0        0      2.0  \n",
      "1        0.0        0      NaN  \n",
      "2        0.0        0      NaN  \n",
      "3        0.0        0      NaN  \n",
      "4        0.0        0      NaN  \n",
      "     symbol  open  high   low  close   volume  adjclose  dividends  Rótulos  \\\n",
      "0  JALL3.SA  8.26  8.75  8.18   8.75  1353200  8.530128        0.0        0   \n",
      "1  JALL3.SA  8.76  8.81  8.03   8.25  1605200  8.042692        0.0        0   \n",
      "2  JALL3.SA  8.28  8.30  7.86   7.92  1544800  7.720984        0.0        0   \n",
      "3  JALL3.SA  7.85  7.85  7.51   7.55  1714700  7.360282        0.0        0   \n",
      "4  JALL3.SA  7.56  7.90  7.56   7.72  1301300  7.526010        0.0        0   \n",
      "\n",
      "   rótulos  \n",
      "0      NaN  \n",
      "1      NaN  \n",
      "2      NaN  \n",
      "3      NaN  \n",
      "4      NaN  \n",
      "     symbol       open       high        low      close    volume   adjclose  \\\n",
      "0  JBSS3.SA  32.900002  33.209999  32.200001  32.740002  13377600  31.466568   \n",
      "1  JBSS3.SA  32.900002  32.900002  32.230000  32.689999   3268000  31.418509   \n",
      "2  JBSS3.SA  32.759998  33.209999  32.169998  32.380001   4808700  31.120569   \n",
      "3  JBSS3.SA  32.220001  33.439999  31.879999  32.900002   9184600  31.620344   \n",
      "4  JBSS3.SA  33.070000  33.750000  32.450001  32.750000  10774000  31.476177   \n",
      "\n",
      "   dividends  Rótulos  rótulos  \n",
      "0        0.0        0      NaN  \n",
      "1        0.0        0      NaN  \n",
      "2        0.0        0      NaN  \n",
      "3        0.0        0      NaN  \n",
      "4        0.0        0      NaN  \n",
      "     symbol  open  high   low  close  volume  adjclose  splits  Rótulos  \\\n",
      "0  JFEN3.SA  3.60  3.60  3.40   3.60   16980      3.60     0.0        0   \n",
      "1  JFEN3.SA  3.60  3.65  3.45   3.60    9760      3.60     0.0        0   \n",
      "2  JFEN3.SA  3.65  3.70  3.45   3.45   16680      3.45     0.0        0   \n",
      "3  JFEN3.SA  3.55  4.45  3.45   4.15   79040      4.15     0.0        0   \n",
      "4  JFEN3.SA  4.15  4.95  4.05   4.20  111940      4.20     0.0        0   \n",
      "\n",
      "   rótulos  \n",
      "0      5.0  \n",
      "1      5.0  \n",
      "2      5.0  \n",
      "3      5.0  \n",
      "4      5.0  \n",
      "     symbol  open  high   low  close   volume  adjclose  dividends  Rótulos  \\\n",
      "0  JHSF3.SA  6.27  6.36  6.18   6.35  2349200  5.879857        0.0        0   \n",
      "1  JHSF3.SA  6.36  6.37  6.16   6.26  1710100  5.796521        0.0        0   \n",
      "2  JHSF3.SA  6.32  6.39  6.05   6.16  4175000  5.703925        0.0        0   \n",
      "3  JHSF3.SA  6.08  6.25  6.06   6.17  2658100  5.713184        0.0        0   \n",
      "4  JHSF3.SA  6.20  6.27  6.16   6.23  1665800  5.768742        0.0        0   \n",
      "\n",
      "   rótulos  \n",
      "0      NaN  \n",
      "1      1.0  \n",
      "2      5.0  \n",
      "3      5.0  \n",
      "4      1.0  \n",
      "     symbol  open  high   low  close  volume   adjclose  dividends  Rótulos  \\\n",
      "0  JOPA3.SA  21.6  21.6  21.6   21.6     400  20.811359        0.0        0   \n",
      "1  JOPA3.SA  21.6  22.0  21.6   21.6    2300  20.811359        0.0        0   \n",
      "2  JOPA3.SA  21.6  21.6  21.6   21.6       0  20.811359        0.0        0   \n",
      "3  JOPA3.SA  21.6  21.6  21.6   21.6       0  20.811359        0.0        0   \n",
      "4  JOPA3.SA  21.6  21.6  21.6   21.6       0  20.811359        0.0        0   \n",
      "\n",
      "   rótulos  \n",
      "0      NaN  \n",
      "1      NaN  \n",
      "2      NaN  \n",
      "3      NaN  \n",
      "4      NaN  \n",
      "     symbol   open   high    low  close  volume   adjclose  dividends  Rótulos\n",
      "0  JOPA4.SA  35.09  35.09  35.09  35.09   100.0  34.186863        0.0        0\n",
      "1  JOPA4.SA  35.09  35.09  35.09  35.09     0.0  34.186863        0.0        0\n",
      "2  JOPA4.SA  35.09  35.09  35.09  35.09     0.0  34.186863        0.0        0\n",
      "3  JOPA4.SA  35.09  35.09  35.09  35.09     0.0  34.186863        0.0        0\n",
      "4  JOPA4.SA  35.09  35.09  35.09  35.09     0.0  34.186863        0.0        0\n",
      "     symbol  open  high   low  close  volume  adjclose  dividends  Rótulos  \\\n",
      "0  JSLG3.SA  5.43  5.52  5.32   5.50  207900  5.273369        0.0        0   \n",
      "1  JSLG3.SA  5.52  5.55  5.37   5.50  347600  5.273369        0.0        0   \n",
      "2  JSLG3.SA  5.51  5.57  5.28   5.39  332100  5.167902        0.0        0   \n",
      "3  JSLG3.SA  5.32  5.42  5.18   5.18  410800  4.966555        0.0        0   \n",
      "4  JSLG3.SA  5.22  5.36  5.13   5.24  888800  5.024083        0.0        0   \n",
      "\n",
      "   rótulos  \n",
      "0      NaN  \n",
      "1      NaN  \n",
      "2      NaN  \n",
      "3      NaN  \n",
      "4      NaN  \n",
      "     symbol   open   high    low  close   volume  adjclose  dividends  splits  \\\n",
      "0  KEPL3.SA  8.515  8.515  8.010  8.170  1798400  7.358566        0.0     0.0   \n",
      "1  KEPL3.SA  8.120  8.220  7.805  7.925  1492800  7.137899        0.0     0.0   \n",
      "2  KEPL3.SA  7.995  8.040  7.510  7.565  2366000  6.813653        0.0     0.0   \n",
      "3  KEPL3.SA  7.475  7.645  7.335  7.630  2241000  6.872198        0.0     0.0   \n",
      "4  KEPL3.SA  7.660  7.720  7.320  7.430  1795400  6.692061        0.0     0.0   \n",
      "\n",
      "   Rótulos  rótulos  \n",
      "0        0      1.0  \n",
      "1        0      1.0  \n",
      "2        0      5.0  \n",
      "3        0      5.0  \n",
      "4        0      4.0  \n",
      "     symbol  open  high   low  close  volume  adjclose  dividends  Rótulos  \\\n",
      "0  KLBN3.SA  4.54  4.64  4.28   4.36  394000  3.999921        0.0        0   \n",
      "1  KLBN3.SA  4.47  4.47  4.25   4.27  199800  3.917353        0.0        0   \n",
      "2  KLBN3.SA  4.29  4.39  4.21   4.22  128800  3.871482        0.0        0   \n",
      "3  KLBN3.SA  4.22  4.24  4.08   4.19  188400  3.843961        0.0        0   \n",
      "4  KLBN3.SA  4.24  4.25  3.98   4.00  441700  3.669652        0.0        0   \n",
      "\n",
      "   rótulos  \n",
      "0      1.0  \n",
      "1      1.0  \n",
      "2      5.0  \n",
      "3      5.0  \n",
      "4      5.0  \n",
      "     symbol  open  high   low  close   volume  adjclose  dividends  Rótulos  \\\n",
      "0  KLBN4.SA  4.09  4.09  3.92   4.00  1524900  3.664195        0.0        0   \n",
      "1  KLBN4.SA  4.00  4.06  3.96   4.01   607000  3.673356        0.0        0   \n",
      "2  KLBN4.SA  4.03  4.08  3.97   4.01   552900  3.673356        0.0        0   \n",
      "3  KLBN4.SA  4.00  4.03  3.93   4.00   561900  3.664195        0.0        0   \n",
      "4  KLBN4.SA  4.00  4.00  3.85   3.89  1701400  3.563430        0.0        0   \n",
      "\n",
      "   rótulos  \n",
      "0      2.0  \n",
      "1      5.0  \n",
      "2      5.0  \n",
      "3      5.0  \n",
      "4      5.0  \n",
      "     symbol  open  high   low  close  volume  adjclose  Rótulos  rótulos\n",
      "0  KRSA3.SA  2.85  2.85  2.74   2.77  105000      2.77        0      NaN\n",
      "1  KRSA3.SA  2.76  2.84  2.56   2.60  487500      2.60        0      5.0\n",
      "2  KRSA3.SA  2.65  2.65  2.51   2.60  209600      2.60        0      5.0\n",
      "3  KRSA3.SA  2.54  2.85  2.54   2.85  319600      2.85        0      5.0\n",
      "4  KRSA3.SA  2.93  2.99  2.74   2.85   57800      2.85        0      5.0\n",
      "     symbol       open       high        low      close  volume   adjclose  \\\n",
      "0  LAND3.SA  28.600000  28.990000  28.209999  28.990000   25700  27.681139   \n",
      "1  LAND3.SA  28.799999  28.850000  28.340000  28.719999   11300  27.423328   \n",
      "2  LAND3.SA  28.540001  28.620001  27.629999  27.980000   47600  26.716738   \n",
      "3  LAND3.SA  27.610001  27.639999  25.540001  27.000000   79400  25.780985   \n",
      "4  LAND3.SA  26.780001  28.209999  26.110001  27.100000   54500  25.876471   \n",
      "\n",
      "   dividends  Rótulos  rótulos  \n",
      "0        0.0        0      NaN  \n",
      "1        0.0        0      NaN  \n",
      "2        0.0        0      5.0  \n",
      "3        0.0        0      5.0  \n",
      "4        0.0        0      5.0  \n",
      "     symbol  open  high   low  close   volume  adjclose  dividends  Rótulos  \\\n",
      "0  LAVV3.SA  4.73  4.73  4.64   4.66   944100  4.246481        0.0        0   \n",
      "1  LAVV3.SA  4.71  4.71  4.56   4.62  2951400  4.210031        0.0        0   \n",
      "2  LAVV3.SA  4.69  4.71  4.56   4.57   562800  4.164468        0.0        0   \n",
      "3  LAVV3.SA  4.54  4.64  4.51   4.55   444900  4.146243        0.0        0   \n",
      "4  LAVV3.SA  4.59  4.63  4.53   4.60   374600  4.191806        0.0        0   \n",
      "\n",
      "   rótulos  \n",
      "0      2.0  \n",
      "1      5.0  \n",
      "2      5.0  \n",
      "3      5.0  \n",
      "4      5.0  \n",
      "     symbol       open       high        low      close  volume   adjclose  \\\n",
      "0  LEVE3.SA  23.370001  23.629999  22.900000  23.330000  232500  21.366055   \n",
      "1  LEVE3.SA  23.309999  23.540001  23.020000  23.080000  185800  21.137098   \n",
      "2  LEVE3.SA  23.160000  23.400000  22.940001  23.219999  115300  21.265312   \n",
      "3  LEVE3.SA  23.080000  23.680000  22.920000  23.290001  190800  21.329422   \n",
      "4  LEVE3.SA  23.469999  23.639999  23.030001  23.190001  112300  21.237839   \n",
      "\n",
      "   dividends  Rótulos  rótulos  \n",
      "0        0.0        0      5.0  \n",
      "1        0.0        0      5.0  \n",
      "2        0.0        0      5.0  \n",
      "3        0.0        0      5.0  \n",
      "4        0.0        0      5.0  \n",
      "     symbol  open  high   low  close   volume  adjclose  Rótulos  rótulos\n",
      "0  LIGT3.SA  7.81  8.00  7.71   8.00  1830100      8.00        0      NaN\n",
      "1  LIGT3.SA  7.96  8.12  7.71   7.77  1759300      7.77        0      NaN\n",
      "2  LIGT3.SA  7.80  7.90  7.52   7.56  2459000      7.56        0      NaN\n",
      "3  LIGT3.SA  7.50  7.69  7.46   7.61  2113200      7.61        0      NaN\n",
      "4  LIGT3.SA  7.63  7.71  7.50   7.60  2199300      7.60        0      NaN\n",
      "     symbol       open       high        low      close  volume   adjclose  \\\n",
      "0  LIPR3.SA  64.500000  66.980003  64.500000  66.980003   300.0  64.685257   \n",
      "1  LIPR3.SA  65.629997  65.629997  65.629997  65.629997   100.0  63.381504   \n",
      "2  LIPR3.SA  65.629997  65.629997  65.629997  65.629997     0.0  63.381504   \n",
      "3  LIPR3.SA  65.629997  65.629997  65.629997  65.629997     0.0  63.381504   \n",
      "4  LIPR3.SA  65.629997  65.629997  65.629997  65.629997     0.0  63.381504   \n",
      "\n",
      "   dividends  Rótulos  rótulos  \n",
      "0        0.0        0      NaN  \n",
      "1        0.0        0      NaN  \n",
      "2        0.0        0      NaN  \n",
      "3        0.0        0      NaN  \n",
      "4        0.0        0      NaN  \n",
      "     symbol  open  high   low  close   volume  adjclose  Rótulos  rótulos\n",
      "0  LJQQ3.SA  7.30  7.35  7.06   7.12  3923900      7.12        0      NaN\n",
      "1  LJQQ3.SA  7.17  7.22  6.88   6.93  2411800      6.93        0      NaN\n",
      "2  LJQQ3.SA  7.00  7.11  6.71   6.71  3090100      6.71        0      NaN\n",
      "3  LJQQ3.SA  6.60  6.77  6.48   6.48  2140100      6.48        0      NaN\n",
      "4  LJQQ3.SA  6.50  6.71  6.38   6.46  2418100      6.46        0      NaN\n",
      "     symbol       open       high        low      close  volume   adjclose  \\\n",
      "0  LOGG3.SA  18.750000  19.120001  18.350000  19.120001  518400  18.154249   \n",
      "1  LOGG3.SA  19.110001  19.309999  18.510000  18.510000  172700  17.575060   \n",
      "2  LOGG3.SA  18.559999  18.940001  18.530001  18.820000  221500  17.869400   \n",
      "3  LOGG3.SA  18.570000  19.260000  18.540001  18.830000  141600  17.878895   \n",
      "4  LOGG3.SA  19.040001  19.459999  18.799999  19.370001  165700  18.391621   \n",
      "\n",
      "   dividends  Rótulos  rótulos  \n",
      "0        0.0        0      NaN  \n",
      "1        0.0        0      5.0  \n",
      "2        0.0        0      NaN  \n",
      "3        0.0        0      NaN  \n",
      "4        0.0        0      NaN  \n",
      "     symbol       open       high        low      close  volume   adjclose  \\\n",
      "0  LOGN3.SA  32.310001  32.939999  31.670000  32.590000  250900  32.590000   \n",
      "1  LOGN3.SA  32.500000  32.650002  31.799999  31.959999  239900  31.959999   \n",
      "2  LOGN3.SA  32.139999  32.169998  31.420000  31.950001  194500  31.950001   \n",
      "3  LOGN3.SA  31.780001  32.700001  31.620001  31.910000  182100  31.910000   \n",
      "4  LOGN3.SA  32.130001  32.130001  31.410000  31.600000  203700  31.600000   \n",
      "\n",
      "   Rótulos  rótulos  \n",
      "0        0      NaN  \n",
      "1        0      NaN  \n",
      "2        0      NaN  \n",
      "3        0      NaN  \n",
      "4        0      NaN  \n",
      "     symbol  open  high   low  close  volume  adjclose  dividends  Rótulos  \\\n",
      "0  LPSB3.SA  2.62  2.68  2.49   2.68  280900  2.648130        0.0        0   \n",
      "1  LPSB3.SA  2.64  2.74  2.60   2.69  115900  2.658011        0.0        0   \n",
      "2  LPSB3.SA  2.68  2.74  2.55   2.65  195800  2.618486        0.0        0   \n",
      "3  LPSB3.SA  2.54  2.67  2.54   2.60  336500  2.569081        0.0        0   \n",
      "4  LPSB3.SA  2.60  2.65  2.51   2.51  515800  2.480151        0.0        0   \n",
      "\n",
      "   rótulos  \n",
      "0      NaN  \n",
      "1      NaN  \n",
      "2      NaN  \n",
      "3      NaN  \n",
      "4      NaN  \n",
      "     symbol       open       high    low      close    volume   adjclose  \\\n",
      "0  LREN3.SA  23.420000  23.820000  22.76  23.740000  20016100  22.972002   \n",
      "1  LREN3.SA  23.840000  24.610001  23.24  23.870001   9937100  23.097797   \n",
      "2  LREN3.SA  23.889999  24.129999  22.90  23.110001  14227200  22.362383   \n",
      "3  LREN3.SA  22.709999  23.879999  22.66  23.469999   8213900  22.710735   \n",
      "4  LREN3.SA  23.490000  24.379999  23.48  23.850000  12033500  23.078444   \n",
      "\n",
      "   dividends  Rótulos  rótulos  \n",
      "0        0.0        0      NaN  \n",
      "1        0.0        0      NaN  \n",
      "2        0.0        0      NaN  \n",
      "3        0.0        0      NaN  \n",
      "4        0.0        0      NaN  \n",
      "     symbol  open  high   low  close  volume  adjclose  Rótulos  rótulos\n",
      "0  LUPA3.SA  3.74  3.77  3.57   3.60  405200      3.60        0      NaN\n",
      "1  LUPA3.SA  3.65  3.70  3.46   3.62  324600      3.62        0      NaN\n",
      "2  LUPA3.SA  3.65  3.71  3.49   3.60  292600      3.60        0      NaN\n",
      "3  LUPA3.SA  3.43  3.69  3.43   3.60  422100      3.60        0      NaN\n",
      "4  LUPA3.SA  3.60  3.69  3.50   3.59  398600      3.59        0      NaN\n",
      "     symbol      open      high       low     close  volume  adjclose  \\\n",
      "0  LUXM3.SA  1.666667  1.666667  1.666667  1.666667       0  1.126187   \n",
      "1  LUXM3.SA  1.666667  1.666667  1.666667  1.666667       0  1.126187   \n",
      "2  LUXM3.SA  1.666667  1.666667  1.666667  1.666667       0  1.126187   \n",
      "3  LUXM3.SA  1.666667  1.666667  1.666667  1.666667       0  1.126187   \n",
      "4  LUXM3.SA  1.666667  1.666667  1.666667  1.666667       0  1.126187   \n",
      "\n",
      "   dividends  splits  Rótulos  rótulos  \n",
      "0        0.0     0.0        0      5.0  \n",
      "1        0.0     0.0        0      5.0  \n",
      "2        0.0     0.0        0      5.0  \n",
      "3        0.0     0.0        0      5.0  \n",
      "4        0.0     0.0        0      5.0  \n",
      "     symbol       open       high        low      close  volume   adjclose  \\\n",
      "0  LUXM4.SA  20.745001  20.745001  20.745001  20.745001       0  20.128325   \n",
      "1  LUXM4.SA  20.667500  20.667500  20.667500  20.667500     400  20.053127   \n",
      "2  LUXM4.SA  20.667500  20.667500  20.667500  20.667500       0  20.053127   \n",
      "3  LUXM4.SA  20.667500  20.667500  20.667500  20.667500       0  20.053127   \n",
      "4  LUXM4.SA  20.667500  20.667500  20.667500  20.667500       0  20.053127   \n",
      "\n",
      "   dividends  splits  Rótulos  rótulos  \n",
      "0        0.0     0.0        0      NaN  \n",
      "1        0.0     0.0        0      NaN  \n",
      "2        0.0     0.0        0      NaN  \n",
      "3        0.0     0.0        0      NaN  \n",
      "4        0.0     0.0        0      NaN  \n",
      "     symbol  open  high   low  close  volume  adjclose  dividends  Rótulos  \\\n",
      "0  LVTC3.SA  6.90  7.04  6.74   6.99  202800  6.973524        0.0        0   \n",
      "1  LVTC3.SA  7.05  7.09  6.50   6.65  378100  6.634325        0.0        0   \n",
      "2  LVTC3.SA  6.65  6.78  6.58   6.70  167500  6.684207        0.0        0   \n",
      "3  LVTC3.SA  6.50  7.04  6.50   6.75  145300  6.734089        0.0        0   \n",
      "4  LVTC3.SA  6.84  7.04  6.76   7.04  147200  7.023406        0.0        0   \n",
      "\n",
      "   rótulos  \n",
      "0      NaN  \n",
      "1      4.0  \n",
      "2      NaN  \n",
      "3      NaN  \n",
      "4      NaN  \n",
      "     symbol  open  high   low  close    volume  adjclose  dividends  Rótulos  \\\n",
      "0  LWSA3.SA  5.67  5.75  5.48   5.48  18426500  5.432281        0.0        0   \n",
      "1  LWSA3.SA  5.48  5.56  5.23   5.26  15100900  5.214197        0.0        0   \n",
      "2  LWSA3.SA  5.36  5.64  5.31   5.42  14961500  5.372804        0.0        0   \n",
      "3  LWSA3.SA  5.25  5.70  5.24   5.55  11015500  5.501672        0.0        0   \n",
      "4  LWSA3.SA  5.64  6.15  5.64   6.05  15826800  5.997318        0.0        0   \n",
      "\n",
      "   rótulos  \n",
      "0      5.0  \n",
      "1      5.0  \n",
      "2      5.0  \n",
      "3      3.0  \n",
      "4      NaN  \n",
      "     symbol  open  high   low  close  volume  adjclose  Rótulos\n",
      "0  MAPT3.SA  37.0  37.0  37.0   37.0     0.0      37.0        0\n",
      "1  MAPT3.SA  37.0  37.0  37.0   37.0     0.0      37.0        0\n",
      "2  MAPT3.SA  37.0  37.0  37.0   37.0     0.0      37.0        0\n",
      "3  MAPT3.SA  37.0  37.0  37.0   37.0     0.0      37.0        0\n",
      "4  MAPT3.SA  37.0  37.0  37.0   37.0     0.0      37.0        0\n",
      "     symbol   open   high    low  close  volume  adjclose  Rótulos\n",
      "0  MAPT4.SA  14.17  14.17  14.17  14.17     0.0     14.17        0\n",
      "1  MAPT4.SA  14.17  14.17  14.17  14.17     0.0     14.17        0\n",
      "2  MAPT4.SA  14.17  14.17  14.17  14.17     0.0     14.17        0\n",
      "3  MAPT4.SA  14.17  14.17  14.17  14.17     0.0     14.17        0\n",
      "4  MAPT4.SA  14.17  14.17  14.17  14.17     0.0     14.17        0\n",
      "     symbol  open  high   low  close  volume  adjclose  dividends  Rótulos  \\\n",
      "0  MATD3.SA  8.08  8.43  7.92   8.30  957400  8.236422        0.0        0   \n",
      "1  MATD3.SA  8.26  8.42  7.75   7.79  513900  7.730328        0.0        0   \n",
      "2  MATD3.SA  7.79  8.14  7.72   7.97  912000  7.908949        0.0        0   \n",
      "3  MATD3.SA  7.96  8.07  7.81   7.96  463300  7.899026        0.0        0   \n",
      "4  MATD3.SA  7.98  8.19  7.85   8.19  263900  8.127263        0.0        0   \n",
      "\n",
      "   rótulos  \n",
      "0      NaN  \n",
      "1      NaN  \n",
      "2      NaN  \n",
      "3      NaN  \n",
      "4      NaN  \n",
      "     symbol  open  high   low  close   volume  adjclose  Rótulos  rótulos\n",
      "0  MBLY3.SA  2.54  2.54  2.36   2.50   904800      2.50        0      NaN\n",
      "1  MBLY3.SA  2.52  2.52  2.35   2.47   957700      2.47        0      NaN\n",
      "2  MBLY3.SA  2.49  2.49  2.38   2.47   536700      2.47        0      NaN\n",
      "3  MBLY3.SA  2.41  2.50  2.37   2.42  1067500      2.42        0      NaN\n",
      "4  MBLY3.SA  2.44  2.49  2.38   2.47   867700      2.47        0      NaN\n",
      "     symbol       open       high        low      close   volume   adjclose  \\\n",
      "0  MDIA3.SA  24.180000  24.690001  23.980000  24.129999  2043400  24.000137   \n",
      "1  MDIA3.SA  24.120001  24.490000  23.530001  24.440001  1121100  24.308472   \n",
      "2  MDIA3.SA  24.690001  24.740000  24.030001  24.299999   798400  24.169224   \n",
      "3  MDIA3.SA  24.150000  25.430000  24.110001  24.620001  1240700  24.487503   \n",
      "4  MDIA3.SA  24.530001  25.879999  24.530001  25.549999  1345600  25.412493   \n",
      "\n",
      "   dividends  Rótulos  rótulos  \n",
      "0       0.05        0      NaN  \n",
      "1       0.00        0      5.0  \n",
      "2       0.00        0      5.0  \n",
      "3       0.00        0      4.0  \n",
      "4       0.00        0      NaN  \n",
      "     symbol  open  high   low  close  volume  adjclose  Rótulos  rótulos\n",
      "0  MDNE3.SA  5.56  5.62  5.40   5.58  119400      5.58        0      NaN\n",
      "1  MDNE3.SA  5.55  5.65  5.47   5.60   76900      5.60        0      NaN\n",
      "2  MDNE3.SA  5.64  5.65  5.50   5.57   35500      5.57        0      NaN\n",
      "3  MDNE3.SA  5.48  5.55  5.40   5.45  374600      5.45        0      NaN\n",
      "4  MDNE3.SA  5.47  5.50  5.31   5.36  203200      5.36        0      NaN\n",
      "     symbol  open  high   low  close   volume  adjclose  Rótulos  rótulos\n",
      "0  MEAL3.SA  1.62  1.67  1.62   1.66  1659900      1.66        0      NaN\n",
      "1  MEAL3.SA  1.66  1.67  1.60   1.66  1948400      1.66        0      NaN\n",
      "2  MEAL3.SA  1.64  1.67  1.61   1.61  1283200      1.61        0      NaN\n",
      "3  MEAL3.SA  1.60  1.71  1.59   1.64  3075900      1.64        0      NaN\n",
      "4  MEAL3.SA  1.64  1.69  1.63   1.65  1259000      1.65        0      NaN\n",
      "     symbol  open  high   low  close  volume  adjclose  dividends  Rótulos  \\\n",
      "0  MELK3.SA  3.48  3.61  3.42   3.61  138800  3.246996        0.0        0   \n",
      "1  MELK3.SA  3.64  3.64  3.49   3.55   98400  3.193029        0.0        0   \n",
      "2  MELK3.SA  3.54  3.59  3.42   3.55  247400  3.193029        0.0        0   \n",
      "3  MELK3.SA  3.54  3.60  3.48   3.51  127600  3.157051        0.0        0   \n",
      "4  MELK3.SA  3.52  3.58  3.48   3.52  126000  3.166046        0.0        0   \n",
      "\n",
      "   rótulos  \n",
      "0      4.0  \n",
      "1      5.0  \n",
      "2      5.0  \n",
      "3      5.0  \n",
      "4      5.0  \n",
      "     symbol  open  high   low  close  volume  adjclose  splits  Rótulos  \\\n",
      "0  MERC3.SA  24.1  24.1  24.1   24.1     0.0      24.1     0.0        0   \n",
      "1  MERC3.SA  24.1  24.1  24.1   24.1     0.0      24.1     0.0        0   \n",
      "2  MERC3.SA  24.1  24.1  24.1   24.1     0.0      24.1     0.0        0   \n",
      "3  MERC3.SA  24.1  24.1  24.1   24.1     0.0      24.1     0.0        0   \n",
      "4  MERC3.SA  24.1  24.1  24.1   24.1     0.0      24.1     0.0        0   \n",
      "\n",
      "   rótulos  \n",
      "0      NaN  \n",
      "1      NaN  \n",
      "2      NaN  \n",
      "3      NaN  \n",
      "4      NaN  \n",
      "     symbol  open  high   low  close  volume  adjclose  dividends  Rótulos  \\\n",
      "0  MERC4.SA  8.20  8.20  8.20   8.20       0  7.911718        0.0        0   \n",
      "1  MERC4.SA  8.20  8.20  8.20   8.20       0  7.911718        0.0        0   \n",
      "2  MERC4.SA  8.20  8.20  8.20   8.20       0  7.911718        0.0        0   \n",
      "3  MERC4.SA  8.86  8.86  8.86   8.86     100  8.548515        0.0        0   \n",
      "4  MERC4.SA  8.80  8.80  8.80   8.80     200  8.490625        0.0        0   \n",
      "\n",
      "   rótulos  \n",
      "0      5.0  \n",
      "1      5.0  \n",
      "2      5.0  \n",
      "3      NaN  \n",
      "4      NaN  \n",
      "     symbol  open  high   low  close  volume  adjclose  Rótulos\n",
      "0  MGEL3.SA  75.0  75.0  75.0   75.0     0.0      75.0        0\n",
      "1  MGEL3.SA  75.0  75.0  75.0   75.0     0.0      75.0        0\n",
      "2  MGEL3.SA  75.0  75.0  75.0   75.0     0.0      75.0        0\n",
      "3  MGEL3.SA  75.0  75.0  75.0   75.0     0.0      75.0        0\n",
      "4  MGEL3.SA  75.0  75.0  75.0   75.0     0.0      75.0        0\n",
      "     symbol   open   high    low  close  volume  adjclose  Rótulos  rótulos\n",
      "0  MGEL4.SA  13.60  13.60  13.60  13.60     100     13.60        0      5.0\n",
      "1  MGEL4.SA  13.44  13.65  13.44  13.61     700     13.61        0      5.0\n",
      "2  MGEL4.SA  14.85  14.85  14.85  14.85     100     14.85        0      NaN\n",
      "3  MGEL4.SA  14.85  15.30  14.85  15.30     200     15.30        0      NaN\n",
      "4  MGEL4.SA  15.29  15.30  15.29  15.30    3100     15.30        0      NaN\n",
      "     symbol  open  high   low  close     volume  adjclose  Rótulos  rótulos\n",
      "0  MGLU3.SA  2.46  2.46  2.36   2.38  169697700      2.38        0      5.0\n",
      "1  MGLU3.SA  2.40  2.63  2.32   2.58  199075800      2.58        0      NaN\n",
      "2  MGLU3.SA  2.61  2.63  2.47   2.51  134776000      2.51        0      NaN\n",
      "3  MGLU3.SA  2.44  2.56  2.36   2.44  134029200      2.44        0      1.0\n",
      "4  MGLU3.SA  2.45  2.69  2.44   2.55  204690200      2.55        0      NaN\n",
      "     symbol  open  high   low  close   volume  adjclose  dividends  Rótulos  \\\n",
      "0  MILS3.SA  6.35  6.42  6.14   6.40  1186500  6.272225        0.0        0   \n",
      "1  MILS3.SA  6.38  6.68  6.25   6.51   906500  6.380029        0.0        0   \n",
      "2  MILS3.SA  6.51  6.61  6.35   6.44   653600  6.311427        0.0        0   \n",
      "3  MILS3.SA  6.35  6.63  6.24   6.27   774900  6.144821        0.0        0   \n",
      "4  MILS3.SA  6.28  6.42  5.97   6.36  1250300  6.233024        0.0        0   \n",
      "\n",
      "   rótulos  \n",
      "0      NaN  \n",
      "1      NaN  \n",
      "2      NaN  \n",
      "3      NaN  \n",
      "4      NaN  \n",
      "     symbol  open  high   low  close   volume  adjclose  Rótulos  rótulos\n",
      "0  MLAS3.SA  4.60  4.79  4.49   4.79  1993300      4.79        0      NaN\n",
      "1  MLAS3.SA  4.78  4.79  4.53   4.55  1382300      4.55        0      NaN\n",
      "2  MLAS3.SA  4.62  4.76  4.56   4.62  1345500      4.62        0      NaN\n",
      "3  MLAS3.SA  4.60  4.69  4.49   4.56   861000      4.56        0      NaN\n",
      "4  MLAS3.SA  4.60  4.65  4.39   4.43  1138600      4.43        0      NaN\n",
      "     symbol        open        high         low       close  volume  \\\n",
      "0  MMAQ4.SA  163.860001  163.860001  163.860001  163.860001     0.0   \n",
      "1  MMAQ4.SA  163.860001  163.860001  163.860001  163.860001     0.0   \n",
      "2  MMAQ4.SA  163.860001  163.860001  163.860001  163.860001     0.0   \n",
      "3  MMAQ4.SA  163.860001  163.860001  163.860001  163.860001     0.0   \n",
      "4  MMAQ4.SA  163.860001  163.860001  163.860001  163.860001     0.0   \n",
      "\n",
      "     adjclose  dividends  Rótulos  \n",
      "0  163.860001        0.0        0  \n",
      "1  163.860001        0.0        0  \n",
      "2  163.860001        0.0        0  \n",
      "3  163.860001        0.0        0  \n",
      "4  163.860001        0.0        0  \n",
      "     symbol       open   high        low      close  volume   adjclose  \\\n",
      "0  MNDL3.SA  23.850000  23.85  23.850000  23.850000       0  23.850000   \n",
      "1  MNDL3.SA  23.830000  23.83  22.010000  22.010000     200  22.010000   \n",
      "2  MNDL3.SA  23.760000  23.76  23.469999  23.469999     200  23.469999   \n",
      "3  MNDL3.SA  22.500000  26.48  22.500000  26.150000    8100  26.150000   \n",
      "4  MNDL3.SA  24.059999  27.35  24.000000  24.000000    5600  24.000000   \n",
      "\n",
      "   Rótulos  rótulos  \n",
      "0        0      4.0  \n",
      "1        0      5.0  \n",
      "2        0      5.0  \n",
      "3        0      NaN  \n",
      "4        0      5.0  \n",
      "     symbol  open  high   low  close  volume  adjclose  Rótulos  rótulos\n",
      "0  MNPR3.SA  6.71  6.88  6.20   6.20   19400      6.20        0      5.0\n",
      "1  MNPR3.SA  6.50  6.50  6.30   6.49   10000      6.49        0      NaN\n",
      "2  MNPR3.SA  6.03  6.99  6.03   6.99    7700      6.99        0      NaN\n",
      "3  MNPR3.SA  6.40  6.90  6.40   6.84     400      6.84        0      NaN\n",
      "4  MNPR3.SA  6.50  6.80  6.50   6.80     400      6.80        0      NaN\n",
      "     symbol        open       high        low  close  volume    adjclose  \\\n",
      "0  MOAR3.SA  475.000000  475.00000  475.00000  475.0     100  467.566040   \n",
      "1  MOAR3.SA  459.000000  475.00000  459.00000  475.0     300  467.566040   \n",
      "2  MOAR3.SA  455.029999  475.00000  450.00000  475.0    2400  467.566040   \n",
      "3  MOAR3.SA  455.010010  475.00000  446.01001  475.0    6800  467.566040   \n",
      "4  MOAR3.SA  459.989990  466.98999  448.00000  465.0    8300  457.722565   \n",
      "\n",
      "   dividends  Rótulos  \n",
      "0        0.0        0  \n",
      "1        0.0        0  \n",
      "2        0.0        0  \n",
      "3        0.0        0  \n",
      "4        0.0        0  \n",
      "     symbol  open  high   low  close  volume  adjclose  dividends  Rótulos  \\\n",
      "0  MODL3.SA  2.85  2.85  2.60   2.73    3200  2.654847        0.0        0   \n",
      "1  MODL3.SA  2.73  2.76  2.65   2.75     800  2.674296        0.0        0   \n",
      "2  MODL3.SA  2.78  2.78  2.55   2.65    1900  2.577049        0.0        0   \n",
      "3  MODL3.SA  2.75  2.75  2.56   2.56    1400  2.489527        0.0        0   \n",
      "4  MODL3.SA  2.74  2.74  2.61   2.70    2300  2.625673        0.0        0   \n",
      "\n",
      "   rótulos  \n",
      "0      NaN  \n",
      "1      5.0  \n",
      "2      4.0  \n",
      "3      4.0  \n",
      "4      2.0  \n",
      "     symbol   open   high    low  close   volume   adjclose  dividends  \\\n",
      "0  MOVI3.SA  13.98  14.11  13.70  14.00  1984100  13.229616        0.0   \n",
      "1  MOVI3.SA  14.05  14.32  13.71  14.18  1575700  13.399713        0.0   \n",
      "2  MOVI3.SA  14.30  14.38  13.92  14.07  1990100  13.295764        0.0   \n",
      "3  MOVI3.SA  13.93  14.06  13.72  13.94  2334400  13.172918        0.0   \n",
      "4  MOVI3.SA  14.04  14.32  13.78  13.97  2873900  13.201267        0.0   \n",
      "\n",
      "   Rótulos  rótulos  \n",
      "0        0      NaN  \n",
      "1        0      NaN  \n",
      "2        0      NaN  \n",
      "3        0      NaN  \n",
      "4        0      NaN  \n",
      "     symbol   open   high    low  close    volume   adjclose  dividends  \\\n",
      "0  MRFG3.SA  13.36  13.37  12.78  13.31   7248300  11.194652        0.0   \n",
      "1  MRFG3.SA  13.26  13.27  12.69  12.81   7661700  10.774116        0.0   \n",
      "2  MRFG3.SA  12.90  13.18  12.44  12.61   9293800  10.605901        0.0   \n",
      "3  MRFG3.SA  12.32  12.97  12.28  12.68  13464400  10.664777        0.0   \n",
      "4  MRFG3.SA  12.77  13.52  12.44  13.06  11957100  10.984384        0.0   \n",
      "\n",
      "   Rótulos  rótulos  \n",
      "0        0      5.0  \n",
      "1        0      5.0  \n",
      "2        0      5.0  \n",
      "3        0      5.0  \n",
      "4        0      5.0  \n",
      "      symbol   open   high    low  close  volume   adjclose  dividends  \\\n",
      "0  MRSA3B.SA  38.23  38.23  38.23  38.23     0.0  37.370472        0.0   \n",
      "1  MRSA3B.SA  38.23  38.23  38.23  38.23     0.0  37.370472        0.0   \n",
      "2  MRSA3B.SA  38.23  38.23  38.23  38.23     0.0  37.370472        0.0   \n",
      "3  MRSA3B.SA  38.23  38.23  38.23  38.23     0.0  37.370472        0.0   \n",
      "4  MRSA3B.SA  38.23  38.23  38.23  38.23     0.0  37.370472        0.0   \n",
      "\n",
      "   Rótulos  rótulos  \n",
      "0        0      NaN  \n",
      "1        0      NaN  \n",
      "2        0      NaN  \n",
      "3        0      NaN  \n",
      "4        0      NaN  \n",
      "      symbol  open  high   low  close  volume   adjclose  dividends  Rótulos  \\\n",
      "0  MRSA5B.SA  30.0  30.0  30.0   30.0     0.0  29.285536        0.0        0   \n",
      "1  MRSA5B.SA  30.0  30.0  30.0   30.0     0.0  29.285536        0.0        0   \n",
      "2  MRSA5B.SA  30.0  30.0  30.0   30.0     0.0  29.285536        0.0        0   \n",
      "3  MRSA5B.SA  30.0  30.0  30.0   30.0     0.0  29.285536        0.0        0   \n",
      "4  MRSA5B.SA  30.0  30.0  30.0   30.0     0.0  29.285536        0.0        0   \n",
      "\n",
      "   rótulos  \n",
      "0      NaN  \n",
      "1      NaN  \n",
      "2      NaN  \n",
      "3      NaN  \n",
      "4      NaN  \n",
      "      symbol       open       high        low      close  volume   adjclose  \\\n",
      "0  MRSA6B.SA  30.969999  30.969999  30.969999  30.969999     0.0  30.106415   \n",
      "1  MRSA6B.SA  30.969999  30.969999  30.969999  30.969999     0.0  30.106415   \n",
      "2  MRSA6B.SA  30.969999  30.969999  30.969999  30.969999     0.0  30.106415   \n",
      "3  MRSA6B.SA  30.969999  30.969999  30.969999  30.969999     0.0  30.106415   \n",
      "4  MRSA6B.SA  30.969999  30.969999  30.969999  30.969999     0.0  30.106415   \n",
      "\n",
      "   dividends  Rótulos  rótulos  \n",
      "0        0.0        0      NaN  \n",
      "1        0.0        0      NaN  \n",
      "2        0.0        0      NaN  \n",
      "3        0.0        0      NaN  \n",
      "4        0.0        0      NaN  \n",
      "     symbol  open  high   low  close    volume  adjclose  dividends  Rótulos  \\\n",
      "0  MRVE3.SA  8.07  8.17  7.77   8.15   7602700  7.828196        0.0        0   \n",
      "1  MRVE3.SA  8.15  8.18  7.91   7.94   6582800  7.626488        0.0        0   \n",
      "2  MRVE3.SA  8.03  8.11  7.75   8.02  12269900  7.703329        0.0        0   \n",
      "3  MRVE3.SA  7.90  8.39  7.85   8.15   4952600  7.828196        0.0        0   \n",
      "4  MRVE3.SA  8.16  8.26  8.04   8.12   5460400  7.799380        0.0        0   \n",
      "\n",
      "   rótulos  \n",
      "0      NaN  \n",
      "1      2.0  \n",
      "2      NaN  \n",
      "3      NaN  \n",
      "4      NaN  \n",
      "     symbol       open       high        low      close  volume   adjclose  \\\n",
      "0  MSPA3.SA  50.009998  50.009998  50.009998  50.009998     0.0  49.950073   \n",
      "1  MSPA3.SA  50.009998  50.009998  50.009998  50.009998     0.0  49.950073   \n",
      "2  MSPA3.SA  50.009998  50.009998  50.009998  50.009998     0.0  49.950073   \n",
      "3  MSPA3.SA  50.009998  50.009998  50.009998  50.009998     0.0  49.950073   \n",
      "4  MSPA3.SA  50.009998  50.009998  50.009998  50.009998     0.0  49.950073   \n",
      "\n",
      "   dividends  Rótulos  \n",
      "0        0.0        0  \n",
      "1        0.0        0  \n",
      "2        0.0        0  \n",
      "3        0.0        0  \n",
      "4        0.0        0  \n",
      "     symbol  open  high   low  close  volume   adjclose  dividends  Rótulos\n",
      "0  MSPA4.SA  46.5  46.5  46.5   46.5     0.0  46.430523        0.0        0\n",
      "1  MSPA4.SA  46.5  46.5  46.5   46.5     0.0  46.430523        0.0        0\n",
      "2  MSPA4.SA  46.5  46.5  46.5   46.5     0.0  46.430523        0.0        0\n",
      "3  MSPA4.SA  46.5  46.5  46.5   46.5     0.0  46.430523        0.0        0\n",
      "4  MSPA4.SA  46.5  46.5  46.5   46.5     0.0  46.430523        0.0        0\n",
      "     symbol        open        high         low       close  volume  \\\n",
      "0  MTIG3.SA  156.300003  156.300003  156.300003  156.300003     0.0   \n",
      "1  MTIG3.SA  156.300003  156.300003  156.300003  156.300003     0.0   \n",
      "2  MTIG3.SA  156.300003  156.300003  156.300003  156.300003     0.0   \n",
      "3  MTIG3.SA  156.300003  156.300003  156.300003  156.300003     0.0   \n",
      "4  MTIG3.SA  156.300003  156.300003  156.300003  156.300003     0.0   \n",
      "\n",
      "     adjclose  Rótulos  \n",
      "0  156.300003        0  \n",
      "1  156.300003        0  \n",
      "2  156.300003        0  \n",
      "3  156.300003        0  \n",
      "4  156.300003        0  \n",
      "     symbol  open  high   low  close  volume  adjclose  dividends  Rótulos  \\\n",
      "0  MTRE3.SA  4.51  4.54  4.38   4.54  336500  4.117159        0.0        0   \n",
      "1  MTRE3.SA  4.55  4.62  4.39   4.47  264800  4.053679        0.0        0   \n",
      "2  MTRE3.SA  4.50  4.55  4.27   4.30  281700  3.899512        0.0        0   \n",
      "3  MTRE3.SA  4.18  4.40  4.15   4.33  416800  3.926717        0.0        0   \n",
      "4  MTRE3.SA  4.37  4.53  4.34   4.51  452900  4.089953        0.0        0   \n",
      "\n",
      "   rótulos  \n",
      "0      5.0  \n",
      "1      5.0  \n",
      "2      5.0  \n",
      "3      5.0  \n",
      "4      3.0  \n",
      "     symbol  open  high   low  close  volume   adjclose  dividends  Rótulos  \\\n",
      "0  MTSA3.SA  70.0  70.0  70.0   70.0     0.0  67.454224        0.0        0   \n",
      "1  MTSA3.SA  70.0  70.0  70.0   70.0     0.0  67.454224        0.0        0   \n",
      "2  MTSA3.SA  70.0  70.0  70.0   70.0     0.0  67.744553        0.3        0   \n",
      "3  MTSA3.SA  70.0  70.0  70.0   70.0     0.0  67.744553        0.0        0   \n",
      "4  MTSA3.SA  70.0  70.0  70.0   70.0     0.0  67.744553        0.0        0   \n",
      "\n",
      "   rótulos  \n",
      "0      NaN  \n",
      "1      NaN  \n",
      "2      NaN  \n",
      "3      NaN  \n",
      "4      NaN  \n",
      "     symbol       open       high        low      close  volume   adjclose  \\\n",
      "0  MTSA4.SA  38.939999  38.970001  38.939999  38.970001     200  36.286125   \n",
      "1  MTSA4.SA  38.500000  38.500000  38.000000  38.000000    2000  35.382931   \n",
      "2  MTSA4.SA  37.230000  38.450001  37.000000  37.000000    2900  34.753605   \n",
      "3  MTSA4.SA  37.130001  38.000000  37.000000  37.860001    1900  35.561390   \n",
      "4  MTSA4.SA  37.310001  37.380001  36.029999  36.029999    6800  33.842499   \n",
      "\n",
      "   dividends  Rótulos  rótulos  \n",
      "0       0.00        0      NaN  \n",
      "1       0.00        0      NaN  \n",
      "2       0.33        0      NaN  \n",
      "3       0.00        0      NaN  \n",
      "4       0.00        0      5.0  \n",
      "     symbol       open       high        low      close   volume   adjclose  \\\n",
      "0  MULT3.SA  22.059999  22.610001  21.900000  22.370001  4139500  21.560085   \n",
      "1  MULT3.SA  22.400000  22.820000  22.160000  22.629999  4224600  21.810667   \n",
      "2  MULT3.SA  22.709999  23.100000  22.389999  22.580000  3780400  21.762480   \n",
      "3  MULT3.SA  22.450001  23.299999  22.330000  23.129999  4359800  22.292566   \n",
      "4  MULT3.SA  23.160000  23.400000  22.959999  23.080000  2417100  22.244377   \n",
      "\n",
      "   dividends  Rótulos  rótulos  \n",
      "0        0.0        0      NaN  \n",
      "1        0.0        0      NaN  \n",
      "2        0.0        0      NaN  \n",
      "3        0.0        0      NaN  \n",
      "4        0.0        0      NaN  \n",
      "     symbol   open   high    low  close  volume  adjclose  Rótulos  rótulos\n",
      "0  MWET3.SA  16.99  16.99  16.99  16.99     0.0     16.99        0      5.0\n",
      "1  MWET3.SA  16.99  16.99  16.99  16.99     0.0     16.99        0      5.0\n",
      "2  MWET3.SA  18.99  18.99  18.99  18.99   100.0     18.99        0      NaN\n",
      "3  MWET3.SA  18.99  18.99  18.99  18.99     0.0     18.99        0      NaN\n",
      "4  MWET3.SA  18.99  18.99  18.99  18.99     0.0     18.99        0      NaN\n",
      "     symbol   open   high   low  close  volume  adjclose  Rótulos  rótulos\n",
      "0  MWET4.SA  10.00  10.00  9.40  10.00    3300     10.00        0      NaN\n",
      "1  MWET4.SA   9.99  10.00  9.86   9.99     700      9.99        0      NaN\n",
      "2  MWET4.SA   9.56   9.56  9.56   9.56     200      9.56        0      NaN\n",
      "3  MWET4.SA   9.55   9.56  9.47   9.50    2200      9.50        0      NaN\n",
      "4  MWET4.SA   9.60   9.60  9.60   9.60    1900      9.60        0      NaN\n",
      "     symbol   open   high    low  close   volume   adjclose  dividends  \\\n",
      "0  MYPK3.SA  15.77  15.80  15.26  15.69  1093000  14.831286        0.0   \n",
      "1  MYPK3.SA  15.66  15.80  15.23  15.41   677500  14.566611        0.0   \n",
      "2  MYPK3.SA  15.46  15.63  14.86  15.11  1060500  14.283031        0.0   \n",
      "3  MYPK3.SA  14.89  15.60  14.89  15.42  1389800  14.576064        0.0   \n",
      "4  MYPK3.SA  15.52  15.87  15.49  15.71  1684300  14.850192        0.0   \n",
      "\n",
      "   Rótulos  rótulos  \n",
      "0        0      5.0  \n",
      "1        0      5.0  \n",
      "2        0      5.0  \n",
      "3        0      5.0  \n",
      "4        0      1.0  \n",
      "     symbol       open       high        low      close   volume   adjclose  \\\n",
      "0  NEOE3.SA  16.530001  16.650000  16.389999  16.480000  1709300  15.454656   \n",
      "1  NEOE3.SA  16.410000  16.670000  16.230000  16.549999   910400  15.520301   \n",
      "2  NEOE3.SA  16.650000  16.780001  16.240000  16.260000   885900  15.248344   \n",
      "3  NEOE3.SA  16.200001  16.389999  16.080000  16.180000  1072800  15.173321   \n",
      "4  NEOE3.SA  16.190001  16.209999  15.950000  16.180000  1483500  15.173321   \n",
      "\n",
      "   dividends  Rótulos  rótulos  \n",
      "0        0.0        0      NaN  \n",
      "1        0.0        0      NaN  \n",
      "2        0.0        0      NaN  \n",
      "3        0.0        0      NaN  \n",
      "4        0.0        0      NaN  \n",
      "     symbol  open  high   low  close  volume  adjclose  splits  Rótulos  \\\n",
      "0  NEXP3.SA  25.5  26.5  25.0   26.0    6958      26.0     0.0        0   \n",
      "1  NEXP3.SA  26.0  28.0  26.0   27.5    7654      27.5     0.0        0   \n",
      "2  NEXP3.SA  27.5  28.0  26.5   28.0    4206      28.0     0.0        0   \n",
      "3  NEXP3.SA  28.5  29.0  27.0   29.0    5008      29.0     0.0        0   \n",
      "4  NEXP3.SA  28.5  30.5  28.5   30.0    9008      30.0     0.0        0   \n",
      "\n",
      "   rótulos  \n",
      "0      5.0  \n",
      "1      5.0  \n",
      "2      4.0  \n",
      "3      NaN  \n",
      "4      NaN  \n",
      "     symbol  open  high   low  close   volume  adjclose  dividends  Rótulos  \\\n",
      "0  NGRD3.SA  2.00  2.06  1.98   2.01  1422000  1.988301        0.0        0   \n",
      "1  NGRD3.SA  2.01  2.09  1.99   2.06  1112600  2.037761        0.0        0   \n",
      "2  NGRD3.SA  2.07  2.14  2.05   2.05  1106400  2.027869        0.0        0   \n",
      "3  NGRD3.SA  2.04  2.11  2.00   2.00  1187500  1.978409        0.0        0   \n",
      "4  NGRD3.SA  2.01  2.07  2.01   2.04   688200  2.017977        0.0        0   \n",
      "\n",
      "   rótulos  \n",
      "0      NaN  \n",
      "1      NaN  \n",
      "2      NaN  \n",
      "3      NaN  \n",
      "4      NaN  \n",
      "     symbol  open  high   low  close  volume  adjclose  Rótulos  rótulos\n",
      "0  NINJ3.SA  3.00  3.00  2.81   2.85  434300      2.85        0      NaN\n",
      "1  NINJ3.SA  2.92  2.95  2.80   2.80  170200      2.80        0      NaN\n",
      "2  NINJ3.SA  2.88  2.90  2.69   2.79  327500      2.79        0      NaN\n",
      "3  NINJ3.SA  2.78  2.92  2.67   2.85  401400      2.85        0      NaN\n",
      "4  NINJ3.SA  2.85  2.90  2.73   2.73  391000      2.73        0      NaN\n",
      "     symbol  open  high   low  close  volume  adjclose  Rótulos  rótulos\n",
      "0  NORD3.SA  8.05  8.10  8.05    8.1   700.0       8.1        0      NaN\n",
      "1  NORD3.SA  8.10  8.10  8.10    8.1     0.0       8.1        0      NaN\n",
      "2  NORD3.SA  8.01  8.01  8.00    8.0   600.0       8.0        0      NaN\n",
      "3  NORD3.SA  8.00  8.00  8.00    8.0     0.0       8.0        0      NaN\n",
      "4  NORD3.SA  8.00  8.00  8.00    8.0   100.0       8.0        0      NaN\n",
      "     symbol   open   high    low  close    volume  adjclose  Rótulos  rótulos\n",
      "0  NTCO3.SA  14.58  14.71  14.11  14.45  33146300     14.45        0      NaN\n",
      "1  NTCO3.SA  14.40  14.44  13.32  13.35  18885000     13.35        0      5.0\n",
      "2  NTCO3.SA  13.54  13.92  13.29  13.83  11369200     13.83        0      NaN\n",
      "3  NTCO3.SA  13.51  14.84  13.38  14.35  12274200     14.35        0      NaN\n",
      "4  NTCO3.SA  14.38  15.02  14.35  14.62   8200700     14.62        0      NaN\n",
      "     symbol   open   high    low  close  volume    adjclose  dividends  \\\n",
      "0  ODER4.SA  190.0  190.0  190.0  190.0     0.0  187.317627        0.0   \n",
      "1  ODER4.SA  190.0  190.0  190.0  190.0     0.0  187.317627        0.0   \n",
      "2  ODER4.SA  190.0  190.0  190.0  190.0     0.0  187.317627        0.0   \n",
      "3  ODER4.SA  190.0  190.0  190.0  190.0     0.0  187.317627        0.0   \n",
      "4  ODER4.SA  190.0  190.0  190.0  190.0     0.0  187.317627        0.0   \n",
      "\n",
      "   Rótulos  rótulos  \n",
      "0        0      NaN  \n",
      "1        0      NaN  \n",
      "2        0      NaN  \n",
      "3        0      NaN  \n",
      "4        0      NaN  \n",
      "     symbol  open  high   low  close   volume  adjclose  dividends  Rótulos  \\\n",
      "0  ODPV3.SA  9.35  9.74  9.34   9.74  1716200  9.563402        0.0        0   \n",
      "1  ODPV3.SA  9.63  9.70  9.48   9.50   565500  9.327755        0.0        0   \n",
      "2  ODPV3.SA  9.53  9.55  9.25   9.37   620900  9.200111        0.0        0   \n",
      "3  ODPV3.SA  9.30  9.32  9.21   9.28   633300  9.111743        0.0        0   \n",
      "4  ODPV3.SA  9.30  9.31  9.17   9.23   655400  9.062651        0.0        0   \n",
      "\n",
      "   rótulos  \n",
      "0      NaN  \n",
      "1      NaN  \n",
      "2      NaN  \n",
      "3      NaN  \n",
      "4      NaN  \n",
      "     symbol       open       high        low      close  volume   adjclose  \\\n",
      "0  OFSA3.SA  20.799999  20.799999  20.450001  20.450001   11300  19.891979   \n",
      "1  OFSA3.SA  20.969999  20.969999  20.299999  20.760000    7500  20.193520   \n",
      "2  OFSA3.SA  20.590000  20.900000  20.420000  20.650000   11200  20.086519   \n",
      "3  OFSA3.SA  20.320000  20.719999  20.200001  20.200001   11900  19.648800   \n",
      "4  OFSA3.SA  20.570000  20.570000  20.299999  20.299999    1800  19.746071   \n",
      "\n",
      "   dividends  Rótulos  rótulos  \n",
      "0        0.0        0      NaN  \n",
      "1        0.0        0      NaN  \n",
      "2        0.0        0      NaN  \n",
      "3        0.0        0      NaN  \n",
      "4        0.0        0      NaN  \n",
      "     symbol  open  high  low  close   volume  adjclose  splits  Rótulos  \\\n",
      "0  OIBR3.SA   5.0   5.1  4.8    4.9  8831050       4.9     0.0        0   \n",
      "1  OIBR3.SA   4.9   5.1  4.7    5.0  4947850       5.0     0.0        0   \n",
      "2  OIBR3.SA   5.0   5.1  4.8    4.9  4929230       4.9     0.0        0   \n",
      "3  OIBR3.SA   4.8   5.0  4.7    5.0  4473160       5.0     0.0        0   \n",
      "4  OIBR3.SA   5.0   5.1  4.8    5.0  4500520       5.0     0.0        0   \n",
      "\n",
      "   rótulos  \n",
      "0      NaN  \n",
      "1      5.0  \n",
      "2      5.0  \n",
      "3      5.0  \n",
      "4      5.0  \n",
      "     symbol  open  high  low  close  volume  adjclose  splits  Rótulos  \\\n",
      "0  OIBR4.SA  10.0  10.0  9.5    9.7   95150       9.7     0.0        0   \n",
      "1  OIBR4.SA   9.8  10.1  9.5   10.1   59850      10.1     0.0        0   \n",
      "2  OIBR4.SA  10.1  10.1  9.7    9.8   63910       9.8     0.0        0   \n",
      "3  OIBR4.SA   9.9   9.9  9.5    9.8   74650       9.8     0.0        0   \n",
      "4  OIBR4.SA   9.9  10.0  9.7    9.7   28650       9.7     0.0        0   \n",
      "\n",
      "   rótulos  \n",
      "0      NaN  \n",
      "1      5.0  \n",
      "2      5.0  \n",
      "3      5.0  \n",
      "4      5.0  \n",
      "     symbol  open  high   low  close   volume  adjclose  Rótulos  rótulos\n",
      "0  ONCO3.SA  4.36  4.39  4.12   4.26  1144800      4.26        0      5.0\n",
      "1  ONCO3.SA  4.26  4.34  4.03   4.21   870600      4.21        0      5.0\n",
      "2  ONCO3.SA  4.25  4.42  4.17   4.42  1229900      4.42        0      NaN\n",
      "3  ONCO3.SA  4.34  4.60  4.29   4.45  1652700      4.45        0      NaN\n",
      "4  ONCO3.SA  4.46  4.70  4.40   4.63  1333200      4.63        0      NaN\n",
      "     symbol  open  high   low  close  volume  adjclose  Rótulos  rótulos\n",
      "0  OPCT3.SA  1.83  1.94  1.78   1.90  829000      1.90        0      NaN\n",
      "1  OPCT3.SA  1.93  1.93  1.83   1.88  360200      1.88        0      NaN\n",
      "2  OPCT3.SA  1.89  1.89  1.85   1.86  212600      1.86        0      NaN\n",
      "3  OPCT3.SA  1.86  1.94  1.85   1.85  843400      1.85        0      NaN\n",
      "4  OPCT3.SA  1.89  1.94  1.85   1.94  473500      1.94        0      NaN\n",
      "     symbol       open       high        low      close  volume   adjclose  \\\n",
      "0  ORVR3.SA  28.700001  29.120001  28.070000  28.750000  311700  28.750000   \n",
      "1  ORVR3.SA  28.940001  29.129999  28.150000  28.410000  203200  28.410000   \n",
      "2  ORVR3.SA  28.510000  28.780001  27.590000  27.709999  317200  27.709999   \n",
      "3  ORVR3.SA  27.219999  28.100000  26.879999  27.799999  306600  27.799999   \n",
      "4  ORVR3.SA  28.010000  28.250000  27.549999  27.889999  427600  27.889999   \n",
      "\n",
      "   Rótulos  rótulos  \n",
      "0        0      NaN  \n",
      "1        0      NaN  \n",
      "2        0      NaN  \n",
      "3        0      NaN  \n",
      "4        0      NaN  \n",
      "     symbol  open  high   low  close  volume  adjclose  Rótulos  rótulos\n",
      "0  OSXB3.SA  5.90  5.90  5.62   5.84    6900      5.84        0      NaN\n",
      "1  OSXB3.SA  6.00  6.05  6.00   6.05    1200      6.05        0      NaN\n",
      "2  OSXB3.SA  5.87  6.03  5.78   5.78    2500      5.78        0      NaN\n",
      "3  OSXB3.SA  5.90  5.99  5.72   5.72    1800      5.72        0      NaN\n",
      "4  OSXB3.SA  5.72  5.74  5.45   5.54   15800      5.54        0      NaN\n",
      "     symbol       open       high    low      close    volume   adjclose  \\\n",
      "0  PARD3.SA  17.049999  18.790001  16.60  18.790001  714900.0  18.457838   \n",
      "1  PARD3.SA  18.780001  18.879999  17.92  18.879999  205400.0  18.546246   \n",
      "2  PARD3.SA  18.620001  18.660000  17.65  17.670000  373800.0  17.357634   \n",
      "3  PARD3.SA  17.320000  18.299999  17.32  18.059999  149100.0  17.740740   \n",
      "4  PARD3.SA  18.190001  18.410000  18.01  18.080000   87000.0  17.760387   \n",
      "\n",
      "   dividends  Rótulos  rótulos  \n",
      "0        0.0        0      NaN  \n",
      "1        0.0        0      NaN  \n",
      "2        0.0        0      NaN  \n",
      "3        0.0        0      NaN  \n",
      "4        0.0        0      5.0  \n",
      "     symbol       open       high        low      close  volume   adjclose  \\\n",
      "0  PATI3.SA  69.470001  69.470001  69.470001  69.470001   100.0  68.806755   \n",
      "1  PATI3.SA  69.470001  69.470001  69.470001  69.470001     0.0  68.806755   \n",
      "2  PATI3.SA  69.470001  69.470001  69.470001  69.470001     0.0  68.806755   \n",
      "3  PATI3.SA  69.470001  69.470001  69.470001  69.470001     0.0  68.806755   \n",
      "4  PATI3.SA  69.470001  69.470001  69.470001  69.470001     0.0  68.806755   \n",
      "\n",
      "   dividends  Rótulos  rótulos  \n",
      "0        0.0        0      NaN  \n",
      "1        0.0        0      NaN  \n",
      "2        0.0        0      NaN  \n",
      "3        0.0        0      NaN  \n",
      "4        0.0        0      NaN  \n",
      "     symbol  open  high   low  close  volume   adjclose  dividends  Rótulos  \\\n",
      "0  PATI4.SA  54.0  54.0  54.0   54.0       0  51.353279        0.0        0   \n",
      "1  PATI4.SA  54.0  54.0  54.0   54.0       0  51.353279        0.0        0   \n",
      "2  PATI4.SA  54.0  54.0  54.0   54.0       0  51.353279        0.0        0   \n",
      "3  PATI4.SA  54.0  54.0  54.0   54.0       0  51.353279        0.0        0   \n",
      "4  PATI4.SA  54.0  54.0  54.0   54.0       0  51.353279        0.0        0   \n",
      "\n",
      "   rótulos  \n",
      "0      NaN  \n",
      "1      NaN  \n",
      "2      NaN  \n",
      "3      NaN  \n",
      "4      NaN  \n",
      "     symbol       open       high        low      close   volume   adjclose  \\\n",
      "0  PCAR3.SA  17.990000  18.000000  17.600000  17.889999  3312900  17.889999   \n",
      "1  PCAR3.SA  17.889999  17.940001  16.650000  16.719999  2647600  16.719999   \n",
      "2  PCAR3.SA  16.870001  16.980000  16.420000  16.660000  3440200  16.660000   \n",
      "3  PCAR3.SA  16.459999  16.650000  16.280001  16.299999  2068400  16.299999   \n",
      "4  PCAR3.SA  16.370001  16.840000  16.280001  16.690001  1901100  16.690001   \n",
      "\n",
      "   Rótulos  rótulos  \n",
      "0        0      NaN  \n",
      "1        0      NaN  \n",
      "2        0      NaN  \n",
      "3        0      NaN  \n",
      "4        0      NaN  \n",
      "     symbol  open  high   low  close   volume  adjclose  splits  Rótulos  \\\n",
      "0  PDGR3.SA  1.11  1.13  1.08   1.09   358100      1.09     0.0        0   \n",
      "1  PDGR3.SA  1.08  1.09  1.04   1.05   364600      1.05     0.0        0   \n",
      "2  PDGR3.SA  1.05  1.09  1.04   1.05   427800      1.05     0.0        0   \n",
      "3  PDGR3.SA  1.05  1.07  1.03   1.04   510900      1.04     0.0        0   \n",
      "4  PDGR3.SA  1.05  1.09  1.02   1.04  1009900      1.04     0.0        0   \n",
      "\n",
      "   rótulos  \n",
      "0      NaN  \n",
      "1      NaN  \n",
      "2      NaN  \n",
      "3      NaN  \n",
      "4      NaN  \n",
      "     symbol  open  high   low  close  volume  adjclose  Rótulos  rótulos\n",
      "0  PDTC3.SA  3.07  3.07  2.90   2.99   50600      2.99        0      NaN\n",
      "1  PDTC3.SA  3.12  3.13  2.93   3.13   42100      3.13        0      NaN\n",
      "2  PDTC3.SA  3.14  3.14  2.95   2.95   39600      2.95        0      NaN\n",
      "3  PDTC3.SA  2.94  3.10  2.88   3.10   41500      3.10        0      NaN\n",
      "4  PDTC3.SA  3.14  3.14  2.97   3.10   35600      3.10        0      NaN\n",
      "     symbol       open       high        low      close  volume   adjclose  \\\n",
      "0  PEAB3.SA  52.200001  52.200001  52.000000  52.000000   900.0  51.449150   \n",
      "1  PEAB3.SA  52.000000  52.000000  52.000000  52.000000   200.0  51.449150   \n",
      "2  PEAB3.SA  53.000000  53.000000  53.000000  53.000000   100.0  52.438557   \n",
      "3  PEAB3.SA  50.130001  50.130001  50.130001  50.130001   100.0  49.598961   \n",
      "4  PEAB3.SA  50.139999  50.150002  50.139999  50.139999   300.0  49.608852   \n",
      "\n",
      "   dividends  Rótulos  rótulos  \n",
      "0        0.0        0      NaN  \n",
      "1        0.0        0      NaN  \n",
      "2        0.0        0      NaN  \n",
      "3        0.0        0      NaN  \n",
      "4        0.0        0      NaN  \n",
      "     symbol       open       high        low      close  volume  adjclose  \\\n",
      "0  PEAB4.SA  71.010002  71.010002  71.010002  71.010002     0.0  70.51342   \n",
      "1  PEAB4.SA  71.010002  71.010002  71.010002  71.010002     0.0  70.51342   \n",
      "2  PEAB4.SA  71.010002  71.010002  71.010002  71.010002     0.0  70.51342   \n",
      "3  PEAB4.SA  71.010002  71.010002  71.010002  71.010002     0.0  70.51342   \n",
      "4  PEAB4.SA  71.010002  71.010002  71.010002  71.010002     0.0  70.51342   \n",
      "\n",
      "   dividends  Rótulos  rótulos  \n",
      "0        0.0        0      5.0  \n",
      "1        0.0        0      5.0  \n",
      "2        0.0        0      5.0  \n",
      "3        0.0        0      5.0  \n",
      "4        0.0        0      5.0  \n",
      "     symbol       open       high        low      close    volume   adjclose  \\\n",
      "0  PETR3.SA  31.100000  31.410000  28.840000  29.930000  37348400  18.734207   \n",
      "1  PETR3.SA  28.790001  30.680000  28.570000  30.190001  10868300  18.896950   \n",
      "2  PETR3.SA  30.650000  30.770000  29.639999  29.870001  23224300  18.696651   \n",
      "3  PETR3.SA  29.360001  30.320000  29.040001  29.730000  13553800  18.609018   \n",
      "4  PETR3.SA  29.770000  30.200001  28.799999  29.100000  14734000  18.214684   \n",
      "\n",
      "   dividends  Rótulos  rótulos  \n",
      "0        0.0        0      5.0  \n",
      "1        0.0        0      5.0  \n",
      "2        0.0        0      5.0  \n",
      "3        0.0        0      5.0  \n",
      "4        0.0        0      5.0  \n",
      "     symbol       open       high        low      close     volume   adjclose  \\\n",
      "0  PETR4.SA  28.170000  28.450001  26.129999  27.309999  184606500  16.253057   \n",
      "1  PETR4.SA  26.020000  28.250000  25.910000  27.620001   92581800  16.437550   \n",
      "2  PETR4.SA  27.799999  28.160000  26.690001  27.070000   85179500  16.110224   \n",
      "3  PETR4.SA  26.580000  27.549999  26.389999  26.990000   57874700  16.062614   \n",
      "4  PETR4.SA  26.980000  27.379999  26.120001  26.490000   69262300  15.765049   \n",
      "\n",
      "   dividends  Rótulos  rótulos  \n",
      "0        0.0        0      5.0  \n",
      "1        0.0        0      5.0  \n",
      "2        0.0        0      5.0  \n",
      "3        0.0        0      5.0  \n",
      "4        0.0        0      5.0  \n",
      "     symbol   open   high    low  close    volume   adjclose  dividends  \\\n",
      "0  PETZ3.SA  10.15  10.63   9.86  10.47  12115500  10.429333        0.0   \n",
      "1  PETZ3.SA  10.46  10.69  10.13  10.52   5065400  10.479138        0.0   \n",
      "2  PETZ3.SA  10.65  10.99  10.39  10.52  11117700  10.479138        0.0   \n",
      "3  PETZ3.SA  10.30  10.90  10.22  10.71   6980100  10.668400        0.0   \n",
      "4  PETZ3.SA  10.80  11.43  10.67  11.38   8158700  11.335798        0.0   \n",
      "\n",
      "   Rótulos  rótulos  \n",
      "0        0      NaN  \n",
      "1        0      NaN  \n",
      "2        0      NaN  \n",
      "3        0      NaN  \n",
      "4        0      NaN  \n",
      "     symbol  open  high   low  close  volume  adjclose  dividends  Rótulos  \\\n",
      "0  PFRM3.SA  3.40  3.40  3.26   3.36  126500  3.194089        0.0        0   \n",
      "1  PFRM3.SA  3.36  3.49  3.26   3.38  143400  3.213101        0.0        0   \n",
      "2  PFRM3.SA  3.38  3.43  3.30   3.35   75700  3.184582        0.0        0   \n",
      "3  PFRM3.SA  3.31  3.40  3.30   3.35   53800  3.184582        0.0        0   \n",
      "4  PFRM3.SA  3.35  3.42  3.24   3.32  148100  3.156064        0.0        0   \n",
      "\n",
      "   rótulos  \n",
      "0      NaN  \n",
      "1      NaN  \n",
      "2      NaN  \n",
      "3      NaN  \n",
      "4      5.0  \n",
      "     symbol  open  high   low  close  volume  adjclose  dividends  Rótulos  \\\n",
      "0  PGMN3.SA  4.67  4.81  4.59   4.73  961900  4.538918        0.0        0   \n",
      "1  PGMN3.SA  4.74  4.86  4.65   4.75  476500  4.558110        0.0        0   \n",
      "2  PGMN3.SA  4.75  4.92  4.62   4.67  498700  4.481342        0.0        0   \n",
      "3  PGMN3.SA  4.61  4.84  4.53   4.77  384400  4.577302        0.0        0   \n",
      "4  PGMN3.SA  4.80  4.86  4.72   4.77  702900  4.577302        0.0        0   \n",
      "\n",
      "   rótulos  \n",
      "0      NaN  \n",
      "1      NaN  \n",
      "2      NaN  \n",
      "3      NaN  \n",
      "4      NaN  \n",
      "     symbol  open  high   low  close  volume  adjclose  dividends  Rótulos  \\\n",
      "0  PINE4.SA  1.05  1.07  1.01   1.06  111900  1.023754        0.0        0   \n",
      "1  PINE4.SA  1.05  1.14  1.03   1.05  162900  1.014096        0.0        0   \n",
      "2  PINE4.SA  1.06  1.10  1.06   1.08   86900  1.043070        0.0        0   \n",
      "3  PINE4.SA  1.06  1.08  1.06   1.06   43900  1.023754        0.0        0   \n",
      "4  PINE4.SA  1.07  1.10  1.05   1.05  157400  1.014096        0.0        0   \n",
      "\n",
      "   rótulos  \n",
      "0      1.0  \n",
      "1      NaN  \n",
      "2      NaN  \n",
      "3      NaN  \n",
      "4      NaN  \n",
      "     symbol  open  high   low  close  volume  adjclose  Rótulos  rótulos\n",
      "0  PLAS3.SA  7.77  7.77  7.77   7.77     0.0      7.77        0      NaN\n",
      "1  PLAS3.SA  7.77  7.77  7.77   7.77     0.0      7.77        0      NaN\n",
      "2  PLAS3.SA  7.77  7.77  7.77   7.77     0.0      7.77        0      NaN\n",
      "3  PLAS3.SA  7.77  7.77  7.77   7.77     0.0      7.77        0      NaN\n",
      "4  PLAS3.SA  7.59  7.59  7.59   7.59   200.0      7.59        0      NaN\n",
      "     symbol  open  high   low  close  volume  adjclose  dividends  Rótulos  \\\n",
      "0  PLPL3.SA  2.20  2.27  2.10   2.14  639600  2.084003        0.0        0   \n",
      "1  PLPL3.SA  2.14  2.20  2.09   2.17  389700  2.113218        0.0        0   \n",
      "2  PLPL3.SA  2.17  2.21  2.11   2.17  302600  2.113218        0.0        0   \n",
      "3  PLPL3.SA  2.14  2.26  2.08   2.16  465400  2.103480        0.0        0   \n",
      "4  PLPL3.SA  2.17  2.22  2.12   2.21  339100  2.152171        0.0        0   \n",
      "\n",
      "   rótulos  \n",
      "0      NaN  \n",
      "1      NaN  \n",
      "2      NaN  \n",
      "3      NaN  \n",
      "4      NaN  \n",
      "     symbol  open  high   low  close  volume  adjclose  Rótulos  rótulos\n",
      "0  PMAM3.SA  5.84  6.13  5.78   6.13  103700      6.13        0      NaN\n",
      "1  PMAM3.SA  6.12  6.12  5.84   6.00   41100      6.00        0      NaN\n",
      "2  PMAM3.SA  5.94  6.12  5.94   6.12   40600      6.12        0      NaN\n",
      "3  PMAM3.SA  5.97  6.29  5.95   6.18   68600      6.18        0      NaN\n",
      "4  PMAM3.SA  6.18  6.23  6.02   6.19   38900      6.19        0      NaN\n",
      "     symbol  open   high   low  close   volume  adjclose  dividends  Rótulos  \\\n",
      "0  PNVL3.SA  9.61   9.75  9.50   9.62   566600  9.426346        0.0        0   \n",
      "1  PNVL3.SA  9.60   9.76  9.38   9.49   422000  9.298963        0.0        0   \n",
      "2  PNVL3.SA  9.52   9.66  9.15   9.36   570100  9.171579        0.0        0   \n",
      "3  PNVL3.SA  9.27   9.90  9.18   9.74  1299400  9.543929        0.0        0   \n",
      "4  PNVL3.SA  9.84  10.13  9.80   9.89   585600  9.690910        0.0        0   \n",
      "\n",
      "   rótulos  \n",
      "0      NaN  \n",
      "1      NaN  \n",
      "2      2.0  \n",
      "3      NaN  \n",
      "4      NaN  \n",
      "     symbol  open  high   low  close  volume  adjclose  dividends  Rótulos  \\\n",
      "0  POMO3.SA  2.18  2.18  2.13   2.18  110300  1.981810        0.0        0   \n",
      "1  POMO3.SA  2.18  2.22  2.15   2.19   81300  1.990901        0.0        0   \n",
      "2  POMO3.SA  2.19  2.20  2.16   2.17   83300  1.972719        0.0        0   \n",
      "3  POMO3.SA  2.16  2.18  2.13   2.16   68300  1.963629        0.0        0   \n",
      "4  POMO3.SA  2.18  2.21  2.17   2.21  108000  2.009083        0.0        0   \n",
      "\n",
      "   rótulos  \n",
      "0      5.0  \n",
      "1      5.0  \n",
      "2      5.0  \n",
      "3      5.0  \n",
      "4      4.0  \n",
      "     symbol  open  high   low  close   volume  adjclose  dividends  Rótulos  \\\n",
      "0  POMO4.SA  2.54  2.58  2.48   2.56  3029400  2.359347        0.0        0   \n",
      "1  POMO4.SA  2.56  2.63  2.52   2.56  2592600  2.359347        0.0        0   \n",
      "2  POMO4.SA  2.58  2.61  2.52   2.57  2435900  2.368563        0.0        0   \n",
      "3  POMO4.SA  2.54  2.60  2.51   2.56  2799000  2.359347        0.0        0   \n",
      "4  POMO4.SA  2.57  2.63  2.57   2.60  2907300  2.396212        0.0        0   \n",
      "\n",
      "   rótulos  \n",
      "0      5.0  \n",
      "1      5.0  \n",
      "2      5.0  \n",
      "3      4.0  \n",
      "4      3.0  \n",
      "     symbol  open  high   low  close  volume  adjclose  dividends  Rótulos  \\\n",
      "0  PORT3.SA  8.29  8.46  8.07   8.35  537100  7.965320        0.0        0   \n",
      "1  PORT3.SA  8.60  8.60  7.91   7.96  717000  7.593287        0.0        0   \n",
      "2  PORT3.SA  8.28  8.28  7.90   7.94  269500  7.574208        0.0        0   \n",
      "3  PORT3.SA  7.89  8.01  7.82   7.85  387500  7.488355        0.0        0   \n",
      "4  PORT3.SA  7.93  8.06  7.81   7.93  159500  7.564669        0.0        0   \n",
      "\n",
      "   rótulos  \n",
      "0      NaN  \n",
      "1      NaN  \n",
      "2      NaN  \n",
      "3      NaN  \n",
      "4      NaN  \n",
      "     symbol  open  high   low  close   volume  adjclose  dividends  Rótulos  \\\n",
      "0  POSI3.SA  6.20  6.52  6.15   6.46  3222900  6.016551        0.0        0   \n",
      "1  POSI3.SA  6.55  6.55  6.11   6.23  3726400  5.802339        0.0        0   \n",
      "2  POSI3.SA  6.36  6.38  6.01   6.13  3701800  5.709204        0.0        0   \n",
      "3  POSI3.SA  6.02  6.18  5.92   6.00  3236500  5.588128        0.0        0   \n",
      "4  POSI3.SA  6.04  6.17  5.93   6.02  2389600  5.606755        0.0        0   \n",
      "\n",
      "   rótulos  \n",
      "0      NaN  \n",
      "1      5.0  \n",
      "2      5.0  \n",
      "3      4.0  \n",
      "4      3.0  \n",
      "     symbol       open       high        low      close    volume   adjclose  \\\n",
      "0  PRIO3.SA  25.000000  25.120001  22.820000  23.040001  38939600  23.040001   \n",
      "1  PRIO3.SA  22.900000  23.840000  21.670000  22.840000  30450600  22.840000   \n",
      "2  PRIO3.SA  23.400000  23.770000  22.670000  22.730000  16044000  22.730000   \n",
      "3  PRIO3.SA  21.530001  21.940001  21.219999  21.270000  24440400  21.270000   \n",
      "4  PRIO3.SA  21.420000  21.870001  20.270000  20.469999  26042200  20.469999   \n",
      "\n",
      "   Rótulos  rótulos  \n",
      "0        0      NaN  \n",
      "1        0      NaN  \n",
      "2        0      NaN  \n",
      "3        0      4.0  \n",
      "4        0      4.0  \n",
      "     symbol  open  high   low  close  volume  adjclose  dividends  Rótulos  \\\n",
      "0  PRNR3.SA  5.20  5.25  5.04   5.04  121000  4.829350        0.0        0   \n",
      "1  PRNR3.SA  5.06  5.50  5.05   5.50  264400  5.270125        0.0        0   \n",
      "2  PRNR3.SA  5.51  6.04  5.41   5.60  190600  5.365945        0.0        0   \n",
      "3  PRNR3.SA  5.59  5.71  5.59   5.60  121800  5.365945        0.0        0   \n",
      "4  PRNR3.SA  5.52  5.63  5.36   5.58   56200  5.346781        0.0        0   \n",
      "\n",
      "   rótulos  \n",
      "0      5.0  \n",
      "1      1.0  \n",
      "2      NaN  \n",
      "3      NaN  \n",
      "4      NaN  \n",
      "     symbol       open       high        low      close   volume   adjclose  \\\n",
      "0  PSSA3.SA  18.680000  18.680000  18.209999  18.520000  1921300  17.431240   \n",
      "1  PSSA3.SA  18.670000  18.850000  18.309999  18.540001  1054200  17.450062   \n",
      "2  PSSA3.SA  18.610001  19.430000  18.510000  19.049999  2073600  17.930079   \n",
      "3  PSSA3.SA  18.910000  19.219999  18.730000  18.809999  1444200  17.704187   \n",
      "4  PSSA3.SA  18.809999  19.080000  18.559999  18.670000   909400  17.572420   \n",
      "\n",
      "   dividends  Rótulos  rótulos  \n",
      "0        0.0        0      3.0  \n",
      "1        0.0        0      2.0  \n",
      "2        0.0        0      NaN  \n",
      "3        0.0        0      NaN  \n",
      "4        0.0        0      NaN  \n",
      "     symbol  open  high   low  close  volume  adjclose  dividends  Rótulos  \\\n",
      "0  PTBL3.SA  6.52  6.58  6.24   6.50  723100  6.060418        0.0        0   \n",
      "1  PTBL3.SA  6.49  6.63  6.25   6.40  485800  5.967181        0.0        0   \n",
      "2  PTBL3.SA  6.51  6.63  6.16   6.28  465400  5.855296        0.0        0   \n",
      "3  PTBL3.SA  6.20  6.57  6.01   6.52  650700  6.079065        0.0        0   \n",
      "4  PTBL3.SA  6.50  6.74  6.50   6.71  580500  6.256216        0.0        0   \n",
      "\n",
      "   rótulos  \n",
      "0      5.0  \n",
      "1      5.0  \n",
      "2      3.0  \n",
      "3      4.0  \n",
      "4      1.0  \n",
      "     symbol   open   high    low  close  volume   adjclose  dividends  \\\n",
      "0  PTNT3.SA  12.76  12.77  12.64  12.64     500  12.294757        0.0   \n",
      "1  PTNT3.SA  12.03  12.46  11.73  12.13    3600  11.798687        0.0   \n",
      "2  PTNT3.SA  12.15  12.29  11.50  11.50    2300  11.185894        0.0   \n",
      "3  PTNT3.SA  11.90  12.15  11.50  11.79    3300  11.467974        0.0   \n",
      "4  PTNT3.SA  11.71  11.85  11.66  11.70    1900  11.380431        0.0   \n",
      "\n",
      "   Rótulos  rótulos  \n",
      "0        0      NaN  \n",
      "1        0      NaN  \n",
      "2        0      5.0  \n",
      "3        0      NaN  \n",
      "4        0      3.0  \n",
      "     symbol  open  high   low  close  volume  adjclose  dividends  Rótulos  \\\n",
      "0  PTNT4.SA  5.00  5.32  4.51   4.72   81500  4.478895        0.0        0   \n",
      "1  PTNT4.SA  4.71  5.00  4.60   4.84   39000  4.592765        0.0        0   \n",
      "2  PTNT4.SA  4.93  5.00  4.50   4.90  121500  4.649700        0.0        0   \n",
      "3  PTNT4.SA  4.76  4.98  4.60   4.95   37400  4.697146        0.0        0   \n",
      "4  PTNT4.SA  4.99  5.00  4.87   4.95   26300  4.697146        0.0        0   \n",
      "\n",
      "   rótulos  \n",
      "0      5.0  \n",
      "1      5.0  \n",
      "2      5.0  \n",
      "3      5.0  \n",
      "4      5.0  \n",
      "     symbol   open   high    low  close   volume   adjclose  dividends  \\\n",
      "0  QUAL3.SA  12.99  14.00  12.87  14.00  4597400  13.766173        0.0   \n",
      "1  QUAL3.SA  13.78  14.20  13.51  13.78  2559900  13.549848        0.0   \n",
      "2  QUAL3.SA  13.82  14.70  13.56  14.70  2869700  14.454482        0.0   \n",
      "3  QUAL3.SA  14.39  14.48  14.09  14.12  2986700  13.884170        0.0   \n",
      "4  QUAL3.SA  14.14  14.20  13.47  13.51  3285700  13.284358        0.0   \n",
      "\n",
      "   Rótulos  rótulos  \n",
      "0        0      NaN  \n",
      "1        0      NaN  \n",
      "2        0      NaN  \n",
      "3        0      NaN  \n",
      "4        0      NaN  \n",
      "     symbol       open       high        low      close    volume   adjclose  \\\n",
      "0  RADL3.SA  18.461538  18.528847  17.875000  18.375000  10320232  18.131807   \n",
      "1  RADL3.SA  18.394230  18.394230  17.711538  17.769230   3377712  17.534056   \n",
      "2  RADL3.SA  17.807692  18.221153  17.538462  18.086538   4717440  17.847162   \n",
      "3  RADL3.SA  18.028847  18.961538  17.913462  18.692307   7011992  18.444912   \n",
      "4  RADL3.SA  18.740383  19.009615  18.596153  18.903847   4753632  18.653654   \n",
      "\n",
      "   dividends  splits  Rótulos  rótulos  \n",
      "0        0.0     0.0        0      NaN  \n",
      "1        0.0     0.0        0      5.0  \n",
      "2        0.0     0.0        0      NaN  \n",
      "3        0.0     0.0        0      NaN  \n",
      "4        0.0     0.0        0      NaN  \n",
      "     symbol       open       high        low      close    volume   adjclose  \\\n",
      "0  RAIL3.SA  16.840000  16.969999  16.420000  16.889999  14396100  16.832256   \n",
      "1  RAIL3.SA  17.000000  17.000000  16.459999  16.750000   6311400  16.692736   \n",
      "2  RAIL3.SA  16.780001  16.879999  16.549999  16.750000   7442100  16.692736   \n",
      "3  RAIL3.SA  16.540001  16.959999  16.160000  16.790001  11379600  16.732599   \n",
      "4  RAIL3.SA  16.780001  17.240000  16.670000  16.719999   8446400  16.662836   \n",
      "\n",
      "   dividends  Rótulos  rótulos  \n",
      "0        0.0        0      NaN  \n",
      "1        0.0        0      NaN  \n",
      "2        0.0        0      NaN  \n",
      "3        0.0        0      NaN  \n",
      "4        0.0        0      NaN  \n",
      "     symbol  open  high   low  close    volume  adjclose  dividends  Rótulos  \\\n",
      "0  RAIZ4.SA  5.06  5.08  4.84   5.08  10891400  4.756571        0.0        0   \n",
      "1  RAIZ4.SA  5.08  5.22  5.00   5.08   7841400  4.756571        0.0        0   \n",
      "2  RAIZ4.SA  5.12  5.16  4.99   5.04   7411800  4.719118        0.0        0   \n",
      "3  RAIZ4.SA  5.03  5.09  4.94   4.99   8433900  4.672301        0.0        0   \n",
      "4  RAIZ4.SA  5.02  5.07  4.79   4.79   8059200  4.485035        0.0        0   \n",
      "\n",
      "   rótulos  \n",
      "0      NaN  \n",
      "1      NaN  \n",
      "2      NaN  \n",
      "3      NaN  \n",
      "4      3.0  \n",
      "     symbol  open  high   low  close   volume  adjclose  dividends  Rótulos  \\\n",
      "0  RANI3.SA  6.69  6.86  6.63   6.80   861600  6.215873        0.0        0   \n",
      "1  RANI3.SA  6.80  7.02  6.72   6.90   787800  6.307282        0.0        0   \n",
      "2  RANI3.SA  6.92  7.05  6.76   6.85   834900  6.261578        0.0        0   \n",
      "3  RANI3.SA  6.80  6.91  6.65   6.67  1005600  6.097040        0.0        0   \n",
      "4  RANI3.SA  6.72  6.79  6.50   6.61   818600  6.042194        0.0        0   \n",
      "\n",
      "   rótulos  \n",
      "0      3.0  \n",
      "1      1.0  \n",
      "2      5.0  \n",
      "3      5.0  \n",
      "4      5.0  \n",
      "     symbol  open  high   low  close  volume  adjclose  dividends  Rótulos  \\\n",
      "0  RAPT3.SA  8.49  8.70  7.90   8.00   96500  7.530799        0.0        0   \n",
      "1  RAPT3.SA  8.11  8.21  7.99   8.18   36200  7.700243        0.0        0   \n",
      "2  RAPT3.SA  8.33  8.33  7.90   7.93   21500  7.464904        0.0        0   \n",
      "3  RAPT3.SA  7.95  8.17  7.84   8.15   20300  7.672001        0.0        0   \n",
      "4  RAPT3.SA  8.18  8.36  8.18   8.35    5400  7.860272        0.0        0   \n",
      "\n",
      "   rótulos  \n",
      "0      5.0  \n",
      "1      5.0  \n",
      "2      5.0  \n",
      "3      5.0  \n",
      "4      2.0  \n",
      "     symbol  open  high   low  close   volume  adjclose  dividends  Rótulos  \\\n",
      "0  RAPT4.SA  9.72  9.80  9.32   9.33  3165000  8.815001        0.0        0   \n",
      "1  RAPT4.SA  9.36  9.79  9.23   9.59  1800100  9.060651        0.0        0   \n",
      "2  RAPT4.SA  9.67  9.78  9.39   9.57  2198800  9.041754        0.0        0   \n",
      "3  RAPT4.SA  9.43  9.68  9.35   9.62  1839100  9.088994        0.0        0   \n",
      "4  RAPT4.SA  9.69  9.96  9.69   9.75  2064900  9.211819        0.0        0   \n",
      "\n",
      "   rótulos  \n",
      "0      5.0  \n",
      "1      NaN  \n",
      "2      5.0  \n",
      "3      4.0  \n",
      "4      NaN  \n",
      "     symbol      open      high       low     close  volume  adjclose  splits  \\\n",
      "0  RCSL3.SA  3.130961  3.214232  3.064345  3.164269  717362  3.164269     0.0   \n",
      "1  RCSL3.SA  3.197578  3.247540  2.997729  3.097653  862012  3.097653     0.0   \n",
      "2  RCSL3.SA  3.164269  3.197578  3.047691  3.097653  512127  3.097653     0.0   \n",
      "3  RCSL3.SA  3.080999  3.114307  2.981075  3.097653  411131  3.097653     0.0   \n",
      "4  RCSL3.SA  3.114307  3.147615  3.031037  3.130961  552057  3.130961     0.0   \n",
      "\n",
      "   Rótulos  rótulos  \n",
      "0        0      NaN  \n",
      "1        0      NaN  \n",
      "2        0      NaN  \n",
      "3        0      NaN  \n",
      "4        0      NaN  \n",
      "     symbol      open      high       low     close  volume  adjclose  splits  \\\n",
      "0  RCSL4.SA  2.423034  2.423034  2.290265  2.323457   66160  2.323457     0.0   \n",
      "1  RCSL4.SA  2.389842  2.423034  2.323457  2.356649   61640  2.356649     0.0   \n",
      "2  RCSL4.SA  2.356649  2.356649  2.290265  2.323457   57362  2.323457     0.0   \n",
      "3  RCSL4.SA  2.323457  2.356649  2.290265  2.323457   62424  2.323457     0.0   \n",
      "4  RCSL4.SA  2.323457  2.423034  2.323457  2.389842  215532  2.389842     0.0   \n",
      "\n",
      "   Rótulos  rótulos  \n",
      "0        0      NaN  \n",
      "1        0      NaN  \n",
      "2        0      NaN  \n",
      "3        0      NaN  \n",
      "4        0      NaN  \n",
      "     symbol  open  high   low  close  volume  adjclose  dividends  Rótulos  \\\n",
      "0  RDNI3.SA  7.87  7.87  7.47   7.85    4600  7.646420        0.0        0   \n",
      "1  RDNI3.SA  7.66  7.69  7.47   7.55    3900  7.354200        0.0        0   \n",
      "2  RDNI3.SA  7.55  7.86  7.47   7.80   14000  7.597716        0.0        0   \n",
      "3  RDNI3.SA  7.79  7.80  7.47   7.80    6700  7.597716        0.0        0   \n",
      "4  RDNI3.SA  7.65  7.70  7.48   7.60   11700  7.402903        0.0        0   \n",
      "\n",
      "   rótulos  \n",
      "0      NaN  \n",
      "1      NaN  \n",
      "2      NaN  \n",
      "3      NaN  \n",
      "4      NaN  \n",
      "     symbol       open       high        low      close   volume   adjclose  \\\n",
      "0  RDOR3.SA  31.230000  31.230000  29.940001  30.139999  9948100  29.834892   \n",
      "1  RDOR3.SA  30.299999  30.660000  29.400000  29.650000  2635700  29.349852   \n",
      "2  RDOR3.SA  29.639999  30.719999  29.410000  30.270000  5138900  29.963575   \n",
      "3  RDOR3.SA  30.040001  30.620001  29.370001  29.920000  4077500  29.617119   \n",
      "4  RDOR3.SA  29.850000  30.900000  29.480000  29.600000  3020200  29.300358   \n",
      "\n",
      "   dividends  Rótulos  rótulos  \n",
      "0        0.0        0      NaN  \n",
      "1        0.0        0      NaN  \n",
      "2        0.0        0      NaN  \n",
      "3        0.0        0      NaN  \n",
      "4        0.0        0      NaN  \n",
      "     symbol       open       high        low      close   volume   adjclose  \\\n",
      "0  RECV3.SA  24.930000  24.930000  23.860001  24.900000  4176000  23.842913   \n",
      "1  RECV3.SA  24.760000  24.860001  22.950001  24.450001  2975400  23.412018   \n",
      "2  RECV3.SA  24.670000  25.620001  24.240000  25.250000  2019600  24.178057   \n",
      "3  RECV3.SA  23.910000  24.770000  23.430000  24.059999  2442400  23.038574   \n",
      "4  RECV3.SA  24.110001  24.600000  22.920000  23.230000  2267000  22.243811   \n",
      "\n",
      "   dividends  Rótulos  rótulos  \n",
      "0        0.0        0      NaN  \n",
      "1        0.0        0      NaN  \n",
      "2        0.0        0      NaN  \n",
      "3        0.0        0      5.0  \n",
      "4        0.0        0      5.0  \n",
      "     symbol  open  high   low  close  volume  adjclose  dividends  Rótulos  \\\n",
      "0  REDE3.SA  5.53  5.99  5.53   5.62    4300  4.977824        0.0        0   \n",
      "1  REDE3.SA  5.63  5.64  5.60   5.60     500  4.960109        0.0        0   \n",
      "2  REDE3.SA  5.60  5.60  5.60   5.60     100  4.960109        0.0        0   \n",
      "3  REDE3.SA  5.88  5.88  5.88   5.88     600  5.208115        0.0        0   \n",
      "4  REDE3.SA  5.88  5.88  5.88   5.88       0  5.208115        0.0        0   \n",
      "\n",
      "   rótulos  \n",
      "0      5.0  \n",
      "1      5.0  \n",
      "2      5.0  \n",
      "3      5.0  \n",
      "4      5.0  \n",
      "     symbol       open       high        low      close    volume   adjclose  \\\n",
      "0  RENT3.SA  50.860001  50.939999  49.619999  50.400002   6142500  49.251472   \n",
      "1  RENT3.SA  50.810001  51.060001  49.389999  49.910000   2375600  48.772640   \n",
      "2  RENT3.SA  50.000000  50.849998  49.150002  49.700001  10730700  48.567425   \n",
      "3  RENT3.SA  49.279999  50.779999  49.150002  50.459999   6807000  49.310104   \n",
      "4  RENT3.SA  50.799999  53.029999  50.669998  50.930000  13101800  49.769394   \n",
      "\n",
      "   dividends  Rótulos  rótulos  \n",
      "0        0.0        0      NaN  \n",
      "1        0.0        0      NaN  \n",
      "2        0.0        0      NaN  \n",
      "3        0.0        0      NaN  \n",
      "4        0.0        0      NaN  \n",
      "     symbol  open  high   low  close  volume  adjclose  Rótulos  rótulos\n",
      "0  RNEW3.SA  1.70  1.82  1.68   1.81   57700      1.81        0      3.0\n",
      "1  RNEW3.SA  1.81  1.82  1.66   1.78   38400      1.78        0      2.0\n",
      "2  RNEW3.SA  1.79  2.15  1.77   1.96  375000      1.96        0      NaN\n",
      "3  RNEW3.SA  2.00  2.08  1.79   1.79  217600      1.79        0      NaN\n",
      "4  RNEW3.SA  1.80  1.86  1.70   1.82  125400      1.82        0      NaN\n",
      "     symbol  open  high   low  close   volume  adjclose  Rótulos  rótulos\n",
      "0  RNEW4.SA  1.40  1.55  1.40   1.52   222300      1.52        0      5.0\n",
      "1  RNEW4.SA  1.49  1.60  1.46   1.52   118000      1.52        0      5.0\n",
      "2  RNEW4.SA  1.58  1.87  1.58   1.72  1230900      1.72        0      NaN\n",
      "3  RNEW4.SA  1.72  1.83  1.57   1.59   599000      1.59        0      5.0\n",
      "4  RNEW4.SA  1.59  1.74  1.54   1.66   443600      1.66        0      NaN\n",
      "     symbol       open       high        low      close  volume  adjclose  \\\n",
      "0  ROMI3.SA   9.966942  10.264462   9.727272  10.264462  404382  9.663060   \n",
      "1  ROMI3.SA  10.363636  10.363636   9.917355   9.917355  325490  9.336288   \n",
      "2  ROMI3.SA  10.033057  10.272727   9.942148  10.066115  421080  9.476333   \n",
      "3  ROMI3.SA   9.917355  10.578512   9.900826  10.223140  574629  9.624158   \n",
      "4  ROMI3.SA  10.330578  10.446280  10.066115  10.090909  260150  9.499675   \n",
      "\n",
      "   dividends  splits  Rótulos  rótulos  \n",
      "0        0.0     0.0        0      NaN  \n",
      "1        0.0     0.0        0      5.0  \n",
      "2        0.0     0.0        0      5.0  \n",
      "3        0.0     0.0        0      4.0  \n",
      "4        0.0     0.0        0      3.0  \n",
      "     symbol  open  high   low  close  volume  adjclose  dividends  Rótulos  \\\n",
      "0  RPAD3.SA  6.60  6.76  6.60   6.76   500.0  6.759299        0.0        0   \n",
      "1  RPAD3.SA  6.76  6.76  6.76   6.76     0.0  6.759299        0.0        0   \n",
      "2  RPAD3.SA  6.76  6.76  6.76   6.76     0.0  6.759299        0.0        0   \n",
      "3  RPAD3.SA  6.75  6.75  6.75   6.75   100.0  6.749300        0.0        0   \n",
      "4  RPAD3.SA  6.75  6.75  6.75   6.75     0.0  6.749300        0.0        0   \n",
      "\n",
      "   rótulos  \n",
      "0      NaN  \n",
      "1      NaN  \n",
      "2      NaN  \n",
      "3      NaN  \n",
      "4      NaN  \n",
      "     symbol  open  high   low  close  volume  adjclose  dividends  Rótulos  \\\n",
      "0  RPAD5.SA  7.80  7.80  7.80   7.80   100.0  7.239914        0.0        0   \n",
      "1  RPAD5.SA  7.80  7.80  7.80   7.80     0.0  7.239914        0.0        0   \n",
      "2  RPAD5.SA  7.80  7.80  7.80   7.80     0.0  7.239914        0.0        0   \n",
      "3  RPAD5.SA  7.80  7.80  7.80   7.80     0.0  7.239914        0.0        0   \n",
      "4  RPAD5.SA  8.29  8.29  8.29   8.29  3200.0  7.694729        0.0        0   \n",
      "\n",
      "   rótulos  \n",
      "0      5.0  \n",
      "1      5.0  \n",
      "2      4.0  \n",
      "3      3.0  \n",
      "4      NaN  \n",
      "     symbol  open  high   low  close  volume  adjclose  dividends  Rótulos  \\\n",
      "0  RPAD6.SA  4.58  4.58  4.58   4.58     0.0  4.579206        0.0        0   \n",
      "1  RPAD6.SA  4.58  4.58  4.58   4.58     0.0  4.579206        0.0        0   \n",
      "2  RPAD6.SA  4.33  4.33  4.33   4.33   100.0  4.329249        0.0        0   \n",
      "3  RPAD6.SA  4.33  4.33  4.33   4.33     0.0  4.329249        0.0        0   \n",
      "4  RPAD6.SA  4.33  4.33  4.33   4.33     0.0  4.329249        0.0        0   \n",
      "\n",
      "   rótulos  \n",
      "0      NaN  \n",
      "1      NaN  \n",
      "2      NaN  \n",
      "3      NaN  \n",
      "4      NaN  \n",
      "     symbol  open  high   low  close  volume  adjclose  Rótulos  rótulos\n",
      "0  RPMG3.SA  2.17  2.28  2.17   2.21    1200      2.21        0      NaN\n",
      "1  RPMG3.SA  2.21  2.21  2.17   2.19    1700      2.19        0      NaN\n",
      "2  RPMG3.SA  2.20  2.20  2.17   2.20    2700      2.20        0      NaN\n",
      "3  RPMG3.SA  2.15  2.21  2.14   2.14    4900      2.14        0      NaN\n",
      "4  RPMG3.SA  2.29  2.29  2.14   2.16    4500      2.16        0      NaN\n",
      "     symbol       open       high        low      close   volume   adjclose  \\\n",
      "0  RRRP3.SA  39.900002  39.900002  35.919998  36.750000  7622700  36.750000   \n",
      "1  RRRP3.SA  36.020000  36.299999  33.860001  35.700001  6557200  35.700001   \n",
      "2  RRRP3.SA  36.759998  36.900002  35.930000  36.400002  5082900  36.400002   \n",
      "3  RRRP3.SA  34.599998  35.180000  33.779999  33.970001  5408400  33.970001   \n",
      "4  RRRP3.SA  34.369999  34.700001  32.529999  32.799999  5104400  32.799999   \n",
      "\n",
      "   Rótulos  rótulos  \n",
      "0        0      NaN  \n",
      "1        0      NaN  \n",
      "2        0      NaN  \n",
      "3        0      4.0  \n",
      "4        0      4.0  \n",
      "     symbol  open  high   low  close  volume  adjclose  Rótulos  rótulos\n",
      "0  RSID3.SA  1.94  1.94  1.78   1.90   87300      1.90        0      2.0\n",
      "1  RSID3.SA  1.91  2.05  1.81   1.93  260700      1.93        0      5.0\n",
      "2  RSID3.SA  2.00  2.10  1.87   1.90  160500      1.90        0      5.0\n",
      "3  RSID3.SA  1.87  2.00  1.83   1.90  110900      1.90        0      5.0\n",
      "4  RSID3.SA  1.93  2.05  1.87   1.92   97200      1.92        0      5.0\n",
      "     symbol       open       high        low      close  volume   adjclose  \\\n",
      "0  RSUL4.SA  61.459999  66.180000  61.459999  66.180000    1500  63.426907   \n",
      "1  RSUL4.SA  66.919998  66.919998  64.070000  65.010002    1400  62.305580   \n",
      "2  RSUL4.SA  66.980003  66.980003  64.010002  64.010002     500  61.347179   \n",
      "3  RSUL4.SA  66.730003  66.730003  63.990002  63.990002    1000  61.328011   \n",
      "4  RSUL4.SA  65.480003  65.480003  62.470001  62.490002    3200  59.890411   \n",
      "\n",
      "   dividends  Rótulos  rótulos  \n",
      "0        0.0        0      NaN  \n",
      "1        0.0        0      NaN  \n",
      "2        0.0        0      NaN  \n",
      "3        0.0        0      NaN  \n",
      "4        0.0        0      NaN  \n",
      "     symbol   open   high    low  close  volume   adjclose  dividends  \\\n",
      "0  SANB3.SA  14.63  14.75  14.08  14.40  407300  13.542341        0.0   \n",
      "1  SANB3.SA  14.40  14.73  14.29  14.55  138300  13.683409        0.0   \n",
      "2  SANB3.SA  14.65  14.74  14.37  14.73   93900  13.852687        0.0   \n",
      "3  SANB3.SA  14.74  14.74  14.35  14.35  102900  13.495320        0.0   \n",
      "4  SANB3.SA  14.35  14.62  14.01  14.09  267800  13.250806        0.0   \n",
      "\n",
      "   Rótulos  rótulos  \n",
      "0        0      NaN  \n",
      "1        0      NaN  \n",
      "2        0      NaN  \n",
      "3        0      NaN  \n",
      "4        0      NaN  \n",
      "     symbol   open       high    low  close  volume   adjclose  dividends  \\\n",
      "0  SANB4.SA  15.95  16.080000  15.60  15.90  444200  14.976984        0.0   \n",
      "1  SANB4.SA  15.94  16.370001  15.92  16.34  168900  15.391441        0.0   \n",
      "2  SANB4.SA  16.43  16.430000  15.98  16.26  138800  15.316086        0.0   \n",
      "3  SANB4.SA  16.02  16.190001  15.95  15.95  114700  15.024081        0.0   \n",
      "4  SANB4.SA  15.96  16.059999  15.60  15.64  299900  14.732078        0.0   \n",
      "\n",
      "   Rótulos  rótulos  \n",
      "0        0      NaN  \n",
      "1        0      NaN  \n",
      "2        0      NaN  \n",
      "3        0      NaN  \n",
      "4        0      NaN  \n",
      "     symbol  open  high   low  close  volume  adjclose  dividends  Rótulos  \\\n",
      "0  SAPR3.SA  3.71  3.77  3.66   3.67  456000  3.395674        0.0        0   \n",
      "1  SAPR3.SA  3.70  3.75  3.65   3.65  235100  3.377168        0.0        0   \n",
      "2  SAPR3.SA  3.69  3.70  3.57   3.58  359200  3.312401        0.0        0   \n",
      "3  SAPR3.SA  3.60  3.66  3.56   3.65  178200  3.377168        0.0        0   \n",
      "4  SAPR3.SA  3.65  3.67  3.60   3.60  161400  3.330906        0.0        0   \n",
      "\n",
      "   rótulos  \n",
      "0      1.0  \n",
      "1      NaN  \n",
      "2      5.0  \n",
      "3      NaN  \n",
      "4      4.0  \n",
      "     symbol  open  high   low  close   volume  adjclose  dividends  Rótulos  \\\n",
      "0  SAPR4.SA  3.81  3.88  3.79   3.82  2811600  3.519543        0.0        0   \n",
      "1  SAPR4.SA  3.83  3.86  3.77   3.78  1987100  3.482689        0.0        0   \n",
      "2  SAPR4.SA  3.80  3.81  3.70   3.71  3120900  3.418195        0.0        0   \n",
      "3  SAPR4.SA  3.70  3.77  3.69   3.71  1443000  3.418195        0.0        0   \n",
      "4  SAPR4.SA  3.73  3.75  3.70   3.70  1965800  3.408982        0.0        0   \n",
      "\n",
      "   rótulos  \n",
      "0      NaN  \n",
      "1      NaN  \n",
      "2      5.0  \n",
      "3      5.0  \n",
      "4      5.0  \n",
      "     symbol       open       high        low      close   volume   adjclose  \\\n",
      "0  SBFG3.SA  20.549999  20.730000  19.820000  20.719999  1568800  20.353569   \n",
      "1  SBFG3.SA  20.600000  21.020000  19.879999  20.299999   715300  19.940996   \n",
      "2  SBFG3.SA  20.370001  20.670000  19.790001  20.110001  1258800  19.754358   \n",
      "3  SBFG3.SA  19.870001  20.459999  19.690001  20.049999  1115800  19.695417   \n",
      "4  SBFG3.SA  20.299999  20.709999  19.840000  20.299999  3238200  19.940996   \n",
      "\n",
      "   dividends  Rótulos  rótulos  \n",
      "0        0.0        0      NaN  \n",
      "1        0.0        0      NaN  \n",
      "2        0.0        0      NaN  \n",
      "3        0.0        0      NaN  \n",
      "4        0.0        0      NaN  \n",
      "     symbol       open       high        low      close   volume   adjclose  \\\n",
      "0  SBSP3.SA  42.389999  42.389999  41.000000  41.130001  7077300  39.992306   \n",
      "1  SBSP3.SA  41.430000  41.740002  40.080002  41.180000  1792700  40.040920   \n",
      "2  SBSP3.SA  40.869999  41.299999  40.029999  40.400002  2419900  39.282497   \n",
      "3  SBSP3.SA  40.169998  42.060001  39.910000  41.520000  3472700  40.371517   \n",
      "4  SBSP3.SA  41.540001  42.040001  40.939999  41.200001  2698600  40.060368   \n",
      "\n",
      "   dividends  Rótulos  rótulos  \n",
      "0        0.0        0      NaN  \n",
      "1        0.0        0      NaN  \n",
      "2        0.0        0      5.0  \n",
      "3        0.0        0      NaN  \n",
      "4        0.0        0      NaN  \n",
      "     symbol       open       high        low      close  volume   adjclose  \\\n",
      "0  SCAR3.SA  28.500000  28.700001  27.700001  28.700001    1100  28.700001   \n",
      "1  SCAR3.SA  28.000000  28.680000  27.240000  28.680000    3100  28.680000   \n",
      "2  SCAR3.SA  28.219999  28.959999  28.200001  28.959999    1400  28.959999   \n",
      "3  SCAR3.SA  28.700001  29.389999  28.299999  29.389999     700  29.389999   \n",
      "4  SCAR3.SA  29.400000  29.400000  27.660000  27.660000    2600  27.660000   \n",
      "\n",
      "   Rótulos  rótulos  \n",
      "0        0      NaN  \n",
      "1        0      NaN  \n",
      "2        0      NaN  \n",
      "3        0      NaN  \n",
      "4        0      NaN  \n",
      "     symbol  open  high   low  close  volume  adjclose  Rótulos  rótulos\n",
      "0  SEER3.SA  7.08  7.37  6.99   7.36  367700      7.36        0      NaN\n",
      "1  SEER3.SA  7.33  7.52  7.15   7.15  201000      7.15        0      NaN\n",
      "2  SEER3.SA  7.22  7.29  6.82   6.86  376700      6.86        0      NaN\n",
      "3  SEER3.SA  6.73  7.05  6.72   6.85  246500      6.85        0      NaN\n",
      "4  SEER3.SA  6.88  6.96  6.72   6.72  296500      6.72        0      NaN\n",
      "     symbol  open  high   low  close   volume  adjclose  Rótulos  rótulos\n",
      "0  SEQL3.SA  6.12  6.21  5.78   6.20  2667700      6.20        0      NaN\n",
      "1  SEQL3.SA  6.16  6.33  5.90   6.07  4468500      6.07        0      NaN\n",
      "2  SEQL3.SA  6.13  6.23  5.99   6.18  5181100      6.18        0      NaN\n",
      "3  SEQL3.SA  6.10  6.27  5.96   6.09  4727700      6.09        0      NaN\n",
      "4  SEQL3.SA  6.11  6.66  5.97   6.28  4245600      6.28        0      NaN\n",
      "     symbol  open  high   low  close  volume  adjclose  Rótulos  rótulos\n",
      "0  SGPS3.SA  2.44  2.88  2.38   2.88  222000      2.88        0      5.0\n",
      "1  SGPS3.SA  2.66  2.92  2.66   2.85   66300      2.85        0      5.0\n",
      "2  SGPS3.SA  2.98  3.23  2.92   3.04  128000      3.04        0      3.0\n",
      "3  SGPS3.SA  3.02  3.30  2.93   3.15  120900      3.15        0      2.0\n",
      "4  SGPS3.SA  3.18  3.36  3.06   3.29   83100      3.29        0      NaN\n",
      "     symbol  open  high   low  close  volume  adjclose  Rótulos  rótulos\n",
      "0  SHOW3.SA  3.08  3.12  2.94   3.12  249300      3.12        0      NaN\n",
      "1  SHOW3.SA  3.07  3.10  2.88   2.90  373400      2.90        0      NaN\n",
      "2  SHOW3.SA  2.91  2.98  2.81   2.81  275800      2.81        0      5.0\n",
      "3  SHOW3.SA  2.80  2.88  2.75   2.84  130000      2.84        0      4.0\n",
      "4  SHOW3.SA  2.82  2.94  2.82   2.94  197300      2.94        0      3.0\n",
      "     symbol       open       high        low      close  volume   adjclose  \\\n",
      "0  SHUL3.SA  56.005001  56.005001  56.005001  56.005001     0.0  55.387096   \n",
      "1  SHUL3.SA  56.005001  56.005001  56.005001  56.005001     0.0  55.387096   \n",
      "2  SHUL3.SA  56.005001  56.005001  56.005001  56.005001     0.0  55.387096   \n",
      "3  SHUL3.SA  56.005001  56.005001  56.005001  56.005001     0.0  55.387096   \n",
      "4  SHUL3.SA  56.005001  56.005001  56.005001  56.005001     0.0  55.387096   \n",
      "\n",
      "   dividends  Rótulos  \n",
      "0        0.0        0  \n",
      "1        0.0        0  \n",
      "2        0.0        0  \n",
      "3        0.0        0  \n",
      "4        0.0        0  \n",
      "     symbol  open  high   low  close  volume  adjclose  dividends  Rótulos  \\\n",
      "0  SHUL4.SA  4.18  4.22  4.10   4.20  297400  3.886108        0.0        0   \n",
      "1  SHUL4.SA  4.20  4.20  4.00   4.09  322100  3.784329        0.0        0   \n",
      "2  SHUL4.SA  4.15  4.31  4.11   4.20  421100  3.886108        0.0        0   \n",
      "3  SHUL4.SA  4.19  4.24  4.11   4.24  225800  3.923119        0.0        0   \n",
      "4  SHUL4.SA  4.24  4.26  4.18   4.24  185200  3.923119        0.0        0   \n",
      "\n",
      "   rótulos  \n",
      "0      2.0  \n",
      "1      5.0  \n",
      "2      5.0  \n",
      "3      5.0  \n",
      "4      5.0  \n",
      "     symbol   open   high   low  close   volume  adjclose  dividends  Rótulos  \\\n",
      "0  SIMH3.SA  10.15  10.33  9.89  10.16  5034800  9.893302        0.0        0   \n",
      "1  SIMH3.SA  10.13  10.31  9.80   9.85  1657900  9.591439        0.0        0   \n",
      "2  SIMH3.SA  10.00  10.07  9.74   9.86  1762200  9.601175        0.0        0   \n",
      "3  SIMH3.SA   9.73   9.97  9.61   9.85  2287700  9.591439        0.0        0   \n",
      "4  SIMH3.SA   9.91  10.00  9.79   9.96  2561000  9.698551        0.0        0   \n",
      "\n",
      "   rótulos  \n",
      "0      NaN  \n",
      "1      NaN  \n",
      "2      NaN  \n",
      "3      NaN  \n",
      "4      NaN  \n",
      "     symbol       open       high        low      close   volume   adjclose  \\\n",
      "0  SLCE3.SA  46.745453  48.154545  46.745453  47.809090  2259070  44.597973   \n",
      "1  SLCE3.SA  47.690910  47.927273  46.381817  46.845455  1340240  43.699062   \n",
      "2  SLCE3.SA  47.109089  47.818180  46.772728  47.472729  1208900  44.284203   \n",
      "3  SLCE3.SA  46.990910  47.218182  43.972729  44.409088  3019390  41.426334   \n",
      "4  SLCE3.SA  44.381817  44.781818  41.363636  41.445454  3622190  38.661755   \n",
      "\n",
      "   dividends  splits  Rótulos  rótulos  \n",
      "0        0.0     0.0        0      NaN  \n",
      "1        0.0     0.0        0      NaN  \n",
      "2        0.0     0.0        0      NaN  \n",
      "3        0.0     0.0        0      NaN  \n",
      "4        0.0     0.0        0      4.0  \n",
      "     symbol   open   high    low  close  volume  adjclose  Rótulos  rótulos\n",
      "0  SLED3.SA  11.27  11.28  11.00  11.02     700     11.02        0      NaN\n",
      "1  SLED3.SA  10.92  10.92  10.90  10.90     300     10.90        0      NaN\n",
      "2  SLED3.SA  10.70  10.95  10.70  10.95     200     10.95        0      NaN\n",
      "3  SLED3.SA  10.95  10.95  10.95  10.95       0     10.95        0      NaN\n",
      "4  SLED3.SA  10.95  10.95  10.95  10.95       0     10.95        0      NaN\n",
      "     symbol  open  high   low  close  volume  adjclose  Rótulos  rótulos\n",
      "0  SLED4.SA  3.54  3.61  3.45   3.54    3900      3.54        0      5.0\n",
      "1  SLED4.SA  3.30  3.60  3.20   3.52   10900      3.52        0      5.0\n",
      "2  SLED4.SA  3.52  3.75  3.50   3.60    5600      3.60        0      4.0\n",
      "3  SLED4.SA  3.60  3.68  3.33   3.60    4700      3.60        0      3.0\n",
      "4  SLED4.SA  3.60  3.60  3.52   3.53    1700      3.53        0      2.0\n",
      "     symbol   open   high    low  close   volume  adjclose  Rótulos  rótulos\n",
      "0  SMFT3.SA  11.72  12.17  10.98  12.00  3785300     12.00        0      NaN\n",
      "1  SMFT3.SA  12.00  12.09  11.32  11.97   970200     11.97        0      NaN\n",
      "2  SMFT3.SA  12.12  12.28  11.60  11.93  1061700     11.93        0      NaN\n",
      "3  SMFT3.SA  11.87  12.23  11.42  11.51  2747000     11.51        0      NaN\n",
      "4  SMFT3.SA  11.53  12.05  11.34  11.64  1040800     11.64        0      NaN\n",
      "     symbol       open       high        low      close   volume   adjclose  \\\n",
      "0  SMTO3.SA  44.169998  44.189999  43.029999  43.889999  1767900  42.288280   \n",
      "1  SMTO3.SA  43.869999  43.910000  41.990002  41.990002  1125300  40.457619   \n",
      "2  SMTO3.SA  42.000000  42.240002  39.709999  41.250000  2574400  39.744621   \n",
      "3  SMTO3.SA  40.930000  40.930000  38.720001  39.410000  2375400  37.971771   \n",
      "4  SMTO3.SA  39.259998  40.000000  38.330002  38.520000  1521600  37.114254   \n",
      "\n",
      "   dividends  Rótulos  rótulos  \n",
      "0        0.0        0      NaN  \n",
      "1        0.0        0      NaN  \n",
      "2        0.0        0      NaN  \n",
      "3        0.0        0      NaN  \n",
      "4        0.0        0      NaN  \n",
      "     symbol  open  high   low  close  volume  adjclose  Rótulos  rótulos\n",
      "0  SNSY3.SA  8.47  8.47  8.47   8.47     0.0      8.47        0      NaN\n",
      "1  SNSY3.SA  8.47  8.47  8.47   8.47     0.0      8.47        0      NaN\n",
      "2  SNSY3.SA  8.47  8.47  8.47   8.47     0.0      8.47        0      NaN\n",
      "3  SNSY3.SA  8.47  8.47  8.47   8.47     0.0      8.47        0      NaN\n",
      "4  SNSY3.SA  7.98  7.98  7.98   7.98   200.0      7.98        0      NaN\n",
      "     symbol  open  high   low  close  volume  adjclose  Rótulos  rótulos\n",
      "0  SNSY5.SA  2.81  2.99  2.81   2.98     500      2.98        0      NaN\n",
      "1  SNSY5.SA  2.98  2.98  2.98   2.98       0      2.98        0      NaN\n",
      "2  SNSY5.SA  2.98  2.98  2.98   2.98       0      2.98        0      NaN\n",
      "3  SNSY5.SA  2.98  3.04  2.98   3.04     200      3.04        0      NaN\n",
      "4  SNSY5.SA  2.92  3.02  2.81   2.85    9600      2.85        0      NaN\n",
      "     symbol   open   high    low  close  volume  adjclose  Rótulos\n",
      "0  SNSY6.SA  11.51  11.51  11.51  11.51     0.0     11.51        0\n",
      "1  SNSY6.SA  11.51  11.51  11.51  11.51     0.0     11.51        0\n",
      "2  SNSY6.SA  11.51  11.51  11.51  11.51     0.0     11.51        0\n",
      "3  SNSY6.SA  11.51  11.51  11.51  11.51     0.0     11.51        0\n",
      "4  SNSY6.SA  11.51  11.51  11.51  11.51     0.0     11.51        0\n",
      "     symbol   open   high    low  close  volume   adjclose  dividends  \\\n",
      "0  SOJA3.SA  12.26  12.46  12.13  12.25  225400  12.156240        0.0   \n",
      "1  SOJA3.SA  12.25  12.35  11.97  12.13  278800  12.037158        0.0   \n",
      "2  SOJA3.SA  12.19  12.30  11.78  11.93  280700  11.838689        0.0   \n",
      "3  SOJA3.SA  11.94  12.20  11.82  11.84  215800  11.749378        0.0   \n",
      "4  SOJA3.SA  11.96  11.97  11.59  11.60  537000  11.511214        0.0   \n",
      "\n",
      "   Rótulos  rótulos  \n",
      "0        0      NaN  \n",
      "1        0      NaN  \n",
      "2        0      NaN  \n",
      "3        0      NaN  \n",
      "4        0      NaN  \n",
      "     symbol   open   high    low  close   volume   adjclose  dividends  \\\n",
      "0  SOMA3.SA   9.96  10.15   9.49  10.15  6531900  10.027423        0.0   \n",
      "1  SOMA3.SA  10.15  10.35   9.60   9.78  6093100   9.661891        0.0   \n",
      "2  SOMA3.SA   9.94  10.08   9.59   9.92  6338500   9.800200        0.0   \n",
      "3  SOMA3.SA   9.80  10.22   9.78  10.03  3685800   9.908872        0.0   \n",
      "4  SOMA3.SA  10.07  10.53  10.05  10.27  4481500  10.145974        0.0   \n",
      "\n",
      "   Rótulos  rótulos  \n",
      "0        0      NaN  \n",
      "1        0      NaN  \n",
      "2        0      NaN  \n",
      "3        0      NaN  \n",
      "4        0      NaN  \n",
      "     symbol       open       high        low      close  volume   adjclose  \\\n",
      "0  SOND3.SA  46.009998  46.009998  46.009998  46.009998     0.0  40.469357   \n",
      "1  SOND3.SA  46.009998  46.009998  46.009998  46.009998     0.0  40.469357   \n",
      "2  SOND3.SA  46.009998  46.009998  46.009998  46.009998     0.0  40.469357   \n",
      "3  SOND3.SA  46.009998  46.009998  46.009998  46.009998     0.0  40.469357   \n",
      "4  SOND3.SA  46.009998  46.009998  46.009998  46.009998     0.0  40.469357   \n",
      "\n",
      "   dividends  Rótulos  rótulos  \n",
      "0        0.0        0      5.0  \n",
      "1        0.0        0      5.0  \n",
      "2        0.0        0      5.0  \n",
      "3        0.0        0      5.0  \n",
      "4        0.0        0      5.0  \n",
      "     symbol  open  high   low  close  volume   adjclose  dividends  Rótulos  \\\n",
      "0  SOND5.SA  40.0  40.0  40.0   40.0     0.0  34.582485        0.0        0   \n",
      "1  SOND5.SA  40.0  40.0  40.0   40.0     0.0  34.582485        0.0        0   \n",
      "2  SOND5.SA  40.0  40.0  40.0   40.0     0.0  34.582485        0.0        0   \n",
      "3  SOND5.SA  40.0  40.0  40.0   40.0     0.0  34.582485        0.0        0   \n",
      "4  SOND5.SA  40.0  40.0  40.0   40.0     0.0  34.582485        0.0        0   \n",
      "\n",
      "   rótulos  \n",
      "0      5.0  \n",
      "1      5.0  \n",
      "2      5.0  \n",
      "3      5.0  \n",
      "4      5.0  \n",
      "     symbol  open  high   low  close  volume   adjclose  dividends  Rótulos  \\\n",
      "0  SOND6.SA  43.0  43.0  43.0   43.0     0.0  34.898846        0.0        0   \n",
      "1  SOND6.SA  43.0  43.0  43.0   43.0     0.0  34.898846        0.0        0   \n",
      "2  SOND6.SA  43.0  43.0  43.0   43.0     0.0  34.898846        0.0        0   \n",
      "3  SOND6.SA  43.0  43.0  43.0   43.0     0.0  34.898846        0.0        0   \n",
      "4  SOND6.SA  43.0  43.0  43.0   43.0     0.0  34.898846        0.0        0   \n",
      "\n",
      "   rótulos  \n",
      "0      5.0  \n",
      "1      5.0  \n",
      "2      5.0  \n",
      "3      5.0  \n",
      "4      5.0  \n",
      "     symbol       open       high        low      close   volume   adjclose  \\\n",
      "0  SQIA3.SA  16.190001  17.280001  16.120001  16.850000  1379600  16.793694   \n",
      "1  SQIA3.SA  16.830000  17.459999  16.450001  16.549999  1364100  16.494694   \n",
      "2  SQIA3.SA  16.750000  16.990000  16.410000  16.610001   731300  16.554495   \n",
      "3  SQIA3.SA  16.430000  16.959999  16.320000  16.430000  1201500  16.375097   \n",
      "4  SQIA3.SA  16.480000  17.270000  16.459999  17.100000   629800  17.042858   \n",
      "\n",
      "   dividends  Rótulos  rótulos  \n",
      "0        0.0        0      NaN  \n",
      "1        0.0        0      NaN  \n",
      "2        0.0        0      NaN  \n",
      "3        0.0        0      NaN  \n",
      "4        0.0        0      NaN  \n",
      "     symbol  open  high   low  close   volume  adjclose  dividends  Rótulos  \\\n",
      "0  STBP3.SA  6.40  6.52  6.20   6.51  3788800  6.003126        0.0        0   \n",
      "1  STBP3.SA  6.57  6.58  6.31   6.38  1743400  5.883247        0.0        0   \n",
      "2  STBP3.SA  6.39  6.72  6.33   6.68  4584300  6.159889        0.0        0   \n",
      "3  STBP3.SA  6.58  6.64  6.42   6.42  3093700  5.920133        0.0        0   \n",
      "4  STBP3.SA  6.45  6.59  6.36   6.45  2497500  5.947796        0.0        0   \n",
      "\n",
      "   rótulos  \n",
      "0      3.0  \n",
      "1      5.0  \n",
      "2      NaN  \n",
      "3      4.0  \n",
      "4      3.0  \n",
      "     symbol       open       high        low      close    volume   adjclose  \\\n",
      "0  SUZB3.SA  49.509998  50.500000  48.060001  49.090000  19818800  47.376877   \n",
      "1  SUZB3.SA  49.189999  49.709999  48.509998  49.009998   2415400  47.299667   \n",
      "2  SUZB3.SA  48.980000  49.750000  48.619999  48.630001   4604000  46.932934   \n",
      "3  SUZB3.SA  48.189999  48.259998  46.380001  47.119999   6648400  45.475624   \n",
      "4  SUZB3.SA  47.110001  47.599998  44.910000  45.630001  10660300  44.037624   \n",
      "\n",
      "   dividends  Rótulos  rótulos  \n",
      "0        0.0        0      NaN  \n",
      "1        0.0        0      NaN  \n",
      "2        0.0        0      NaN  \n",
      "3        0.0        0      4.0  \n",
      "4        0.0        0      5.0  \n",
      "     symbol  open  high   low  close  volume  adjclose  Rótulos  rótulos\n",
      "0  SYNE3.SA  4.20  4.23  4.10   4.23  466300      4.23        0      NaN\n",
      "1  SYNE3.SA  4.23  4.33  4.11   4.14  375000      4.14        0      NaN\n",
      "2  SYNE3.SA  4.16  4.22  4.04   4.08  646000      4.08        0      NaN\n",
      "3  SYNE3.SA  4.09  4.17  4.00   4.10  495200      4.10        0      NaN\n",
      "4  SYNE3.SA  4.14  4.24  4.11   4.20  477400      4.20        0      NaN\n",
      "     symbol   open   high    low  close  volume   adjclose  dividends  \\\n",
      "0  TAEE3.SA  13.54  13.59  13.45  13.55   69800  12.538639        0.0   \n",
      "1  TAEE3.SA  13.49  13.54  13.40  13.50   52000  12.492373        0.0   \n",
      "2  TAEE3.SA  13.50  13.58  13.22  13.22  103200  12.233270        0.0   \n",
      "3  TAEE3.SA  13.24  13.38  13.13  13.32   61400  12.325806        0.0   \n",
      "4  TAEE3.SA  13.33  13.43  13.15  13.15   52700  12.168495        0.0   \n",
      "\n",
      "   Rótulos  rótulos  \n",
      "0        0      NaN  \n",
      "1        0      NaN  \n",
      "2        0      NaN  \n",
      "3        0      NaN  \n",
      "4        0      NaN  \n",
      "     symbol   open   high    low  close  volume   adjclose  dividends  \\\n",
      "0  TAEE4.SA  13.47  13.51  13.43  13.44  180800  12.442072        0.0   \n",
      "1  TAEE4.SA  13.50  13.50  13.38  13.46  109500  12.460587        0.0   \n",
      "2  TAEE4.SA  13.48  13.49  13.27  13.44  207200  12.442072        0.0   \n",
      "3  TAEE4.SA  13.37  13.37  13.19  13.34  112500  12.349498        0.0   \n",
      "4  TAEE4.SA  13.27  13.39  13.15  13.15  120000  12.173605        0.0   \n",
      "\n",
      "   Rótulos  rótulos  \n",
      "0        0      NaN  \n",
      "1        0      NaN  \n",
      "2        0      NaN  \n",
      "3        0      NaN  \n",
      "4        0      NaN  \n",
      "     symbol       open       high        low      close  volume   adjclose  \\\n",
      "0  TASA3.SA  17.730000  17.730000  17.000000  17.190001   60800  15.883742   \n",
      "1  TASA3.SA  17.200001  17.360001  16.620001  16.750000   43400  15.477177   \n",
      "2  TASA3.SA  17.000000  17.170000  16.629999  16.639999  102800  15.375535   \n",
      "3  TASA3.SA  16.600000  16.980000  16.500000  16.700001   36000  15.430977   \n",
      "4  TASA3.SA  16.520000  17.000000  16.520000  16.730000   23600  15.458696   \n",
      "\n",
      "   dividends  Rótulos  rótulos  \n",
      "0        0.0        0      NaN  \n",
      "1        0.0        0      5.0  \n",
      "2        0.0        0      5.0  \n",
      "3        0.0        0      5.0  \n",
      "4        0.0        0      3.0  \n",
      "     symbol       open       high        low      close  volume   adjclose  \\\n",
      "0  TASA4.SA  17.480000  17.480000  16.799999  17.040001  892300  15.748926   \n",
      "1  TASA4.SA  17.059999  17.299999  16.490000  16.639999  547600  15.379231   \n",
      "2  TASA4.SA  17.000000  17.240000  16.629999  16.870001  560200  15.591806   \n",
      "3  TASA4.SA  16.680000  17.090000  16.500000  16.500000  464700  15.249840   \n",
      "4  TASA4.SA  16.620001  17.040001  16.420000  16.790001  674300  15.517868   \n",
      "\n",
      "   dividends  Rótulos  rótulos  \n",
      "0        0.0        0      NaN  \n",
      "1        0.0        0      5.0  \n",
      "2        0.0        0      5.0  \n",
      "3        0.0        0      5.0  \n",
      "4        0.0        0      3.0  \n",
      "     symbol  open  high   low  close   volume  adjclose  Rótulos  rótulos\n",
      "0  TCNO3.SA  1.39  1.39  1.30   1.38   6100.0      1.38        0      NaN\n",
      "1  TCNO3.SA  1.29  1.38  1.28   1.33   4000.0      1.33        0      NaN\n",
      "2  TCNO3.SA  1.33  1.40  1.28   1.40  15300.0      1.40        0      NaN\n",
      "3  TCNO3.SA  1.30  1.38  1.30   1.38  11700.0      1.38        0      NaN\n",
      "4  TCNO3.SA  1.38  1.38  1.38   1.38      0.0      1.38        0      NaN\n",
      "     symbol  open  high   low  close   volume  adjclose  Rótulos  rótulos\n",
      "0  TCNO4.SA  1.07  1.12  1.05   1.05   5600.0      1.05        0      NaN\n",
      "1  TCNO4.SA  1.05  1.09  1.05   1.05  12000.0      1.05        0      NaN\n",
      "2  TCNO4.SA  1.03  1.06  1.03   1.05   6100.0      1.05        0      NaN\n",
      "3  TCNO4.SA  1.06  1.09  1.03   1.05  10200.0      1.05        0      NaN\n",
      "4  TCNO4.SA  1.03  1.09  1.02   1.04  18900.0      1.04        0      NaN\n",
      "     symbol  open  high   low  close  volume  adjclose  Rótulos  rótulos\n",
      "0  TCSA3.SA  2.03  2.09  1.98   2.08  346100      2.08        0      5.0\n",
      "1  TCSA3.SA  2.08  2.11  2.03   2.07  195600      2.07        0      4.0\n",
      "2  TCSA3.SA  2.10  2.17  2.07   2.08  596500      2.08        0      3.0\n",
      "3  TCSA3.SA  2.05  2.20  2.02   2.14  604500      2.14        0      NaN\n",
      "4  TCSA3.SA  2.13  2.25  2.13   2.19  596600      2.19        0      NaN\n",
      "     symbol  open  high   low  close  volume  adjclose  dividends  Rótulos  \\\n",
      "0  TECN3.SA  2.38  2.49  2.34   2.49  448000  2.408322        0.0        0   \n",
      "1  TECN3.SA  2.49  2.57  2.39   2.51  457800  2.427666        0.0        0   \n",
      "2  TECN3.SA  2.52  2.55  2.36   2.38  740500  2.301930        0.0        0   \n",
      "3  TECN3.SA  2.34  2.44  2.25   2.40  625700  2.321274        0.0        0   \n",
      "4  TECN3.SA  2.40  2.49  2.32   2.35  589400  2.272914        0.0        0   \n",
      "\n",
      "   rótulos  \n",
      "0      NaN  \n",
      "1      NaN  \n",
      "2      NaN  \n",
      "3      NaN  \n",
      "4      NaN  \n",
      "     symbol  open  high   low  close  volume  adjclose  Rótulos\n",
      "0  TEKA3.SA  26.1  26.1  26.1   26.1     0.0      26.1        0\n",
      "1  TEKA3.SA  26.1  26.1  26.1   26.1     0.0      26.1        0\n",
      "2  TEKA3.SA  26.1  26.1  26.1   26.1     0.0      26.1        0\n",
      "3  TEKA3.SA  26.1  26.1  26.1   26.1     0.0      26.1        0\n",
      "4  TEKA3.SA  26.1  26.1  26.1   26.1     0.0      26.1        0\n",
      "     symbol   open   high    low  close  volume  adjclose  Rótulos  rótulos\n",
      "0  TEKA4.SA  12.50  13.30  12.50  13.29    1300     13.29        0      NaN\n",
      "1  TEKA4.SA  13.86  13.86  12.42  12.42    1100     12.42        0      NaN\n",
      "2  TEKA4.SA  12.80  12.80  12.24  12.74     800     12.74        0      NaN\n",
      "3  TEKA4.SA  13.28  13.28  13.19  13.19     200     13.19        0      NaN\n",
      "4  TEKA4.SA  12.14  12.55  12.12  12.55    1100     12.55        0      NaN\n",
      "     symbol   open  high        low  close  volume  adjclose  Rótulos  rótulos\n",
      "0  TELB3.SA  29.00  29.1  29.000000   29.0     800      29.0        0      NaN\n",
      "1  TELB3.SA  28.00  28.0  27.000000   28.0     800      28.0        0      NaN\n",
      "2  TELB3.SA  28.00  28.0  27.219999   27.5    2000      27.5        0      NaN\n",
      "3  TELB3.SA  27.00  27.5  27.000000   27.0     500      27.0        0      NaN\n",
      "4  TELB3.SA  26.48  26.5  26.160000   26.5    1200      26.5        0      NaN\n",
      "     symbol   open   high    low  close  volume  adjclose  Rótulos  rótulos\n",
      "0  TELB4.SA  13.20  13.20  13.00  13.00     700     13.00        0      NaN\n",
      "1  TELB4.SA  13.00  13.10  13.00  13.10    3400     13.10        0      NaN\n",
      "2  TELB4.SA  13.89  13.89  12.46  12.46    8000     12.46        0      4.0\n",
      "3  TELB4.SA  12.20  12.20  11.60  12.04    6200     12.04        0      3.0\n",
      "4  TELB4.SA  12.13  12.15  12.00  12.15    2000     12.15        0      2.0\n",
      "     symbol  open  high   low  close   volume  adjclose  Rótulos  rótulos\n",
      "0  TEND3.SA  4.17  4.21  4.07   4.14  1804300      4.14        0      NaN\n",
      "1  TEND3.SA  4.14  4.23  4.05   4.18  1026700      4.18        0      NaN\n",
      "2  TEND3.SA  4.19  4.33  4.11   4.20  1230600      4.20        0      NaN\n",
      "3  TEND3.SA  4.15  4.26  4.10   4.10  2251300      4.10        0      NaN\n",
      "4  TEND3.SA  4.13  4.17  4.06   4.07  1866200      4.07        0      NaN\n",
      "     symbol  open  high   low  close  volume  adjclose  dividends  Rótulos  \\\n",
      "0  TFCO4.SA  8.87  8.93  8.51   8.68  223500  8.529657        0.0        0   \n",
      "1  TFCO4.SA  8.68  8.80  8.50   8.56  192000  8.411736        0.0        0   \n",
      "2  TFCO4.SA  8.59  8.81  8.57   8.81  111700  8.657406        0.0        0   \n",
      "3  TFCO4.SA  8.72  8.94  8.40   8.80  330400  8.647579        0.0        0   \n",
      "4  TFCO4.SA  8.76  8.94  8.56   8.75  192600  8.598445        0.0        0   \n",
      "\n",
      "   rótulos  \n",
      "0      NaN  \n",
      "1      NaN  \n",
      "2      NaN  \n",
      "3      NaN  \n",
      "4      NaN  \n",
      "     symbol   open   high    low  close  volume   adjclose  dividends  \\\n",
      "0  TGMA3.SA  14.34  14.59  14.17  14.40  139400  13.399522        0.0   \n",
      "1  TGMA3.SA  14.42  14.49  14.08  14.15  137600  13.166891        0.0   \n",
      "2  TGMA3.SA  14.49  14.49  14.00  14.14  114100  13.157586        0.0   \n",
      "3  TGMA3.SA  14.05  14.16  13.80  13.95  205700  12.980786        0.0   \n",
      "4  TGMA3.SA  14.16  14.19  13.91  13.95  109900  12.980786        0.0   \n",
      "\n",
      "   Rótulos  rótulos  \n",
      "0        0      NaN  \n",
      "1        0      1.0  \n",
      "2        0      NaN  \n",
      "3        0      4.0  \n",
      "4        0      3.0  \n",
      "     symbol   open   high    low  close    volume   adjclose  dividends  \\\n",
      "0  TIMS3.SA  12.25  12.51  12.24  12.45   6627400  11.642876        0.0   \n",
      "1  TIMS3.SA  12.55  12.61  12.28  12.44   5206600  11.633524        0.0   \n",
      "2  TIMS3.SA  12.44  12.64  12.40  12.64   5536200  11.820560        0.0   \n",
      "3  TIMS3.SA  12.63  12.73  12.47  12.58  18097500  11.764448        0.0   \n",
      "4  TIMS3.SA  12.59  12.66  12.54  12.55  12742100  11.736393        0.0   \n",
      "\n",
      "   Rótulos  rótulos  \n",
      "0        0      NaN  \n",
      "1        0      NaN  \n",
      "2        0      NaN  \n",
      "3        0      NaN  \n",
      "4        0      NaN  \n",
      "     symbol       open       high        low      close  volume   adjclose  \\\n",
      "0  TKNO3.SA  83.212837  83.212837  83.212837  83.212837     0.0  78.983406   \n",
      "1  TKNO3.SA  83.212837  83.212837  83.212837  83.212837     0.0  78.983406   \n",
      "2  TKNO3.SA  83.212837  83.212837  83.212837  83.212837     0.0  78.983406   \n",
      "3  TKNO3.SA  83.212837  83.212837  83.212837  83.212837     0.0  78.983406   \n",
      "4  TKNO3.SA  83.212837  83.212837  83.212837  83.212837     0.0  78.983406   \n",
      "\n",
      "   dividends  Rótulos  \n",
      "0        0.0        0  \n",
      "1        0.0        0  \n",
      "2        0.0        0  \n",
      "3        0.0        0  \n",
      "4        0.0        0  \n",
      "     symbol   open   high    low  close  volume   adjclose  dividends  \\\n",
      "0  TKNO4.SA  79.93  79.93  79.93  79.93     0.0  73.739731        0.0   \n",
      "1  TKNO4.SA  79.93  79.93  79.93  79.93     0.0  73.739731        0.0   \n",
      "2  TKNO4.SA  79.93  79.93  79.93  79.93     0.0  73.739731        0.0   \n",
      "3  TKNO4.SA  79.93  79.93  79.93  79.93     0.0  73.739731        0.0   \n",
      "4  TKNO4.SA  79.93  79.93  79.93  79.93     0.0  73.739731        0.0   \n",
      "\n",
      "   Rótulos  rótulos  \n",
      "0        0      NaN  \n",
      "1        0      NaN  \n",
      "2        0      NaN  \n",
      "3        0      NaN  \n",
      "4        0      NaN  \n",
      "     symbol       open       high    low      close    volume   adjclose  \\\n",
      "0  TOTS3.SA  24.950001  25.010000  23.85  24.410000  12163000  24.136637   \n",
      "1  TOTS3.SA  24.410000  24.639999  22.98  23.200001   2923500  22.940187   \n",
      "2  TOTS3.SA  23.400000  24.490000  23.26  24.030001   5203000  23.760893   \n",
      "3  TOTS3.SA  23.799999  24.400000  23.27  23.760000   3397000  23.493917   \n",
      "4  TOTS3.SA  23.840000  24.440001  23.48  24.080000   3635300  23.810333   \n",
      "\n",
      "   dividends  Rótulos  rótulos  \n",
      "0        0.0        0      NaN  \n",
      "1        0.0        0      NaN  \n",
      "2        0.0        0      NaN  \n",
      "3        0.0        0      NaN  \n",
      "4        0.0        0      NaN  \n",
      "     symbol  open  high   low  close  volume  adjclose  dividends  splits  \\\n",
      "0  TPIS3.SA  5.12  5.12  4.96   5.12  162625  5.050062        0.0     0.0   \n",
      "1  TPIS3.SA  5.00  5.24  5.00   5.04  125950  4.971154        0.0     0.0   \n",
      "2  TPIS3.SA  5.08  5.16  5.00   5.00   55150  4.931701        0.0     0.0   \n",
      "3  TPIS3.SA  5.00  5.04  4.88   4.88  109300  4.813340        0.0     0.0   \n",
      "4  TPIS3.SA  4.92  5.04  4.84   4.92   87600  4.852794        0.0     0.0   \n",
      "\n",
      "   Rótulos  rótulos  \n",
      "0        0      NaN  \n",
      "1        0      NaN  \n",
      "2        0      NaN  \n",
      "3        0      NaN  \n",
      "4        0      NaN  \n",
      "     symbol  open  high   low  close   volume  adjclose  Rótulos  rótulos\n",
      "0  TRAD3.SA  6.09  6.19  5.91   5.91  2300100      5.91        0      5.0\n",
      "1  TRAD3.SA  5.87  6.03  5.52   5.84  2782100      5.84        0      5.0\n",
      "2  TRAD3.SA  5.89  6.23  5.86   6.15  3614000      6.15        0      5.0\n",
      "3  TRAD3.SA  6.07  6.80  6.05   6.57  5604900      6.57        0      4.0\n",
      "4  TRAD3.SA  6.61  7.20  6.55   7.07  5768100      7.07        0      NaN\n",
      "     symbol  open  high   low  close   volume  adjclose  dividends  Rótulos  \\\n",
      "0  TRIS3.SA  3.48  3.59  3.40   3.54  1563800  3.321621        0.0        0   \n",
      "1  TRIS3.SA  3.54  3.59  3.45   3.58   914600  3.359153        0.0        0   \n",
      "2  TRIS3.SA  3.58  3.64  3.42   3.43  1136500  3.218407        0.0        0   \n",
      "3  TRIS3.SA  3.40  3.49  3.27   3.42  2735600  3.209024        0.0        0   \n",
      "4  TRIS3.SA  3.42  3.50  3.39   3.46  1099100  3.246556        0.0        0   \n",
      "\n",
      "   rótulos  \n",
      "0      NaN  \n",
      "1      NaN  \n",
      "2      3.0  \n",
      "3      3.0  \n",
      "4      NaN  \n",
      "     symbol       open       high        low      close  volume   adjclose  \\\n",
      "0  TRPL3.SA  30.120001  30.150000  30.090000  30.129999    2600  29.090706   \n",
      "1  TRPL3.SA  30.100000  30.150000  29.660000  29.820000    6000  28.791399   \n",
      "2  TRPL3.SA  29.830000  29.940001  29.830000  29.940001     200  28.907261   \n",
      "3  TRPL3.SA  30.030001  30.530001  29.940001  30.530001     900  29.476910   \n",
      "4  TRPL3.SA  30.500000  30.900000  30.500000  30.900000     300  29.834146   \n",
      "\n",
      "   dividends  Rótulos  rótulos  \n",
      "0        0.0        0      NaN  \n",
      "1        0.0        0      NaN  \n",
      "2        0.0        0      NaN  \n",
      "3        0.0        0      NaN  \n",
      "4        0.0        0      NaN  \n",
      "     symbol       open       high    low      close   volume   adjclose  \\\n",
      "0  TRPL4.SA  22.879999  23.350000  22.83  23.230000  2355800  22.186903   \n",
      "1  TRPL4.SA  23.340000  23.520000  23.18  23.320000  1110400  22.272861   \n",
      "2  TRPL4.SA  23.400000  23.540001  23.24  23.240000  1261500  22.196455   \n",
      "3  TRPL4.SA  23.180000  23.580000  23.02  23.530001  1848900  22.473434   \n",
      "4  TRPL4.SA  23.490000  23.600000  23.09  23.090000  1130400  22.053190   \n",
      "\n",
      "   dividends  Rótulos  rótulos  \n",
      "0        0.0        0      NaN  \n",
      "1        0.0        0      NaN  \n",
      "2        0.0        0      NaN  \n",
      "3        0.0        0      NaN  \n",
      "4        0.0        0      NaN  \n",
      "     symbol  open  high   low  close  volume  adjclose  dividends  Rótulos  \\\n",
      "0  TTEN3.SA  8.15  8.56  8.05   8.56  874400  8.478394        0.0        0   \n",
      "1  TTEN3.SA  8.55  8.69  8.32   8.41  482000  8.329823        0.0        0   \n",
      "2  TTEN3.SA  8.46  8.51  8.19   8.34  525900  8.260491        0.0        0   \n",
      "3  TTEN3.SA  8.22  8.49  8.22   8.35  425200  8.270396        0.0        0   \n",
      "4  TTEN3.SA  8.38  8.58  8.33   8.40  606400  8.319919        0.0        0   \n",
      "\n",
      "   rótulos  \n",
      "0      NaN  \n",
      "1      NaN  \n",
      "2      NaN  \n",
      "3      NaN  \n",
      "4      NaN  \n",
      "     symbol       open       high        low      close  volume   adjclose  \\\n",
      "0  TUPY3.SA  21.290001  21.650000  20.910000  21.450001  736300  20.408333   \n",
      "1  TUPY3.SA  21.350000  21.379999  20.709999  21.030001  485400  20.008728   \n",
      "2  TUPY3.SA  21.100000  21.320000  20.900000  21.200001  538600  20.170473   \n",
      "3  TUPY3.SA  21.080000  21.629999  20.830000  21.290001  590500  20.256104   \n",
      "4  TUPY3.SA  21.350000  21.660000  21.120001  21.500000  480500  20.455902   \n",
      "\n",
      "   dividends  Rótulos  rótulos  \n",
      "0        0.0        0      NaN  \n",
      "1        0.0        0      5.0  \n",
      "2        0.0        0      5.0  \n",
      "3        0.0        0      4.0  \n",
      "4        0.0        0      3.0  \n",
      "     symbol  open  high   low  close  volume  adjclose  dividends  Rótulos  \\\n",
      "0  UCAS3.SA  2.78  2.91  2.78   2.91   55700  2.725869        0.0        0   \n",
      "1  UCAS3.SA  2.83  2.89  2.76   2.76  104700  2.585360        0.0        0   \n",
      "2  UCAS3.SA  2.79  2.86  2.78   2.85    8400  2.669665        0.0        0   \n",
      "3  UCAS3.SA  2.85  2.85  2.70   2.85  189300  2.669665        0.0        0   \n",
      "4  UCAS3.SA  2.80  2.82  2.74   2.80   90900  2.622829        0.0        0   \n",
      "\n",
      "   rótulos  \n",
      "0      NaN  \n",
      "1      5.0  \n",
      "2      NaN  \n",
      "3      NaN  \n",
      "4      3.0  \n",
      "     symbol   open   high    low  close    volume   adjclose  dividends  \\\n",
      "0  UGPA3.SA  12.28  12.32  11.83  12.19  13926900  12.101087        0.0   \n",
      "1  UGPA3.SA  12.22  12.26  11.87  12.02   3762100  11.932327        0.0   \n",
      "2  UGPA3.SA  12.03  12.28  12.00  12.18   5354800  12.091160        0.0   \n",
      "3  UGPA3.SA  12.00  12.78  12.00  12.58  11795600  12.488242        0.0   \n",
      "4  UGPA3.SA  12.60  12.67  11.97  12.07   6010800  11.981962        0.0   \n",
      "\n",
      "   Rótulos  rótulos  \n",
      "0        0      NaN  \n",
      "1        0      NaN  \n",
      "2        0      NaN  \n",
      "3        0      NaN  \n",
      "4        0      NaN  \n",
      "     symbol       open       high        low      close  volume   adjclose  \\\n",
      "0  UNIP3.SA  83.209999  84.720001  81.730003  84.720001   28800  74.825478   \n",
      "1  UNIP3.SA  84.580002  85.099998  81.519997  82.989998   27100  73.297523   \n",
      "2  UNIP3.SA  83.230003  84.010002  81.900002  82.349998   22100  72.732277   \n",
      "3  UNIP3.SA  82.139999  82.290001  80.519997  80.760002   37700  71.327972   \n",
      "4  UNIP3.SA  81.739998  81.739998  79.879997  81.290001   22100  71.796074   \n",
      "\n",
      "   dividends  Rótulos  rótulos  \n",
      "0        0.0        0      5.0  \n",
      "1        0.0        0      5.0  \n",
      "2        0.0        0      5.0  \n",
      "3        0.0        0      5.0  \n",
      "4        0.0        0      5.0  \n",
      "     symbol       open       high        low      close  volume   adjclose  \\\n",
      "0  UNIP5.SA  94.989998  94.989998  94.989998  94.989998   300.0  83.856552   \n",
      "1  UNIP5.SA  94.989998  94.989998  89.010002  89.010002   300.0  78.577446   \n",
      "2  UNIP5.SA  89.010002  89.010002  89.010002  89.010002     0.0  78.577446   \n",
      "3  UNIP5.SA  89.010002  89.010002  89.010002  89.010002     0.0  78.577446   \n",
      "4  UNIP5.SA  95.900002  95.900002  95.900002  95.900002   100.0  84.659897   \n",
      "\n",
      "   dividends  Rótulos  rótulos  \n",
      "0        0.0        0      5.0  \n",
      "1        0.0        0      5.0  \n",
      "2        0.0        0      5.0  \n",
      "3        0.0        0      5.0  \n",
      "4        0.0        0      5.0  \n",
      "     symbol       open       high        low      close  volume   adjclose  \\\n",
      "0  UNIP6.SA  92.480003  93.120003  89.489998  93.120003  401500  82.027580   \n",
      "1  UNIP6.SA  94.080002  94.099998  91.360001  92.309998  212200  81.314056   \n",
      "2  UNIP6.SA  92.599998  93.849998  91.800003  92.760002  145200  81.710457   \n",
      "3  UNIP6.SA  91.879997  91.879997  89.980003  90.599998  221400  79.807762   \n",
      "4  UNIP6.SA  91.150002  91.639999  89.800003  90.080002  206700  79.349701   \n",
      "\n",
      "   dividends  Rótulos  rótulos  \n",
      "0        0.0        0      5.0  \n",
      "1        0.0        0      5.0  \n",
      "2        0.0        0      5.0  \n",
      "3        0.0        0      5.0  \n",
      "4        0.0        0      5.0  \n",
      "     symbol  open  high   low  close   volume  adjclose  dividends  Rótulos  \\\n",
      "0  USIM3.SA  9.13  9.15  8.70   8.84  1089300  8.475574        0.0        0   \n",
      "1  USIM3.SA  8.76  8.87  8.42   8.82   744500  8.456398        0.0        0   \n",
      "2  USIM3.SA  8.85  9.03  8.55   8.65  1487200  8.293406        0.0        0   \n",
      "3  USIM3.SA  8.50  8.80  8.32   8.78   448200  8.418047        0.0        0   \n",
      "4  USIM3.SA  8.80  8.93  8.31   8.31   899700  7.967423        0.0        0   \n",
      "\n",
      "   rótulos  \n",
      "0      NaN  \n",
      "1      NaN  \n",
      "2      NaN  \n",
      "3      NaN  \n",
      "4      3.0  \n",
      "     symbol  open  high   low  close    volume  adjclose  dividends  Rótulos  \\\n",
      "0  USIM5.SA  9.09  9.09  8.58   8.77  25871500  8.365045        0.0        0   \n",
      "1  USIM5.SA  8.46  9.03  8.42   9.01  19352400  8.593963        0.0        0   \n",
      "2  USIM5.SA  9.13  9.22  8.88   9.06  17639400  8.641654        0.0        0   \n",
      "3  USIM5.SA  8.81  9.17  8.58   9.04  20047600  8.622577        0.0        0   \n",
      "4  USIM5.SA  9.16  9.23  8.61   8.71  25829900  8.307815        0.0        0   \n",
      "\n",
      "   rótulos  \n",
      "0      4.0  \n",
      "1      NaN  \n",
      "2      NaN  \n",
      "3      NaN  \n",
      "4      4.0  \n",
      "     symbol  open  high   low  close  volume   adjclose  dividends  Rótulos  \\\n",
      "0  USIM6.SA  14.5  14.5  14.5   14.5     0.0  14.235013        0.0        0   \n",
      "1  USIM6.SA  14.5  14.5  14.5   14.5     0.0  14.235013        0.0        0   \n",
      "2  USIM6.SA  14.5  14.5  14.5   14.5     0.0  14.235013        0.0        0   \n",
      "3  USIM6.SA  14.5  14.5  14.5   14.5     0.0  14.235013        0.0        0   \n",
      "4  USIM6.SA  14.5  14.5  14.5   14.5     0.0  14.235013        0.0        0   \n",
      "\n",
      "   rótulos  \n",
      "0      NaN  \n",
      "1      NaN  \n",
      "2      NaN  \n",
      "3      NaN  \n",
      "4      NaN  \n",
      "     symbol       open       high        low      close    volume   adjclose  \\\n",
      "0  VALE3.SA  79.349998  79.349998  76.110001  77.410004  56914600  71.769745   \n",
      "1  VALE3.SA  75.599998  76.180000  74.250000  75.500000  26725700  69.998909   \n",
      "2  VALE3.SA  76.800003  77.639999  75.760002  76.000000  20981000  70.462479   \n",
      "3  VALE3.SA  74.000000  76.050003  73.379997  75.349998  32228300  69.859833   \n",
      "4  VALE3.SA  76.440002  77.309998  72.430000  72.599998  31943300  67.310204   \n",
      "\n",
      "   dividends  Rótulos  rótulos  \n",
      "0        0.0        0      NaN  \n",
      "1        0.0        0      5.0  \n",
      "2        0.0        0      5.0  \n",
      "3        0.0        0      5.0  \n",
      "4        0.0        0      4.0  \n",
      "     symbol   open   high    low  close   volume   adjclose  dividends  \\\n",
      "0  VAMO3.SA  12.54  12.54  12.07  12.50  2823900  12.201640        0.0   \n",
      "1  VAMO3.SA  12.82  12.82  12.11  12.17  1385900  11.879517        0.0   \n",
      "2  VAMO3.SA  12.23  12.49  12.11  12.27  1940600  11.977131        0.0   \n",
      "3  VAMO3.SA  12.22  12.63  12.11  12.38  1445600  12.084505        0.0   \n",
      "4  VAMO3.SA  12.30  12.79  12.29  12.67  2332700  12.367582        0.0   \n",
      "\n",
      "   Rótulos  rótulos  \n",
      "0        0      NaN  \n",
      "1        0      NaN  \n",
      "2        0      NaN  \n",
      "3        0      NaN  \n",
      "4        0      NaN  \n",
      "     symbol       open       high        low      close    volume   adjclose  \\\n",
      "0  VBBR3.SA  16.799999  16.990000  16.610001  16.850000  16503300  16.125010   \n",
      "1  VBBR3.SA  16.770000  16.959999  16.490000  16.780001  13632400  16.058022   \n",
      "2  VBBR3.SA  16.900000  17.340000  16.809999  17.030001   9268800  16.297266   \n",
      "3  VBBR3.SA  16.879999  17.730000  16.799999  17.450001  10937100  16.699194   \n",
      "4  VBBR3.SA  17.570000  17.690001  16.799999  16.870001   8495900  16.144148   \n",
      "\n",
      "   dividends  Rótulos  rótulos  \n",
      "0        0.0        0      NaN  \n",
      "1        0.0        0      3.0  \n",
      "2        0.0        0      NaN  \n",
      "3        0.0        0      NaN  \n",
      "4        0.0        0      NaN  \n",
      "     symbol  open  high   low  close    volume  adjclose  Rótulos  rótulos\n",
      "0  VIIA3.SA  2.24  2.27  2.18   2.21  69765700      2.21        0      5.0\n",
      "1  VIIA3.SA  2.22  2.31  2.14   2.26  58387800      2.26        0      NaN\n",
      "2  VIIA3.SA  2.28  2.34  2.21   2.23  43052700      2.23        0      2.0\n",
      "3  VIIA3.SA  2.18  2.37  2.16   2.29  51380300      2.29        0      NaN\n",
      "4  VIIA3.SA  2.28  2.46  2.28   2.37  40417500      2.37        0      NaN\n",
      "     symbol   open   high   low  close  volume  adjclose  dividends  Rótulos  \\\n",
      "0  VITT3.SA  10.01  10.07  9.80   9.80  167600  9.145970        0.0        0   \n",
      "1  VITT3.SA   9.92  10.06  9.65   9.65  247600  9.005980        0.0        0   \n",
      "2  VITT3.SA   9.87   9.96  9.51   9.64  217900  8.996649        0.0        0   \n",
      "3  VITT3.SA   9.64  10.10  9.48   9.83  993400  9.173968        0.0        0   \n",
      "4  VITT3.SA   9.84   9.90  9.50   9.54  449000  8.903322        0.0        0   \n",
      "\n",
      "   rótulos  \n",
      "0      3.0  \n",
      "1      2.0  \n",
      "2      2.0  \n",
      "3      NaN  \n",
      "4      NaN  \n",
      "     symbol       open       high        low      close   volume   adjclose  \\\n",
      "0  VIVA3.SA  22.639999  22.709999  21.940001  22.660000   928600  22.259388   \n",
      "1  VIVA3.SA  22.650000  22.690001  21.790001  22.190001   952400  21.797699   \n",
      "2  VIVA3.SA  22.250000  22.790001  21.709999  22.190001   837100  21.797699   \n",
      "3  VIVA3.SA  21.920000  22.379999  21.690001  22.160000  1278700  21.768229   \n",
      "4  VIVA3.SA  22.320000  23.070000  22.040001  22.969999  1421500  22.563908   \n",
      "\n",
      "   dividends  Rótulos  rótulos  \n",
      "0        0.0        0      NaN  \n",
      "1        0.0        0      NaN  \n",
      "2        0.0        0      NaN  \n",
      "3        0.0        0      NaN  \n",
      "4        0.0        0      NaN  \n",
      "     symbol  open  high  low  close  volume  adjclose  splits  Rótulos  \\\n",
      "0  VIVR3.SA   7.3   7.4  7.2    7.3  127620       7.3     0.0        0   \n",
      "1  VIVR3.SA   7.3   7.4  6.9    7.2  200350       7.2     0.0        0   \n",
      "2  VIVR3.SA   7.2   7.3  6.9    7.0  209530       7.0     0.0        0   \n",
      "3  VIVR3.SA   6.9   7.1  6.8    6.9  164570       6.9     0.0        0   \n",
      "4  VIVR3.SA   7.0   7.3  6.9    7.0  364480       7.0     0.0        0   \n",
      "\n",
      "   rótulos  \n",
      "0      NaN  \n",
      "1      NaN  \n",
      "2      NaN  \n",
      "3      NaN  \n",
      "4      NaN  \n",
      "     symbol       open       high        low      close   volume   adjclose  \\\n",
      "0  VIVT3.SA  46.400002  46.830002  45.310001  45.459999  3731800  42.769611   \n",
      "1  VIVT3.SA  45.630001  45.990002  45.279999  45.630001   918300  42.929546   \n",
      "2  VIVT3.SA  45.700001  47.639999  45.520000  47.049999  3293600  44.265511   \n",
      "3  VIVT3.SA  47.400002  47.439999  46.509998  46.959999  1575600  44.180843   \n",
      "4  VIVT3.SA  47.060001  47.950001  46.820000  46.889999  1678600  44.114986   \n",
      "\n",
      "   dividends  Rótulos  rótulos  \n",
      "0        0.0        0      5.0  \n",
      "1        0.0        0      3.0  \n",
      "2        0.0        0      NaN  \n",
      "3        0.0        0      NaN  \n",
      "4        0.0        0      NaN  \n",
      "     symbol  open  high   low  close  volume  adjclose  dividends  Rótulos  \\\n",
      "0  VLID3.SA  9.53  9.60  9.23   9.50  245700  9.103709        0.0        0   \n",
      "1  VLID3.SA  9.45  9.68  9.35   9.42  207700  9.027046        0.0        0   \n",
      "2  VLID3.SA  9.51  9.60  9.32   9.59  236800  9.189955        0.0        0   \n",
      "3  VLID3.SA  9.50  9.70  9.34   9.56  547700  9.161207        0.0        0   \n",
      "4  VLID3.SA  9.43  9.95  9.43   9.87  413300  9.458274        0.0        0   \n",
      "\n",
      "   rótulos  \n",
      "0      5.0  \n",
      "1      5.0  \n",
      "2      4.0  \n",
      "3      4.0  \n",
      "4      NaN  \n",
      "     symbol  open  high  low  close  volume  adjclose  Rótulos\n",
      "0  VSPT3.SA   1.5   1.5  1.5    1.5     0.0       1.5        0\n",
      "1  VSPT3.SA   1.5   1.5  1.5    1.5     0.0       1.5        0\n",
      "2  VSPT3.SA   1.5   1.5  1.5    1.5     0.0       1.5        0\n",
      "3  VSPT3.SA   1.5   1.5  1.5    1.5     0.0       1.5        0\n",
      "4  VSPT3.SA   1.5   1.5  1.5    1.5     0.0       1.5        0\n",
      "     symbol   open   high    low  close  volume   adjclose  dividends  splits  \\\n",
      "0  VSTE3.SA  14.48  14.48  13.44  14.16   23600  14.055953        0.0     0.0   \n",
      "1  VSTE3.SA  14.16  14.16  13.44  13.84   22350  13.738305        0.0     0.0   \n",
      "2  VSTE3.SA  13.76  14.32  13.36  13.36    6850  13.261831        0.0     0.0   \n",
      "3  VSTE3.SA  13.36  13.52  12.72  12.72   17987  12.626534        0.0     0.0   \n",
      "4  VSTE3.SA  12.80  13.44  12.80  12.88   18162  12.785358        0.0     0.0   \n",
      "\n",
      "   Rótulos  rótulos  \n",
      "0        0      NaN  \n",
      "1        0      NaN  \n",
      "2        0      NaN  \n",
      "3        0      3.0  \n",
      "4        0      2.0  \n",
      "     symbol   open   high    low  close  volume   adjclose  dividends  \\\n",
      "0  VULC3.SA  10.61  10.68  10.23  10.58  428500  10.118954        0.0   \n",
      "1  VULC3.SA  10.68  10.72  10.25  10.44  189900   9.985055        0.0   \n",
      "2  VULC3.SA  10.46  10.70  10.29  10.55  293200  10.090262        0.0   \n",
      "3  VULC3.SA  10.50  10.99  10.44  10.75  638300  10.281547        0.0   \n",
      "4  VULC3.SA  10.80  11.13  10.69  11.09  525900  10.606730        0.0   \n",
      "\n",
      "   Rótulos  rótulos  \n",
      "0        0      5.0  \n",
      "1        0      4.0  \n",
      "2        0      3.0  \n",
      "3        0      NaN  \n",
      "4        0      NaN  \n",
      "     symbol   open   high    low  close  volume   adjclose  dividends  \\\n",
      "0  VVEO3.SA  14.39  14.39  13.51  13.59  129900  13.356292        0.0   \n",
      "1  VVEO3.SA  13.20  13.94  13.02  13.02  145200  12.796095        0.0   \n",
      "2  VVEO3.SA  13.03  13.83  13.03  13.50  139600  13.267839        0.0   \n",
      "3  VVEO3.SA  13.35  13.99  13.35  13.66   81800  13.425088        0.0   \n",
      "4  VVEO3.SA  14.18  14.21  13.80  13.80  101300  13.562680        0.0   \n",
      "\n",
      "   Rótulos  rótulos  \n",
      "0        0      NaN  \n",
      "1        0      5.0  \n",
      "2        0      NaN  \n",
      "3        0      NaN  \n",
      "4        0      NaN  \n",
      "     symbol       open       high        low      close    volume   adjclose  \\\n",
      "0  WEGE3.SA  23.559999  23.629999  22.820000  22.830000  16863300  22.451502   \n",
      "1  WEGE3.SA  23.420000  24.469999  23.400000  24.100000  15968600  23.700449   \n",
      "2  WEGE3.SA  24.230000  25.379999  24.010000  25.299999  21113500  24.880550   \n",
      "3  WEGE3.SA  25.100000  26.200001  24.850000  25.790001  13461400  25.362431   \n",
      "4  WEGE3.SA  25.910000  26.350000  25.559999  25.910000  10303100  25.480436   \n",
      "\n",
      "   dividends  Rótulos  rótulos  \n",
      "0        0.0        0      5.0  \n",
      "1        0.0        0      5.0  \n",
      "2        0.0        0      NaN  \n",
      "3        0.0        0      NaN  \n",
      "4        0.0        0      NaN  \n",
      "     symbol  open  high   low  close  volume  adjclose  Rótulos  rótulos\n",
      "0  WEST3.SA  2.10  2.16  2.08   2.11  576500      2.11        0      NaN\n",
      "1  WEST3.SA  2.11  2.13  2.02   2.08  538000      2.08        0      NaN\n",
      "2  WEST3.SA  2.09  2.13  2.04   2.08  555000      2.08        0      NaN\n",
      "3  WEST3.SA  2.07  2.09  2.03   2.03  493400      2.03        0      NaN\n",
      "4  WEST3.SA  2.09  2.13  2.03   2.08  674800      2.08        0      NaN\n",
      "     symbol  open  high   low  close  volume  adjclose  dividends  Rótulos  \\\n",
      "0  WHRL3.SA  4.70  4.70  4.70   4.70     500  4.535324        0.0        0   \n",
      "1  WHRL3.SA  4.71  4.71  4.71   4.71     100  4.544973        0.0        0   \n",
      "2  WHRL3.SA  4.67  4.82  4.62   4.82    1000  4.651120        0.0        0   \n",
      "3  WHRL3.SA  4.78  4.78  4.76   4.76     400  4.593222        0.0        0   \n",
      "4  WHRL3.SA  4.65  4.73  4.64   4.73    1300  4.564273        0.0        0   \n",
      "\n",
      "   rótulos  \n",
      "0      NaN  \n",
      "1      NaN  \n",
      "2      NaN  \n",
      "3      NaN  \n",
      "4      NaN  \n",
      "     symbol  open  high   low  close  volume  adjclose  dividends  Rótulos  \\\n",
      "0  WHRL4.SA  4.95  4.95  4.81   4.90   13500  4.720885        0.0        0   \n",
      "1  WHRL4.SA  4.98  4.98  4.82   4.87   39000  4.691981        0.0        0   \n",
      "2  WHRL4.SA  4.87  4.92  4.82   4.83    5600  4.653443        0.0        0   \n",
      "3  WHRL4.SA  4.99  4.99  4.81   4.83    6000  4.653443        0.0        0   \n",
      "4  WHRL4.SA  4.86  4.88  4.85   4.85    1400  4.672712        0.0        0   \n",
      "\n",
      "   rótulos  \n",
      "0      NaN  \n",
      "1      NaN  \n",
      "2      NaN  \n",
      "3      NaN  \n",
      "4      NaN  \n",
      "     symbol  open  high   low  close   volume  adjclose  dividends  Rótulos  \\\n",
      "0  WIZC3.SA  7.75  7.90  7.61   7.82   891900  7.230931        0.0        0   \n",
      "1  WIZC3.SA  7.82  8.04  7.64   7.79   983900  7.203190        0.0        0   \n",
      "2  WIZC3.SA  7.82  8.28  7.82   8.28  1501200  7.656279        0.0        0   \n",
      "3  WIZC3.SA  8.13  8.67  8.06   8.36  1575000  7.730253        0.0        0   \n",
      "4  WIZC3.SA  8.44  8.49  8.24   8.40   970100  7.767240        0.0        0   \n",
      "\n",
      "   rótulos  \n",
      "0      3.0  \n",
      "1      4.0  \n",
      "2      3.0  \n",
      "3      2.0  \n",
      "4      1.0  \n",
      "     symbol   open   high    low  close  volume   adjclose  dividends  \\\n",
      "0  WLMM3.SA  27.84  27.84  27.84  27.84     0.0  26.628435        0.0   \n",
      "1  WLMM3.SA  27.84  27.84  27.84  27.84     0.0  26.628435        0.0   \n",
      "2  WLMM3.SA  27.84  27.84  27.84  27.84     0.0  26.628435        0.0   \n",
      "3  WLMM3.SA  27.50  27.50  27.50  27.50   200.0  26.303232        0.0   \n",
      "4  WLMM3.SA  25.00  25.00  25.00  25.00   100.0  23.912029        0.0   \n",
      "\n",
      "   Rótulos  rótulos  \n",
      "0        0      NaN  \n",
      "1        0      NaN  \n",
      "2        0      NaN  \n",
      "3        0      NaN  \n",
      "4        0      NaN  \n",
      "     symbol       open       high        low      close  volume   adjclose  \\\n",
      "0  WLMM4.SA  28.020000  30.000000  28.000000  30.000000  1000.0  28.580425   \n",
      "1  WLMM4.SA  30.700001  30.700001  29.100000  30.690001   800.0  29.237776   \n",
      "2  WLMM4.SA  28.719999  30.700001  27.010000  27.010000  3700.0  25.731911   \n",
      "3  WLMM4.SA  27.030001  28.299999  26.570000  26.690001  4300.0  25.427052   \n",
      "4  WLMM4.SA  26.059999  28.360001  26.059999  27.870001  9600.0  26.551214   \n",
      "\n",
      "   dividends  Rótulos  rótulos  \n",
      "0        0.0        0      NaN  \n",
      "1        0.0        0      NaN  \n",
      "2        0.0        0      2.0  \n",
      "3        0.0        0      1.0  \n",
      "4        0.0        0      NaN  \n",
      "     symbol   open   high    low  close   volume  adjclose  Rótulos  rótulos\n",
      "0  YDUQ3.SA  13.52  13.64  13.02  13.33  5523300     13.33        0      NaN\n",
      "1  YDUQ3.SA  13.35  13.94  13.28  13.64  2146700     13.64        0      NaN\n",
      "2  YDUQ3.SA  13.64  13.73  12.95  13.17  3410500     13.17        0      4.0\n",
      "3  YDUQ3.SA  12.89  13.80  12.89  13.59  1676100     13.59        0      NaN\n",
      "4  YDUQ3.SA  13.60  14.06  13.35  13.75  2917000     13.75        0      NaN\n",
      "     symbol  open  high   low  close   volume  adjclose  Rótulos  rótulos\n",
      "0  ZAMP3.SA  6.00  6.15  5.77   6.05  1775000      6.05        0      NaN\n",
      "1  ZAMP3.SA  6.05  6.21  5.88   6.13  1325200      6.13        0      NaN\n",
      "2  ZAMP3.SA  6.15  6.23  5.80   5.89  1446400      5.89        0      NaN\n",
      "3  ZAMP3.SA  5.84  6.03  5.67   5.84  1452700      5.84        0      NaN\n",
      "4  ZAMP3.SA  5.87  6.18  5.81   6.00  1720000      6.00        0      NaN\n"
     ]
    }
   ],
   "source": [
    "for key, df in dados3.items():\n",
    "    for i, row in df.iterrows():\n",
    "        price_now = row['close']\n",
    "\n",
    "        for j in range(i+1, i+1+Prospecção):\n",
    "            if j < len(df):\n",
    "                post_high = df.loc[j, 'high']\n",
    "                if post_high >= (1 + Aumento)*price_now:\n",
    "                    df.loc[i, 'rótulos'] = j - i\n",
    "    \n",
    "    print(df.head())"
   ]
  },
  {
   "cell_type": "code",
   "execution_count": 49,
   "metadata": {},
   "outputs": [
    {
     "name": "stdout",
     "output_type": "stream",
     "text": [
      "symbol        PETR4.SA\n",
      "open             28.17\n",
      "high         28.450001\n",
      "low          26.129999\n",
      "close        27.309999\n",
      "volume       184606500\n",
      "adjclose     16.253057\n",
      "dividends          0.0\n",
      "Rótulos              0\n",
      "Name: 0, dtype: object\n",
      "_\n",
      "symbol        PETR4.SA\n",
      "open             26.02\n",
      "high             28.25\n",
      "low              25.91\n",
      "close        27.620001\n",
      "volume        92581800\n",
      "adjclose      16.43755\n",
      "dividends          0.0\n",
      "Rótulos              0\n",
      "Name: 1, dtype: object\n",
      "_\n",
      "symbol        PETR4.SA\n",
      "open         27.799999\n",
      "high             28.16\n",
      "low          26.690001\n",
      "close            27.07\n",
      "volume        85179500\n",
      "adjclose     16.110224\n",
      "dividends          0.0\n",
      "Rótulos              0\n",
      "Name: 2, dtype: object\n",
      "_\n",
      "symbol        PETR4.SA\n",
      "open             26.58\n",
      "high         27.549999\n",
      "low          26.389999\n",
      "close            26.99\n",
      "volume        57874700\n",
      "adjclose     16.062614\n",
      "dividends          0.0\n",
      "Rótulos              0\n",
      "Name: 3, dtype: object\n",
      "_\n",
      "symbol        PETR4.SA\n",
      "open             26.98\n",
      "high         27.379999\n",
      "low          26.120001\n",
      "close            26.49\n",
      "volume        69262300\n",
      "adjclose     15.765049\n",
      "dividends          0.0\n",
      "Rótulos              0\n",
      "Name: 4, dtype: object\n",
      "_\n",
      "symbol        PETR4.SA\n",
      "open             26.76\n",
      "high             27.09\n",
      "low              26.18\n",
      "close        26.290001\n",
      "volume        53413400\n",
      "adjclose     15.646022\n",
      "dividends          0.0\n",
      "Rótulos              0\n",
      "Name: 5, dtype: object\n",
      "_\n",
      "symbol        PETR4.SA\n",
      "open             26.82\n",
      "high             28.07\n",
      "low              26.66\n",
      "close            27.98\n",
      "volume        90417700\n",
      "adjclose     16.651794\n",
      "dividends          0.0\n",
      "Rótulos              0\n",
      "Name: 6, dtype: object\n",
      "_\n",
      "symbol        PETR4.SA\n",
      "open             28.58\n",
      "high             28.83\n",
      "low              28.02\n",
      "close            28.33\n",
      "volume        51388000\n",
      "adjclose     16.860092\n",
      "dividends          0.0\n",
      "Rótulos              0\n",
      "Name: 7, dtype: object\n",
      "_\n",
      "symbol        PETR4.SA\n",
      "open             28.48\n",
      "high             28.82\n",
      "low              27.84\n",
      "close            28.08\n",
      "volume        52048800\n",
      "adjclose     16.711308\n",
      "dividends          0.0\n",
      "Rótulos              0\n",
      "Name: 8, dtype: object\n",
      "_\n",
      "symbol        PETR4.SA\n",
      "open             27.65\n",
      "high         28.059999\n",
      "low               27.4\n",
      "close            27.93\n",
      "volume        49910100\n",
      "adjclose     16.622038\n",
      "dividends          0.0\n",
      "Rótulos              0\n",
      "Name: 9, dtype: object\n",
      "_\n",
      "symbol        PETR4.SA\n",
      "open             28.08\n",
      "high             28.85\n",
      "low              27.52\n",
      "close        28.530001\n",
      "volume        64948200\n",
      "adjclose     16.979118\n",
      "dividends          0.0\n",
      "Rótulos              0\n",
      "Name: 10, dtype: object\n",
      "_\n",
      "symbol        PETR4.SA\n",
      "open         28.540001\n",
      "high         29.280001\n",
      "low          28.540001\n",
      "close        29.139999\n",
      "volume        37324200\n",
      "adjclose     17.342148\n",
      "dividends          0.0\n",
      "Rótulos              0\n",
      "Name: 11, dtype: object\n",
      "_\n",
      "symbol        PETR4.SA\n",
      "open              28.9\n",
      "high         28.950001\n",
      "low          27.549999\n",
      "close        28.030001\n",
      "volume        78428500\n",
      "adjclose     16.681553\n",
      "dividends          0.0\n",
      "Rótulos              0\n",
      "Name: 12, dtype: object\n",
      "_\n",
      "symbol        PETR4.SA\n",
      "open             28.16\n",
      "high             28.48\n",
      "low              26.91\n",
      "close            27.67\n",
      "volume        57617200\n",
      "adjclose     16.467304\n",
      "dividends          0.0\n",
      "Rótulos              0\n",
      "Name: 13, dtype: object\n",
      "_\n",
      "symbol       PETR4.SA\n",
      "open             28.0\n",
      "high            28.92\n",
      "low              28.0\n",
      "close           28.48\n",
      "volume       52147300\n",
      "adjclose     16.94936\n",
      "dividends         0.0\n",
      "Rótulos             0\n",
      "Name: 14, dtype: object\n",
      "_\n",
      "symbol        PETR4.SA\n",
      "open         28.530001\n",
      "high         28.969999\n",
      "low          28.370001\n",
      "close        28.799999\n",
      "volume        43097800\n",
      "adjclose     17.139803\n",
      "dividends          0.0\n",
      "Rótulos              0\n",
      "Name: 15, dtype: object\n",
      "_\n",
      "symbol        PETR4.SA\n",
      "open             28.32\n",
      "high         28.790001\n",
      "low              28.25\n",
      "close            28.66\n",
      "volume        39577600\n",
      "adjclose     17.056484\n",
      "dividends          0.0\n",
      "Rótulos              0\n",
      "Name: 16, dtype: object\n",
      "_\n",
      "symbol        PETR4.SA\n",
      "open         28.299999\n",
      "high             28.43\n",
      "low          27.969999\n",
      "close            28.23\n",
      "volume        46462000\n",
      "adjclose     16.800577\n",
      "dividends          0.0\n",
      "Rótulos              0\n",
      "Name: 17, dtype: object\n",
      "_\n",
      "symbol        PETR4.SA\n",
      "open         28.129999\n",
      "high             28.48\n",
      "low              27.98\n",
      "close            28.25\n",
      "volume        35497200\n",
      "adjclose     16.812481\n",
      "dividends          0.0\n",
      "Rótulos              0\n",
      "Name: 18, dtype: object\n",
      "_\n",
      "symbol       PETR4.SA\n",
      "open             28.0\n",
      "high             28.0\n",
      "low             27.24\n",
      "close           27.49\n",
      "volume       47151000\n",
      "adjclose     16.36018\n",
      "dividends         0.0\n",
      "Rótulos             0\n",
      "Name: 19, dtype: object\n",
      "_\n",
      "symbol        PETR4.SA\n",
      "open         27.700001\n",
      "high         28.049999\n",
      "low              27.49\n",
      "close        27.959999\n",
      "volume        38610800\n",
      "adjclose     16.639891\n",
      "dividends          0.0\n",
      "Rótulos              0\n",
      "Name: 20, dtype: object\n",
      "_\n",
      "symbol        PETR4.SA\n",
      "open         28.389999\n",
      "high         28.690001\n",
      "low          28.299999\n",
      "close             28.6\n",
      "volume        46782300\n",
      "adjclose     17.020779\n",
      "dividends          0.0\n",
      "Rótulos              0\n",
      "Name: 21, dtype: object\n",
      "_\n",
      "symbol        PETR4.SA\n",
      "open         28.549999\n",
      "high             29.24\n",
      "low               28.4\n",
      "close            29.18\n",
      "volume        48562300\n",
      "adjclose     17.365953\n",
      "dividends          0.0\n",
      "Rótulos              0\n",
      "Name: 22, dtype: object\n",
      "_\n",
      "symbol        PETR4.SA\n",
      "open             29.07\n",
      "high         29.219999\n",
      "low              28.83\n",
      "close            29.17\n",
      "volume        43520800\n",
      "adjclose     17.360001\n",
      "dividends          0.0\n",
      "Rótulos              0\n",
      "Name: 23, dtype: object\n",
      "_\n",
      "symbol        PETR4.SA\n",
      "open             28.98\n",
      "high         29.129999\n",
      "low          28.200001\n",
      "close            29.02\n",
      "volume        58843200\n",
      "adjclose     17.270733\n",
      "dividends          0.0\n",
      "Rótulos              0\n",
      "Name: 24, dtype: object\n",
      "_\n",
      "symbol        PETR4.SA\n",
      "open         29.040001\n",
      "high         29.469999\n",
      "low              28.85\n",
      "close            29.33\n",
      "volume        55676200\n",
      "adjclose     17.455223\n",
      "dividends          0.0\n",
      "Rótulos              0\n",
      "Name: 25, dtype: object\n",
      "_\n",
      "symbol        PETR4.SA\n",
      "open         29.610001\n",
      "high             30.75\n",
      "low          29.610001\n",
      "close        30.700001\n",
      "volume        79106600\n",
      "adjclose     18.270554\n",
      "dividends          0.0\n",
      "Rótulos              0\n",
      "Name: 26, dtype: object\n",
      "_\n",
      "symbol        PETR4.SA\n",
      "open         31.200001\n",
      "high         31.620001\n",
      "low              30.59\n",
      "close            31.01\n",
      "volume        78360100\n",
      "adjclose     18.455046\n",
      "dividends          0.0\n",
      "Rótulos              0\n",
      "Name: 27, dtype: object\n",
      "_\n",
      "symbol        PETR4.SA\n",
      "open         31.299999\n",
      "high         31.469999\n",
      "low          30.620001\n",
      "close            31.35\n",
      "volume        56097200\n",
      "adjclose     18.657391\n",
      "dividends          0.0\n",
      "Rótulos              0\n",
      "Name: 28, dtype: object\n",
      "_\n",
      "symbol        PETR4.SA\n",
      "open             31.59\n",
      "high         32.630001\n",
      "low              31.43\n",
      "close        32.290001\n",
      "volume       114996500\n",
      "adjclose     19.216816\n",
      "dividends          0.0\n",
      "Rótulos              0\n",
      "Name: 29, dtype: object\n",
      "_\n",
      "symbol        PETR4.SA\n",
      "open         33.599998\n",
      "high             34.66\n",
      "low          32.830002\n",
      "close        34.150002\n",
      "volume       181480600\n",
      "adjclose     20.323761\n",
      "dividends          0.0\n",
      "Rótulos              0\n",
      "Name: 30, dtype: object\n",
      "_\n",
      "symbol        PETR4.SA\n",
      "open              34.0\n",
      "high         34.150002\n",
      "low          33.220001\n",
      "close            33.68\n",
      "volume        81365100\n",
      "adjclose     20.044048\n",
      "dividends          0.0\n",
      "Rótulos              0\n",
      "Name: 31, dtype: object\n",
      "_\n",
      "symbol        PETR4.SA\n",
      "open             33.77\n",
      "high              34.5\n",
      "low              33.48\n",
      "close        33.830002\n",
      "volume        69147100\n",
      "adjclose      20.13332\n",
      "dividends          0.0\n",
      "Rótulos              0\n",
      "Name: 32, dtype: object\n",
      "_\n",
      "symbol        PETR4.SA\n",
      "open         34.009998\n",
      "high             34.16\n",
      "low          33.560001\n",
      "close        33.849998\n",
      "volume        65544500\n",
      "adjclose      20.14522\n",
      "dividends          0.0\n",
      "Rótulos              0\n",
      "Name: 33, dtype: object\n",
      "_\n",
      "symbol        PETR4.SA\n",
      "open         34.080002\n",
      "high         34.400002\n",
      "low          33.580002\n",
      "close        34.209999\n",
      "volume        54387500\n",
      "adjclose     20.359467\n",
      "dividends          0.0\n",
      "Rótulos              0\n",
      "Name: 34, dtype: object\n",
      "_\n",
      "symbol        PETR4.SA\n",
      "open         34.150002\n",
      "high         35.060001\n",
      "low          34.119999\n",
      "close        34.869999\n",
      "volume        77882600\n",
      "adjclose     20.752254\n",
      "dividends          0.0\n",
      "Rótulos              0\n",
      "Name: 35, dtype: object\n",
      "_\n",
      "symbol        PETR4.SA\n",
      "open         35.139999\n",
      "high             36.77\n",
      "low          35.130001\n",
      "close        36.630001\n",
      "volume       109484600\n",
      "adjclose     21.799686\n",
      "dividends          0.0\n",
      "Rótulos              0\n",
      "Name: 36, dtype: object\n",
      "_\n",
      "symbol        PETR4.SA\n",
      "open         37.009998\n",
      "high         37.459999\n",
      "low          36.849998\n",
      "close            37.23\n",
      "volume        79051200\n",
      "adjclose     22.156767\n",
      "dividends          0.0\n",
      "Rótulos              0\n",
      "Name: 37, dtype: object\n",
      "_\n",
      "symbol        PETR4.SA\n",
      "open         37.650002\n",
      "high         37.650002\n",
      "low          36.610001\n",
      "close        37.110001\n",
      "volume        78369600\n",
      "adjclose      22.08535\n",
      "dividends          0.0\n",
      "Rótulos              0\n",
      "Name: 38, dtype: object\n",
      "_\n",
      "symbol        PETR4.SA\n",
      "open         37.450001\n",
      "high         37.860001\n",
      "low              36.25\n",
      "close            36.25\n",
      "volume       128896500\n",
      "adjclose      21.57354\n",
      "dividends          0.0\n",
      "Rótulos              0\n",
      "Name: 39, dtype: object\n",
      "_\n",
      "symbol        PETR4.SA\n",
      "open              29.1\n",
      "high             31.83\n",
      "low              29.08\n",
      "close        31.709999\n",
      "volume       171288300\n",
      "adjclose     23.175583\n",
      "dividends     6.732003\n",
      "Rótulos              0\n",
      "Name: 40, dtype: object\n",
      "_\n",
      "symbol        PETR4.SA\n",
      "open         30.879999\n",
      "high             32.23\n",
      "low          30.549999\n",
      "close        31.719999\n",
      "volume        96759000\n",
      "adjclose     23.182894\n",
      "dividends          0.0\n",
      "Rótulos              0\n",
      "Name: 41, dtype: object\n",
      "_\n",
      "symbol        PETR4.SA\n",
      "open         31.719999\n",
      "high             32.07\n",
      "low               31.5\n",
      "close        32.009998\n",
      "volume        64218800\n",
      "adjclose     23.394842\n",
      "dividends          0.0\n",
      "Rótulos              0\n",
      "Name: 42, dtype: object\n",
      "_\n",
      "symbol        PETR4.SA\n",
      "open             31.65\n",
      "high             32.82\n",
      "low               31.6\n",
      "close        32.759998\n",
      "volume        72924700\n",
      "adjclose     23.942989\n",
      "dividends          0.0\n",
      "Rótulos              0\n",
      "Name: 43, dtype: object\n",
      "_\n",
      "symbol        PETR4.SA\n",
      "open         33.099998\n",
      "high             33.66\n",
      "low          32.869999\n",
      "close        33.419998\n",
      "volume        84552500\n",
      "adjclose     24.425356\n",
      "dividends          0.0\n",
      "Rótulos              0\n",
      "Name: 44, dtype: object\n",
      "_\n",
      "symbol        PETR4.SA\n",
      "open         32.919998\n",
      "high         33.150002\n",
      "low              31.33\n",
      "close            31.73\n",
      "volume       125178200\n",
      "adjclose     23.190203\n",
      "dividends          0.0\n",
      "Rótulos              0\n",
      "Name: 45, dtype: object\n",
      "_\n",
      "symbol        PETR4.SA\n",
      "open             31.74\n",
      "high         32.580002\n",
      "low              30.48\n",
      "close            32.41\n",
      "volume        92400300\n",
      "adjclose     23.687187\n",
      "dividends          0.0\n",
      "Rótulos              0\n",
      "Name: 46, dtype: object\n",
      "_\n",
      "symbol        PETR4.SA\n",
      "open         32.630001\n",
      "high              33.5\n",
      "low          32.619999\n",
      "close        33.439999\n",
      "volume        73215800\n",
      "adjclose     24.439974\n",
      "dividends          0.0\n",
      "Rótulos              0\n",
      "Name: 47, dtype: object\n",
      "_\n",
      "symbol        PETR4.SA\n",
      "open         33.540001\n",
      "high         34.119999\n",
      "low              33.25\n",
      "close        33.639999\n",
      "volume        61067900\n",
      "adjclose     24.586147\n",
      "dividends          0.0\n",
      "Rótulos              0\n",
      "Name: 48, dtype: object\n",
      "_\n",
      "symbol        PETR4.SA\n",
      "open         34.099998\n",
      "high         34.360001\n",
      "low          32.669998\n",
      "close        33.279999\n",
      "volume        99511600\n",
      "adjclose     24.323036\n",
      "dividends          0.0\n",
      "Rótulos              0\n",
      "Name: 49, dtype: object\n",
      "_\n",
      "symbol        PETR4.SA\n",
      "open         33.279999\n",
      "high         33.669998\n",
      "low              32.57\n",
      "close        33.639999\n",
      "volume        63545400\n",
      "adjclose     24.586147\n",
      "dividends          0.0\n",
      "Rótulos              0\n",
      "Name: 50, dtype: object\n",
      "_\n",
      "symbol        PETR4.SA\n",
      "open         33.549999\n",
      "high         35.080002\n",
      "low          33.450001\n",
      "close            34.48\n",
      "volume        73339500\n",
      "adjclose     25.200068\n",
      "dividends          0.0\n",
      "Rótulos              0\n",
      "Name: 51, dtype: object\n",
      "_\n",
      "symbol        PETR4.SA\n",
      "open              34.0\n",
      "high         34.220001\n",
      "low              32.27\n",
      "close            32.43\n",
      "volume        99361100\n",
      "adjclose     23.701805\n",
      "dividends          0.0\n",
      "Rótulos              0\n",
      "Name: 52, dtype: object\n",
      "_\n",
      "symbol        PETR4.SA\n",
      "open             32.07\n",
      "high         33.439999\n",
      "low              31.82\n",
      "close            33.23\n",
      "volume       114235400\n",
      "adjclose     24.286493\n",
      "dividends          0.0\n",
      "Rótulos              0\n",
      "Name: 53, dtype: object\n",
      "_\n",
      "symbol        PETR4.SA\n",
      "open         33.360001\n",
      "high         33.950001\n",
      "low          32.759998\n",
      "close        33.849998\n",
      "volume        69184700\n",
      "adjclose     24.739626\n",
      "dividends          0.0\n",
      "Rótulos              0\n",
      "Name: 54, dtype: object\n",
      "_\n",
      "symbol        PETR4.SA\n",
      "open         34.439999\n",
      "high             34.57\n",
      "low          33.259998\n",
      "close        33.419998\n",
      "volume        81792300\n",
      "adjclose     24.425356\n",
      "dividends          0.0\n",
      "Rótulos              0\n",
      "Name: 55, dtype: object\n",
      "_\n",
      "symbol        PETR4.SA\n",
      "open         33.849998\n",
      "high         34.110001\n",
      "low          33.150002\n",
      "close            33.34\n",
      "volume        76337600\n",
      "adjclose      24.36689\n",
      "dividends          0.0\n",
      "Rótulos              0\n",
      "Name: 56, dtype: object\n",
      "_\n",
      "symbol        PETR4.SA\n",
      "open             32.27\n",
      "high             32.59\n",
      "low              31.51\n",
      "close        32.099998\n",
      "volume       111813500\n",
      "adjclose     23.460621\n",
      "dividends          0.0\n",
      "Rótulos              0\n",
      "Name: 57, dtype: object\n",
      "_\n",
      "symbol        PETR4.SA\n",
      "open         32.310001\n",
      "high         32.779999\n",
      "low               31.4\n",
      "close        31.799999\n",
      "volume        63159800\n",
      "adjclose     23.241364\n",
      "dividends          0.0\n",
      "Rótulos              0\n",
      "Name: 58, dtype: object\n",
      "_\n",
      "symbol        PETR4.SA\n",
      "open         32.490002\n",
      "high         32.669998\n",
      "low          31.700001\n",
      "close        31.790001\n",
      "volume        49871900\n",
      "adjclose     23.234055\n",
      "dividends          0.0\n",
      "Rótulos              0\n",
      "Name: 59, dtype: object\n",
      "_\n",
      "symbol        PETR4.SA\n",
      "open         32.150002\n",
      "high             32.73\n",
      "low          31.459999\n",
      "close            31.48\n",
      "volume        71374500\n",
      "adjclose     23.007488\n",
      "dividends          0.0\n",
      "Rótulos              0\n",
      "Name: 60, dtype: object\n",
      "_\n",
      "symbol        PETR4.SA\n",
      "open         30.940001\n",
      "high         31.440001\n",
      "low              30.52\n",
      "close            30.65\n",
      "volume        88327800\n",
      "adjclose     22.400873\n",
      "dividends          0.0\n",
      "Rótulos              0\n",
      "Name: 61, dtype: object\n",
      "_\n",
      "symbol        PETR4.SA\n",
      "open             30.75\n",
      "high             31.43\n",
      "low          30.629999\n",
      "close        31.120001\n",
      "volume        49039700\n",
      "adjclose     22.744379\n",
      "dividends          0.0\n",
      "Rótulos              0\n",
      "Name: 62, dtype: object\n",
      "_\n",
      "symbol        PETR4.SA\n",
      "open             30.92\n",
      "high             31.23\n",
      "low          30.799999\n",
      "close        31.059999\n",
      "volume        45553200\n",
      "adjclose     22.700527\n",
      "dividends          0.0\n",
      "Rótulos              0\n",
      "Name: 63, dtype: object\n",
      "_\n",
      "symbol        PETR4.SA\n",
      "open         30.860001\n",
      "high         30.950001\n",
      "low              30.34\n",
      "close        30.780001\n",
      "volume       107303600\n",
      "adjclose     22.495886\n",
      "dividends          0.0\n",
      "Rótulos              0\n",
      "Name: 64, dtype: object\n",
      "_\n",
      "symbol        PETR4.SA\n",
      "open              30.5\n",
      "high         31.379999\n",
      "low          29.879999\n",
      "close            31.27\n",
      "volume        65559900\n",
      "adjclose     22.854006\n",
      "dividends          0.0\n",
      "Rótulos              0\n",
      "Name: 65, dtype: object\n",
      "_\n",
      "symbol        PETR4.SA\n",
      "open             31.42\n",
      "high              31.6\n",
      "low              30.84\n",
      "close            31.09\n",
      "volume        67798200\n",
      "adjclose     22.722452\n",
      "dividends          0.0\n",
      "Rótulos              0\n",
      "Name: 66, dtype: object\n",
      "_\n",
      "symbol        PETR4.SA\n",
      "open             31.35\n",
      "high         31.469999\n",
      "low          30.889999\n",
      "close            31.17\n",
      "volume        58812200\n",
      "adjclose     22.780922\n",
      "dividends          0.0\n",
      "Rótulos              0\n",
      "Name: 67, dtype: object\n",
      "_\n",
      "symbol        PETR4.SA\n",
      "open             31.48\n",
      "high         32.080002\n",
      "low          31.030001\n",
      "close        31.940001\n",
      "volume        69764300\n",
      "adjclose     23.343685\n",
      "dividends          0.0\n",
      "Rótulos              0\n",
      "Name: 68, dtype: object\n",
      "_\n",
      "symbol        PETR4.SA\n",
      "open             31.32\n",
      "high         31.389999\n",
      "low              29.77\n",
      "close        29.940001\n",
      "volume       138630800\n",
      "adjclose     21.881964\n",
      "dividends          0.0\n",
      "Rótulos              0\n",
      "Name: 69, dtype: object\n",
      "_\n",
      "symbol        PETR4.SA\n",
      "open         29.719999\n",
      "high             30.08\n",
      "low              29.27\n",
      "close        29.290001\n",
      "volume        42934600\n",
      "adjclose     21.406904\n",
      "dividends          0.0\n",
      "Rótulos              0\n",
      "Name: 70, dtype: object\n",
      "_\n",
      "symbol        PETR4.SA\n",
      "open             29.66\n",
      "high         29.879999\n",
      "low              29.58\n",
      "close            29.67\n",
      "volume        71087600\n",
      "adjclose     21.684629\n",
      "dividends          0.0\n",
      "Rótulos              0\n",
      "Name: 71, dtype: object\n",
      "_\n",
      "symbol        PETR4.SA\n",
      "open             29.67\n",
      "high             29.82\n",
      "low              28.58\n",
      "close            29.27\n",
      "volume       104670700\n",
      "adjclose     21.392286\n",
      "dividends          0.0\n",
      "Rótulos              0\n",
      "Name: 72, dtype: object\n",
      "_\n",
      "symbol        PETR4.SA\n",
      "open             28.99\n",
      "high              29.4\n",
      "low               28.6\n",
      "close        29.309999\n",
      "volume        87536500\n",
      "adjclose      21.42152\n",
      "dividends          0.0\n",
      "Rótulos              0\n",
      "Name: 73, dtype: object\n",
      "_\n",
      "symbol        PETR4.SA\n",
      "open         29.219999\n",
      "high             30.49\n",
      "low               29.0\n",
      "close        29.799999\n",
      "volume       121637100\n",
      "adjclose     21.779642\n",
      "dividends          0.0\n",
      "Rótulos              0\n",
      "Name: 74, dtype: object\n",
      "_\n",
      "symbol        PETR4.SA\n",
      "open             31.91\n",
      "high         32.639999\n",
      "low              31.66\n",
      "close            32.18\n",
      "volume       179694100\n",
      "adjclose     23.519093\n",
      "dividends          0.0\n",
      "Rótulos              0\n",
      "Name: 75, dtype: object\n",
      "_\n",
      "symbol        PETR4.SA\n",
      "open         32.900002\n",
      "high             32.98\n",
      "low              31.07\n",
      "close        31.370001\n",
      "volume       115917200\n",
      "adjclose     22.927094\n",
      "dividends          0.0\n",
      "Rótulos              0\n",
      "Name: 76, dtype: object\n",
      "_\n",
      "symbol        PETR4.SA\n",
      "open             31.41\n",
      "high             32.82\n",
      "low          31.200001\n",
      "close        32.549999\n",
      "volume        92893700\n",
      "adjclose     23.789507\n",
      "dividends          0.0\n",
      "Rótulos              0\n",
      "Name: 77, dtype: object\n",
      "_\n",
      "symbol        PETR4.SA\n",
      "open              33.0\n",
      "high         33.790001\n",
      "low          32.439999\n",
      "close            33.66\n",
      "volume        82671900\n",
      "adjclose     24.600763\n",
      "dividends          0.0\n",
      "Rótulos              0\n",
      "Name: 78, dtype: object\n",
      "_\n",
      "symbol        PETR4.SA\n",
      "open         33.580002\n",
      "high             34.32\n",
      "low          33.220001\n",
      "close        33.630001\n",
      "volume        73500100\n",
      "adjclose      24.57884\n",
      "dividends          0.0\n",
      "Rótulos              0\n",
      "Name: 79, dtype: object\n",
      "_\n",
      "symbol        PETR4.SA\n",
      "open         33.650002\n",
      "high         33.889999\n",
      "low               33.0\n",
      "close            33.25\n",
      "volume        52222600\n",
      "adjclose     24.301111\n",
      "dividends          0.0\n",
      "Rótulos              0\n",
      "Name: 80, dtype: object\n",
      "_\n",
      "symbol        PETR4.SA\n",
      "open         32.889999\n",
      "high         33.330002\n",
      "low          32.610001\n",
      "close             33.0\n",
      "volume        58332400\n",
      "adjclose     24.118397\n",
      "dividends          0.0\n",
      "Rótulos              0\n",
      "Name: 81, dtype: object\n",
      "_\n",
      "symbol        PETR4.SA\n",
      "open              32.5\n",
      "high         34.490002\n",
      "low              32.41\n",
      "close        33.939999\n",
      "volume        91143900\n",
      "adjclose     24.805405\n",
      "dividends          0.0\n",
      "Rótulos              0\n",
      "Name: 82, dtype: object\n",
      "_\n",
      "symbol        PETR4.SA\n",
      "open         33.970001\n",
      "high         34.139999\n",
      "low          33.299999\n",
      "close        33.419998\n",
      "volume        62246100\n",
      "adjclose     24.425356\n",
      "dividends          0.0\n",
      "Rótulos              0\n",
      "Name: 83, dtype: object\n",
      "_\n",
      "symbol        PETR4.SA\n",
      "open         33.240002\n",
      "high         34.150002\n",
      "low              32.84\n",
      "close        33.389999\n",
      "volume       100936400\n",
      "adjclose     24.403431\n",
      "dividends          0.0\n",
      "Rótulos              0\n",
      "Name: 84, dtype: object\n",
      "_\n",
      "symbol        PETR4.SA\n",
      "open         33.900002\n",
      "high             34.23\n",
      "low              33.16\n",
      "close        34.209999\n",
      "volume        82313200\n",
      "adjclose     25.002737\n",
      "dividends          0.0\n",
      "Rótulos              0\n",
      "Name: 85, dtype: object\n",
      "_\n",
      "symbol        PETR4.SA\n",
      "open         34.130001\n",
      "high         35.560001\n",
      "low              34.02\n",
      "close        35.419998\n",
      "volume       113700900\n",
      "adjclose     25.887075\n",
      "dividends          0.0\n",
      "Rótulos              0\n",
      "Name: 86, dtype: object\n",
      "_\n",
      "symbol        PETR4.SA\n",
      "open         36.099998\n",
      "high         36.549999\n",
      "low              35.77\n",
      "close        36.470001\n",
      "volume       114347400\n",
      "adjclose     26.654482\n",
      "dividends          0.0\n",
      "Rótulos              0\n",
      "Name: 87, dtype: object\n",
      "_\n",
      "symbol        PETR4.SA\n",
      "open         36.450001\n",
      "high         38.389999\n",
      "low          36.389999\n",
      "close        37.720001\n",
      "volume       139601400\n",
      "adjclose     27.568058\n",
      "dividends          0.0\n",
      "Rótulos              0\n",
      "Name: 88, dtype: object\n",
      "_\n",
      "symbol        PETR4.SA\n",
      "open              36.5\n",
      "high             36.82\n",
      "low              34.23\n",
      "close            34.25\n",
      "volume       142110900\n",
      "adjclose     25.031971\n",
      "dividends          0.0\n",
      "Rótulos              0\n",
      "Name: 89, dtype: object\n",
      "_\n",
      "symbol        PETR4.SA\n",
      "open         34.040001\n",
      "high              34.5\n",
      "low          33.209999\n",
      "close        33.529999\n",
      "volume       113161200\n",
      "adjclose     24.505751\n",
      "dividends          0.0\n",
      "Rótulos              0\n",
      "Name: 90, dtype: object\n",
      "_\n",
      "symbol        PETR4.SA\n",
      "open         32.599998\n",
      "high         33.529999\n",
      "low               31.9\n",
      "close        32.709999\n",
      "volume       121334800\n",
      "adjclose     23.906445\n",
      "dividends          0.0\n",
      "Rótulos              0\n",
      "Name: 91, dtype: object\n",
      "_\n",
      "symbol        PETR4.SA\n",
      "open         32.810001\n",
      "high         33.540001\n",
      "low          32.669998\n",
      "close        32.959999\n",
      "volume       111008800\n",
      "adjclose     24.089161\n",
      "dividends          0.0\n",
      "Rótulos              0\n",
      "Name: 92, dtype: object\n",
      "_\n",
      "symbol        PETR4.SA\n",
      "open         32.700001\n",
      "high         33.119999\n",
      "low          31.860001\n",
      "close            32.57\n",
      "volume       129745400\n",
      "adjclose     23.804125\n",
      "dividends          0.0\n",
      "Rótulos              0\n",
      "Name: 93, dtype: object\n",
      "_\n",
      "symbol        PETR4.SA\n",
      "open         30.610001\n",
      "high              31.6\n",
      "low              29.16\n",
      "close        29.809999\n",
      "volume       262409400\n",
      "adjclose     21.786949\n",
      "dividends          0.0\n",
      "Rótulos              0\n",
      "Name: 94, dtype: object\n",
      "_\n",
      "symbol        PETR4.SA\n",
      "open             30.57\n",
      "high             30.67\n",
      "low          29.559999\n",
      "close        29.860001\n",
      "volume       115944200\n",
      "adjclose     21.823496\n",
      "dividends          0.0\n",
      "Rótulos              0\n",
      "Name: 95, dtype: object\n",
      "_\n",
      "symbol        PETR4.SA\n",
      "open         29.799999\n",
      "high         30.389999\n",
      "low          29.440001\n",
      "close        29.950001\n",
      "volume       139062100\n",
      "adjclose     21.889271\n",
      "dividends          0.0\n",
      "Rótulos              0\n",
      "Name: 96, dtype: object\n",
      "_\n",
      "symbol        PETR4.SA\n",
      "open         30.799999\n",
      "high              30.9\n",
      "low              28.18\n",
      "close        28.299999\n",
      "volume       195361000\n",
      "adjclose     20.683352\n",
      "dividends          0.0\n",
      "Rótulos              0\n",
      "Name: 97, dtype: object\n",
      "_\n",
      "symbol        PETR4.SA\n",
      "open         27.959999\n",
      "high         28.299999\n",
      "low              27.07\n",
      "close            27.15\n",
      "volume       117206600\n",
      "adjclose     19.842863\n",
      "dividends          0.0\n",
      "Rótulos              0\n",
      "Name: 98, dtype: object\n",
      "_\n",
      "symbol        PETR4.SA\n",
      "open         27.059999\n",
      "high         27.530001\n",
      "low              26.75\n",
      "close            27.35\n",
      "volume        94745400\n",
      "adjclose     19.989035\n",
      "dividends          0.0\n",
      "Rótulos              0\n",
      "Name: 99, dtype: object\n",
      "_\n",
      "symbol        PETR4.SA\n",
      "open             27.15\n",
      "high         27.950001\n",
      "low          26.639999\n",
      "close             26.9\n",
      "volume       103303500\n",
      "adjclose     19.660145\n",
      "dividends          0.0\n",
      "Rótulos              0\n",
      "Name: 100, dtype: object\n",
      "_\n",
      "symbol        PETR4.SA\n",
      "open             26.08\n",
      "high         26.889999\n",
      "low          25.610001\n",
      "close        26.120001\n",
      "volume       145470100\n",
      "adjclose     19.090076\n",
      "dividends          0.0\n",
      "Rótulos              0\n",
      "Name: 101, dtype: object\n",
      "_\n",
      "symbol        PETR4.SA\n",
      "open         25.799999\n",
      "high         27.360001\n",
      "low          25.700001\n",
      "close            26.99\n",
      "volume       146365800\n",
      "adjclose     19.725925\n",
      "dividends          0.0\n",
      "Rótulos              0\n",
      "Name: 102, dtype: object\n",
      "_\n",
      "symbol        PETR4.SA\n",
      "open             27.26\n",
      "high             28.18\n",
      "low              27.09\n",
      "close        27.700001\n",
      "volume        66639500\n",
      "adjclose     20.244837\n",
      "dividends          0.0\n",
      "Rótulos              0\n",
      "Name: 103, dtype: object\n",
      "_\n",
      "symbol        PETR4.SA\n",
      "open         27.809999\n",
      "high         28.110001\n",
      "low              26.93\n",
      "close            27.15\n",
      "volume        85549900\n",
      "adjclose     19.842863\n",
      "dividends          0.0\n",
      "Rótulos              0\n",
      "Name: 104, dtype: object\n",
      "_\n",
      "symbol        PETR4.SA\n",
      "open              27.0\n",
      "high         27.299999\n",
      "low          26.549999\n",
      "close            27.16\n",
      "volume       101525800\n",
      "adjclose      19.85017\n",
      "dividends          0.0\n",
      "Rótulos              0\n",
      "Name: 105, dtype: object\n",
      "_\n",
      "symbol        PETR4.SA\n",
      "open              27.4\n",
      "high              27.6\n",
      "low          26.219999\n",
      "close        26.700001\n",
      "volume       127683500\n",
      "adjclose     19.513975\n",
      "dividends          0.0\n",
      "Rótulos              0\n",
      "Name: 106, dtype: object\n",
      "_\n",
      "symbol        PETR4.SA\n",
      "open         27.120001\n",
      "high             27.57\n",
      "low          26.049999\n",
      "close        26.780001\n",
      "volume       164898100\n",
      "adjclose     19.572443\n",
      "dividends          0.0\n",
      "Rótulos              0\n",
      "Name: 107, dtype: object\n",
      "_\n",
      "symbol        PETR4.SA\n",
      "open              23.0\n",
      "high             23.43\n",
      "low          22.299999\n",
      "close            23.33\n",
      "volume       164261300\n",
      "adjclose     19.487993\n",
      "dividends       3.3489\n",
      "Rótulos              0\n",
      "Name: 108, dtype: object\n",
      "_\n",
      "symbol        PETR4.SA\n",
      "open              23.0\n",
      "high             23.65\n",
      "low          22.799999\n",
      "close        23.440001\n",
      "volume        77317300\n",
      "adjclose      19.57988\n",
      "dividends          0.0\n",
      "Rótulos              0\n",
      "Name: 109, dtype: object\n",
      "_\n",
      "symbol        PETR4.SA\n",
      "open             23.52\n",
      "high         24.629999\n",
      "low              23.25\n",
      "close            24.25\n",
      "volume        94233800\n",
      "adjclose     20.256485\n",
      "dividends          0.0\n",
      "Rótulos              0\n",
      "Name: 110, dtype: object\n",
      "_\n",
      "symbol        PETR4.SA\n",
      "open             24.26\n",
      "high             24.33\n",
      "low               23.6\n",
      "close        23.860001\n",
      "volume        58635900\n",
      "adjclose     19.930712\n",
      "dividends          0.0\n",
      "Rótulos              0\n",
      "Name: 111, dtype: object\n",
      "_\n",
      "symbol        PETR4.SA\n",
      "open             23.65\n",
      "high         24.549999\n",
      "low          23.540001\n",
      "close        24.360001\n",
      "volume        56067400\n",
      "adjclose     20.348372\n",
      "dividends          0.0\n",
      "Rótulos              0\n",
      "Name: 112, dtype: object\n",
      "_\n",
      "symbol        PETR4.SA\n",
      "open              24.6\n",
      "high         25.879999\n",
      "low              24.48\n",
      "close        25.379999\n",
      "volume        96151500\n",
      "adjclose     21.200396\n",
      "dividends          0.0\n",
      "Rótulos              0\n",
      "Name: 113, dtype: object\n",
      "_\n",
      "symbol        PETR4.SA\n",
      "open              25.6\n",
      "high             26.66\n",
      "low               25.5\n",
      "close            26.66\n",
      "volume       120774700\n",
      "adjclose     22.269606\n",
      "dividends          0.0\n",
      "Rótulos              0\n",
      "Name: 114, dtype: object\n",
      "_\n",
      "symbol        PETR4.SA\n",
      "open             26.58\n",
      "high         26.790001\n",
      "low          25.559999\n",
      "close            25.59\n",
      "volume        71259400\n",
      "adjclose     21.375814\n",
      "dividends          0.0\n",
      "Rótulos              0\n",
      "Name: 115, dtype: object\n",
      "_\n",
      "symbol        PETR4.SA\n",
      "open         25.690001\n",
      "high         26.450001\n",
      "low          25.309999\n",
      "close            25.91\n",
      "volume        66301000\n",
      "adjclose     21.643116\n",
      "dividends          0.0\n",
      "Rótulos              0\n",
      "Name: 116, dtype: object\n",
      "_\n",
      "symbol        PETR4.SA\n",
      "open              26.0\n",
      "high             26.58\n",
      "low          25.549999\n",
      "close        25.620001\n",
      "volume        56065400\n",
      "adjclose     21.400873\n",
      "dividends          0.0\n",
      "Rótulos              0\n",
      "Name: 117, dtype: object\n",
      "_\n",
      "symbol        PETR4.SA\n",
      "open             25.82\n",
      "high         26.389999\n",
      "low              25.42\n",
      "close        25.639999\n",
      "volume        74991200\n",
      "adjclose      21.41758\n",
      "dividends          0.0\n",
      "Rótulos              0\n",
      "Name: 118, dtype: object\n",
      "_\n",
      "symbol        PETR4.SA\n",
      "open             25.34\n",
      "high             26.07\n",
      "low              25.27\n",
      "close            25.35\n",
      "volume        57008400\n",
      "adjclose     21.175337\n",
      "dividends          0.0\n",
      "Rótulos              0\n",
      "Name: 119, dtype: object\n",
      "_\n",
      "symbol        PETR4.SA\n",
      "open         25.549999\n",
      "high         25.790001\n",
      "low          24.639999\n",
      "close        24.780001\n",
      "volume        55567700\n",
      "adjclose     20.699205\n",
      "dividends          0.0\n",
      "Rótulos              0\n",
      "Name: 120, dtype: object\n",
      "_\n",
      "symbol        PETR4.SA\n",
      "open             24.99\n",
      "high         25.049999\n",
      "low              24.49\n",
      "close        24.709999\n",
      "volume        61586200\n",
      "adjclose     20.640732\n",
      "dividends          0.0\n",
      "Rótulos              0\n",
      "Name: 121, dtype: object\n",
      "_\n",
      "symbol        PETR4.SA\n",
      "open             24.58\n",
      "high             24.66\n",
      "low          23.129999\n",
      "close            23.91\n",
      "volume       111293100\n",
      "adjclose     19.972477\n",
      "dividends          0.0\n",
      "Rótulos              0\n",
      "Name: 122, dtype: object\n",
      "_\n",
      "symbol        PETR4.SA\n",
      "open              24.1\n",
      "high         24.200001\n",
      "low          23.309999\n",
      "close            23.32\n",
      "volume       102533100\n",
      "adjclose     19.479639\n",
      "dividends          0.0\n",
      "Rótulos              0\n",
      "Name: 123, dtype: object\n",
      "_\n",
      "symbol        PETR4.SA\n",
      "open              22.5\n",
      "high              22.6\n",
      "low              20.77\n",
      "close        21.469999\n",
      "volume       319501600\n",
      "adjclose     17.934298\n",
      "dividends          0.0\n",
      "Rótulos              0\n",
      "Name: 124, dtype: object\n",
      "_\n",
      "symbol        PETR4.SA\n",
      "open              21.0\n",
      "high         22.370001\n",
      "low              20.83\n",
      "close        22.040001\n",
      "volume       132385600\n",
      "adjclose     18.410431\n",
      "dividends          0.0\n",
      "Rótulos              0\n",
      "Name: 125, dtype: object\n",
      "_\n",
      "symbol        PETR4.SA\n",
      "open         21.959999\n",
      "high         22.110001\n",
      "low              21.51\n",
      "close        22.049999\n",
      "volume        90767300\n",
      "adjclose     18.418783\n",
      "dividends          0.0\n",
      "Rótulos              0\n",
      "Name: 126, dtype: object\n",
      "_\n",
      "symbol        PETR4.SA\n",
      "open              22.1\n",
      "high             22.51\n",
      "low          21.639999\n",
      "close        22.379999\n",
      "volume        63074100\n",
      "adjclose     18.694439\n",
      "dividends          0.0\n",
      "Rótulos              0\n",
      "Name: 127, dtype: object\n",
      "_\n",
      "symbol        PETR4.SA\n",
      "open         22.389999\n",
      "high             23.24\n",
      "low          22.209999\n",
      "close            23.07\n",
      "volume        71875500\n",
      "adjclose     19.270809\n",
      "dividends          0.0\n",
      "Rótulos              0\n",
      "Name: 128, dtype: object\n",
      "_\n",
      "symbol        PETR4.SA\n",
      "open              23.5\n",
      "high         23.719999\n",
      "low              22.85\n",
      "close            23.57\n",
      "volume        74252800\n",
      "adjclose     19.688469\n",
      "dividends          0.0\n",
      "Rótulos              0\n",
      "Name: 129, dtype: object\n",
      "_\n",
      "symbol        PETR4.SA\n",
      "open              23.9\n",
      "high         24.559999\n",
      "low          23.700001\n",
      "close            23.99\n",
      "volume        81894800\n",
      "adjclose     20.039303\n",
      "dividends          0.0\n",
      "Rótulos              0\n",
      "Name: 130, dtype: object\n",
      "_\n",
      "symbol        PETR4.SA\n",
      "open         24.129999\n",
      "high         25.219999\n",
      "low          24.129999\n",
      "close        25.120001\n",
      "volume        68387900\n",
      "adjclose     20.983215\n",
      "dividends          0.0\n",
      "Rótulos              0\n",
      "Name: 131, dtype: object\n",
      "_\n",
      "symbol        PETR4.SA\n",
      "open         25.120001\n",
      "high         25.299999\n",
      "low              24.82\n",
      "close        24.940001\n",
      "volume        28765200\n",
      "adjclose     20.832857\n",
      "dividends          0.0\n",
      "Rótulos              0\n",
      "Name: 132, dtype: object\n",
      "_\n",
      "symbol        PETR4.SA\n",
      "open             25.25\n",
      "high         25.309999\n",
      "low          24.549999\n",
      "close        25.110001\n",
      "volume        50803200\n",
      "adjclose     20.974861\n",
      "dividends          0.0\n",
      "Rótulos              0\n",
      "Name: 133, dtype: object\n",
      "_\n",
      "symbol        PETR4.SA\n",
      "open              25.1\n",
      "high             25.32\n",
      "low              24.75\n",
      "close        24.799999\n",
      "volume        57293500\n",
      "adjclose     20.715912\n",
      "dividends          0.0\n",
      "Rótulos              0\n",
      "Name: 134, dtype: object\n",
      "_\n",
      "symbol        PETR4.SA\n",
      "open             24.99\n",
      "high         25.049999\n",
      "low              24.43\n",
      "close             24.5\n",
      "volume        57901800\n",
      "adjclose     20.465317\n",
      "dividends          0.0\n",
      "Rótulos              0\n",
      "Name: 135, dtype: object\n",
      "_\n",
      "symbol        PETR4.SA\n",
      "open         23.540001\n",
      "high         23.809999\n",
      "low          22.799999\n",
      "close            22.92\n",
      "volume        78424700\n",
      "adjclose     19.145512\n",
      "dividends          0.0\n",
      "Rótulos              0\n",
      "Name: 136, dtype: object\n",
      "_\n",
      "symbol        PETR4.SA\n",
      "open         22.940001\n",
      "high              23.1\n",
      "low          22.129999\n",
      "close            22.34\n",
      "volume        96750300\n",
      "adjclose     18.661028\n",
      "dividends          0.0\n",
      "Rótulos              0\n",
      "Name: 137, dtype: object\n",
      "_\n",
      "symbol        PETR4.SA\n",
      "open         21.959999\n",
      "high             23.59\n",
      "low              21.83\n",
      "close        23.049999\n",
      "volume       129504000\n",
      "adjclose     19.254103\n",
      "dividends          0.0\n",
      "Rótulos              0\n",
      "Name: 138, dtype: object\n",
      "_\n",
      "symbol        PETR4.SA\n",
      "open             23.34\n",
      "high         24.040001\n",
      "low              23.15\n",
      "close        23.879999\n",
      "volume        73886000\n",
      "adjclose     19.947418\n",
      "dividends          0.0\n",
      "Rótulos              0\n",
      "Name: 139, dtype: object\n",
      "_\n",
      "symbol        PETR4.SA\n",
      "open         23.940001\n",
      "high             24.32\n",
      "low          23.549999\n",
      "close            23.74\n",
      "volume        51851500\n",
      "adjclose     19.830473\n",
      "dividends          0.0\n",
      "Rótulos              0\n",
      "Name: 140, dtype: object\n",
      "_\n",
      "symbol        PETR4.SA\n",
      "open              23.5\n",
      "high              24.0\n",
      "low              23.25\n",
      "close        23.870001\n",
      "volume        46385200\n",
      "adjclose     19.939066\n",
      "dividends          0.0\n",
      "Rótulos              0\n",
      "Name: 141, dtype: object\n",
      "_\n",
      "symbol        PETR4.SA\n",
      "open         23.950001\n",
      "high         24.110001\n",
      "low          23.370001\n",
      "close            24.09\n",
      "volume        52741100\n",
      "adjclose     20.122835\n",
      "dividends          0.0\n",
      "Rótulos              0\n",
      "Name: 142, dtype: object\n",
      "_\n",
      "symbol        PETR4.SA\n",
      "open             24.15\n",
      "high         24.620001\n",
      "low          24.049999\n",
      "close        24.280001\n",
      "volume        53536500\n",
      "adjclose     20.281548\n",
      "dividends          0.0\n",
      "Rótulos              0\n",
      "Name: 143, dtype: object\n",
      "_\n",
      "symbol        PETR4.SA\n",
      "open         24.290001\n",
      "high             24.65\n",
      "low          24.110001\n",
      "close        24.629999\n",
      "volume        58130000\n",
      "adjclose     20.573908\n",
      "dividends          0.0\n",
      "Rótulos              0\n",
      "Name: 144, dtype: object\n",
      "_\n",
      "symbol        PETR4.SA\n",
      "open         24.440001\n",
      "high             24.66\n",
      "low              24.25\n",
      "close            24.57\n",
      "volume        40002700\n",
      "adjclose     20.523788\n",
      "dividends          0.0\n",
      "Rótulos              0\n",
      "Name: 145, dtype: object\n",
      "_\n",
      "symbol        PETR4.SA\n",
      "open             24.41\n",
      "high              24.5\n",
      "low              23.83\n",
      "close        24.040001\n",
      "volume        31973700\n",
      "adjclose      20.08107\n",
      "dividends          0.0\n",
      "Rótulos              0\n",
      "Name: 146, dtype: object\n",
      "_\n",
      "symbol        PETR4.SA\n",
      "open         24.110001\n",
      "high         25.620001\n",
      "low          24.110001\n",
      "close            25.52\n",
      "volume        91797500\n",
      "adjclose     21.317343\n",
      "dividends          0.0\n",
      "Rótulos              0\n",
      "Name: 147, dtype: object\n",
      "_\n",
      "symbol        PETR4.SA\n",
      "open             25.84\n",
      "high         26.030001\n",
      "low               25.0\n",
      "close            25.07\n",
      "volume        69692900\n",
      "adjclose     20.941448\n",
      "dividends          0.0\n",
      "Rótulos              0\n",
      "Name: 148, dtype: object\n",
      "_\n",
      "symbol        PETR4.SA\n",
      "open              25.0\n",
      "high         25.950001\n",
      "low          24.790001\n",
      "close        25.889999\n",
      "volume        75553300\n",
      "adjclose     21.626408\n",
      "dividends          0.0\n",
      "Rótulos              0\n",
      "Name: 149, dtype: object\n",
      "_\n",
      "symbol        PETR4.SA\n",
      "open         25.889999\n",
      "high              26.6\n",
      "low              25.42\n",
      "close        26.370001\n",
      "volume       114219500\n",
      "adjclose     22.027363\n",
      "dividends          0.0\n",
      "Rótulos              0\n",
      "Name: 150, dtype: object\n",
      "_\n",
      "symbol        PETR4.SA\n",
      "open             26.27\n",
      "high              27.6\n",
      "low          26.129999\n",
      "close        26.790001\n",
      "volume        87678100\n",
      "adjclose     22.378197\n",
      "dividends          0.0\n",
      "Rótulos              0\n",
      "Name: 151, dtype: object\n",
      "_\n",
      "symbol        PETR4.SA\n",
      "open         27.469999\n",
      "high         27.530001\n",
      "low          26.370001\n",
      "close             26.6\n",
      "volume        65794000\n",
      "adjclose     22.219486\n",
      "dividends          0.0\n",
      "Rótulos              0\n",
      "Name: 152, dtype: object\n",
      "_\n",
      "symbol        PETR4.SA\n",
      "open         26.549999\n",
      "high             27.08\n",
      "low              26.01\n",
      "close        26.940001\n",
      "volume        51832900\n",
      "adjclose     22.503494\n",
      "dividends          0.0\n",
      "Rótulos              0\n",
      "Name: 153, dtype: object\n",
      "_\n",
      "symbol        PETR4.SA\n",
      "open             27.09\n",
      "high         27.200001\n",
      "low          25.799999\n",
      "close            26.25\n",
      "volume        73344800\n",
      "adjclose     21.927124\n",
      "dividends          0.0\n",
      "Rótulos              0\n",
      "Name: 154, dtype: object\n",
      "_\n",
      "symbol        PETR4.SA\n",
      "open             26.18\n",
      "high             26.23\n",
      "low          25.440001\n",
      "close        25.620001\n",
      "volume        47681900\n",
      "adjclose     21.400873\n",
      "dividends          0.0\n",
      "Rótulos              0\n",
      "Name: 155, dtype: object\n",
      "_\n",
      "symbol        PETR4.SA\n",
      "open             25.85\n",
      "high             26.07\n",
      "low              25.51\n",
      "close            25.75\n",
      "volume        40683200\n",
      "adjclose     21.509464\n",
      "dividends          0.0\n",
      "Rótulos              0\n",
      "Name: 156, dtype: object\n",
      "_\n",
      "symbol        PETR4.SA\n",
      "open         25.629999\n",
      "high         26.209999\n",
      "low              25.52\n",
      "close            26.07\n",
      "volume        54048900\n",
      "adjclose     21.776766\n",
      "dividends          0.0\n",
      "Rótulos              0\n",
      "Name: 157, dtype: object\n",
      "_\n",
      "symbol        PETR4.SA\n",
      "open             26.07\n",
      "high             26.48\n",
      "low          25.450001\n",
      "close        25.709999\n",
      "volume        56349200\n",
      "adjclose     21.476051\n",
      "dividends          0.0\n",
      "Rótulos              0\n",
      "Name: 158, dtype: object\n",
      "_\n",
      "symbol        PETR4.SA\n",
      "open             25.51\n",
      "high         25.809999\n",
      "low              24.42\n",
      "close            24.52\n",
      "volume        83823000\n",
      "adjclose     20.482023\n",
      "dividends          0.0\n",
      "Rótulos              0\n",
      "Name: 159, dtype: object\n",
      "_\n",
      "symbol        PETR4.SA\n",
      "open         24.540001\n",
      "high         25.379999\n",
      "low              24.42\n",
      "close        24.790001\n",
      "volume        71170700\n",
      "adjclose      20.70756\n",
      "dividends          0.0\n",
      "Rótulos              0\n",
      "Name: 160, dtype: object\n",
      "_\n",
      "symbol        PETR4.SA\n",
      "open         24.870001\n",
      "high         25.870001\n",
      "low              24.75\n",
      "close        25.780001\n",
      "volume        82794500\n",
      "adjclose     21.534525\n",
      "dividends          0.0\n",
      "Rótulos              0\n",
      "Name: 161, dtype: object\n",
      "_\n",
      "symbol        PETR4.SA\n",
      "open             25.91\n",
      "high         26.139999\n",
      "low          25.459999\n",
      "close        25.620001\n",
      "volume        55311800\n",
      "adjclose     21.400873\n",
      "dividends          0.0\n",
      "Rótulos              0\n",
      "Name: 162, dtype: object\n",
      "_\n",
      "symbol        PETR4.SA\n",
      "open         25.799999\n",
      "high             26.15\n",
      "low          25.559999\n",
      "close        26.049999\n",
      "volume        48713100\n",
      "adjclose     21.760061\n",
      "dividends          0.0\n",
      "Rótulos              0\n",
      "Name: 163, dtype: object\n",
      "_\n",
      "symbol        PETR4.SA\n",
      "open         26.049999\n",
      "high             26.32\n",
      "low          25.790001\n",
      "close            25.93\n",
      "volume        38198300\n",
      "adjclose     21.659822\n",
      "dividends          0.0\n",
      "Rótulos              0\n",
      "Name: 164, dtype: object\n",
      "_\n",
      "symbol        PETR4.SA\n",
      "open             25.98\n",
      "high         26.790001\n",
      "low              25.93\n",
      "close        26.719999\n",
      "volume        54683100\n",
      "adjclose     22.319723\n",
      "dividends          0.0\n",
      "Rótulos              0\n",
      "Name: 165, dtype: object\n",
      "_\n",
      "symbol        PETR4.SA\n",
      "open         26.690001\n",
      "high         26.889999\n",
      "low          26.370001\n",
      "close        26.799999\n",
      "volume        36726900\n",
      "adjclose     22.386549\n",
      "dividends          0.0\n",
      "Rótulos              0\n",
      "Name: 166, dtype: object\n",
      "_\n",
      "symbol        PETR4.SA\n",
      "open             26.85\n",
      "high         27.059999\n",
      "low               26.6\n",
      "close        26.700001\n",
      "volume        35839000\n",
      "adjclose     22.303019\n",
      "dividends          0.0\n",
      "Rótulos              0\n",
      "Name: 167, dtype: object\n",
      "_\n",
      "symbol        PETR4.SA\n",
      "open             26.58\n",
      "high         26.799999\n",
      "low          26.299999\n",
      "close            26.74\n",
      "volume        72554100\n",
      "adjclose      22.33643\n",
      "dividends          0.0\n",
      "Rótulos              0\n",
      "Name: 168, dtype: object\n",
      "_\n",
      "symbol        PETR4.SA\n",
      "open              26.6\n",
      "high         26.950001\n",
      "low              26.49\n",
      "close            26.85\n",
      "volume        44115700\n",
      "adjclose     22.428316\n",
      "dividends          0.0\n",
      "Rótulos              0\n",
      "Name: 169, dtype: object\n",
      "_\n",
      "symbol        PETR4.SA\n",
      "open             26.67\n",
      "high             26.67\n",
      "low          26.370001\n",
      "close        26.440001\n",
      "volume        61085700\n",
      "adjclose     22.085836\n",
      "dividends          0.0\n",
      "Rótulos              0\n",
      "Name: 170, dtype: object\n",
      "_\n",
      "symbol        PETR4.SA\n",
      "open              26.0\n",
      "high         26.110001\n",
      "low          25.690001\n",
      "close            25.76\n",
      "volume        38608500\n",
      "adjclose     21.517818\n",
      "dividends          0.0\n",
      "Rótulos              0\n",
      "Name: 171, dtype: object\n",
      "_\n",
      "symbol        PETR4.SA\n",
      "open             25.77\n",
      "high         26.790001\n",
      "low              25.77\n",
      "close        26.549999\n",
      "volume        73913400\n",
      "adjclose     22.177719\n",
      "dividends          0.0\n",
      "Rótulos              0\n",
      "Name: 172, dtype: object\n",
      "_\n",
      "symbol        PETR4.SA\n",
      "open             26.67\n",
      "high         26.700001\n",
      "low          25.870001\n",
      "close             25.9\n",
      "volume        64409100\n",
      "adjclose     21.634762\n",
      "dividends          0.0\n",
      "Rótulos              0\n",
      "Name: 173, dtype: object\n",
      "_\n",
      "symbol        PETR4.SA\n",
      "open             25.84\n",
      "high             26.74\n",
      "low          25.809999\n",
      "close            26.15\n",
      "volume        76250600\n",
      "adjclose     21.843592\n",
      "dividends          0.0\n",
      "Rótulos              0\n",
      "Name: 174, dtype: object\n",
      "_\n",
      "symbol        PETR4.SA\n",
      "open         26.209999\n",
      "high             26.92\n",
      "low              25.24\n",
      "close            25.24\n",
      "volume       130248100\n",
      "adjclose     21.083452\n",
      "dividends          0.0\n",
      "Rótulos              0\n",
      "Name: 175, dtype: object\n",
      "_\n",
      "symbol        PETR4.SA\n",
      "open         25.309999\n",
      "high             25.43\n",
      "low          24.190001\n",
      "close        25.299999\n",
      "volume       109257700\n",
      "adjclose     21.133572\n",
      "dividends          0.0\n",
      "Rótulos              0\n",
      "Name: 176, dtype: object\n",
      "_\n",
      "symbol        PETR4.SA\n",
      "open             25.42\n",
      "high             25.67\n",
      "low          24.370001\n",
      "close        24.639999\n",
      "volume       124516200\n",
      "adjclose      20.58226\n",
      "dividends          0.0\n",
      "Rótulos              0\n",
      "Name: 177, dtype: object\n",
      "_\n",
      "symbol        PETR4.SA\n",
      "open             24.83\n",
      "high             25.74\n",
      "low          24.450001\n",
      "close        25.700001\n",
      "volume        87591800\n",
      "adjclose     21.467701\n",
      "dividends          0.0\n",
      "Rótulos              0\n",
      "Name: 178, dtype: object\n",
      "_\n",
      "symbol        PETR4.SA\n",
      "open         25.700001\n",
      "high         26.120001\n",
      "low          25.370001\n",
      "close        25.959999\n",
      "volume        50227400\n",
      "adjclose     21.684881\n",
      "dividends          0.0\n",
      "Rótulos              0\n",
      "Name: 179, dtype: object\n",
      "_\n",
      "symbol        PETR4.SA\n",
      "open         25.719999\n",
      "high         25.780001\n",
      "low              24.93\n",
      "close             25.1\n",
      "volume        59052500\n",
      "adjclose     20.966507\n",
      "dividends          0.0\n",
      "Rótulos              0\n",
      "Name: 180, dtype: object\n",
      "_\n",
      "symbol        PETR4.SA\n",
      "open             25.15\n",
      "high             25.92\n",
      "low          25.129999\n",
      "close            25.42\n",
      "volume        66220400\n",
      "adjclose      21.23381\n",
      "dividends          0.0\n",
      "Rótulos              0\n",
      "Name: 181, dtype: object\n",
      "_\n",
      "symbol        PETR4.SA\n",
      "open             25.35\n",
      "high             26.23\n",
      "low          25.280001\n",
      "close        25.309999\n",
      "volume        68042300\n",
      "adjclose     21.141924\n",
      "dividends          0.0\n",
      "Rótulos              0\n",
      "Name: 182, dtype: object\n",
      "_\n",
      "symbol        PETR4.SA\n",
      "open             25.16\n",
      "high             25.58\n",
      "low          24.940001\n",
      "close            24.98\n",
      "volume        48118600\n",
      "adjclose     20.866268\n",
      "dividends          0.0\n",
      "Rótulos              0\n",
      "Name: 183, dtype: object\n",
      "_\n",
      "symbol        PETR4.SA\n",
      "open         24.549999\n",
      "high         24.860001\n",
      "low               24.1\n",
      "close        24.190001\n",
      "volume        58605500\n",
      "adjclose     20.206367\n",
      "dividends          0.0\n",
      "Rótulos              0\n",
      "Name: 184, dtype: object\n",
      "_\n",
      "symbol        PETR4.SA\n",
      "open         24.280001\n",
      "high             24.73\n",
      "low               23.6\n",
      "close            23.76\n",
      "volume        58916700\n",
      "adjclose     19.847179\n",
      "dividends          0.0\n",
      "Rótulos              0\n",
      "Name: 185, dtype: object\n",
      "_\n",
      "symbol        PETR4.SA\n",
      "open             23.33\n",
      "high             23.48\n",
      "low          22.799999\n",
      "close            23.34\n",
      "volume        93708800\n",
      "adjclose     19.496346\n",
      "dividends          0.0\n",
      "Rótulos              0\n",
      "Name: 186, dtype: object\n",
      "_\n",
      "symbol        PETR4.SA\n",
      "open              23.4\n",
      "high             23.52\n",
      "low          22.969999\n",
      "close            23.26\n",
      "volume        66821000\n",
      "adjclose     19.429522\n",
      "dividends          0.0\n",
      "Rótulos              0\n",
      "Name: 187, dtype: object\n",
      "_\n",
      "symbol        PETR4.SA\n",
      "open              23.1\n",
      "high             23.51\n",
      "low          22.860001\n",
      "close            23.51\n",
      "volume        93502700\n",
      "adjclose      19.63835\n",
      "dividends          0.0\n",
      "Rótulos              0\n",
      "Name: 188, dtype: object\n",
      "_\n",
      "symbol        PETR4.SA\n",
      "open             23.51\n",
      "high             23.65\n",
      "low          22.889999\n",
      "close            22.93\n",
      "volume        57575200\n",
      "adjclose     19.153866\n",
      "dividends          0.0\n",
      "Rótulos              0\n",
      "Name: 189, dtype: object\n",
      "_\n",
      "symbol        PETR4.SA\n",
      "open         23.200001\n",
      "high              23.6\n",
      "low              23.08\n",
      "close             23.4\n",
      "volume        43391200\n",
      "adjclose     19.546465\n",
      "dividends          0.0\n",
      "Rótulos              0\n",
      "Name: 190, dtype: object\n",
      "_\n",
      "symbol        PETR4.SA\n",
      "open         23.389999\n",
      "high         23.620001\n",
      "low          23.040001\n",
      "close            23.33\n",
      "volume        46435600\n",
      "adjclose     19.487993\n",
      "dividends          0.0\n",
      "Rótulos              0\n",
      "Name: 191, dtype: object\n",
      "_\n",
      "symbol        PETR4.SA\n",
      "open         23.370001\n",
      "high             23.67\n",
      "low              22.59\n",
      "close        22.799999\n",
      "volume        74711200\n",
      "adjclose     19.045273\n",
      "dividends          0.0\n",
      "Rótulos              0\n",
      "Name: 192, dtype: object\n",
      "_\n",
      "symbol        PETR4.SA\n",
      "open         22.709999\n",
      "high         23.129999\n",
      "low              22.48\n",
      "close        22.790001\n",
      "volume        52556800\n",
      "adjclose     19.036921\n",
      "dividends          0.0\n",
      "Rótulos              0\n",
      "Name: 193, dtype: object\n",
      "_\n",
      "symbol        PETR4.SA\n",
      "open         23.110001\n",
      "high         23.360001\n",
      "low              22.83\n",
      "close            23.18\n",
      "volume        39148700\n",
      "adjclose     19.362696\n",
      "dividends          0.0\n",
      "Rótulos              0\n",
      "Name: 194, dtype: object\n",
      "_\n",
      "symbol        PETR4.SA\n",
      "open         23.219999\n",
      "high         23.639999\n",
      "low              23.15\n",
      "close            23.59\n",
      "volume        29091100\n",
      "adjclose     19.705175\n",
      "dividends          0.0\n",
      "Rótulos              0\n",
      "Name: 195, dtype: object\n",
      "_\n",
      "symbol        PETR4.SA\n",
      "open         23.709999\n",
      "high         24.040001\n",
      "low          23.469999\n",
      "close             23.9\n",
      "volume        49148600\n",
      "adjclose     19.964125\n",
      "dividends          0.0\n",
      "Rótulos              0\n",
      "Name: 196, dtype: object\n",
      "_\n",
      "symbol        PETR4.SA\n",
      "open             24.25\n",
      "high         24.280001\n",
      "low              23.68\n",
      "close        23.969999\n",
      "volume        56116900\n",
      "adjclose     20.022596\n",
      "dividends          0.0\n",
      "Rótulos              0\n",
      "Name: 197, dtype: object\n",
      "_\n",
      "symbol        PETR4.SA\n",
      "open              24.0\n",
      "high         24.219999\n",
      "low          23.209999\n",
      "close        23.450001\n",
      "volume        59547800\n",
      "adjclose      19.58823\n",
      "dividends          0.0\n",
      "Rótulos              0\n",
      "Name: 198, dtype: object\n",
      "_\n",
      "symbol        PETR4.SA\n",
      "open             24.09\n",
      "high              24.5\n",
      "low          23.799999\n",
      "close            24.49\n",
      "volume        73931200\n",
      "adjclose     20.456963\n",
      "dividends          0.0\n",
      "Rótulos              0\n",
      "Name: 199, dtype: object\n",
      "_\n",
      "symbol        PETR4.SA\n",
      "open         24.629999\n",
      "high             24.76\n",
      "low               24.1\n",
      "close            24.27\n",
      "volume        57505700\n",
      "adjclose     20.273193\n",
      "dividends          0.0\n",
      "Rótulos              0\n",
      "Name: 200, dtype: object\n",
      "_\n",
      "symbol        PETR4.SA\n",
      "open         24.190001\n",
      "high         24.530001\n",
      "low              23.27\n",
      "close            24.35\n",
      "volume        93626400\n",
      "adjclose     20.340019\n",
      "dividends          0.0\n",
      "Rótulos              0\n",
      "Name: 201, dtype: object\n",
      "_\n",
      "symbol        PETR4.SA\n",
      "open             24.34\n",
      "high             24.42\n",
      "low          23.950001\n",
      "close             24.0\n",
      "volume        29565400\n",
      "adjclose     20.047657\n",
      "dividends          0.0\n",
      "Rótulos              0\n",
      "Name: 202, dtype: object\n",
      "_\n",
      "symbol        PETR4.SA\n",
      "open         24.030001\n",
      "high             24.66\n",
      "low          24.030001\n",
      "close            24.51\n",
      "volume        41455900\n",
      "adjclose     20.473669\n",
      "dividends          0.0\n",
      "Rótulos              0\n",
      "Name: 203, dtype: object\n",
      "_\n",
      "symbol        PETR4.SA\n",
      "open         24.700001\n",
      "high         25.700001\n",
      "low          24.629999\n",
      "close            25.66\n",
      "volume        80565000\n",
      "adjclose     21.434284\n",
      "dividends          0.0\n",
      "Rótulos              0\n",
      "Name: 204, dtype: object\n",
      "_\n",
      "symbol        PETR4.SA\n",
      "open             25.98\n",
      "high             26.15\n",
      "low              25.18\n",
      "close            25.85\n",
      "volume        71563400\n",
      "adjclose     21.592997\n",
      "dividends          0.0\n",
      "Rótulos              0\n",
      "Name: 205, dtype: object\n",
      "_\n",
      "symbol        PETR4.SA\n",
      "open             25.85\n",
      "high             26.09\n",
      "low          25.799999\n",
      "close        26.030001\n",
      "volume        38852800\n",
      "adjclose     21.743355\n",
      "dividends          0.0\n",
      "Rótulos              0\n",
      "Name: 206, dtype: object\n",
      "_\n",
      "symbol        PETR4.SA\n",
      "open         25.799999\n",
      "high              26.4\n",
      "low          25.719999\n",
      "close        26.299999\n",
      "volume        38421100\n",
      "adjclose     21.968889\n",
      "dividends          0.0\n",
      "Rótulos              0\n",
      "Name: 207, dtype: object\n",
      "_\n",
      "symbol        PETR4.SA\n",
      "open             26.24\n",
      "high         26.799999\n",
      "low          26.209999\n",
      "close        26.709999\n",
      "volume        49427100\n",
      "adjclose     22.311371\n",
      "dividends          0.0\n",
      "Rótulos              0\n",
      "Name: 208, dtype: object\n",
      "_\n",
      "symbol        PETR4.SA\n",
      "open         26.709999\n",
      "high         27.620001\n",
      "low              26.52\n",
      "close        27.389999\n",
      "volume        99478800\n",
      "adjclose     22.879387\n",
      "dividends          0.0\n",
      "Rótulos              0\n",
      "Name: 209, dtype: object\n",
      "_\n",
      "symbol        PETR4.SA\n",
      "open             27.16\n",
      "high         27.309999\n",
      "low          26.450001\n",
      "close            26.51\n",
      "volume        73217800\n",
      "adjclose     22.144306\n",
      "dividends          0.0\n",
      "Rótulos              0\n",
      "Name: 210, dtype: object\n",
      "_\n",
      "symbol        PETR4.SA\n",
      "open             26.52\n",
      "high             26.98\n",
      "low          26.290001\n",
      "close        26.690001\n",
      "volume        54738400\n",
      "adjclose     22.294664\n",
      "dividends          0.0\n",
      "Rótulos              0\n",
      "Name: 211, dtype: object\n",
      "_\n",
      "symbol        PETR4.SA\n",
      "open              26.6\n",
      "high             27.26\n",
      "low               26.5\n",
      "close        27.200001\n",
      "volume        43820900\n",
      "adjclose     22.720678\n",
      "dividends          0.0\n",
      "Rótulos              0\n",
      "Name: 212, dtype: object\n",
      "_\n",
      "symbol        PETR4.SA\n",
      "open             27.16\n",
      "high              27.5\n",
      "low          26.719999\n",
      "close            27.09\n",
      "volume        53854100\n",
      "adjclose     22.628792\n",
      "dividends          0.0\n",
      "Rótulos              0\n",
      "Name: 213, dtype: object\n",
      "_\n",
      "symbol        PETR4.SA\n",
      "open         27.120001\n",
      "high         27.219999\n",
      "low              26.75\n",
      "close            26.75\n",
      "volume        40249400\n",
      "adjclose     22.344784\n",
      "dividends          0.0\n",
      "Rótulos              0\n",
      "Name: 214, dtype: object\n",
      "_\n",
      "symbol        PETR4.SA\n",
      "open             26.85\n",
      "high             27.18\n",
      "low              25.91\n",
      "close             26.1\n",
      "volume       115632700\n",
      "adjclose     21.801826\n",
      "dividends          0.0\n",
      "Rótulos              0\n",
      "Name: 215, dtype: object\n",
      "_\n",
      "symbol        PETR4.SA\n",
      "open              23.6\n",
      "high         24.049999\n",
      "low              23.15\n",
      "close        23.700001\n",
      "volume        81138500\n",
      "adjclose     22.243404\n",
      "dividends     2.870493\n",
      "Rótulos              0\n",
      "Name: 216, dtype: object\n",
      "_\n",
      "symbol        PETR4.SA\n",
      "open         23.700001\n",
      "high             23.74\n",
      "low          22.639999\n",
      "close            22.74\n",
      "volume        67911100\n",
      "adjclose     21.342405\n",
      "dividends          0.0\n",
      "Rótulos              0\n",
      "Name: 217, dtype: object\n",
      "_\n",
      "symbol        PETR4.SA\n",
      "open              22.6\n",
      "high             22.99\n",
      "low              22.42\n",
      "close            22.66\n",
      "volume        51133700\n",
      "adjclose     21.267321\n",
      "dividends          0.0\n",
      "Rótulos              0\n",
      "Name: 218, dtype: object\n",
      "_\n",
      "symbol        PETR4.SA\n",
      "open         22.889999\n",
      "high         23.379999\n",
      "low          22.610001\n",
      "close            23.02\n",
      "volume        57854400\n",
      "adjclose     21.605196\n",
      "dividends          0.0\n",
      "Rótulos              0\n",
      "Name: 219, dtype: object\n",
      "_\n",
      "symbol        PETR4.SA\n",
      "open         23.299999\n",
      "high             24.17\n",
      "low              23.18\n",
      "close             24.0\n",
      "volume        83365200\n",
      "adjclose     22.524965\n",
      "dividends          0.0\n",
      "Rótulos              0\n",
      "Name: 220, dtype: object\n",
      "_\n",
      "symbol        PETR4.SA\n",
      "open         24.450001\n",
      "high         24.629999\n",
      "low          24.209999\n",
      "close            24.51\n",
      "volume        59352300\n",
      "adjclose      23.00362\n",
      "dividends          0.0\n",
      "Rótulos              0\n",
      "Name: 221, dtype: object\n",
      "_\n",
      "symbol        PETR4.SA\n",
      "open             24.41\n",
      "high         24.799999\n",
      "low              24.24\n",
      "close            24.59\n",
      "volume        33978200\n",
      "adjclose     23.078705\n",
      "dividends          0.0\n",
      "Rótulos              0\n",
      "Name: 222, dtype: object\n",
      "_\n",
      "symbol        PETR4.SA\n",
      "open             24.59\n",
      "high             24.82\n",
      "low              24.33\n",
      "close        24.530001\n",
      "volume        41500700\n",
      "adjclose     23.022392\n",
      "dividends          0.0\n",
      "Rótulos              0\n",
      "Name: 223, dtype: object\n",
      "_\n",
      "symbol        PETR4.SA\n",
      "open         24.129999\n",
      "high             25.48\n",
      "low              23.93\n",
      "close            25.43\n",
      "volume       136878100\n",
      "adjclose     23.867079\n",
      "dividends          0.0\n",
      "Rótulos              0\n",
      "Name: 224, dtype: object\n",
      "_\n",
      "symbol        PETR4.SA\n",
      "open             25.58\n",
      "high             26.74\n",
      "low              25.48\n",
      "close            26.25\n",
      "volume       117237500\n",
      "adjclose     24.636681\n",
      "dividends          0.0\n",
      "Rótulos              0\n",
      "Name: 225, dtype: object\n",
      "_\n",
      "symbol        PETR4.SA\n",
      "open         26.059999\n",
      "high             26.15\n",
      "low               25.4\n",
      "close            25.66\n",
      "volume        81996700\n",
      "adjclose     24.082941\n",
      "dividends          0.0\n",
      "Rótulos              0\n",
      "Name: 226, dtype: object\n",
      "_\n",
      "symbol        PETR4.SA\n",
      "open         26.110001\n",
      "high         27.030001\n",
      "low              26.08\n",
      "close        26.299999\n",
      "volume       117782700\n",
      "adjclose     24.683607\n",
      "dividends          0.0\n",
      "Rótulos              0\n",
      "Name: 227, dtype: object\n",
      "_\n",
      "symbol        PETR4.SA\n",
      "open              26.6\n",
      "high             26.76\n",
      "low              25.51\n",
      "close            25.66\n",
      "volume       107129200\n",
      "adjclose     24.082941\n",
      "dividends          0.0\n",
      "Rótulos              0\n",
      "Name: 228, dtype: object\n",
      "_\n",
      "symbol        PETR4.SA\n",
      "open             25.59\n",
      "high             25.85\n",
      "low              25.35\n",
      "close        25.809999\n",
      "volume        63010500\n",
      "adjclose     24.223722\n",
      "dividends          0.0\n",
      "Rótulos              0\n",
      "Name: 229, dtype: object\n",
      "_\n",
      "symbol        PETR4.SA\n",
      "open             26.08\n",
      "high             26.18\n",
      "low          25.639999\n",
      "close            25.77\n",
      "volume        69245500\n",
      "adjclose     24.186182\n",
      "dividends          0.0\n",
      "Rótulos              0\n",
      "Name: 230, dtype: object\n",
      "_\n",
      "symbol        PETR4.SA\n",
      "open         25.879999\n",
      "high             26.01\n",
      "low               25.5\n",
      "close        25.620001\n",
      "volume        38010200\n",
      "adjclose     24.045401\n",
      "dividends          0.0\n",
      "Rótulos              0\n",
      "Name: 231, dtype: object\n",
      "_\n",
      "symbol        PETR4.SA\n",
      "open             25.65\n",
      "high             26.43\n",
      "low              25.52\n",
      "close            26.25\n",
      "volume        58285300\n",
      "adjclose     24.636681\n",
      "dividends          0.0\n",
      "Rótulos              0\n",
      "Name: 232, dtype: object\n",
      "_\n",
      "symbol        PETR4.SA\n",
      "open             26.25\n",
      "high              26.9\n",
      "low          26.049999\n",
      "close            26.65\n",
      "volume        54796400\n",
      "adjclose     25.012096\n",
      "dividends          0.0\n",
      "Rótulos              0\n",
      "Name: 233, dtype: object\n",
      "_\n",
      "symbol        PETR4.SA\n",
      "open         26.799999\n",
      "high             26.84\n",
      "low          26.190001\n",
      "close        26.450001\n",
      "volume        49182700\n",
      "adjclose      24.82439\n",
      "dividends          0.0\n",
      "Rótulos              0\n",
      "Name: 234, dtype: object\n",
      "_\n",
      "symbol        PETR4.SA\n",
      "open         26.809999\n",
      "high             26.91\n",
      "low          26.530001\n",
      "close        26.799999\n",
      "volume        39866600\n",
      "adjclose     25.152878\n",
      "dividends          0.0\n",
      "Rótulos              0\n",
      "Name: 235, dtype: object\n",
      "_\n",
      "symbol        PETR4.SA\n",
      "open             26.75\n",
      "high             26.82\n",
      "low          26.559999\n",
      "close        26.690001\n",
      "volume        17977100\n",
      "adjclose     25.049639\n",
      "dividends          0.0\n",
      "Rótulos              0\n",
      "Name: 236, dtype: object\n",
      "_\n",
      "symbol        PETR4.SA\n",
      "open         26.719999\n",
      "high         26.799999\n",
      "low              26.26\n",
      "close        26.389999\n",
      "volume        45736700\n",
      "adjclose     24.768076\n",
      "dividends          0.0\n",
      "Rótulos              0\n",
      "Name: 237, dtype: object\n",
      "_\n",
      "symbol        PETR4.SA\n",
      "open             26.27\n",
      "high         26.360001\n",
      "low          25.870001\n",
      "close        26.120001\n",
      "volume        49207600\n",
      "adjclose     24.514671\n",
      "dividends          0.0\n",
      "Rótulos              0\n",
      "Name: 238, dtype: object\n",
      "_\n",
      "symbol        PETR4.SA\n",
      "open         26.299999\n",
      "high              27.0\n",
      "low              26.16\n",
      "close        26.959999\n",
      "volume        63148200\n",
      "adjclose     25.303043\n",
      "dividends          0.0\n",
      "Rótulos              0\n",
      "Name: 239, dtype: object\n",
      "_\n",
      "symbol        PETR4.SA\n",
      "open             27.43\n",
      "high              27.6\n",
      "low          27.110001\n",
      "close            27.18\n",
      "volume        39919300\n",
      "adjclose     25.509523\n",
      "dividends          0.0\n",
      "Rótulos              0\n",
      "Name: 240, dtype: object\n",
      "_\n",
      "symbol        PETR4.SA\n",
      "open         27.540001\n",
      "high         27.559999\n",
      "low              27.23\n",
      "close        27.469999\n",
      "volume        39321700\n",
      "adjclose       25.7817\n",
      "dividends          0.0\n",
      "Rótulos              0\n",
      "Name: 241, dtype: object\n",
      "_\n",
      "symbol        PETR4.SA\n",
      "open         27.450001\n",
      "high             28.25\n",
      "low          27.209999\n",
      "close        28.049999\n",
      "volume        75426600\n",
      "adjclose     26.326052\n",
      "dividends          0.0\n",
      "Rótulos              0\n",
      "Name: 242, dtype: object\n",
      "_\n",
      "symbol        PETR4.SA\n",
      "open             28.65\n",
      "high         29.059999\n",
      "low              28.43\n",
      "close        28.870001\n",
      "volume        82330400\n",
      "adjclose     27.095657\n",
      "dividends          0.0\n",
      "Rótulos              0\n",
      "Name: 243, dtype: object\n",
      "_\n",
      "symbol        PETR4.SA\n",
      "open              29.1\n",
      "high         30.389999\n",
      "low              29.02\n",
      "close        30.280001\n",
      "volume        80442400\n",
      "adjclose     28.418999\n",
      "dividends          0.0\n",
      "Rótulos              0\n",
      "Name: 244, dtype: object\n",
      "_\n",
      "symbol        PETR4.SA\n",
      "open         30.219999\n",
      "high             30.99\n",
      "low          30.040001\n",
      "close        30.809999\n",
      "volume       119350400\n",
      "adjclose     28.916424\n",
      "dividends          0.0\n",
      "Rótulos              0\n",
      "Name: 245, dtype: object\n",
      "_\n",
      "symbol        PETR4.SA\n",
      "open             29.24\n",
      "high             29.24\n",
      "low              28.59\n",
      "close        28.860001\n",
      "volume        79174900\n",
      "adjclose     28.860001\n",
      "dividends     1.893576\n",
      "Rótulos              0\n",
      "Name: 246, dtype: object\n",
      "_\n",
      "symbol        PETR4.SA\n",
      "open         28.940001\n",
      "high              30.1\n",
      "low          28.879999\n",
      "close             30.1\n",
      "volume        98326000\n",
      "adjclose          30.1\n",
      "dividends          0.0\n",
      "Rótulos              0\n",
      "Name: 247, dtype: object\n",
      "_\n",
      "symbol        PETR4.SA\n",
      "open         30.200001\n",
      "high             30.85\n",
      "low          29.280001\n",
      "close        29.389999\n",
      "volume       120579500\n",
      "adjclose     29.389999\n",
      "dividends          0.0\n",
      "Rótulos              0\n",
      "Name: 248, dtype: object\n",
      "_\n",
      "symbol        PETR4.SA\n",
      "open             29.23\n",
      "high             29.92\n",
      "low          29.040001\n",
      "close        29.639999\n",
      "volume        94572000\n",
      "adjclose     29.639999\n",
      "dividends          0.0\n",
      "Rótulos              0\n",
      "Name: 249, dtype: object\n",
      "_\n"
     ]
    }
   ],
   "source": [
    "for i,row in dados3['PETR4.SA'].iterrows():\n",
    "    print(row)\n",
    "    print('_')"
   ]
  },
  {
   "cell_type": "code",
   "execution_count": 55,
   "metadata": {},
   "outputs": [
    {
     "data": {
      "text/html": [
       "<div>\n",
       "<style scoped>\n",
       "    .dataframe tbody tr th:only-of-type {\n",
       "        vertical-align: middle;\n",
       "    }\n",
       "\n",
       "    .dataframe tbody tr th {\n",
       "        vertical-align: top;\n",
       "    }\n",
       "\n",
       "    .dataframe thead th {\n",
       "        text-align: right;\n",
       "    }\n",
       "</style>\n",
       "<table border=\"1\" class=\"dataframe\">\n",
       "  <thead>\n",
       "    <tr style=\"text-align: right;\">\n",
       "      <th></th>\n",
       "      <th>symbol</th>\n",
       "      <th>open</th>\n",
       "      <th>high</th>\n",
       "      <th>low</th>\n",
       "      <th>close</th>\n",
       "      <th>volume</th>\n",
       "      <th>adjclose</th>\n",
       "      <th>dividends</th>\n",
       "      <th>Rótulos</th>\n",
       "      <th>rótulos</th>\n",
       "    </tr>\n",
       "  </thead>\n",
       "  <tbody>\n",
       "    <tr>\n",
       "      <th>0</th>\n",
       "      <td>PETR4.SA</td>\n",
       "      <td>28.170000</td>\n",
       "      <td>28.450001</td>\n",
       "      <td>26.129999</td>\n",
       "      <td>27.309999</td>\n",
       "      <td>184606500</td>\n",
       "      <td>16.253057</td>\n",
       "      <td>0.0</td>\n",
       "      <td>0</td>\n",
       "      <td>5.0</td>\n",
       "    </tr>\n",
       "    <tr>\n",
       "      <th>1</th>\n",
       "      <td>PETR4.SA</td>\n",
       "      <td>26.020000</td>\n",
       "      <td>28.250000</td>\n",
       "      <td>25.910000</td>\n",
       "      <td>27.620001</td>\n",
       "      <td>92581800</td>\n",
       "      <td>16.437550</td>\n",
       "      <td>0.0</td>\n",
       "      <td>0</td>\n",
       "      <td>5.0</td>\n",
       "    </tr>\n",
       "    <tr>\n",
       "      <th>2</th>\n",
       "      <td>PETR4.SA</td>\n",
       "      <td>27.799999</td>\n",
       "      <td>28.160000</td>\n",
       "      <td>26.690001</td>\n",
       "      <td>27.070000</td>\n",
       "      <td>85179500</td>\n",
       "      <td>16.110224</td>\n",
       "      <td>0.0</td>\n",
       "      <td>0</td>\n",
       "      <td>5.0</td>\n",
       "    </tr>\n",
       "    <tr>\n",
       "      <th>3</th>\n",
       "      <td>PETR4.SA</td>\n",
       "      <td>26.580000</td>\n",
       "      <td>27.549999</td>\n",
       "      <td>26.389999</td>\n",
       "      <td>26.990000</td>\n",
       "      <td>57874700</td>\n",
       "      <td>16.062614</td>\n",
       "      <td>0.0</td>\n",
       "      <td>0</td>\n",
       "      <td>5.0</td>\n",
       "    </tr>\n",
       "    <tr>\n",
       "      <th>4</th>\n",
       "      <td>PETR4.SA</td>\n",
       "      <td>26.980000</td>\n",
       "      <td>27.379999</td>\n",
       "      <td>26.120001</td>\n",
       "      <td>26.490000</td>\n",
       "      <td>69262300</td>\n",
       "      <td>15.765049</td>\n",
       "      <td>0.0</td>\n",
       "      <td>0</td>\n",
       "      <td>5.0</td>\n",
       "    </tr>\n",
       "  </tbody>\n",
       "</table>\n",
       "</div>"
      ],
      "text/plain": [
       "     symbol       open       high        low      close     volume   adjclose  \\\n",
       "0  PETR4.SA  28.170000  28.450001  26.129999  27.309999  184606500  16.253057   \n",
       "1  PETR4.SA  26.020000  28.250000  25.910000  27.620001   92581800  16.437550   \n",
       "2  PETR4.SA  27.799999  28.160000  26.690001  27.070000   85179500  16.110224   \n",
       "3  PETR4.SA  26.580000  27.549999  26.389999  26.990000   57874700  16.062614   \n",
       "4  PETR4.SA  26.980000  27.379999  26.120001  26.490000   69262300  15.765049   \n",
       "\n",
       "   dividends  Rótulos  rótulos  \n",
       "0        0.0        0      5.0  \n",
       "1        0.0        0      5.0  \n",
       "2        0.0        0      5.0  \n",
       "3        0.0        0      5.0  \n",
       "4        0.0        0      5.0  "
      ]
     },
     "execution_count": 55,
     "metadata": {},
     "output_type": "execute_result"
    }
   ],
   "source": [
    "dados3['PETR4.SA'].head()"
   ]
  },
  {
   "attachments": {},
   "cell_type": "markdown",
   "metadata": {},
   "source": [
    "## Transformação das matrizes: Separando os dias como objetos numpy."
   ]
  },
  {
   "attachments": {},
   "cell_type": "markdown",
   "metadata": {},
   "source": [
    "tentar criar objetos que contenham as matrizes, os rótulos e a identificação do dia."
   ]
  },
  {
   "attachments": {},
   "cell_type": "markdown",
   "metadata": {},
   "source": [
    "O último dia não está incluso no treinamento por não possuir rótulo."
   ]
  },
  {
   "attachments": {},
   "cell_type": "markdown",
   "metadata": {},
   "source": [
    "Dimensões:\n",
    "* Medidas:\n",
    "  * Dia da semana\n",
    "  * Dia do ano\n",
    "  * Abertura\n",
    "  * Mínimo\n",
    "  * Máximo\n",
    "  * Fechamento\n",
    "  * Fechamento Ajustado\n",
    "  * Volume\n",
    "* tickers\n",
    "* Dias (atual e anteriores)"
   ]
  },
  {
   "attachments": {},
   "cell_type": "markdown",
   "metadata": {},
   "source": [
    "Há uma variável ajustável para determinar quantos dias serão olhados para trás."
   ]
  },
  {
   "attachments": {},
   "cell_type": "markdown",
   "metadata": {},
   "source": [
    "Um dicionário de rótulos, um rótulo para cada ticker, é atrelado a cada matriz."
   ]
  },
  {
   "attachments": {},
   "cell_type": "markdown",
   "metadata": {},
   "source": [
    "## Separação entre Treino, Teste e Validação."
   ]
  },
  {
   "attachments": {},
   "cell_type": "markdown",
   "metadata": {},
   "source": [
    "É preciso garantir que as matrizes sejam embaralhadas, mas que os rótulos permaneçam atrelados adequadamente."
   ]
  },
  {
   "attachments": {},
   "cell_type": "markdown",
   "metadata": {},
   "source": [
    "## Modelo"
   ]
  },
  {
   "attachments": {},
   "cell_type": "markdown",
   "metadata": {},
   "source": [
    "* Para cada ticker (a partir do dicionário de rótulos):  \n",
    "    * O modelo é treinado seguindo aquele ticker como rótulo (com uma função)  \n",
    "    * O modelo é validado  \n",
    "    * Se o modelo é válido:  \n",
    "        * A previsão é tentada:  \n",
    "        * Se o resultado é diferente de zero E a probabilidade é alta:  \n",
    "                * O deploy é salvo"
   ]
  }
 ],
 "metadata": {
  "kernelspec": {
   "display_name": "base",
   "language": "python",
   "name": "python3"
  },
  "language_info": {
   "codemirror_mode": {
    "name": "ipython",
    "version": 3
   },
   "file_extension": ".py",
   "mimetype": "text/x-python",
   "name": "python",
   "nbconvert_exporter": "python",
   "pygments_lexer": "ipython3",
   "version": "3.10.9"
  },
  "orig_nbformat": 4
 },
 "nbformat": 4,
 "nbformat_minor": 2
}
